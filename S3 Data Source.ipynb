{
 "cells": [
  {
   "cell_type": "code",
   "execution_count": 1,
   "metadata": {},
   "outputs": [],
   "source": [
    "import boto3\n",
    "from water_rights_visualizer.S3_source import S3Source"
   ]
  },
  {
   "cell_type": "code",
   "execution_count": 2,
   "metadata": {},
   "outputs": [],
   "source": [
    "bucket_name = \"jpl-nmw-dev-inputs\"\n",
    "temporary_directory = \"temp\""
   ]
  },
  {
   "cell_type": "code",
   "execution_count": 3,
   "metadata": {},
   "outputs": [
    {
     "name": "stdout",
     "output_type": "stream",
     "text": [
      "[2024-02-27 17:36:17 INFO] S3 temporary directory: /Users/halverso/Projects/Water-Rights-Visualizer/temp\n",
      "[2024-02-27 17:36:17 INFO] Found credentials in shared credentials file: ~/.aws/credentials\n"
     ]
    }
   ],
   "source": [
    "source = S3Source(\n",
    "    bucket_name=bucket_name,\n",
    "    temporary_directory=temporary_directory\n",
    ")"
   ]
  },
  {
   "cell_type": "code",
   "execution_count": 4,
   "metadata": {},
   "outputs": [
    {
     "name": "stdout",
     "output_type": "stream",
     "text": [
      "[2024-02-27 17:36:17 INFO] retrieving \u001b[34mLT05_CU_012013_19851204_20200421_C01_V01_ET.tif\u001b[0m from S3 bucket \u001b[33mjpl-nmw-dev-inputs\u001b[0m to file: \u001b[34m/Users/halverso/Projects/Water-Rights-Visualizer/temp/LT05_CU_012013_19851204_20200421_C01_V01_ET.tif\u001b[0m\n",
      "[2024-02-27 17:37:31 INFO] temporary file retrieved from S3 in \u001b[32m74.02791975\u001b[0m seconds: \u001b[34m/Users/halverso/Projects/Water-Rights-Visualizer/temp/LT05_CU_012013_19851204_20200421_C01_V01_ET.tif\u001b[0m\n",
      "/Users/halverso/Projects/Water-Rights-Visualizer/temp/LT05_CU_012013_19851204_20200421_C01_V01_ET.tif\n",
      "[2024-02-27 17:37:31 INFO] removing temporary file: /Users/halverso/Projects/Water-Rights-Visualizer/temp/LT05_CU_012013_19851204_20200421_C01_V01_ET.tif\n"
     ]
    }
   ],
   "source": [
    "tile = \"012013\"\n",
    "variable_name = \"ET\"\n",
    "acquisition_date = \"1985-12-04\"\n",
    "\n",
    "with source.get_filename(tile=tile, variable_name=variable_name, acquisition_date=acquisition_date) as filename:\n",
    "    print(filename)"
   ]
  },
  {
   "cell_type": "code",
   "execution_count": 5,
   "metadata": {},
   "outputs": [
    {
     "data": {
      "text/plain": [
       "s3.Bucket(name='jpl-nmw-dev-inputs')"
      ]
     },
     "execution_count": 5,
     "metadata": {},
     "output_type": "execute_result"
    }
   ],
   "source": [
    "source.bucket"
   ]
  },
  {
   "cell_type": "code",
   "execution_count": 6,
   "metadata": {},
   "outputs": [],
   "source": [
    "key = \"LT05_CU_012013_19851204_20200421_C01_V01_ET.tif\"\n",
    "filename = f\"temp/{key}\""
   ]
  },
  {
   "cell_type": "code",
   "execution_count": 7,
   "metadata": {},
   "outputs": [
    {
     "data": {
      "text/plain": [
       "s3.Object(bucket_name='jpl-nmw-dev-inputs', key='LT05_CU_012013_19851204_20200421_C01_V01_ET.tif')"
      ]
     },
     "execution_count": 7,
     "metadata": {},
     "output_type": "execute_result"
    }
   ],
   "source": [
    "obj = source.bucket.Object(key)\n",
    "obj"
   ]
  },
  {
   "cell_type": "code",
   "execution_count": 8,
   "metadata": {},
   "outputs": [],
   "source": [
    "obj.download_file(filename)"
   ]
  },
  {
   "cell_type": "code",
   "execution_count": 9,
   "metadata": {},
   "outputs": [
    {
     "data": {
      "text/plain": [
       "s3.Bucket(name='jpl-nmw-dev-inputs')"
      ]
     },
     "execution_count": 9,
     "metadata": {},
     "output_type": "execute_result"
    }
   ],
   "source": [
    "source.bucket"
   ]
  },
  {
   "cell_type": "code",
   "execution_count": 10,
   "metadata": {},
   "outputs": [
    {
     "data": {
      "text/plain": [
       "boto3.resources.factory.s3.Bucket"
      ]
     },
     "execution_count": 10,
     "metadata": {},
     "output_type": "execute_result"
    }
   ],
   "source": [
    "type(source.bucket)"
   ]
  },
  {
   "cell_type": "code",
   "execution_count": 11,
   "metadata": {},
   "outputs": [
    {
     "data": {
      "text/plain": [
       "s3.Bucket(name='jpl-nmw-dev-inputs')"
      ]
     },
     "execution_count": 11,
     "metadata": {},
     "output_type": "execute_result"
    }
   ],
   "source": [
    "bucket = boto3.resource(\"s3\", region_name=\"us-west-2\").Bucket(bucket_name)\n",
    "bucket"
   ]
  },
  {
   "cell_type": "code",
   "execution_count": 12,
   "metadata": {},
   "outputs": [],
   "source": [
    "source.bucket.Object(key).download_file(filename)"
   ]
  },
  {
   "cell_type": "code",
   "execution_count": null,
   "metadata": {},
   "outputs": [],
   "source": []
  }
 ],
 "metadata": {
  "kernelspec": {
   "display_name": "water_rights",
   "language": "python",
   "name": "python3"
  },
  "language_info": {
   "codemirror_mode": {
    "name": "ipython",
    "version": 3
   },
   "file_extension": ".py",
   "mimetype": "text/x-python",
   "name": "python",
   "nbconvert_exporter": "python",
   "pygments_lexer": "ipython3",
   "version": "3.9.18"
  }
 },
 "nbformat": 4,
 "nbformat_minor": 2
}
