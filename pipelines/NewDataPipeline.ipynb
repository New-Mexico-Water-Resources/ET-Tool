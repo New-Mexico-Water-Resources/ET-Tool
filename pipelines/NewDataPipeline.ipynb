{
 "cells": [
  {
   "cell_type": "code",
   "execution_count": 1,
   "metadata": {},
   "outputs": [
    {
     "name": "stderr",
     "output_type": "stream",
     "text": [
      "/opt/homebrew/anaconda3/envs/nmw-pipelines/lib/python3.10/site-packages/geemap/conversion.py:23: UserWarning: pkg_resources is deprecated as an API. See https://setuptools.pypa.io/en/latest/pkg_resources.html. The pkg_resources package is slated for removal as early as 2025-11-30. Refrain from using this package or pin to Setuptools<81.\n",
      "  import pkg_resources\n"
     ]
    }
   ],
   "source": [
    "%reload_ext autoreload\n",
    "%autoreload 2\n",
    "\n",
    "import sys\n",
    "import os\n",
    "from os.path import join\n",
    "sys.path.append(\"../\")\n",
    "\n",
    "from pipelines.gee.gee_aws_pipeline import GEEAWSDataPipeline\n",
    "from pipelines.prism.prism_aws_pipeline import PrismAWSDataPipeline\n",
    "from pipelines.gridmet.gridmet_pipeline import GridMETPipeline\n",
    "\n",
    "# Specify the path to the Google Drive client secret and key files\n",
    "# To generate, follow these instructions: https://docs.iterative.ai/PyDrive2/quickstart/\n",
    "current_dir = os.path.dirname(os.getcwd())\n",
    "secret_path = join(current_dir, \"pipelines/client_secret.json\")\n",
    "key_path = join(current_dir, \"pipelines/google_drive_key.txt\")"
   ]
  },
  {
   "cell_type": "code",
   "execution_count": 4,
   "metadata": {},
   "outputs": [
    {
     "data": {
      "text/html": [
       "\n",
       "            <style>\n",
       "                .geemap-dark {\n",
       "                    --jp-widgets-color: white;\n",
       "                    --jp-widgets-label-color: white;\n",
       "                    --jp-ui-font-color1: white;\n",
       "                    --jp-layout-color2: #454545;\n",
       "                    background-color: #383838;\n",
       "                }\n",
       "\n",
       "                .geemap-dark .jupyter-button {\n",
       "                    --jp-layout-color3: #383838;\n",
       "                }\n",
       "\n",
       "                .geemap-colab {\n",
       "                    background-color: var(--colab-primary-surface-color, white);\n",
       "                }\n",
       "\n",
       "                .geemap-colab .jupyter-button {\n",
       "                    --jp-layout-color3: var(--colab-primary-surface-color, white);\n",
       "                }\n",
       "            </style>\n",
       "            "
      ],
      "text/plain": [
       "<IPython.core.display.HTML object>"
      ]
     },
     "metadata": {},
     "output_type": "display_data"
    },
    {
     "data": {
      "text/html": [
       "<p>To authorize access needed by Earth Engine, open the following\n",
       "        URL in a web browser and follow the instructions:</p>\n",
       "        <p><a href=https://code.earthengine.google.com/client-auth?scopes=https%3A//www.googleapis.com/auth/earthengine%20https%3A//www.googleapis.com/auth/cloud-platform%20https%3A//www.googleapis.com/auth/drive%20https%3A//www.googleapis.com/auth/devstorage.full_control&request_id=VVRFhwScQpPov3r-SvRvz8bzmzefkyso5dxsJ8y53bw&tc=tILgZs9t5q2k0uinWBA_mLNonkTm6-mvMULmFvsTwkk&cc=2su4ZJfatttk5yd0F1YDyZscxpysBE60bzgpqf6d1X4>https://code.earthengine.google.com/client-auth?scopes=https%3A//www.googleapis.com/auth/earthengine%20https%3A//www.googleapis.com/auth/cloud-platform%20https%3A//www.googleapis.com/auth/drive%20https%3A//www.googleapis.com/auth/devstorage.full_control&request_id=VVRFhwScQpPov3r-SvRvz8bzmzefkyso5dxsJ8y53bw&tc=tILgZs9t5q2k0uinWBA_mLNonkTm6-mvMULmFvsTwkk&cc=2su4ZJfatttk5yd0F1YDyZscxpysBE60bzgpqf6d1X4</a></p>\n",
       "        <p>The authorization workflow will generate a code, which you should paste in the box below.</p>\n",
       "        "
      ],
      "text/plain": [
       "<IPython.core.display.HTML object>"
      ]
     },
     "metadata": {},
     "output_type": "display_data"
    },
    {
     "name": "stdout",
     "output_type": "stream",
     "text": [
      "\n",
      "Successfully saved authorization token.\n"
     ]
    }
   ],
   "source": [
    "import ee\n",
    "ee.Authenticate(force=True, auth_mode=\"notebook\")\n",
    "ee.Initialize(project=\"zippy-pad-465521-e2\")"
   ]
  },
  {
   "cell_type": "code",
   "execution_count": 5,
   "metadata": {},
   "outputs": [
    {
     "data": {
      "text/html": [
       "\n",
       "            <style>\n",
       "                .geemap-dark {\n",
       "                    --jp-widgets-color: white;\n",
       "                    --jp-widgets-label-color: white;\n",
       "                    --jp-ui-font-color1: white;\n",
       "                    --jp-layout-color2: #454545;\n",
       "                    background-color: #383838;\n",
       "                }\n",
       "\n",
       "                .geemap-dark .jupyter-button {\n",
       "                    --jp-layout-color3: #383838;\n",
       "                }\n",
       "\n",
       "                .geemap-colab {\n",
       "                    background-color: var(--colab-primary-surface-color, white);\n",
       "                }\n",
       "\n",
       "                .geemap-colab .jupyter-button {\n",
       "                    --jp-layout-color3: var(--colab-primary-surface-color, white);\n",
       "                }\n",
       "            </style>\n",
       "            "
      ],
      "text/plain": [
       "<IPython.core.display.HTML object>"
      ]
     },
     "metadata": {},
     "output_type": "display_data"
    },
    {
     "name": "stdout",
     "output_type": "stream",
     "text": [
      "[2025-07-15 08:57:39 INFO] loading credentials: /Users/rstonebr/Documents/Programming/Water-Rights-Visualizer/pipelines/google_drive_new_key.txt\n",
      "Your browser has been opened to visit:\n",
      "\n",
      "    https://accounts.google.com/o/oauth2/auth?client_id=411384710488-dmha70sff1hi5j9huejtv98bm5372q1h.apps.googleusercontent.com&redirect_uri=http%3A%2F%2Flocalhost%3A8080%2F&scope=https%3A%2F%2Fwww.googleapis.com%2Fauth%2Fdrive&access_type=offline&response_type=code&approval_prompt=force\n",
      "\n"
     ]
    },
    {
     "name": "stderr",
     "output_type": "stream",
     "text": [
      "/opt/homebrew/anaconda3/envs/nmw-pipelines/lib/python3.10/site-packages/oauth2client/_helpers.py:255: UserWarning: Cannot access /Users/rstonebr/Documents/Programming/Water-Rights-Visualizer/pipelines/google_drive_new_key.txt: No such file or directory\n",
      "  warnings.warn(_MISSING_FILE_MESSAGE.format(filename))\n"
     ]
    },
    {
     "name": "stdout",
     "output_type": "stream",
     "text": [
      "[2025-07-15 08:57:44 INFO] Successfully retrieved access token\n",
      "Authentication successful.\n",
      "[2025-07-15 08:57:44 INFO] saving credentials: /Users/rstonebr/Documents/Programming/Water-Rights-Visualizer/pipelines/google_drive_new_key.txt\n",
      "[2025-07-15 08:57:44 INFO] Found credentials in shared credentials file: ~/.aws/credentials\n"
     ]
    }
   ],
   "source": [
    "# Initialize the pipeline, configured for the OpenET ensemble product\n",
    "pipeline = GEEAWSDataPipeline(\n",
    "    bands=[\"et_ensemble_mad\", \"et_ensemble_mad_min\", \"et_ensemble_mad_max\"],\n",
    "    product=\"OpenET/ENSEMBLE/CONUS/GRIDMET/MONTHLY/v2_0\",\n",
    "    # For <2000 data, use:\n",
    "    # product=\"projects/openet/assets/ensemble/conus/gridmet/monthly/v2_0_pre2000\",\n",
    "    product_prefix=\"OPENET_ENSEMBLE\",\n",
    "    aws_bucket=\"ose-dev-inputs\",\n",
    "    aws_region=\"us-west-2\",\n",
    "    aws_profile=\"ose-nmw\",\n",
    "    gdrive_folder=\"OPENET_EXPORTS\",\n",
    "    temp_local_folder=\"temp_data\",\n",
    "    project=\"zippy-pad-465521-e2\",\n",
    "    gdrive_client_secrets_filename=secret_path,\n",
    "    gdrive_key_filename=key_path,\n",
    ")"
   ]
  },
  {
   "cell_type": "code",
   "execution_count": null,
   "metadata": {},
   "outputs": [
    {
     "data": {
      "text/html": [
       "\n",
       "            <style>\n",
       "                .geemap-dark {\n",
       "                    --jp-widgets-color: white;\n",
       "                    --jp-widgets-label-color: white;\n",
       "                    --jp-ui-font-color1: white;\n",
       "                    --jp-layout-color2: #454545;\n",
       "                    background-color: #383838;\n",
       "                }\n",
       "\n",
       "                .geemap-dark .jupyter-button {\n",
       "                    --jp-layout-color3: #383838;\n",
       "                }\n",
       "\n",
       "                .geemap-colab {\n",
       "                    background-color: var(--colab-primary-surface-color, white);\n",
       "                }\n",
       "\n",
       "                .geemap-colab .jupyter-button {\n",
       "                    --jp-layout-color3: var(--colab-primary-surface-color, white);\n",
       "                }\n",
       "            </style>\n",
       "            "
      ],
      "text/plain": [
       "<IPython.core.display.HTML object>"
      ]
     },
     "metadata": {},
     "output_type": "display_data"
    },
    {
     "data": {
      "application/vnd.jupyter.widget-view+json": {
       "model_id": "b0d2677e28e94ad28401b93d3274e944",
       "version_major": 2,
       "version_minor": 0
      },
      "text/plain": [
       "Processing bands:   0%|          | 0/3 [00:00<?, ?it/s]"
      ]
     },
     "metadata": {},
     "output_type": "display_data"
    },
    {
     "data": {
      "application/vnd.jupyter.widget-view+json": {
       "model_id": "4ed5c0060b1043e1b8e33175ea3dc7a8",
       "version_major": 2,
       "version_minor": 0
      },
      "text/plain": [
       "Processing tiles:   0%|          | 0/20 [00:00<?, ?it/s]"
      ]
     },
     "metadata": {},
     "output_type": "display_data"
    },
    {
     "name": "stdout",
     "output_type": "stream",
     "text": [
      "[2025-07-15 09:00:30 INFO] Added OPENET_ENSEMBLE_009011_20240101_20240102_ET to map\n"
     ]
    },
    {
     "data": {
      "application/vnd.jupyter.widget-view+json": {
       "model_id": "bdbaecbad4ce4024b50d4e7c17e8defc",
       "version_major": 2,
       "version_minor": 0
      },
      "text/plain": [
       "Processing tiles:   0%|          | 0/20 [00:00<?, ?it/s]"
      ]
     },
     "metadata": {},
     "output_type": "display_data"
    },
    {
     "name": "stdout",
     "output_type": "stream",
     "text": [
      "[2025-07-15 09:00:31 INFO] Added OPENET_ENSEMBLE_009011_20240101_20240102_ET_MIN to map\n"
     ]
    },
    {
     "data": {
      "application/vnd.jupyter.widget-view+json": {
       "model_id": "b7f9760537d94c5c87f16b8df5c11c0b",
       "version_major": 2,
       "version_minor": 0
      },
      "text/plain": [
       "Processing tiles:   0%|          | 0/20 [00:00<?, ?it/s]"
      ]
     },
     "metadata": {},
     "output_type": "display_data"
    },
    {
     "name": "stdout",
     "output_type": "stream",
     "text": [
      "[2025-07-15 09:00:32 INFO] Added OPENET_ENSEMBLE_009011_20240101_20240102_ET_MAX to map\n"
     ]
    },
    {
     "data": {
      "application/vnd.jupyter.widget-view+json": {
       "model_id": "ccc6a02e596a4a4dbd6afaee21df1a20",
       "version_major": 2,
       "version_minor": 0
      },
      "text/plain": [
       "Map(center=[0, 0], controls=(WidgetControl(options=['position', 'transparent_bg'], widget=SearchDataGUI(childr…"
      ]
     },
     "execution_count": 10,
     "metadata": {},
     "output_type": "execute_result"
    }
   ],
   "source": [
    "# Generate tiles for a single month (limit to 1 tile for testing)\n",
    "pipeline.generate_tiles_for_month(\"2024-01-01\", export=False, visualize=True, limit=1)"
   ]
  },
  {
   "cell_type": "code",
   "execution_count": 11,
   "metadata": {},
   "outputs": [
    {
     "data": {
      "text/html": [
       "\n",
       "            <style>\n",
       "                .geemap-dark {\n",
       "                    --jp-widgets-color: white;\n",
       "                    --jp-widgets-label-color: white;\n",
       "                    --jp-ui-font-color1: white;\n",
       "                    --jp-layout-color2: #454545;\n",
       "                    background-color: #383838;\n",
       "                }\n",
       "\n",
       "                .geemap-dark .jupyter-button {\n",
       "                    --jp-layout-color3: #383838;\n",
       "                }\n",
       "\n",
       "                .geemap-colab {\n",
       "                    background-color: var(--colab-primary-surface-color, white);\n",
       "                }\n",
       "\n",
       "                .geemap-colab .jupyter-button {\n",
       "                    --jp-layout-color3: var(--colab-primary-surface-color, white);\n",
       "                }\n",
       "            </style>\n",
       "            "
      ],
      "text/plain": [
       "<IPython.core.display.HTML object>"
      ]
     },
     "metadata": {},
     "output_type": "display_data"
    },
    {
     "data": {
      "application/vnd.jupyter.widget-view+json": {
       "model_id": "7cdea302221945bf8bffb321d73dda5a",
       "version_major": 2,
       "version_minor": 0
      },
      "text/plain": [
       "Processing bands:   0%|          | 0/3 [00:00<?, ?it/s]"
      ]
     },
     "metadata": {},
     "output_type": "display_data"
    },
    {
     "data": {
      "application/vnd.jupyter.widget-view+json": {
       "model_id": "40bd1dca83f54199b3f79121798ebd4c",
       "version_major": 2,
       "version_minor": 0
      },
      "text/plain": [
       "Processing tiles:   0%|          | 0/20 [00:00<?, ?it/s]"
      ]
     },
     "metadata": {},
     "output_type": "display_data"
    },
    {
     "name": "stdout",
     "output_type": "stream",
     "text": [
      "[2025-07-15 09:00:56 INFO] Started export for OPENET_ENSEMBLE_009011_20240101_20240102_ET\n",
      "[2025-07-15 09:00:56 INFO] Started export for OPENET_ENSEMBLE_009012_20240101_20240102_ET\n",
      "[2025-07-15 09:00:57 INFO] Started export for OPENET_ENSEMBLE_009013_20240101_20240102_ET\n",
      "[2025-07-15 09:00:58 INFO] Started export for OPENET_ENSEMBLE_009014_20240101_20240102_ET\n",
      "[2025-07-15 09:00:58 INFO] Started export for OPENET_ENSEMBLE_009015_20240101_20240102_ET\n",
      "[2025-07-15 09:00:59 INFO] Started export for OPENET_ENSEMBLE_010011_20240101_20240102_ET\n",
      "[2025-07-15 09:01:00 INFO] Started export for OPENET_ENSEMBLE_010012_20240101_20240102_ET\n",
      "[2025-07-15 09:01:00 INFO] Started export for OPENET_ENSEMBLE_010013_20240101_20240102_ET\n",
      "[2025-07-15 09:01:01 INFO] Started export for OPENET_ENSEMBLE_010014_20240101_20240102_ET\n",
      "[2025-07-15 09:01:02 INFO] Started export for OPENET_ENSEMBLE_010015_20240101_20240102_ET\n",
      "[2025-07-15 09:01:02 INFO] Started export for OPENET_ENSEMBLE_011011_20240101_20240102_ET\n",
      "[2025-07-15 09:01:03 INFO] Started export for OPENET_ENSEMBLE_011012_20240101_20240102_ET\n",
      "[2025-07-15 09:01:04 INFO] Started export for OPENET_ENSEMBLE_011013_20240101_20240102_ET\n",
      "[2025-07-15 09:01:05 INFO] Started export for OPENET_ENSEMBLE_011014_20240101_20240102_ET\n",
      "[2025-07-15 09:01:05 INFO] Started export for OPENET_ENSEMBLE_011015_20240101_20240102_ET\n",
      "[2025-07-15 09:01:06 INFO] Started export for OPENET_ENSEMBLE_012011_20240101_20240102_ET\n",
      "[2025-07-15 09:01:06 INFO] Started export for OPENET_ENSEMBLE_012012_20240101_20240102_ET\n",
      "[2025-07-15 09:01:07 INFO] Started export for OPENET_ENSEMBLE_012013_20240101_20240102_ET\n",
      "[2025-07-15 09:01:08 INFO] Started export for OPENET_ENSEMBLE_012014_20240101_20240102_ET\n",
      "[2025-07-15 09:01:09 INFO] Started export for OPENET_ENSEMBLE_012015_20240101_20240102_ET\n"
     ]
    },
    {
     "data": {
      "application/vnd.jupyter.widget-view+json": {
       "model_id": "243eec1599394fa6865dfe3e861db741",
       "version_major": 2,
       "version_minor": 0
      },
      "text/plain": [
       "Processing tiles:   0%|          | 0/20 [00:00<?, ?it/s]"
      ]
     },
     "metadata": {},
     "output_type": "display_data"
    },
    {
     "name": "stdout",
     "output_type": "stream",
     "text": [
      "[2025-07-15 09:01:09 INFO] Started export for OPENET_ENSEMBLE_009011_20240101_20240102_ET_MIN\n",
      "[2025-07-15 09:01:10 INFO] Started export for OPENET_ENSEMBLE_009012_20240101_20240102_ET_MIN\n",
      "[2025-07-15 09:01:11 INFO] Started export for OPENET_ENSEMBLE_009013_20240101_20240102_ET_MIN\n",
      "[2025-07-15 09:01:11 INFO] Started export for OPENET_ENSEMBLE_009014_20240101_20240102_ET_MIN\n",
      "[2025-07-15 09:01:12 INFO] Started export for OPENET_ENSEMBLE_009015_20240101_20240102_ET_MIN\n",
      "[2025-07-15 09:01:12 INFO] Started export for OPENET_ENSEMBLE_010011_20240101_20240102_ET_MIN\n",
      "[2025-07-15 09:01:13 INFO] Started export for OPENET_ENSEMBLE_010012_20240101_20240102_ET_MIN\n",
      "[2025-07-15 09:01:14 INFO] Started export for OPENET_ENSEMBLE_010013_20240101_20240102_ET_MIN\n",
      "[2025-07-15 09:01:15 INFO] Started export for OPENET_ENSEMBLE_010014_20240101_20240102_ET_MIN\n",
      "[2025-07-15 09:01:15 INFO] Started export for OPENET_ENSEMBLE_010015_20240101_20240102_ET_MIN\n",
      "[2025-07-15 09:01:15 INFO] Started export for OPENET_ENSEMBLE_011011_20240101_20240102_ET_MIN\n",
      "[2025-07-15 09:01:16 INFO] Started export for OPENET_ENSEMBLE_011012_20240101_20240102_ET_MIN\n",
      "[2025-07-15 09:01:17 INFO] Started export for OPENET_ENSEMBLE_011013_20240101_20240102_ET_MIN\n",
      "[2025-07-15 09:01:18 INFO] Started export for OPENET_ENSEMBLE_011014_20240101_20240102_ET_MIN\n",
      "[2025-07-15 09:01:19 INFO] Started export for OPENET_ENSEMBLE_011015_20240101_20240102_ET_MIN\n",
      "[2025-07-15 09:01:19 INFO] Started export for OPENET_ENSEMBLE_012011_20240101_20240102_ET_MIN\n",
      "[2025-07-15 09:01:19 INFO] Started export for OPENET_ENSEMBLE_012012_20240101_20240102_ET_MIN\n",
      "[2025-07-15 09:01:20 INFO] Started export for OPENET_ENSEMBLE_012013_20240101_20240102_ET_MIN\n",
      "[2025-07-15 09:01:20 INFO] Started export for OPENET_ENSEMBLE_012014_20240101_20240102_ET_MIN\n",
      "[2025-07-15 09:01:21 INFO] Started export for OPENET_ENSEMBLE_012015_20240101_20240102_ET_MIN\n"
     ]
    },
    {
     "data": {
      "application/vnd.jupyter.widget-view+json": {
       "model_id": "7855f4666f69442199f1bdf810106581",
       "version_major": 2,
       "version_minor": 0
      },
      "text/plain": [
       "Processing tiles:   0%|          | 0/20 [00:00<?, ?it/s]"
      ]
     },
     "metadata": {},
     "output_type": "display_data"
    },
    {
     "name": "stdout",
     "output_type": "stream",
     "text": [
      "[2025-07-15 09:01:22 INFO] Started export for OPENET_ENSEMBLE_009011_20240101_20240102_ET_MAX\n",
      "[2025-07-15 09:01:22 INFO] Started export for OPENET_ENSEMBLE_009012_20240101_20240102_ET_MAX\n",
      "[2025-07-15 09:01:23 INFO] Started export for OPENET_ENSEMBLE_009013_20240101_20240102_ET_MAX\n",
      "[2025-07-15 09:01:23 INFO] Started export for OPENET_ENSEMBLE_009014_20240101_20240102_ET_MAX\n",
      "[2025-07-15 09:01:23 INFO] Started export for OPENET_ENSEMBLE_009015_20240101_20240102_ET_MAX\n",
      "[2025-07-15 09:01:24 INFO] Started export for OPENET_ENSEMBLE_010011_20240101_20240102_ET_MAX\n",
      "[2025-07-15 09:01:25 INFO] Started export for OPENET_ENSEMBLE_010012_20240101_20240102_ET_MAX\n",
      "[2025-07-15 09:01:26 INFO] Started export for OPENET_ENSEMBLE_010013_20240101_20240102_ET_MAX\n",
      "[2025-07-15 09:01:26 INFO] Started export for OPENET_ENSEMBLE_010014_20240101_20240102_ET_MAX\n",
      "[2025-07-15 09:01:27 INFO] Started export for OPENET_ENSEMBLE_010015_20240101_20240102_ET_MAX\n",
      "[2025-07-15 09:01:27 INFO] Started export for OPENET_ENSEMBLE_011011_20240101_20240102_ET_MAX\n",
      "[2025-07-15 09:01:28 INFO] Started export for OPENET_ENSEMBLE_011012_20240101_20240102_ET_MAX\n",
      "[2025-07-15 09:01:28 INFO] Started export for OPENET_ENSEMBLE_011013_20240101_20240102_ET_MAX\n",
      "[2025-07-15 09:01:29 INFO] Started export for OPENET_ENSEMBLE_011014_20240101_20240102_ET_MAX\n",
      "[2025-07-15 09:01:29 INFO] Started export for OPENET_ENSEMBLE_011015_20240101_20240102_ET_MAX\n",
      "[2025-07-15 09:01:30 INFO] Started export for OPENET_ENSEMBLE_012011_20240101_20240102_ET_MAX\n",
      "[2025-07-15 09:01:31 INFO] Started export for OPENET_ENSEMBLE_012012_20240101_20240102_ET_MAX\n",
      "[2025-07-15 09:01:31 INFO] Started export for OPENET_ENSEMBLE_012013_20240101_20240102_ET_MAX\n",
      "[2025-07-15 09:01:32 INFO] Started export for OPENET_ENSEMBLE_012014_20240101_20240102_ET_MAX\n",
      "[2025-07-15 09:01:32 INFO] Started export for OPENET_ENSEMBLE_012015_20240101_20240102_ET_MAX\n"
     ]
    }
   ],
   "source": [
    "pipeline.generate_tiles_for_month(\"2024-01-01\", export=True)"
   ]
  },
  {
   "cell_type": "markdown",
   "metadata": {},
   "source": [
    "## Generate tiles for a date range\n",
    "```python\n",
    "pipeline.generate_tiles_for_date_range(\"2000-01-01\", \"2001-01-01\", export=False, visualize=True)\n",
    "```\n",
    "\n",
    "## Generate tiles for a list of dates\n",
    "```python\n",
    "pre_2008_dates = pipeline.generate_date_list(\"1985-01-01\", \"2008-01-01\")\n",
    "post_2024_dates = pipeline.generate_date_list(\"2024-01-01\", \"2025-01-01\")\n",
    "\n",
    "all_dates = pre_2008_dates + post_2024_dates\n",
    "pipeline.generate_tiles_for_date_list(all_dates, export=True)\n",
    "```\n",
    "---"
   ]
  },
  {
   "cell_type": "markdown",
   "metadata": {},
   "source": [
    "# Downloading data\n",
    "\n",
    "## Option 1: Manually download from Google Drive to local folder, then transfer to AWS\n",
    "---\n",
    "```python\n",
    "# Download all files from the configured Google Drive folder to local folder\n",
    "pipeline.download_all_from_gdrive()\n",
    "\n",
    "# List all files in the Google Drive folder\n",
    "pipeline.list_gdrive_files()\n",
    "\n",
    "# Download a single file from the configured Google Drive folder to local folder\n",
    "files = pipeline.list_gdrive_files()\n",
    "file = files[0]\n",
    "pipeline.download_from_gdrive(file_id=file[\"id\"], file_name=file[\"name\"])\n",
    "\n",
    "# Transfer all files from the local folder to the configured AWS bucket\n",
    "pipeline.upload_local_folder_to_aws()\n",
    "\n",
    "# Transfer a single file from the local folder to the configured AWS bucket\n",
    "pipeline.upload_to_aws(path=\"path/to/local/file.tif\")\n",
    "```\n",
    "\n",
    "## Option 2: Download from Google Drive and immediately transfer to AWS\n",
    "---\n",
    "```python\n",
    "# Download all files from the configured Google Drive folder to local folder. Optionally delete from Google Drive and local folder while processing.\n",
    "pipeline.transfer_gdrive_to_aws(delete_from_gdrive=False, delete_from_local=True)\n",
    "\n",
    "# Download a single file from the configured Google Drive folder to local folder. Optionally delete from Google Drive and local folder while processing.\n",
    "pipeline.transfer_gdrive_file_to_aws(file_id=\"1234567890\", file_name=\"example.tif\", delete_from_local=True)\n",
    "```"
   ]
  },
  {
   "cell_type": "code",
   "execution_count": null,
   "metadata": {},
   "outputs": [
    {
     "data": {
      "text/html": [
       "\n",
       "            <style>\n",
       "                .geemap-dark {\n",
       "                    --jp-widgets-color: white;\n",
       "                    --jp-widgets-label-color: white;\n",
       "                    --jp-ui-font-color1: white;\n",
       "                    --jp-layout-color2: #454545;\n",
       "                    background-color: #383838;\n",
       "                }\n",
       "\n",
       "                .geemap-dark .jupyter-button {\n",
       "                    --jp-layout-color3: #383838;\n",
       "                }\n",
       "\n",
       "                .geemap-colab {\n",
       "                    background-color: var(--colab-primary-surface-color, white);\n",
       "                }\n",
       "\n",
       "                .geemap-colab .jupyter-button {\n",
       "                    --jp-layout-color3: var(--colab-primary-surface-color, white);\n",
       "                }\n",
       "            </style>\n",
       "            "
      ],
      "text/plain": [
       "<IPython.core.display.HTML object>"
      ]
     },
     "metadata": {},
     "output_type": "display_data"
    },
    {
     "name": "stderr",
     "output_type": "stream",
     "text": [
      "Processing date: 2024-01-01:   0%|          | 0/1 [00:00<?, ?it/s]\n",
      "\u001b[A\n",
      "\u001b[A\n",
      "\u001b[A"
     ]
    },
    {
     "name": "stdout",
     "output_type": "stream",
     "text": [
      "[2025-06-24 14:06:17 INFO] Started export for OPENET_ENSEMBLE_009011_20240101_20240102_ET\n"
     ]
    },
    {
     "name": "stderr",
     "output_type": "stream",
     "text": [
      "\n",
      "\u001b[A\n",
      "\u001b[A\n",
      "\u001b[A"
     ]
    },
    {
     "name": "stdout",
     "output_type": "stream",
     "text": [
      "[2025-06-24 14:06:18 INFO] Started export for OPENET_ENSEMBLE_009012_20240101_20240102_ET\n"
     ]
    },
    {
     "name": "stderr",
     "output_type": "stream",
     "text": [
      "\n",
      "\u001b[A\n",
      "\u001b[A\n",
      "\u001b[A"
     ]
    },
    {
     "name": "stdout",
     "output_type": "stream",
     "text": [
      "[2025-06-24 14:06:18 INFO] Started export for OPENET_ENSEMBLE_009013_20240101_20240102_ET\n"
     ]
    },
    {
     "name": "stderr",
     "output_type": "stream",
     "text": [
      "\n",
      "\u001b[A\n",
      "\u001b[A\n",
      "\u001b[A"
     ]
    },
    {
     "name": "stdout",
     "output_type": "stream",
     "text": [
      "[2025-06-24 14:06:19 INFO] Started export for OPENET_ENSEMBLE_009014_20240101_20240102_ET\n"
     ]
    },
    {
     "name": "stderr",
     "output_type": "stream",
     "text": [
      "\n",
      "\u001b[A\n",
      "\u001b[A\n",
      "\u001b[A"
     ]
    },
    {
     "name": "stdout",
     "output_type": "stream",
     "text": [
      "[2025-06-24 14:06:19 INFO] Started export for OPENET_ENSEMBLE_009015_20240101_20240102_ET\n"
     ]
    },
    {
     "name": "stderr",
     "output_type": "stream",
     "text": [
      "\n",
      "\u001b[A\n",
      "\u001b[A\n",
      "\u001b[A"
     ]
    },
    {
     "name": "stdout",
     "output_type": "stream",
     "text": [
      "[2025-06-24 14:06:20 INFO] Started export for OPENET_ENSEMBLE_010011_20240101_20240102_ET\n"
     ]
    },
    {
     "name": "stderr",
     "output_type": "stream",
     "text": [
      "\n",
      "\u001b[A\n",
      "\u001b[A\n",
      "\u001b[A"
     ]
    },
    {
     "name": "stdout",
     "output_type": "stream",
     "text": [
      "[2025-06-24 14:06:21 INFO] Started export for OPENET_ENSEMBLE_010012_20240101_20240102_ET\n"
     ]
    },
    {
     "name": "stderr",
     "output_type": "stream",
     "text": [
      "\n",
      "\u001b[A\n",
      "\u001b[A\n",
      "\u001b[A"
     ]
    },
    {
     "name": "stdout",
     "output_type": "stream",
     "text": [
      "[2025-06-24 14:06:22 INFO] Started export for OPENET_ENSEMBLE_010013_20240101_20240102_ET\n"
     ]
    },
    {
     "name": "stderr",
     "output_type": "stream",
     "text": [
      "\n",
      "\u001b[A\n",
      "\u001b[A\n",
      "\u001b[A"
     ]
    },
    {
     "name": "stdout",
     "output_type": "stream",
     "text": [
      "[2025-06-24 14:06:22 INFO] Started export for OPENET_ENSEMBLE_010014_20240101_20240102_ET\n"
     ]
    },
    {
     "name": "stderr",
     "output_type": "stream",
     "text": [
      "\n",
      "\u001b[A\n",
      "\u001b[A\n",
      "\u001b[A"
     ]
    },
    {
     "name": "stdout",
     "output_type": "stream",
     "text": [
      "[2025-06-24 14:06:23 INFO] Started export for OPENET_ENSEMBLE_010015_20240101_20240102_ET\n"
     ]
    },
    {
     "name": "stderr",
     "output_type": "stream",
     "text": [
      "\n",
      "\u001b[A\n",
      "\u001b[A\n",
      "\u001b[A"
     ]
    },
    {
     "name": "stdout",
     "output_type": "stream",
     "text": [
      "[2025-06-24 14:06:24 INFO] Started export for OPENET_ENSEMBLE_011011_20240101_20240102_ET\n"
     ]
    },
    {
     "name": "stderr",
     "output_type": "stream",
     "text": [
      "\n",
      "\u001b[A\n",
      "\u001b[A\n",
      "\u001b[A"
     ]
    },
    {
     "name": "stdout",
     "output_type": "stream",
     "text": [
      "[2025-06-24 14:06:24 INFO] Started export for OPENET_ENSEMBLE_011012_20240101_20240102_ET\n"
     ]
    },
    {
     "name": "stderr",
     "output_type": "stream",
     "text": [
      "\n",
      "\u001b[A\n",
      "\u001b[A\n",
      "\u001b[A"
     ]
    },
    {
     "name": "stdout",
     "output_type": "stream",
     "text": [
      "[2025-06-24 14:06:25 INFO] Started export for OPENET_ENSEMBLE_011013_20240101_20240102_ET\n"
     ]
    },
    {
     "name": "stderr",
     "output_type": "stream",
     "text": [
      "\n",
      "\u001b[A\n",
      "\u001b[A\n",
      "\u001b[A"
     ]
    },
    {
     "name": "stdout",
     "output_type": "stream",
     "text": [
      "[2025-06-24 14:06:26 INFO] Started export for OPENET_ENSEMBLE_011014_20240101_20240102_ET\n"
     ]
    },
    {
     "name": "stderr",
     "output_type": "stream",
     "text": [
      "\n",
      "\u001b[A\n",
      "\u001b[A\n",
      "\u001b[A"
     ]
    },
    {
     "name": "stdout",
     "output_type": "stream",
     "text": [
      "[2025-06-24 14:06:26 INFO] Started export for OPENET_ENSEMBLE_011015_20240101_20240102_ET\n"
     ]
    },
    {
     "name": "stderr",
     "output_type": "stream",
     "text": [
      "\n",
      "\u001b[A\n",
      "\u001b[A\n",
      "\u001b[A"
     ]
    },
    {
     "name": "stdout",
     "output_type": "stream",
     "text": [
      "[2025-06-24 14:06:27 INFO] Started export for OPENET_ENSEMBLE_012011_20240101_20240102_ET\n"
     ]
    },
    {
     "name": "stderr",
     "output_type": "stream",
     "text": [
      "\n",
      "\u001b[A\n",
      "\u001b[A\n",
      "\u001b[A"
     ]
    },
    {
     "name": "stdout",
     "output_type": "stream",
     "text": [
      "[2025-06-24 14:06:28 INFO] Started export for OPENET_ENSEMBLE_012012_20240101_20240102_ET\n"
     ]
    },
    {
     "name": "stderr",
     "output_type": "stream",
     "text": [
      "\n",
      "\u001b[A\n",
      "\u001b[A\n",
      "\u001b[A"
     ]
    },
    {
     "name": "stdout",
     "output_type": "stream",
     "text": [
      "[2025-06-24 14:06:28 INFO] Started export for OPENET_ENSEMBLE_012013_20240101_20240102_ET\n"
     ]
    },
    {
     "name": "stderr",
     "output_type": "stream",
     "text": [
      "\n",
      "\u001b[A\n",
      "\u001b[A\n",
      "\u001b[A"
     ]
    },
    {
     "name": "stdout",
     "output_type": "stream",
     "text": [
      "[2025-06-24 14:06:29 INFO] Started export for OPENET_ENSEMBLE_012014_20240101_20240102_ET\n"
     ]
    },
    {
     "name": "stderr",
     "output_type": "stream",
     "text": [
      "\n",
      "\u001b[A\n",
      "\u001b[A\n",
      "\u001b[A"
     ]
    },
    {
     "name": "stdout",
     "output_type": "stream",
     "text": [
      "[2025-06-24 14:06:29 INFO] Started export for OPENET_ENSEMBLE_012015_20240101_20240102_ET\n"
     ]
    },
    {
     "name": "stderr",
     "output_type": "stream",
     "text": [
      "\n",
      "\u001b[A\n",
      "\u001b[A\n",
      "\u001b[A\n",
      "\u001b[A\n",
      "\u001b[A"
     ]
    },
    {
     "name": "stdout",
     "output_type": "stream",
     "text": [
      "[2025-06-24 14:06:30 INFO] Started export for OPENET_ENSEMBLE_009011_20240101_20240102_ET_MIN\n"
     ]
    },
    {
     "name": "stderr",
     "output_type": "stream",
     "text": [
      "\n",
      "\u001b[A\n",
      "\u001b[A\n",
      "\u001b[A"
     ]
    },
    {
     "name": "stdout",
     "output_type": "stream",
     "text": [
      "[2025-06-24 14:06:31 INFO] Started export for OPENET_ENSEMBLE_009012_20240101_20240102_ET_MIN\n"
     ]
    },
    {
     "name": "stderr",
     "output_type": "stream",
     "text": [
      "\n",
      "\u001b[A\n",
      "\u001b[A\n",
      "\u001b[A"
     ]
    },
    {
     "name": "stdout",
     "output_type": "stream",
     "text": [
      "[2025-06-24 14:06:31 INFO] Started export for OPENET_ENSEMBLE_009013_20240101_20240102_ET_MIN\n"
     ]
    },
    {
     "name": "stderr",
     "output_type": "stream",
     "text": [
      "\n",
      "\u001b[A\n",
      "\u001b[A\n",
      "\u001b[A"
     ]
    },
    {
     "name": "stdout",
     "output_type": "stream",
     "text": [
      "[2025-06-24 14:06:32 INFO] Started export for OPENET_ENSEMBLE_009014_20240101_20240102_ET_MIN\n"
     ]
    },
    {
     "name": "stderr",
     "output_type": "stream",
     "text": [
      "\n",
      "\u001b[A\n",
      "\u001b[A\n",
      "\u001b[A"
     ]
    },
    {
     "name": "stdout",
     "output_type": "stream",
     "text": [
      "[2025-06-24 14:06:32 INFO] Started export for OPENET_ENSEMBLE_009015_20240101_20240102_ET_MIN\n"
     ]
    },
    {
     "name": "stderr",
     "output_type": "stream",
     "text": [
      "\n",
      "\u001b[A\n",
      "\u001b[A\n",
      "\u001b[A"
     ]
    },
    {
     "name": "stdout",
     "output_type": "stream",
     "text": [
      "[2025-06-24 14:06:33 INFO] Started export for OPENET_ENSEMBLE_010011_20240101_20240102_ET_MIN\n"
     ]
    },
    {
     "name": "stderr",
     "output_type": "stream",
     "text": [
      "\n",
      "\u001b[A\n",
      "\u001b[A\n",
      "\u001b[A"
     ]
    },
    {
     "name": "stdout",
     "output_type": "stream",
     "text": [
      "[2025-06-24 14:06:34 INFO] Started export for OPENET_ENSEMBLE_010012_20240101_20240102_ET_MIN\n"
     ]
    },
    {
     "name": "stderr",
     "output_type": "stream",
     "text": [
      "\n",
      "\u001b[A\n",
      "\u001b[A\n",
      "\u001b[A"
     ]
    },
    {
     "name": "stdout",
     "output_type": "stream",
     "text": [
      "[2025-06-24 14:06:34 INFO] Started export for OPENET_ENSEMBLE_010013_20240101_20240102_ET_MIN\n"
     ]
    },
    {
     "name": "stderr",
     "output_type": "stream",
     "text": [
      "\n",
      "\u001b[A\n",
      "\u001b[A\n",
      "\u001b[A"
     ]
    },
    {
     "name": "stdout",
     "output_type": "stream",
     "text": [
      "[2025-06-24 14:06:35 INFO] Started export for OPENET_ENSEMBLE_010014_20240101_20240102_ET_MIN\n"
     ]
    },
    {
     "name": "stderr",
     "output_type": "stream",
     "text": [
      "\n",
      "\u001b[A\n",
      "\u001b[A\n",
      "\u001b[A"
     ]
    },
    {
     "name": "stdout",
     "output_type": "stream",
     "text": [
      "[2025-06-24 14:06:35 INFO] Started export for OPENET_ENSEMBLE_010015_20240101_20240102_ET_MIN\n"
     ]
    },
    {
     "name": "stderr",
     "output_type": "stream",
     "text": [
      "\n",
      "\u001b[A\n",
      "\u001b[A\n",
      "\u001b[A"
     ]
    },
    {
     "name": "stdout",
     "output_type": "stream",
     "text": [
      "[2025-06-24 14:06:36 INFO] Started export for OPENET_ENSEMBLE_011011_20240101_20240102_ET_MIN\n"
     ]
    },
    {
     "name": "stderr",
     "output_type": "stream",
     "text": [
      "\n",
      "\u001b[A\n",
      "\u001b[A\n",
      "\u001b[A"
     ]
    },
    {
     "name": "stdout",
     "output_type": "stream",
     "text": [
      "[2025-06-24 14:06:36 INFO] Started export for OPENET_ENSEMBLE_011012_20240101_20240102_ET_MIN\n"
     ]
    },
    {
     "name": "stderr",
     "output_type": "stream",
     "text": [
      "\n",
      "\u001b[A\n",
      "\u001b[A\n",
      "\u001b[A"
     ]
    },
    {
     "name": "stdout",
     "output_type": "stream",
     "text": [
      "[2025-06-24 14:06:37 INFO] Started export for OPENET_ENSEMBLE_011013_20240101_20240102_ET_MIN\n"
     ]
    },
    {
     "name": "stderr",
     "output_type": "stream",
     "text": [
      "\n",
      "\u001b[A\n",
      "\u001b[A\n",
      "\u001b[A"
     ]
    },
    {
     "name": "stdout",
     "output_type": "stream",
     "text": [
      "[2025-06-24 14:06:37 INFO] Started export for OPENET_ENSEMBLE_011014_20240101_20240102_ET_MIN\n"
     ]
    },
    {
     "name": "stderr",
     "output_type": "stream",
     "text": [
      "\n",
      "\u001b[A\n",
      "\u001b[A\n",
      "\u001b[A"
     ]
    },
    {
     "name": "stdout",
     "output_type": "stream",
     "text": [
      "[2025-06-24 14:06:38 INFO] Started export for OPENET_ENSEMBLE_011015_20240101_20240102_ET_MIN\n"
     ]
    },
    {
     "name": "stderr",
     "output_type": "stream",
     "text": [
      "\n",
      "\u001b[A\n",
      "\u001b[A\n",
      "\u001b[A"
     ]
    },
    {
     "name": "stdout",
     "output_type": "stream",
     "text": [
      "[2025-06-24 14:06:38 INFO] Started export for OPENET_ENSEMBLE_012011_20240101_20240102_ET_MIN\n"
     ]
    },
    {
     "name": "stderr",
     "output_type": "stream",
     "text": [
      "\n",
      "\u001b[A\n",
      "\u001b[A\n",
      "\u001b[A"
     ]
    },
    {
     "name": "stdout",
     "output_type": "stream",
     "text": [
      "[2025-06-24 14:06:39 INFO] Started export for OPENET_ENSEMBLE_012012_20240101_20240102_ET_MIN\n"
     ]
    },
    {
     "name": "stderr",
     "output_type": "stream",
     "text": [
      "\n",
      "\u001b[A\n",
      "\u001b[A\n",
      "\u001b[A"
     ]
    },
    {
     "name": "stdout",
     "output_type": "stream",
     "text": [
      "[2025-06-24 14:06:39 INFO] Started export for OPENET_ENSEMBLE_012013_20240101_20240102_ET_MIN\n"
     ]
    },
    {
     "name": "stderr",
     "output_type": "stream",
     "text": [
      "\n",
      "\u001b[A\n",
      "\u001b[A\n",
      "\u001b[A"
     ]
    },
    {
     "name": "stdout",
     "output_type": "stream",
     "text": [
      "[2025-06-24 14:06:40 INFO] Started export for OPENET_ENSEMBLE_012014_20240101_20240102_ET_MIN\n"
     ]
    },
    {
     "name": "stderr",
     "output_type": "stream",
     "text": [
      "\n",
      "\u001b[A\n",
      "\u001b[A\n",
      "\u001b[A"
     ]
    },
    {
     "name": "stdout",
     "output_type": "stream",
     "text": [
      "[2025-06-24 14:06:40 INFO] Started export for OPENET_ENSEMBLE_012015_20240101_20240102_ET_MIN\n"
     ]
    },
    {
     "name": "stderr",
     "output_type": "stream",
     "text": [
      "\n",
      "\u001b[A\n",
      "\u001b[A\n",
      "\u001b[A\n",
      "\u001b[A\n",
      "\u001b[A"
     ]
    },
    {
     "name": "stdout",
     "output_type": "stream",
     "text": [
      "[2025-06-24 14:06:41 INFO] Started export for OPENET_ENSEMBLE_009011_20240101_20240102_ET_MAX\n"
     ]
    },
    {
     "name": "stderr",
     "output_type": "stream",
     "text": [
      "\n",
      "\u001b[A\n",
      "\u001b[A\n",
      "\u001b[A"
     ]
    },
    {
     "name": "stdout",
     "output_type": "stream",
     "text": [
      "[2025-06-24 14:06:42 INFO] Started export for OPENET_ENSEMBLE_009012_20240101_20240102_ET_MAX\n"
     ]
    },
    {
     "name": "stderr",
     "output_type": "stream",
     "text": [
      "\n",
      "\u001b[A\n",
      "\u001b[A\n",
      "\u001b[A"
     ]
    },
    {
     "name": "stdout",
     "output_type": "stream",
     "text": [
      "[2025-06-24 14:06:43 INFO] Started export for OPENET_ENSEMBLE_009013_20240101_20240102_ET_MAX\n"
     ]
    },
    {
     "name": "stderr",
     "output_type": "stream",
     "text": [
      "\n",
      "\u001b[A\n",
      "\u001b[A\n",
      "\u001b[A"
     ]
    },
    {
     "name": "stdout",
     "output_type": "stream",
     "text": [
      "[2025-06-24 14:06:43 INFO] Started export for OPENET_ENSEMBLE_009014_20240101_20240102_ET_MAX\n"
     ]
    },
    {
     "name": "stderr",
     "output_type": "stream",
     "text": [
      "\n",
      "\u001b[A\n",
      "\u001b[A\n",
      "\u001b[A"
     ]
    },
    {
     "name": "stdout",
     "output_type": "stream",
     "text": [
      "[2025-06-24 14:06:44 INFO] Started export for OPENET_ENSEMBLE_009015_20240101_20240102_ET_MAX\n"
     ]
    },
    {
     "name": "stderr",
     "output_type": "stream",
     "text": [
      "\n",
      "\u001b[A\n",
      "\u001b[A\n",
      "\u001b[A"
     ]
    },
    {
     "name": "stdout",
     "output_type": "stream",
     "text": [
      "[2025-06-24 14:06:44 INFO] Started export for OPENET_ENSEMBLE_010011_20240101_20240102_ET_MAX\n"
     ]
    },
    {
     "name": "stderr",
     "output_type": "stream",
     "text": [
      "\n",
      "\u001b[A\n",
      "\u001b[A\n",
      "\u001b[A"
     ]
    },
    {
     "name": "stdout",
     "output_type": "stream",
     "text": [
      "[2025-06-24 14:06:45 INFO] Started export for OPENET_ENSEMBLE_010012_20240101_20240102_ET_MAX\n"
     ]
    },
    {
     "name": "stderr",
     "output_type": "stream",
     "text": [
      "\n",
      "\u001b[A\n",
      "\u001b[A\n",
      "\u001b[A"
     ]
    },
    {
     "name": "stdout",
     "output_type": "stream",
     "text": [
      "[2025-06-24 14:06:45 INFO] Started export for OPENET_ENSEMBLE_010013_20240101_20240102_ET_MAX\n"
     ]
    },
    {
     "name": "stderr",
     "output_type": "stream",
     "text": [
      "\n",
      "\u001b[A\n",
      "\u001b[A\n",
      "\u001b[A"
     ]
    },
    {
     "name": "stdout",
     "output_type": "stream",
     "text": [
      "[2025-06-24 14:06:45 INFO] Started export for OPENET_ENSEMBLE_010014_20240101_20240102_ET_MAX\n"
     ]
    },
    {
     "name": "stderr",
     "output_type": "stream",
     "text": [
      "\n",
      "\u001b[A\n",
      "\u001b[A\n",
      "\u001b[A"
     ]
    },
    {
     "name": "stdout",
     "output_type": "stream",
     "text": [
      "[2025-06-24 14:06:46 INFO] Started export for OPENET_ENSEMBLE_010015_20240101_20240102_ET_MAX\n"
     ]
    },
    {
     "name": "stderr",
     "output_type": "stream",
     "text": [
      "\n",
      "\u001b[A\n",
      "\u001b[A\n",
      "\u001b[A"
     ]
    },
    {
     "name": "stdout",
     "output_type": "stream",
     "text": [
      "[2025-06-24 14:06:46 INFO] Started export for OPENET_ENSEMBLE_011011_20240101_20240102_ET_MAX\n"
     ]
    },
    {
     "name": "stderr",
     "output_type": "stream",
     "text": [
      "\n",
      "\u001b[A\n",
      "\u001b[A\n",
      "\u001b[A"
     ]
    },
    {
     "name": "stdout",
     "output_type": "stream",
     "text": [
      "[2025-06-24 14:06:47 INFO] Started export for OPENET_ENSEMBLE_011012_20240101_20240102_ET_MAX\n"
     ]
    },
    {
     "name": "stderr",
     "output_type": "stream",
     "text": [
      "\n",
      "\u001b[A\n",
      "\u001b[A\n",
      "\u001b[A"
     ]
    },
    {
     "name": "stdout",
     "output_type": "stream",
     "text": [
      "[2025-06-24 14:06:47 INFO] Started export for OPENET_ENSEMBLE_011013_20240101_20240102_ET_MAX\n"
     ]
    },
    {
     "name": "stderr",
     "output_type": "stream",
     "text": [
      "\n",
      "\u001b[A\n",
      "\u001b[A\n",
      "\u001b[A"
     ]
    },
    {
     "name": "stdout",
     "output_type": "stream",
     "text": [
      "[2025-06-24 14:06:48 INFO] Started export for OPENET_ENSEMBLE_011014_20240101_20240102_ET_MAX\n"
     ]
    },
    {
     "name": "stderr",
     "output_type": "stream",
     "text": [
      "\n",
      "\u001b[A\n",
      "\u001b[A\n",
      "\u001b[A"
     ]
    },
    {
     "name": "stdout",
     "output_type": "stream",
     "text": [
      "[2025-06-24 14:06:48 INFO] Started export for OPENET_ENSEMBLE_011015_20240101_20240102_ET_MAX\n"
     ]
    },
    {
     "name": "stderr",
     "output_type": "stream",
     "text": [
      "\n",
      "\u001b[A\n",
      "\u001b[A\n",
      "\u001b[A"
     ]
    },
    {
     "name": "stdout",
     "output_type": "stream",
     "text": [
      "[2025-06-24 14:06:49 INFO] Started export for OPENET_ENSEMBLE_012011_20240101_20240102_ET_MAX\n"
     ]
    },
    {
     "name": "stderr",
     "output_type": "stream",
     "text": [
      "\n",
      "\u001b[A\n",
      "\u001b[A\n",
      "\u001b[A"
     ]
    },
    {
     "name": "stdout",
     "output_type": "stream",
     "text": [
      "[2025-06-24 14:06:49 INFO] Started export for OPENET_ENSEMBLE_012012_20240101_20240102_ET_MAX\n"
     ]
    },
    {
     "name": "stderr",
     "output_type": "stream",
     "text": [
      "\n",
      "\u001b[A\n",
      "\u001b[A\n",
      "\u001b[A"
     ]
    },
    {
     "name": "stdout",
     "output_type": "stream",
     "text": [
      "[2025-06-24 14:06:50 INFO] Started export for OPENET_ENSEMBLE_012013_20240101_20240102_ET_MAX\n"
     ]
    },
    {
     "name": "stderr",
     "output_type": "stream",
     "text": [
      "\n",
      "\u001b[A\n",
      "\u001b[A\n",
      "\u001b[A"
     ]
    },
    {
     "name": "stdout",
     "output_type": "stream",
     "text": [
      "[2025-06-24 14:06:50 INFO] Started export for OPENET_ENSEMBLE_012014_20240101_20240102_ET_MAX\n"
     ]
    },
    {
     "name": "stderr",
     "output_type": "stream",
     "text": [
      "\n",
      "\u001b[A\n",
      "\u001b[A\n",
      "\u001b[A"
     ]
    },
    {
     "name": "stdout",
     "output_type": "stream",
     "text": [
      "[2025-06-24 14:06:51 INFO] Started export for OPENET_ENSEMBLE_012015_20240101_20240102_ET_MAX\n"
     ]
    },
    {
     "name": "stderr",
     "output_type": "stream",
     "text": [
      "\n",
      "\u001b[A\n",
      "                                                                          \r"
     ]
    }
   ],
   "source": [
    "pipeline.generate_tiles_for_date_range(\"2024-01-01\", \"2024-02-01\")"
   ]
  },
  {
   "cell_type": "code",
   "execution_count": null,
   "metadata": {},
   "outputs": [],
   "source": [
    "pipeline.transfer_gdrive_to_aws(delete_from_local=True)"
   ]
  },
  {
   "cell_type": "code",
   "execution_count": null,
   "metadata": {},
   "outputs": [
    {
     "data": {
      "text/html": [
       "\n",
       "            <style>\n",
       "                .geemap-dark {\n",
       "                    --jp-widgets-color: white;\n",
       "                    --jp-widgets-label-color: white;\n",
       "                    --jp-ui-font-color1: white;\n",
       "                    --jp-layout-color2: #454545;\n",
       "                    background-color: #383838;\n",
       "                }\n",
       "\n",
       "                .geemap-dark .jupyter-button {\n",
       "                    --jp-layout-color3: #383838;\n",
       "                }\n",
       "\n",
       "                .geemap-colab {\n",
       "                    background-color: var(--colab-primary-surface-color, white);\n",
       "                }\n",
       "\n",
       "                .geemap-colab .jupyter-button {\n",
       "                    --jp-layout-color3: var(--colab-primary-surface-color, white);\n",
       "                }\n",
       "            </style>\n",
       "            "
      ],
      "text/plain": [
       "<IPython.core.display.HTML object>"
      ]
     },
     "metadata": {},
     "output_type": "display_data"
    },
    {
     "name": "stdout",
     "output_type": "stream",
     "text": [
      "[2025-07-15 08:59:31 INFO] loading credentials: /Users/rstonebr/Documents/Programming/Water-Rights-Visualizer/pipelines/google_drive_new_key.txt\n",
      "Your browser has been opened to visit:\n",
      "\n",
      "    https://accounts.google.com/o/oauth2/auth?client_id=411384710488-dmha70sff1hi5j9huejtv98bm5372q1h.apps.googleusercontent.com&redirect_uri=http%3A%2F%2Flocalhost%3A8080%2F&scope=https%3A%2F%2Fwww.googleapis.com%2Fauth%2Fdrive&access_type=offline&response_type=code&approval_prompt=force\n",
      "\n",
      "[2025-07-15 08:59:35 INFO] Successfully retrieved access token\n",
      "Authentication successful.\n",
      "[2025-07-15 08:59:35 INFO] saving credentials: /Users/rstonebr/Documents/Programming/Water-Rights-Visualizer/pipelines/google_drive_new_key.txt\n",
      "[2025-07-15 08:59:35 INFO] Found credentials in shared credentials file: ~/.aws/credentials\n"
     ]
    }
   ],
   "source": [
    "# GRIDMET Data Pipeline\n",
    "gridmet_pipeline = GEEAWSDataPipeline(\n",
    "    bands=[\"eto\"],\n",
    "    product=\"IDAHO_EPSCOR/GRIDMET\",\n",
    "    product_prefix=\"IDAHO_EPSCOR_GRIDMET\",\n",
    "    tile_ids=[],\n",
    "    aws_bucket=\"ose-dev-inputs\",\n",
    "    aws_region=\"us-west-2\",\n",
    "    aws_profile=\"ose-nmw\",\n",
    "    gdrive_folder=\"OPENET_EXPORTS\",\n",
    "    temp_local_folder=\"temp_data\",\n",
    "    project=\"zippy-pad-465521-e2\",\n",
    "    gdrive_client_secrets_filename=secret_path,\n",
    "    gdrive_key_filename=key_path,\n",
    "    monthly_sum=True,\n",
    ")"
   ]
  },
  {
   "cell_type": "code",
   "execution_count": 9,
   "metadata": {},
   "outputs": [
    {
     "data": {
      "text/html": [
       "\n",
       "            <style>\n",
       "                .geemap-dark {\n",
       "                    --jp-widgets-color: white;\n",
       "                    --jp-widgets-label-color: white;\n",
       "                    --jp-ui-font-color1: white;\n",
       "                    --jp-layout-color2: #454545;\n",
       "                    background-color: #383838;\n",
       "                }\n",
       "\n",
       "                .geemap-dark .jupyter-button {\n",
       "                    --jp-layout-color3: #383838;\n",
       "                }\n",
       "\n",
       "                .geemap-colab {\n",
       "                    background-color: var(--colab-primary-surface-color, white);\n",
       "                }\n",
       "\n",
       "                .geemap-colab .jupyter-button {\n",
       "                    --jp-layout-color3: var(--colab-primary-surface-color, white);\n",
       "                }\n",
       "            </style>\n",
       "            "
      ],
      "text/plain": [
       "<IPython.core.display.HTML object>"
      ]
     },
     "metadata": {},
     "output_type": "display_data"
    },
    {
     "data": {
      "application/vnd.jupyter.widget-view+json": {
       "model_id": "bb3705dea5ca4c69b21136453fcdfcdd",
       "version_major": 2,
       "version_minor": 0
      },
      "text/plain": [
       "Processing bands:   0%|          | 0/1 [00:00<?, ?it/s]"
      ]
     },
     "metadata": {},
     "output_type": "display_data"
    },
    {
     "name": "stdout",
     "output_type": "stream",
     "text": [
      "[2025-07-15 08:59:42 INFO] Summing up 31 images in the collection for the month: 2024-01-01\n"
     ]
    },
    {
     "data": {
      "application/vnd.jupyter.widget-view+json": {
       "model_id": "0065f93c15434c1ea33119a8ad62c003",
       "version_major": 2,
       "version_minor": 0
      },
      "text/plain": [
       "Processing tiles:   0%|          | 0/20 [00:00<?, ?it/s]"
      ]
     },
     "metadata": {},
     "output_type": "display_data"
    },
    {
     "name": "stdout",
     "output_type": "stream",
     "text": [
      "[2025-07-15 08:59:43 INFO] Added IDAHO_EPSCOR_GRIDMET_009011_20240101_20240102_ETO to map\n",
      "[2025-07-15 08:59:44 INFO] Added IDAHO_EPSCOR_GRIDMET_009012_20240101_20240102_ETO to map\n"
     ]
    },
    {
     "data": {
      "application/vnd.jupyter.widget-view+json": {
       "model_id": "91746fc9762b47f0a28b2c2e070e8b29",
       "version_major": 2,
       "version_minor": 0
      },
      "text/plain": [
       "Map(center=[0, 0], controls=(WidgetControl(options=['position', 'transparent_bg'], widget=SearchDataGUI(childr…"
      ]
     },
     "execution_count": 9,
     "metadata": {},
     "output_type": "execute_result"
    }
   ],
   "source": [
    "gridmet_pipeline.generate_tiles_for_month(\"2024-01-01\", export=False, visualize=True, limit=2)"
   ]
  },
  {
   "cell_type": "markdown",
   "metadata": {},
   "source": [
    "## Download PRISM data"
   ]
  },
  {
   "cell_type": "code",
   "execution_count": 16,
   "metadata": {},
   "outputs": [
    {
     "data": {
      "text/html": [
       "\n",
       "            <style>\n",
       "                .geemap-dark {\n",
       "                    --jp-widgets-color: white;\n",
       "                    --jp-widgets-label-color: white;\n",
       "                    --jp-ui-font-color1: white;\n",
       "                    --jp-layout-color2: #454545;\n",
       "                    background-color: #383838;\n",
       "                }\n",
       "\n",
       "                .geemap-dark .jupyter-button {\n",
       "                    --jp-layout-color3: #383838;\n",
       "                }\n",
       "\n",
       "                .geemap-colab {\n",
       "                    background-color: var(--colab-primary-surface-color, white);\n",
       "                }\n",
       "\n",
       "                .geemap-colab .jupyter-button {\n",
       "                    --jp-layout-color3: var(--colab-primary-surface-color, white);\n",
       "                }\n",
       "            </style>\n",
       "            "
      ],
      "text/plain": [
       "<IPython.core.display.HTML object>"
      ]
     },
     "metadata": {},
     "output_type": "display_data"
    },
    {
     "name": "stdout",
     "output_type": "stream",
     "text": [
      "[2025-06-25 15:05:16 INFO] Found credentials in shared credentials file: ~/.aws/credentials\n"
     ]
    }
   ],
   "source": [
    "prism_pipeline = PrismAWSDataPipeline(\n",
    "    aws_bucket=\"ose-dev-inputs\",\n",
    "    aws_region=\"us-west-2\",\n",
    "    aws_profile=\"ose-nmw\",\n",
    "    raw_dir=\"prism_data\",\n",
    "    monthly_dir=\"prism_data_monthly\",\n",
    "    output_dir=\"prism_tiles\",\n",
    "    allow_provisional=True,\n",
    ")"
   ]
  },
  {
   "cell_type": "code",
   "execution_count": 18,
   "metadata": {},
   "outputs": [
    {
     "data": {
      "text/html": [
       "\n",
       "            <style>\n",
       "                .geemap-dark {\n",
       "                    --jp-widgets-color: white;\n",
       "                    --jp-widgets-label-color: white;\n",
       "                    --jp-ui-font-color1: white;\n",
       "                    --jp-layout-color2: #454545;\n",
       "                    background-color: #383838;\n",
       "                }\n",
       "\n",
       "                .geemap-dark .jupyter-button {\n",
       "                    --jp-layout-color3: #383838;\n",
       "                }\n",
       "\n",
       "                .geemap-colab {\n",
       "                    background-color: var(--colab-primary-surface-color, white);\n",
       "                }\n",
       "\n",
       "                .geemap-colab .jupyter-button {\n",
       "                    --jp-layout-color3: var(--colab-primary-surface-color, white);\n",
       "                }\n",
       "            </style>\n",
       "            "
      ],
      "text/plain": [
       "<IPython.core.display.HTML object>"
      ]
     },
     "metadata": {},
     "output_type": "display_data"
    },
    {
     "name": "stdout",
     "output_type": "stream",
     "text": [
      "[2025-06-25 15:06:59 INFO] Downloading PRISM_ppt_stable_4kmM3_2024_all_bil.zip...\n"
     ]
    },
    {
     "name": "stderr",
     "output_type": "stream",
     "text": [
      "Downloading PRISM_ppt_stable_4kmM3_202401_bil.zip: 100%|██████████| 2.06M/2.06M [00:00<00:00, 8.73MB/s]"
     ]
    },
    {
     "name": "stdout",
     "output_type": "stream",
     "text": [
      "[2025-06-25 15:06:59 INFO] Extracted PRISM_ppt_stable_4kmM3_202401_bil.bil to prism_data/2024/202401\n",
      "[2025-06-25 15:06:59 INFO] Extracted PRISM_ppt_stable_4kmM3_202401_bil.hdr to prism_data/2024/202401\n"
     ]
    },
    {
     "name": "stderr",
     "output_type": "stream",
     "text": [
      "\n",
      "Downloading PRISM_ppt_stable_4kmM3_202402_bil.zip: 100%|██████████| 2.12M/2.12M [00:00<00:00, 7.24MB/s]\n"
     ]
    },
    {
     "name": "stdout",
     "output_type": "stream",
     "text": [
      "[2025-06-25 15:07:00 INFO] Extracted PRISM_ppt_stable_4kmM3_202402_bil.bil to prism_data/2024/202402\n",
      "[2025-06-25 15:07:00 INFO] Extracted PRISM_ppt_stable_4kmM3_202402_bil.hdr to prism_data/2024/202402\n"
     ]
    },
    {
     "name": "stderr",
     "output_type": "stream",
     "text": [
      "Downloading PRISM_ppt_stable_4kmM3_202403_bil.zip: 100%|██████████| 2.13M/2.13M [00:00<00:00, 3.64MB/s]"
     ]
    },
    {
     "name": "stdout",
     "output_type": "stream",
     "text": [
      "[2025-06-25 15:07:01 INFO] Extracted PRISM_ppt_stable_4kmM3_202403_bil.bil to prism_data/2024/202403\n",
      "[2025-06-25 15:07:01 INFO] Extracted PRISM_ppt_stable_4kmM3_202403_bil.hdr to prism_data/2024/202403\n"
     ]
    },
    {
     "name": "stderr",
     "output_type": "stream",
     "text": [
      "\n",
      "Downloading PRISM_ppt_stable_4kmM3_202404_bil.zip: 100%|██████████| 2.16M/2.16M [00:00<00:00, 3.41MB/s]"
     ]
    },
    {
     "name": "stdout",
     "output_type": "stream",
     "text": [
      "[2025-06-25 15:07:03 INFO] Extracted PRISM_ppt_stable_4kmM3_202404_bil.bil to prism_data/2024/202404\n",
      "[2025-06-25 15:07:03 INFO] Extracted PRISM_ppt_stable_4kmM3_202404_bil.hdr to prism_data/2024/202404\n"
     ]
    },
    {
     "name": "stderr",
     "output_type": "stream",
     "text": [
      "\n",
      "Downloading PRISM_ppt_stable_4kmM3_202405_bil.zip: 100%|██████████| 2.14M/2.14M [00:01<00:00, 2.22MB/s]"
     ]
    },
    {
     "name": "stdout",
     "output_type": "stream",
     "text": [
      "[2025-06-25 15:07:04 INFO] Extracted PRISM_ppt_stable_4kmM3_202405_bil.bil to prism_data/2024/202405\n",
      "[2025-06-25 15:07:04 INFO] Extracted PRISM_ppt_stable_4kmM3_202405_bil.hdr to prism_data/2024/202405\n"
     ]
    },
    {
     "name": "stderr",
     "output_type": "stream",
     "text": [
      "\n",
      "Downloading PRISM_ppt_stable_4kmM3_202406_bil.zip: 100%|██████████| 2.14M/2.14M [00:00<00:00, 3.57MB/s]"
     ]
    },
    {
     "name": "stdout",
     "output_type": "stream",
     "text": [
      "[2025-06-25 15:07:05 INFO] Extracted PRISM_ppt_stable_4kmM3_202406_bil.bil to prism_data/2024/202406\n",
      "[2025-06-25 15:07:05 INFO] Extracted PRISM_ppt_stable_4kmM3_202406_bil.hdr to prism_data/2024/202406\n"
     ]
    },
    {
     "name": "stderr",
     "output_type": "stream",
     "text": [
      "\n",
      "Downloading PRISM_ppt_stable_4kmM3_202407_bil.zip: 100%|██████████| 2.18M/2.18M [00:00<00:00, 9.16MB/s]"
     ]
    },
    {
     "name": "stdout",
     "output_type": "stream",
     "text": [
      "[2025-06-25 15:07:06 INFO] Extracted PRISM_ppt_stable_4kmM3_202407_bil.bil to prism_data/2024/202407\n",
      "[2025-06-25 15:07:06 INFO] Extracted PRISM_ppt_stable_4kmM3_202407_bil.hdr to prism_data/2024/202407\n"
     ]
    },
    {
     "name": "stderr",
     "output_type": "stream",
     "text": [
      "\n",
      "Downloading PRISM_ppt_stable_4kmM3_202408_bil.zip: 100%|██████████| 2.17M/2.17M [00:00<00:00, 9.20MB/s]"
     ]
    },
    {
     "name": "stdout",
     "output_type": "stream",
     "text": [
      "[2025-06-25 15:07:07 INFO] Extracted PRISM_ppt_stable_4kmM3_202408_bil.bil to prism_data/2024/202408\n",
      "[2025-06-25 15:07:07 INFO] Extracted PRISM_ppt_stable_4kmM3_202408_bil.hdr to prism_data/2024/202408\n"
     ]
    },
    {
     "name": "stderr",
     "output_type": "stream",
     "text": [
      "\n",
      "Downloading PRISM_ppt_stable_4kmM3_202409_bil.zip: 100%|██████████| 2.19M/2.19M [00:00<00:00, 9.39MB/s]"
     ]
    },
    {
     "name": "stdout",
     "output_type": "stream",
     "text": [
      "[2025-06-25 15:07:07 INFO] Extracted PRISM_ppt_stable_4kmM3_202409_bil.bil to prism_data/2024/202409\n",
      "[2025-06-25 15:07:07 INFO] Extracted PRISM_ppt_stable_4kmM3_202409_bil.hdr to prism_data/2024/202409\n"
     ]
    },
    {
     "name": "stderr",
     "output_type": "stream",
     "text": [
      "\n",
      "Downloading PRISM_ppt_stable_4kmM3_202410_bil.zip: 100%|██████████| 2.06M/2.06M [00:00<00:00, 9.90MB/s]"
     ]
    },
    {
     "name": "stdout",
     "output_type": "stream",
     "text": [
      "[2025-06-25 15:07:08 INFO] Extracted PRISM_ppt_stable_4kmM3_202410_bil.bil to prism_data/2024/202410\n",
      "[2025-06-25 15:07:08 INFO] Extracted PRISM_ppt_stable_4kmM3_202410_bil.hdr to prism_data/2024/202410\n"
     ]
    },
    {
     "name": "stderr",
     "output_type": "stream",
     "text": [
      "\n",
      "Downloading PRISM_ppt_stable_4kmM3_202411_bil.zip: 100%|██████████| 2.12M/2.12M [00:00<00:00, 9.09MB/s]"
     ]
    },
    {
     "name": "stdout",
     "output_type": "stream",
     "text": [
      "[2025-06-25 15:07:08 INFO] Extracted PRISM_ppt_stable_4kmM3_202411_bil.bil to prism_data/2024/202411\n",
      "[2025-06-25 15:07:08 INFO] Extracted PRISM_ppt_stable_4kmM3_202411_bil.hdr to prism_data/2024/202411\n"
     ]
    },
    {
     "name": "stderr",
     "output_type": "stream",
     "text": [
      "\n"
     ]
    },
    {
     "name": "stdout",
     "output_type": "stream",
     "text": [
      "\u001b[31m[2025-06-25 15:07:09 ERROR] Failed to download https://ftp.prism.oregonstate.edu/monthly/ppt/2024/PRISM_ppt_stable_4kmM3_202412_bil.zip - HTTP Status Code: 404\u001b[0m\n"
     ]
    },
    {
     "name": "stderr",
     "output_type": "stream",
     "text": [
      "Downloading PRISM_ppt_provisional_4kmM3_202412_bil.zip: 100%|██████████| 2.00M/2.00M [00:00<00:00, 8.23MB/s]"
     ]
    },
    {
     "name": "stdout",
     "output_type": "stream",
     "text": [
      "[2025-06-25 15:07:09 INFO] Extracted PRISM_ppt_provisional_4kmM3_202412_bil.bil to prism_data/2024/202412\n",
      "[2025-06-25 15:07:09 INFO] Extracted PRISM_ppt_provisional_4kmM3_202412_bil.hdr to prism_data/2024/202412\n"
     ]
    },
    {
     "name": "stderr",
     "output_type": "stream",
     "text": [
      "\n"
     ]
    },
    {
     "name": "stdout",
     "output_type": "stream",
     "text": [
      "[2025-06-25 15:07:09 INFO] Processing year 2024...\n",
      "[2025-06-25 15:07:09 INFO] Skipping prism_data/2024/202402/PRISM_ppt_stable_4kmM3_202402_bil.hdr - already exists\n",
      "[2025-06-25 15:07:09 INFO] Skipping prism_data/2024/202402/PRISM_ppt_stable_4kmM3_202402_bil.bil - already exists\n",
      "[2025-06-25 15:07:09 INFO] Skipping prism_data/2024/202405/PRISM_ppt_stable_4kmM3_202405_bil.bil - already exists\n",
      "[2025-06-25 15:07:09 INFO] Skipping prism_data/2024/202405/PRISM_ppt_stable_4kmM3_202405_bil.hdr - already exists\n",
      "[2025-06-25 15:07:09 INFO] Skipping prism_data/2024/202404/PRISM_ppt_stable_4kmM3_202404_bil.bil - already exists\n",
      "[2025-06-25 15:07:09 INFO] Skipping prism_data/2024/202404/PRISM_ppt_stable_4kmM3_202404_bil.hdr - already exists\n",
      "[2025-06-25 15:07:09 INFO] Skipping prism_data/2024/202403/PRISM_ppt_stable_4kmM3_202403_bil.hdr - already exists\n",
      "[2025-06-25 15:07:09 INFO] Skipping prism_data/2024/202403/PRISM_ppt_stable_4kmM3_202403_bil.bil - already exists\n",
      "[2025-06-25 15:07:09 INFO] Skipping prism_data/2024/202410/PRISM_ppt_stable_4kmM3_202410_bil.hdr - already exists\n",
      "[2025-06-25 15:07:09 INFO] Skipping prism_data/2024/202410/PRISM_ppt_stable_4kmM3_202410_bil.bil - already exists\n",
      "[2025-06-25 15:07:09 INFO] Skipping prism_data/2024/202411/PRISM_ppt_stable_4kmM3_202411_bil.hdr - already exists\n",
      "[2025-06-25 15:07:09 INFO] Skipping prism_data/2024/202411/PRISM_ppt_stable_4kmM3_202411_bil.bil - already exists\n",
      "[2025-06-25 15:07:09 INFO] Skipping prism_data/2024/202408/PRISM_ppt_stable_4kmM3_202408_bil.hdr - already exists\n",
      "[2025-06-25 15:07:09 INFO] Skipping prism_data/2024/202408/PRISM_ppt_stable_4kmM3_202408_bil.bil - already exists\n",
      "[2025-06-25 15:07:09 INFO] Skipping prism_data/2024/202406/PRISM_ppt_stable_4kmM3_202406_bil.bil - already exists\n",
      "[2025-06-25 15:07:09 INFO] Skipping prism_data/2024/202406/PRISM_ppt_stable_4kmM3_202406_bil.hdr - already exists\n",
      "[2025-06-25 15:07:09 INFO] Skipping prism_data/2024/202401/PRISM_ppt_stable_4kmM3_202401_bil.hdr - already exists\n",
      "[2025-06-25 15:07:09 INFO] Skipping prism_data/2024/202401/PRISM_ppt_stable_4kmM3_202401_bil.bil - already exists\n",
      "[2025-06-25 15:07:09 INFO] Skipping prism_data/2024/202407/PRISM_ppt_stable_4kmM3_202407_bil.bil - already exists\n",
      "[2025-06-25 15:07:09 INFO] Skipping prism_data/2024/202407/PRISM_ppt_stable_4kmM3_202407_bil.hdr - already exists\n",
      "[2025-06-25 15:07:09 INFO] Skipping prism_data/2024/202409/PRISM_ppt_stable_4kmM3_202409_bil.hdr - already exists\n",
      "[2025-06-25 15:07:09 INFO] Skipping prism_data/2024/202409/PRISM_ppt_stable_4kmM3_202409_bil.bil - already exists\n",
      "[2025-06-25 15:07:09 INFO] Copied prism_data/2024/202412/PRISM_ppt_provisional_4kmM3_202412_bil.bil to prism_data_monthly/PRISM_ppt_provisional_4kmM3_202412_bil.bil\n",
      "[2025-06-25 15:07:09 INFO] Copied prism_data/2024/202412/PRISM_ppt_provisional_4kmM3_202412_bil.hdr to prism_data_monthly/PRISM_ppt_provisional_4kmM3_202412_bil.hdr\n",
      "[2025-06-25 15:07:09 INFO] Processing PRISM_ppt_stable_4kmM3_202406_bil.bil...\n",
      "[2025-06-25 15:07:09 INFO] Saved tile OREGON_STATE_PRISM_009011_20240601_20240701_PPT.tif\n",
      "[2025-06-25 15:07:09 INFO] Saved tile OREGON_STATE_PRISM_009012_20240601_20240701_PPT.tif\n",
      "[2025-06-25 15:07:09 INFO] Saved tile OREGON_STATE_PRISM_009013_20240601_20240701_PPT.tif\n",
      "[2025-06-25 15:07:09 INFO] Saved tile OREGON_STATE_PRISM_009014_20240601_20240701_PPT.tif\n",
      "[2025-06-25 15:07:09 INFO] Saved tile OREGON_STATE_PRISM_009015_20240601_20240701_PPT.tif\n",
      "[2025-06-25 15:07:09 INFO] Saved tile OREGON_STATE_PRISM_010011_20240601_20240701_PPT.tif\n",
      "[2025-06-25 15:07:09 INFO] Saved tile OREGON_STATE_PRISM_010012_20240601_20240701_PPT.tif\n",
      "[2025-06-25 15:07:09 INFO] Saved tile OREGON_STATE_PRISM_010013_20240601_20240701_PPT.tif\n",
      "[2025-06-25 15:07:09 INFO] Saved tile OREGON_STATE_PRISM_010014_20240601_20240701_PPT.tif\n",
      "[2025-06-25 15:07:09 INFO] Saved tile OREGON_STATE_PRISM_010015_20240601_20240701_PPT.tif\n",
      "[2025-06-25 15:07:09 INFO] Saved tile OREGON_STATE_PRISM_011011_20240601_20240701_PPT.tif\n",
      "[2025-06-25 15:07:09 INFO] Saved tile OREGON_STATE_PRISM_011012_20240601_20240701_PPT.tif\n",
      "[2025-06-25 15:07:09 INFO] Saved tile OREGON_STATE_PRISM_011013_20240601_20240701_PPT.tif\n",
      "[2025-06-25 15:07:09 INFO] Saved tile OREGON_STATE_PRISM_011014_20240601_20240701_PPT.tif\n",
      "[2025-06-25 15:07:09 INFO] Saved tile OREGON_STATE_PRISM_011015_20240601_20240701_PPT.tif\n",
      "[2025-06-25 15:07:09 INFO] Saved tile OREGON_STATE_PRISM_012011_20240601_20240701_PPT.tif\n",
      "[2025-06-25 15:07:09 INFO] Saved tile OREGON_STATE_PRISM_012012_20240601_20240701_PPT.tif\n",
      "[2025-06-25 15:07:09 INFO] Saved tile OREGON_STATE_PRISM_012013_20240601_20240701_PPT.tif\n",
      "[2025-06-25 15:07:09 INFO] Saved tile OREGON_STATE_PRISM_012014_20240601_20240701_PPT.tif\n",
      "[2025-06-25 15:07:09 INFO] Saved tile OREGON_STATE_PRISM_012015_20240601_20240701_PPT.tif\n",
      "[2025-06-25 15:07:09 INFO] Processing PRISM_ppt_stable_4kmM3_202407_bil.bil...\n",
      "[2025-06-25 15:07:09 INFO] Saved tile OREGON_STATE_PRISM_009011_20240701_20240801_PPT.tif\n",
      "[2025-06-25 15:07:09 INFO] Saved tile OREGON_STATE_PRISM_009012_20240701_20240801_PPT.tif\n",
      "[2025-06-25 15:07:09 INFO] Saved tile OREGON_STATE_PRISM_009013_20240701_20240801_PPT.tif\n",
      "[2025-06-25 15:07:09 INFO] Saved tile OREGON_STATE_PRISM_009014_20240701_20240801_PPT.tif\n",
      "[2025-06-25 15:07:09 INFO] Saved tile OREGON_STATE_PRISM_009015_20240701_20240801_PPT.tif\n",
      "[2025-06-25 15:07:09 INFO] Saved tile OREGON_STATE_PRISM_010011_20240701_20240801_PPT.tif\n",
      "[2025-06-25 15:07:09 INFO] Saved tile OREGON_STATE_PRISM_010012_20240701_20240801_PPT.tif\n",
      "[2025-06-25 15:07:09 INFO] Saved tile OREGON_STATE_PRISM_010013_20240701_20240801_PPT.tif\n",
      "[2025-06-25 15:07:09 INFO] Saved tile OREGON_STATE_PRISM_010014_20240701_20240801_PPT.tif\n",
      "[2025-06-25 15:07:09 INFO] Saved tile OREGON_STATE_PRISM_010015_20240701_20240801_PPT.tif\n",
      "[2025-06-25 15:07:09 INFO] Saved tile OREGON_STATE_PRISM_011011_20240701_20240801_PPT.tif\n",
      "[2025-06-25 15:07:09 INFO] Saved tile OREGON_STATE_PRISM_011012_20240701_20240801_PPT.tif\n",
      "[2025-06-25 15:07:09 INFO] Saved tile OREGON_STATE_PRISM_011013_20240701_20240801_PPT.tif\n",
      "[2025-06-25 15:07:09 INFO] Saved tile OREGON_STATE_PRISM_011014_20240701_20240801_PPT.tif\n",
      "[2025-06-25 15:07:09 INFO] Saved tile OREGON_STATE_PRISM_011015_20240701_20240801_PPT.tif\n",
      "[2025-06-25 15:07:09 INFO] Saved tile OREGON_STATE_PRISM_012011_20240701_20240801_PPT.tif\n",
      "[2025-06-25 15:07:09 INFO] Saved tile OREGON_STATE_PRISM_012012_20240701_20240801_PPT.tif\n",
      "[2025-06-25 15:07:09 INFO] Saved tile OREGON_STATE_PRISM_012013_20240701_20240801_PPT.tif\n",
      "[2025-06-25 15:07:09 INFO] Saved tile OREGON_STATE_PRISM_012014_20240701_20240801_PPT.tif\n",
      "[2025-06-25 15:07:09 INFO] Saved tile OREGON_STATE_PRISM_012015_20240701_20240801_PPT.tif\n",
      "[2025-06-25 15:07:09 INFO] Processing PRISM_ppt_stable_4kmM3_202405_bil.bil...\n",
      "[2025-06-25 15:07:09 INFO] Saved tile OREGON_STATE_PRISM_009011_20240501_20240601_PPT.tif\n",
      "[2025-06-25 15:07:09 INFO] Saved tile OREGON_STATE_PRISM_009012_20240501_20240601_PPT.tif\n",
      "[2025-06-25 15:07:09 INFO] Saved tile OREGON_STATE_PRISM_009013_20240501_20240601_PPT.tif\n",
      "[2025-06-25 15:07:09 INFO] Saved tile OREGON_STATE_PRISM_009014_20240501_20240601_PPT.tif\n",
      "[2025-06-25 15:07:10 INFO] Saved tile OREGON_STATE_PRISM_009015_20240501_20240601_PPT.tif\n",
      "[2025-06-25 15:07:10 INFO] Saved tile OREGON_STATE_PRISM_010011_20240501_20240601_PPT.tif\n",
      "[2025-06-25 15:07:10 INFO] Saved tile OREGON_STATE_PRISM_010012_20240501_20240601_PPT.tif\n",
      "[2025-06-25 15:07:10 INFO] Saved tile OREGON_STATE_PRISM_010013_20240501_20240601_PPT.tif\n",
      "[2025-06-25 15:07:10 INFO] Saved tile OREGON_STATE_PRISM_010014_20240501_20240601_PPT.tif\n",
      "[2025-06-25 15:07:10 INFO] Saved tile OREGON_STATE_PRISM_010015_20240501_20240601_PPT.tif\n",
      "[2025-06-25 15:07:10 INFO] Saved tile OREGON_STATE_PRISM_011011_20240501_20240601_PPT.tif\n",
      "[2025-06-25 15:07:10 INFO] Saved tile OREGON_STATE_PRISM_011012_20240501_20240601_PPT.tif\n",
      "[2025-06-25 15:07:10 INFO] Saved tile OREGON_STATE_PRISM_011013_20240501_20240601_PPT.tif\n",
      "[2025-06-25 15:07:10 INFO] Saved tile OREGON_STATE_PRISM_011014_20240501_20240601_PPT.tif\n",
      "[2025-06-25 15:07:10 INFO] Saved tile OREGON_STATE_PRISM_011015_20240501_20240601_PPT.tif\n",
      "[2025-06-25 15:07:10 INFO] Saved tile OREGON_STATE_PRISM_012011_20240501_20240601_PPT.tif\n",
      "[2025-06-25 15:07:10 INFO] Saved tile OREGON_STATE_PRISM_012012_20240501_20240601_PPT.tif\n",
      "[2025-06-25 15:07:10 INFO] Saved tile OREGON_STATE_PRISM_012013_20240501_20240601_PPT.tif\n",
      "[2025-06-25 15:07:10 INFO] Saved tile OREGON_STATE_PRISM_012014_20240501_20240601_PPT.tif\n",
      "[2025-06-25 15:07:10 INFO] Saved tile OREGON_STATE_PRISM_012015_20240501_20240601_PPT.tif\n",
      "[2025-06-25 15:07:10 INFO] Processing PRISM_ppt_provisional_4kmM3_202412_bil.bil...\n",
      "[2025-06-25 15:07:10 INFO] Saved tile OREGON_STATE_PRISM_009011_20241201_20250101_PPT.tif\n",
      "[2025-06-25 15:07:10 INFO] Saved tile OREGON_STATE_PRISM_009012_20241201_20250101_PPT.tif\n",
      "[2025-06-25 15:07:10 INFO] Saved tile OREGON_STATE_PRISM_009013_20241201_20250101_PPT.tif\n",
      "[2025-06-25 15:07:10 INFO] Saved tile OREGON_STATE_PRISM_009014_20241201_20250101_PPT.tif\n",
      "[2025-06-25 15:07:10 INFO] Saved tile OREGON_STATE_PRISM_009015_20241201_20250101_PPT.tif\n",
      "[2025-06-25 15:07:10 INFO] Saved tile OREGON_STATE_PRISM_010011_20241201_20250101_PPT.tif\n",
      "[2025-06-25 15:07:10 INFO] Saved tile OREGON_STATE_PRISM_010012_20241201_20250101_PPT.tif\n",
      "[2025-06-25 15:07:10 INFO] Saved tile OREGON_STATE_PRISM_010013_20241201_20250101_PPT.tif\n",
      "[2025-06-25 15:07:10 INFO] Saved tile OREGON_STATE_PRISM_010014_20241201_20250101_PPT.tif\n",
      "[2025-06-25 15:07:10 INFO] Saved tile OREGON_STATE_PRISM_010015_20241201_20250101_PPT.tif\n",
      "[2025-06-25 15:07:10 INFO] Saved tile OREGON_STATE_PRISM_011011_20241201_20250101_PPT.tif\n",
      "[2025-06-25 15:07:10 INFO] Saved tile OREGON_STATE_PRISM_011012_20241201_20250101_PPT.tif\n",
      "[2025-06-25 15:07:10 INFO] Saved tile OREGON_STATE_PRISM_011013_20241201_20250101_PPT.tif\n",
      "[2025-06-25 15:07:10 INFO] Saved tile OREGON_STATE_PRISM_011014_20241201_20250101_PPT.tif\n",
      "[2025-06-25 15:07:10 INFO] Saved tile OREGON_STATE_PRISM_011015_20241201_20250101_PPT.tif\n",
      "[2025-06-25 15:07:10 INFO] Saved tile OREGON_STATE_PRISM_012011_20241201_20250101_PPT.tif\n",
      "[2025-06-25 15:07:10 INFO] Saved tile OREGON_STATE_PRISM_012012_20241201_20250101_PPT.tif\n",
      "[2025-06-25 15:07:10 INFO] Saved tile OREGON_STATE_PRISM_012013_20241201_20250101_PPT.tif\n",
      "[2025-06-25 15:07:10 INFO] Saved tile OREGON_STATE_PRISM_012014_20241201_20250101_PPT.tif\n",
      "[2025-06-25 15:07:10 INFO] Saved tile OREGON_STATE_PRISM_012015_20241201_20250101_PPT.tif\n",
      "[2025-06-25 15:07:10 INFO] Processing PRISM_ppt_stable_4kmM3_202404_bil.bil...\n",
      "[2025-06-25 15:07:10 INFO] Saved tile OREGON_STATE_PRISM_009011_20240401_20240501_PPT.tif\n",
      "[2025-06-25 15:07:10 INFO] Saved tile OREGON_STATE_PRISM_009012_20240401_20240501_PPT.tif\n",
      "[2025-06-25 15:07:10 INFO] Saved tile OREGON_STATE_PRISM_009013_20240401_20240501_PPT.tif\n",
      "[2025-06-25 15:07:10 INFO] Saved tile OREGON_STATE_PRISM_009014_20240401_20240501_PPT.tif\n",
      "[2025-06-25 15:07:10 INFO] Saved tile OREGON_STATE_PRISM_009015_20240401_20240501_PPT.tif\n",
      "[2025-06-25 15:07:10 INFO] Saved tile OREGON_STATE_PRISM_010011_20240401_20240501_PPT.tif\n",
      "[2025-06-25 15:07:10 INFO] Saved tile OREGON_STATE_PRISM_010012_20240401_20240501_PPT.tif\n",
      "[2025-06-25 15:07:10 INFO] Saved tile OREGON_STATE_PRISM_010013_20240401_20240501_PPT.tif\n",
      "[2025-06-25 15:07:10 INFO] Saved tile OREGON_STATE_PRISM_010014_20240401_20240501_PPT.tif\n",
      "[2025-06-25 15:07:10 INFO] Saved tile OREGON_STATE_PRISM_010015_20240401_20240501_PPT.tif\n",
      "[2025-06-25 15:07:10 INFO] Saved tile OREGON_STATE_PRISM_011011_20240401_20240501_PPT.tif\n",
      "[2025-06-25 15:07:10 INFO] Saved tile OREGON_STATE_PRISM_011012_20240401_20240501_PPT.tif\n",
      "[2025-06-25 15:07:10 INFO] Saved tile OREGON_STATE_PRISM_011013_20240401_20240501_PPT.tif\n",
      "[2025-06-25 15:07:10 INFO] Saved tile OREGON_STATE_PRISM_011014_20240401_20240501_PPT.tif\n",
      "[2025-06-25 15:07:10 INFO] Saved tile OREGON_STATE_PRISM_011015_20240401_20240501_PPT.tif\n",
      "[2025-06-25 15:07:10 INFO] Saved tile OREGON_STATE_PRISM_012011_20240401_20240501_PPT.tif\n",
      "[2025-06-25 15:07:10 INFO] Saved tile OREGON_STATE_PRISM_012012_20240401_20240501_PPT.tif\n",
      "[2025-06-25 15:07:10 INFO] Saved tile OREGON_STATE_PRISM_012013_20240401_20240501_PPT.tif\n",
      "[2025-06-25 15:07:10 INFO] Saved tile OREGON_STATE_PRISM_012014_20240401_20240501_PPT.tif\n",
      "[2025-06-25 15:07:10 INFO] Saved tile OREGON_STATE_PRISM_012015_20240401_20240501_PPT.tif\n",
      "[2025-06-25 15:07:10 INFO] Processing PRISM_ppt_stable_4kmM3_202408_bil.bil...\n",
      "[2025-06-25 15:07:10 INFO] Saved tile OREGON_STATE_PRISM_009011_20240801_20240901_PPT.tif\n",
      "[2025-06-25 15:07:10 INFO] Saved tile OREGON_STATE_PRISM_009012_20240801_20240901_PPT.tif\n",
      "[2025-06-25 15:07:10 INFO] Saved tile OREGON_STATE_PRISM_009013_20240801_20240901_PPT.tif\n",
      "[2025-06-25 15:07:10 INFO] Saved tile OREGON_STATE_PRISM_009014_20240801_20240901_PPT.tif\n",
      "[2025-06-25 15:07:10 INFO] Saved tile OREGON_STATE_PRISM_009015_20240801_20240901_PPT.tif\n",
      "[2025-06-25 15:07:10 INFO] Saved tile OREGON_STATE_PRISM_010011_20240801_20240901_PPT.tif\n",
      "[2025-06-25 15:07:10 INFO] Saved tile OREGON_STATE_PRISM_010012_20240801_20240901_PPT.tif\n",
      "[2025-06-25 15:07:10 INFO] Saved tile OREGON_STATE_PRISM_010013_20240801_20240901_PPT.tif\n",
      "[2025-06-25 15:07:10 INFO] Saved tile OREGON_STATE_PRISM_010014_20240801_20240901_PPT.tif\n",
      "[2025-06-25 15:07:10 INFO] Saved tile OREGON_STATE_PRISM_010015_20240801_20240901_PPT.tif\n",
      "[2025-06-25 15:07:10 INFO] Saved tile OREGON_STATE_PRISM_011011_20240801_20240901_PPT.tif\n",
      "[2025-06-25 15:07:10 INFO] Saved tile OREGON_STATE_PRISM_011012_20240801_20240901_PPT.tif\n",
      "[2025-06-25 15:07:10 INFO] Saved tile OREGON_STATE_PRISM_011013_20240801_20240901_PPT.tif\n",
      "[2025-06-25 15:07:10 INFO] Saved tile OREGON_STATE_PRISM_011014_20240801_20240901_PPT.tif\n",
      "[2025-06-25 15:07:10 INFO] Saved tile OREGON_STATE_PRISM_011015_20240801_20240901_PPT.tif\n",
      "[2025-06-25 15:07:10 INFO] Saved tile OREGON_STATE_PRISM_012011_20240801_20240901_PPT.tif\n",
      "[2025-06-25 15:07:10 INFO] Saved tile OREGON_STATE_PRISM_012012_20240801_20240901_PPT.tif\n",
      "[2025-06-25 15:07:10 INFO] Saved tile OREGON_STATE_PRISM_012013_20240801_20240901_PPT.tif\n",
      "[2025-06-25 15:07:10 INFO] Saved tile OREGON_STATE_PRISM_012014_20240801_20240901_PPT.tif\n",
      "[2025-06-25 15:07:10 INFO] Saved tile OREGON_STATE_PRISM_012015_20240801_20240901_PPT.tif\n",
      "[2025-06-25 15:07:10 INFO] Processing PRISM_ppt_stable_4kmM3_202401_bil.bil...\n",
      "[2025-06-25 15:07:10 INFO] Saved tile OREGON_STATE_PRISM_009011_20240101_20240201_PPT.tif\n",
      "[2025-06-25 15:07:10 INFO] Saved tile OREGON_STATE_PRISM_009012_20240101_20240201_PPT.tif\n",
      "[2025-06-25 15:07:10 INFO] Saved tile OREGON_STATE_PRISM_009013_20240101_20240201_PPT.tif\n",
      "[2025-06-25 15:07:10 INFO] Saved tile OREGON_STATE_PRISM_009014_20240101_20240201_PPT.tif\n",
      "[2025-06-25 15:07:10 INFO] Saved tile OREGON_STATE_PRISM_009015_20240101_20240201_PPT.tif\n",
      "[2025-06-25 15:07:10 INFO] Saved tile OREGON_STATE_PRISM_010011_20240101_20240201_PPT.tif\n",
      "[2025-06-25 15:07:10 INFO] Saved tile OREGON_STATE_PRISM_010012_20240101_20240201_PPT.tif\n",
      "[2025-06-25 15:07:10 INFO] Saved tile OREGON_STATE_PRISM_010013_20240101_20240201_PPT.tif\n",
      "[2025-06-25 15:07:10 INFO] Saved tile OREGON_STATE_PRISM_010014_20240101_20240201_PPT.tif\n",
      "[2025-06-25 15:07:10 INFO] Saved tile OREGON_STATE_PRISM_010015_20240101_20240201_PPT.tif\n",
      "[2025-06-25 15:07:10 INFO] Saved tile OREGON_STATE_PRISM_011011_20240101_20240201_PPT.tif\n",
      "[2025-06-25 15:07:10 INFO] Saved tile OREGON_STATE_PRISM_011012_20240101_20240201_PPT.tif\n",
      "[2025-06-25 15:07:10 INFO] Saved tile OREGON_STATE_PRISM_011013_20240101_20240201_PPT.tif\n",
      "[2025-06-25 15:07:10 INFO] Saved tile OREGON_STATE_PRISM_011014_20240101_20240201_PPT.tif\n",
      "[2025-06-25 15:07:10 INFO] Saved tile OREGON_STATE_PRISM_011015_20240101_20240201_PPT.tif\n",
      "[2025-06-25 15:07:10 INFO] Saved tile OREGON_STATE_PRISM_012011_20240101_20240201_PPT.tif\n",
      "[2025-06-25 15:07:10 INFO] Saved tile OREGON_STATE_PRISM_012012_20240101_20240201_PPT.tif\n",
      "[2025-06-25 15:07:10 INFO] Saved tile OREGON_STATE_PRISM_012013_20240101_20240201_PPT.tif\n",
      "[2025-06-25 15:07:10 INFO] Saved tile OREGON_STATE_PRISM_012014_20240101_20240201_PPT.tif\n",
      "[2025-06-25 15:07:10 INFO] Saved tile OREGON_STATE_PRISM_012015_20240101_20240201_PPT.tif\n",
      "[2025-06-25 15:07:10 INFO] Processing PRISM_ppt_stable_4kmM3_202411_bil.bil...\n",
      "[2025-06-25 15:07:10 INFO] Saved tile OREGON_STATE_PRISM_009011_20241101_20241201_PPT.tif\n",
      "[2025-06-25 15:07:10 INFO] Saved tile OREGON_STATE_PRISM_009012_20241101_20241201_PPT.tif\n",
      "[2025-06-25 15:07:10 INFO] Saved tile OREGON_STATE_PRISM_009013_20241101_20241201_PPT.tif\n",
      "[2025-06-25 15:07:10 INFO] Saved tile OREGON_STATE_PRISM_009014_20241101_20241201_PPT.tif\n",
      "[2025-06-25 15:07:10 INFO] Saved tile OREGON_STATE_PRISM_009015_20241101_20241201_PPT.tif\n",
      "[2025-06-25 15:07:10 INFO] Saved tile OREGON_STATE_PRISM_010011_20241101_20241201_PPT.tif\n",
      "[2025-06-25 15:07:10 INFO] Saved tile OREGON_STATE_PRISM_010012_20241101_20241201_PPT.tif\n",
      "[2025-06-25 15:07:10 INFO] Saved tile OREGON_STATE_PRISM_010013_20241101_20241201_PPT.tif\n",
      "[2025-06-25 15:07:10 INFO] Saved tile OREGON_STATE_PRISM_010014_20241101_20241201_PPT.tif\n",
      "[2025-06-25 15:07:10 INFO] Saved tile OREGON_STATE_PRISM_010015_20241101_20241201_PPT.tif\n",
      "[2025-06-25 15:07:10 INFO] Saved tile OREGON_STATE_PRISM_011011_20241101_20241201_PPT.tif\n",
      "[2025-06-25 15:07:10 INFO] Saved tile OREGON_STATE_PRISM_011012_20241101_20241201_PPT.tif\n",
      "[2025-06-25 15:07:10 INFO] Saved tile OREGON_STATE_PRISM_011013_20241101_20241201_PPT.tif\n",
      "[2025-06-25 15:07:10 INFO] Saved tile OREGON_STATE_PRISM_011014_20241101_20241201_PPT.tif\n",
      "[2025-06-25 15:07:10 INFO] Saved tile OREGON_STATE_PRISM_011015_20241101_20241201_PPT.tif\n",
      "[2025-06-25 15:07:10 INFO] Saved tile OREGON_STATE_PRISM_012011_20241101_20241201_PPT.tif\n",
      "[2025-06-25 15:07:10 INFO] Saved tile OREGON_STATE_PRISM_012012_20241101_20241201_PPT.tif\n",
      "[2025-06-25 15:07:10 INFO] Saved tile OREGON_STATE_PRISM_012013_20241101_20241201_PPT.tif\n",
      "[2025-06-25 15:07:10 INFO] Saved tile OREGON_STATE_PRISM_012014_20241101_20241201_PPT.tif\n",
      "[2025-06-25 15:07:10 INFO] Saved tile OREGON_STATE_PRISM_012015_20241101_20241201_PPT.tif\n",
      "[2025-06-25 15:07:10 INFO] Processing PRISM_ppt_stable_4kmM3_202410_bil.bil...\n",
      "[2025-06-25 15:07:10 INFO] Saved tile OREGON_STATE_PRISM_009011_20241001_20241101_PPT.tif\n",
      "[2025-06-25 15:07:10 INFO] Saved tile OREGON_STATE_PRISM_009012_20241001_20241101_PPT.tif\n",
      "[2025-06-25 15:07:10 INFO] Saved tile OREGON_STATE_PRISM_009013_20241001_20241101_PPT.tif\n",
      "[2025-06-25 15:07:10 INFO] Saved tile OREGON_STATE_PRISM_009014_20241001_20241101_PPT.tif\n",
      "[2025-06-25 15:07:10 INFO] Saved tile OREGON_STATE_PRISM_009015_20241001_20241101_PPT.tif\n",
      "[2025-06-25 15:07:10 INFO] Saved tile OREGON_STATE_PRISM_010011_20241001_20241101_PPT.tif\n",
      "[2025-06-25 15:07:10 INFO] Saved tile OREGON_STATE_PRISM_010012_20241001_20241101_PPT.tif\n",
      "[2025-06-25 15:07:10 INFO] Saved tile OREGON_STATE_PRISM_010013_20241001_20241101_PPT.tif\n",
      "[2025-06-25 15:07:10 INFO] Saved tile OREGON_STATE_PRISM_010014_20241001_20241101_PPT.tif\n",
      "[2025-06-25 15:07:10 INFO] Saved tile OREGON_STATE_PRISM_010015_20241001_20241101_PPT.tif\n",
      "[2025-06-25 15:07:10 INFO] Saved tile OREGON_STATE_PRISM_011011_20241001_20241101_PPT.tif\n",
      "[2025-06-25 15:07:10 INFO] Saved tile OREGON_STATE_PRISM_011012_20241001_20241101_PPT.tif\n",
      "[2025-06-25 15:07:10 INFO] Saved tile OREGON_STATE_PRISM_011013_20241001_20241101_PPT.tif\n",
      "[2025-06-25 15:07:10 INFO] Saved tile OREGON_STATE_PRISM_011014_20241001_20241101_PPT.tif\n",
      "[2025-06-25 15:07:10 INFO] Saved tile OREGON_STATE_PRISM_011015_20241001_20241101_PPT.tif\n",
      "[2025-06-25 15:07:10 INFO] Saved tile OREGON_STATE_PRISM_012011_20241001_20241101_PPT.tif\n",
      "[2025-06-25 15:07:10 INFO] Saved tile OREGON_STATE_PRISM_012012_20241001_20241101_PPT.tif\n",
      "[2025-06-25 15:07:10 INFO] Saved tile OREGON_STATE_PRISM_012013_20241001_20241101_PPT.tif\n",
      "[2025-06-25 15:07:10 INFO] Saved tile OREGON_STATE_PRISM_012014_20241001_20241101_PPT.tif\n",
      "[2025-06-25 15:07:10 INFO] Saved tile OREGON_STATE_PRISM_012015_20241001_20241101_PPT.tif\n",
      "[2025-06-25 15:07:10 INFO] Processing PRISM_ppt_stable_4kmM3_202409_bil.bil...\n",
      "[2025-06-25 15:07:10 INFO] Saved tile OREGON_STATE_PRISM_009011_20240901_20241001_PPT.tif\n",
      "[2025-06-25 15:07:10 INFO] Saved tile OREGON_STATE_PRISM_009012_20240901_20241001_PPT.tif\n",
      "[2025-06-25 15:07:10 INFO] Saved tile OREGON_STATE_PRISM_009013_20240901_20241001_PPT.tif\n",
      "[2025-06-25 15:07:10 INFO] Saved tile OREGON_STATE_PRISM_009014_20240901_20241001_PPT.tif\n",
      "[2025-06-25 15:07:10 INFO] Saved tile OREGON_STATE_PRISM_009015_20240901_20241001_PPT.tif\n",
      "[2025-06-25 15:07:10 INFO] Saved tile OREGON_STATE_PRISM_010011_20240901_20241001_PPT.tif\n",
      "[2025-06-25 15:07:10 INFO] Saved tile OREGON_STATE_PRISM_010012_20240901_20241001_PPT.tif\n",
      "[2025-06-25 15:07:10 INFO] Saved tile OREGON_STATE_PRISM_010013_20240901_20241001_PPT.tif\n",
      "[2025-06-25 15:07:10 INFO] Saved tile OREGON_STATE_PRISM_010014_20240901_20241001_PPT.tif\n",
      "[2025-06-25 15:07:10 INFO] Saved tile OREGON_STATE_PRISM_010015_20240901_20241001_PPT.tif\n",
      "[2025-06-25 15:07:10 INFO] Saved tile OREGON_STATE_PRISM_011011_20240901_20241001_PPT.tif\n",
      "[2025-06-25 15:07:10 INFO] Saved tile OREGON_STATE_PRISM_011012_20240901_20241001_PPT.tif\n",
      "[2025-06-25 15:07:10 INFO] Saved tile OREGON_STATE_PRISM_011013_20240901_20241001_PPT.tif\n",
      "[2025-06-25 15:07:10 INFO] Saved tile OREGON_STATE_PRISM_011014_20240901_20241001_PPT.tif\n",
      "[2025-06-25 15:07:10 INFO] Saved tile OREGON_STATE_PRISM_011015_20240901_20241001_PPT.tif\n",
      "[2025-06-25 15:07:10 INFO] Saved tile OREGON_STATE_PRISM_012011_20240901_20241001_PPT.tif\n",
      "[2025-06-25 15:07:10 INFO] Saved tile OREGON_STATE_PRISM_012012_20240901_20241001_PPT.tif\n",
      "[2025-06-25 15:07:10 INFO] Saved tile OREGON_STATE_PRISM_012013_20240901_20241001_PPT.tif\n",
      "[2025-06-25 15:07:10 INFO] Saved tile OREGON_STATE_PRISM_012014_20240901_20241001_PPT.tif\n",
      "[2025-06-25 15:07:10 INFO] Saved tile OREGON_STATE_PRISM_012015_20240901_20241001_PPT.tif\n",
      "[2025-06-25 15:07:10 INFO] Processing PRISM_ppt_stable_4kmM3_202402_bil.bil...\n",
      "[2025-06-25 15:07:10 INFO] Saved tile OREGON_STATE_PRISM_009011_20240201_20240301_PPT.tif\n",
      "[2025-06-25 15:07:10 INFO] Saved tile OREGON_STATE_PRISM_009012_20240201_20240301_PPT.tif\n",
      "[2025-06-25 15:07:10 INFO] Saved tile OREGON_STATE_PRISM_009013_20240201_20240301_PPT.tif\n",
      "[2025-06-25 15:07:10 INFO] Saved tile OREGON_STATE_PRISM_009014_20240201_20240301_PPT.tif\n",
      "[2025-06-25 15:07:10 INFO] Saved tile OREGON_STATE_PRISM_009015_20240201_20240301_PPT.tif\n",
      "[2025-06-25 15:07:10 INFO] Saved tile OREGON_STATE_PRISM_010011_20240201_20240301_PPT.tif\n",
      "[2025-06-25 15:07:10 INFO] Saved tile OREGON_STATE_PRISM_010012_20240201_20240301_PPT.tif\n",
      "[2025-06-25 15:07:10 INFO] Saved tile OREGON_STATE_PRISM_010013_20240201_20240301_PPT.tif\n",
      "[2025-06-25 15:07:10 INFO] Saved tile OREGON_STATE_PRISM_010014_20240201_20240301_PPT.tif\n",
      "[2025-06-25 15:07:10 INFO] Saved tile OREGON_STATE_PRISM_010015_20240201_20240301_PPT.tif\n",
      "[2025-06-25 15:07:10 INFO] Saved tile OREGON_STATE_PRISM_011011_20240201_20240301_PPT.tif\n",
      "[2025-06-25 15:07:10 INFO] Saved tile OREGON_STATE_PRISM_011012_20240201_20240301_PPT.tif\n",
      "[2025-06-25 15:07:10 INFO] Saved tile OREGON_STATE_PRISM_011013_20240201_20240301_PPT.tif\n",
      "[2025-06-25 15:07:10 INFO] Saved tile OREGON_STATE_PRISM_011014_20240201_20240301_PPT.tif\n",
      "[2025-06-25 15:07:10 INFO] Saved tile OREGON_STATE_PRISM_011015_20240201_20240301_PPT.tif\n",
      "[2025-06-25 15:07:10 INFO] Saved tile OREGON_STATE_PRISM_012011_20240201_20240301_PPT.tif\n",
      "[2025-06-25 15:07:10 INFO] Saved tile OREGON_STATE_PRISM_012012_20240201_20240301_PPT.tif\n",
      "[2025-06-25 15:07:10 INFO] Saved tile OREGON_STATE_PRISM_012013_20240201_20240301_PPT.tif\n",
      "[2025-06-25 15:07:10 INFO] Saved tile OREGON_STATE_PRISM_012014_20240201_20240301_PPT.tif\n",
      "[2025-06-25 15:07:10 INFO] Saved tile OREGON_STATE_PRISM_012015_20240201_20240301_PPT.tif\n",
      "[2025-06-25 15:07:10 INFO] Processing PRISM_ppt_stable_4kmM3_202403_bil.bil...\n",
      "[2025-06-25 15:07:10 INFO] Saved tile OREGON_STATE_PRISM_009011_20240301_20240401_PPT.tif\n",
      "[2025-06-25 15:07:10 INFO] Saved tile OREGON_STATE_PRISM_009012_20240301_20240401_PPT.tif\n",
      "[2025-06-25 15:07:10 INFO] Saved tile OREGON_STATE_PRISM_009013_20240301_20240401_PPT.tif\n",
      "[2025-06-25 15:07:10 INFO] Saved tile OREGON_STATE_PRISM_009014_20240301_20240401_PPT.tif\n",
      "[2025-06-25 15:07:10 INFO] Saved tile OREGON_STATE_PRISM_009015_20240301_20240401_PPT.tif\n",
      "[2025-06-25 15:07:10 INFO] Saved tile OREGON_STATE_PRISM_010011_20240301_20240401_PPT.tif\n",
      "[2025-06-25 15:07:10 INFO] Saved tile OREGON_STATE_PRISM_010012_20240301_20240401_PPT.tif\n",
      "[2025-06-25 15:07:10 INFO] Saved tile OREGON_STATE_PRISM_010013_20240301_20240401_PPT.tif\n",
      "[2025-06-25 15:07:10 INFO] Saved tile OREGON_STATE_PRISM_010014_20240301_20240401_PPT.tif\n",
      "[2025-06-25 15:07:10 INFO] Saved tile OREGON_STATE_PRISM_010015_20240301_20240401_PPT.tif\n",
      "[2025-06-25 15:07:10 INFO] Saved tile OREGON_STATE_PRISM_011011_20240301_20240401_PPT.tif\n",
      "[2025-06-25 15:07:10 INFO] Saved tile OREGON_STATE_PRISM_011012_20240301_20240401_PPT.tif\n",
      "[2025-06-25 15:07:10 INFO] Saved tile OREGON_STATE_PRISM_011013_20240301_20240401_PPT.tif\n",
      "[2025-06-25 15:07:10 INFO] Saved tile OREGON_STATE_PRISM_011014_20240301_20240401_PPT.tif\n",
      "[2025-06-25 15:07:10 INFO] Saved tile OREGON_STATE_PRISM_011015_20240301_20240401_PPT.tif\n",
      "[2025-06-25 15:07:10 INFO] Saved tile OREGON_STATE_PRISM_012011_20240301_20240401_PPT.tif\n",
      "[2025-06-25 15:07:10 INFO] Saved tile OREGON_STATE_PRISM_012012_20240301_20240401_PPT.tif\n",
      "[2025-06-25 15:07:10 INFO] Saved tile OREGON_STATE_PRISM_012013_20240301_20240401_PPT.tif\n",
      "[2025-06-25 15:07:10 INFO] Saved tile OREGON_STATE_PRISM_012014_20240301_20240401_PPT.tif\n",
      "[2025-06-25 15:07:10 INFO] Saved tile OREGON_STATE_PRISM_012015_20240301_20240401_PPT.tif\n"
     ]
    }
   ],
   "source": [
    "prism_pipeline.process_year(2024, upload=False)"
   ]
  },
  {
   "cell_type": "code",
   "execution_count": 19,
   "metadata": {},
   "outputs": [
    {
     "data": {
      "text/html": [
       "\n",
       "            <style>\n",
       "                .geemap-dark {\n",
       "                    --jp-widgets-color: white;\n",
       "                    --jp-widgets-label-color: white;\n",
       "                    --jp-ui-font-color1: white;\n",
       "                    --jp-layout-color2: #454545;\n",
       "                    background-color: #383838;\n",
       "                }\n",
       "\n",
       "                .geemap-dark .jupyter-button {\n",
       "                    --jp-layout-color3: #383838;\n",
       "                }\n",
       "\n",
       "                .geemap-colab {\n",
       "                    background-color: var(--colab-primary-surface-color, white);\n",
       "                }\n",
       "\n",
       "                .geemap-colab .jupyter-button {\n",
       "                    --jp-layout-color3: var(--colab-primary-surface-color, white);\n",
       "                }\n",
       "            </style>\n",
       "            "
      ],
      "text/plain": [
       "<IPython.core.display.HTML object>"
      ]
     },
     "metadata": {},
     "output_type": "display_data"
    },
    {
     "name": "stderr",
     "output_type": "stream",
     "text": [
      "Uploading files to aws bucket ose-dev-inputs:   0%|          | 0/240 [00:00<?, ?it/s]"
     ]
    },
    {
     "name": "stdout",
     "output_type": "stream",
     "text": [
      "[2025-06-25 15:10:13 INFO] Uploaded file OREGON_STATE_PRISM_012012_20240501_20240601_PPT.tif to aws bucket ose-dev-inputs\n"
     ]
    },
    {
     "name": "stderr",
     "output_type": "stream",
     "text": [
      "Uploading file: OREGON_STATE_PRISM_012012_20240501_20240601_PPT.tif:   0%|          | 1/240 [00:00<01:02,  3.85it/s]"
     ]
    },
    {
     "name": "stdout",
     "output_type": "stream",
     "text": [
      "[2025-06-25 15:10:13 INFO] Uploaded file OREGON_STATE_PRISM_011011_20241001_20241101_PPT.tif to aws bucket ose-dev-inputs\n"
     ]
    },
    {
     "name": "stderr",
     "output_type": "stream",
     "text": [
      "Uploading file: OREGON_STATE_PRISM_011011_20241001_20241101_PPT.tif:   1%|          | 2/240 [00:00<00:45,  5.18it/s]"
     ]
    },
    {
     "name": "stdout",
     "output_type": "stream",
     "text": [
      "[2025-06-25 15:10:13 INFO] Uploaded file OREGON_STATE_PRISM_009012_20240101_20240201_PPT.tif to aws bucket ose-dev-inputs\n"
     ]
    },
    {
     "name": "stderr",
     "output_type": "stream",
     "text": [
      "Uploading file: OREGON_STATE_PRISM_009012_20240101_20240201_PPT.tif:   1%|▏         | 3/240 [00:00<00:40,  5.90it/s]"
     ]
    },
    {
     "name": "stdout",
     "output_type": "stream",
     "text": [
      "[2025-06-25 15:10:14 INFO] Uploaded file OREGON_STATE_PRISM_009013_20240301_20240401_PPT.tif to aws bucket ose-dev-inputs\n"
     ]
    },
    {
     "name": "stderr",
     "output_type": "stream",
     "text": [
      "Uploading file: OREGON_STATE_PRISM_009013_20240301_20240401_PPT.tif:   2%|▏         | 4/240 [00:00<00:38,  6.07it/s]"
     ]
    },
    {
     "name": "stdout",
     "output_type": "stream",
     "text": [
      "[2025-06-25 15:10:14 INFO] Uploaded file OREGON_STATE_PRISM_012013_20240301_20240401_PPT.tif to aws bucket ose-dev-inputs\n"
     ]
    },
    {
     "name": "stderr",
     "output_type": "stream",
     "text": [
      "Uploading file: OREGON_STATE_PRISM_012013_20240301_20240401_PPT.tif:   2%|▏         | 5/240 [00:00<00:37,  6.33it/s]"
     ]
    },
    {
     "name": "stdout",
     "output_type": "stream",
     "text": [
      "[2025-06-25 15:10:14 INFO] Uploaded file OREGON_STATE_PRISM_012012_20240101_20240201_PPT.tif to aws bucket ose-dev-inputs\n"
     ]
    },
    {
     "name": "stderr",
     "output_type": "stream",
     "text": [
      "Uploading file: OREGON_STATE_PRISM_012012_20240101_20240201_PPT.tif:   2%|▎         | 6/240 [00:00<00:35,  6.57it/s]"
     ]
    },
    {
     "name": "stdout",
     "output_type": "stream",
     "text": [
      "[2025-06-25 15:10:14 INFO] Uploaded file OREGON_STATE_PRISM_010011_20240901_20241001_PPT.tif to aws bucket ose-dev-inputs\n"
     ]
    },
    {
     "name": "stderr",
     "output_type": "stream",
     "text": [
      "Uploading file: OREGON_STATE_PRISM_010011_20240901_20241001_PPT.tif:   3%|▎         | 7/240 [00:01<00:34,  6.71it/s]"
     ]
    },
    {
     "name": "stdout",
     "output_type": "stream",
     "text": [
      "[2025-06-25 15:10:14 INFO] Uploaded file OREGON_STATE_PRISM_010013_20240401_20240501_PPT.tif to aws bucket ose-dev-inputs\n"
     ]
    },
    {
     "name": "stderr",
     "output_type": "stream",
     "text": [
      "Uploading file: OREGON_STATE_PRISM_010013_20240401_20240501_PPT.tif:   3%|▎         | 8/240 [00:01<00:34,  6.80it/s]"
     ]
    },
    {
     "name": "stdout",
     "output_type": "stream",
     "text": [
      "[2025-06-25 15:10:14 INFO] Uploaded file OREGON_STATE_PRISM_009012_20240501_20240601_PPT.tif to aws bucket ose-dev-inputs\n"
     ]
    },
    {
     "name": "stderr",
     "output_type": "stream",
     "text": [
      "Uploading file: OREGON_STATE_PRISM_009012_20240501_20240601_PPT.tif:   4%|▍         | 9/240 [00:01<00:33,  6.86it/s]"
     ]
    },
    {
     "name": "stdout",
     "output_type": "stream",
     "text": [
      "[2025-06-25 15:10:15 INFO] Uploaded file OREGON_STATE_PRISM_011015_20240701_20240801_PPT.tif to aws bucket ose-dev-inputs\n"
     ]
    },
    {
     "name": "stderr",
     "output_type": "stream",
     "text": [
      "Uploading file: OREGON_STATE_PRISM_011015_20240701_20240801_PPT.tif:   4%|▍         | 10/240 [00:01<00:33,  6.90it/s]"
     ]
    },
    {
     "name": "stdout",
     "output_type": "stream",
     "text": [
      "[2025-06-25 15:10:15 INFO] Uploaded file OREGON_STATE_PRISM_011015_20240501_20240601_PPT.tif to aws bucket ose-dev-inputs\n"
     ]
    },
    {
     "name": "stderr",
     "output_type": "stream",
     "text": [
      "Uploading file: OREGON_STATE_PRISM_011015_20240501_20240601_PPT.tif:   5%|▍         | 11/240 [00:01<00:33,  6.85it/s]"
     ]
    },
    {
     "name": "stdout",
     "output_type": "stream",
     "text": [
      "[2025-06-25 15:10:15 INFO] Uploaded file OREGON_STATE_PRISM_009012_20240701_20240801_PPT.tif to aws bucket ose-dev-inputs\n"
     ]
    },
    {
     "name": "stderr",
     "output_type": "stream",
     "text": [
      "Uploading file: OREGON_STATE_PRISM_009012_20240701_20240801_PPT.tif:   5%|▌         | 12/240 [00:01<00:32,  6.94it/s]"
     ]
    },
    {
     "name": "stdout",
     "output_type": "stream",
     "text": [
      "[2025-06-25 15:10:15 INFO] Uploaded file OREGON_STATE_PRISM_011015_20240101_20240201_PPT.tif to aws bucket ose-dev-inputs\n"
     ]
    },
    {
     "name": "stderr",
     "output_type": "stream",
     "text": [
      "Uploading file: OREGON_STATE_PRISM_011015_20240101_20240201_PPT.tif:   5%|▌         | 13/240 [00:01<00:32,  7.02it/s]"
     ]
    },
    {
     "name": "stdout",
     "output_type": "stream",
     "text": [
      "[2025-06-25 15:10:15 INFO] Uploaded file OREGON_STATE_PRISM_011014_20240301_20240401_PPT.tif to aws bucket ose-dev-inputs\n"
     ]
    },
    {
     "name": "stderr",
     "output_type": "stream",
     "text": [
      "Uploading file: OREGON_STATE_PRISM_011014_20240301_20240401_PPT.tif:   6%|▌         | 14/240 [00:02<00:32,  7.01it/s]"
     ]
    },
    {
     "name": "stdout",
     "output_type": "stream",
     "text": [
      "[2025-06-25 15:10:15 INFO] Uploaded file OREGON_STATE_PRISM_012012_20240701_20240801_PPT.tif to aws bucket ose-dev-inputs\n"
     ]
    },
    {
     "name": "stderr",
     "output_type": "stream",
     "text": [
      "Uploading file: OREGON_STATE_PRISM_012012_20240701_20240801_PPT.tif:   6%|▋         | 15/240 [00:02<00:31,  7.12it/s]"
     ]
    },
    {
     "name": "stdout",
     "output_type": "stream",
     "text": [
      "[2025-06-25 15:10:15 INFO] Uploaded file OREGON_STATE_PRISM_012011_20241101_20241201_PPT.tif to aws bucket ose-dev-inputs\n"
     ]
    },
    {
     "name": "stderr",
     "output_type": "stream",
     "text": [
      "Uploading file: OREGON_STATE_PRISM_012011_20241101_20241201_PPT.tif:   7%|▋         | 16/240 [00:02<00:31,  7.04it/s]"
     ]
    },
    {
     "name": "stdout",
     "output_type": "stream",
     "text": [
      "[2025-06-25 15:10:16 INFO] Uploaded file OREGON_STATE_PRISM_011012_20240401_20240501_PPT.tif to aws bucket ose-dev-inputs\n"
     ]
    },
    {
     "name": "stderr",
     "output_type": "stream",
     "text": [
      "Uploading file: OREGON_STATE_PRISM_011012_20240401_20240501_PPT.tif:   7%|▋         | 17/240 [00:02<00:32,  6.88it/s]"
     ]
    },
    {
     "name": "stdout",
     "output_type": "stream",
     "text": [
      "[2025-06-25 15:10:16 INFO] Uploaded file OREGON_STATE_PRISM_010014_20240701_20240801_PPT.tif to aws bucket ose-dev-inputs\n"
     ]
    },
    {
     "name": "stderr",
     "output_type": "stream",
     "text": [
      "Uploading file: OREGON_STATE_PRISM_010014_20240701_20240801_PPT.tif:   8%|▊         | 18/240 [00:02<00:32,  6.88it/s]"
     ]
    },
    {
     "name": "stdout",
     "output_type": "stream",
     "text": [
      "[2025-06-25 15:10:16 INFO] Uploaded file OREGON_STATE_PRISM_011011_20240801_20240901_PPT.tif to aws bucket ose-dev-inputs\n"
     ]
    },
    {
     "name": "stderr",
     "output_type": "stream",
     "text": [
      "Uploading file: OREGON_STATE_PRISM_011011_20240801_20240901_PPT.tif:   8%|▊         | 19/240 [00:02<00:31,  6.91it/s]"
     ]
    },
    {
     "name": "stdout",
     "output_type": "stream",
     "text": [
      "[2025-06-25 15:10:16 INFO] Uploaded file OREGON_STATE_PRISM_009011_20241101_20241201_PPT.tif to aws bucket ose-dev-inputs\n"
     ]
    },
    {
     "name": "stderr",
     "output_type": "stream",
     "text": [
      "Uploading file: OREGON_STATE_PRISM_009011_20241101_20241201_PPT.tif:   8%|▊         | 20/240 [00:02<00:31,  6.97it/s]"
     ]
    },
    {
     "name": "stdout",
     "output_type": "stream",
     "text": [
      "[2025-06-25 15:10:16 INFO] Uploaded file OREGON_STATE_PRISM_010014_20240101_20240201_PPT.tif to aws bucket ose-dev-inputs\n"
     ]
    },
    {
     "name": "stderr",
     "output_type": "stream",
     "text": [
      "Uploading file: OREGON_STATE_PRISM_010014_20240101_20240201_PPT.tif:   9%|▉         | 21/240 [00:03<00:32,  6.79it/s]"
     ]
    },
    {
     "name": "stdout",
     "output_type": "stream",
     "text": [
      "[2025-06-25 15:10:16 INFO] Uploaded file OREGON_STATE_PRISM_010015_20240301_20240401_PPT.tif to aws bucket ose-dev-inputs\n"
     ]
    },
    {
     "name": "stderr",
     "output_type": "stream",
     "text": [
      "Uploading file: OREGON_STATE_PRISM_010015_20240301_20240401_PPT.tif:   9%|▉         | 22/240 [00:03<00:31,  6.83it/s]"
     ]
    },
    {
     "name": "stdout",
     "output_type": "stream",
     "text": [
      "[2025-06-25 15:10:16 INFO] Uploaded file OREGON_STATE_PRISM_012015_20240401_20240501_PPT.tif to aws bucket ose-dev-inputs\n"
     ]
    },
    {
     "name": "stderr",
     "output_type": "stream",
     "text": [
      "Uploading file: OREGON_STATE_PRISM_012015_20240401_20240501_PPT.tif:  10%|▉         | 23/240 [00:03<00:31,  6.90it/s]"
     ]
    },
    {
     "name": "stdout",
     "output_type": "stream",
     "text": [
      "[2025-06-25 15:10:17 INFO] Uploaded file OREGON_STATE_PRISM_010011_20240201_20240301_PPT.tif to aws bucket ose-dev-inputs\n"
     ]
    },
    {
     "name": "stderr",
     "output_type": "stream",
     "text": [
      "Uploading file: OREGON_STATE_PRISM_010011_20240201_20240301_PPT.tif:  10%|█         | 24/240 [00:03<00:31,  6.89it/s]"
     ]
    },
    {
     "name": "stdout",
     "output_type": "stream",
     "text": [
      "[2025-06-25 15:10:17 INFO] Uploaded file OREGON_STATE_PRISM_009015_20240401_20240501_PPT.tif to aws bucket ose-dev-inputs\n"
     ]
    },
    {
     "name": "stderr",
     "output_type": "stream",
     "text": [
      "Uploading file: OREGON_STATE_PRISM_009015_20240401_20240501_PPT.tif:  10%|█         | 25/240 [00:03<00:31,  6.89it/s]"
     ]
    },
    {
     "name": "stdout",
     "output_type": "stream",
     "text": [
      "[2025-06-25 15:10:17 INFO] Uploaded file OREGON_STATE_PRISM_010014_20240501_20240601_PPT.tif to aws bucket ose-dev-inputs\n"
     ]
    },
    {
     "name": "stderr",
     "output_type": "stream",
     "text": [
      "Uploading file: OREGON_STATE_PRISM_010014_20240501_20240601_PPT.tif:  11%|█         | 26/240 [00:03<00:30,  6.99it/s]"
     ]
    },
    {
     "name": "stdout",
     "output_type": "stream",
     "text": [
      "[2025-06-25 15:10:17 INFO] Uploaded file OREGON_STATE_PRISM_010011_20240601_20240701_PPT.tif to aws bucket ose-dev-inputs\n"
     ]
    },
    {
     "name": "stderr",
     "output_type": "stream",
     "text": [
      "Uploading file: OREGON_STATE_PRISM_010011_20240601_20240701_PPT.tif:  11%|█▏        | 27/240 [00:04<00:30,  6.96it/s]"
     ]
    },
    {
     "name": "stdout",
     "output_type": "stream",
     "text": [
      "[2025-06-25 15:10:17 INFO] Uploaded file OREGON_STATE_PRISM_012011_20240801_20240901_PPT.tif to aws bucket ose-dev-inputs\n"
     ]
    },
    {
     "name": "stderr",
     "output_type": "stream",
     "text": [
      "Uploading file: OREGON_STATE_PRISM_012011_20240801_20240901_PPT.tif:  12%|█▏        | 28/240 [00:04<00:30,  7.00it/s]"
     ]
    },
    {
     "name": "stdout",
     "output_type": "stream",
     "text": [
      "[2025-06-25 15:10:17 INFO] Uploaded file OREGON_STATE_PRISM_010013_20240501_20240601_PPT.tif to aws bucket ose-dev-inputs\n"
     ]
    },
    {
     "name": "stderr",
     "output_type": "stream",
     "text": [
      "Uploading file: OREGON_STATE_PRISM_010013_20240501_20240601_PPT.tif:  12%|█▏        | 29/240 [00:04<00:30,  7.02it/s]"
     ]
    },
    {
     "name": "stdout",
     "output_type": "stream",
     "text": [
      "[2025-06-25 15:10:17 INFO] Uploaded file OREGON_STATE_PRISM_009012_20240401_20240501_PPT.tif to aws bucket ose-dev-inputs\n"
     ]
    },
    {
     "name": "stderr",
     "output_type": "stream",
     "text": [
      "Uploading file: OREGON_STATE_PRISM_009012_20240401_20240501_PPT.tif:  12%|█▎        | 30/240 [00:04<00:31,  6.66it/s]"
     ]
    },
    {
     "name": "stdout",
     "output_type": "stream",
     "text": [
      "[2025-06-25 15:10:18 INFO] Uploaded file OREGON_STATE_PRISM_010011_20241201_20250101_PPT.tif to aws bucket ose-dev-inputs\n"
     ]
    },
    {
     "name": "stderr",
     "output_type": "stream",
     "text": [
      "Uploading file: OREGON_STATE_PRISM_010011_20241201_20250101_PPT.tif:  13%|█▎        | 31/240 [00:04<00:31,  6.69it/s]"
     ]
    },
    {
     "name": "stdout",
     "output_type": "stream",
     "text": [
      "[2025-06-25 15:10:18 INFO] Uploaded file OREGON_STATE_PRISM_012012_20240401_20240501_PPT.tif to aws bucket ose-dev-inputs\n"
     ]
    },
    {
     "name": "stderr",
     "output_type": "stream",
     "text": [
      "Uploading file: OREGON_STATE_PRISM_012012_20240401_20240501_PPT.tif:  13%|█▎        | 32/240 [00:04<00:30,  6.79it/s]"
     ]
    },
    {
     "name": "stdout",
     "output_type": "stream",
     "text": [
      "[2025-06-25 15:10:18 INFO] Uploaded file OREGON_STATE_PRISM_010012_20240301_20240401_PPT.tif to aws bucket ose-dev-inputs\n"
     ]
    },
    {
     "name": "stderr",
     "output_type": "stream",
     "text": [
      "Uploading file: OREGON_STATE_PRISM_010012_20240301_20240401_PPT.tif:  14%|█▍        | 33/240 [00:04<00:30,  6.84it/s]"
     ]
    },
    {
     "name": "stdout",
     "output_type": "stream",
     "text": [
      "[2025-06-25 15:10:18 INFO] Uploaded file OREGON_STATE_PRISM_011011_20241101_20241201_PPT.tif to aws bucket ose-dev-inputs\n"
     ]
    },
    {
     "name": "stderr",
     "output_type": "stream",
     "text": [
      "Uploading file: OREGON_STATE_PRISM_011011_20241101_20241201_PPT.tif:  14%|█▍        | 34/240 [00:05<00:29,  6.87it/s]"
     ]
    },
    {
     "name": "stdout",
     "output_type": "stream",
     "text": [
      "[2025-06-25 15:10:18 INFO] Uploaded file OREGON_STATE_PRISM_009011_20240801_20240901_PPT.tif to aws bucket ose-dev-inputs\n"
     ]
    },
    {
     "name": "stderr",
     "output_type": "stream",
     "text": [
      "Uploading file: OREGON_STATE_PRISM_009011_20240801_20240901_PPT.tif:  15%|█▍        | 35/240 [00:05<00:29,  6.85it/s]"
     ]
    },
    {
     "name": "stdout",
     "output_type": "stream",
     "text": [
      "[2025-06-25 15:10:18 INFO] Uploaded file OREGON_STATE_PRISM_010013_20240101_20240201_PPT.tif to aws bucket ose-dev-inputs\n"
     ]
    },
    {
     "name": "stderr",
     "output_type": "stream",
     "text": [
      "Uploading file: OREGON_STATE_PRISM_010013_20240101_20240201_PPT.tif:  15%|█▌        | 36/240 [00:05<00:30,  6.68it/s]"
     ]
    },
    {
     "name": "stdout",
     "output_type": "stream",
     "text": [
      "[2025-06-25 15:10:18 INFO] Uploaded file OREGON_STATE_PRISM_011015_20240401_20240501_PPT.tif to aws bucket ose-dev-inputs\n"
     ]
    },
    {
     "name": "stderr",
     "output_type": "stream",
     "text": [
      "Uploading file: OREGON_STATE_PRISM_011015_20240401_20240501_PPT.tif:  15%|█▌        | 37/240 [00:05<00:31,  6.54it/s]"
     ]
    },
    {
     "name": "stdout",
     "output_type": "stream",
     "text": [
      "[2025-06-25 15:10:19 INFO] Uploaded file OREGON_STATE_PRISM_010013_20240701_20240801_PPT.tif to aws bucket ose-dev-inputs\n"
     ]
    },
    {
     "name": "stderr",
     "output_type": "stream",
     "text": [
      "Uploading file: OREGON_STATE_PRISM_010013_20240701_20240801_PPT.tif:  16%|█▌        | 38/240 [00:05<00:31,  6.35it/s]"
     ]
    },
    {
     "name": "stdout",
     "output_type": "stream",
     "text": [
      "[2025-06-25 15:10:19 INFO] Uploaded file OREGON_STATE_PRISM_012015_20240701_20240801_PPT.tif to aws bucket ose-dev-inputs\n"
     ]
    },
    {
     "name": "stderr",
     "output_type": "stream",
     "text": [
      "Uploading file: OREGON_STATE_PRISM_012015_20240701_20240801_PPT.tif:  16%|█▋        | 39/240 [00:05<00:31,  6.40it/s]"
     ]
    },
    {
     "name": "stdout",
     "output_type": "stream",
     "text": [
      "[2025-06-25 15:10:19 INFO] Uploaded file OREGON_STATE_PRISM_011013_20240301_20240401_PPT.tif to aws bucket ose-dev-inputs\n"
     ]
    },
    {
     "name": "stderr",
     "output_type": "stream",
     "text": [
      "Uploading file: OREGON_STATE_PRISM_011013_20240301_20240401_PPT.tif:  17%|█▋        | 40/240 [00:06<00:46,  4.34it/s]"
     ]
    },
    {
     "name": "stdout",
     "output_type": "stream",
     "text": [
      "[2025-06-25 15:10:20 INFO] Uploaded file OREGON_STATE_PRISM_011012_20240101_20240201_PPT.tif to aws bucket ose-dev-inputs\n"
     ]
    },
    {
     "name": "stderr",
     "output_type": "stream",
     "text": [
      "Uploading file: OREGON_STATE_PRISM_011012_20240101_20240201_PPT.tif:  17%|█▋        | 41/240 [00:06<01:00,  3.30it/s]"
     ]
    },
    {
     "name": "stdout",
     "output_type": "stream",
     "text": [
      "[2025-06-25 15:10:20 INFO] Uploaded file OREGON_STATE_PRISM_009011_20241001_20241101_PPT.tif to aws bucket ose-dev-inputs\n"
     ]
    },
    {
     "name": "stderr",
     "output_type": "stream",
     "text": [
      "Uploading file: OREGON_STATE_PRISM_009011_20241001_20241101_PPT.tif:  18%|█▊        | 42/240 [00:07<01:09,  2.86it/s]"
     ]
    },
    {
     "name": "stdout",
     "output_type": "stream",
     "text": [
      "[2025-06-25 15:10:21 INFO] Uploaded file OREGON_STATE_PRISM_012011_20241001_20241101_PPT.tif to aws bucket ose-dev-inputs\n"
     ]
    },
    {
     "name": "stderr",
     "output_type": "stream",
     "text": [
      "Uploading file: OREGON_STATE_PRISM_012011_20241001_20241101_PPT.tif:  18%|█▊        | 43/240 [00:07<01:18,  2.53it/s]"
     ]
    },
    {
     "name": "stdout",
     "output_type": "stream",
     "text": [
      "[2025-06-25 15:10:21 INFO] Uploaded file OREGON_STATE_PRISM_011012_20240501_20240601_PPT.tif to aws bucket ose-dev-inputs\n"
     ]
    },
    {
     "name": "stderr",
     "output_type": "stream",
     "text": [
      "Uploading file: OREGON_STATE_PRISM_011012_20240501_20240601_PPT.tif:  18%|█▊        | 44/240 [00:08<01:25,  2.30it/s]"
     ]
    },
    {
     "name": "stdout",
     "output_type": "stream",
     "text": [
      "[2025-06-25 15:10:22 INFO] Uploaded file OREGON_STATE_PRISM_009015_20240701_20240801_PPT.tif to aws bucket ose-dev-inputs\n"
     ]
    },
    {
     "name": "stderr",
     "output_type": "stream",
     "text": [
      "Uploading file: OREGON_STATE_PRISM_009015_20240701_20240801_PPT.tif:  19%|█▉        | 45/240 [00:08<01:25,  2.29it/s]"
     ]
    },
    {
     "name": "stdout",
     "output_type": "stream",
     "text": [
      "[2025-06-25 15:10:22 INFO] Uploaded file OREGON_STATE_PRISM_009015_20240501_20240601_PPT.tif to aws bucket ose-dev-inputs\n"
     ]
    },
    {
     "name": "stderr",
     "output_type": "stream",
     "text": [
      "Uploading file: OREGON_STATE_PRISM_009015_20240501_20240601_PPT.tif:  19%|█▉        | 46/240 [00:09<01:27,  2.21it/s]"
     ]
    },
    {
     "name": "stdout",
     "output_type": "stream",
     "text": [
      "[2025-06-25 15:10:22 INFO] Uploaded file OREGON_STATE_PRISM_010014_20240401_20240501_PPT.tif to aws bucket ose-dev-inputs\n"
     ]
    },
    {
     "name": "stderr",
     "output_type": "stream",
     "text": [
      "Uploading file: OREGON_STATE_PRISM_010014_20240401_20240501_PPT.tif:  20%|█▉        | 47/240 [00:09<01:22,  2.34it/s]"
     ]
    },
    {
     "name": "stdout",
     "output_type": "stream",
     "text": [
      "[2025-06-25 15:10:23 INFO] Uploaded file OREGON_STATE_PRISM_011012_20240701_20240801_PPT.tif to aws bucket ose-dev-inputs\n"
     ]
    },
    {
     "name": "stderr",
     "output_type": "stream",
     "text": [
      "Uploading file: OREGON_STATE_PRISM_011012_20240701_20240801_PPT.tif:  20%|██        | 48/240 [00:09<01:16,  2.52it/s]"
     ]
    },
    {
     "name": "stdout",
     "output_type": "stream",
     "text": [
      "[2025-06-25 15:10:23 INFO] Uploaded file OREGON_STATE_PRISM_012015_20240101_20240201_PPT.tif to aws bucket ose-dev-inputs\n"
     ]
    },
    {
     "name": "stderr",
     "output_type": "stream",
     "text": [
      "Uploading file: OREGON_STATE_PRISM_012015_20240101_20240201_PPT.tif:  20%|██        | 49/240 [00:09<01:01,  3.13it/s]"
     ]
    },
    {
     "name": "stdout",
     "output_type": "stream",
     "text": [
      "[2025-06-25 15:10:23 INFO] Uploaded file OREGON_STATE_PRISM_012014_20240301_20240401_PPT.tif to aws bucket ose-dev-inputs\n"
     ]
    },
    {
     "name": "stderr",
     "output_type": "stream",
     "text": [
      "Uploading file: OREGON_STATE_PRISM_012014_20240301_20240401_PPT.tif:  21%|██        | 50/240 [00:10<00:50,  3.76it/s]"
     ]
    },
    {
     "name": "stdout",
     "output_type": "stream",
     "text": [
      "[2025-06-25 15:10:23 INFO] Uploaded file OREGON_STATE_PRISM_009014_20240301_20240401_PPT.tif to aws bucket ose-dev-inputs\n"
     ]
    },
    {
     "name": "stderr",
     "output_type": "stream",
     "text": [
      "Uploading file: OREGON_STATE_PRISM_009014_20240301_20240401_PPT.tif:  21%|██▏       | 51/240 [00:10<00:49,  3.84it/s]"
     ]
    },
    {
     "name": "stdout",
     "output_type": "stream",
     "text": [
      "[2025-06-25 15:10:23 INFO] Uploaded file OREGON_STATE_PRISM_009015_20240101_20240201_PPT.tif to aws bucket ose-dev-inputs\n"
     ]
    },
    {
     "name": "stderr",
     "output_type": "stream",
     "text": [
      "Uploading file: OREGON_STATE_PRISM_009015_20240101_20240201_PPT.tif:  22%|██▏       | 52/240 [00:10<00:41,  4.52it/s]"
     ]
    },
    {
     "name": "stdout",
     "output_type": "stream",
     "text": [
      "[2025-06-25 15:10:24 INFO] Uploaded file OREGON_STATE_PRISM_012015_20240501_20240601_PPT.tif to aws bucket ose-dev-inputs\n"
     ]
    },
    {
     "name": "stderr",
     "output_type": "stream",
     "text": [
      "Uploading file: OREGON_STATE_PRISM_012015_20240501_20240601_PPT.tif:  22%|██▏       | 53/240 [00:10<00:37,  5.01it/s]"
     ]
    },
    {
     "name": "stdout",
     "output_type": "stream",
     "text": [
      "[2025-06-25 15:10:24 INFO] Uploaded file OREGON_STATE_PRISM_012015_20240601_20240701_PPT.tif to aws bucket ose-dev-inputs\n"
     ]
    },
    {
     "name": "stderr",
     "output_type": "stream",
     "text": [
      "Uploading file: OREGON_STATE_PRISM_012015_20240601_20240701_PPT.tif:  22%|██▎       | 54/240 [00:10<00:33,  5.47it/s]"
     ]
    },
    {
     "name": "stdout",
     "output_type": "stream",
     "text": [
      "[2025-06-25 15:10:24 INFO] Uploaded file OREGON_STATE_PRISM_009011_20240301_20240401_PPT.tif to aws bucket ose-dev-inputs\n"
     ]
    },
    {
     "name": "stderr",
     "output_type": "stream",
     "text": [
      "Uploading file: OREGON_STATE_PRISM_009011_20240301_20240401_PPT.tif:  23%|██▎       | 55/240 [00:10<00:31,  5.94it/s]"
     ]
    },
    {
     "name": "stdout",
     "output_type": "stream",
     "text": [
      "[2025-06-25 15:10:24 INFO] Uploaded file OREGON_STATE_PRISM_010012_20240801_20240901_PPT.tif to aws bucket ose-dev-inputs\n"
     ]
    },
    {
     "name": "stderr",
     "output_type": "stream",
     "text": [
      "Uploading file: OREGON_STATE_PRISM_010012_20240801_20240901_PPT.tif:  23%|██▎       | 56/240 [00:11<00:28,  6.43it/s]"
     ]
    },
    {
     "name": "stdout",
     "output_type": "stream",
     "text": [
      "[2025-06-25 15:10:24 INFO] Uploaded file OREGON_STATE_PRISM_011013_20241001_20241101_PPT.tif to aws bucket ose-dev-inputs\n"
     ]
    },
    {
     "name": "stderr",
     "output_type": "stream",
     "text": [
      "Uploading file: OREGON_STATE_PRISM_011013_20241001_20241101_PPT.tif:  24%|██▍       | 57/240 [00:11<00:26,  6.84it/s]"
     ]
    },
    {
     "name": "stdout",
     "output_type": "stream",
     "text": [
      "[2025-06-25 15:10:24 INFO] Uploaded file OREGON_STATE_PRISM_012012_20241201_20250101_PPT.tif to aws bucket ose-dev-inputs\n"
     ]
    },
    {
     "name": "stderr",
     "output_type": "stream",
     "text": [
      "Uploading file: OREGON_STATE_PRISM_012012_20241201_20250101_PPT.tif:  24%|██▍       | 58/240 [00:11<00:25,  7.08it/s]"
     ]
    },
    {
     "name": "stdout",
     "output_type": "stream",
     "text": [
      "[2025-06-25 15:10:24 INFO] Uploaded file OREGON_STATE_PRISM_009015_20240201_20240301_PPT.tif to aws bucket ose-dev-inputs\n"
     ]
    },
    {
     "name": "stderr",
     "output_type": "stream",
     "text": [
      "Uploading file: OREGON_STATE_PRISM_009015_20240201_20240301_PPT.tif:  25%|██▍       | 59/240 [00:11<00:24,  7.26it/s]"
     ]
    },
    {
     "name": "stdout",
     "output_type": "stream",
     "text": [
      "[2025-06-25 15:10:24 INFO] Uploaded file OREGON_STATE_PRISM_010011_20240401_20240501_PPT.tif to aws bucket ose-dev-inputs\n"
     ]
    },
    {
     "name": "stderr",
     "output_type": "stream",
     "text": [
      "Uploading file: OREGON_STATE_PRISM_010011_20240401_20240501_PPT.tif:  25%|██▌       | 60/240 [00:11<00:24,  7.31it/s]"
     ]
    },
    {
     "name": "stdout",
     "output_type": "stream",
     "text": [
      "[2025-06-25 15:10:25 INFO] Uploaded file OREGON_STATE_PRISM_009012_20241201_20250101_PPT.tif to aws bucket ose-dev-inputs\n"
     ]
    },
    {
     "name": "stderr",
     "output_type": "stream",
     "text": [
      "Uploading file: OREGON_STATE_PRISM_009012_20241201_20250101_PPT.tif:  25%|██▌       | 61/240 [00:11<00:25,  6.98it/s]"
     ]
    },
    {
     "name": "stdout",
     "output_type": "stream",
     "text": [
      "[2025-06-25 15:10:25 INFO] Uploaded file OREGON_STATE_PRISM_012015_20240201_20240301_PPT.tif to aws bucket ose-dev-inputs\n"
     ]
    },
    {
     "name": "stderr",
     "output_type": "stream",
     "text": [
      "Uploading file: OREGON_STATE_PRISM_012015_20240201_20240301_PPT.tif:  26%|██▌       | 62/240 [00:11<00:24,  7.14it/s]"
     ]
    },
    {
     "name": "stdout",
     "output_type": "stream",
     "text": [
      "[2025-06-25 15:10:25 INFO] Uploaded file OREGON_STATE_PRISM_009015_20240601_20240701_PPT.tif to aws bucket ose-dev-inputs\n"
     ]
    },
    {
     "name": "stderr",
     "output_type": "stream",
     "text": [
      "Uploading file: OREGON_STATE_PRISM_009015_20240601_20240701_PPT.tif:  26%|██▋       | 63/240 [00:11<00:24,  7.26it/s]"
     ]
    },
    {
     "name": "stdout",
     "output_type": "stream",
     "text": [
      "[2025-06-25 15:10:25 INFO] Uploaded file OREGON_STATE_PRISM_010013_20240901_20241001_PPT.tif to aws bucket ose-dev-inputs\n"
     ]
    },
    {
     "name": "stderr",
     "output_type": "stream",
     "text": [
      "Uploading file: OREGON_STATE_PRISM_010013_20240901_20241001_PPT.tif:  27%|██▋       | 64/240 [00:12<00:23,  7.37it/s]"
     ]
    },
    {
     "name": "stdout",
     "output_type": "stream",
     "text": [
      "[2025-06-25 15:10:25 INFO] Uploaded file OREGON_STATE_PRISM_012011_20240301_20240401_PPT.tif to aws bucket ose-dev-inputs\n"
     ]
    },
    {
     "name": "stderr",
     "output_type": "stream",
     "text": [
      "Uploading file: OREGON_STATE_PRISM_012011_20240301_20240401_PPT.tif:  27%|██▋       | 65/240 [00:12<00:24,  7.01it/s]"
     ]
    },
    {
     "name": "stdout",
     "output_type": "stream",
     "text": [
      "[2025-06-25 15:10:25 INFO] Uploaded file OREGON_STATE_PRISM_011012_20240601_20240701_PPT.tif to aws bucket ose-dev-inputs\n"
     ]
    },
    {
     "name": "stderr",
     "output_type": "stream",
     "text": [
      "Uploading file: OREGON_STATE_PRISM_011012_20240601_20240701_PPT.tif:  28%|██▊       | 66/240 [00:12<00:24,  7.21it/s]"
     ]
    },
    {
     "name": "stdout",
     "output_type": "stream",
     "text": [
      "[2025-06-25 15:10:25 INFO] Uploaded file OREGON_STATE_PRISM_012014_20241001_20241101_PPT.tif to aws bucket ose-dev-inputs\n"
     ]
    },
    {
     "name": "stderr",
     "output_type": "stream",
     "text": [
      "Uploading file: OREGON_STATE_PRISM_012014_20241001_20241101_PPT.tif:  28%|██▊       | 67/240 [00:12<00:24,  7.15it/s]"
     ]
    },
    {
     "name": "stdout",
     "output_type": "stream",
     "text": [
      "[2025-06-25 15:10:26 INFO] Uploaded file OREGON_STATE_PRISM_011015_20241201_20250101_PPT.tif to aws bucket ose-dev-inputs\n"
     ]
    },
    {
     "name": "stderr",
     "output_type": "stream",
     "text": [
      "Uploading file: OREGON_STATE_PRISM_011015_20241201_20250101_PPT.tif:  28%|██▊       | 68/240 [00:12<00:23,  7.29it/s]"
     ]
    },
    {
     "name": "stdout",
     "output_type": "stream",
     "text": [
      "[2025-06-25 15:10:26 INFO] Uploaded file OREGON_STATE_PRISM_011012_20240201_20240301_PPT.tif to aws bucket ose-dev-inputs\n"
     ]
    },
    {
     "name": "stderr",
     "output_type": "stream",
     "text": [
      "Uploading file: OREGON_STATE_PRISM_011012_20240201_20240301_PPT.tif:  29%|██▉       | 69/240 [00:12<00:23,  7.38it/s]"
     ]
    },
    {
     "name": "stdout",
     "output_type": "stream",
     "text": [
      "[2025-06-25 15:10:26 INFO] Uploaded file OREGON_STATE_PRISM_010015_20241101_20241201_PPT.tif to aws bucket ose-dev-inputs\n"
     ]
    },
    {
     "name": "stderr",
     "output_type": "stream",
     "text": [
      "Uploading file: OREGON_STATE_PRISM_010015_20241101_20241201_PPT.tif:  29%|██▉       | 70/240 [00:12<00:24,  6.96it/s]"
     ]
    },
    {
     "name": "stdout",
     "output_type": "stream",
     "text": [
      "[2025-06-25 15:10:26 INFO] Uploaded file OREGON_STATE_PRISM_009014_20241001_20241101_PPT.tif to aws bucket ose-dev-inputs\n"
     ]
    },
    {
     "name": "stderr",
     "output_type": "stream",
     "text": [
      "Uploading file: OREGON_STATE_PRISM_009014_20241001_20241101_PPT.tif:  30%|██▉       | 71/240 [00:13<00:23,  7.09it/s]"
     ]
    },
    {
     "name": "stdout",
     "output_type": "stream",
     "text": [
      "[2025-06-25 15:10:26 INFO] Uploaded file OREGON_STATE_PRISM_011012_20240901_20241001_PPT.tif to aws bucket ose-dev-inputs\n"
     ]
    },
    {
     "name": "stderr",
     "output_type": "stream",
     "text": [
      "Uploading file: OREGON_STATE_PRISM_011012_20240901_20241001_PPT.tif:  30%|███       | 72/240 [00:13<00:23,  7.23it/s]"
     ]
    },
    {
     "name": "stdout",
     "output_type": "stream",
     "text": [
      "[2025-06-25 15:10:26 INFO] Uploaded file OREGON_STATE_PRISM_012013_20241101_20241201_PPT.tif to aws bucket ose-dev-inputs\n"
     ]
    },
    {
     "name": "stderr",
     "output_type": "stream",
     "text": [
      "Uploading file: OREGON_STATE_PRISM_012013_20241101_20241201_PPT.tif:  30%|███       | 73/240 [00:13<00:23,  7.25it/s]"
     ]
    },
    {
     "name": "stdout",
     "output_type": "stream",
     "text": [
      "[2025-06-25 15:10:26 INFO] Uploaded file OREGON_STATE_PRISM_009013_20241101_20241201_PPT.tif to aws bucket ose-dev-inputs\n"
     ]
    },
    {
     "name": "stderr",
     "output_type": "stream",
     "text": [
      "Uploading file: OREGON_STATE_PRISM_009013_20241101_20241201_PPT.tif:  31%|███       | 74/240 [00:13<00:22,  7.35it/s]"
     ]
    },
    {
     "name": "stdout",
     "output_type": "stream",
     "text": [
      "[2025-06-25 15:10:27 INFO] Uploaded file OREGON_STATE_PRISM_011013_20240801_20240901_PPT.tif to aws bucket ose-dev-inputs\n"
     ]
    },
    {
     "name": "stderr",
     "output_type": "stream",
     "text": [
      "Uploading file: OREGON_STATE_PRISM_011013_20240801_20240901_PPT.tif:  31%|███▏      | 75/240 [00:13<00:22,  7.40it/s]"
     ]
    },
    {
     "name": "stdout",
     "output_type": "stream",
     "text": [
      "[2025-06-25 15:10:27 INFO] Uploaded file OREGON_STATE_PRISM_010012_20241001_20241101_PPT.tif to aws bucket ose-dev-inputs\n"
     ]
    },
    {
     "name": "stderr",
     "output_type": "stream",
     "text": [
      "Uploading file: OREGON_STATE_PRISM_010012_20241001_20241101_PPT.tif:  32%|███▏      | 76/240 [00:13<00:21,  7.47it/s]"
     ]
    },
    {
     "name": "stdout",
     "output_type": "stream",
     "text": [
      "[2025-06-25 15:10:27 INFO] Uploaded file OREGON_STATE_PRISM_010013_20240201_20240301_PPT.tif to aws bucket ose-dev-inputs\n"
     ]
    },
    {
     "name": "stderr",
     "output_type": "stream",
     "text": [
      "Uploading file: OREGON_STATE_PRISM_010013_20240201_20240301_PPT.tif:  32%|███▏      | 77/240 [00:13<00:22,  7.38it/s]"
     ]
    },
    {
     "name": "stdout",
     "output_type": "stream",
     "text": [
      "[2025-06-25 15:10:27 INFO] Uploaded file OREGON_STATE_PRISM_012015_20240901_20241001_PPT.tif to aws bucket ose-dev-inputs\n"
     ]
    },
    {
     "name": "stderr",
     "output_type": "stream",
     "text": [
      "Uploading file: OREGON_STATE_PRISM_012015_20240901_20241001_PPT.tif:  32%|███▎      | 78/240 [00:14<00:21,  7.39it/s]"
     ]
    },
    {
     "name": "stdout",
     "output_type": "stream",
     "text": [
      "[2025-06-25 15:10:27 INFO] Uploaded file OREGON_STATE_PRISM_011014_20241101_20241201_PPT.tif to aws bucket ose-dev-inputs\n"
     ]
    },
    {
     "name": "stderr",
     "output_type": "stream",
     "text": [
      "Uploading file: OREGON_STATE_PRISM_011014_20241101_20241201_PPT.tif:  33%|███▎      | 79/240 [00:14<00:22,  7.29it/s]"
     ]
    },
    {
     "name": "stdout",
     "output_type": "stream",
     "text": [
      "[2025-06-25 15:10:27 INFO] Uploaded file OREGON_STATE_PRISM_009014_20240801_20240901_PPT.tif to aws bucket ose-dev-inputs\n"
     ]
    },
    {
     "name": "stderr",
     "output_type": "stream",
     "text": [
      "Uploading file: OREGON_STATE_PRISM_009014_20240801_20240901_PPT.tif:  33%|███▎      | 80/240 [00:14<00:22,  7.18it/s]"
     ]
    },
    {
     "name": "stdout",
     "output_type": "stream",
     "text": [
      "[2025-06-25 15:10:27 INFO] Uploaded file OREGON_STATE_PRISM_010013_20240601_20240701_PPT.tif to aws bucket ose-dev-inputs\n"
     ]
    },
    {
     "name": "stderr",
     "output_type": "stream",
     "text": [
      "Uploading file: OREGON_STATE_PRISM_010013_20240601_20240701_PPT.tif:  34%|███▍      | 81/240 [00:14<00:21,  7.33it/s]"
     ]
    },
    {
     "name": "stdout",
     "output_type": "stream",
     "text": [
      "[2025-06-25 15:10:28 INFO] Uploaded file OREGON_STATE_PRISM_012014_20240801_20240901_PPT.tif to aws bucket ose-dev-inputs\n"
     ]
    },
    {
     "name": "stderr",
     "output_type": "stream",
     "text": [
      "Uploading file: OREGON_STATE_PRISM_012014_20240801_20240901_PPT.tif:  34%|███▍      | 82/240 [00:14<00:21,  7.35it/s]"
     ]
    },
    {
     "name": "stdout",
     "output_type": "stream",
     "text": [
      "[2025-06-25 15:10:28 INFO] Uploaded file OREGON_STATE_PRISM_009015_20240901_20241001_PPT.tif to aws bucket ose-dev-inputs\n"
     ]
    },
    {
     "name": "stderr",
     "output_type": "stream",
     "text": [
      "Uploading file: OREGON_STATE_PRISM_009015_20240901_20241001_PPT.tif:  35%|███▍      | 83/240 [00:14<00:21,  7.38it/s]"
     ]
    },
    {
     "name": "stdout",
     "output_type": "stream",
     "text": [
      "[2025-06-25 15:10:28 INFO] Uploaded file OREGON_STATE_PRISM_010014_20241201_20250101_PPT.tif to aws bucket ose-dev-inputs\n"
     ]
    },
    {
     "name": "stderr",
     "output_type": "stream",
     "text": [
      "Uploading file: OREGON_STATE_PRISM_010014_20241201_20250101_PPT.tif:  35%|███▌      | 84/240 [00:14<00:20,  7.50it/s]"
     ]
    },
    {
     "name": "stdout",
     "output_type": "stream",
     "text": [
      "[2025-06-25 15:10:28 INFO] Uploaded file OREGON_STATE_PRISM_010013_20241201_20250101_PPT.tif to aws bucket ose-dev-inputs\n"
     ]
    },
    {
     "name": "stderr",
     "output_type": "stream",
     "text": [
      "Uploading file: OREGON_STATE_PRISM_010013_20241201_20250101_PPT.tif:  35%|███▌      | 85/240 [00:14<00:20,  7.59it/s]"
     ]
    },
    {
     "name": "stdout",
     "output_type": "stream",
     "text": [
      "[2025-06-25 15:10:28 INFO] Uploaded file OREGON_STATE_PRISM_010011_20240501_20240601_PPT.tif to aws bucket ose-dev-inputs\n"
     ]
    },
    {
     "name": "stderr",
     "output_type": "stream",
     "text": [
      "Uploading file: OREGON_STATE_PRISM_010011_20240501_20240601_PPT.tif:  36%|███▌      | 86/240 [00:15<00:20,  7.61it/s]"
     ]
    },
    {
     "name": "stdout",
     "output_type": "stream",
     "text": [
      "[2025-06-25 15:10:28 INFO] Uploaded file OREGON_STATE_PRISM_010014_20240601_20240701_PPT.tif to aws bucket ose-dev-inputs\n"
     ]
    },
    {
     "name": "stderr",
     "output_type": "stream",
     "text": [
      "Uploading file: OREGON_STATE_PRISM_010014_20240601_20240701_PPT.tif:  36%|███▋      | 87/240 [00:15<00:21,  7.13it/s]"
     ]
    },
    {
     "name": "stdout",
     "output_type": "stream",
     "text": [
      "[2025-06-25 15:10:28 INFO] Uploaded file OREGON_STATE_PRISM_009012_20240901_20241001_PPT.tif to aws bucket ose-dev-inputs\n"
     ]
    },
    {
     "name": "stderr",
     "output_type": "stream",
     "text": [
      "Uploading file: OREGON_STATE_PRISM_009012_20240901_20241001_PPT.tif:  37%|███▋      | 88/240 [00:15<00:20,  7.36it/s]"
     ]
    },
    {
     "name": "stdout",
     "output_type": "stream",
     "text": [
      "[2025-06-25 15:10:28 INFO] Uploaded file OREGON_STATE_PRISM_012013_20240801_20240901_PPT.tif to aws bucket ose-dev-inputs\n"
     ]
    },
    {
     "name": "stderr",
     "output_type": "stream",
     "text": [
      "Uploading file: OREGON_STATE_PRISM_012013_20240801_20240901_PPT.tif:  37%|███▋      | 89/240 [00:15<00:20,  7.52it/s]"
     ]
    },
    {
     "name": "stdout",
     "output_type": "stream",
     "text": [
      "[2025-06-25 15:10:29 INFO] Uploaded file OREGON_STATE_PRISM_009013_20240801_20240901_PPT.tif to aws bucket ose-dev-inputs\n"
     ]
    },
    {
     "name": "stderr",
     "output_type": "stream",
     "text": [
      "Uploading file: OREGON_STATE_PRISM_009013_20240801_20240901_PPT.tif:  38%|███▊      | 90/240 [00:15<00:19,  7.63it/s]"
     ]
    },
    {
     "name": "stdout",
     "output_type": "stream",
     "text": [
      "[2025-06-25 15:10:29 INFO] Uploaded file OREGON_STATE_PRISM_010011_20240101_20240201_PPT.tif to aws bucket ose-dev-inputs\n"
     ]
    },
    {
     "name": "stderr",
     "output_type": "stream",
     "text": [
      "Uploading file: OREGON_STATE_PRISM_010011_20240101_20240201_PPT.tif:  38%|███▊      | 91/240 [00:15<00:19,  7.67it/s]"
     ]
    },
    {
     "name": "stdout",
     "output_type": "stream",
     "text": [
      "[2025-06-25 15:10:29 INFO] Uploaded file OREGON_STATE_PRISM_011013_20241101_20241201_PPT.tif to aws bucket ose-dev-inputs\n"
     ]
    },
    {
     "name": "stderr",
     "output_type": "stream",
     "text": [
      "Uploading file: OREGON_STATE_PRISM_011013_20241101_20241201_PPT.tif:  38%|███▊      | 92/240 [00:15<00:19,  7.71it/s]"
     ]
    },
    {
     "name": "stdout",
     "output_type": "stream",
     "text": [
      "[2025-06-25 15:10:29 INFO] Uploaded file OREGON_STATE_PRISM_012012_20240901_20241001_PPT.tif to aws bucket ose-dev-inputs\n"
     ]
    },
    {
     "name": "stderr",
     "output_type": "stream",
     "text": [
      "Uploading file: OREGON_STATE_PRISM_012012_20240901_20241001_PPT.tif:  39%|███▉      | 93/240 [00:16<00:19,  7.66it/s]"
     ]
    },
    {
     "name": "stdout",
     "output_type": "stream",
     "text": [
      "[2025-06-25 15:10:29 INFO] Uploaded file OREGON_STATE_PRISM_010014_20240201_20240301_PPT.tif to aws bucket ose-dev-inputs\n"
     ]
    },
    {
     "name": "stderr",
     "output_type": "stream",
     "text": [
      "Uploading file: OREGON_STATE_PRISM_010014_20240201_20240301_PPT.tif:  39%|███▉      | 94/240 [00:16<00:20,  7.24it/s]"
     ]
    },
    {
     "name": "stdout",
     "output_type": "stream",
     "text": [
      "[2025-06-25 15:10:29 INFO] Uploaded file OREGON_STATE_PRISM_010015_20241001_20241101_PPT.tif to aws bucket ose-dev-inputs\n"
     ]
    },
    {
     "name": "stderr",
     "output_type": "stream",
     "text": [
      "Uploading file: OREGON_STATE_PRISM_010015_20241001_20241101_PPT.tif:  40%|███▉      | 95/240 [00:16<00:19,  7.39it/s]"
     ]
    },
    {
     "name": "stdout",
     "output_type": "stream",
     "text": [
      "[2025-06-25 15:10:29 INFO] Uploaded file OREGON_STATE_PRISM_011014_20240801_20240901_PPT.tif to aws bucket ose-dev-inputs\n"
     ]
    },
    {
     "name": "stderr",
     "output_type": "stream",
     "text": [
      "Uploading file: OREGON_STATE_PRISM_011014_20240801_20240901_PPT.tif:  40%|████      | 96/240 [00:16<00:19,  7.40it/s]"
     ]
    },
    {
     "name": "stdout",
     "output_type": "stream",
     "text": [
      "[2025-06-25 15:10:30 INFO] Uploaded file OREGON_STATE_PRISM_009014_20241101_20241201_PPT.tif to aws bucket ose-dev-inputs\n"
     ]
    },
    {
     "name": "stderr",
     "output_type": "stream",
     "text": [
      "Uploading file: OREGON_STATE_PRISM_009014_20241101_20241201_PPT.tif:  40%|████      | 97/240 [00:16<00:19,  7.50it/s]"
     ]
    },
    {
     "name": "stdout",
     "output_type": "stream",
     "text": [
      "[2025-06-25 15:10:30 INFO] Uploaded file OREGON_STATE_PRISM_012014_20241101_20241201_PPT.tif to aws bucket ose-dev-inputs\n"
     ]
    },
    {
     "name": "stderr",
     "output_type": "stream",
     "text": [
      "Uploading file: OREGON_STATE_PRISM_012014_20241101_20241201_PPT.tif:  41%|████      | 98/240 [00:16<00:18,  7.49it/s]"
     ]
    },
    {
     "name": "stdout",
     "output_type": "stream",
     "text": [
      "[2025-06-25 15:10:30 INFO] Uploaded file OREGON_STATE_PRISM_011015_20240901_20241001_PPT.tif to aws bucket ose-dev-inputs\n"
     ]
    },
    {
     "name": "stderr",
     "output_type": "stream",
     "text": [
      "Uploading file: OREGON_STATE_PRISM_011015_20240901_20241001_PPT.tif:  41%|████▏     | 99/240 [00:16<00:18,  7.48it/s]"
     ]
    },
    {
     "name": "stdout",
     "output_type": "stream",
     "text": [
      "[2025-06-25 15:10:30 INFO] Uploaded file OREGON_STATE_PRISM_010011_20240701_20240801_PPT.tif to aws bucket ose-dev-inputs\n"
     ]
    },
    {
     "name": "stderr",
     "output_type": "stream",
     "text": [
      "Uploading file: OREGON_STATE_PRISM_010011_20240701_20240801_PPT.tif:  42%|████▏     | 100/240 [00:16<00:18,  7.50it/s]"
     ]
    },
    {
     "name": "stdout",
     "output_type": "stream",
     "text": [
      "[2025-06-25 15:10:30 INFO] Uploaded file OREGON_STATE_PRISM_009013_20241001_20241101_PPT.tif to aws bucket ose-dev-inputs\n"
     ]
    },
    {
     "name": "stderr",
     "output_type": "stream",
     "text": [
      "Uploading file: OREGON_STATE_PRISM_009013_20241001_20241101_PPT.tif:  42%|████▏     | 101/240 [00:17<00:24,  5.74it/s]"
     ]
    },
    {
     "name": "stdout",
     "output_type": "stream",
     "text": [
      "[2025-06-25 15:10:30 INFO] Uploaded file OREGON_STATE_PRISM_011011_20240301_20240401_PPT.tif to aws bucket ose-dev-inputs\n"
     ]
    },
    {
     "name": "stderr",
     "output_type": "stream",
     "text": [
      "Uploading file: OREGON_STATE_PRISM_011011_20240301_20240401_PPT.tif:  42%|████▎     | 102/240 [00:17<00:22,  6.04it/s]"
     ]
    },
    {
     "name": "stdout",
     "output_type": "stream",
     "text": [
      "[2025-06-25 15:10:30 INFO] Uploaded file OREGON_STATE_PRISM_010012_20241101_20241201_PPT.tif to aws bucket ose-dev-inputs\n"
     ]
    },
    {
     "name": "stderr",
     "output_type": "stream",
     "text": [
      "Uploading file: OREGON_STATE_PRISM_010012_20241101_20241201_PPT.tif:  43%|████▎     | 103/240 [00:17<00:21,  6.30it/s]"
     ]
    },
    {
     "name": "stdout",
     "output_type": "stream",
     "text": [
      "[2025-06-25 15:10:31 INFO] Uploaded file OREGON_STATE_PRISM_011015_20240201_20240301_PPT.tif to aws bucket ose-dev-inputs\n"
     ]
    },
    {
     "name": "stderr",
     "output_type": "stream",
     "text": [
      "Uploading file: OREGON_STATE_PRISM_011015_20240201_20240301_PPT.tif:  43%|████▎     | 104/240 [00:17<00:21,  6.45it/s]"
     ]
    },
    {
     "name": "stdout",
     "output_type": "stream",
     "text": [
      "[2025-06-25 15:10:31 INFO] Uploaded file OREGON_STATE_PRISM_011012_20241201_20250101_PPT.tif to aws bucket ose-dev-inputs\n"
     ]
    },
    {
     "name": "stderr",
     "output_type": "stream",
     "text": [
      "Uploading file: OREGON_STATE_PRISM_011012_20241201_20250101_PPT.tif:  44%|████▍     | 105/240 [00:17<00:20,  6.61it/s]"
     ]
    },
    {
     "name": "stdout",
     "output_type": "stream",
     "text": [
      "[2025-06-25 15:10:31 INFO] Uploaded file OREGON_STATE_PRISM_011015_20240601_20240701_PPT.tif to aws bucket ose-dev-inputs\n"
     ]
    },
    {
     "name": "stderr",
     "output_type": "stream",
     "text": [
      "Uploading file: OREGON_STATE_PRISM_011015_20240601_20240701_PPT.tif:  44%|████▍     | 106/240 [00:17<00:19,  6.73it/s]"
     ]
    },
    {
     "name": "stdout",
     "output_type": "stream",
     "text": [
      "[2025-06-25 15:10:31 INFO] Uploaded file OREGON_STATE_PRISM_012013_20241001_20241101_PPT.tif to aws bucket ose-dev-inputs\n"
     ]
    },
    {
     "name": "stderr",
     "output_type": "stream",
     "text": [
      "Uploading file: OREGON_STATE_PRISM_012013_20241001_20241101_PPT.tif:  45%|████▍     | 107/240 [00:18<00:19,  6.81it/s]"
     ]
    },
    {
     "name": "stdout",
     "output_type": "stream",
     "text": [
      "[2025-06-25 15:10:31 INFO] Uploaded file OREGON_STATE_PRISM_009012_20240601_20240701_PPT.tif to aws bucket ose-dev-inputs\n"
     ]
    },
    {
     "name": "stderr",
     "output_type": "stream",
     "text": [
      "Uploading file: OREGON_STATE_PRISM_009012_20240601_20240701_PPT.tif:  45%|████▌     | 108/240 [00:18<00:19,  6.83it/s]"
     ]
    },
    {
     "name": "stdout",
     "output_type": "stream",
     "text": [
      "[2025-06-25 15:10:31 INFO] Uploaded file OREGON_STATE_PRISM_010014_20240901_20241001_PPT.tif to aws bucket ose-dev-inputs\n"
     ]
    },
    {
     "name": "stderr",
     "output_type": "stream",
     "text": [
      "Uploading file: OREGON_STATE_PRISM_010014_20240901_20241001_PPT.tif:  45%|████▌     | 109/240 [00:18<00:19,  6.85it/s]"
     ]
    },
    {
     "name": "stdout",
     "output_type": "stream",
     "text": [
      "[2025-06-25 15:10:31 INFO] Uploaded file OREGON_STATE_PRISM_009015_20241201_20250101_PPT.tif to aws bucket ose-dev-inputs\n"
     ]
    },
    {
     "name": "stderr",
     "output_type": "stream",
     "text": [
      "Uploading file: OREGON_STATE_PRISM_009015_20241201_20250101_PPT.tif:  46%|████▌     | 110/240 [00:18<00:18,  6.99it/s]"
     ]
    },
    {
     "name": "stdout",
     "output_type": "stream",
     "text": [
      "[2025-06-25 15:10:32 INFO] Uploaded file OREGON_STATE_PRISM_012012_20240201_20240301_PPT.tif to aws bucket ose-dev-inputs\n"
     ]
    },
    {
     "name": "stderr",
     "output_type": "stream",
     "text": [
      "Uploading file: OREGON_STATE_PRISM_012012_20240201_20240301_PPT.tif:  46%|████▋     | 111/240 [00:18<00:19,  6.64it/s]"
     ]
    },
    {
     "name": "stdout",
     "output_type": "stream",
     "text": [
      "[2025-06-25 15:10:32 INFO] Uploaded file OREGON_STATE_PRISM_012015_20241201_20250101_PPT.tif to aws bucket ose-dev-inputs\n"
     ]
    },
    {
     "name": "stderr",
     "output_type": "stream",
     "text": [
      "Uploading file: OREGON_STATE_PRISM_012015_20241201_20250101_PPT.tif:  47%|████▋     | 112/240 [00:18<00:19,  6.73it/s]"
     ]
    },
    {
     "name": "stdout",
     "output_type": "stream",
     "text": [
      "[2025-06-25 15:10:32 INFO] Uploaded file OREGON_STATE_PRISM_009012_20240201_20240301_PPT.tif to aws bucket ose-dev-inputs\n"
     ]
    },
    {
     "name": "stderr",
     "output_type": "stream",
     "text": [
      "Uploading file: OREGON_STATE_PRISM_009012_20240201_20240301_PPT.tif:  47%|████▋     | 113/240 [00:19<00:19,  6.47it/s]"
     ]
    },
    {
     "name": "stdout",
     "output_type": "stream",
     "text": [
      "[2025-06-25 15:10:32 INFO] Uploaded file OREGON_STATE_PRISM_012012_20240601_20240701_PPT.tif to aws bucket ose-dev-inputs\n"
     ]
    },
    {
     "name": "stderr",
     "output_type": "stream",
     "text": [
      "Uploading file: OREGON_STATE_PRISM_012012_20240601_20240701_PPT.tif:  48%|████▊     | 114/240 [00:19<00:19,  6.58it/s]"
     ]
    },
    {
     "name": "stdout",
     "output_type": "stream",
     "text": [
      "[2025-06-25 15:10:32 INFO] Uploaded file OREGON_STATE_PRISM_011014_20241001_20241101_PPT.tif to aws bucket ose-dev-inputs\n"
     ]
    },
    {
     "name": "stderr",
     "output_type": "stream",
     "text": [
      "Uploading file: OREGON_STATE_PRISM_011014_20241001_20241101_PPT.tif:  48%|████▊     | 115/240 [00:19<00:18,  6.66it/s]"
     ]
    },
    {
     "name": "stdout",
     "output_type": "stream",
     "text": [
      "[2025-06-25 15:10:32 INFO] Uploaded file OREGON_STATE_PRISM_010015_20240801_20240901_PPT.tif to aws bucket ose-dev-inputs\n"
     ]
    },
    {
     "name": "stderr",
     "output_type": "stream",
     "text": [
      "Uploading file: OREGON_STATE_PRISM_010015_20240801_20240901_PPT.tif:  48%|████▊     | 116/240 [00:19<00:18,  6.76it/s]"
     ]
    },
    {
     "name": "stdout",
     "output_type": "stream",
     "text": [
      "[2025-06-25 15:10:33 INFO] Uploaded file OREGON_STATE_PRISM_010015_20240901_20241001_PPT.tif to aws bucket ose-dev-inputs\n"
     ]
    },
    {
     "name": "stderr",
     "output_type": "stream",
     "text": [
      "Uploading file: OREGON_STATE_PRISM_010015_20240901_20241001_PPT.tif:  49%|████▉     | 117/240 [00:19<00:17,  6.90it/s]"
     ]
    },
    {
     "name": "stdout",
     "output_type": "stream",
     "text": [
      "[2025-06-25 15:10:33 INFO] Uploaded file OREGON_STATE_PRISM_009013_20240601_20240701_PPT.tif to aws bucket ose-dev-inputs\n"
     ]
    },
    {
     "name": "stderr",
     "output_type": "stream",
     "text": [
      "Uploading file: OREGON_STATE_PRISM_009013_20240601_20240701_PPT.tif:  49%|████▉     | 118/240 [00:19<00:17,  6.94it/s]"
     ]
    },
    {
     "name": "stdout",
     "output_type": "stream",
     "text": [
      "[2025-06-25 15:10:33 INFO] Uploaded file OREGON_STATE_PRISM_012013_20240201_20240301_PPT.tif to aws bucket ose-dev-inputs\n"
     ]
    },
    {
     "name": "stderr",
     "output_type": "stream",
     "text": [
      "Uploading file: OREGON_STATE_PRISM_012013_20240201_20240301_PPT.tif:  50%|████▉     | 119/240 [00:19<00:17,  6.94it/s]"
     ]
    },
    {
     "name": "stdout",
     "output_type": "stream",
     "text": [
      "[2025-06-25 15:10:33 INFO] Uploaded file OREGON_STATE_PRISM_011011_20240701_20240801_PPT.tif to aws bucket ose-dev-inputs\n"
     ]
    },
    {
     "name": "stderr",
     "output_type": "stream",
     "text": [
      "Uploading file: OREGON_STATE_PRISM_011011_20240701_20240801_PPT.tif:  50%|█████     | 120/240 [00:20<00:17,  6.99it/s]"
     ]
    },
    {
     "name": "stdout",
     "output_type": "stream",
     "text": [
      "[2025-06-25 15:10:33 INFO] Uploaded file OREGON_STATE_PRISM_009014_20241201_20250101_PPT.tif to aws bucket ose-dev-inputs\n"
     ]
    },
    {
     "name": "stderr",
     "output_type": "stream",
     "text": [
      "Uploading file: OREGON_STATE_PRISM_009014_20241201_20250101_PPT.tif:  50%|█████     | 121/240 [00:20<00:16,  7.02it/s]"
     ]
    },
    {
     "name": "stdout",
     "output_type": "stream",
     "text": [
      "[2025-06-25 15:10:33 INFO] Uploaded file OREGON_STATE_PRISM_009013_20240201_20240301_PPT.tif to aws bucket ose-dev-inputs\n"
     ]
    },
    {
     "name": "stderr",
     "output_type": "stream",
     "text": [
      "Uploading file: OREGON_STATE_PRISM_009013_20240201_20240301_PPT.tif:  51%|█████     | 122/240 [00:20<00:17,  6.86it/s]"
     ]
    },
    {
     "name": "stdout",
     "output_type": "stream",
     "text": [
      "[2025-06-25 15:10:33 INFO] Uploaded file OREGON_STATE_PRISM_012014_20241201_20250101_PPT.tif to aws bucket ose-dev-inputs\n"
     ]
    },
    {
     "name": "stderr",
     "output_type": "stream",
     "text": [
      "Uploading file: OREGON_STATE_PRISM_012014_20241201_20250101_PPT.tif:  51%|█████▏    | 123/240 [00:20<00:18,  6.48it/s]"
     ]
    },
    {
     "name": "stdout",
     "output_type": "stream",
     "text": [
      "[2025-06-25 15:10:34 INFO] Uploaded file OREGON_STATE_PRISM_011015_20241001_20241101_PPT.tif to aws bucket ose-dev-inputs\n"
     ]
    },
    {
     "name": "stderr",
     "output_type": "stream",
     "text": [
      "Uploading file: OREGON_STATE_PRISM_011015_20241001_20241101_PPT.tif:  52%|█████▏    | 124/240 [00:20<00:17,  6.45it/s]"
     ]
    },
    {
     "name": "stdout",
     "output_type": "stream",
     "text": [
      "[2025-06-25 15:10:34 INFO] Uploaded file OREGON_STATE_PRISM_010014_20240801_20240901_PPT.tif to aws bucket ose-dev-inputs\n"
     ]
    },
    {
     "name": "stderr",
     "output_type": "stream",
     "text": [
      "Uploading file: OREGON_STATE_PRISM_010014_20240801_20240901_PPT.tif:  52%|█████▏    | 125/240 [00:20<00:18,  6.15it/s]"
     ]
    },
    {
     "name": "stdout",
     "output_type": "stream",
     "text": [
      "[2025-06-25 15:10:34 INFO] Uploaded file OREGON_STATE_PRISM_012013_20240601_20240701_PPT.tif to aws bucket ose-dev-inputs\n"
     ]
    },
    {
     "name": "stderr",
     "output_type": "stream",
     "text": [
      "Uploading file: OREGON_STATE_PRISM_012013_20240601_20240701_PPT.tif:  52%|█████▎    | 126/240 [00:20<00:18,  6.20it/s]"
     ]
    },
    {
     "name": "stdout",
     "output_type": "stream",
     "text": [
      "[2025-06-25 15:10:34 INFO] Uploaded file OREGON_STATE_PRISM_009012_20241001_20241101_PPT.tif to aws bucket ose-dev-inputs\n"
     ]
    },
    {
     "name": "stderr",
     "output_type": "stream",
     "text": [
      "Uploading file: OREGON_STATE_PRISM_009012_20241001_20241101_PPT.tif:  53%|█████▎    | 127/240 [00:21<00:17,  6.38it/s]"
     ]
    },
    {
     "name": "stdout",
     "output_type": "stream",
     "text": [
      "[2025-06-25 15:10:34 INFO] Uploaded file OREGON_STATE_PRISM_011011_20240101_20240201_PPT.tif to aws bucket ose-dev-inputs\n"
     ]
    },
    {
     "name": "stderr",
     "output_type": "stream",
     "text": [
      "Uploading file: OREGON_STATE_PRISM_011011_20240101_20240201_PPT.tif:  53%|█████▎    | 128/240 [00:21<00:21,  5.27it/s]"
     ]
    },
    {
     "name": "stdout",
     "output_type": "stream",
     "text": [
      "[2025-06-25 15:10:35 INFO] Uploaded file OREGON_STATE_PRISM_010013_20241101_20241201_PPT.tif to aws bucket ose-dev-inputs\n"
     ]
    },
    {
     "name": "stderr",
     "output_type": "stream",
     "text": [
      "Uploading file: OREGON_STATE_PRISM_010013_20241101_20241201_PPT.tif:  54%|█████▍    | 129/240 [00:21<00:31,  3.55it/s]"
     ]
    },
    {
     "name": "stdout",
     "output_type": "stream",
     "text": [
      "[2025-06-25 15:10:35 INFO] Uploaded file OREGON_STATE_PRISM_011014_20240201_20240301_PPT.tif to aws bucket ose-dev-inputs\n"
     ]
    },
    {
     "name": "stderr",
     "output_type": "stream",
     "text": [
      "Uploading file: OREGON_STATE_PRISM_011014_20240201_20240301_PPT.tif:  54%|█████▍    | 130/240 [00:22<00:36,  3.02it/s]"
     ]
    },
    {
     "name": "stdout",
     "output_type": "stream",
     "text": [
      "[2025-06-25 15:10:36 INFO] Uploaded file OREGON_STATE_PRISM_011013_20241201_20250101_PPT.tif to aws bucket ose-dev-inputs\n"
     ]
    },
    {
     "name": "stderr",
     "output_type": "stream",
     "text": [
      "Uploading file: OREGON_STATE_PRISM_011013_20241201_20250101_PPT.tif:  55%|█████▍    | 131/240 [00:22<00:41,  2.61it/s]"
     ]
    },
    {
     "name": "stdout",
     "output_type": "stream",
     "text": [
      "[2025-06-25 15:10:36 INFO] Uploaded file OREGON_STATE_PRISM_011011_20240501_20240601_PPT.tif to aws bucket ose-dev-inputs\n"
     ]
    },
    {
     "name": "stderr",
     "output_type": "stream",
     "text": [
      "Uploading file: OREGON_STATE_PRISM_011011_20240501_20240601_PPT.tif:  55%|█████▌    | 132/240 [00:23<00:46,  2.34it/s]"
     ]
    },
    {
     "name": "stdout",
     "output_type": "stream",
     "text": [
      "[2025-06-25 15:10:37 INFO] Uploaded file OREGON_STATE_PRISM_012012_20241001_20241101_PPT.tif to aws bucket ose-dev-inputs\n"
     ]
    },
    {
     "name": "stderr",
     "output_type": "stream",
     "text": [
      "Uploading file: OREGON_STATE_PRISM_012012_20241001_20241101_PPT.tif:  55%|█████▌    | 133/240 [00:23<00:51,  2.06it/s]"
     ]
    },
    {
     "name": "stdout",
     "output_type": "stream",
     "text": [
      "[2025-06-25 15:10:37 INFO] Uploaded file OREGON_STATE_PRISM_011014_20240601_20240701_PPT.tif to aws bucket ose-dev-inputs\n"
     ]
    },
    {
     "name": "stderr",
     "output_type": "stream",
     "text": [
      "Uploading file: OREGON_STATE_PRISM_011014_20240601_20240701_PPT.tif:  56%|█████▌    | 134/240 [00:24<00:51,  2.05it/s]"
     ]
    },
    {
     "name": "stdout",
     "output_type": "stream",
     "text": [
      "[2025-06-25 15:10:38 INFO] Uploaded file OREGON_STATE_PRISM_010014_20241001_20241101_PPT.tif to aws bucket ose-dev-inputs\n"
     ]
    },
    {
     "name": "stderr",
     "output_type": "stream",
     "text": [
      "Uploading file: OREGON_STATE_PRISM_010014_20241001_20241101_PPT.tif:  56%|█████▋    | 135/240 [00:24<00:47,  2.21it/s]"
     ]
    },
    {
     "name": "stdout",
     "output_type": "stream",
     "text": [
      "[2025-06-25 15:10:38 INFO] Uploaded file OREGON_STATE_PRISM_011015_20240801_20240901_PPT.tif to aws bucket ose-dev-inputs\n"
     ]
    },
    {
     "name": "stderr",
     "output_type": "stream",
     "text": [
      "Uploading file: OREGON_STATE_PRISM_011015_20240801_20240901_PPT.tif:  57%|█████▋    | 136/240 [00:25<00:42,  2.42it/s]"
     ]
    },
    {
     "name": "stdout",
     "output_type": "stream",
     "text": [
      "[2025-06-25 15:10:38 INFO] Uploaded file OREGON_STATE_PRISM_009015_20241101_20241201_PPT.tif to aws bucket ose-dev-inputs\n"
     ]
    },
    {
     "name": "stderr",
     "output_type": "stream",
     "text": [
      "Uploading file: OREGON_STATE_PRISM_009015_20241101_20241201_PPT.tif:  57%|█████▋    | 137/240 [00:25<00:34,  3.00it/s]"
     ]
    },
    {
     "name": "stdout",
     "output_type": "stream",
     "text": [
      "[2025-06-25 15:10:38 INFO] Uploaded file OREGON_STATE_PRISM_011014_20240901_20241001_PPT.tif to aws bucket ose-dev-inputs\n"
     ]
    },
    {
     "name": "stderr",
     "output_type": "stream",
     "text": [
      "Uploading file: OREGON_STATE_PRISM_011014_20240901_20241001_PPT.tif:  57%|█████▊    | 138/240 [00:25<00:28,  3.62it/s]"
     ]
    },
    {
     "name": "stdout",
     "output_type": "stream",
     "text": [
      "[2025-06-25 15:10:39 INFO] Uploaded file OREGON_STATE_PRISM_012015_20241101_20241201_PPT.tif to aws bucket ose-dev-inputs\n"
     ]
    },
    {
     "name": "stderr",
     "output_type": "stream",
     "text": [
      "Uploading file: OREGON_STATE_PRISM_012015_20241101_20241201_PPT.tif:  58%|█████▊    | 139/240 [00:25<00:23,  4.25it/s]"
     ]
    },
    {
     "name": "stdout",
     "output_type": "stream",
     "text": [
      "[2025-06-25 15:10:39 INFO] Uploaded file OREGON_STATE_PRISM_009011_20240401_20240501_PPT.tif to aws bucket ose-dev-inputs\n"
     ]
    },
    {
     "name": "stderr",
     "output_type": "stream",
     "text": [
      "Uploading file: OREGON_STATE_PRISM_009011_20240401_20240501_PPT.tif:  58%|█████▊    | 140/240 [00:25<00:20,  4.85it/s]"
     ]
    },
    {
     "name": "stdout",
     "output_type": "stream",
     "text": [
      "[2025-06-25 15:10:39 INFO] Uploaded file OREGON_STATE_PRISM_010012_20241201_20250101_PPT.tif to aws bucket ose-dev-inputs\n"
     ]
    },
    {
     "name": "stderr",
     "output_type": "stream",
     "text": [
      "Uploading file: OREGON_STATE_PRISM_010012_20241201_20250101_PPT.tif:  59%|█████▉    | 141/240 [00:25<00:18,  5.36it/s]"
     ]
    },
    {
     "name": "stdout",
     "output_type": "stream",
     "text": [
      "[2025-06-25 15:10:39 INFO] Uploaded file OREGON_STATE_PRISM_012012_20240801_20240901_PPT.tif to aws bucket ose-dev-inputs\n"
     ]
    },
    {
     "name": "stderr",
     "output_type": "stream",
     "text": [
      "Uploading file: OREGON_STATE_PRISM_012012_20240801_20240901_PPT.tif:  59%|█████▉    | 142/240 [00:26<00:16,  5.81it/s]"
     ]
    },
    {
     "name": "stdout",
     "output_type": "stream",
     "text": [
      "[2025-06-25 15:10:39 INFO] Uploaded file OREGON_STATE_PRISM_009013_20240901_20241001_PPT.tif to aws bucket ose-dev-inputs\n"
     ]
    },
    {
     "name": "stderr",
     "output_type": "stream",
     "text": [
      "Uploading file: OREGON_STATE_PRISM_009013_20240901_20241001_PPT.tif:  60%|█████▉    | 143/240 [00:26<00:15,  6.07it/s]"
     ]
    },
    {
     "name": "stdout",
     "output_type": "stream",
     "text": [
      "[2025-06-25 15:10:39 INFO] Uploaded file OREGON_STATE_PRISM_010015_20240601_20240701_PPT.tif to aws bucket ose-dev-inputs\n"
     ]
    },
    {
     "name": "stderr",
     "output_type": "stream",
     "text": [
      "Uploading file: OREGON_STATE_PRISM_010015_20240601_20240701_PPT.tif:  60%|██████    | 144/240 [00:26<00:15,  6.35it/s]"
     ]
    },
    {
     "name": "stdout",
     "output_type": "stream",
     "text": [
      "[2025-06-25 15:10:39 INFO] Uploaded file OREGON_STATE_PRISM_012013_20240901_20241001_PPT.tif to aws bucket ose-dev-inputs\n"
     ]
    },
    {
     "name": "stderr",
     "output_type": "stream",
     "text": [
      "Uploading file: OREGON_STATE_PRISM_012013_20240901_20241001_PPT.tif:  60%|██████    | 145/240 [00:26<00:14,  6.53it/s]"
     ]
    },
    {
     "name": "stdout",
     "output_type": "stream",
     "text": [
      "[2025-06-25 15:10:40 INFO] Uploaded file OREGON_STATE_PRISM_009012_20240801_20240901_PPT.tif to aws bucket ose-dev-inputs\n"
     ]
    },
    {
     "name": "stderr",
     "output_type": "stream",
     "text": [
      "Uploading file: OREGON_STATE_PRISM_009012_20240801_20240901_PPT.tif:  61%|██████    | 146/240 [00:26<00:14,  6.41it/s]"
     ]
    },
    {
     "name": "stdout",
     "output_type": "stream",
     "text": [
      "[2025-06-25 15:10:40 INFO] Uploaded file OREGON_STATE_PRISM_011012_20241101_20241201_PPT.tif to aws bucket ose-dev-inputs\n"
     ]
    },
    {
     "name": "stderr",
     "output_type": "stream",
     "text": [
      "Uploading file: OREGON_STATE_PRISM_011012_20241101_20241201_PPT.tif:  61%|██████▏   | 147/240 [00:26<00:14,  6.64it/s]"
     ]
    },
    {
     "name": "stdout",
     "output_type": "stream",
     "text": [
      "[2025-06-25 15:10:40 INFO] Uploaded file OREGON_STATE_PRISM_010011_20240301_20240401_PPT.tif to aws bucket ose-dev-inputs\n"
     ]
    },
    {
     "name": "stderr",
     "output_type": "stream",
     "text": [
      "Uploading file: OREGON_STATE_PRISM_010011_20240301_20240401_PPT.tif:  62%|██████▏   | 148/240 [00:26<00:13,  6.73it/s]"
     ]
    },
    {
     "name": "stdout",
     "output_type": "stream",
     "text": [
      "[2025-06-25 15:10:40 INFO] Uploaded file OREGON_STATE_PRISM_010015_20240201_20240301_PPT.tif to aws bucket ose-dev-inputs\n"
     ]
    },
    {
     "name": "stderr",
     "output_type": "stream",
     "text": [
      "Uploading file: OREGON_STATE_PRISM_010015_20240201_20240301_PPT.tif:  62%|██████▏   | 149/240 [00:27<00:13,  6.87it/s]"
     ]
    },
    {
     "name": "stdout",
     "output_type": "stream",
     "text": [
      "[2025-06-25 15:10:40 INFO] Uploaded file OREGON_STATE_PRISM_012011_20240401_20240501_PPT.tif to aws bucket ose-dev-inputs\n"
     ]
    },
    {
     "name": "stderr",
     "output_type": "stream",
     "text": [
      "Uploading file: OREGON_STATE_PRISM_012011_20240401_20240501_PPT.tif:  62%|██████▎   | 150/240 [00:27<00:13,  6.86it/s]"
     ]
    },
    {
     "name": "stdout",
     "output_type": "stream",
     "text": [
      "[2025-06-25 15:10:40 INFO] Uploaded file OREGON_STATE_PRISM_010012_20240201_20240301_PPT.tif to aws bucket ose-dev-inputs\n"
     ]
    },
    {
     "name": "stderr",
     "output_type": "stream",
     "text": [
      "Uploading file: OREGON_STATE_PRISM_010012_20240201_20240301_PPT.tif:  63%|██████▎   | 151/240 [00:27<00:15,  5.71it/s]"
     ]
    },
    {
     "name": "stdout",
     "output_type": "stream",
     "text": [
      "[2025-06-25 15:10:41 INFO] Uploaded file OREGON_STATE_PRISM_011015_20241101_20241201_PPT.tif to aws bucket ose-dev-inputs\n"
     ]
    },
    {
     "name": "stderr",
     "output_type": "stream",
     "text": [
      "Uploading file: OREGON_STATE_PRISM_011015_20241101_20241201_PPT.tif:  63%|██████▎   | 152/240 [00:27<00:14,  6.10it/s]"
     ]
    },
    {
     "name": "stdout",
     "output_type": "stream",
     "text": [
      "[2025-06-25 15:10:41 INFO] Uploaded file OREGON_STATE_PRISM_009015_20240801_20240901_PPT.tif to aws bucket ose-dev-inputs\n"
     ]
    },
    {
     "name": "stderr",
     "output_type": "stream",
     "text": [
      "Uploading file: OREGON_STATE_PRISM_009015_20240801_20240901_PPT.tif:  64%|██████▍   | 153/240 [00:27<00:13,  6.37it/s]"
     ]
    },
    {
     "name": "stdout",
     "output_type": "stream",
     "text": [
      "[2025-06-25 15:10:41 INFO] Uploaded file OREGON_STATE_PRISM_012014_20240901_20241001_PPT.tif to aws bucket ose-dev-inputs\n"
     ]
    },
    {
     "name": "stderr",
     "output_type": "stream",
     "text": [
      "Uploading file: OREGON_STATE_PRISM_012014_20240901_20241001_PPT.tif:  64%|██████▍   | 154/240 [00:27<00:13,  6.58it/s]"
     ]
    },
    {
     "name": "stdout",
     "output_type": "stream",
     "text": [
      "[2025-06-25 15:10:41 INFO] Uploaded file OREGON_STATE_PRISM_009014_20240901_20241001_PPT.tif to aws bucket ose-dev-inputs\n"
     ]
    },
    {
     "name": "stderr",
     "output_type": "stream",
     "text": [
      "Uploading file: OREGON_STATE_PRISM_009014_20240901_20241001_PPT.tif:  65%|██████▍   | 155/240 [00:28<00:13,  6.31it/s]"
     ]
    },
    {
     "name": "stdout",
     "output_type": "stream",
     "text": [
      "[2025-06-25 15:10:41 INFO] Uploaded file OREGON_STATE_PRISM_012015_20240801_20240901_PPT.tif to aws bucket ose-dev-inputs\n"
     ]
    },
    {
     "name": "stderr",
     "output_type": "stream",
     "text": [
      "Uploading file: OREGON_STATE_PRISM_012015_20240801_20240901_PPT.tif:  65%|██████▌   | 156/240 [00:28<00:12,  6.58it/s]"
     ]
    },
    {
     "name": "stdout",
     "output_type": "stream",
     "text": [
      "[2025-06-25 15:10:41 INFO] Uploaded file OREGON_STATE_PRISM_010012_20240601_20240701_PPT.tif to aws bucket ose-dev-inputs\n"
     ]
    },
    {
     "name": "stderr",
     "output_type": "stream",
     "text": [
      "Uploading file: OREGON_STATE_PRISM_010012_20240601_20240701_PPT.tif:  65%|██████▌   | 157/240 [00:28<00:12,  6.67it/s]"
     ]
    },
    {
     "name": "stdout",
     "output_type": "stream",
     "text": [
      "[2025-06-25 15:10:41 INFO] Uploaded file OREGON_STATE_PRISM_010015_20241201_20250101_PPT.tif to aws bucket ose-dev-inputs\n"
     ]
    },
    {
     "name": "stderr",
     "output_type": "stream",
     "text": [
      "Uploading file: OREGON_STATE_PRISM_010015_20241201_20250101_PPT.tif:  66%|██████▌   | 158/240 [00:28<00:11,  6.84it/s]"
     ]
    },
    {
     "name": "stdout",
     "output_type": "stream",
     "text": [
      "[2025-06-25 15:10:42 INFO] Uploaded file OREGON_STATE_PRISM_011011_20240401_20240501_PPT.tif to aws bucket ose-dev-inputs\n"
     ]
    },
    {
     "name": "stderr",
     "output_type": "stream",
     "text": [
      "Uploading file: OREGON_STATE_PRISM_011011_20240401_20240501_PPT.tif:  66%|██████▋   | 159/240 [00:28<00:11,  6.95it/s]"
     ]
    },
    {
     "name": "stdout",
     "output_type": "stream",
     "text": [
      "[2025-06-25 15:10:42 INFO] Uploaded file OREGON_STATE_PRISM_012012_20241101_20241201_PPT.tif to aws bucket ose-dev-inputs\n"
     ]
    },
    {
     "name": "stderr",
     "output_type": "stream",
     "text": [
      "Uploading file: OREGON_STATE_PRISM_012012_20241101_20241201_PPT.tif:  67%|██████▋   | 160/240 [00:28<00:11,  6.99it/s]"
     ]
    },
    {
     "name": "stdout",
     "output_type": "stream",
     "text": [
      "[2025-06-25 15:10:42 INFO] Uploaded file OREGON_STATE_PRISM_011013_20240901_20241001_PPT.tif to aws bucket ose-dev-inputs\n"
     ]
    },
    {
     "name": "stderr",
     "output_type": "stream",
     "text": [
      "Uploading file: OREGON_STATE_PRISM_011013_20240901_20241001_PPT.tif:  67%|██████▋   | 161/240 [00:28<00:11,  6.95it/s]"
     ]
    },
    {
     "name": "stdout",
     "output_type": "stream",
     "text": [
      "[2025-06-25 15:10:42 INFO] Uploaded file OREGON_STATE_PRISM_009012_20241101_20241201_PPT.tif to aws bucket ose-dev-inputs\n"
     ]
    },
    {
     "name": "stderr",
     "output_type": "stream",
     "text": [
      "Uploading file: OREGON_STATE_PRISM_009012_20241101_20241201_PPT.tif:  68%|██████▊   | 162/240 [00:29<00:11,  7.02it/s]"
     ]
    },
    {
     "name": "stdout",
     "output_type": "stream",
     "text": [
      "[2025-06-25 15:10:42 INFO] Uploaded file OREGON_STATE_PRISM_011012_20240801_20240901_PPT.tif to aws bucket ose-dev-inputs\n"
     ]
    },
    {
     "name": "stderr",
     "output_type": "stream",
     "text": [
      "Uploading file: OREGON_STATE_PRISM_011012_20240801_20240901_PPT.tif:  68%|██████▊   | 163/240 [00:29<00:11,  6.98it/s]"
     ]
    },
    {
     "name": "stdout",
     "output_type": "stream",
     "text": [
      "[2025-06-25 15:10:42 INFO] Uploaded file OREGON_STATE_PRISM_010013_20241001_20241101_PPT.tif to aws bucket ose-dev-inputs\n"
     ]
    },
    {
     "name": "stderr",
     "output_type": "stream",
     "text": [
      "Uploading file: OREGON_STATE_PRISM_010013_20241001_20241101_PPT.tif:  68%|██████▊   | 164/240 [00:29<00:11,  6.62it/s]"
     ]
    },
    {
     "name": "stdout",
     "output_type": "stream",
     "text": [
      "[2025-06-25 15:10:42 INFO] Uploaded file OREGON_STATE_PRISM_012015_20241001_20241101_PPT.tif to aws bucket ose-dev-inputs\n"
     ]
    },
    {
     "name": "stderr",
     "output_type": "stream",
     "text": [
      "Uploading file: OREGON_STATE_PRISM_012015_20241001_20241101_PPT.tif:  69%|██████▉   | 165/240 [00:29<00:10,  6.83it/s]"
     ]
    },
    {
     "name": "stdout",
     "output_type": "stream",
     "text": [
      "[2025-06-25 15:10:43 INFO] Uploaded file OREGON_STATE_PRISM_011013_20240601_20240701_PPT.tif to aws bucket ose-dev-inputs\n"
     ]
    },
    {
     "name": "stderr",
     "output_type": "stream",
     "text": [
      "Uploading file: OREGON_STATE_PRISM_011013_20240601_20240701_PPT.tif:  69%|██████▉   | 166/240 [00:29<00:10,  6.93it/s]"
     ]
    },
    {
     "name": "stdout",
     "output_type": "stream",
     "text": [
      "[2025-06-25 15:10:43 INFO] Uploaded file OREGON_STATE_PRISM_009011_20240701_20240801_PPT.tif to aws bucket ose-dev-inputs\n"
     ]
    },
    {
     "name": "stderr",
     "output_type": "stream",
     "text": [
      "Uploading file: OREGON_STATE_PRISM_009011_20240701_20240801_PPT.tif:  70%|██████▉   | 167/240 [00:29<00:10,  6.96it/s]"
     ]
    },
    {
     "name": "stdout",
     "output_type": "stream",
     "text": [
      "[2025-06-25 15:10:43 INFO] Uploaded file OREGON_STATE_PRISM_011014_20241201_20250101_PPT.tif to aws bucket ose-dev-inputs\n"
     ]
    },
    {
     "name": "stderr",
     "output_type": "stream",
     "text": [
      "Uploading file: OREGON_STATE_PRISM_011014_20241201_20250101_PPT.tif:  70%|███████   | 168/240 [00:29<00:10,  7.09it/s]"
     ]
    },
    {
     "name": "stdout",
     "output_type": "stream",
     "text": [
      "[2025-06-25 15:10:43 INFO] Uploaded file OREGON_STATE_PRISM_011013_20240201_20240301_PPT.tif to aws bucket ose-dev-inputs\n"
     ]
    },
    {
     "name": "stderr",
     "output_type": "stream",
     "text": [
      "Uploading file: OREGON_STATE_PRISM_011013_20240201_20240301_PPT.tif:  70%|███████   | 169/240 [00:30<00:09,  7.17it/s]"
     ]
    },
    {
     "name": "stdout",
     "output_type": "stream",
     "text": [
      "[2025-06-25 15:10:43 INFO] Uploaded file OREGON_STATE_PRISM_012011_20240701_20240801_PPT.tif to aws bucket ose-dev-inputs\n"
     ]
    },
    {
     "name": "stderr",
     "output_type": "stream",
     "text": [
      "Uploading file: OREGON_STATE_PRISM_012011_20240701_20240801_PPT.tif:  71%|███████   | 170/240 [00:30<00:09,  7.24it/s]"
     ]
    },
    {
     "name": "stdout",
     "output_type": "stream",
     "text": [
      "[2025-06-25 15:10:43 INFO] Uploaded file OREGON_STATE_PRISM_010014_20241101_20241201_PPT.tif to aws bucket ose-dev-inputs\n"
     ]
    },
    {
     "name": "stderr",
     "output_type": "stream",
     "text": [
      "Uploading file: OREGON_STATE_PRISM_010014_20241101_20241201_PPT.tif:  71%|███████▏  | 171/240 [00:30<00:09,  7.22it/s]"
     ]
    },
    {
     "name": "stdout",
     "output_type": "stream",
     "text": [
      "[2025-06-25 15:10:43 INFO] Uploaded file OREGON_STATE_PRISM_009015_20241001_20241101_PPT.tif to aws bucket ose-dev-inputs\n"
     ]
    },
    {
     "name": "stderr",
     "output_type": "stream",
     "text": [
      "Uploading file: OREGON_STATE_PRISM_009015_20241001_20241101_PPT.tif:  72%|███████▏  | 172/240 [00:30<00:09,  7.10it/s]"
     ]
    },
    {
     "name": "stdout",
     "output_type": "stream",
     "text": [
      "[2025-06-25 15:10:44 INFO] Uploaded file OREGON_STATE_PRISM_010013_20240801_20240901_PPT.tif to aws bucket ose-dev-inputs\n"
     ]
    },
    {
     "name": "stderr",
     "output_type": "stream",
     "text": [
      "Uploading file: OREGON_STATE_PRISM_010013_20240801_20240901_PPT.tif:  72%|███████▏  | 173/240 [00:30<00:09,  7.20it/s]"
     ]
    },
    {
     "name": "stdout",
     "output_type": "stream",
     "text": [
      "[2025-06-25 15:10:44 INFO] Uploaded file OREGON_STATE_PRISM_009011_20240101_20240201_PPT.tif to aws bucket ose-dev-inputs\n"
     ]
    },
    {
     "name": "stderr",
     "output_type": "stream",
     "text": [
      "Uploading file: OREGON_STATE_PRISM_009011_20240101_20240201_PPT.tif:  72%|███████▎  | 174/240 [00:30<00:09,  7.12it/s]"
     ]
    },
    {
     "name": "stdout",
     "output_type": "stream",
     "text": [
      "[2025-06-25 15:10:44 INFO] Uploaded file OREGON_STATE_PRISM_011012_20241001_20241101_PPT.tif to aws bucket ose-dev-inputs\n"
     ]
    },
    {
     "name": "stderr",
     "output_type": "stream",
     "text": [
      "Uploading file: OREGON_STATE_PRISM_011012_20241001_20241101_PPT.tif:  73%|███████▎  | 175/240 [00:30<00:09,  7.13it/s]"
     ]
    },
    {
     "name": "stdout",
     "output_type": "stream",
     "text": [
      "[2025-06-25 15:10:44 INFO] Uploaded file OREGON_STATE_PRISM_012014_20240601_20240701_PPT.tif to aws bucket ose-dev-inputs\n"
     ]
    },
    {
     "name": "stderr",
     "output_type": "stream",
     "text": [
      "Uploading file: OREGON_STATE_PRISM_012014_20240601_20240701_PPT.tif:  73%|███████▎  | 176/240 [00:30<00:08,  7.18it/s]"
     ]
    },
    {
     "name": "stdout",
     "output_type": "stream",
     "text": [
      "[2025-06-25 15:10:44 INFO] Uploaded file OREGON_STATE_PRISM_009014_20240201_20240301_PPT.tif to aws bucket ose-dev-inputs\n"
     ]
    },
    {
     "name": "stderr",
     "output_type": "stream",
     "text": [
      "Uploading file: OREGON_STATE_PRISM_009014_20240201_20240301_PPT.tif:  74%|███████▍  | 177/240 [00:31<00:08,  7.16it/s]"
     ]
    },
    {
     "name": "stdout",
     "output_type": "stream",
     "text": [
      "[2025-06-25 15:10:44 INFO] Uploaded file OREGON_STATE_PRISM_012013_20241201_20250101_PPT.tif to aws bucket ose-dev-inputs\n"
     ]
    },
    {
     "name": "stderr",
     "output_type": "stream",
     "text": [
      "Uploading file: OREGON_STATE_PRISM_012013_20241201_20250101_PPT.tif:  74%|███████▍  | 178/240 [00:31<00:08,  7.19it/s]"
     ]
    },
    {
     "name": "stdout",
     "output_type": "stream",
     "text": [
      "[2025-06-25 15:10:44 INFO] Uploaded file OREGON_STATE_PRISM_012011_20240501_20240601_PPT.tif to aws bucket ose-dev-inputs\n"
     ]
    },
    {
     "name": "stderr",
     "output_type": "stream",
     "text": [
      "Uploading file: OREGON_STATE_PRISM_012011_20240501_20240601_PPT.tif:  75%|███████▍  | 179/240 [00:31<00:08,  7.15it/s]"
     ]
    },
    {
     "name": "stdout",
     "output_type": "stream",
     "text": [
      "[2025-06-25 15:10:44 INFO] Uploaded file OREGON_STATE_PRISM_012014_20240201_20240301_PPT.tif to aws bucket ose-dev-inputs\n"
     ]
    },
    {
     "name": "stderr",
     "output_type": "stream",
     "text": [
      "Uploading file: OREGON_STATE_PRISM_012014_20240201_20240301_PPT.tif:  75%|███████▌  | 180/240 [00:31<00:08,  6.98it/s]"
     ]
    },
    {
     "name": "stdout",
     "output_type": "stream",
     "text": [
      "[2025-06-25 15:10:45 INFO] Uploaded file OREGON_STATE_PRISM_009011_20240501_20240601_PPT.tif to aws bucket ose-dev-inputs\n"
     ]
    },
    {
     "name": "stderr",
     "output_type": "stream",
     "text": [
      "Uploading file: OREGON_STATE_PRISM_009011_20240501_20240601_PPT.tif:  75%|███████▌  | 181/240 [00:31<00:08,  6.84it/s]"
     ]
    },
    {
     "name": "stdout",
     "output_type": "stream",
     "text": [
      "[2025-06-25 15:10:45 INFO] Uploaded file OREGON_STATE_PRISM_009013_20241201_20250101_PPT.tif to aws bucket ose-dev-inputs\n"
     ]
    },
    {
     "name": "stderr",
     "output_type": "stream",
     "text": [
      "Uploading file: OREGON_STATE_PRISM_009013_20241201_20250101_PPT.tif:  76%|███████▌  | 182/240 [00:31<00:08,  6.95it/s]"
     ]
    },
    {
     "name": "stdout",
     "output_type": "stream",
     "text": [
      "[2025-06-25 15:10:45 INFO] Uploaded file OREGON_STATE_PRISM_012011_20240101_20240201_PPT.tif to aws bucket ose-dev-inputs\n"
     ]
    },
    {
     "name": "stderr",
     "output_type": "stream",
     "text": [
      "Uploading file: OREGON_STATE_PRISM_012011_20240101_20240201_PPT.tif:  76%|███████▋  | 183/240 [00:31<00:08,  7.00it/s]"
     ]
    },
    {
     "name": "stdout",
     "output_type": "stream",
     "text": [
      "[2025-06-25 15:10:45 INFO] Uploaded file OREGON_STATE_PRISM_010012_20240901_20241001_PPT.tif to aws bucket ose-dev-inputs\n"
     ]
    },
    {
     "name": "stderr",
     "output_type": "stream",
     "text": [
      "Uploading file: OREGON_STATE_PRISM_010012_20240901_20241001_PPT.tif:  77%|███████▋  | 184/240 [00:32<00:07,  7.08it/s]"
     ]
    },
    {
     "name": "stdout",
     "output_type": "stream",
     "text": [
      "[2025-06-25 15:10:45 INFO] Uploaded file OREGON_STATE_PRISM_009014_20240601_20240701_PPT.tif to aws bucket ose-dev-inputs\n"
     ]
    },
    {
     "name": "stderr",
     "output_type": "stream",
     "text": [
      "Uploading file: OREGON_STATE_PRISM_009014_20240601_20240701_PPT.tif:  77%|███████▋  | 185/240 [00:32<00:07,  7.08it/s]"
     ]
    },
    {
     "name": "stdout",
     "output_type": "stream",
     "text": [
      "[2025-06-25 15:10:45 INFO] Uploaded file OREGON_STATE_PRISM_011013_20240701_20240801_PPT.tif to aws bucket ose-dev-inputs\n"
     ]
    },
    {
     "name": "stderr",
     "output_type": "stream",
     "text": [
      "Uploading file: OREGON_STATE_PRISM_011013_20240701_20240801_PPT.tif:  78%|███████▊  | 186/240 [00:32<00:07,  7.08it/s]"
     ]
    },
    {
     "name": "stdout",
     "output_type": "stream",
     "text": [
      "[2025-06-25 15:10:45 INFO] Uploaded file OREGON_STATE_PRISM_012011_20240201_20240301_PPT.tif to aws bucket ose-dev-inputs\n"
     ]
    },
    {
     "name": "stderr",
     "output_type": "stream",
     "text": [
      "Uploading file: OREGON_STATE_PRISM_012011_20240201_20240301_PPT.tif:  78%|███████▊  | 187/240 [00:32<00:07,  7.20it/s]"
     ]
    },
    {
     "name": "stdout",
     "output_type": "stream",
     "text": [
      "[2025-06-25 15:10:46 INFO] Uploaded file OREGON_STATE_PRISM_009014_20240501_20240601_PPT.tif to aws bucket ose-dev-inputs\n"
     ]
    },
    {
     "name": "stderr",
     "output_type": "stream",
     "text": [
      "Uploading file: OREGON_STATE_PRISM_009014_20240501_20240601_PPT.tif:  78%|███████▊  | 188/240 [00:32<00:07,  7.04it/s]"
     ]
    },
    {
     "name": "stdout",
     "output_type": "stream",
     "text": [
      "[2025-06-25 15:10:46 INFO] Uploaded file OREGON_STATE_PRISM_010015_20240401_20240501_PPT.tif to aws bucket ose-dev-inputs\n"
     ]
    },
    {
     "name": "stderr",
     "output_type": "stream",
     "text": [
      "Uploading file: OREGON_STATE_PRISM_010015_20240401_20240501_PPT.tif:  79%|███████▉  | 189/240 [00:32<00:07,  7.11it/s]"
     ]
    },
    {
     "name": "stdout",
     "output_type": "stream",
     "text": [
      "[2025-06-25 15:10:46 INFO] Uploaded file OREGON_STATE_PRISM_012014_20240101_20240201_PPT.tif to aws bucket ose-dev-inputs\n"
     ]
    },
    {
     "name": "stderr",
     "output_type": "stream",
     "text": [
      "Uploading file: OREGON_STATE_PRISM_012014_20240101_20240201_PPT.tif:  79%|███████▉  | 190/240 [00:32<00:06,  7.22it/s]"
     ]
    },
    {
     "name": "stdout",
     "output_type": "stream",
     "text": [
      "[2025-06-25 15:10:46 INFO] Uploaded file OREGON_STATE_PRISM_012015_20240301_20240401_PPT.tif to aws bucket ose-dev-inputs\n"
     ]
    },
    {
     "name": "stderr",
     "output_type": "stream",
     "text": [
      "Uploading file: OREGON_STATE_PRISM_012015_20240301_20240401_PPT.tif:  80%|███████▉  | 191/240 [00:33<00:06,  7.34it/s]"
     ]
    },
    {
     "name": "stdout",
     "output_type": "stream",
     "text": [
      "[2025-06-25 15:10:46 INFO] Uploaded file OREGON_STATE_PRISM_009011_20240601_20240701_PPT.tif to aws bucket ose-dev-inputs\n"
     ]
    },
    {
     "name": "stderr",
     "output_type": "stream",
     "text": [
      "Uploading file: OREGON_STATE_PRISM_009011_20240601_20240701_PPT.tif:  80%|████████  | 192/240 [00:33<00:06,  7.36it/s]"
     ]
    },
    {
     "name": "stdout",
     "output_type": "stream",
     "text": [
      "[2025-06-25 15:10:46 INFO] Uploaded file OREGON_STATE_PRISM_009015_20240301_20240401_PPT.tif to aws bucket ose-dev-inputs\n"
     ]
    },
    {
     "name": "stderr",
     "output_type": "stream",
     "text": [
      "Uploading file: OREGON_STATE_PRISM_009015_20240301_20240401_PPT.tif:  80%|████████  | 193/240 [00:33<00:06,  7.39it/s]"
     ]
    },
    {
     "name": "stdout",
     "output_type": "stream",
     "text": [
      "[2025-06-25 15:10:46 INFO] Uploaded file OREGON_STATE_PRISM_009014_20240101_20240201_PPT.tif to aws bucket ose-dev-inputs\n"
     ]
    },
    {
     "name": "stderr",
     "output_type": "stream",
     "text": [
      "Uploading file: OREGON_STATE_PRISM_009014_20240101_20240201_PPT.tif:  81%|████████  | 194/240 [00:33<00:06,  7.24it/s]"
     ]
    },
    {
     "name": "stdout",
     "output_type": "stream",
     "text": [
      "[2025-06-25 15:10:47 INFO] Uploaded file OREGON_STATE_PRISM_012011_20240601_20240701_PPT.tif to aws bucket ose-dev-inputs\n"
     ]
    },
    {
     "name": "stderr",
     "output_type": "stream",
     "text": [
      "Uploading file: OREGON_STATE_PRISM_012011_20240601_20240701_PPT.tif:  81%|████████▏ | 195/240 [00:33<00:06,  7.07it/s]"
     ]
    },
    {
     "name": "stdout",
     "output_type": "stream",
     "text": [
      "[2025-06-25 15:10:47 INFO] Uploaded file OREGON_STATE_PRISM_009011_20240201_20240301_PPT.tif to aws bucket ose-dev-inputs\n"
     ]
    },
    {
     "name": "stderr",
     "output_type": "stream",
     "text": [
      "Uploading file: OREGON_STATE_PRISM_009011_20240201_20240301_PPT.tif:  82%|████████▏ | 196/240 [00:33<00:06,  7.06it/s]"
     ]
    },
    {
     "name": "stdout",
     "output_type": "stream",
     "text": [
      "[2025-06-25 15:10:47 INFO] Uploaded file OREGON_STATE_PRISM_012014_20240501_20240601_PPT.tif to aws bucket ose-dev-inputs\n"
     ]
    },
    {
     "name": "stderr",
     "output_type": "stream",
     "text": [
      "Uploading file: OREGON_STATE_PRISM_012014_20240501_20240601_PPT.tif:  82%|████████▏ | 197/240 [00:33<00:06,  7.16it/s]"
     ]
    },
    {
     "name": "stdout",
     "output_type": "stream",
     "text": [
      "[2025-06-25 15:10:47 INFO] Uploaded file OREGON_STATE_PRISM_012014_20240701_20240801_PPT.tif to aws bucket ose-dev-inputs\n"
     ]
    },
    {
     "name": "stderr",
     "output_type": "stream",
     "text": [
      "Uploading file: OREGON_STATE_PRISM_012014_20240701_20240801_PPT.tif:  82%|████████▎ | 198/240 [00:34<00:05,  7.25it/s]"
     ]
    },
    {
     "name": "stdout",
     "output_type": "stream",
     "text": [
      "[2025-06-25 15:10:47 INFO] Uploaded file OREGON_STATE_PRISM_010011_20241101_20241201_PPT.tif to aws bucket ose-dev-inputs\n"
     ]
    },
    {
     "name": "stderr",
     "output_type": "stream",
     "text": [
      "Uploading file: OREGON_STATE_PRISM_010011_20241101_20241201_PPT.tif:  83%|████████▎ | 199/240 [00:34<00:05,  7.28it/s]"
     ]
    },
    {
     "name": "stdout",
     "output_type": "stream",
     "text": [
      "[2025-06-25 15:10:47 INFO] Uploaded file OREGON_STATE_PRISM_011012_20240301_20240401_PPT.tif to aws bucket ose-dev-inputs\n"
     ]
    },
    {
     "name": "stderr",
     "output_type": "stream",
     "text": [
      "Uploading file: OREGON_STATE_PRISM_011012_20240301_20240401_PPT.tif:  83%|████████▎ | 200/240 [00:34<00:05,  7.26it/s]"
     ]
    },
    {
     "name": "stdout",
     "output_type": "stream",
     "text": [
      "[2025-06-25 15:10:48 INFO] Uploaded file OREGON_STATE_PRISM_011013_20240101_20240201_PPT.tif to aws bucket ose-dev-inputs\n"
     ]
    },
    {
     "name": "stderr",
     "output_type": "stream",
     "text": [
      "Uploading file: OREGON_STATE_PRISM_011013_20240101_20240201_PPT.tif:  84%|████████▍ | 201/240 [00:34<00:06,  5.78it/s]"
     ]
    },
    {
     "name": "stdout",
     "output_type": "stream",
     "text": [
      "[2025-06-25 15:10:48 INFO] Uploaded file OREGON_STATE_PRISM_009014_20240701_20240801_PPT.tif to aws bucket ose-dev-inputs\n"
     ]
    },
    {
     "name": "stderr",
     "output_type": "stream",
     "text": [
      "Uploading file: OREGON_STATE_PRISM_009014_20240701_20240801_PPT.tif:  84%|████████▍ | 202/240 [00:34<00:06,  6.07it/s]"
     ]
    },
    {
     "name": "stdout",
     "output_type": "stream",
     "text": [
      "[2025-06-25 15:10:48 INFO] Uploaded file OREGON_STATE_PRISM_011013_20240501_20240601_PPT.tif to aws bucket ose-dev-inputs\n"
     ]
    },
    {
     "name": "stderr",
     "output_type": "stream",
     "text": [
      "Uploading file: OREGON_STATE_PRISM_011013_20240501_20240601_PPT.tif:  85%|████████▍ | 203/240 [00:34<00:05,  6.22it/s]"
     ]
    },
    {
     "name": "stdout",
     "output_type": "stream",
     "text": [
      "[2025-06-25 15:10:48 INFO] Uploaded file OREGON_STATE_PRISM_011011_20241201_20250101_PPT.tif to aws bucket ose-dev-inputs\n"
     ]
    },
    {
     "name": "stderr",
     "output_type": "stream",
     "text": [
      "Uploading file: OREGON_STATE_PRISM_011011_20241201_20250101_PPT.tif:  85%|████████▌ | 204/240 [00:35<00:05,  6.51it/s]"
     ]
    },
    {
     "name": "stdout",
     "output_type": "stream",
     "text": [
      "[2025-06-25 15:10:48 INFO] Uploaded file OREGON_STATE_PRISM_010012_20240701_20240801_PPT.tif to aws bucket ose-dev-inputs\n"
     ]
    },
    {
     "name": "stderr",
     "output_type": "stream",
     "text": [
      "Uploading file: OREGON_STATE_PRISM_010012_20240701_20240801_PPT.tif:  85%|████████▌ | 205/240 [00:35<00:05,  6.82it/s]"
     ]
    },
    {
     "name": "stdout",
     "output_type": "stream",
     "text": [
      "[2025-06-25 15:10:48 INFO] Uploaded file OREGON_STATE_PRISM_011014_20240401_20240501_PPT.tif to aws bucket ose-dev-inputs\n"
     ]
    },
    {
     "name": "stderr",
     "output_type": "stream",
     "text": [
      "Uploading file: OREGON_STATE_PRISM_011014_20240401_20240501_PPT.tif:  86%|████████▌ | 206/240 [00:35<00:04,  6.93it/s]"
     ]
    },
    {
     "name": "stdout",
     "output_type": "stream",
     "text": [
      "[2025-06-25 15:10:48 INFO] Uploaded file OREGON_STATE_PRISM_009011_20240901_20241001_PPT.tif to aws bucket ose-dev-inputs\n"
     ]
    },
    {
     "name": "stderr",
     "output_type": "stream",
     "text": [
      "Uploading file: OREGON_STATE_PRISM_009011_20240901_20241001_PPT.tif:  86%|████████▋ | 207/240 [00:35<00:04,  7.02it/s]"
     ]
    },
    {
     "name": "stdout",
     "output_type": "stream",
     "text": [
      "[2025-06-25 15:10:49 INFO] Uploaded file OREGON_STATE_PRISM_010012_20240501_20240601_PPT.tif to aws bucket ose-dev-inputs\n"
     ]
    },
    {
     "name": "stderr",
     "output_type": "stream",
     "text": [
      "Uploading file: OREGON_STATE_PRISM_010012_20240501_20240601_PPT.tif:  87%|████████▋ | 208/240 [00:35<00:04,  7.09it/s]"
     ]
    },
    {
     "name": "stdout",
     "output_type": "stream",
     "text": [
      "[2025-06-25 15:10:49 INFO] Uploaded file OREGON_STATE_PRISM_009013_20240401_20240501_PPT.tif to aws bucket ose-dev-inputs\n"
     ]
    },
    {
     "name": "stderr",
     "output_type": "stream",
     "text": [
      "Uploading file: OREGON_STATE_PRISM_009013_20240401_20240501_PPT.tif:  87%|████████▋ | 209/240 [00:35<00:04,  7.14it/s]"
     ]
    },
    {
     "name": "stdout",
     "output_type": "stream",
     "text": [
      "[2025-06-25 15:10:49 INFO] Uploaded file OREGON_STATE_PRISM_012013_20240401_20240501_PPT.tif to aws bucket ose-dev-inputs\n"
     ]
    },
    {
     "name": "stderr",
     "output_type": "stream",
     "text": [
      "Uploading file: OREGON_STATE_PRISM_012013_20240401_20240501_PPT.tif:  88%|████████▊ | 210/240 [00:35<00:04,  6.98it/s]"
     ]
    },
    {
     "name": "stdout",
     "output_type": "stream",
     "text": [
      "[2025-06-25 15:10:49 INFO] Uploaded file OREGON_STATE_PRISM_010013_20240301_20240401_PPT.tif to aws bucket ose-dev-inputs\n"
     ]
    },
    {
     "name": "stderr",
     "output_type": "stream",
     "text": [
      "Uploading file: OREGON_STATE_PRISM_010013_20240301_20240401_PPT.tif:  88%|████████▊ | 211/240 [00:36<00:04,  6.72it/s]"
     ]
    },
    {
     "name": "stdout",
     "output_type": "stream",
     "text": [
      "[2025-06-25 15:10:49 INFO] Uploaded file OREGON_STATE_PRISM_010012_20240101_20240201_PPT.tif to aws bucket ose-dev-inputs\n"
     ]
    },
    {
     "name": "stderr",
     "output_type": "stream",
     "text": [
      "Uploading file: OREGON_STATE_PRISM_010012_20240101_20240201_PPT.tif:  88%|████████▊ | 212/240 [00:36<00:04,  6.47it/s]"
     ]
    },
    {
     "name": "stdout",
     "output_type": "stream",
     "text": [
      "[2025-06-25 15:10:49 INFO] Uploaded file OREGON_STATE_PRISM_012011_20240901_20241001_PPT.tif to aws bucket ose-dev-inputs\n"
     ]
    },
    {
     "name": "stderr",
     "output_type": "stream",
     "text": [
      "Uploading file: OREGON_STATE_PRISM_012011_20240901_20241001_PPT.tif:  89%|████████▉ | 213/240 [00:36<00:04,  6.57it/s]"
     ]
    },
    {
     "name": "stdout",
     "output_type": "stream",
     "text": [
      "[2025-06-25 15:10:49 INFO] Uploaded file OREGON_STATE_PRISM_010015_20240101_20240201_PPT.tif to aws bucket ose-dev-inputs\n"
     ]
    },
    {
     "name": "stderr",
     "output_type": "stream",
     "text": [
      "Uploading file: OREGON_STATE_PRISM_010015_20240101_20240201_PPT.tif:  89%|████████▉ | 214/240 [00:36<00:03,  6.63it/s]"
     ]
    },
    {
     "name": "stdout",
     "output_type": "stream",
     "text": [
      "[2025-06-25 15:10:50 INFO] Uploaded file OREGON_STATE_PRISM_010014_20240301_20240401_PPT.tif to aws bucket ose-dev-inputs\n"
     ]
    },
    {
     "name": "stderr",
     "output_type": "stream",
     "text": [
      "Uploading file: OREGON_STATE_PRISM_010014_20240301_20240401_PPT.tif:  90%|████████▉ | 215/240 [00:36<00:05,  4.73it/s]"
     ]
    },
    {
     "name": "stdout",
     "output_type": "stream",
     "text": [
      "[2025-06-25 15:10:50 INFO] Uploaded file OREGON_STATE_PRISM_012014_20240401_20240501_PPT.tif to aws bucket ose-dev-inputs\n"
     ]
    },
    {
     "name": "stderr",
     "output_type": "stream",
     "text": [
      "Uploading file: OREGON_STATE_PRISM_012014_20240401_20240501_PPT.tif:  90%|█████████ | 216/240 [00:37<00:07,  3.41it/s]"
     ]
    },
    {
     "name": "stdout",
     "output_type": "stream",
     "text": [
      "[2025-06-25 15:10:51 INFO] Uploaded file OREGON_STATE_PRISM_009014_20240401_20240501_PPT.tif to aws bucket ose-dev-inputs\n"
     ]
    },
    {
     "name": "stderr",
     "output_type": "stream",
     "text": [
      "Uploading file: OREGON_STATE_PRISM_009014_20240401_20240501_PPT.tif:  90%|█████████ | 217/240 [00:37<00:07,  2.94it/s]"
     ]
    },
    {
     "name": "stdout",
     "output_type": "stream",
     "text": [
      "[2025-06-25 15:10:51 INFO] Uploaded file OREGON_STATE_PRISM_010015_20240501_20240601_PPT.tif to aws bucket ose-dev-inputs\n"
     ]
    },
    {
     "name": "stderr",
     "output_type": "stream",
     "text": [
      "Uploading file: OREGON_STATE_PRISM_010015_20240501_20240601_PPT.tif:  91%|█████████ | 218/240 [00:38<00:08,  2.57it/s]"
     ]
    },
    {
     "name": "stdout",
     "output_type": "stream",
     "text": [
      "[2025-06-25 15:10:52 INFO] Uploaded file OREGON_STATE_PRISM_011011_20240901_20241001_PPT.tif to aws bucket ose-dev-inputs\n"
     ]
    },
    {
     "name": "stderr",
     "output_type": "stream",
     "text": [
      "Uploading file: OREGON_STATE_PRISM_011011_20240901_20241001_PPT.tif:  91%|█████████▏| 219/240 [00:38<00:09,  2.32it/s]"
     ]
    },
    {
     "name": "stdout",
     "output_type": "stream",
     "text": [
      "[2025-06-25 15:10:52 INFO] Uploaded file OREGON_STATE_PRISM_010015_20240701_20240801_PPT.tif to aws bucket ose-dev-inputs\n"
     ]
    },
    {
     "name": "stderr",
     "output_type": "stream",
     "text": [
      "Uploading file: OREGON_STATE_PRISM_010015_20240701_20240801_PPT.tif:  92%|█████████▏| 220/240 [00:39<00:08,  2.30it/s]"
     ]
    },
    {
     "name": "stdout",
     "output_type": "stream",
     "text": [
      "[2025-06-25 15:10:53 INFO] Uploaded file OREGON_STATE_PRISM_011013_20240401_20240501_PPT.tif to aws bucket ose-dev-inputs\n"
     ]
    },
    {
     "name": "stderr",
     "output_type": "stream",
     "text": [
      "Uploading file: OREGON_STATE_PRISM_011013_20240401_20240501_PPT.tif:  92%|█████████▏| 221/240 [00:39<00:08,  2.20it/s]"
     ]
    },
    {
     "name": "stdout",
     "output_type": "stream",
     "text": [
      "[2025-06-25 15:10:53 INFO] Uploaded file OREGON_STATE_PRISM_010011_20241001_20241101_PPT.tif to aws bucket ose-dev-inputs\n"
     ]
    },
    {
     "name": "stderr",
     "output_type": "stream",
     "text": [
      "Uploading file: OREGON_STATE_PRISM_010011_20241001_20241101_PPT.tif:  92%|█████████▎| 222/240 [00:40<00:07,  2.31it/s]"
     ]
    },
    {
     "name": "stdout",
     "output_type": "stream",
     "text": [
      "[2025-06-25 15:10:53 INFO] Uploaded file OREGON_STATE_PRISM_009013_20240701_20240801_PPT.tif to aws bucket ose-dev-inputs\n"
     ]
    },
    {
     "name": "stderr",
     "output_type": "stream",
     "text": [
      "Uploading file: OREGON_STATE_PRISM_009013_20240701_20240801_PPT.tif:  93%|█████████▎| 223/240 [00:40<00:06,  2.51it/s]"
     ]
    },
    {
     "name": "stdout",
     "output_type": "stream",
     "text": [
      "[2025-06-25 15:10:54 INFO] Uploaded file OREGON_STATE_PRISM_011014_20240501_20240601_PPT.tif to aws bucket ose-dev-inputs\n"
     ]
    },
    {
     "name": "stderr",
     "output_type": "stream",
     "text": [
      "Uploading file: OREGON_STATE_PRISM_011014_20240501_20240601_PPT.tif:  93%|█████████▎| 224/240 [00:40<00:05,  3.14it/s]"
     ]
    },
    {
     "name": "stdout",
     "output_type": "stream",
     "text": [
      "[2025-06-25 15:10:54 INFO] Uploaded file OREGON_STATE_PRISM_011011_20240601_20240701_PPT.tif to aws bucket ose-dev-inputs\n"
     ]
    },
    {
     "name": "stderr",
     "output_type": "stream",
     "text": [
      "Uploading file: OREGON_STATE_PRISM_011011_20240601_20240701_PPT.tif:  94%|█████████▍| 225/240 [00:40<00:03,  3.77it/s]"
     ]
    },
    {
     "name": "stdout",
     "output_type": "stream",
     "text": [
      "[2025-06-25 15:10:54 INFO] Uploaded file OREGON_STATE_PRISM_011014_20240101_20240201_PPT.tif to aws bucket ose-dev-inputs\n"
     ]
    },
    {
     "name": "stderr",
     "output_type": "stream",
     "text": [
      "Uploading file: OREGON_STATE_PRISM_011014_20240101_20240201_PPT.tif:  94%|█████████▍| 226/240 [00:40<00:03,  4.40it/s]"
     ]
    },
    {
     "name": "stdout",
     "output_type": "stream",
     "text": [
      "[2025-06-25 15:10:54 INFO] Uploaded file OREGON_STATE_PRISM_011015_20240301_20240401_PPT.tif to aws bucket ose-dev-inputs\n"
     ]
    },
    {
     "name": "stderr",
     "output_type": "stream",
     "text": [
      "Uploading file: OREGON_STATE_PRISM_011015_20240301_20240401_PPT.tif:  95%|█████████▍| 227/240 [00:40<00:02,  4.98it/s]"
     ]
    },
    {
     "name": "stdout",
     "output_type": "stream",
     "text": [
      "[2025-06-25 15:10:54 INFO] Uploaded file OREGON_STATE_PRISM_012013_20240701_20240801_PPT.tif to aws bucket ose-dev-inputs\n"
     ]
    },
    {
     "name": "stderr",
     "output_type": "stream",
     "text": [
      "Uploading file: OREGON_STATE_PRISM_012013_20240701_20240801_PPT.tif:  95%|█████████▌| 228/240 [00:41<00:02,  5.53it/s]"
     ]
    },
    {
     "name": "stdout",
     "output_type": "stream",
     "text": [
      "[2025-06-25 15:10:54 INFO] Uploaded file OREGON_STATE_PRISM_011011_20240201_20240301_PPT.tif to aws bucket ose-dev-inputs\n"
     ]
    },
    {
     "name": "stderr",
     "output_type": "stream",
     "text": [
      "Uploading file: OREGON_STATE_PRISM_011011_20240201_20240301_PPT.tif:  95%|█████████▌| 229/240 [00:41<00:01,  5.79it/s]"
     ]
    },
    {
     "name": "stdout",
     "output_type": "stream",
     "text": [
      "[2025-06-25 15:10:54 INFO] Uploaded file OREGON_STATE_PRISM_012013_20240501_20240601_PPT.tif to aws bucket ose-dev-inputs\n"
     ]
    },
    {
     "name": "stderr",
     "output_type": "stream",
     "text": [
      "Uploading file: OREGON_STATE_PRISM_012013_20240501_20240601_PPT.tif:  96%|█████████▌| 230/240 [00:41<00:01,  6.21it/s]"
     ]
    },
    {
     "name": "stdout",
     "output_type": "stream",
     "text": [
      "[2025-06-25 15:10:54 INFO] Uploaded file OREGON_STATE_PRISM_012011_20241201_20250101_PPT.tif to aws bucket ose-dev-inputs\n"
     ]
    },
    {
     "name": "stderr",
     "output_type": "stream",
     "text": [
      "Uploading file: OREGON_STATE_PRISM_012011_20241201_20250101_PPT.tif:  96%|█████████▋| 231/240 [00:41<00:01,  6.51it/s]"
     ]
    },
    {
     "name": "stdout",
     "output_type": "stream",
     "text": [
      "[2025-06-25 15:10:55 INFO] Uploaded file OREGON_STATE_PRISM_010011_20240801_20240901_PPT.tif to aws bucket ose-dev-inputs\n"
     ]
    },
    {
     "name": "stderr",
     "output_type": "stream",
     "text": [
      "Uploading file: OREGON_STATE_PRISM_010011_20240801_20240901_PPT.tif:  97%|█████████▋| 232/240 [00:41<00:01,  6.70it/s]"
     ]
    },
    {
     "name": "stdout",
     "output_type": "stream",
     "text": [
      "[2025-06-25 15:10:55 INFO] Uploaded file OREGON_STATE_PRISM_009013_20240101_20240201_PPT.tif to aws bucket ose-dev-inputs\n"
     ]
    },
    {
     "name": "stderr",
     "output_type": "stream",
     "text": [
      "Uploading file: OREGON_STATE_PRISM_009013_20240101_20240201_PPT.tif:  97%|█████████▋| 233/240 [00:41<00:01,  6.82it/s]"
     ]
    },
    {
     "name": "stdout",
     "output_type": "stream",
     "text": [
      "[2025-06-25 15:10:55 INFO] Uploaded file OREGON_STATE_PRISM_009012_20240301_20240401_PPT.tif to aws bucket ose-dev-inputs\n"
     ]
    },
    {
     "name": "stderr",
     "output_type": "stream",
     "text": [
      "Uploading file: OREGON_STATE_PRISM_009012_20240301_20240401_PPT.tif:  98%|█████████▊| 234/240 [00:41<00:00,  7.01it/s]"
     ]
    },
    {
     "name": "stdout",
     "output_type": "stream",
     "text": [
      "[2025-06-25 15:10:55 INFO] Uploaded file OREGON_STATE_PRISM_012012_20240301_20240401_PPT.tif to aws bucket ose-dev-inputs\n"
     ]
    },
    {
     "name": "stderr",
     "output_type": "stream",
     "text": [
      "Uploading file: OREGON_STATE_PRISM_012012_20240301_20240401_PPT.tif:  98%|█████████▊| 235/240 [00:42<00:00,  7.12it/s]"
     ]
    },
    {
     "name": "stdout",
     "output_type": "stream",
     "text": [
      "[2025-06-25 15:10:55 INFO] Uploaded file OREGON_STATE_PRISM_012013_20240101_20240201_PPT.tif to aws bucket ose-dev-inputs\n"
     ]
    },
    {
     "name": "stderr",
     "output_type": "stream",
     "text": [
      "Uploading file: OREGON_STATE_PRISM_012013_20240101_20240201_PPT.tif:  98%|█████████▊| 236/240 [00:42<00:00,  7.17it/s]"
     ]
    },
    {
     "name": "stdout",
     "output_type": "stream",
     "text": [
      "[2025-06-25 15:10:55 INFO] Uploaded file OREGON_STATE_PRISM_011014_20240701_20240801_PPT.tif to aws bucket ose-dev-inputs\n"
     ]
    },
    {
     "name": "stderr",
     "output_type": "stream",
     "text": [
      "Uploading file: OREGON_STATE_PRISM_011014_20240701_20240801_PPT.tif:  99%|█████████▉| 237/240 [00:42<00:00,  6.86it/s]"
     ]
    },
    {
     "name": "stdout",
     "output_type": "stream",
     "text": [
      "[2025-06-25 15:10:55 INFO] Uploaded file OREGON_STATE_PRISM_010012_20240401_20240501_PPT.tif to aws bucket ose-dev-inputs\n"
     ]
    },
    {
     "name": "stderr",
     "output_type": "stream",
     "text": [
      "Uploading file: OREGON_STATE_PRISM_010012_20240401_20240501_PPT.tif:  99%|█████████▉| 238/240 [00:42<00:00,  6.78it/s]"
     ]
    },
    {
     "name": "stdout",
     "output_type": "stream",
     "text": [
      "[2025-06-25 15:10:56 INFO] Uploaded file OREGON_STATE_PRISM_009011_20241201_20250101_PPT.tif to aws bucket ose-dev-inputs\n"
     ]
    },
    {
     "name": "stderr",
     "output_type": "stream",
     "text": [
      "Uploading file: OREGON_STATE_PRISM_009011_20241201_20250101_PPT.tif: 100%|█████████▉| 239/240 [00:42<00:00,  6.97it/s]"
     ]
    },
    {
     "name": "stdout",
     "output_type": "stream",
     "text": [
      "[2025-06-25 15:10:56 INFO] Uploaded file OREGON_STATE_PRISM_009013_20240501_20240601_PPT.tif to aws bucket ose-dev-inputs\n"
     ]
    },
    {
     "name": "stderr",
     "output_type": "stream",
     "text": [
      "                                                                                                                      \r"
     ]
    },
    {
     "data": {
      "text/plain": [
       "['OREGON_STATE_PRISM_012012_20240501_20240601_PPT.tif',\n",
       " 'OREGON_STATE_PRISM_011011_20241001_20241101_PPT.tif',\n",
       " 'OREGON_STATE_PRISM_009012_20240101_20240201_PPT.tif',\n",
       " 'OREGON_STATE_PRISM_009013_20240301_20240401_PPT.tif',\n",
       " 'OREGON_STATE_PRISM_012013_20240301_20240401_PPT.tif',\n",
       " 'OREGON_STATE_PRISM_012012_20240101_20240201_PPT.tif',\n",
       " 'OREGON_STATE_PRISM_010011_20240901_20241001_PPT.tif',\n",
       " 'OREGON_STATE_PRISM_010013_20240401_20240501_PPT.tif',\n",
       " 'OREGON_STATE_PRISM_009012_20240501_20240601_PPT.tif',\n",
       " 'OREGON_STATE_PRISM_011015_20240701_20240801_PPT.tif',\n",
       " 'OREGON_STATE_PRISM_011015_20240501_20240601_PPT.tif',\n",
       " 'OREGON_STATE_PRISM_009012_20240701_20240801_PPT.tif',\n",
       " 'OREGON_STATE_PRISM_011015_20240101_20240201_PPT.tif',\n",
       " 'OREGON_STATE_PRISM_011014_20240301_20240401_PPT.tif',\n",
       " 'OREGON_STATE_PRISM_012012_20240701_20240801_PPT.tif',\n",
       " 'OREGON_STATE_PRISM_012011_20241101_20241201_PPT.tif',\n",
       " 'OREGON_STATE_PRISM_011012_20240401_20240501_PPT.tif',\n",
       " 'OREGON_STATE_PRISM_010014_20240701_20240801_PPT.tif',\n",
       " 'OREGON_STATE_PRISM_011011_20240801_20240901_PPT.tif',\n",
       " 'OREGON_STATE_PRISM_009011_20241101_20241201_PPT.tif',\n",
       " 'OREGON_STATE_PRISM_010014_20240101_20240201_PPT.tif',\n",
       " 'OREGON_STATE_PRISM_010015_20240301_20240401_PPT.tif',\n",
       " 'OREGON_STATE_PRISM_012015_20240401_20240501_PPT.tif',\n",
       " 'OREGON_STATE_PRISM_010011_20240201_20240301_PPT.tif',\n",
       " 'OREGON_STATE_PRISM_009015_20240401_20240501_PPT.tif',\n",
       " 'OREGON_STATE_PRISM_010014_20240501_20240601_PPT.tif',\n",
       " 'OREGON_STATE_PRISM_010011_20240601_20240701_PPT.tif',\n",
       " 'OREGON_STATE_PRISM_012011_20240801_20240901_PPT.tif',\n",
       " 'OREGON_STATE_PRISM_010013_20240501_20240601_PPT.tif',\n",
       " 'OREGON_STATE_PRISM_009012_20240401_20240501_PPT.tif',\n",
       " 'OREGON_STATE_PRISM_010011_20241201_20250101_PPT.tif',\n",
       " 'OREGON_STATE_PRISM_012012_20240401_20240501_PPT.tif',\n",
       " 'OREGON_STATE_PRISM_010012_20240301_20240401_PPT.tif',\n",
       " 'OREGON_STATE_PRISM_011011_20241101_20241201_PPT.tif',\n",
       " 'OREGON_STATE_PRISM_009011_20240801_20240901_PPT.tif',\n",
       " 'OREGON_STATE_PRISM_010013_20240101_20240201_PPT.tif',\n",
       " 'OREGON_STATE_PRISM_011015_20240401_20240501_PPT.tif',\n",
       " 'OREGON_STATE_PRISM_010013_20240701_20240801_PPT.tif',\n",
       " 'OREGON_STATE_PRISM_012015_20240701_20240801_PPT.tif',\n",
       " 'OREGON_STATE_PRISM_011013_20240301_20240401_PPT.tif',\n",
       " 'OREGON_STATE_PRISM_011012_20240101_20240201_PPT.tif',\n",
       " 'OREGON_STATE_PRISM_009011_20241001_20241101_PPT.tif',\n",
       " 'OREGON_STATE_PRISM_012011_20241001_20241101_PPT.tif',\n",
       " 'OREGON_STATE_PRISM_011012_20240501_20240601_PPT.tif',\n",
       " 'OREGON_STATE_PRISM_009015_20240701_20240801_PPT.tif',\n",
       " 'OREGON_STATE_PRISM_009015_20240501_20240601_PPT.tif',\n",
       " 'OREGON_STATE_PRISM_010014_20240401_20240501_PPT.tif',\n",
       " 'OREGON_STATE_PRISM_011012_20240701_20240801_PPT.tif',\n",
       " 'OREGON_STATE_PRISM_012015_20240101_20240201_PPT.tif',\n",
       " 'OREGON_STATE_PRISM_012014_20240301_20240401_PPT.tif',\n",
       " 'OREGON_STATE_PRISM_009014_20240301_20240401_PPT.tif',\n",
       " 'OREGON_STATE_PRISM_009015_20240101_20240201_PPT.tif',\n",
       " 'OREGON_STATE_PRISM_012015_20240501_20240601_PPT.tif',\n",
       " 'OREGON_STATE_PRISM_012015_20240601_20240701_PPT.tif',\n",
       " 'OREGON_STATE_PRISM_009011_20240301_20240401_PPT.tif',\n",
       " 'OREGON_STATE_PRISM_010012_20240801_20240901_PPT.tif',\n",
       " 'OREGON_STATE_PRISM_011013_20241001_20241101_PPT.tif',\n",
       " 'OREGON_STATE_PRISM_012012_20241201_20250101_PPT.tif',\n",
       " 'OREGON_STATE_PRISM_009015_20240201_20240301_PPT.tif',\n",
       " 'OREGON_STATE_PRISM_010011_20240401_20240501_PPT.tif',\n",
       " 'OREGON_STATE_PRISM_009012_20241201_20250101_PPT.tif',\n",
       " 'OREGON_STATE_PRISM_012015_20240201_20240301_PPT.tif',\n",
       " 'OREGON_STATE_PRISM_009015_20240601_20240701_PPT.tif',\n",
       " 'OREGON_STATE_PRISM_010013_20240901_20241001_PPT.tif',\n",
       " 'OREGON_STATE_PRISM_012011_20240301_20240401_PPT.tif',\n",
       " 'OREGON_STATE_PRISM_011012_20240601_20240701_PPT.tif',\n",
       " 'OREGON_STATE_PRISM_012014_20241001_20241101_PPT.tif',\n",
       " 'OREGON_STATE_PRISM_011015_20241201_20250101_PPT.tif',\n",
       " 'OREGON_STATE_PRISM_011012_20240201_20240301_PPT.tif',\n",
       " 'OREGON_STATE_PRISM_010015_20241101_20241201_PPT.tif',\n",
       " 'OREGON_STATE_PRISM_009014_20241001_20241101_PPT.tif',\n",
       " 'OREGON_STATE_PRISM_011012_20240901_20241001_PPT.tif',\n",
       " 'OREGON_STATE_PRISM_012013_20241101_20241201_PPT.tif',\n",
       " 'OREGON_STATE_PRISM_009013_20241101_20241201_PPT.tif',\n",
       " 'OREGON_STATE_PRISM_011013_20240801_20240901_PPT.tif',\n",
       " 'OREGON_STATE_PRISM_010012_20241001_20241101_PPT.tif',\n",
       " 'OREGON_STATE_PRISM_010013_20240201_20240301_PPT.tif',\n",
       " 'OREGON_STATE_PRISM_012015_20240901_20241001_PPT.tif',\n",
       " 'OREGON_STATE_PRISM_011014_20241101_20241201_PPT.tif',\n",
       " 'OREGON_STATE_PRISM_009014_20240801_20240901_PPT.tif',\n",
       " 'OREGON_STATE_PRISM_010013_20240601_20240701_PPT.tif',\n",
       " 'OREGON_STATE_PRISM_012014_20240801_20240901_PPT.tif',\n",
       " 'OREGON_STATE_PRISM_009015_20240901_20241001_PPT.tif',\n",
       " 'OREGON_STATE_PRISM_010014_20241201_20250101_PPT.tif',\n",
       " 'OREGON_STATE_PRISM_010013_20241201_20250101_PPT.tif',\n",
       " 'OREGON_STATE_PRISM_010011_20240501_20240601_PPT.tif',\n",
       " 'OREGON_STATE_PRISM_010014_20240601_20240701_PPT.tif',\n",
       " 'OREGON_STATE_PRISM_009012_20240901_20241001_PPT.tif',\n",
       " 'OREGON_STATE_PRISM_012013_20240801_20240901_PPT.tif',\n",
       " 'OREGON_STATE_PRISM_009013_20240801_20240901_PPT.tif',\n",
       " 'OREGON_STATE_PRISM_010011_20240101_20240201_PPT.tif',\n",
       " 'OREGON_STATE_PRISM_011013_20241101_20241201_PPT.tif',\n",
       " 'OREGON_STATE_PRISM_012012_20240901_20241001_PPT.tif',\n",
       " 'OREGON_STATE_PRISM_010014_20240201_20240301_PPT.tif',\n",
       " 'OREGON_STATE_PRISM_010015_20241001_20241101_PPT.tif',\n",
       " 'OREGON_STATE_PRISM_011014_20240801_20240901_PPT.tif',\n",
       " 'OREGON_STATE_PRISM_009014_20241101_20241201_PPT.tif',\n",
       " 'OREGON_STATE_PRISM_012014_20241101_20241201_PPT.tif',\n",
       " 'OREGON_STATE_PRISM_011015_20240901_20241001_PPT.tif',\n",
       " 'OREGON_STATE_PRISM_010011_20240701_20240801_PPT.tif',\n",
       " 'OREGON_STATE_PRISM_009013_20241001_20241101_PPT.tif',\n",
       " 'OREGON_STATE_PRISM_011011_20240301_20240401_PPT.tif',\n",
       " 'OREGON_STATE_PRISM_010012_20241101_20241201_PPT.tif',\n",
       " 'OREGON_STATE_PRISM_011015_20240201_20240301_PPT.tif',\n",
       " 'OREGON_STATE_PRISM_011012_20241201_20250101_PPT.tif',\n",
       " 'OREGON_STATE_PRISM_011015_20240601_20240701_PPT.tif',\n",
       " 'OREGON_STATE_PRISM_012013_20241001_20241101_PPT.tif',\n",
       " 'OREGON_STATE_PRISM_009012_20240601_20240701_PPT.tif',\n",
       " 'OREGON_STATE_PRISM_010014_20240901_20241001_PPT.tif',\n",
       " 'OREGON_STATE_PRISM_009015_20241201_20250101_PPT.tif',\n",
       " 'OREGON_STATE_PRISM_012012_20240201_20240301_PPT.tif',\n",
       " 'OREGON_STATE_PRISM_012015_20241201_20250101_PPT.tif',\n",
       " 'OREGON_STATE_PRISM_009012_20240201_20240301_PPT.tif',\n",
       " 'OREGON_STATE_PRISM_012012_20240601_20240701_PPT.tif',\n",
       " 'OREGON_STATE_PRISM_011014_20241001_20241101_PPT.tif',\n",
       " 'OREGON_STATE_PRISM_010015_20240801_20240901_PPT.tif',\n",
       " 'OREGON_STATE_PRISM_010015_20240901_20241001_PPT.tif',\n",
       " 'OREGON_STATE_PRISM_009013_20240601_20240701_PPT.tif',\n",
       " 'OREGON_STATE_PRISM_012013_20240201_20240301_PPT.tif',\n",
       " 'OREGON_STATE_PRISM_011011_20240701_20240801_PPT.tif',\n",
       " 'OREGON_STATE_PRISM_009014_20241201_20250101_PPT.tif',\n",
       " 'OREGON_STATE_PRISM_009013_20240201_20240301_PPT.tif',\n",
       " 'OREGON_STATE_PRISM_012014_20241201_20250101_PPT.tif',\n",
       " 'OREGON_STATE_PRISM_011015_20241001_20241101_PPT.tif',\n",
       " 'OREGON_STATE_PRISM_010014_20240801_20240901_PPT.tif',\n",
       " 'OREGON_STATE_PRISM_012013_20240601_20240701_PPT.tif',\n",
       " 'OREGON_STATE_PRISM_009012_20241001_20241101_PPT.tif',\n",
       " 'OREGON_STATE_PRISM_011011_20240101_20240201_PPT.tif',\n",
       " 'OREGON_STATE_PRISM_010013_20241101_20241201_PPT.tif',\n",
       " 'OREGON_STATE_PRISM_011014_20240201_20240301_PPT.tif',\n",
       " 'OREGON_STATE_PRISM_011013_20241201_20250101_PPT.tif',\n",
       " 'OREGON_STATE_PRISM_011011_20240501_20240601_PPT.tif',\n",
       " 'OREGON_STATE_PRISM_012012_20241001_20241101_PPT.tif',\n",
       " 'OREGON_STATE_PRISM_011014_20240601_20240701_PPT.tif',\n",
       " 'OREGON_STATE_PRISM_010014_20241001_20241101_PPT.tif',\n",
       " 'OREGON_STATE_PRISM_011015_20240801_20240901_PPT.tif',\n",
       " 'OREGON_STATE_PRISM_009015_20241101_20241201_PPT.tif',\n",
       " 'OREGON_STATE_PRISM_011014_20240901_20241001_PPT.tif',\n",
       " 'OREGON_STATE_PRISM_012015_20241101_20241201_PPT.tif',\n",
       " 'OREGON_STATE_PRISM_009011_20240401_20240501_PPT.tif',\n",
       " 'OREGON_STATE_PRISM_010012_20241201_20250101_PPT.tif',\n",
       " 'OREGON_STATE_PRISM_012012_20240801_20240901_PPT.tif',\n",
       " 'OREGON_STATE_PRISM_009013_20240901_20241001_PPT.tif',\n",
       " 'OREGON_STATE_PRISM_010015_20240601_20240701_PPT.tif',\n",
       " 'OREGON_STATE_PRISM_012013_20240901_20241001_PPT.tif',\n",
       " 'OREGON_STATE_PRISM_009012_20240801_20240901_PPT.tif',\n",
       " 'OREGON_STATE_PRISM_011012_20241101_20241201_PPT.tif',\n",
       " 'OREGON_STATE_PRISM_010011_20240301_20240401_PPT.tif',\n",
       " 'OREGON_STATE_PRISM_010015_20240201_20240301_PPT.tif',\n",
       " 'OREGON_STATE_PRISM_012011_20240401_20240501_PPT.tif',\n",
       " 'OREGON_STATE_PRISM_010012_20240201_20240301_PPT.tif',\n",
       " 'OREGON_STATE_PRISM_011015_20241101_20241201_PPT.tif',\n",
       " 'OREGON_STATE_PRISM_009015_20240801_20240901_PPT.tif',\n",
       " 'OREGON_STATE_PRISM_012014_20240901_20241001_PPT.tif',\n",
       " 'OREGON_STATE_PRISM_009014_20240901_20241001_PPT.tif',\n",
       " 'OREGON_STATE_PRISM_012015_20240801_20240901_PPT.tif',\n",
       " 'OREGON_STATE_PRISM_010012_20240601_20240701_PPT.tif',\n",
       " 'OREGON_STATE_PRISM_010015_20241201_20250101_PPT.tif',\n",
       " 'OREGON_STATE_PRISM_011011_20240401_20240501_PPT.tif',\n",
       " 'OREGON_STATE_PRISM_012012_20241101_20241201_PPT.tif',\n",
       " 'OREGON_STATE_PRISM_011013_20240901_20241001_PPT.tif',\n",
       " 'OREGON_STATE_PRISM_009012_20241101_20241201_PPT.tif',\n",
       " 'OREGON_STATE_PRISM_011012_20240801_20240901_PPT.tif',\n",
       " 'OREGON_STATE_PRISM_010013_20241001_20241101_PPT.tif',\n",
       " 'OREGON_STATE_PRISM_012015_20241001_20241101_PPT.tif',\n",
       " 'OREGON_STATE_PRISM_011013_20240601_20240701_PPT.tif',\n",
       " 'OREGON_STATE_PRISM_009011_20240701_20240801_PPT.tif',\n",
       " 'OREGON_STATE_PRISM_011014_20241201_20250101_PPT.tif',\n",
       " 'OREGON_STATE_PRISM_011013_20240201_20240301_PPT.tif',\n",
       " 'OREGON_STATE_PRISM_012011_20240701_20240801_PPT.tif',\n",
       " 'OREGON_STATE_PRISM_010014_20241101_20241201_PPT.tif',\n",
       " 'OREGON_STATE_PRISM_009015_20241001_20241101_PPT.tif',\n",
       " 'OREGON_STATE_PRISM_010013_20240801_20240901_PPT.tif',\n",
       " 'OREGON_STATE_PRISM_009011_20240101_20240201_PPT.tif',\n",
       " 'OREGON_STATE_PRISM_011012_20241001_20241101_PPT.tif',\n",
       " 'OREGON_STATE_PRISM_012014_20240601_20240701_PPT.tif',\n",
       " 'OREGON_STATE_PRISM_009014_20240201_20240301_PPT.tif',\n",
       " 'OREGON_STATE_PRISM_012013_20241201_20250101_PPT.tif',\n",
       " 'OREGON_STATE_PRISM_012011_20240501_20240601_PPT.tif',\n",
       " 'OREGON_STATE_PRISM_012014_20240201_20240301_PPT.tif',\n",
       " 'OREGON_STATE_PRISM_009011_20240501_20240601_PPT.tif',\n",
       " 'OREGON_STATE_PRISM_009013_20241201_20250101_PPT.tif',\n",
       " 'OREGON_STATE_PRISM_012011_20240101_20240201_PPT.tif',\n",
       " 'OREGON_STATE_PRISM_010012_20240901_20241001_PPT.tif',\n",
       " 'OREGON_STATE_PRISM_009014_20240601_20240701_PPT.tif',\n",
       " 'OREGON_STATE_PRISM_011013_20240701_20240801_PPT.tif',\n",
       " 'OREGON_STATE_PRISM_012011_20240201_20240301_PPT.tif',\n",
       " 'OREGON_STATE_PRISM_009014_20240501_20240601_PPT.tif',\n",
       " 'OREGON_STATE_PRISM_010015_20240401_20240501_PPT.tif',\n",
       " 'OREGON_STATE_PRISM_012014_20240101_20240201_PPT.tif',\n",
       " 'OREGON_STATE_PRISM_012015_20240301_20240401_PPT.tif',\n",
       " 'OREGON_STATE_PRISM_009011_20240601_20240701_PPT.tif',\n",
       " 'OREGON_STATE_PRISM_009015_20240301_20240401_PPT.tif',\n",
       " 'OREGON_STATE_PRISM_009014_20240101_20240201_PPT.tif',\n",
       " 'OREGON_STATE_PRISM_012011_20240601_20240701_PPT.tif',\n",
       " 'OREGON_STATE_PRISM_009011_20240201_20240301_PPT.tif',\n",
       " 'OREGON_STATE_PRISM_012014_20240501_20240601_PPT.tif',\n",
       " 'OREGON_STATE_PRISM_012014_20240701_20240801_PPT.tif',\n",
       " 'OREGON_STATE_PRISM_010011_20241101_20241201_PPT.tif',\n",
       " 'OREGON_STATE_PRISM_011012_20240301_20240401_PPT.tif',\n",
       " 'OREGON_STATE_PRISM_011013_20240101_20240201_PPT.tif',\n",
       " 'OREGON_STATE_PRISM_009014_20240701_20240801_PPT.tif',\n",
       " 'OREGON_STATE_PRISM_011013_20240501_20240601_PPT.tif',\n",
       " 'OREGON_STATE_PRISM_011011_20241201_20250101_PPT.tif',\n",
       " 'OREGON_STATE_PRISM_010012_20240701_20240801_PPT.tif',\n",
       " 'OREGON_STATE_PRISM_011014_20240401_20240501_PPT.tif',\n",
       " 'OREGON_STATE_PRISM_009011_20240901_20241001_PPT.tif',\n",
       " 'OREGON_STATE_PRISM_010012_20240501_20240601_PPT.tif',\n",
       " 'OREGON_STATE_PRISM_009013_20240401_20240501_PPT.tif',\n",
       " 'OREGON_STATE_PRISM_012013_20240401_20240501_PPT.tif',\n",
       " 'OREGON_STATE_PRISM_010013_20240301_20240401_PPT.tif',\n",
       " 'OREGON_STATE_PRISM_010012_20240101_20240201_PPT.tif',\n",
       " 'OREGON_STATE_PRISM_012011_20240901_20241001_PPT.tif',\n",
       " 'OREGON_STATE_PRISM_010015_20240101_20240201_PPT.tif',\n",
       " 'OREGON_STATE_PRISM_010014_20240301_20240401_PPT.tif',\n",
       " 'OREGON_STATE_PRISM_012014_20240401_20240501_PPT.tif',\n",
       " 'OREGON_STATE_PRISM_009014_20240401_20240501_PPT.tif',\n",
       " 'OREGON_STATE_PRISM_010015_20240501_20240601_PPT.tif',\n",
       " 'OREGON_STATE_PRISM_011011_20240901_20241001_PPT.tif',\n",
       " 'OREGON_STATE_PRISM_010015_20240701_20240801_PPT.tif',\n",
       " 'OREGON_STATE_PRISM_011013_20240401_20240501_PPT.tif',\n",
       " 'OREGON_STATE_PRISM_010011_20241001_20241101_PPT.tif',\n",
       " 'OREGON_STATE_PRISM_009013_20240701_20240801_PPT.tif',\n",
       " 'OREGON_STATE_PRISM_011014_20240501_20240601_PPT.tif',\n",
       " 'OREGON_STATE_PRISM_011011_20240601_20240701_PPT.tif',\n",
       " 'OREGON_STATE_PRISM_011014_20240101_20240201_PPT.tif',\n",
       " 'OREGON_STATE_PRISM_011015_20240301_20240401_PPT.tif',\n",
       " 'OREGON_STATE_PRISM_012013_20240701_20240801_PPT.tif',\n",
       " 'OREGON_STATE_PRISM_011011_20240201_20240301_PPT.tif',\n",
       " 'OREGON_STATE_PRISM_012013_20240501_20240601_PPT.tif',\n",
       " 'OREGON_STATE_PRISM_012011_20241201_20250101_PPT.tif',\n",
       " 'OREGON_STATE_PRISM_010011_20240801_20240901_PPT.tif',\n",
       " 'OREGON_STATE_PRISM_009013_20240101_20240201_PPT.tif',\n",
       " 'OREGON_STATE_PRISM_009012_20240301_20240401_PPT.tif',\n",
       " 'OREGON_STATE_PRISM_012012_20240301_20240401_PPT.tif',\n",
       " 'OREGON_STATE_PRISM_012013_20240101_20240201_PPT.tif',\n",
       " 'OREGON_STATE_PRISM_011014_20240701_20240801_PPT.tif',\n",
       " 'OREGON_STATE_PRISM_010012_20240401_20240501_PPT.tif',\n",
       " 'OREGON_STATE_PRISM_009011_20241201_20250101_PPT.tif',\n",
       " 'OREGON_STATE_PRISM_009013_20240501_20240601_PPT.tif']"
      ]
     },
     "execution_count": 19,
     "metadata": {},
     "output_type": "execute_result"
    }
   ],
   "source": [
    "prism_pipeline.upload_local_folder_to_aws()"
   ]
  },
  {
   "cell_type": "markdown",
   "metadata": {},
   "source": [
    "# Update Inventory so the tool can use the new data sources\n"
   ]
  },
  {
   "cell_type": "code",
   "execution_count": null,
   "metadata": {},
   "outputs": [
    {
     "data": {
      "text/html": [
       "\n",
       "            <style>\n",
       "                .geemap-dark {\n",
       "                    --jp-widgets-color: white;\n",
       "                    --jp-widgets-label-color: white;\n",
       "                    --jp-ui-font-color1: white;\n",
       "                    --jp-layout-color2: #454545;\n",
       "                    background-color: #383838;\n",
       "                }\n",
       "\n",
       "                .geemap-dark .jupyter-button {\n",
       "                    --jp-layout-color3: #383838;\n",
       "                }\n",
       "\n",
       "                .geemap-colab {\n",
       "                    background-color: var(--colab-primary-surface-color, white);\n",
       "                }\n",
       "\n",
       "                .geemap-colab .jupyter-button {\n",
       "                    --jp-layout-color3: var(--colab-primary-surface-color, white);\n",
       "                }\n",
       "            </style>\n",
       "            "
      ],
      "text/plain": [
       "<IPython.core.display.HTML object>"
      ]
     },
     "metadata": {},
     "output_type": "display_data"
    },
    {
     "name": "stdout",
     "output_type": "stream",
     "text": [
      "[2025-06-26 08:47:46 INFO] Found credentials in shared credentials file: ~/.aws/credentials\n"
     ]
    },
    {
     "data": {
      "application/vnd.jupyter.widget-view+json": {
       "model_id": "2c4b9825e3f74880b4042f520a2b90b1",
       "version_major": 2,
       "version_minor": 0
      },
      "text/plain": [
       "Processing sources:   0%|          | 0/9 [00:00<?, ?it/s]"
      ]
     },
     "metadata": {},
     "output_type": "display_data"
    },
    {
     "name": "stderr",
     "output_type": "stream",
     "text": [
      "\n",
      "Processing source: Landsat PT-JPL ET\n",
      "\n",
      "Processing source: Landsat PT-JPL ET\n",
      "\n",
      "Processing source: Landsat PT-JPL ET\n",
      "\n",
      "Processing source: Landsat PT-JPL ET\n",
      "\n",
      "Processing source: Landsat PT-JPL ET\n",
      "\n",
      "Processing source: Landsat PT-JPL ET\n",
      "\n",
      "Processing source: Landsat PT-JPL ET\n"
     ]
    },
    {
     "name": "stdout",
     "output_type": "stream",
     "text": [
      "[2025-06-26 08:47:46 INFO] \n",
      "Processing source: Landsat PT-JPL ET\n"
     ]
    },
    {
     "name": "stderr",
     "output_type": "stream",
     "text": [
      "  File prefix: LC08_\n",
      "  File prefix: LC08_\n",
      "  File prefix: LC08_\n",
      "  File prefix: LC08_\n",
      "  File prefix: LC08_\n",
      "  File prefix: LC08_\n",
      "  File prefix: LC08_\n"
     ]
    },
    {
     "name": "stdout",
     "output_type": "stream",
     "text": [
      "[2025-06-26 08:47:46 INFO]   File prefix: LC08_\n"
     ]
    },
    {
     "name": "stderr",
     "output_type": "stream",
     "text": [
      "  Date range: 1983-01-01 to 2008-01-01\n",
      "  Date range: 1983-01-01 to 2008-01-01\n",
      "  Date range: 1983-01-01 to 2008-01-01\n",
      "  Date range: 1983-01-01 to 2008-01-01\n",
      "  Date range: 1983-01-01 to 2008-01-01\n",
      "  Date range: 1983-01-01 to 2008-01-01\n",
      "  Date range: 1983-01-01 to 2008-01-01\n"
     ]
    },
    {
     "name": "stdout",
     "output_type": "stream",
     "text": [
      "[2025-06-26 08:47:46 INFO]   Date range: 1983-01-01 to 2008-01-01\n"
     ]
    },
    {
     "name": "stderr",
     "output_type": "stream",
     "text": [
      "  Found 26081 files\n",
      "  Found 26081 files\n",
      "  Found 26081 files\n",
      "  Found 26081 files\n",
      "  Found 26081 files\n",
      "  Found 26081 files\n",
      "  Found 26081 files\n"
     ]
    },
    {
     "name": "stdout",
     "output_type": "stream",
     "text": [
      "[2025-06-26 08:48:02 INFO]   Found 26081 files\n"
     ]
    },
    {
     "name": "stderr",
     "output_type": "stream",
     "text": [
      "\n",
      "Processing source: Landsat PT-JPL ESI\n",
      "\n",
      "Processing source: Landsat PT-JPL ESI\n",
      "\n",
      "Processing source: Landsat PT-JPL ESI\n",
      "\n",
      "Processing source: Landsat PT-JPL ESI\n",
      "\n",
      "Processing source: Landsat PT-JPL ESI\n",
      "\n",
      "Processing source: Landsat PT-JPL ESI\n",
      "\n",
      "Processing source: Landsat PT-JPL ESI\n"
     ]
    },
    {
     "name": "stdout",
     "output_type": "stream",
     "text": [
      "[2025-06-26 08:48:02 INFO] \n",
      "Processing source: Landsat PT-JPL ESI\n"
     ]
    },
    {
     "name": "stderr",
     "output_type": "stream",
     "text": [
      "  File prefix: LC08_\n",
      "  File prefix: LC08_\n",
      "  File prefix: LC08_\n",
      "  File prefix: LC08_\n",
      "  File prefix: LC08_\n",
      "  File prefix: LC08_\n",
      "  File prefix: LC08_\n"
     ]
    },
    {
     "name": "stdout",
     "output_type": "stream",
     "text": [
      "[2025-06-26 08:48:02 INFO]   File prefix: LC08_\n"
     ]
    },
    {
     "name": "stderr",
     "output_type": "stream",
     "text": [
      "  Date range: 1983-01-01 to 2008-01-01\n",
      "  Date range: 1983-01-01 to 2008-01-01\n",
      "  Date range: 1983-01-01 to 2008-01-01\n",
      "  Date range: 1983-01-01 to 2008-01-01\n",
      "  Date range: 1983-01-01 to 2008-01-01\n",
      "  Date range: 1983-01-01 to 2008-01-01\n",
      "  Date range: 1983-01-01 to 2008-01-01\n"
     ]
    },
    {
     "name": "stdout",
     "output_type": "stream",
     "text": [
      "[2025-06-26 08:48:02 INFO]   Date range: 1983-01-01 to 2008-01-01\n"
     ]
    },
    {
     "name": "stderr",
     "output_type": "stream",
     "text": [
      "  Found 26079 files\n",
      "  Found 26079 files\n",
      "  Found 26079 files\n",
      "  Found 26079 files\n",
      "  Found 26079 files\n",
      "  Found 26079 files\n",
      "  Found 26079 files\n"
     ]
    },
    {
     "name": "stdout",
     "output_type": "stream",
     "text": [
      "[2025-06-26 08:48:18 INFO]   Found 26079 files\n"
     ]
    },
    {
     "name": "stderr",
     "output_type": "stream",
     "text": [
      "\n",
      "Processing source: OpenET Ensemble ET\n",
      "\n",
      "Processing source: OpenET Ensemble ET\n",
      "\n",
      "Processing source: OpenET Ensemble ET\n",
      "\n",
      "Processing source: OpenET Ensemble ET\n",
      "\n",
      "Processing source: OpenET Ensemble ET\n",
      "\n",
      "Processing source: OpenET Ensemble ET\n",
      "\n",
      "Processing source: OpenET Ensemble ET\n"
     ]
    },
    {
     "name": "stdout",
     "output_type": "stream",
     "text": [
      "[2025-06-26 08:48:18 INFO] \n",
      "Processing source: OpenET Ensemble ET\n"
     ]
    },
    {
     "name": "stderr",
     "output_type": "stream",
     "text": [
      "  File prefix: OPENET_ENSEMBLE_\n",
      "  File prefix: OPENET_ENSEMBLE_\n",
      "  File prefix: OPENET_ENSEMBLE_\n",
      "  File prefix: OPENET_ENSEMBLE_\n",
      "  File prefix: OPENET_ENSEMBLE_\n",
      "  File prefix: OPENET_ENSEMBLE_\n",
      "  File prefix: OPENET_ENSEMBLE_\n"
     ]
    },
    {
     "name": "stdout",
     "output_type": "stream",
     "text": [
      "[2025-06-26 08:48:18 INFO]   File prefix: OPENET_ENSEMBLE_\n"
     ]
    },
    {
     "name": "stderr",
     "output_type": "stream",
     "text": [
      "  Date range: 2008-01-01 to 2025-01-01\n",
      "  Date range: 2008-01-01 to 2025-01-01\n",
      "  Date range: 2008-01-01 to 2025-01-01\n",
      "  Date range: 2008-01-01 to 2025-01-01\n",
      "  Date range: 2008-01-01 to 2025-01-01\n",
      "  Date range: 2008-01-01 to 2025-01-01\n",
      "  Date range: 2008-01-01 to 2025-01-01\n"
     ]
    },
    {
     "name": "stdout",
     "output_type": "stream",
     "text": [
      "[2025-06-26 08:48:18 INFO]   Date range: 2008-01-01 to 2025-01-01\n"
     ]
    },
    {
     "name": "stderr",
     "output_type": "stream",
     "text": [
      "  Found 3840 files\n",
      "  Found 3840 files\n",
      "  Found 3840 files\n",
      "  Found 3840 files\n",
      "  Found 3840 files\n",
      "  Found 3840 files\n",
      "  Found 3840 files\n"
     ]
    },
    {
     "name": "stdout",
     "output_type": "stream",
     "text": [
      "[2025-06-26 08:48:21 INFO]   Found 3840 files\n"
     ]
    },
    {
     "name": "stderr",
     "output_type": "stream",
     "text": [
      "\n",
      "Processing source: OpenET Ensemble CCOUNT\n",
      "\n",
      "Processing source: OpenET Ensemble CCOUNT\n",
      "\n",
      "Processing source: OpenET Ensemble CCOUNT\n",
      "\n",
      "Processing source: OpenET Ensemble CCOUNT\n",
      "\n",
      "Processing source: OpenET Ensemble CCOUNT\n",
      "\n",
      "Processing source: OpenET Ensemble CCOUNT\n",
      "\n",
      "Processing source: OpenET Ensemble CCOUNT\n"
     ]
    },
    {
     "name": "stdout",
     "output_type": "stream",
     "text": [
      "[2025-06-26 08:48:21 INFO] \n",
      "Processing source: OpenET Ensemble CCOUNT\n"
     ]
    },
    {
     "name": "stderr",
     "output_type": "stream",
     "text": [
      "  File prefix: OPENET_ENSEMBLE_\n",
      "  File prefix: OPENET_ENSEMBLE_\n",
      "  File prefix: OPENET_ENSEMBLE_\n",
      "  File prefix: OPENET_ENSEMBLE_\n",
      "  File prefix: OPENET_ENSEMBLE_\n",
      "  File prefix: OPENET_ENSEMBLE_\n",
      "  File prefix: OPENET_ENSEMBLE_\n"
     ]
    },
    {
     "name": "stdout",
     "output_type": "stream",
     "text": [
      "[2025-06-26 08:48:21 INFO]   File prefix: OPENET_ENSEMBLE_\n"
     ]
    },
    {
     "name": "stderr",
     "output_type": "stream",
     "text": [
      "  Date range: 2008-01-01 to 2025-01-01\n",
      "  Date range: 2008-01-01 to 2025-01-01\n",
      "  Date range: 2008-01-01 to 2025-01-01\n",
      "  Date range: 2008-01-01 to 2025-01-01\n",
      "  Date range: 2008-01-01 to 2025-01-01\n",
      "  Date range: 2008-01-01 to 2025-01-01\n",
      "  Date range: 2008-01-01 to 2025-01-01\n"
     ]
    },
    {
     "name": "stdout",
     "output_type": "stream",
     "text": [
      "[2025-06-26 08:48:21 INFO]   Date range: 2008-01-01 to 2025-01-01\n"
     ]
    },
    {
     "name": "stderr",
     "output_type": "stream",
     "text": [
      "  Found 3840 files\n",
      "  Found 3840 files\n",
      "  Found 3840 files\n",
      "  Found 3840 files\n",
      "  Found 3840 files\n",
      "  Found 3840 files\n",
      "  Found 3840 files\n"
     ]
    },
    {
     "name": "stdout",
     "output_type": "stream",
     "text": [
      "[2025-06-26 08:48:25 INFO]   Found 3840 files\n"
     ]
    },
    {
     "name": "stderr",
     "output_type": "stream",
     "text": [
      "\n",
      "Processing source: OpenET Ensemble ET MIN\n",
      "\n",
      "Processing source: OpenET Ensemble ET MIN\n",
      "\n",
      "Processing source: OpenET Ensemble ET MIN\n",
      "\n",
      "Processing source: OpenET Ensemble ET MIN\n",
      "\n",
      "Processing source: OpenET Ensemble ET MIN\n",
      "\n",
      "Processing source: OpenET Ensemble ET MIN\n",
      "\n",
      "Processing source: OpenET Ensemble ET MIN\n"
     ]
    },
    {
     "name": "stdout",
     "output_type": "stream",
     "text": [
      "[2025-06-26 08:48:25 INFO] \n",
      "Processing source: OpenET Ensemble ET MIN\n"
     ]
    },
    {
     "name": "stderr",
     "output_type": "stream",
     "text": [
      "  File prefix: OPENET_ENSEMBLE_\n",
      "  File prefix: OPENET_ENSEMBLE_\n",
      "  File prefix: OPENET_ENSEMBLE_\n",
      "  File prefix: OPENET_ENSEMBLE_\n",
      "  File prefix: OPENET_ENSEMBLE_\n",
      "  File prefix: OPENET_ENSEMBLE_\n",
      "  File prefix: OPENET_ENSEMBLE_\n"
     ]
    },
    {
     "name": "stdout",
     "output_type": "stream",
     "text": [
      "[2025-06-26 08:48:25 INFO]   File prefix: OPENET_ENSEMBLE_\n"
     ]
    },
    {
     "name": "stderr",
     "output_type": "stream",
     "text": [
      "  Date range: 2008-01-01 to 2025-01-01\n",
      "  Date range: 2008-01-01 to 2025-01-01\n",
      "  Date range: 2008-01-01 to 2025-01-01\n",
      "  Date range: 2008-01-01 to 2025-01-01\n",
      "  Date range: 2008-01-01 to 2025-01-01\n",
      "  Date range: 2008-01-01 to 2025-01-01\n",
      "  Date range: 2008-01-01 to 2025-01-01\n"
     ]
    },
    {
     "name": "stdout",
     "output_type": "stream",
     "text": [
      "[2025-06-26 08:48:25 INFO]   Date range: 2008-01-01 to 2025-01-01\n"
     ]
    },
    {
     "name": "stderr",
     "output_type": "stream",
     "text": [
      "  Found 3840 files\n",
      "  Found 3840 files\n",
      "  Found 3840 files\n",
      "  Found 3840 files\n",
      "  Found 3840 files\n",
      "  Found 3840 files\n",
      "  Found 3840 files\n"
     ]
    },
    {
     "name": "stdout",
     "output_type": "stream",
     "text": [
      "[2025-06-26 08:48:28 INFO]   Found 3840 files\n"
     ]
    },
    {
     "name": "stderr",
     "output_type": "stream",
     "text": [
      "\n",
      "Processing source: OpenET Ensemble ET MAX\n",
      "\n",
      "Processing source: OpenET Ensemble ET MAX\n",
      "\n",
      "Processing source: OpenET Ensemble ET MAX\n",
      "\n",
      "Processing source: OpenET Ensemble ET MAX\n",
      "\n",
      "Processing source: OpenET Ensemble ET MAX\n",
      "\n",
      "Processing source: OpenET Ensemble ET MAX\n",
      "\n",
      "Processing source: OpenET Ensemble ET MAX\n"
     ]
    },
    {
     "name": "stdout",
     "output_type": "stream",
     "text": [
      "[2025-06-26 08:48:28 INFO] \n",
      "Processing source: OpenET Ensemble ET MAX\n"
     ]
    },
    {
     "name": "stderr",
     "output_type": "stream",
     "text": [
      "  File prefix: OPENET_ENSEMBLE_\n",
      "  File prefix: OPENET_ENSEMBLE_\n",
      "  File prefix: OPENET_ENSEMBLE_\n",
      "  File prefix: OPENET_ENSEMBLE_\n",
      "  File prefix: OPENET_ENSEMBLE_\n",
      "  File prefix: OPENET_ENSEMBLE_\n",
      "  File prefix: OPENET_ENSEMBLE_\n"
     ]
    },
    {
     "name": "stdout",
     "output_type": "stream",
     "text": [
      "[2025-06-26 08:48:28 INFO]   File prefix: OPENET_ENSEMBLE_\n"
     ]
    },
    {
     "name": "stderr",
     "output_type": "stream",
     "text": [
      "  Date range: 2008-01-01 to 2025-01-01\n",
      "  Date range: 2008-01-01 to 2025-01-01\n",
      "  Date range: 2008-01-01 to 2025-01-01\n",
      "  Date range: 2008-01-01 to 2025-01-01\n",
      "  Date range: 2008-01-01 to 2025-01-01\n",
      "  Date range: 2008-01-01 to 2025-01-01\n",
      "  Date range: 2008-01-01 to 2025-01-01\n"
     ]
    },
    {
     "name": "stdout",
     "output_type": "stream",
     "text": [
      "[2025-06-26 08:48:28 INFO]   Date range: 2008-01-01 to 2025-01-01\n"
     ]
    },
    {
     "name": "stderr",
     "output_type": "stream",
     "text": [
      "  Found 3840 files\n",
      "  Found 3840 files\n",
      "  Found 3840 files\n",
      "  Found 3840 files\n",
      "  Found 3840 files\n",
      "  Found 3840 files\n",
      "  Found 3840 files\n"
     ]
    },
    {
     "name": "stdout",
     "output_type": "stream",
     "text": [
      "[2025-06-26 08:48:31 INFO]   Found 3840 files\n"
     ]
    },
    {
     "name": "stderr",
     "output_type": "stream",
     "text": [
      "\n",
      "Processing source: OpenET PTJPL Cloud Count\n",
      "\n",
      "Processing source: OpenET PTJPL Cloud Count\n",
      "\n",
      "Processing source: OpenET PTJPL Cloud Count\n",
      "\n",
      "Processing source: OpenET PTJPL Cloud Count\n",
      "\n",
      "Processing source: OpenET PTJPL Cloud Count\n",
      "\n",
      "Processing source: OpenET PTJPL Cloud Count\n",
      "\n",
      "Processing source: OpenET PTJPL Cloud Count\n"
     ]
    },
    {
     "name": "stdout",
     "output_type": "stream",
     "text": [
      "[2025-06-26 08:48:31 INFO] \n",
      "Processing source: OpenET PTJPL Cloud Count\n"
     ]
    },
    {
     "name": "stderr",
     "output_type": "stream",
     "text": [
      "  File prefix: OPENET_PTJPL_\n",
      "  File prefix: OPENET_PTJPL_\n",
      "  File prefix: OPENET_PTJPL_\n",
      "  File prefix: OPENET_PTJPL_\n",
      "  File prefix: OPENET_PTJPL_\n",
      "  File prefix: OPENET_PTJPL_\n",
      "  File prefix: OPENET_PTJPL_\n"
     ]
    },
    {
     "name": "stdout",
     "output_type": "stream",
     "text": [
      "[2025-06-26 08:48:31 INFO]   File prefix: OPENET_PTJPL_\n"
     ]
    },
    {
     "name": "stderr",
     "output_type": "stream",
     "text": [
      "  Date range: 2008-01-01 to 2025-01-01\n",
      "  Date range: 2008-01-01 to 2025-01-01\n",
      "  Date range: 2008-01-01 to 2025-01-01\n",
      "  Date range: 2008-01-01 to 2025-01-01\n",
      "  Date range: 2008-01-01 to 2025-01-01\n",
      "  Date range: 2008-01-01 to 2025-01-01\n",
      "  Date range: 2008-01-01 to 2025-01-01\n"
     ]
    },
    {
     "name": "stdout",
     "output_type": "stream",
     "text": [
      "[2025-06-26 08:48:31 INFO]   Date range: 2008-01-01 to 2025-01-01\n"
     ]
    },
    {
     "name": "stderr",
     "output_type": "stream",
     "text": [
      "  Found 3840 files\n",
      "  Found 3840 files\n",
      "  Found 3840 files\n",
      "  Found 3840 files\n",
      "  Found 3840 files\n",
      "  Found 3840 files\n",
      "  Found 3840 files\n"
     ]
    },
    {
     "name": "stdout",
     "output_type": "stream",
     "text": [
      "[2025-06-26 08:48:31 INFO]   Found 3840 files\n"
     ]
    },
    {
     "name": "stderr",
     "output_type": "stream",
     "text": [
      "\n",
      "Processing source: IDAHO EPSCOR GRIDMET ETO\n",
      "\n",
      "Processing source: IDAHO EPSCOR GRIDMET ETO\n",
      "\n",
      "Processing source: IDAHO EPSCOR GRIDMET ETO\n",
      "\n",
      "Processing source: IDAHO EPSCOR GRIDMET ETO\n",
      "\n",
      "Processing source: IDAHO EPSCOR GRIDMET ETO\n",
      "\n",
      "Processing source: IDAHO EPSCOR GRIDMET ETO\n",
      "\n",
      "Processing source: IDAHO EPSCOR GRIDMET ETO\n"
     ]
    },
    {
     "name": "stdout",
     "output_type": "stream",
     "text": [
      "[2025-06-26 08:48:31 INFO] \n",
      "Processing source: IDAHO EPSCOR GRIDMET ETO\n"
     ]
    },
    {
     "name": "stderr",
     "output_type": "stream",
     "text": [
      "  File prefix: IDAHO_EPSCOR_GRIDMET_\n",
      "  File prefix: IDAHO_EPSCOR_GRIDMET_\n",
      "  File prefix: IDAHO_EPSCOR_GRIDMET_\n",
      "  File prefix: IDAHO_EPSCOR_GRIDMET_\n",
      "  File prefix: IDAHO_EPSCOR_GRIDMET_\n",
      "  File prefix: IDAHO_EPSCOR_GRIDMET_\n",
      "  File prefix: IDAHO_EPSCOR_GRIDMET_\n"
     ]
    },
    {
     "name": "stdout",
     "output_type": "stream",
     "text": [
      "[2025-06-26 08:48:31 INFO]   File prefix: IDAHO_EPSCOR_GRIDMET_\n"
     ]
    },
    {
     "name": "stderr",
     "output_type": "stream",
     "text": [
      "  Date range: 2008-01-01 to 2025-01-01\n",
      "  Date range: 2008-01-01 to 2025-01-01\n",
      "  Date range: 2008-01-01 to 2025-01-01\n",
      "  Date range: 2008-01-01 to 2025-01-01\n",
      "  Date range: 2008-01-01 to 2025-01-01\n",
      "  Date range: 2008-01-01 to 2025-01-01\n",
      "  Date range: 2008-01-01 to 2025-01-01\n"
     ]
    },
    {
     "name": "stdout",
     "output_type": "stream",
     "text": [
      "[2025-06-26 08:48:31 INFO]   Date range: 2008-01-01 to 2025-01-01\n"
     ]
    },
    {
     "name": "stderr",
     "output_type": "stream",
     "text": [
      "  Found 3840 files\n",
      "  Found 3840 files\n",
      "  Found 3840 files\n",
      "  Found 3840 files\n",
      "  Found 3840 files\n",
      "  Found 3840 files\n",
      "  Found 3840 files\n"
     ]
    },
    {
     "name": "stdout",
     "output_type": "stream",
     "text": [
      "[2025-06-26 08:48:32 INFO]   Found 3840 files\n"
     ]
    },
    {
     "name": "stderr",
     "output_type": "stream",
     "text": [
      "\n",
      "Processing source: Oregon State PRISM PPT\n",
      "\n",
      "Processing source: Oregon State PRISM PPT\n",
      "\n",
      "Processing source: Oregon State PRISM PPT\n",
      "\n",
      "Processing source: Oregon State PRISM PPT\n",
      "\n",
      "Processing source: Oregon State PRISM PPT\n",
      "\n",
      "Processing source: Oregon State PRISM PPT\n",
      "\n",
      "Processing source: Oregon State PRISM PPT\n"
     ]
    },
    {
     "name": "stdout",
     "output_type": "stream",
     "text": [
      "[2025-06-26 08:48:32 INFO] \n",
      "Processing source: Oregon State PRISM PPT\n"
     ]
    },
    {
     "name": "stderr",
     "output_type": "stream",
     "text": [
      "  File prefix: OREGON_STATE_PRISM_\n",
      "  File prefix: OREGON_STATE_PRISM_\n",
      "  File prefix: OREGON_STATE_PRISM_\n",
      "  File prefix: OREGON_STATE_PRISM_\n",
      "  File prefix: OREGON_STATE_PRISM_\n",
      "  File prefix: OREGON_STATE_PRISM_\n",
      "  File prefix: OREGON_STATE_PRISM_\n"
     ]
    },
    {
     "name": "stdout",
     "output_type": "stream",
     "text": [
      "[2025-06-26 08:48:32 INFO]   File prefix: OREGON_STATE_PRISM_\n"
     ]
    },
    {
     "name": "stderr",
     "output_type": "stream",
     "text": [
      "  Date range: 1985-01-01 to 2025-01-01\n",
      "  Date range: 1985-01-01 to 2025-01-01\n",
      "  Date range: 1985-01-01 to 2025-01-01\n",
      "  Date range: 1985-01-01 to 2025-01-01\n",
      "  Date range: 1985-01-01 to 2025-01-01\n",
      "  Date range: 1985-01-01 to 2025-01-01\n",
      "  Date range: 1985-01-01 to 2025-01-01\n"
     ]
    },
    {
     "name": "stdout",
     "output_type": "stream",
     "text": [
      "[2025-06-26 08:48:32 INFO]   Date range: 1985-01-01 to 2025-01-01\n"
     ]
    },
    {
     "name": "stderr",
     "output_type": "stream",
     "text": [
      "  Found 9600 files\n",
      "  Found 9600 files\n",
      "  Found 9600 files\n",
      "  Found 9600 files\n",
      "  Found 9600 files\n",
      "  Found 9600 files\n",
      "  Found 9600 files\n"
     ]
    },
    {
     "name": "stdout",
     "output_type": "stream",
     "text": [
      "[2025-06-26 08:48:34 INFO]   Found 9600 files\n"
     ]
    },
    {
     "name": "stderr",
     "output_type": "stream",
     "text": [
      "\n",
      "Generated inventory with 84800 total files\n",
      "\n",
      "Generated inventory with 84800 total files\n",
      "\n",
      "Generated inventory with 84800 total files\n",
      "\n",
      "Generated inventory with 84800 total files\n",
      "\n",
      "Generated inventory with 84800 total files\n",
      "\n",
      "Generated inventory with 84800 total files\n",
      "\n",
      "Generated inventory with 84800 total files\n"
     ]
    },
    {
     "name": "stdout",
     "output_type": "stream",
     "text": [
      "[2025-06-26 08:48:34 INFO] \n",
      "Generated inventory with 84800 total files\n"
     ]
    },
    {
     "name": "stderr",
     "output_type": "stream",
     "text": [
      "Sources processed: 9\n",
      "Sources processed: 9\n",
      "Sources processed: 9\n",
      "Sources processed: 9\n",
      "Sources processed: 9\n",
      "Sources processed: 9\n",
      "Sources processed: 9\n"
     ]
    },
    {
     "name": "stdout",
     "output_type": "stream",
     "text": [
      "[2025-06-26 08:48:34 INFO] Sources processed: 9\n"
     ]
    },
    {
     "name": "stderr",
     "output_type": "stream",
     "text": [
      "\n",
      "Summary by source:\n",
      "                  source_id variable  file_count\n",
      "0  idaho_epscor_gridmet_eto      ETO        3840\n",
      "1         landsat_ptjpl_esi      ESI       26079\n",
      "2          landsat_ptjpl_et       ET       26081\n",
      "3    openet_ensemble_ccount   CCOUNT        3840\n",
      "4        openet_ensemble_et       ET        3840\n",
      "5    openet_ensemble_et_max   ET_MAX        3840\n",
      "6    openet_ensemble_et_min   ET_MIN        3840\n",
      "7  openet_ptjpl_cloud_count    COUNT        3840\n",
      "8    oregon_state_prism_ppt      PPT        9600\n",
      "\n",
      "Summary by source:\n",
      "                  source_id variable  file_count\n",
      "0  idaho_epscor_gridmet_eto      ETO        3840\n",
      "1         landsat_ptjpl_esi      ESI       26079\n",
      "2          landsat_ptjpl_et       ET       26081\n",
      "3    openet_ensemble_ccount   CCOUNT        3840\n",
      "4        openet_ensemble_et       ET        3840\n",
      "5    openet_ensemble_et_max   ET_MAX        3840\n",
      "6    openet_ensemble_et_min   ET_MIN        3840\n",
      "7  openet_ptjpl_cloud_count    COUNT        3840\n",
      "8    oregon_state_prism_ppt      PPT        9600\n",
      "\n",
      "Summary by source:\n",
      "                  source_id variable  file_count\n",
      "0  idaho_epscor_gridmet_eto      ETO        3840\n",
      "1         landsat_ptjpl_esi      ESI       26079\n",
      "2          landsat_ptjpl_et       ET       26081\n",
      "3    openet_ensemble_ccount   CCOUNT        3840\n",
      "4        openet_ensemble_et       ET        3840\n",
      "5    openet_ensemble_et_max   ET_MAX        3840\n",
      "6    openet_ensemble_et_min   ET_MIN        3840\n",
      "7  openet_ptjpl_cloud_count    COUNT        3840\n",
      "8    oregon_state_prism_ppt      PPT        9600\n",
      "\n",
      "Summary by source:\n",
      "                  source_id variable  file_count\n",
      "0  idaho_epscor_gridmet_eto      ETO        3840\n",
      "1         landsat_ptjpl_esi      ESI       26079\n",
      "2          landsat_ptjpl_et       ET       26081\n",
      "3    openet_ensemble_ccount   CCOUNT        3840\n",
      "4        openet_ensemble_et       ET        3840\n",
      "5    openet_ensemble_et_max   ET_MAX        3840\n",
      "6    openet_ensemble_et_min   ET_MIN        3840\n",
      "7  openet_ptjpl_cloud_count    COUNT        3840\n",
      "8    oregon_state_prism_ppt      PPT        9600\n",
      "\n",
      "Summary by source:\n",
      "                  source_id variable  file_count\n",
      "0  idaho_epscor_gridmet_eto      ETO        3840\n",
      "1         landsat_ptjpl_esi      ESI       26079\n",
      "2          landsat_ptjpl_et       ET       26081\n",
      "3    openet_ensemble_ccount   CCOUNT        3840\n",
      "4        openet_ensemble_et       ET        3840\n",
      "5    openet_ensemble_et_max   ET_MAX        3840\n",
      "6    openet_ensemble_et_min   ET_MIN        3840\n",
      "7  openet_ptjpl_cloud_count    COUNT        3840\n",
      "8    oregon_state_prism_ppt      PPT        9600\n",
      "\n",
      "Summary by source:\n",
      "                  source_id variable  file_count\n",
      "0  idaho_epscor_gridmet_eto      ETO        3840\n",
      "1         landsat_ptjpl_esi      ESI       26079\n",
      "2          landsat_ptjpl_et       ET       26081\n",
      "3    openet_ensemble_ccount   CCOUNT        3840\n",
      "4        openet_ensemble_et       ET        3840\n",
      "5    openet_ensemble_et_max   ET_MAX        3840\n",
      "6    openet_ensemble_et_min   ET_MIN        3840\n",
      "7  openet_ptjpl_cloud_count    COUNT        3840\n",
      "8    oregon_state_prism_ppt      PPT        9600\n",
      "\n",
      "Summary by source:\n",
      "                  source_id variable  file_count\n",
      "0  idaho_epscor_gridmet_eto      ETO        3840\n",
      "1         landsat_ptjpl_esi      ESI       26079\n",
      "2          landsat_ptjpl_et       ET       26081\n",
      "3    openet_ensemble_ccount   CCOUNT        3840\n",
      "4        openet_ensemble_et       ET        3840\n",
      "5    openet_ensemble_et_max   ET_MAX        3840\n",
      "6    openet_ensemble_et_min   ET_MIN        3840\n",
      "7  openet_ptjpl_cloud_count    COUNT        3840\n",
      "8    oregon_state_prism_ppt      PPT        9600\n"
     ]
    },
    {
     "name": "stdout",
     "output_type": "stream",
     "text": [
      "[2025-06-26 08:48:34 INFO] \n",
      "Summary by source:\n",
      "                  source_id variable  file_count\n",
      "0  idaho_epscor_gridmet_eto      ETO        3840\n",
      "1         landsat_ptjpl_esi      ESI       26079\n",
      "2          landsat_ptjpl_et       ET       26081\n",
      "3    openet_ensemble_ccount   CCOUNT        3840\n",
      "4        openet_ensemble_et       ET        3840\n",
      "5    openet_ensemble_et_max   ET_MAX        3840\n",
      "6    openet_ensemble_et_min   ET_MIN        3840\n",
      "7  openet_ptjpl_cloud_count    COUNT        3840\n",
      "8    oregon_state_prism_ppt      PPT        9600\n"
     ]
    },
    {
     "name": "stderr",
     "output_type": "stream",
     "text": [
      "\n",
      "Date range in inventory:\n",
      "\n",
      "Date range in inventory:\n",
      "\n",
      "Date range in inventory:\n",
      "\n",
      "Date range in inventory:\n",
      "\n",
      "Date range in inventory:\n",
      "\n",
      "Date range in inventory:\n",
      "\n",
      "Date range in inventory:\n"
     ]
    },
    {
     "name": "stdout",
     "output_type": "stream",
     "text": [
      "[2025-06-26 08:48:34 INFO] \n",
      "Date range in inventory:\n"
     ]
    },
    {
     "name": "stderr",
     "output_type": "stream",
     "text": [
      "  Earliest: 1983-01-01\n",
      "  Earliest: 1983-01-01\n",
      "  Earliest: 1983-01-01\n",
      "  Earliest: 1983-01-01\n",
      "  Earliest: 1983-01-01\n",
      "  Earliest: 1983-01-01\n",
      "  Earliest: 1983-01-01\n"
     ]
    },
    {
     "name": "stdout",
     "output_type": "stream",
     "text": [
      "[2025-06-26 08:48:34 INFO]   Earliest: 1983-01-01\n"
     ]
    },
    {
     "name": "stderr",
     "output_type": "stream",
     "text": [
      "  Latest: 2024-12-01\n",
      "  Latest: 2024-12-01\n",
      "  Latest: 2024-12-01\n",
      "  Latest: 2024-12-01\n",
      "  Latest: 2024-12-01\n",
      "  Latest: 2024-12-01\n",
      "  Latest: 2024-12-01\n"
     ]
    },
    {
     "name": "stdout",
     "output_type": "stream",
     "text": [
      "[2025-06-26 08:48:34 INFO]   Latest: 2024-12-01\n"
     ]
    },
    {
     "name": "stderr",
     "output_type": "stream",
     "text": [
      "\n",
      "Variables found: ['CCOUNT', 'COUNT', 'ESI', 'ET', 'ETO', 'ET_MAX', 'ET_MIN', 'PPT']\n",
      "\n",
      "Variables found: ['CCOUNT', 'COUNT', 'ESI', 'ET', 'ETO', 'ET_MAX', 'ET_MIN', 'PPT']\n",
      "\n",
      "Variables found: ['CCOUNT', 'COUNT', 'ESI', 'ET', 'ETO', 'ET_MAX', 'ET_MIN', 'PPT']\n",
      "\n",
      "Variables found: ['CCOUNT', 'COUNT', 'ESI', 'ET', 'ETO', 'ET_MAX', 'ET_MIN', 'PPT']\n",
      "\n",
      "Variables found: ['CCOUNT', 'COUNT', 'ESI', 'ET', 'ETO', 'ET_MAX', 'ET_MIN', 'PPT']\n",
      "\n",
      "Variables found: ['CCOUNT', 'COUNT', 'ESI', 'ET', 'ETO', 'ET_MAX', 'ET_MIN', 'PPT']\n",
      "\n",
      "Variables found: ['CCOUNT', 'COUNT', 'ESI', 'ET', 'ETO', 'ET_MAX', 'ET_MIN', 'PPT']\n"
     ]
    },
    {
     "name": "stdout",
     "output_type": "stream",
     "text": [
      "[2025-06-26 08:48:34 INFO] \n",
      "Variables found: ['CCOUNT', 'COUNT', 'ESI', 'ET', 'ETO', 'ET_MAX', 'ET_MIN', 'PPT']\n"
     ]
    },
    {
     "name": "stderr",
     "output_type": "stream",
     "text": [
      "Unique tiles: 22 tiles\n",
      "Unique tiles: 22 tiles\n",
      "Unique tiles: 22 tiles\n",
      "Unique tiles: 22 tiles\n",
      "Unique tiles: 22 tiles\n",
      "Unique tiles: 22 tiles\n",
      "Unique tiles: 22 tiles\n"
     ]
    },
    {
     "name": "stdout",
     "output_type": "stream",
     "text": [
      "[2025-06-26 08:48:34 INFO] Unique tiles: 22 tiles\n"
     ]
    },
    {
     "data": {
      "text/html": [
       "<div>\n",
       "<style scoped>\n",
       "    .dataframe tbody tr th:only-of-type {\n",
       "        vertical-align: middle;\n",
       "    }\n",
       "\n",
       "    .dataframe tbody tr th {\n",
       "        vertical-align: top;\n",
       "    }\n",
       "\n",
       "    .dataframe thead th {\n",
       "        text-align: right;\n",
       "    }\n",
       "</style>\n",
       "<table border=\"1\" class=\"dataframe\">\n",
       "  <thead>\n",
       "    <tr style=\"text-align: right;\">\n",
       "      <th></th>\n",
       "      <th>filename</th>\n",
       "      <th>variable</th>\n",
       "      <th>date</th>\n",
       "      <th>tile</th>\n",
       "      <th>source_id</th>\n",
       "    </tr>\n",
       "  </thead>\n",
       "  <tbody>\n",
       "    <tr>\n",
       "      <th>0</th>\n",
       "      <td>LT04_CU_008014_19830101_20200420_C01_V01_ET.tif</td>\n",
       "      <td>ET</td>\n",
       "      <td>1983-01-01</td>\n",
       "      <td>008014</td>\n",
       "      <td>landsat_ptjpl_et</td>\n",
       "    </tr>\n",
       "    <tr>\n",
       "      <th>1</th>\n",
       "      <td>LT04_CU_008014_19830108_20200420_C01_V01_ET.tif</td>\n",
       "      <td>ET</td>\n",
       "      <td>1983-01-08</td>\n",
       "      <td>008014</td>\n",
       "      <td>landsat_ptjpl_et</td>\n",
       "    </tr>\n",
       "    <tr>\n",
       "      <th>2</th>\n",
       "      <td>LT04_CU_008014_19830110_20200420_C01_V01_ET.tif</td>\n",
       "      <td>ET</td>\n",
       "      <td>1983-01-10</td>\n",
       "      <td>008014</td>\n",
       "      <td>landsat_ptjpl_et</td>\n",
       "    </tr>\n",
       "    <tr>\n",
       "      <th>3</th>\n",
       "      <td>LT04_CU_008014_19830126_20200420_C01_V01_ET.tif</td>\n",
       "      <td>ET</td>\n",
       "      <td>1983-01-26</td>\n",
       "      <td>008014</td>\n",
       "      <td>landsat_ptjpl_et</td>\n",
       "    </tr>\n",
       "    <tr>\n",
       "      <th>4</th>\n",
       "      <td>LT04_CU_008014_19830209_20200420_C01_V01_ET.tif</td>\n",
       "      <td>ET</td>\n",
       "      <td>1983-02-09</td>\n",
       "      <td>008014</td>\n",
       "      <td>landsat_ptjpl_et</td>\n",
       "    </tr>\n",
       "    <tr>\n",
       "      <th>...</th>\n",
       "      <td>...</td>\n",
       "      <td>...</td>\n",
       "      <td>...</td>\n",
       "      <td>...</td>\n",
       "      <td>...</td>\n",
       "    </tr>\n",
       "    <tr>\n",
       "      <th>84795</th>\n",
       "      <td>OREGON_STATE_PRISM_012015_20240801_20240901_PP...</td>\n",
       "      <td>PPT</td>\n",
       "      <td>2024-08-01</td>\n",
       "      <td>012015</td>\n",
       "      <td>oregon_state_prism_ppt</td>\n",
       "    </tr>\n",
       "    <tr>\n",
       "      <th>84796</th>\n",
       "      <td>OREGON_STATE_PRISM_012015_20240901_20241001_PP...</td>\n",
       "      <td>PPT</td>\n",
       "      <td>2024-09-01</td>\n",
       "      <td>012015</td>\n",
       "      <td>oregon_state_prism_ppt</td>\n",
       "    </tr>\n",
       "    <tr>\n",
       "      <th>84797</th>\n",
       "      <td>OREGON_STATE_PRISM_012015_20241001_20241101_PP...</td>\n",
       "      <td>PPT</td>\n",
       "      <td>2024-10-01</td>\n",
       "      <td>012015</td>\n",
       "      <td>oregon_state_prism_ppt</td>\n",
       "    </tr>\n",
       "    <tr>\n",
       "      <th>84798</th>\n",
       "      <td>OREGON_STATE_PRISM_012015_20241101_20241201_PP...</td>\n",
       "      <td>PPT</td>\n",
       "      <td>2024-11-01</td>\n",
       "      <td>012015</td>\n",
       "      <td>oregon_state_prism_ppt</td>\n",
       "    </tr>\n",
       "    <tr>\n",
       "      <th>84799</th>\n",
       "      <td>OREGON_STATE_PRISM_012015_20241201_20250101_PP...</td>\n",
       "      <td>PPT</td>\n",
       "      <td>2024-12-01</td>\n",
       "      <td>012015</td>\n",
       "      <td>oregon_state_prism_ppt</td>\n",
       "    </tr>\n",
       "  </tbody>\n",
       "</table>\n",
       "<p>84800 rows × 5 columns</p>\n",
       "</div>"
      ],
      "text/plain": [
       "                                                filename variable        date  \\\n",
       "0        LT04_CU_008014_19830101_20200420_C01_V01_ET.tif       ET  1983-01-01   \n",
       "1        LT04_CU_008014_19830108_20200420_C01_V01_ET.tif       ET  1983-01-08   \n",
       "2        LT04_CU_008014_19830110_20200420_C01_V01_ET.tif       ET  1983-01-10   \n",
       "3        LT04_CU_008014_19830126_20200420_C01_V01_ET.tif       ET  1983-01-26   \n",
       "4        LT04_CU_008014_19830209_20200420_C01_V01_ET.tif       ET  1983-02-09   \n",
       "...                                                  ...      ...         ...   \n",
       "84795  OREGON_STATE_PRISM_012015_20240801_20240901_PP...      PPT  2024-08-01   \n",
       "84796  OREGON_STATE_PRISM_012015_20240901_20241001_PP...      PPT  2024-09-01   \n",
       "84797  OREGON_STATE_PRISM_012015_20241001_20241101_PP...      PPT  2024-10-01   \n",
       "84798  OREGON_STATE_PRISM_012015_20241101_20241201_PP...      PPT  2024-11-01   \n",
       "84799  OREGON_STATE_PRISM_012015_20241201_20250101_PP...      PPT  2024-12-01   \n",
       "\n",
       "         tile               source_id  \n",
       "0      008014        landsat_ptjpl_et  \n",
       "1      008014        landsat_ptjpl_et  \n",
       "2      008014        landsat_ptjpl_et  \n",
       "3      008014        landsat_ptjpl_et  \n",
       "4      008014        landsat_ptjpl_et  \n",
       "...       ...                     ...  \n",
       "84795  012015  oregon_state_prism_ppt  \n",
       "84796  012015  oregon_state_prism_ppt  \n",
       "84797  012015  oregon_state_prism_ppt  \n",
       "84798  012015  oregon_state_prism_ppt  \n",
       "84799  012015  oregon_state_prism_ppt  \n",
       "\n",
       "[84800 rows x 5 columns]"
      ]
     },
     "execution_count": 37,
     "metadata": {},
     "output_type": "execute_result"
    }
   ],
   "source": [
    "from update_manifest import S3ManifestTracker\n",
    "\n",
    "tracker = S3ManifestTracker(\n",
    "    config_path=\"../variables.yaml\",\n",
    "    bucket_name=\"ose-dev-inputs\",\n",
    "    output_path=\"S3_filenames_dynamic.csv\",\n",
    "    profile_name=\"ose-nmw\",\n",
    ")\n",
    "# # Write to file (test file)\n",
    "tracker.update_manifest(output_path=\"S3_filenames_dynamic_test.csv\")\n",
    "\n",
    "# Update Production File (uncomment to update)\n",
    "# tracker.update_manifest(output_path=\"../water_rights_visualizer/S3_filenames.csv\")"
   ]
  },
  {
   "cell_type": "markdown",
   "metadata": {},
   "source": [
    "# Example: Real Data Fetch Run"
   ]
  },
  {
   "cell_type": "code",
   "execution_count": 12,
   "metadata": {},
   "outputs": [
    {
     "data": {
      "text/html": [
       "\n",
       "            <style>\n",
       "                .geemap-dark {\n",
       "                    --jp-widgets-color: white;\n",
       "                    --jp-widgets-label-color: white;\n",
       "                    --jp-ui-font-color1: white;\n",
       "                    --jp-layout-color2: #454545;\n",
       "                    background-color: #383838;\n",
       "                }\n",
       "\n",
       "                .geemap-dark .jupyter-button {\n",
       "                    --jp-layout-color3: #383838;\n",
       "                }\n",
       "\n",
       "                .geemap-colab {\n",
       "                    background-color: var(--colab-primary-surface-color, white);\n",
       "                }\n",
       "\n",
       "                .geemap-colab .jupyter-button {\n",
       "                    --jp-layout-color3: var(--colab-primary-surface-color, white);\n",
       "                }\n",
       "            </style>\n",
       "            "
      ],
      "text/plain": [
       "<IPython.core.display.HTML object>"
      ]
     },
     "metadata": {},
     "output_type": "display_data"
    },
    {
     "name": "stdout",
     "output_type": "stream",
     "text": [
      "[2025-07-15 09:14:06 INFO] loading credentials: /Users/rstonebr/Documents/Programming/Water-Rights-Visualizer/pipelines/google_drive_new_key.txt\n",
      "[2025-07-15 09:14:06 INFO] saving credentials: /Users/rstonebr/Documents/Programming/Water-Rights-Visualizer/pipelines/google_drive_new_key.txt\n",
      "[2025-07-15 09:14:06 INFO] Found credentials in shared credentials file: ~/.aws/credentials\n"
     ]
    }
   ],
   "source": [
    "# Initialize the pipeline, configured for the OpenET ensemble product\n",
    "pipeline = GEEAWSDataPipeline(\n",
    "    bands=[\"et_ensemble_mad\", \"et_ensemble_mad_min\", \"et_ensemble_mad_max\"],\n",
    "    product=\"OpenET/ENSEMBLE/CONUS/GRIDMET/MONTHLY/v2_0\",\n",
    "    # For <2000 data, use:\n",
    "    # product=\"projects/openet/assets/ensemble/conus/gridmet/monthly/v2_0_pre2000\",\n",
    "    product_prefix=\"OPENET_ENSEMBLE\",\n",
    "    aws_bucket=\"ose-dev-inputs\",\n",
    "    aws_region=\"us-west-2\",\n",
    "    aws_profile=\"ose-nmw\",\n",
    "    gdrive_folder=\"OPENET_EXPORTS\",\n",
    "    temp_local_folder=\"temp_data\",\n",
    "    project=\"zippy-pad-465521-e2\",\n",
    "    gdrive_client_secrets_filename=secret_path,\n",
    "    gdrive_key_filename=key_path,\n",
    ")"
   ]
  },
  {
   "cell_type": "code",
   "execution_count": 13,
   "metadata": {},
   "outputs": [
    {
     "data": {
      "text/html": [
       "\n",
       "            <style>\n",
       "                .geemap-dark {\n",
       "                    --jp-widgets-color: white;\n",
       "                    --jp-widgets-label-color: white;\n",
       "                    --jp-ui-font-color1: white;\n",
       "                    --jp-layout-color2: #454545;\n",
       "                    background-color: #383838;\n",
       "                }\n",
       "\n",
       "                .geemap-dark .jupyter-button {\n",
       "                    --jp-layout-color3: #383838;\n",
       "                }\n",
       "\n",
       "                .geemap-colab {\n",
       "                    background-color: var(--colab-primary-surface-color, white);\n",
       "                }\n",
       "\n",
       "                .geemap-colab .jupyter-button {\n",
       "                    --jp-layout-color3: var(--colab-primary-surface-color, white);\n",
       "                }\n",
       "            </style>\n",
       "            "
      ],
      "text/plain": [
       "<IPython.core.display.HTML object>"
      ]
     },
     "metadata": {},
     "output_type": "display_data"
    },
    {
     "name": "stdout",
     "output_type": "stream",
     "text": [
      "[2025-07-15 09:14:59 INFO] loading credentials: /Users/rstonebr/Documents/Programming/Water-Rights-Visualizer/pipelines/google_drive_new_key.txt\n",
      "[2025-07-15 09:14:59 INFO] saving credentials: /Users/rstonebr/Documents/Programming/Water-Rights-Visualizer/pipelines/google_drive_new_key.txt\n",
      "[2025-07-15 09:14:59 INFO] Found credentials in shared credentials file: ~/.aws/credentials\n"
     ]
    }
   ],
   "source": [
    "# GRIDMET Data Pipeline\n",
    "gridmet_pipeline = GEEAWSDataPipeline(\n",
    "    bands=[\"eto\"],\n",
    "    product=\"IDAHO_EPSCOR/GRIDMET\",\n",
    "    product_prefix=\"IDAHO_EPSCOR_GRIDMET\",\n",
    "    tile_ids=[],\n",
    "    aws_bucket=\"ose-dev-inputs\",\n",
    "    aws_region=\"us-west-2\",\n",
    "    aws_profile=\"ose-nmw\",\n",
    "    gdrive_folder=\"OPENET_EXPORTS\",\n",
    "    temp_local_folder=\"temp_data\",\n",
    "    project=\"zippy-pad-465521-e2\",\n",
    "    gdrive_client_secrets_filename=secret_path,\n",
    "    gdrive_key_filename=key_path,\n",
    "    monthly_sum=True,\n",
    ")"
   ]
  },
  {
   "cell_type": "code",
   "execution_count": null,
   "metadata": {},
   "outputs": [],
   "source": [
    "prism_pipeline = PrismAWSDataPipeline(\n",
    "    aws_bucket=\"ose-dev-inputs\",\n",
    "    aws_region=\"us-west-2\",\n",
    "    aws_profile=\"ose-nmw\",\n",
    "    raw_dir=\"prism_data\",\n",
    "    monthly_dir=\"prism_data_monthly\",\n",
    "    output_dir=\"prism_tiles\",\n",
    "    allow_provisional=True,\n",
    ")"
   ]
  },
  {
   "cell_type": "code",
   "execution_count": null,
   "metadata": {},
   "outputs": [
    {
     "data": {
      "text/html": [
       "\n",
       "            <style>\n",
       "                .geemap-dark {\n",
       "                    --jp-widgets-color: white;\n",
       "                    --jp-widgets-label-color: white;\n",
       "                    --jp-ui-font-color1: white;\n",
       "                    --jp-layout-color2: #454545;\n",
       "                    background-color: #383838;\n",
       "                }\n",
       "\n",
       "                .geemap-dark .jupyter-button {\n",
       "                    --jp-layout-color3: #383838;\n",
       "                }\n",
       "\n",
       "                .geemap-colab {\n",
       "                    background-color: var(--colab-primary-surface-color, white);\n",
       "                }\n",
       "\n",
       "                .geemap-colab .jupyter-button {\n",
       "                    --jp-layout-color3: var(--colab-primary-surface-color, white);\n",
       "                }\n",
       "            </style>\n",
       "            "
      ],
      "text/plain": [
       "<IPython.core.display.HTML object>"
      ]
     },
     "metadata": {},
     "output_type": "display_data"
    },
    {
     "data": {
      "application/vnd.jupyter.widget-view+json": {
       "model_id": "7267addc22094ddb8eac600f5578db49",
       "version_major": 2,
       "version_minor": 0
      },
      "text/plain": [
       "Processing dates:   0%|          | 0/10 [00:00<?, ?it/s]"
      ]
     },
     "metadata": {},
     "output_type": "display_data"
    },
    {
     "data": {
      "application/vnd.jupyter.widget-view+json": {
       "model_id": "421da609d88447cfa25f7dacdea2e5aa",
       "version_major": 2,
       "version_minor": 0
      },
      "text/plain": [
       "Processing bands:   0%|          | 0/3 [00:00<?, ?it/s]"
      ]
     },
     "metadata": {},
     "output_type": "display_data"
    },
    {
     "data": {
      "application/vnd.jupyter.widget-view+json": {
       "model_id": "a14a27aa5dcc4c70912e1bac5b6eb534",
       "version_major": 2,
       "version_minor": 0
      },
      "text/plain": [
       "Processing tiles:   0%|          | 0/20 [00:00<?, ?it/s]"
      ]
     },
     "metadata": {},
     "output_type": "display_data"
    },
    {
     "name": "stdout",
     "output_type": "stream",
     "text": [
      "[2025-07-15 09:34:12 INFO] Started export for OPENET_ENSEMBLE_009011_20240201_20240301_ET\n",
      "[2025-07-15 09:34:12 INFO] Started export for OPENET_ENSEMBLE_009012_20240201_20240301_ET\n",
      "[2025-07-15 09:34:13 INFO] Started export for OPENET_ENSEMBLE_009013_20240201_20240301_ET\n",
      "[2025-07-15 09:34:14 INFO] Started export for OPENET_ENSEMBLE_009014_20240201_20240301_ET\n",
      "[2025-07-15 09:34:15 INFO] Started export for OPENET_ENSEMBLE_009015_20240201_20240301_ET\n",
      "[2025-07-15 09:34:16 INFO] Started export for OPENET_ENSEMBLE_010011_20240201_20240301_ET\n",
      "[2025-07-15 09:34:17 INFO] Started export for OPENET_ENSEMBLE_010012_20240201_20240301_ET\n",
      "[2025-07-15 09:34:17 INFO] Started export for OPENET_ENSEMBLE_010013_20240201_20240301_ET\n",
      "[2025-07-15 09:34:18 INFO] Started export for OPENET_ENSEMBLE_010014_20240201_20240301_ET\n",
      "[2025-07-15 09:34:18 INFO] Started export for OPENET_ENSEMBLE_010015_20240201_20240301_ET\n",
      "[2025-07-15 09:34:19 INFO] Started export for OPENET_ENSEMBLE_011011_20240201_20240301_ET\n",
      "[2025-07-15 09:34:20 INFO] Started export for OPENET_ENSEMBLE_011012_20240201_20240301_ET\n",
      "[2025-07-15 09:34:20 INFO] Started export for OPENET_ENSEMBLE_011013_20240201_20240301_ET\n",
      "[2025-07-15 09:34:20 INFO] Started export for OPENET_ENSEMBLE_011014_20240201_20240301_ET\n",
      "[2025-07-15 09:34:21 INFO] Started export for OPENET_ENSEMBLE_011015_20240201_20240301_ET\n",
      "[2025-07-15 09:34:22 INFO] Started export for OPENET_ENSEMBLE_012011_20240201_20240301_ET\n",
      "[2025-07-15 09:34:22 INFO] Started export for OPENET_ENSEMBLE_012012_20240201_20240301_ET\n",
      "[2025-07-15 09:34:23 INFO] Started export for OPENET_ENSEMBLE_012013_20240201_20240301_ET\n",
      "[2025-07-15 09:34:24 INFO] Started export for OPENET_ENSEMBLE_012014_20240201_20240301_ET\n",
      "[2025-07-15 09:34:24 INFO] Started export for OPENET_ENSEMBLE_012015_20240201_20240301_ET\n"
     ]
    },
    {
     "data": {
      "application/vnd.jupyter.widget-view+json": {
       "model_id": "53c824ee018740e4aa992415340ac234",
       "version_major": 2,
       "version_minor": 0
      },
      "text/plain": [
       "Processing tiles:   0%|          | 0/20 [00:00<?, ?it/s]"
      ]
     },
     "metadata": {},
     "output_type": "display_data"
    },
    {
     "name": "stdout",
     "output_type": "stream",
     "text": [
      "[2025-07-15 09:34:25 INFO] Started export for OPENET_ENSEMBLE_009011_20240201_20240301_ET_MIN\n",
      "[2025-07-15 09:34:26 INFO] Started export for OPENET_ENSEMBLE_009012_20240201_20240301_ET_MIN\n",
      "[2025-07-15 09:34:26 INFO] Started export for OPENET_ENSEMBLE_009013_20240201_20240301_ET_MIN\n",
      "[2025-07-15 09:34:27 INFO] Started export for OPENET_ENSEMBLE_009014_20240201_20240301_ET_MIN\n",
      "[2025-07-15 09:34:27 INFO] Started export for OPENET_ENSEMBLE_009015_20240201_20240301_ET_MIN\n",
      "[2025-07-15 09:34:28 INFO] Started export for OPENET_ENSEMBLE_010011_20240201_20240301_ET_MIN\n",
      "[2025-07-15 09:34:28 INFO] Started export for OPENET_ENSEMBLE_010012_20240201_20240301_ET_MIN\n",
      "[2025-07-15 09:34:29 INFO] Started export for OPENET_ENSEMBLE_010013_20240201_20240301_ET_MIN\n",
      "[2025-07-15 09:34:29 INFO] Started export for OPENET_ENSEMBLE_010014_20240201_20240301_ET_MIN\n",
      "[2025-07-15 09:34:30 INFO] Started export for OPENET_ENSEMBLE_010015_20240201_20240301_ET_MIN\n",
      "[2025-07-15 09:34:31 INFO] Started export for OPENET_ENSEMBLE_011011_20240201_20240301_ET_MIN\n",
      "[2025-07-15 09:34:31 INFO] Started export for OPENET_ENSEMBLE_011012_20240201_20240301_ET_MIN\n",
      "[2025-07-15 09:34:32 INFO] Started export for OPENET_ENSEMBLE_011013_20240201_20240301_ET_MIN\n",
      "[2025-07-15 09:34:32 INFO] Started export for OPENET_ENSEMBLE_011014_20240201_20240301_ET_MIN\n",
      "[2025-07-15 09:34:33 INFO] Started export for OPENET_ENSEMBLE_011015_20240201_20240301_ET_MIN\n",
      "[2025-07-15 09:34:33 INFO] Started export for OPENET_ENSEMBLE_012011_20240201_20240301_ET_MIN\n",
      "[2025-07-15 09:34:34 INFO] Started export for OPENET_ENSEMBLE_012012_20240201_20240301_ET_MIN\n",
      "[2025-07-15 09:34:34 INFO] Started export for OPENET_ENSEMBLE_012013_20240201_20240301_ET_MIN\n",
      "[2025-07-15 09:34:35 INFO] Started export for OPENET_ENSEMBLE_012014_20240201_20240301_ET_MIN\n",
      "[2025-07-15 09:34:35 INFO] Started export for OPENET_ENSEMBLE_012015_20240201_20240301_ET_MIN\n"
     ]
    },
    {
     "data": {
      "application/vnd.jupyter.widget-view+json": {
       "model_id": "d6b2507d3c8a4db8a25450528b7e4d4b",
       "version_major": 2,
       "version_minor": 0
      },
      "text/plain": [
       "Processing tiles:   0%|          | 0/20 [00:00<?, ?it/s]"
      ]
     },
     "metadata": {},
     "output_type": "display_data"
    },
    {
     "name": "stdout",
     "output_type": "stream",
     "text": [
      "[2025-07-15 09:34:36 INFO] Started export for OPENET_ENSEMBLE_009011_20240201_20240301_ET_MAX\n",
      "[2025-07-15 09:34:36 INFO] Started export for OPENET_ENSEMBLE_009012_20240201_20240301_ET_MAX\n",
      "[2025-07-15 09:34:37 INFO] Started export for OPENET_ENSEMBLE_009013_20240201_20240301_ET_MAX\n",
      "[2025-07-15 09:34:45 INFO] Started export for OPENET_ENSEMBLE_009014_20240201_20240301_ET_MAX\n",
      "[2025-07-15 09:34:46 INFO] Started export for OPENET_ENSEMBLE_009015_20240201_20240301_ET_MAX\n",
      "[2025-07-15 09:34:47 INFO] Started export for OPENET_ENSEMBLE_010011_20240201_20240301_ET_MAX\n",
      "[2025-07-15 09:34:48 INFO] Started export for OPENET_ENSEMBLE_010012_20240201_20240301_ET_MAX\n",
      "[2025-07-15 09:34:48 INFO] Started export for OPENET_ENSEMBLE_010013_20240201_20240301_ET_MAX\n",
      "[2025-07-15 09:34:49 INFO] Started export for OPENET_ENSEMBLE_010014_20240201_20240301_ET_MAX\n",
      "[2025-07-15 09:34:49 INFO] Started export for OPENET_ENSEMBLE_010015_20240201_20240301_ET_MAX\n",
      "[2025-07-15 09:34:50 INFO] Started export for OPENET_ENSEMBLE_011011_20240201_20240301_ET_MAX\n",
      "[2025-07-15 09:34:51 INFO] Started export for OPENET_ENSEMBLE_011012_20240201_20240301_ET_MAX\n",
      "[2025-07-15 09:34:51 INFO] Started export for OPENET_ENSEMBLE_011013_20240201_20240301_ET_MAX\n",
      "[2025-07-15 09:34:52 INFO] Started export for OPENET_ENSEMBLE_011014_20240201_20240301_ET_MAX\n",
      "[2025-07-15 09:34:52 INFO] Started export for OPENET_ENSEMBLE_011015_20240201_20240301_ET_MAX\n",
      "[2025-07-15 09:34:53 INFO] Started export for OPENET_ENSEMBLE_012011_20240201_20240301_ET_MAX\n",
      "[2025-07-15 09:34:53 INFO] Started export for OPENET_ENSEMBLE_012012_20240201_20240301_ET_MAX\n",
      "[2025-07-15 09:34:54 INFO] Started export for OPENET_ENSEMBLE_012013_20240201_20240301_ET_MAX\n",
      "[2025-07-15 09:34:54 INFO] Started export for OPENET_ENSEMBLE_012014_20240201_20240301_ET_MAX\n",
      "[2025-07-15 09:34:54 INFO] Started export for OPENET_ENSEMBLE_012015_20240201_20240301_ET_MAX\n"
     ]
    },
    {
     "data": {
      "application/vnd.jupyter.widget-view+json": {
       "model_id": "d83e353200b043309f165a2bcad3149b",
       "version_major": 2,
       "version_minor": 0
      },
      "text/plain": [
       "Processing bands:   0%|          | 0/3 [00:00<?, ?it/s]"
      ]
     },
     "metadata": {},
     "output_type": "display_data"
    },
    {
     "data": {
      "application/vnd.jupyter.widget-view+json": {
       "model_id": "ffd44274f3df40fcb75c07c386758b6a",
       "version_major": 2,
       "version_minor": 0
      },
      "text/plain": [
       "Processing tiles:   0%|          | 0/20 [00:00<?, ?it/s]"
      ]
     },
     "metadata": {},
     "output_type": "display_data"
    },
    {
     "name": "stdout",
     "output_type": "stream",
     "text": [
      "[2025-07-15 09:34:55 INFO] Started export for OPENET_ENSEMBLE_009011_20240301_20240401_ET\n",
      "[2025-07-15 09:34:56 INFO] Started export for OPENET_ENSEMBLE_009012_20240301_20240401_ET\n",
      "[2025-07-15 09:34:56 INFO] Started export for OPENET_ENSEMBLE_009013_20240301_20240401_ET\n",
      "[2025-07-15 09:34:56 INFO] Started export for OPENET_ENSEMBLE_009014_20240301_20240401_ET\n",
      "[2025-07-15 09:34:57 INFO] Started export for OPENET_ENSEMBLE_009015_20240301_20240401_ET\n",
      "[2025-07-15 09:34:58 INFO] Started export for OPENET_ENSEMBLE_010011_20240301_20240401_ET\n",
      "[2025-07-15 09:34:58 INFO] Started export for OPENET_ENSEMBLE_010012_20240301_20240401_ET\n",
      "[2025-07-15 09:34:59 INFO] Started export for OPENET_ENSEMBLE_010013_20240301_20240401_ET\n",
      "[2025-07-15 09:34:59 INFO] Started export for OPENET_ENSEMBLE_010014_20240301_20240401_ET\n",
      "[2025-07-15 09:35:00 INFO] Started export for OPENET_ENSEMBLE_010015_20240301_20240401_ET\n",
      "[2025-07-15 09:35:00 INFO] Started export for OPENET_ENSEMBLE_011011_20240301_20240401_ET\n",
      "[2025-07-15 09:35:01 INFO] Started export for OPENET_ENSEMBLE_011012_20240301_20240401_ET\n",
      "[2025-07-15 09:35:02 INFO] Started export for OPENET_ENSEMBLE_011013_20240301_20240401_ET\n",
      "[2025-07-15 09:35:02 INFO] Started export for OPENET_ENSEMBLE_011014_20240301_20240401_ET\n",
      "[2025-07-15 09:35:02 INFO] Started export for OPENET_ENSEMBLE_011015_20240301_20240401_ET\n",
      "[2025-07-15 09:35:03 INFO] Started export for OPENET_ENSEMBLE_012011_20240301_20240401_ET\n",
      "[2025-07-15 09:35:05 INFO] Started export for OPENET_ENSEMBLE_012012_20240301_20240401_ET\n",
      "[2025-07-15 09:35:05 INFO] Started export for OPENET_ENSEMBLE_012013_20240301_20240401_ET\n",
      "[2025-07-15 09:35:06 INFO] Started export for OPENET_ENSEMBLE_012014_20240301_20240401_ET\n",
      "[2025-07-15 09:35:06 INFO] Started export for OPENET_ENSEMBLE_012015_20240301_20240401_ET\n"
     ]
    },
    {
     "data": {
      "application/vnd.jupyter.widget-view+json": {
       "model_id": "903e22fa2a7840baa9ffeeed4dc59679",
       "version_major": 2,
       "version_minor": 0
      },
      "text/plain": [
       "Processing tiles:   0%|          | 0/20 [00:00<?, ?it/s]"
      ]
     },
     "metadata": {},
     "output_type": "display_data"
    },
    {
     "name": "stdout",
     "output_type": "stream",
     "text": [
      "[2025-07-15 09:35:07 INFO] Started export for OPENET_ENSEMBLE_009011_20240301_20240401_ET_MIN\n",
      "[2025-07-15 09:35:07 INFO] Started export for OPENET_ENSEMBLE_009012_20240301_20240401_ET_MIN\n",
      "[2025-07-15 09:35:08 INFO] Started export for OPENET_ENSEMBLE_009013_20240301_20240401_ET_MIN\n",
      "[2025-07-15 09:35:08 INFO] Started export for OPENET_ENSEMBLE_009014_20240301_20240401_ET_MIN\n",
      "[2025-07-15 09:35:09 INFO] Started export for OPENET_ENSEMBLE_009015_20240301_20240401_ET_MIN\n",
      "[2025-07-15 09:35:09 INFO] Started export for OPENET_ENSEMBLE_010011_20240301_20240401_ET_MIN\n",
      "[2025-07-15 09:35:10 INFO] Started export for OPENET_ENSEMBLE_010012_20240301_20240401_ET_MIN\n",
      "[2025-07-15 09:35:10 INFO] Started export for OPENET_ENSEMBLE_010013_20240301_20240401_ET_MIN\n",
      "[2025-07-15 09:35:11 INFO] Started export for OPENET_ENSEMBLE_010014_20240301_20240401_ET_MIN\n",
      "[2025-07-15 09:35:11 INFO] Started export for OPENET_ENSEMBLE_010015_20240301_20240401_ET_MIN\n",
      "[2025-07-15 09:35:11 INFO] Started export for OPENET_ENSEMBLE_011011_20240301_20240401_ET_MIN\n",
      "[2025-07-15 09:35:12 INFO] Started export for OPENET_ENSEMBLE_011012_20240301_20240401_ET_MIN\n",
      "[2025-07-15 09:35:12 INFO] Started export for OPENET_ENSEMBLE_011013_20240301_20240401_ET_MIN\n",
      "[2025-07-15 09:35:13 INFO] Started export for OPENET_ENSEMBLE_011014_20240301_20240401_ET_MIN\n",
      "[2025-07-15 09:35:13 INFO] Started export for OPENET_ENSEMBLE_011015_20240301_20240401_ET_MIN\n",
      "[2025-07-15 09:35:14 INFO] Started export for OPENET_ENSEMBLE_012011_20240301_20240401_ET_MIN\n",
      "[2025-07-15 09:35:14 INFO] Started export for OPENET_ENSEMBLE_012012_20240301_20240401_ET_MIN\n",
      "[2025-07-15 09:35:14 INFO] Started export for OPENET_ENSEMBLE_012013_20240301_20240401_ET_MIN\n",
      "[2025-07-15 09:35:15 INFO] Started export for OPENET_ENSEMBLE_012014_20240301_20240401_ET_MIN\n",
      "[2025-07-15 09:35:15 INFO] Started export for OPENET_ENSEMBLE_012015_20240301_20240401_ET_MIN\n"
     ]
    },
    {
     "data": {
      "application/vnd.jupyter.widget-view+json": {
       "model_id": "83d1c03f7b054ee898d1f72324f0d725",
       "version_major": 2,
       "version_minor": 0
      },
      "text/plain": [
       "Processing tiles:   0%|          | 0/20 [00:00<?, ?it/s]"
      ]
     },
     "metadata": {},
     "output_type": "display_data"
    },
    {
     "name": "stdout",
     "output_type": "stream",
     "text": [
      "[2025-07-15 09:35:16 INFO] Started export for OPENET_ENSEMBLE_009011_20240301_20240401_ET_MAX\n",
      "[2025-07-15 09:35:16 INFO] Started export for OPENET_ENSEMBLE_009012_20240301_20240401_ET_MAX\n",
      "[2025-07-15 09:35:17 INFO] Started export for OPENET_ENSEMBLE_009013_20240301_20240401_ET_MAX\n",
      "[2025-07-15 09:35:17 INFO] Started export for OPENET_ENSEMBLE_009014_20240301_20240401_ET_MAX\n",
      "[2025-07-15 09:35:18 INFO] Started export for OPENET_ENSEMBLE_009015_20240301_20240401_ET_MAX\n",
      "[2025-07-15 09:35:18 INFO] Started export for OPENET_ENSEMBLE_010011_20240301_20240401_ET_MAX\n",
      "[2025-07-15 09:35:19 INFO] Started export for OPENET_ENSEMBLE_010012_20240301_20240401_ET_MAX\n",
      "[2025-07-15 09:35:19 INFO] Started export for OPENET_ENSEMBLE_010013_20240301_20240401_ET_MAX\n",
      "[2025-07-15 09:35:20 INFO] Started export for OPENET_ENSEMBLE_010014_20240301_20240401_ET_MAX\n",
      "[2025-07-15 09:35:20 INFO] Started export for OPENET_ENSEMBLE_010015_20240301_20240401_ET_MAX\n",
      "[2025-07-15 09:35:21 INFO] Started export for OPENET_ENSEMBLE_011011_20240301_20240401_ET_MAX\n",
      "[2025-07-15 09:35:22 INFO] Started export for OPENET_ENSEMBLE_011012_20240301_20240401_ET_MAX\n",
      "[2025-07-15 09:35:22 INFO] Started export for OPENET_ENSEMBLE_011013_20240301_20240401_ET_MAX\n",
      "[2025-07-15 09:35:23 INFO] Started export for OPENET_ENSEMBLE_011014_20240301_20240401_ET_MAX\n",
      "[2025-07-15 09:35:23 INFO] Started export for OPENET_ENSEMBLE_011015_20240301_20240401_ET_MAX\n",
      "[2025-07-15 09:35:23 INFO] Started export for OPENET_ENSEMBLE_012011_20240301_20240401_ET_MAX\n",
      "[2025-07-15 09:35:24 INFO] Started export for OPENET_ENSEMBLE_012012_20240301_20240401_ET_MAX\n",
      "[2025-07-15 09:35:25 INFO] Started export for OPENET_ENSEMBLE_012013_20240301_20240401_ET_MAX\n",
      "[2025-07-15 09:35:25 INFO] Started export for OPENET_ENSEMBLE_012014_20240301_20240401_ET_MAX\n",
      "[2025-07-15 09:35:26 INFO] Started export for OPENET_ENSEMBLE_012015_20240301_20240401_ET_MAX\n"
     ]
    },
    {
     "data": {
      "application/vnd.jupyter.widget-view+json": {
       "model_id": "f6e4c0aa7d3848e09086babba970afc0",
       "version_major": 2,
       "version_minor": 0
      },
      "text/plain": [
       "Processing bands:   0%|          | 0/3 [00:00<?, ?it/s]"
      ]
     },
     "metadata": {},
     "output_type": "display_data"
    },
    {
     "data": {
      "application/vnd.jupyter.widget-view+json": {
       "model_id": "0ab850d5d98a4f06a6da76746c016f29",
       "version_major": 2,
       "version_minor": 0
      },
      "text/plain": [
       "Processing tiles:   0%|          | 0/20 [00:00<?, ?it/s]"
      ]
     },
     "metadata": {},
     "output_type": "display_data"
    },
    {
     "name": "stdout",
     "output_type": "stream",
     "text": [
      "[2025-07-15 09:35:27 INFO] Started export for OPENET_ENSEMBLE_009011_20240401_20240501_ET\n",
      "[2025-07-15 09:35:27 INFO] Started export for OPENET_ENSEMBLE_009012_20240401_20240501_ET\n",
      "[2025-07-15 09:35:28 INFO] Started export for OPENET_ENSEMBLE_009013_20240401_20240501_ET\n",
      "[2025-07-15 09:35:28 INFO] Started export for OPENET_ENSEMBLE_009014_20240401_20240501_ET\n",
      "[2025-07-15 09:35:28 INFO] Started export for OPENET_ENSEMBLE_009015_20240401_20240501_ET\n",
      "[2025-07-15 09:35:29 INFO] Started export for OPENET_ENSEMBLE_010011_20240401_20240501_ET\n",
      "[2025-07-15 09:35:30 INFO] Started export for OPENET_ENSEMBLE_010012_20240401_20240501_ET\n",
      "[2025-07-15 09:35:31 INFO] Started export for OPENET_ENSEMBLE_010013_20240401_20240501_ET\n",
      "[2025-07-15 09:35:31 INFO] Started export for OPENET_ENSEMBLE_010014_20240401_20240501_ET\n",
      "[2025-07-15 09:35:31 INFO] Started export for OPENET_ENSEMBLE_010015_20240401_20240501_ET\n",
      "[2025-07-15 09:35:32 INFO] Started export for OPENET_ENSEMBLE_011011_20240401_20240501_ET\n",
      "[2025-07-15 09:35:32 INFO] Started export for OPENET_ENSEMBLE_011012_20240401_20240501_ET\n",
      "[2025-07-15 09:35:33 INFO] Started export for OPENET_ENSEMBLE_011013_20240401_20240501_ET\n",
      "[2025-07-15 09:35:33 INFO] Started export for OPENET_ENSEMBLE_011014_20240401_20240501_ET\n",
      "[2025-07-15 09:35:34 INFO] Started export for OPENET_ENSEMBLE_011015_20240401_20240501_ET\n",
      "[2025-07-15 09:35:34 INFO] Started export for OPENET_ENSEMBLE_012011_20240401_20240501_ET\n",
      "[2025-07-15 09:35:35 INFO] Started export for OPENET_ENSEMBLE_012012_20240401_20240501_ET\n",
      "[2025-07-15 09:35:35 INFO] Started export for OPENET_ENSEMBLE_012013_20240401_20240501_ET\n",
      "[2025-07-15 09:35:36 INFO] Started export for OPENET_ENSEMBLE_012014_20240401_20240501_ET\n",
      "[2025-07-15 09:35:36 INFO] Started export for OPENET_ENSEMBLE_012015_20240401_20240501_ET\n"
     ]
    },
    {
     "data": {
      "application/vnd.jupyter.widget-view+json": {
       "model_id": "ab3dd1e8c25f4dd6a7482f620aab5a6a",
       "version_major": 2,
       "version_minor": 0
      },
      "text/plain": [
       "Processing tiles:   0%|          | 0/20 [00:00<?, ?it/s]"
      ]
     },
     "metadata": {},
     "output_type": "display_data"
    },
    {
     "name": "stdout",
     "output_type": "stream",
     "text": [
      "[2025-07-15 09:35:37 INFO] Started export for OPENET_ENSEMBLE_009011_20240401_20240501_ET_MIN\n",
      "[2025-07-15 09:35:37 INFO] Started export for OPENET_ENSEMBLE_009012_20240401_20240501_ET_MIN\n",
      "[2025-07-15 09:35:38 INFO] Started export for OPENET_ENSEMBLE_009013_20240401_20240501_ET_MIN\n",
      "[2025-07-15 09:35:38 INFO] Started export for OPENET_ENSEMBLE_009014_20240401_20240501_ET_MIN\n",
      "[2025-07-15 09:35:38 INFO] Started export for OPENET_ENSEMBLE_009015_20240401_20240501_ET_MIN\n",
      "[2025-07-15 09:35:39 INFO] Started export for OPENET_ENSEMBLE_010011_20240401_20240501_ET_MIN\n",
      "[2025-07-15 09:35:39 INFO] Started export for OPENET_ENSEMBLE_010012_20240401_20240501_ET_MIN\n",
      "[2025-07-15 09:35:39 INFO] Started export for OPENET_ENSEMBLE_010013_20240401_20240501_ET_MIN\n",
      "[2025-07-15 09:35:40 INFO] Started export for OPENET_ENSEMBLE_010014_20240401_20240501_ET_MIN\n",
      "[2025-07-15 09:35:41 INFO] Started export for OPENET_ENSEMBLE_010015_20240401_20240501_ET_MIN\n",
      "[2025-07-15 09:35:41 INFO] Started export for OPENET_ENSEMBLE_011011_20240401_20240501_ET_MIN\n",
      "[2025-07-15 09:35:42 INFO] Started export for OPENET_ENSEMBLE_011012_20240401_20240501_ET_MIN\n",
      "[2025-07-15 09:35:42 INFO] Started export for OPENET_ENSEMBLE_011013_20240401_20240501_ET_MIN\n",
      "[2025-07-15 09:35:42 INFO] Started export for OPENET_ENSEMBLE_011014_20240401_20240501_ET_MIN\n",
      "[2025-07-15 09:35:43 INFO] Started export for OPENET_ENSEMBLE_011015_20240401_20240501_ET_MIN\n",
      "[2025-07-15 09:35:43 INFO] Started export for OPENET_ENSEMBLE_012011_20240401_20240501_ET_MIN\n",
      "[2025-07-15 09:35:44 INFO] Started export for OPENET_ENSEMBLE_012012_20240401_20240501_ET_MIN\n",
      "[2025-07-15 09:35:44 INFO] Started export for OPENET_ENSEMBLE_012013_20240401_20240501_ET_MIN\n",
      "[2025-07-15 09:35:44 INFO] Started export for OPENET_ENSEMBLE_012014_20240401_20240501_ET_MIN\n",
      "[2025-07-15 09:35:45 INFO] Started export for OPENET_ENSEMBLE_012015_20240401_20240501_ET_MIN\n"
     ]
    },
    {
     "data": {
      "application/vnd.jupyter.widget-view+json": {
       "model_id": "51135d879baf4a78b791ac43ea1bd9cc",
       "version_major": 2,
       "version_minor": 0
      },
      "text/plain": [
       "Processing tiles:   0%|          | 0/20 [00:00<?, ?it/s]"
      ]
     },
     "metadata": {},
     "output_type": "display_data"
    },
    {
     "name": "stdout",
     "output_type": "stream",
     "text": [
      "[2025-07-15 09:35:45 INFO] Started export for OPENET_ENSEMBLE_009011_20240401_20240501_ET_MAX\n",
      "[2025-07-15 09:35:46 INFO] Started export for OPENET_ENSEMBLE_009012_20240401_20240501_ET_MAX\n",
      "[2025-07-15 09:35:46 INFO] Started export for OPENET_ENSEMBLE_009013_20240401_20240501_ET_MAX\n",
      "[2025-07-15 09:35:47 INFO] Started export for OPENET_ENSEMBLE_009014_20240401_20240501_ET_MAX\n",
      "[2025-07-15 09:35:48 INFO] Started export for OPENET_ENSEMBLE_009015_20240401_20240501_ET_MAX\n",
      "[2025-07-15 09:35:48 INFO] Started export for OPENET_ENSEMBLE_010011_20240401_20240501_ET_MAX\n",
      "[2025-07-15 09:35:49 INFO] Started export for OPENET_ENSEMBLE_010012_20240401_20240501_ET_MAX\n",
      "[2025-07-15 09:35:49 INFO] Started export for OPENET_ENSEMBLE_010013_20240401_20240501_ET_MAX\n",
      "[2025-07-15 09:35:50 INFO] Started export for OPENET_ENSEMBLE_010014_20240401_20240501_ET_MAX\n",
      "[2025-07-15 09:35:50 INFO] Started export for OPENET_ENSEMBLE_010015_20240401_20240501_ET_MAX\n",
      "[2025-07-15 09:35:50 INFO] Started export for OPENET_ENSEMBLE_011011_20240401_20240501_ET_MAX\n",
      "[2025-07-15 09:35:51 INFO] Started export for OPENET_ENSEMBLE_011012_20240401_20240501_ET_MAX\n",
      "[2025-07-15 09:35:51 INFO] Started export for OPENET_ENSEMBLE_011013_20240401_20240501_ET_MAX\n",
      "[2025-07-15 09:35:52 INFO] Started export for OPENET_ENSEMBLE_011014_20240401_20240501_ET_MAX\n",
      "[2025-07-15 09:35:52 INFO] Started export for OPENET_ENSEMBLE_011015_20240401_20240501_ET_MAX\n",
      "[2025-07-15 09:35:52 INFO] Started export for OPENET_ENSEMBLE_012011_20240401_20240501_ET_MAX\n",
      "[2025-07-15 09:35:53 INFO] Started export for OPENET_ENSEMBLE_012012_20240401_20240501_ET_MAX\n",
      "[2025-07-15 09:35:53 INFO] Started export for OPENET_ENSEMBLE_012013_20240401_20240501_ET_MAX\n",
      "[2025-07-15 09:35:54 INFO] Started export for OPENET_ENSEMBLE_012014_20240401_20240501_ET_MAX\n",
      "[2025-07-15 09:35:55 INFO] Started export for OPENET_ENSEMBLE_012015_20240401_20240501_ET_MAX\n"
     ]
    },
    {
     "data": {
      "application/vnd.jupyter.widget-view+json": {
       "model_id": "7025391ea36c463094375961c0e944a1",
       "version_major": 2,
       "version_minor": 0
      },
      "text/plain": [
       "Processing bands:   0%|          | 0/3 [00:00<?, ?it/s]"
      ]
     },
     "metadata": {},
     "output_type": "display_data"
    },
    {
     "data": {
      "application/vnd.jupyter.widget-view+json": {
       "model_id": "efd12bf5a0a042a58f795cc6ebcf63d8",
       "version_major": 2,
       "version_minor": 0
      },
      "text/plain": [
       "Processing tiles:   0%|          | 0/20 [00:00<?, ?it/s]"
      ]
     },
     "metadata": {},
     "output_type": "display_data"
    },
    {
     "name": "stdout",
     "output_type": "stream",
     "text": [
      "[2025-07-15 09:35:59 INFO] Started export for OPENET_ENSEMBLE_009011_20240501_20240601_ET\n",
      "[2025-07-15 09:35:59 INFO] Started export for OPENET_ENSEMBLE_009012_20240501_20240601_ET\n",
      "[2025-07-15 09:36:00 INFO] Started export for OPENET_ENSEMBLE_009013_20240501_20240601_ET\n",
      "[2025-07-15 09:36:00 INFO] Started export for OPENET_ENSEMBLE_009014_20240501_20240601_ET\n",
      "[2025-07-15 09:36:01 INFO] Started export for OPENET_ENSEMBLE_009015_20240501_20240601_ET\n",
      "[2025-07-15 09:36:01 INFO] Started export for OPENET_ENSEMBLE_010011_20240501_20240601_ET\n",
      "[2025-07-15 09:36:02 INFO] Started export for OPENET_ENSEMBLE_010012_20240501_20240601_ET\n",
      "[2025-07-15 09:36:02 INFO] Started export for OPENET_ENSEMBLE_010013_20240501_20240601_ET\n",
      "[2025-07-15 09:36:02 INFO] Started export for OPENET_ENSEMBLE_010014_20240501_20240601_ET\n",
      "[2025-07-15 09:36:03 INFO] Started export for OPENET_ENSEMBLE_010015_20240501_20240601_ET\n",
      "[2025-07-15 09:36:03 INFO] Started export for OPENET_ENSEMBLE_011011_20240501_20240601_ET\n",
      "[2025-07-15 09:36:04 INFO] Started export for OPENET_ENSEMBLE_011012_20240501_20240601_ET\n",
      "[2025-07-15 09:36:04 INFO] Started export for OPENET_ENSEMBLE_011013_20240501_20240601_ET\n",
      "[2025-07-15 09:36:04 INFO] Started export for OPENET_ENSEMBLE_011014_20240501_20240601_ET\n",
      "[2025-07-15 09:36:05 INFO] Started export for OPENET_ENSEMBLE_011015_20240501_20240601_ET\n",
      "[2025-07-15 09:36:05 INFO] Started export for OPENET_ENSEMBLE_012011_20240501_20240601_ET\n",
      "[2025-07-15 09:36:06 INFO] Started export for OPENET_ENSEMBLE_012012_20240501_20240601_ET\n",
      "[2025-07-15 09:36:07 INFO] Started export for OPENET_ENSEMBLE_012013_20240501_20240601_ET\n",
      "[2025-07-15 09:36:07 INFO] Started export for OPENET_ENSEMBLE_012014_20240501_20240601_ET\n",
      "[2025-07-15 09:36:08 INFO] Started export for OPENET_ENSEMBLE_012015_20240501_20240601_ET\n"
     ]
    },
    {
     "data": {
      "application/vnd.jupyter.widget-view+json": {
       "model_id": "c3c5eb11235649cd9c4c18fd2b96912a",
       "version_major": 2,
       "version_minor": 0
      },
      "text/plain": [
       "Processing tiles:   0%|          | 0/20 [00:00<?, ?it/s]"
      ]
     },
     "metadata": {},
     "output_type": "display_data"
    },
    {
     "name": "stdout",
     "output_type": "stream",
     "text": [
      "[2025-07-15 09:36:08 INFO] Started export for OPENET_ENSEMBLE_009011_20240501_20240601_ET_MIN\n",
      "[2025-07-15 09:36:09 INFO] Started export for OPENET_ENSEMBLE_009012_20240501_20240601_ET_MIN\n",
      "[2025-07-15 09:36:09 INFO] Started export for OPENET_ENSEMBLE_009013_20240501_20240601_ET_MIN\n",
      "[2025-07-15 09:36:10 INFO] Started export for OPENET_ENSEMBLE_009014_20240501_20240601_ET_MIN\n",
      "[2025-07-15 09:36:10 INFO] Started export for OPENET_ENSEMBLE_009015_20240501_20240601_ET_MIN\n",
      "[2025-07-15 09:36:11 INFO] Started export for OPENET_ENSEMBLE_010011_20240501_20240601_ET_MIN\n",
      "[2025-07-15 09:36:11 INFO] Started export for OPENET_ENSEMBLE_010012_20240501_20240601_ET_MIN\n",
      "[2025-07-15 09:36:12 INFO] Started export for OPENET_ENSEMBLE_010013_20240501_20240601_ET_MIN\n",
      "[2025-07-15 09:36:12 INFO] Started export for OPENET_ENSEMBLE_010014_20240501_20240601_ET_MIN\n",
      "[2025-07-15 09:36:13 INFO] Started export for OPENET_ENSEMBLE_010015_20240501_20240601_ET_MIN\n",
      "[2025-07-15 09:36:13 INFO] Started export for OPENET_ENSEMBLE_011011_20240501_20240601_ET_MIN\n",
      "[2025-07-15 09:36:14 INFO] Started export for OPENET_ENSEMBLE_011012_20240501_20240601_ET_MIN\n",
      "[2025-07-15 09:36:14 INFO] Started export for OPENET_ENSEMBLE_011013_20240501_20240601_ET_MIN\n",
      "[2025-07-15 09:36:14 INFO] Started export for OPENET_ENSEMBLE_011014_20240501_20240601_ET_MIN\n",
      "[2025-07-15 09:36:15 INFO] Started export for OPENET_ENSEMBLE_011015_20240501_20240601_ET_MIN\n",
      "[2025-07-15 09:36:16 INFO] Started export for OPENET_ENSEMBLE_012011_20240501_20240601_ET_MIN\n",
      "[2025-07-15 09:36:17 INFO] Started export for OPENET_ENSEMBLE_012012_20240501_20240601_ET_MIN\n",
      "[2025-07-15 09:36:17 INFO] Started export for OPENET_ENSEMBLE_012013_20240501_20240601_ET_MIN\n",
      "[2025-07-15 09:36:18 INFO] Started export for OPENET_ENSEMBLE_012014_20240501_20240601_ET_MIN\n",
      "[2025-07-15 09:36:18 INFO] Started export for OPENET_ENSEMBLE_012015_20240501_20240601_ET_MIN\n"
     ]
    },
    {
     "data": {
      "application/vnd.jupyter.widget-view+json": {
       "model_id": "a4399e3334834a9fa170cd8764efbf0d",
       "version_major": 2,
       "version_minor": 0
      },
      "text/plain": [
       "Processing tiles:   0%|          | 0/20 [00:00<?, ?it/s]"
      ]
     },
     "metadata": {},
     "output_type": "display_data"
    },
    {
     "name": "stdout",
     "output_type": "stream",
     "text": [
      "[2025-07-15 09:36:19 INFO] Started export for OPENET_ENSEMBLE_009011_20240501_20240601_ET_MAX\n",
      "[2025-07-15 09:36:19 INFO] Started export for OPENET_ENSEMBLE_009012_20240501_20240601_ET_MAX\n",
      "[2025-07-15 09:36:20 INFO] Started export for OPENET_ENSEMBLE_009013_20240501_20240601_ET_MAX\n",
      "[2025-07-15 09:36:20 INFO] Started export for OPENET_ENSEMBLE_009014_20240501_20240601_ET_MAX\n",
      "[2025-07-15 09:36:21 INFO] Started export for OPENET_ENSEMBLE_009015_20240501_20240601_ET_MAX\n",
      "[2025-07-15 09:36:21 INFO] Started export for OPENET_ENSEMBLE_010011_20240501_20240601_ET_MAX\n",
      "[2025-07-15 09:36:22 INFO] Started export for OPENET_ENSEMBLE_010012_20240501_20240601_ET_MAX\n",
      "[2025-07-15 09:36:22 INFO] Started export for OPENET_ENSEMBLE_010013_20240501_20240601_ET_MAX\n",
      "[2025-07-15 09:36:23 INFO] Started export for OPENET_ENSEMBLE_010014_20240501_20240601_ET_MAX\n",
      "[2025-07-15 09:36:23 INFO] Started export for OPENET_ENSEMBLE_010015_20240501_20240601_ET_MAX\n",
      "[2025-07-15 09:36:24 INFO] Started export for OPENET_ENSEMBLE_011011_20240501_20240601_ET_MAX\n",
      "[2025-07-15 09:36:24 INFO] Started export for OPENET_ENSEMBLE_011012_20240501_20240601_ET_MAX\n",
      "[2025-07-15 09:36:25 INFO] Started export for OPENET_ENSEMBLE_011013_20240501_20240601_ET_MAX\n",
      "[2025-07-15 09:36:25 INFO] Started export for OPENET_ENSEMBLE_011014_20240501_20240601_ET_MAX\n",
      "[2025-07-15 09:36:26 INFO] Started export for OPENET_ENSEMBLE_011015_20240501_20240601_ET_MAX\n",
      "[2025-07-15 09:36:26 INFO] Started export for OPENET_ENSEMBLE_012011_20240501_20240601_ET_MAX\n",
      "[2025-07-15 09:36:27 INFO] Started export for OPENET_ENSEMBLE_012012_20240501_20240601_ET_MAX\n",
      "[2025-07-15 09:36:27 INFO] Started export for OPENET_ENSEMBLE_012013_20240501_20240601_ET_MAX\n",
      "[2025-07-15 09:36:28 INFO] Started export for OPENET_ENSEMBLE_012014_20240501_20240601_ET_MAX\n",
      "[2025-07-15 09:36:32 INFO] Started export for OPENET_ENSEMBLE_012015_20240501_20240601_ET_MAX\n"
     ]
    },
    {
     "data": {
      "application/vnd.jupyter.widget-view+json": {
       "model_id": "d8dc0ade863c46d5963415781b87a0ea",
       "version_major": 2,
       "version_minor": 0
      },
      "text/plain": [
       "Processing bands:   0%|          | 0/3 [00:00<?, ?it/s]"
      ]
     },
     "metadata": {},
     "output_type": "display_data"
    },
    {
     "data": {
      "application/vnd.jupyter.widget-view+json": {
       "model_id": "f126146af8dd4a93af0715fc9e0a7511",
       "version_major": 2,
       "version_minor": 0
      },
      "text/plain": [
       "Processing tiles:   0%|          | 0/20 [00:00<?, ?it/s]"
      ]
     },
     "metadata": {},
     "output_type": "display_data"
    },
    {
     "name": "stdout",
     "output_type": "stream",
     "text": [
      "[2025-07-15 09:36:32 INFO] Started export for OPENET_ENSEMBLE_009011_20240601_20240701_ET\n",
      "[2025-07-15 09:36:33 INFO] Started export for OPENET_ENSEMBLE_009012_20240601_20240701_ET\n",
      "[2025-07-15 09:36:33 INFO] Started export for OPENET_ENSEMBLE_009013_20240601_20240701_ET\n",
      "[2025-07-15 09:36:34 INFO] Started export for OPENET_ENSEMBLE_009014_20240601_20240701_ET\n",
      "[2025-07-15 09:36:34 INFO] Started export for OPENET_ENSEMBLE_009015_20240601_20240701_ET\n",
      "[2025-07-15 09:36:35 INFO] Started export for OPENET_ENSEMBLE_010011_20240601_20240701_ET\n",
      "[2025-07-15 09:36:35 INFO] Started export for OPENET_ENSEMBLE_010012_20240601_20240701_ET\n",
      "[2025-07-15 09:36:36 INFO] Started export for OPENET_ENSEMBLE_010013_20240601_20240701_ET\n",
      "[2025-07-15 09:36:36 INFO] Started export for OPENET_ENSEMBLE_010014_20240601_20240701_ET\n",
      "[2025-07-15 09:36:37 INFO] Started export for OPENET_ENSEMBLE_010015_20240601_20240701_ET\n",
      "[2025-07-15 09:36:37 INFO] Started export for OPENET_ENSEMBLE_011011_20240601_20240701_ET\n",
      "[2025-07-15 09:36:37 INFO] Started export for OPENET_ENSEMBLE_011012_20240601_20240701_ET\n",
      "[2025-07-15 09:36:38 INFO] Started export for OPENET_ENSEMBLE_011013_20240601_20240701_ET\n",
      "[2025-07-15 09:36:38 INFO] Started export for OPENET_ENSEMBLE_011014_20240601_20240701_ET\n",
      "[2025-07-15 09:36:39 INFO] Started export for OPENET_ENSEMBLE_011015_20240601_20240701_ET\n",
      "[2025-07-15 09:36:39 INFO] Started export for OPENET_ENSEMBLE_012011_20240601_20240701_ET\n",
      "[2025-07-15 09:36:40 INFO] Started export for OPENET_ENSEMBLE_012012_20240601_20240701_ET\n",
      "[2025-07-15 09:36:40 INFO] Started export for OPENET_ENSEMBLE_012013_20240601_20240701_ET\n",
      "[2025-07-15 09:36:41 INFO] Started export for OPENET_ENSEMBLE_012014_20240601_20240701_ET\n",
      "[2025-07-15 09:36:41 INFO] Started export for OPENET_ENSEMBLE_012015_20240601_20240701_ET\n"
     ]
    },
    {
     "data": {
      "application/vnd.jupyter.widget-view+json": {
       "model_id": "a906c97c62bd495d912a8225751ef38e",
       "version_major": 2,
       "version_minor": 0
      },
      "text/plain": [
       "Processing tiles:   0%|          | 0/20 [00:00<?, ?it/s]"
      ]
     },
     "metadata": {},
     "output_type": "display_data"
    },
    {
     "name": "stdout",
     "output_type": "stream",
     "text": [
      "[2025-07-15 09:36:42 INFO] Started export for OPENET_ENSEMBLE_009011_20240601_20240701_ET_MIN\n",
      "[2025-07-15 09:36:43 INFO] Started export for OPENET_ENSEMBLE_009012_20240601_20240701_ET_MIN\n",
      "[2025-07-15 09:36:43 INFO] Started export for OPENET_ENSEMBLE_009013_20240601_20240701_ET_MIN\n",
      "[2025-07-15 09:36:44 INFO] Started export for OPENET_ENSEMBLE_009014_20240601_20240701_ET_MIN\n",
      "[2025-07-15 09:36:44 INFO] Started export for OPENET_ENSEMBLE_009015_20240601_20240701_ET_MIN\n",
      "[2025-07-15 09:36:44 INFO] Started export for OPENET_ENSEMBLE_010011_20240601_20240701_ET_MIN\n",
      "[2025-07-15 09:36:45 INFO] Started export for OPENET_ENSEMBLE_010012_20240601_20240701_ET_MIN\n",
      "[2025-07-15 09:36:46 INFO] Started export for OPENET_ENSEMBLE_010013_20240601_20240701_ET_MIN\n",
      "[2025-07-15 09:36:46 INFO] Started export for OPENET_ENSEMBLE_010014_20240601_20240701_ET_MIN\n",
      "[2025-07-15 09:36:47 INFO] Started export for OPENET_ENSEMBLE_010015_20240601_20240701_ET_MIN\n",
      "[2025-07-15 09:36:47 INFO] Started export for OPENET_ENSEMBLE_011011_20240601_20240701_ET_MIN\n",
      "[2025-07-15 09:36:48 INFO] Started export for OPENET_ENSEMBLE_011012_20240601_20240701_ET_MIN\n",
      "[2025-07-15 09:36:48 INFO] Started export for OPENET_ENSEMBLE_011013_20240601_20240701_ET_MIN\n",
      "[2025-07-15 09:36:49 INFO] Started export for OPENET_ENSEMBLE_011014_20240601_20240701_ET_MIN\n",
      "[2025-07-15 09:36:49 INFO] Started export for OPENET_ENSEMBLE_011015_20240601_20240701_ET_MIN\n",
      "[2025-07-15 09:36:50 INFO] Started export for OPENET_ENSEMBLE_012011_20240601_20240701_ET_MIN\n",
      "[2025-07-15 09:36:50 INFO] Started export for OPENET_ENSEMBLE_012012_20240601_20240701_ET_MIN\n",
      "[2025-07-15 09:36:51 INFO] Started export for OPENET_ENSEMBLE_012013_20240601_20240701_ET_MIN\n",
      "[2025-07-15 09:36:51 INFO] Started export for OPENET_ENSEMBLE_012014_20240601_20240701_ET_MIN\n",
      "[2025-07-15 09:36:51 INFO] Started export for OPENET_ENSEMBLE_012015_20240601_20240701_ET_MIN\n"
     ]
    },
    {
     "data": {
      "application/vnd.jupyter.widget-view+json": {
       "model_id": "00002a6bee244db0ac66de15b533d24a",
       "version_major": 2,
       "version_minor": 0
      },
      "text/plain": [
       "Processing tiles:   0%|          | 0/20 [00:00<?, ?it/s]"
      ]
     },
     "metadata": {},
     "output_type": "display_data"
    },
    {
     "name": "stdout",
     "output_type": "stream",
     "text": [
      "[2025-07-15 09:36:52 INFO] Started export for OPENET_ENSEMBLE_009011_20240601_20240701_ET_MAX\n",
      "[2025-07-15 09:36:53 INFO] Started export for OPENET_ENSEMBLE_009012_20240601_20240701_ET_MAX\n",
      "[2025-07-15 09:36:53 INFO] Started export for OPENET_ENSEMBLE_009013_20240601_20240701_ET_MAX\n",
      "[2025-07-15 09:36:54 INFO] Started export for OPENET_ENSEMBLE_009014_20240601_20240701_ET_MAX\n",
      "[2025-07-15 09:36:54 INFO] Started export for OPENET_ENSEMBLE_009015_20240601_20240701_ET_MAX\n",
      "[2025-07-15 09:36:54 INFO] Started export for OPENET_ENSEMBLE_010011_20240601_20240701_ET_MAX\n",
      "[2025-07-15 09:36:55 INFO] Started export for OPENET_ENSEMBLE_010012_20240601_20240701_ET_MAX\n",
      "[2025-07-15 09:36:55 INFO] Started export for OPENET_ENSEMBLE_010013_20240601_20240701_ET_MAX\n",
      "[2025-07-15 09:36:56 INFO] Started export for OPENET_ENSEMBLE_010014_20240601_20240701_ET_MAX\n",
      "[2025-07-15 09:36:56 INFO] Started export for OPENET_ENSEMBLE_010015_20240601_20240701_ET_MAX\n",
      "[2025-07-15 09:36:56 INFO] Started export for OPENET_ENSEMBLE_011011_20240601_20240701_ET_MAX\n",
      "[2025-07-15 09:36:57 INFO] Started export for OPENET_ENSEMBLE_011012_20240601_20240701_ET_MAX\n",
      "[2025-07-15 09:36:57 INFO] Started export for OPENET_ENSEMBLE_011013_20240601_20240701_ET_MAX\n",
      "[2025-07-15 09:36:58 INFO] Started export for OPENET_ENSEMBLE_011014_20240601_20240701_ET_MAX\n",
      "[2025-07-15 09:36:58 INFO] Started export for OPENET_ENSEMBLE_011015_20240601_20240701_ET_MAX\n",
      "[2025-07-15 09:36:58 INFO] Started export for OPENET_ENSEMBLE_012011_20240601_20240701_ET_MAX\n",
      "[2025-07-15 09:36:59 INFO] Started export for OPENET_ENSEMBLE_012012_20240601_20240701_ET_MAX\n",
      "[2025-07-15 09:36:59 INFO] Started export for OPENET_ENSEMBLE_012013_20240601_20240701_ET_MAX\n",
      "[2025-07-15 09:37:00 INFO] Started export for OPENET_ENSEMBLE_012014_20240601_20240701_ET_MAX\n",
      "[2025-07-15 09:37:00 INFO] Started export for OPENET_ENSEMBLE_012015_20240601_20240701_ET_MAX\n"
     ]
    },
    {
     "data": {
      "application/vnd.jupyter.widget-view+json": {
       "model_id": "0055e9f435a745a8b94de1ef33834adc",
       "version_major": 2,
       "version_minor": 0
      },
      "text/plain": [
       "Processing bands:   0%|          | 0/3 [00:00<?, ?it/s]"
      ]
     },
     "metadata": {},
     "output_type": "display_data"
    },
    {
     "data": {
      "application/vnd.jupyter.widget-view+json": {
       "model_id": "8ecb262a86b34302b28fc4f019d441eb",
       "version_major": 2,
       "version_minor": 0
      },
      "text/plain": [
       "Processing tiles:   0%|          | 0/20 [00:00<?, ?it/s]"
      ]
     },
     "metadata": {},
     "output_type": "display_data"
    },
    {
     "name": "stdout",
     "output_type": "stream",
     "text": [
      "[2025-07-15 09:37:03 INFO] Started export for OPENET_ENSEMBLE_009011_20240701_20240801_ET\n",
      "[2025-07-15 09:37:04 INFO] Started export for OPENET_ENSEMBLE_009012_20240701_20240801_ET\n",
      "[2025-07-15 09:37:04 INFO] Started export for OPENET_ENSEMBLE_009013_20240701_20240801_ET\n",
      "[2025-07-15 09:37:05 INFO] Started export for OPENET_ENSEMBLE_009014_20240701_20240801_ET\n",
      "[2025-07-15 09:37:05 INFO] Started export for OPENET_ENSEMBLE_009015_20240701_20240801_ET\n",
      "[2025-07-15 09:37:06 INFO] Started export for OPENET_ENSEMBLE_010011_20240701_20240801_ET\n",
      "[2025-07-15 09:37:06 INFO] Started export for OPENET_ENSEMBLE_010012_20240701_20240801_ET\n",
      "[2025-07-15 09:37:07 INFO] Started export for OPENET_ENSEMBLE_010013_20240701_20240801_ET\n",
      "[2025-07-15 09:37:07 INFO] Started export for OPENET_ENSEMBLE_010014_20240701_20240801_ET\n",
      "[2025-07-15 09:37:08 INFO] Started export for OPENET_ENSEMBLE_010015_20240701_20240801_ET\n",
      "[2025-07-15 09:37:09 INFO] Started export for OPENET_ENSEMBLE_011011_20240701_20240801_ET\n",
      "[2025-07-15 09:37:09 INFO] Started export for OPENET_ENSEMBLE_011012_20240701_20240801_ET\n",
      "[2025-07-15 09:37:09 INFO] Started export for OPENET_ENSEMBLE_011013_20240701_20240801_ET\n",
      "[2025-07-15 09:37:10 INFO] Started export for OPENET_ENSEMBLE_011014_20240701_20240801_ET\n",
      "[2025-07-15 09:37:10 INFO] Started export for OPENET_ENSEMBLE_011015_20240701_20240801_ET\n",
      "[2025-07-15 09:37:11 INFO] Started export for OPENET_ENSEMBLE_012011_20240701_20240801_ET\n",
      "[2025-07-15 09:37:11 INFO] Started export for OPENET_ENSEMBLE_012012_20240701_20240801_ET\n",
      "[2025-07-15 09:37:12 INFO] Started export for OPENET_ENSEMBLE_012013_20240701_20240801_ET\n",
      "[2025-07-15 09:37:12 INFO] Started export for OPENET_ENSEMBLE_012014_20240701_20240801_ET\n",
      "[2025-07-15 09:37:13 INFO] Started export for OPENET_ENSEMBLE_012015_20240701_20240801_ET\n"
     ]
    },
    {
     "data": {
      "application/vnd.jupyter.widget-view+json": {
       "model_id": "b892498b468346f0b7f031a2f82a2115",
       "version_major": 2,
       "version_minor": 0
      },
      "text/plain": [
       "Processing tiles:   0%|          | 0/20 [00:00<?, ?it/s]"
      ]
     },
     "metadata": {},
     "output_type": "display_data"
    },
    {
     "name": "stdout",
     "output_type": "stream",
     "text": [
      "[2025-07-15 09:37:15 INFO] Started export for OPENET_ENSEMBLE_009011_20240701_20240801_ET_MIN\n",
      "[2025-07-15 09:37:16 INFO] Started export for OPENET_ENSEMBLE_009012_20240701_20240801_ET_MIN\n",
      "[2025-07-15 09:37:16 INFO] Started export for OPENET_ENSEMBLE_009013_20240701_20240801_ET_MIN\n",
      "[2025-07-15 09:37:16 INFO] Started export for OPENET_ENSEMBLE_009014_20240701_20240801_ET_MIN\n",
      "[2025-07-15 09:37:17 INFO] Started export for OPENET_ENSEMBLE_009015_20240701_20240801_ET_MIN\n",
      "[2025-07-15 09:37:17 INFO] Started export for OPENET_ENSEMBLE_010011_20240701_20240801_ET_MIN\n",
      "[2025-07-15 09:37:18 INFO] Started export for OPENET_ENSEMBLE_010012_20240701_20240801_ET_MIN\n",
      "[2025-07-15 09:37:18 INFO] Started export for OPENET_ENSEMBLE_010013_20240701_20240801_ET_MIN\n",
      "[2025-07-15 09:37:19 INFO] Started export for OPENET_ENSEMBLE_010014_20240701_20240801_ET_MIN\n",
      "[2025-07-15 09:37:19 INFO] Started export for OPENET_ENSEMBLE_010015_20240701_20240801_ET_MIN\n",
      "[2025-07-15 09:37:20 INFO] Started export for OPENET_ENSEMBLE_011011_20240701_20240801_ET_MIN\n",
      "[2025-07-15 09:37:20 INFO] Started export for OPENET_ENSEMBLE_011012_20240701_20240801_ET_MIN\n",
      "[2025-07-15 09:37:21 INFO] Started export for OPENET_ENSEMBLE_011013_20240701_20240801_ET_MIN\n",
      "[2025-07-15 09:37:21 INFO] Started export for OPENET_ENSEMBLE_011014_20240701_20240801_ET_MIN\n",
      "[2025-07-15 09:37:22 INFO] Started export for OPENET_ENSEMBLE_011015_20240701_20240801_ET_MIN\n",
      "[2025-07-15 09:37:22 INFO] Started export for OPENET_ENSEMBLE_012011_20240701_20240801_ET_MIN\n",
      "[2025-07-15 09:37:23 INFO] Started export for OPENET_ENSEMBLE_012012_20240701_20240801_ET_MIN\n",
      "[2025-07-15 09:37:23 INFO] Started export for OPENET_ENSEMBLE_012013_20240701_20240801_ET_MIN\n",
      "[2025-07-15 09:37:24 INFO] Started export for OPENET_ENSEMBLE_012014_20240701_20240801_ET_MIN\n",
      "[2025-07-15 09:37:24 INFO] Started export for OPENET_ENSEMBLE_012015_20240701_20240801_ET_MIN\n"
     ]
    },
    {
     "data": {
      "application/vnd.jupyter.widget-view+json": {
       "model_id": "80bfa60979204a07970309999957c7d0",
       "version_major": 2,
       "version_minor": 0
      },
      "text/plain": [
       "Processing tiles:   0%|          | 0/20 [00:00<?, ?it/s]"
      ]
     },
     "metadata": {},
     "output_type": "display_data"
    },
    {
     "name": "stdout",
     "output_type": "stream",
     "text": [
      "[2025-07-15 09:37:24 INFO] Started export for OPENET_ENSEMBLE_009011_20240701_20240801_ET_MAX\n",
      "[2025-07-15 09:37:25 INFO] Started export for OPENET_ENSEMBLE_009012_20240701_20240801_ET_MAX\n",
      "[2025-07-15 09:37:26 INFO] Started export for OPENET_ENSEMBLE_009013_20240701_20240801_ET_MAX\n",
      "[2025-07-15 09:37:26 INFO] Started export for OPENET_ENSEMBLE_009014_20240701_20240801_ET_MAX\n",
      "[2025-07-15 09:37:27 INFO] Started export for OPENET_ENSEMBLE_009015_20240701_20240801_ET_MAX\n",
      "[2025-07-15 09:37:27 INFO] Started export for OPENET_ENSEMBLE_010011_20240701_20240801_ET_MAX\n",
      "[2025-07-15 09:37:28 INFO] Started export for OPENET_ENSEMBLE_010012_20240701_20240801_ET_MAX\n",
      "[2025-07-15 09:37:28 INFO] Started export for OPENET_ENSEMBLE_010013_20240701_20240801_ET_MAX\n",
      "[2025-07-15 09:37:29 INFO] Started export for OPENET_ENSEMBLE_010014_20240701_20240801_ET_MAX\n",
      "[2025-07-15 09:37:29 INFO] Started export for OPENET_ENSEMBLE_010015_20240701_20240801_ET_MAX\n",
      "[2025-07-15 09:37:30 INFO] Started export for OPENET_ENSEMBLE_011011_20240701_20240801_ET_MAX\n",
      "[2025-07-15 09:37:30 INFO] Started export for OPENET_ENSEMBLE_011012_20240701_20240801_ET_MAX\n",
      "[2025-07-15 09:37:30 INFO] Started export for OPENET_ENSEMBLE_011013_20240701_20240801_ET_MAX\n",
      "[2025-07-15 09:37:31 INFO] Started export for OPENET_ENSEMBLE_011014_20240701_20240801_ET_MAX\n",
      "[2025-07-15 09:37:32 INFO] Started export for OPENET_ENSEMBLE_011015_20240701_20240801_ET_MAX\n",
      "[2025-07-15 09:37:32 INFO] Started export for OPENET_ENSEMBLE_012011_20240701_20240801_ET_MAX\n",
      "[2025-07-15 09:37:33 INFO] Started export for OPENET_ENSEMBLE_012012_20240701_20240801_ET_MAX\n",
      "[2025-07-15 09:37:33 INFO] Started export for OPENET_ENSEMBLE_012013_20240701_20240801_ET_MAX\n",
      "[2025-07-15 09:37:34 INFO] Started export for OPENET_ENSEMBLE_012014_20240701_20240801_ET_MAX\n",
      "[2025-07-15 09:37:34 INFO] Started export for OPENET_ENSEMBLE_012015_20240701_20240801_ET_MAX\n"
     ]
    },
    {
     "data": {
      "application/vnd.jupyter.widget-view+json": {
       "model_id": "9a175fd55e9849ecb001116a07a2b90b",
       "version_major": 2,
       "version_minor": 0
      },
      "text/plain": [
       "Processing bands:   0%|          | 0/3 [00:00<?, ?it/s]"
      ]
     },
     "metadata": {},
     "output_type": "display_data"
    },
    {
     "data": {
      "application/vnd.jupyter.widget-view+json": {
       "model_id": "556b12453b67419bb0adf592fe0aff66",
       "version_major": 2,
       "version_minor": 0
      },
      "text/plain": [
       "Processing tiles:   0%|          | 0/20 [00:00<?, ?it/s]"
      ]
     },
     "metadata": {},
     "output_type": "display_data"
    },
    {
     "name": "stdout",
     "output_type": "stream",
     "text": [
      "[2025-07-15 09:37:34 INFO] Started export for OPENET_ENSEMBLE_009011_20240801_20240901_ET\n",
      "[2025-07-15 09:37:35 INFO] Started export for OPENET_ENSEMBLE_009012_20240801_20240901_ET\n",
      "[2025-07-15 09:37:35 INFO] Started export for OPENET_ENSEMBLE_009013_20240801_20240901_ET\n",
      "[2025-07-15 09:37:36 INFO] Started export for OPENET_ENSEMBLE_009014_20240801_20240901_ET\n",
      "[2025-07-15 09:37:37 INFO] Started export for OPENET_ENSEMBLE_009015_20240801_20240901_ET\n",
      "[2025-07-15 09:37:37 INFO] Started export for OPENET_ENSEMBLE_010011_20240801_20240901_ET\n",
      "[2025-07-15 09:37:37 INFO] Started export for OPENET_ENSEMBLE_010012_20240801_20240901_ET\n",
      "[2025-07-15 09:37:38 INFO] Started export for OPENET_ENSEMBLE_010013_20240801_20240901_ET\n",
      "[2025-07-15 09:37:38 INFO] Started export for OPENET_ENSEMBLE_010014_20240801_20240901_ET\n",
      "[2025-07-15 09:37:39 INFO] Started export for OPENET_ENSEMBLE_010015_20240801_20240901_ET\n",
      "[2025-07-15 09:37:39 INFO] Started export for OPENET_ENSEMBLE_011011_20240801_20240901_ET\n",
      "[2025-07-15 09:37:40 INFO] Started export for OPENET_ENSEMBLE_011012_20240801_20240901_ET\n",
      "[2025-07-15 09:37:40 INFO] Started export for OPENET_ENSEMBLE_011013_20240801_20240901_ET\n",
      "[2025-07-15 09:37:41 INFO] Started export for OPENET_ENSEMBLE_011014_20240801_20240901_ET\n",
      "[2025-07-15 09:37:41 INFO] Started export for OPENET_ENSEMBLE_011015_20240801_20240901_ET\n",
      "[2025-07-15 09:37:42 INFO] Started export for OPENET_ENSEMBLE_012011_20240801_20240901_ET\n",
      "[2025-07-15 09:37:43 INFO] Started export for OPENET_ENSEMBLE_012012_20240801_20240901_ET\n",
      "[2025-07-15 09:37:44 INFO] Started export for OPENET_ENSEMBLE_012013_20240801_20240901_ET\n",
      "[2025-07-15 09:37:44 INFO] Started export for OPENET_ENSEMBLE_012014_20240801_20240901_ET\n",
      "[2025-07-15 09:37:44 INFO] Started export for OPENET_ENSEMBLE_012015_20240801_20240901_ET\n"
     ]
    },
    {
     "data": {
      "application/vnd.jupyter.widget-view+json": {
       "model_id": "336a40eaf9a0428aab61cb8d5768dedb",
       "version_major": 2,
       "version_minor": 0
      },
      "text/plain": [
       "Processing tiles:   0%|          | 0/20 [00:00<?, ?it/s]"
      ]
     },
     "metadata": {},
     "output_type": "display_data"
    },
    {
     "name": "stdout",
     "output_type": "stream",
     "text": [
      "[2025-07-15 09:37:45 INFO] Started export for OPENET_ENSEMBLE_009011_20240801_20240901_ET_MIN\n",
      "[2025-07-15 09:37:45 INFO] Started export for OPENET_ENSEMBLE_009012_20240801_20240901_ET_MIN\n",
      "[2025-07-15 09:37:46 INFO] Started export for OPENET_ENSEMBLE_009013_20240801_20240901_ET_MIN\n",
      "[2025-07-15 09:37:46 INFO] Started export for OPENET_ENSEMBLE_009014_20240801_20240901_ET_MIN\n",
      "[2025-07-15 09:37:46 INFO] Started export for OPENET_ENSEMBLE_009015_20240801_20240901_ET_MIN\n",
      "[2025-07-15 09:37:47 INFO] Started export for OPENET_ENSEMBLE_010011_20240801_20240901_ET_MIN\n",
      "[2025-07-15 09:37:47 INFO] Started export for OPENET_ENSEMBLE_010012_20240801_20240901_ET_MIN\n",
      "[2025-07-15 09:37:48 INFO] Started export for OPENET_ENSEMBLE_010013_20240801_20240901_ET_MIN\n",
      "[2025-07-15 09:37:48 INFO] Started export for OPENET_ENSEMBLE_010014_20240801_20240901_ET_MIN\n",
      "[2025-07-15 09:37:49 INFO] Started export for OPENET_ENSEMBLE_010015_20240801_20240901_ET_MIN\n",
      "[2025-07-15 09:37:49 INFO] Started export for OPENET_ENSEMBLE_011011_20240801_20240901_ET_MIN\n",
      "[2025-07-15 09:37:49 INFO] Started export for OPENET_ENSEMBLE_011012_20240801_20240901_ET_MIN\n",
      "[2025-07-15 09:37:50 INFO] Started export for OPENET_ENSEMBLE_011013_20240801_20240901_ET_MIN\n",
      "[2025-07-15 09:37:50 INFO] Started export for OPENET_ENSEMBLE_011014_20240801_20240901_ET_MIN\n",
      "[2025-07-15 09:37:51 INFO] Started export for OPENET_ENSEMBLE_011015_20240801_20240901_ET_MIN\n",
      "[2025-07-15 09:37:51 INFO] Started export for OPENET_ENSEMBLE_012011_20240801_20240901_ET_MIN\n",
      "[2025-07-15 09:37:52 INFO] Started export for OPENET_ENSEMBLE_012012_20240801_20240901_ET_MIN\n",
      "[2025-07-15 09:37:52 INFO] Started export for OPENET_ENSEMBLE_012013_20240801_20240901_ET_MIN\n",
      "[2025-07-15 09:37:53 INFO] Started export for OPENET_ENSEMBLE_012014_20240801_20240901_ET_MIN\n",
      "[2025-07-15 09:37:53 INFO] Started export for OPENET_ENSEMBLE_012015_20240801_20240901_ET_MIN\n"
     ]
    },
    {
     "data": {
      "application/vnd.jupyter.widget-view+json": {
       "model_id": "c5ebb2a219ac446ebc619c665f84db5a",
       "version_major": 2,
       "version_minor": 0
      },
      "text/plain": [
       "Processing tiles:   0%|          | 0/20 [00:00<?, ?it/s]"
      ]
     },
     "metadata": {},
     "output_type": "display_data"
    },
    {
     "name": "stdout",
     "output_type": "stream",
     "text": [
      "[2025-07-15 09:37:54 INFO] Started export for OPENET_ENSEMBLE_009011_20240801_20240901_ET_MAX\n",
      "[2025-07-15 09:37:55 INFO] Started export for OPENET_ENSEMBLE_009012_20240801_20240901_ET_MAX\n",
      "[2025-07-15 09:37:55 INFO] Started export for OPENET_ENSEMBLE_009013_20240801_20240901_ET_MAX\n",
      "[2025-07-15 09:37:56 INFO] Started export for OPENET_ENSEMBLE_009014_20240801_20240901_ET_MAX\n",
      "[2025-07-15 09:37:56 INFO] Started export for OPENET_ENSEMBLE_009015_20240801_20240901_ET_MAX\n",
      "[2025-07-15 09:37:57 INFO] Started export for OPENET_ENSEMBLE_010011_20240801_20240901_ET_MAX\n",
      "[2025-07-15 09:37:57 INFO] Started export for OPENET_ENSEMBLE_010012_20240801_20240901_ET_MAX\n",
      "[2025-07-15 09:37:57 INFO] Started export for OPENET_ENSEMBLE_010013_20240801_20240901_ET_MAX\n",
      "[2025-07-15 09:37:58 INFO] Started export for OPENET_ENSEMBLE_010014_20240801_20240901_ET_MAX\n",
      "[2025-07-15 09:37:58 INFO] Started export for OPENET_ENSEMBLE_010015_20240801_20240901_ET_MAX\n",
      "[2025-07-15 09:37:59 INFO] Started export for OPENET_ENSEMBLE_011011_20240801_20240901_ET_MAX\n",
      "[2025-07-15 09:37:59 INFO] Started export for OPENET_ENSEMBLE_011012_20240801_20240901_ET_MAX\n",
      "[2025-07-15 09:38:00 INFO] Started export for OPENET_ENSEMBLE_011013_20240801_20240901_ET_MAX\n",
      "[2025-07-15 09:38:00 INFO] Started export for OPENET_ENSEMBLE_011014_20240801_20240901_ET_MAX\n",
      "[2025-07-15 09:38:01 INFO] Started export for OPENET_ENSEMBLE_011015_20240801_20240901_ET_MAX\n",
      "[2025-07-15 09:38:01 INFO] Started export for OPENET_ENSEMBLE_012011_20240801_20240901_ET_MAX\n",
      "[2025-07-15 09:38:02 INFO] Started export for OPENET_ENSEMBLE_012012_20240801_20240901_ET_MAX\n",
      "[2025-07-15 09:38:02 INFO] Started export for OPENET_ENSEMBLE_012013_20240801_20240901_ET_MAX\n",
      "[2025-07-15 09:38:02 INFO] Started export for OPENET_ENSEMBLE_012014_20240801_20240901_ET_MAX\n",
      "[2025-07-15 09:38:03 INFO] Started export for OPENET_ENSEMBLE_012015_20240801_20240901_ET_MAX\n"
     ]
    },
    {
     "data": {
      "application/vnd.jupyter.widget-view+json": {
       "model_id": "087982e832eb43b8827c13993794c437",
       "version_major": 2,
       "version_minor": 0
      },
      "text/plain": [
       "Processing bands:   0%|          | 0/3 [00:00<?, ?it/s]"
      ]
     },
     "metadata": {},
     "output_type": "display_data"
    },
    {
     "data": {
      "application/vnd.jupyter.widget-view+json": {
       "model_id": "aa54f76894bb40c793db52b409e61e6d",
       "version_major": 2,
       "version_minor": 0
      },
      "text/plain": [
       "Processing tiles:   0%|          | 0/20 [00:00<?, ?it/s]"
      ]
     },
     "metadata": {},
     "output_type": "display_data"
    },
    {
     "name": "stdout",
     "output_type": "stream",
     "text": [
      "[2025-07-15 09:38:04 INFO] Started export for OPENET_ENSEMBLE_009011_20240901_20241001_ET\n",
      "[2025-07-15 09:38:06 INFO] Started export for OPENET_ENSEMBLE_009012_20240901_20241001_ET\n",
      "[2025-07-15 09:38:06 INFO] Started export for OPENET_ENSEMBLE_009013_20240901_20241001_ET\n",
      "[2025-07-15 09:38:07 INFO] Started export for OPENET_ENSEMBLE_009014_20240901_20241001_ET\n",
      "[2025-07-15 09:38:07 INFO] Started export for OPENET_ENSEMBLE_009015_20240901_20241001_ET\n",
      "[2025-07-15 09:38:08 INFO] Started export for OPENET_ENSEMBLE_010011_20240901_20241001_ET\n",
      "[2025-07-15 09:38:08 INFO] Started export for OPENET_ENSEMBLE_010012_20240901_20241001_ET\n",
      "[2025-07-15 09:38:09 INFO] Started export for OPENET_ENSEMBLE_010013_20240901_20241001_ET\n",
      "[2025-07-15 09:38:09 INFO] Started export for OPENET_ENSEMBLE_010014_20240901_20241001_ET\n",
      "[2025-07-15 09:38:10 INFO] Started export for OPENET_ENSEMBLE_010015_20240901_20241001_ET\n",
      "[2025-07-15 09:38:10 INFO] Started export for OPENET_ENSEMBLE_011011_20240901_20241001_ET\n",
      "[2025-07-15 09:38:10 INFO] Started export for OPENET_ENSEMBLE_011012_20240901_20241001_ET\n",
      "[2025-07-15 09:38:11 INFO] Started export for OPENET_ENSEMBLE_011013_20240901_20241001_ET\n",
      "[2025-07-15 09:38:11 INFO] Started export for OPENET_ENSEMBLE_011014_20240901_20241001_ET\n",
      "[2025-07-15 09:38:12 INFO] Started export for OPENET_ENSEMBLE_011015_20240901_20241001_ET\n",
      "[2025-07-15 09:38:12 INFO] Started export for OPENET_ENSEMBLE_012011_20240901_20241001_ET\n",
      "[2025-07-15 09:38:12 INFO] Started export for OPENET_ENSEMBLE_012012_20240901_20241001_ET\n",
      "[2025-07-15 09:38:13 INFO] Started export for OPENET_ENSEMBLE_012013_20240901_20241001_ET\n",
      "[2025-07-15 09:38:13 INFO] Started export for OPENET_ENSEMBLE_012014_20240901_20241001_ET\n",
      "[2025-07-15 09:38:13 INFO] Started export for OPENET_ENSEMBLE_012015_20240901_20241001_ET\n"
     ]
    },
    {
     "data": {
      "application/vnd.jupyter.widget-view+json": {
       "model_id": "f15f78799dd44f41a9f3c5824bb70827",
       "version_major": 2,
       "version_minor": 0
      },
      "text/plain": [
       "Processing tiles:   0%|          | 0/20 [00:00<?, ?it/s]"
      ]
     },
     "metadata": {},
     "output_type": "display_data"
    },
    {
     "name": "stdout",
     "output_type": "stream",
     "text": [
      "[2025-07-15 09:38:14 INFO] Started export for OPENET_ENSEMBLE_009011_20240901_20241001_ET_MIN\n",
      "[2025-07-15 09:38:14 INFO] Started export for OPENET_ENSEMBLE_009012_20240901_20241001_ET_MIN\n",
      "[2025-07-15 09:38:15 INFO] Started export for OPENET_ENSEMBLE_009013_20240901_20241001_ET_MIN\n",
      "[2025-07-15 09:38:15 INFO] Started export for OPENET_ENSEMBLE_009014_20240901_20241001_ET_MIN\n",
      "[2025-07-15 09:38:16 INFO] Started export for OPENET_ENSEMBLE_009015_20240901_20241001_ET_MIN\n",
      "[2025-07-15 09:38:16 INFO] Started export for OPENET_ENSEMBLE_010011_20240901_20241001_ET_MIN\n",
      "[2025-07-15 09:38:17 INFO] Started export for OPENET_ENSEMBLE_010012_20240901_20241001_ET_MIN\n",
      "[2025-07-15 09:38:17 INFO] Started export for OPENET_ENSEMBLE_010013_20240901_20241001_ET_MIN\n",
      "[2025-07-15 09:38:18 INFO] Started export for OPENET_ENSEMBLE_010014_20240901_20241001_ET_MIN\n",
      "[2025-07-15 09:38:18 INFO] Started export for OPENET_ENSEMBLE_010015_20240901_20241001_ET_MIN\n",
      "[2025-07-15 09:38:18 INFO] Started export for OPENET_ENSEMBLE_011011_20240901_20241001_ET_MIN\n",
      "[2025-07-15 09:38:19 INFO] Started export for OPENET_ENSEMBLE_011012_20240901_20241001_ET_MIN\n",
      "[2025-07-15 09:38:19 INFO] Started export for OPENET_ENSEMBLE_011013_20240901_20241001_ET_MIN\n",
      "[2025-07-15 09:38:20 INFO] Started export for OPENET_ENSEMBLE_011014_20240901_20241001_ET_MIN\n",
      "[2025-07-15 09:38:20 INFO] Started export for OPENET_ENSEMBLE_011015_20240901_20241001_ET_MIN\n",
      "[2025-07-15 09:38:20 INFO] Started export for OPENET_ENSEMBLE_012011_20240901_20241001_ET_MIN\n",
      "[2025-07-15 09:38:21 INFO] Started export for OPENET_ENSEMBLE_012012_20240901_20241001_ET_MIN\n",
      "[2025-07-15 09:38:21 INFO] Started export for OPENET_ENSEMBLE_012013_20240901_20241001_ET_MIN\n",
      "[2025-07-15 09:38:22 INFO] Started export for OPENET_ENSEMBLE_012014_20240901_20241001_ET_MIN\n",
      "[2025-07-15 09:38:22 INFO] Started export for OPENET_ENSEMBLE_012015_20240901_20241001_ET_MIN\n"
     ]
    },
    {
     "data": {
      "application/vnd.jupyter.widget-view+json": {
       "model_id": "4e907938903a4c08919b3fb67fa11c54",
       "version_major": 2,
       "version_minor": 0
      },
      "text/plain": [
       "Processing tiles:   0%|          | 0/20 [00:00<?, ?it/s]"
      ]
     },
     "metadata": {},
     "output_type": "display_data"
    },
    {
     "name": "stdout",
     "output_type": "stream",
     "text": [
      "[2025-07-15 09:38:22 INFO] Started export for OPENET_ENSEMBLE_009011_20240901_20241001_ET_MAX\n",
      "[2025-07-15 09:38:23 INFO] Started export for OPENET_ENSEMBLE_009012_20240901_20241001_ET_MAX\n",
      "[2025-07-15 09:38:24 INFO] Started export for OPENET_ENSEMBLE_009013_20240901_20241001_ET_MAX\n",
      "[2025-07-15 09:38:24 INFO] Started export for OPENET_ENSEMBLE_009014_20240901_20241001_ET_MAX\n",
      "[2025-07-15 09:38:25 INFO] Started export for OPENET_ENSEMBLE_009015_20240901_20241001_ET_MAX\n",
      "[2025-07-15 09:38:25 INFO] Started export for OPENET_ENSEMBLE_010011_20240901_20241001_ET_MAX\n",
      "[2025-07-15 09:38:26 INFO] Started export for OPENET_ENSEMBLE_010012_20240901_20241001_ET_MAX\n",
      "[2025-07-15 09:38:26 INFO] Started export for OPENET_ENSEMBLE_010013_20240901_20241001_ET_MAX\n",
      "[2025-07-15 09:38:27 INFO] Started export for OPENET_ENSEMBLE_010014_20240901_20241001_ET_MAX\n",
      "[2025-07-15 09:38:38 INFO] Started export for OPENET_ENSEMBLE_010015_20240901_20241001_ET_MAX\n",
      "[2025-07-15 09:38:39 INFO] Started export for OPENET_ENSEMBLE_011011_20240901_20241001_ET_MAX\n",
      "[2025-07-15 09:38:39 INFO] Started export for OPENET_ENSEMBLE_011012_20240901_20241001_ET_MAX\n",
      "[2025-07-15 09:38:40 INFO] Started export for OPENET_ENSEMBLE_011013_20240901_20241001_ET_MAX\n",
      "[2025-07-15 09:38:40 INFO] Started export for OPENET_ENSEMBLE_011014_20240901_20241001_ET_MAX\n",
      "[2025-07-15 09:38:41 INFO] Started export for OPENET_ENSEMBLE_011015_20240901_20241001_ET_MAX\n",
      "[2025-07-15 09:38:41 INFO] Started export for OPENET_ENSEMBLE_012011_20240901_20241001_ET_MAX\n",
      "[2025-07-15 09:38:41 INFO] Started export for OPENET_ENSEMBLE_012012_20240901_20241001_ET_MAX\n",
      "[2025-07-15 09:38:42 INFO] Started export for OPENET_ENSEMBLE_012013_20240901_20241001_ET_MAX\n",
      "[2025-07-15 09:38:42 INFO] Started export for OPENET_ENSEMBLE_012014_20240901_20241001_ET_MAX\n",
      "[2025-07-15 09:38:43 INFO] Started export for OPENET_ENSEMBLE_012015_20240901_20241001_ET_MAX\n"
     ]
    },
    {
     "data": {
      "application/vnd.jupyter.widget-view+json": {
       "model_id": "46e5d42c9873481dade96aff8b2e7a64",
       "version_major": 2,
       "version_minor": 0
      },
      "text/plain": [
       "Processing bands:   0%|          | 0/3 [00:00<?, ?it/s]"
      ]
     },
     "metadata": {},
     "output_type": "display_data"
    },
    {
     "data": {
      "application/vnd.jupyter.widget-view+json": {
       "model_id": "7b7b10acce52432b8de46c512c247088",
       "version_major": 2,
       "version_minor": 0
      },
      "text/plain": [
       "Processing tiles:   0%|          | 0/20 [00:00<?, ?it/s]"
      ]
     },
     "metadata": {},
     "output_type": "display_data"
    },
    {
     "name": "stdout",
     "output_type": "stream",
     "text": [
      "[2025-07-15 09:38:43 INFO] Started export for OPENET_ENSEMBLE_009011_20241001_20241101_ET\n",
      "[2025-07-15 09:38:45 INFO] Started export for OPENET_ENSEMBLE_009012_20241001_20241101_ET\n",
      "[2025-07-15 09:38:46 INFO] Started export for OPENET_ENSEMBLE_009013_20241001_20241101_ET\n",
      "[2025-07-15 09:38:46 INFO] Started export for OPENET_ENSEMBLE_009014_20241001_20241101_ET\n",
      "[2025-07-15 09:38:47 INFO] Started export for OPENET_ENSEMBLE_009015_20241001_20241101_ET\n",
      "[2025-07-15 09:38:47 INFO] Started export for OPENET_ENSEMBLE_010011_20241001_20241101_ET\n",
      "[2025-07-15 09:38:48 INFO] Started export for OPENET_ENSEMBLE_010012_20241001_20241101_ET\n",
      "[2025-07-15 09:38:48 INFO] Started export for OPENET_ENSEMBLE_010013_20241001_20241101_ET\n",
      "[2025-07-15 09:38:48 INFO] Started export for OPENET_ENSEMBLE_010014_20241001_20241101_ET\n",
      "[2025-07-15 09:38:49 INFO] Started export for OPENET_ENSEMBLE_010015_20241001_20241101_ET\n",
      "[2025-07-15 09:38:49 INFO] Started export for OPENET_ENSEMBLE_011011_20241001_20241101_ET\n",
      "[2025-07-15 09:38:50 INFO] Started export for OPENET_ENSEMBLE_011012_20241001_20241101_ET\n",
      "[2025-07-15 09:38:50 INFO] Started export for OPENET_ENSEMBLE_011013_20241001_20241101_ET\n",
      "[2025-07-15 09:38:51 INFO] Started export for OPENET_ENSEMBLE_011014_20241001_20241101_ET\n",
      "[2025-07-15 09:38:51 INFO] Started export for OPENET_ENSEMBLE_011015_20241001_20241101_ET\n",
      "[2025-07-15 09:38:52 INFO] Started export for OPENET_ENSEMBLE_012011_20241001_20241101_ET\n",
      "[2025-07-15 09:38:52 INFO] Started export for OPENET_ENSEMBLE_012012_20241001_20241101_ET\n",
      "[2025-07-15 09:38:53 INFO] Started export for OPENET_ENSEMBLE_012013_20241001_20241101_ET\n",
      "[2025-07-15 09:38:53 INFO] Started export for OPENET_ENSEMBLE_012014_20241001_20241101_ET\n",
      "[2025-07-15 09:38:54 INFO] Started export for OPENET_ENSEMBLE_012015_20241001_20241101_ET\n"
     ]
    },
    {
     "data": {
      "application/vnd.jupyter.widget-view+json": {
       "model_id": "c4ae16ce7fa34760811bf9f0eeac2d53",
       "version_major": 2,
       "version_minor": 0
      },
      "text/plain": [
       "Processing tiles:   0%|          | 0/20 [00:00<?, ?it/s]"
      ]
     },
     "metadata": {},
     "output_type": "display_data"
    },
    {
     "name": "stdout",
     "output_type": "stream",
     "text": [
      "[2025-07-15 09:38:54 INFO] Started export for OPENET_ENSEMBLE_009011_20241001_20241101_ET_MIN\n",
      "[2025-07-15 09:38:55 INFO] Started export for OPENET_ENSEMBLE_009012_20241001_20241101_ET_MIN\n",
      "[2025-07-15 09:38:55 INFO] Started export for OPENET_ENSEMBLE_009013_20241001_20241101_ET_MIN\n",
      "[2025-07-15 09:38:56 INFO] Started export for OPENET_ENSEMBLE_009014_20241001_20241101_ET_MIN\n",
      "[2025-07-15 09:38:56 INFO] Started export for OPENET_ENSEMBLE_009015_20241001_20241101_ET_MIN\n",
      "[2025-07-15 09:38:57 INFO] Started export for OPENET_ENSEMBLE_010011_20241001_20241101_ET_MIN\n",
      "[2025-07-15 09:38:57 INFO] Started export for OPENET_ENSEMBLE_010012_20241001_20241101_ET_MIN\n",
      "[2025-07-15 09:38:57 INFO] Started export for OPENET_ENSEMBLE_010013_20241001_20241101_ET_MIN\n",
      "[2025-07-15 09:38:58 INFO] Started export for OPENET_ENSEMBLE_010014_20241001_20241101_ET_MIN\n",
      "[2025-07-15 09:38:58 INFO] Started export for OPENET_ENSEMBLE_010015_20241001_20241101_ET_MIN\n",
      "[2025-07-15 09:38:59 INFO] Started export for OPENET_ENSEMBLE_011011_20241001_20241101_ET_MIN\n",
      "[2025-07-15 09:38:59 INFO] Started export for OPENET_ENSEMBLE_011012_20241001_20241101_ET_MIN\n",
      "[2025-07-15 09:39:00 INFO] Started export for OPENET_ENSEMBLE_011013_20241001_20241101_ET_MIN\n",
      "[2025-07-15 09:39:00 INFO] Started export for OPENET_ENSEMBLE_011014_20241001_20241101_ET_MIN\n",
      "[2025-07-15 09:39:01 INFO] Started export for OPENET_ENSEMBLE_011015_20241001_20241101_ET_MIN\n",
      "[2025-07-15 09:39:01 INFO] Started export for OPENET_ENSEMBLE_012011_20241001_20241101_ET_MIN\n",
      "[2025-07-15 09:39:01 INFO] Started export for OPENET_ENSEMBLE_012012_20241001_20241101_ET_MIN\n",
      "[2025-07-15 09:39:02 INFO] Started export for OPENET_ENSEMBLE_012013_20241001_20241101_ET_MIN\n",
      "[2025-07-15 09:39:02 INFO] Started export for OPENET_ENSEMBLE_012014_20241001_20241101_ET_MIN\n",
      "[2025-07-15 09:39:03 INFO] Started export for OPENET_ENSEMBLE_012015_20241001_20241101_ET_MIN\n"
     ]
    },
    {
     "data": {
      "application/vnd.jupyter.widget-view+json": {
       "model_id": "7dafaa0a087b4efe870d1a328298088d",
       "version_major": 2,
       "version_minor": 0
      },
      "text/plain": [
       "Processing tiles:   0%|          | 0/20 [00:00<?, ?it/s]"
      ]
     },
     "metadata": {},
     "output_type": "display_data"
    },
    {
     "name": "stdout",
     "output_type": "stream",
     "text": [
      "[2025-07-15 09:39:03 INFO] Started export for OPENET_ENSEMBLE_009011_20241001_20241101_ET_MAX\n",
      "[2025-07-15 09:39:04 INFO] Started export for OPENET_ENSEMBLE_009012_20241001_20241101_ET_MAX\n",
      "[2025-07-15 09:39:04 INFO] Started export for OPENET_ENSEMBLE_009013_20241001_20241101_ET_MAX\n",
      "[2025-07-15 09:39:04 INFO] Started export for OPENET_ENSEMBLE_009014_20241001_20241101_ET_MAX\n",
      "[2025-07-15 09:39:05 INFO] Started export for OPENET_ENSEMBLE_009015_20241001_20241101_ET_MAX\n",
      "[2025-07-15 09:39:05 INFO] Started export for OPENET_ENSEMBLE_010011_20241001_20241101_ET_MAX\n",
      "[2025-07-15 09:39:06 INFO] Started export for OPENET_ENSEMBLE_010012_20241001_20241101_ET_MAX\n",
      "[2025-07-15 09:39:06 INFO] Started export for OPENET_ENSEMBLE_010013_20241001_20241101_ET_MAX\n",
      "[2025-07-15 09:39:07 INFO] Started export for OPENET_ENSEMBLE_010014_20241001_20241101_ET_MAX\n",
      "[2025-07-15 09:39:07 INFO] Started export for OPENET_ENSEMBLE_010015_20241001_20241101_ET_MAX\n",
      "[2025-07-15 09:39:07 INFO] Started export for OPENET_ENSEMBLE_011011_20241001_20241101_ET_MAX\n",
      "[2025-07-15 09:39:08 INFO] Started export for OPENET_ENSEMBLE_011012_20241001_20241101_ET_MAX\n",
      "[2025-07-15 09:39:08 INFO] Started export for OPENET_ENSEMBLE_011013_20241001_20241101_ET_MAX\n",
      "[2025-07-15 09:39:09 INFO] Started export for OPENET_ENSEMBLE_011014_20241001_20241101_ET_MAX\n",
      "[2025-07-15 09:39:09 INFO] Started export for OPENET_ENSEMBLE_011015_20241001_20241101_ET_MAX\n",
      "[2025-07-15 09:39:09 INFO] Started export for OPENET_ENSEMBLE_012011_20241001_20241101_ET_MAX\n",
      "[2025-07-15 09:39:10 INFO] Started export for OPENET_ENSEMBLE_012012_20241001_20241101_ET_MAX\n",
      "[2025-07-15 09:39:10 INFO] Started export for OPENET_ENSEMBLE_012013_20241001_20241101_ET_MAX\n",
      "[2025-07-15 09:39:11 INFO] Started export for OPENET_ENSEMBLE_012014_20241001_20241101_ET_MAX\n",
      "[2025-07-15 09:39:11 INFO] Started export for OPENET_ENSEMBLE_012015_20241001_20241101_ET_MAX\n"
     ]
    },
    {
     "data": {
      "application/vnd.jupyter.widget-view+json": {
       "model_id": "b684b21a1d4e4e049bd9d8462b39b82c",
       "version_major": 2,
       "version_minor": 0
      },
      "text/plain": [
       "Processing bands:   0%|          | 0/3 [00:00<?, ?it/s]"
      ]
     },
     "metadata": {},
     "output_type": "display_data"
    },
    {
     "data": {
      "application/vnd.jupyter.widget-view+json": {
       "model_id": "39bed328a8184a7eb4741fe54d9c18ff",
       "version_major": 2,
       "version_minor": 0
      },
      "text/plain": [
       "Processing tiles:   0%|          | 0/20 [00:00<?, ?it/s]"
      ]
     },
     "metadata": {},
     "output_type": "display_data"
    },
    {
     "name": "stdout",
     "output_type": "stream",
     "text": [
      "[2025-07-15 09:39:12 INFO] Started export for OPENET_ENSEMBLE_009011_20241101_20241201_ET\n",
      "[2025-07-15 09:39:12 INFO] Started export for OPENET_ENSEMBLE_009012_20241101_20241201_ET\n",
      "[2025-07-15 09:39:13 INFO] Started export for OPENET_ENSEMBLE_009013_20241101_20241201_ET\n",
      "[2025-07-15 09:39:13 INFO] Started export for OPENET_ENSEMBLE_009014_20241101_20241201_ET\n",
      "[2025-07-15 09:39:13 INFO] Started export for OPENET_ENSEMBLE_009015_20241101_20241201_ET\n",
      "[2025-07-15 09:39:14 INFO] Started export for OPENET_ENSEMBLE_010011_20241101_20241201_ET\n",
      "[2025-07-15 09:39:14 INFO] Started export for OPENET_ENSEMBLE_010012_20241101_20241201_ET\n",
      "[2025-07-15 09:39:15 INFO] Started export for OPENET_ENSEMBLE_010013_20241101_20241201_ET\n",
      "[2025-07-15 09:39:15 INFO] Started export for OPENET_ENSEMBLE_010014_20241101_20241201_ET\n",
      "[2025-07-15 09:39:15 INFO] Started export for OPENET_ENSEMBLE_010015_20241101_20241201_ET\n",
      "[2025-07-15 09:39:16 INFO] Started export for OPENET_ENSEMBLE_011011_20241101_20241201_ET\n",
      "[2025-07-15 09:39:16 INFO] Started export for OPENET_ENSEMBLE_011012_20241101_20241201_ET\n",
      "[2025-07-15 09:39:17 INFO] Started export for OPENET_ENSEMBLE_011013_20241101_20241201_ET\n",
      "[2025-07-15 09:39:17 INFO] Started export for OPENET_ENSEMBLE_011014_20241101_20241201_ET\n",
      "[2025-07-15 09:39:18 INFO] Started export for OPENET_ENSEMBLE_011015_20241101_20241201_ET\n",
      "[2025-07-15 09:39:18 INFO] Started export for OPENET_ENSEMBLE_012011_20241101_20241201_ET\n",
      "[2025-07-15 09:39:18 INFO] Started export for OPENET_ENSEMBLE_012012_20241101_20241201_ET\n",
      "[2025-07-15 09:39:19 INFO] Started export for OPENET_ENSEMBLE_012013_20241101_20241201_ET\n",
      "[2025-07-15 09:39:19 INFO] Started export for OPENET_ENSEMBLE_012014_20241101_20241201_ET\n",
      "[2025-07-15 09:39:20 INFO] Started export for OPENET_ENSEMBLE_012015_20241101_20241201_ET\n"
     ]
    },
    {
     "data": {
      "application/vnd.jupyter.widget-view+json": {
       "model_id": "7c5d69030df24b15a54e581ce4fc5f6b",
       "version_major": 2,
       "version_minor": 0
      },
      "text/plain": [
       "Processing tiles:   0%|          | 0/20 [00:00<?, ?it/s]"
      ]
     },
     "metadata": {},
     "output_type": "display_data"
    },
    {
     "name": "stdout",
     "output_type": "stream",
     "text": [
      "[2025-07-15 09:39:20 INFO] Started export for OPENET_ENSEMBLE_009011_20241101_20241201_ET_MIN\n",
      "[2025-07-15 09:39:21 INFO] Started export for OPENET_ENSEMBLE_009012_20241101_20241201_ET_MIN\n",
      "[2025-07-15 09:39:21 INFO] Started export for OPENET_ENSEMBLE_009013_20241101_20241201_ET_MIN\n",
      "[2025-07-15 09:39:22 INFO] Started export for OPENET_ENSEMBLE_009014_20241101_20241201_ET_MIN\n",
      "[2025-07-15 09:39:22 INFO] Started export for OPENET_ENSEMBLE_009015_20241101_20241201_ET_MIN\n",
      "[2025-07-15 09:39:23 INFO] Started export for OPENET_ENSEMBLE_010011_20241101_20241201_ET_MIN\n",
      "[2025-07-15 09:39:23 INFO] Started export for OPENET_ENSEMBLE_010012_20241101_20241201_ET_MIN\n",
      "[2025-07-15 09:39:24 INFO] Started export for OPENET_ENSEMBLE_010013_20241101_20241201_ET_MIN\n",
      "[2025-07-15 09:39:24 INFO] Started export for OPENET_ENSEMBLE_010014_20241101_20241201_ET_MIN\n",
      "[2025-07-15 09:39:24 INFO] Started export for OPENET_ENSEMBLE_010015_20241101_20241201_ET_MIN\n",
      "[2025-07-15 09:39:25 INFO] Started export for OPENET_ENSEMBLE_011011_20241101_20241201_ET_MIN\n",
      "[2025-07-15 09:39:26 INFO] Started export for OPENET_ENSEMBLE_011012_20241101_20241201_ET_MIN\n",
      "[2025-07-15 09:39:26 INFO] Started export for OPENET_ENSEMBLE_011013_20241101_20241201_ET_MIN\n",
      "[2025-07-15 09:39:26 INFO] Started export for OPENET_ENSEMBLE_011014_20241101_20241201_ET_MIN\n",
      "[2025-07-15 09:39:27 INFO] Started export for OPENET_ENSEMBLE_011015_20241101_20241201_ET_MIN\n",
      "[2025-07-15 09:39:27 INFO] Started export for OPENET_ENSEMBLE_012011_20241101_20241201_ET_MIN\n",
      "[2025-07-15 09:39:28 INFO] Started export for OPENET_ENSEMBLE_012012_20241101_20241201_ET_MIN\n",
      "[2025-07-15 09:39:28 INFO] Started export for OPENET_ENSEMBLE_012013_20241101_20241201_ET_MIN\n",
      "[2025-07-15 09:39:29 INFO] Started export for OPENET_ENSEMBLE_012014_20241101_20241201_ET_MIN\n",
      "[2025-07-15 09:39:29 INFO] Started export for OPENET_ENSEMBLE_012015_20241101_20241201_ET_MIN\n"
     ]
    },
    {
     "data": {
      "application/vnd.jupyter.widget-view+json": {
       "model_id": "081226f361794f4cb5dd2b63721d9f62",
       "version_major": 2,
       "version_minor": 0
      },
      "text/plain": [
       "Processing tiles:   0%|          | 0/20 [00:00<?, ?it/s]"
      ]
     },
     "metadata": {},
     "output_type": "display_data"
    },
    {
     "name": "stdout",
     "output_type": "stream",
     "text": [
      "[2025-07-15 09:39:30 INFO] Started export for OPENET_ENSEMBLE_009011_20241101_20241201_ET_MAX\n",
      "[2025-07-15 09:39:30 INFO] Started export for OPENET_ENSEMBLE_009012_20241101_20241201_ET_MAX\n",
      "[2025-07-15 09:39:31 INFO] Started export for OPENET_ENSEMBLE_009013_20241101_20241201_ET_MAX\n",
      "[2025-07-15 09:39:31 INFO] Started export for OPENET_ENSEMBLE_009014_20241101_20241201_ET_MAX\n",
      "[2025-07-15 09:39:32 INFO] Started export for OPENET_ENSEMBLE_009015_20241101_20241201_ET_MAX\n",
      "[2025-07-15 09:39:36 INFO] Started export for OPENET_ENSEMBLE_010011_20241101_20241201_ET_MAX\n",
      "[2025-07-15 09:39:36 INFO] Started export for OPENET_ENSEMBLE_010012_20241101_20241201_ET_MAX\n",
      "[2025-07-15 09:39:37 INFO] Started export for OPENET_ENSEMBLE_010013_20241101_20241201_ET_MAX\n",
      "[2025-07-15 09:39:37 INFO] Started export for OPENET_ENSEMBLE_010014_20241101_20241201_ET_MAX\n",
      "[2025-07-15 09:39:38 INFO] Started export for OPENET_ENSEMBLE_010015_20241101_20241201_ET_MAX\n",
      "[2025-07-15 09:39:38 INFO] Started export for OPENET_ENSEMBLE_011011_20241101_20241201_ET_MAX\n",
      "[2025-07-15 09:39:39 INFO] Started export for OPENET_ENSEMBLE_011012_20241101_20241201_ET_MAX\n",
      "[2025-07-15 09:39:39 INFO] Started export for OPENET_ENSEMBLE_011013_20241101_20241201_ET_MAX\n",
      "[2025-07-15 09:39:39 INFO] Started export for OPENET_ENSEMBLE_011014_20241101_20241201_ET_MAX\n",
      "[2025-07-15 09:39:40 INFO] Started export for OPENET_ENSEMBLE_011015_20241101_20241201_ET_MAX\n",
      "[2025-07-15 09:39:40 INFO] Started export for OPENET_ENSEMBLE_012011_20241101_20241201_ET_MAX\n",
      "[2025-07-15 09:39:41 INFO] Started export for OPENET_ENSEMBLE_012012_20241101_20241201_ET_MAX\n",
      "[2025-07-15 09:39:41 INFO] Started export for OPENET_ENSEMBLE_012013_20241101_20241201_ET_MAX\n",
      "[2025-07-15 09:39:41 INFO] Started export for OPENET_ENSEMBLE_012014_20241101_20241201_ET_MAX\n",
      "[2025-07-15 09:39:42 INFO] Started export for OPENET_ENSEMBLE_012015_20241101_20241201_ET_MAX\n"
     ]
    },
    {
     "data": {
      "application/vnd.jupyter.widget-view+json": {
       "model_id": "c6d8a64ace0143c6bfa90db44b8240c5",
       "version_major": 2,
       "version_minor": 0
      },
      "text/plain": [
       "Processing dates:   0%|          | 0/10 [00:00<?, ?it/s]"
      ]
     },
     "metadata": {},
     "output_type": "display_data"
    },
    {
     "data": {
      "application/vnd.jupyter.widget-view+json": {
       "model_id": "fe7e494fd4244e3cb9c505744fc04bbc",
       "version_major": 2,
       "version_minor": 0
      },
      "text/plain": [
       "Processing bands:   0%|          | 0/1 [00:00<?, ?it/s]"
      ]
     },
     "metadata": {},
     "output_type": "display_data"
    },
    {
     "name": "stdout",
     "output_type": "stream",
     "text": [
      "[2025-07-15 09:39:42 INFO] Summing up 29 images in the collection for the month: 2024-02-01\n"
     ]
    },
    {
     "data": {
      "application/vnd.jupyter.widget-view+json": {
       "model_id": "d0425e7ad6734d1ca2a52157f13a1284",
       "version_major": 2,
       "version_minor": 0
      },
      "text/plain": [
       "Processing tiles:   0%|          | 0/20 [00:00<?, ?it/s]"
      ]
     },
     "metadata": {},
     "output_type": "display_data"
    },
    {
     "name": "stdout",
     "output_type": "stream",
     "text": [
      "[2025-07-15 09:39:43 INFO] Started export for IDAHO_EPSCOR_GRIDMET_009011_20240201_20240301_ETO\n",
      "[2025-07-15 09:39:43 INFO] Started export for IDAHO_EPSCOR_GRIDMET_009012_20240201_20240301_ETO\n",
      "[2025-07-15 09:39:44 INFO] Started export for IDAHO_EPSCOR_GRIDMET_009013_20240201_20240301_ETO\n",
      "[2025-07-15 09:39:44 INFO] Started export for IDAHO_EPSCOR_GRIDMET_009014_20240201_20240301_ETO\n",
      "[2025-07-15 09:39:44 INFO] Started export for IDAHO_EPSCOR_GRIDMET_009015_20240201_20240301_ETO\n",
      "[2025-07-15 09:39:45 INFO] Started export for IDAHO_EPSCOR_GRIDMET_010011_20240201_20240301_ETO\n",
      "[2025-07-15 09:39:45 INFO] Started export for IDAHO_EPSCOR_GRIDMET_010012_20240201_20240301_ETO\n",
      "[2025-07-15 09:39:46 INFO] Started export for IDAHO_EPSCOR_GRIDMET_010013_20240201_20240301_ETO\n",
      "[2025-07-15 09:39:46 INFO] Started export for IDAHO_EPSCOR_GRIDMET_010014_20240201_20240301_ETO\n",
      "[2025-07-15 09:39:47 INFO] Started export for IDAHO_EPSCOR_GRIDMET_010015_20240201_20240301_ETO\n",
      "[2025-07-15 09:39:47 INFO] Started export for IDAHO_EPSCOR_GRIDMET_011011_20240201_20240301_ETO\n",
      "[2025-07-15 09:39:47 INFO] Started export for IDAHO_EPSCOR_GRIDMET_011012_20240201_20240301_ETO\n",
      "[2025-07-15 09:39:48 INFO] Started export for IDAHO_EPSCOR_GRIDMET_011013_20240201_20240301_ETO\n",
      "[2025-07-15 09:39:48 INFO] Started export for IDAHO_EPSCOR_GRIDMET_011014_20240201_20240301_ETO\n",
      "[2025-07-15 09:39:49 INFO] Started export for IDAHO_EPSCOR_GRIDMET_011015_20240201_20240301_ETO\n",
      "[2025-07-15 09:39:49 INFO] Started export for IDAHO_EPSCOR_GRIDMET_012011_20240201_20240301_ETO\n",
      "[2025-07-15 09:39:50 INFO] Started export for IDAHO_EPSCOR_GRIDMET_012012_20240201_20240301_ETO\n",
      "[2025-07-15 09:39:50 INFO] Started export for IDAHO_EPSCOR_GRIDMET_012013_20240201_20240301_ETO\n",
      "[2025-07-15 09:39:50 INFO] Started export for IDAHO_EPSCOR_GRIDMET_012014_20240201_20240301_ETO\n",
      "[2025-07-15 09:39:51 INFO] Started export for IDAHO_EPSCOR_GRIDMET_012015_20240201_20240301_ETO\n"
     ]
    },
    {
     "data": {
      "application/vnd.jupyter.widget-view+json": {
       "model_id": "420d28a0ed604350a3eb3947e6c4128d",
       "version_major": 2,
       "version_minor": 0
      },
      "text/plain": [
       "Processing bands:   0%|          | 0/1 [00:00<?, ?it/s]"
      ]
     },
     "metadata": {},
     "output_type": "display_data"
    },
    {
     "name": "stdout",
     "output_type": "stream",
     "text": [
      "[2025-07-15 09:39:51 INFO] Summing up 31 images in the collection for the month: 2024-03-01\n"
     ]
    },
    {
     "data": {
      "application/vnd.jupyter.widget-view+json": {
       "model_id": "bf002ff8b6184cb7b1386a1eae3859a5",
       "version_major": 2,
       "version_minor": 0
      },
      "text/plain": [
       "Processing tiles:   0%|          | 0/20 [00:00<?, ?it/s]"
      ]
     },
     "metadata": {},
     "output_type": "display_data"
    },
    {
     "name": "stdout",
     "output_type": "stream",
     "text": [
      "[2025-07-15 09:39:51 INFO] Started export for IDAHO_EPSCOR_GRIDMET_009011_20240301_20240401_ETO\n",
      "[2025-07-15 09:39:52 INFO] Started export for IDAHO_EPSCOR_GRIDMET_009012_20240301_20240401_ETO\n",
      "[2025-07-15 09:39:52 INFO] Started export for IDAHO_EPSCOR_GRIDMET_009013_20240301_20240401_ETO\n",
      "[2025-07-15 09:39:53 INFO] Started export for IDAHO_EPSCOR_GRIDMET_009014_20240301_20240401_ETO\n",
      "[2025-07-15 09:39:53 INFO] Started export for IDAHO_EPSCOR_GRIDMET_009015_20240301_20240401_ETO\n",
      "[2025-07-15 09:39:54 INFO] Started export for IDAHO_EPSCOR_GRIDMET_010011_20240301_20240401_ETO\n",
      "[2025-07-15 09:39:54 INFO] Started export for IDAHO_EPSCOR_GRIDMET_010012_20240301_20240401_ETO\n",
      "[2025-07-15 09:39:55 INFO] Started export for IDAHO_EPSCOR_GRIDMET_010013_20240301_20240401_ETO\n",
      "[2025-07-15 09:39:55 INFO] Started export for IDAHO_EPSCOR_GRIDMET_010014_20240301_20240401_ETO\n",
      "[2025-07-15 09:39:56 INFO] Started export for IDAHO_EPSCOR_GRIDMET_010015_20240301_20240401_ETO\n",
      "[2025-07-15 09:39:56 INFO] Started export for IDAHO_EPSCOR_GRIDMET_011011_20240301_20240401_ETO\n",
      "[2025-07-15 09:39:57 INFO] Started export for IDAHO_EPSCOR_GRIDMET_011012_20240301_20240401_ETO\n",
      "[2025-07-15 09:39:57 INFO] Started export for IDAHO_EPSCOR_GRIDMET_011013_20240301_20240401_ETO\n",
      "[2025-07-15 09:39:57 INFO] Started export for IDAHO_EPSCOR_GRIDMET_011014_20240301_20240401_ETO\n",
      "[2025-07-15 09:39:58 INFO] Started export for IDAHO_EPSCOR_GRIDMET_011015_20240301_20240401_ETO\n",
      "[2025-07-15 09:39:58 INFO] Started export for IDAHO_EPSCOR_GRIDMET_012011_20240301_20240401_ETO\n",
      "[2025-07-15 09:39:59 INFO] Started export for IDAHO_EPSCOR_GRIDMET_012012_20240301_20240401_ETO\n",
      "[2025-07-15 09:39:59 INFO] Started export for IDAHO_EPSCOR_GRIDMET_012013_20240301_20240401_ETO\n",
      "[2025-07-15 09:40:00 INFO] Started export for IDAHO_EPSCOR_GRIDMET_012014_20240301_20240401_ETO\n",
      "[2025-07-15 09:40:00 INFO] Started export for IDAHO_EPSCOR_GRIDMET_012015_20240301_20240401_ETO\n"
     ]
    },
    {
     "data": {
      "application/vnd.jupyter.widget-view+json": {
       "model_id": "3ef98dcf76ec458fbc22f2f64432e829",
       "version_major": 2,
       "version_minor": 0
      },
      "text/plain": [
       "Processing bands:   0%|          | 0/1 [00:00<?, ?it/s]"
      ]
     },
     "metadata": {},
     "output_type": "display_data"
    },
    {
     "name": "stdout",
     "output_type": "stream",
     "text": [
      "[2025-07-15 09:40:00 INFO] Summing up 30 images in the collection for the month: 2024-04-01\n"
     ]
    },
    {
     "data": {
      "application/vnd.jupyter.widget-view+json": {
       "model_id": "2c939710424f4ef68b393333e445cd8f",
       "version_major": 2,
       "version_minor": 0
      },
      "text/plain": [
       "Processing tiles:   0%|          | 0/20 [00:00<?, ?it/s]"
      ]
     },
     "metadata": {},
     "output_type": "display_data"
    },
    {
     "name": "stdout",
     "output_type": "stream",
     "text": [
      "[2025-07-15 09:40:01 INFO] Started export for IDAHO_EPSCOR_GRIDMET_009011_20240401_20240501_ETO\n",
      "[2025-07-15 09:40:01 INFO] Started export for IDAHO_EPSCOR_GRIDMET_009012_20240401_20240501_ETO\n",
      "[2025-07-15 09:40:02 INFO] Started export for IDAHO_EPSCOR_GRIDMET_009013_20240401_20240501_ETO\n",
      "[2025-07-15 09:40:02 INFO] Started export for IDAHO_EPSCOR_GRIDMET_009014_20240401_20240501_ETO\n",
      "[2025-07-15 09:40:03 INFO] Started export for IDAHO_EPSCOR_GRIDMET_009015_20240401_20240501_ETO\n",
      "[2025-07-15 09:40:03 INFO] Started export for IDAHO_EPSCOR_GRIDMET_010011_20240401_20240501_ETO\n",
      "[2025-07-15 09:40:04 INFO] Started export for IDAHO_EPSCOR_GRIDMET_010012_20240401_20240501_ETO\n",
      "[2025-07-15 09:40:04 INFO] Started export for IDAHO_EPSCOR_GRIDMET_010013_20240401_20240501_ETO\n",
      "[2025-07-15 09:40:05 INFO] Started export for IDAHO_EPSCOR_GRIDMET_010014_20240401_20240501_ETO\n",
      "[2025-07-15 09:40:05 INFO] Started export for IDAHO_EPSCOR_GRIDMET_010015_20240401_20240501_ETO\n",
      "[2025-07-15 09:40:05 INFO] Started export for IDAHO_EPSCOR_GRIDMET_011011_20240401_20240501_ETO\n",
      "[2025-07-15 09:40:06 INFO] Started export for IDAHO_EPSCOR_GRIDMET_011012_20240401_20240501_ETO\n",
      "[2025-07-15 09:40:06 INFO] Started export for IDAHO_EPSCOR_GRIDMET_011013_20240401_20240501_ETO\n",
      "[2025-07-15 09:40:07 INFO] Started export for IDAHO_EPSCOR_GRIDMET_011014_20240401_20240501_ETO\n",
      "[2025-07-15 09:40:07 INFO] Started export for IDAHO_EPSCOR_GRIDMET_011015_20240401_20240501_ETO\n",
      "[2025-07-15 09:40:08 INFO] Started export for IDAHO_EPSCOR_GRIDMET_012011_20240401_20240501_ETO\n",
      "[2025-07-15 09:40:08 INFO] Started export for IDAHO_EPSCOR_GRIDMET_012012_20240401_20240501_ETO\n",
      "[2025-07-15 09:40:09 INFO] Started export for IDAHO_EPSCOR_GRIDMET_012013_20240401_20240501_ETO\n",
      "[2025-07-15 09:40:09 INFO] Started export for IDAHO_EPSCOR_GRIDMET_012014_20240401_20240501_ETO\n",
      "[2025-07-15 09:40:10 INFO] Started export for IDAHO_EPSCOR_GRIDMET_012015_20240401_20240501_ETO\n"
     ]
    },
    {
     "data": {
      "application/vnd.jupyter.widget-view+json": {
       "model_id": "11b89d960b374f539c693ed26321ce76",
       "version_major": 2,
       "version_minor": 0
      },
      "text/plain": [
       "Processing bands:   0%|          | 0/1 [00:00<?, ?it/s]"
      ]
     },
     "metadata": {},
     "output_type": "display_data"
    },
    {
     "name": "stdout",
     "output_type": "stream",
     "text": [
      "[2025-07-15 09:40:10 INFO] Summing up 31 images in the collection for the month: 2024-05-01\n"
     ]
    },
    {
     "data": {
      "application/vnd.jupyter.widget-view+json": {
       "model_id": "024877ef36884622a424c126cc42694d",
       "version_major": 2,
       "version_minor": 0
      },
      "text/plain": [
       "Processing tiles:   0%|          | 0/20 [00:00<?, ?it/s]"
      ]
     },
     "metadata": {},
     "output_type": "display_data"
    },
    {
     "name": "stdout",
     "output_type": "stream",
     "text": [
      "[2025-07-15 09:40:10 INFO] Started export for IDAHO_EPSCOR_GRIDMET_009011_20240501_20240601_ETO\n",
      "[2025-07-15 09:40:11 INFO] Started export for IDAHO_EPSCOR_GRIDMET_009012_20240501_20240601_ETO\n",
      "[2025-07-15 09:40:11 INFO] Started export for IDAHO_EPSCOR_GRIDMET_009013_20240501_20240601_ETO\n",
      "[2025-07-15 09:40:12 INFO] Started export for IDAHO_EPSCOR_GRIDMET_009014_20240501_20240601_ETO\n",
      "[2025-07-15 09:40:12 INFO] Started export for IDAHO_EPSCOR_GRIDMET_009015_20240501_20240601_ETO\n",
      "[2025-07-15 09:40:13 INFO] Started export for IDAHO_EPSCOR_GRIDMET_010011_20240501_20240601_ETO\n",
      "[2025-07-15 09:40:13 INFO] Started export for IDAHO_EPSCOR_GRIDMET_010012_20240501_20240601_ETO\n",
      "[2025-07-15 09:40:13 INFO] Started export for IDAHO_EPSCOR_GRIDMET_010013_20240501_20240601_ETO\n",
      "[2025-07-15 09:40:14 INFO] Started export for IDAHO_EPSCOR_GRIDMET_010014_20240501_20240601_ETO\n",
      "[2025-07-15 09:40:14 INFO] Started export for IDAHO_EPSCOR_GRIDMET_010015_20240501_20240601_ETO\n",
      "[2025-07-15 09:40:15 INFO] Started export for IDAHO_EPSCOR_GRIDMET_011011_20240501_20240601_ETO\n",
      "[2025-07-15 09:40:15 INFO] Started export for IDAHO_EPSCOR_GRIDMET_011012_20240501_20240601_ETO\n",
      "[2025-07-15 09:40:15 INFO] Started export for IDAHO_EPSCOR_GRIDMET_011013_20240501_20240601_ETO\n",
      "[2025-07-15 09:40:16 INFO] Started export for IDAHO_EPSCOR_GRIDMET_011014_20240501_20240601_ETO\n",
      "[2025-07-15 09:40:16 INFO] Started export for IDAHO_EPSCOR_GRIDMET_011015_20240501_20240601_ETO\n",
      "[2025-07-15 09:40:17 INFO] Started export for IDAHO_EPSCOR_GRIDMET_012011_20240501_20240601_ETO\n",
      "[2025-07-15 09:40:17 INFO] Started export for IDAHO_EPSCOR_GRIDMET_012012_20240501_20240601_ETO\n",
      "[2025-07-15 09:40:18 INFO] Started export for IDAHO_EPSCOR_GRIDMET_012013_20240501_20240601_ETO\n",
      "[2025-07-15 09:40:18 INFO] Started export for IDAHO_EPSCOR_GRIDMET_012014_20240501_20240601_ETO\n",
      "[2025-07-15 09:40:23 INFO] Started export for IDAHO_EPSCOR_GRIDMET_012015_20240501_20240601_ETO\n"
     ]
    },
    {
     "data": {
      "application/vnd.jupyter.widget-view+json": {
       "model_id": "c207060fe5674e66a569dc80945d1a05",
       "version_major": 2,
       "version_minor": 0
      },
      "text/plain": [
       "Processing bands:   0%|          | 0/1 [00:00<?, ?it/s]"
      ]
     },
     "metadata": {},
     "output_type": "display_data"
    },
    {
     "name": "stdout",
     "output_type": "stream",
     "text": [
      "[2025-07-15 09:40:23 INFO] Summing up 30 images in the collection for the month: 2024-06-01\n"
     ]
    },
    {
     "data": {
      "application/vnd.jupyter.widget-view+json": {
       "model_id": "df8ab11dbd3c4e57a7317ce4bfbf489c",
       "version_major": 2,
       "version_minor": 0
      },
      "text/plain": [
       "Processing tiles:   0%|          | 0/20 [00:00<?, ?it/s]"
      ]
     },
     "metadata": {},
     "output_type": "display_data"
    },
    {
     "name": "stdout",
     "output_type": "stream",
     "text": [
      "[2025-07-15 09:40:23 INFO] Started export for IDAHO_EPSCOR_GRIDMET_009011_20240601_20240701_ETO\n",
      "[2025-07-15 09:40:24 INFO] Started export for IDAHO_EPSCOR_GRIDMET_009012_20240601_20240701_ETO\n",
      "[2025-07-15 09:40:24 INFO] Started export for IDAHO_EPSCOR_GRIDMET_009013_20240601_20240701_ETO\n",
      "[2025-07-15 09:40:25 INFO] Started export for IDAHO_EPSCOR_GRIDMET_009014_20240601_20240701_ETO\n",
      "[2025-07-15 09:40:25 INFO] Started export for IDAHO_EPSCOR_GRIDMET_009015_20240601_20240701_ETO\n",
      "[2025-07-15 09:40:25 INFO] Started export for IDAHO_EPSCOR_GRIDMET_010011_20240601_20240701_ETO\n",
      "[2025-07-15 09:40:26 INFO] Started export for IDAHO_EPSCOR_GRIDMET_010012_20240601_20240701_ETO\n",
      "[2025-07-15 09:40:26 INFO] Started export for IDAHO_EPSCOR_GRIDMET_010013_20240601_20240701_ETO\n",
      "[2025-07-15 09:40:27 INFO] Started export for IDAHO_EPSCOR_GRIDMET_010014_20240601_20240701_ETO\n",
      "[2025-07-15 09:40:27 INFO] Started export for IDAHO_EPSCOR_GRIDMET_010015_20240601_20240701_ETO\n",
      "[2025-07-15 09:40:28 INFO] Started export for IDAHO_EPSCOR_GRIDMET_011011_20240601_20240701_ETO\n",
      "[2025-07-15 09:40:28 INFO] Started export for IDAHO_EPSCOR_GRIDMET_011012_20240601_20240701_ETO\n",
      "[2025-07-15 09:40:28 INFO] Started export for IDAHO_EPSCOR_GRIDMET_011013_20240601_20240701_ETO\n",
      "[2025-07-15 09:40:29 INFO] Started export for IDAHO_EPSCOR_GRIDMET_011014_20240601_20240701_ETO\n",
      "[2025-07-15 09:40:29 INFO] Started export for IDAHO_EPSCOR_GRIDMET_011015_20240601_20240701_ETO\n",
      "[2025-07-15 09:40:30 INFO] Started export for IDAHO_EPSCOR_GRIDMET_012011_20240601_20240701_ETO\n",
      "[2025-07-15 09:40:30 INFO] Started export for IDAHO_EPSCOR_GRIDMET_012012_20240601_20240701_ETO\n",
      "[2025-07-15 09:40:31 INFO] Started export for IDAHO_EPSCOR_GRIDMET_012013_20240601_20240701_ETO\n",
      "[2025-07-15 09:40:31 INFO] Started export for IDAHO_EPSCOR_GRIDMET_012014_20240601_20240701_ETO\n",
      "[2025-07-15 09:40:31 INFO] Started export for IDAHO_EPSCOR_GRIDMET_012015_20240601_20240701_ETO\n"
     ]
    },
    {
     "data": {
      "application/vnd.jupyter.widget-view+json": {
       "model_id": "c39ab096398446ea903ca2c4397e0758",
       "version_major": 2,
       "version_minor": 0
      },
      "text/plain": [
       "Processing bands:   0%|          | 0/1 [00:00<?, ?it/s]"
      ]
     },
     "metadata": {},
     "output_type": "display_data"
    },
    {
     "name": "stdout",
     "output_type": "stream",
     "text": [
      "[2025-07-15 09:40:32 INFO] Summing up 31 images in the collection for the month: 2024-07-01\n"
     ]
    },
    {
     "data": {
      "application/vnd.jupyter.widget-view+json": {
       "model_id": "ad7093e14b534f0782110c944de12dc4",
       "version_major": 2,
       "version_minor": 0
      },
      "text/plain": [
       "Processing tiles:   0%|          | 0/20 [00:00<?, ?it/s]"
      ]
     },
     "metadata": {},
     "output_type": "display_data"
    },
    {
     "name": "stdout",
     "output_type": "stream",
     "text": [
      "[2025-07-15 09:40:32 INFO] Started export for IDAHO_EPSCOR_GRIDMET_009011_20240701_20240801_ETO\n",
      "[2025-07-15 09:40:33 INFO] Started export for IDAHO_EPSCOR_GRIDMET_009012_20240701_20240801_ETO\n",
      "[2025-07-15 09:40:33 INFO] Started export for IDAHO_EPSCOR_GRIDMET_009013_20240701_20240801_ETO\n",
      "[2025-07-15 09:40:33 INFO] Started export for IDAHO_EPSCOR_GRIDMET_009014_20240701_20240801_ETO\n",
      "[2025-07-15 09:40:34 INFO] Started export for IDAHO_EPSCOR_GRIDMET_009015_20240701_20240801_ETO\n",
      "[2025-07-15 09:40:34 INFO] Started export for IDAHO_EPSCOR_GRIDMET_010011_20240701_20240801_ETO\n",
      "[2025-07-15 09:40:35 INFO] Started export for IDAHO_EPSCOR_GRIDMET_010012_20240701_20240801_ETO\n",
      "[2025-07-15 09:40:35 INFO] Started export for IDAHO_EPSCOR_GRIDMET_010013_20240701_20240801_ETO\n",
      "[2025-07-15 09:40:36 INFO] Started export for IDAHO_EPSCOR_GRIDMET_010014_20240701_20240801_ETO\n",
      "[2025-07-15 09:40:36 INFO] Started export for IDAHO_EPSCOR_GRIDMET_010015_20240701_20240801_ETO\n",
      "[2025-07-15 09:40:37 INFO] Started export for IDAHO_EPSCOR_GRIDMET_011011_20240701_20240801_ETO\n",
      "[2025-07-15 09:40:37 INFO] Started export for IDAHO_EPSCOR_GRIDMET_011012_20240701_20240801_ETO\n",
      "[2025-07-15 09:40:38 INFO] Started export for IDAHO_EPSCOR_GRIDMET_011013_20240701_20240801_ETO\n",
      "[2025-07-15 09:40:38 INFO] Started export for IDAHO_EPSCOR_GRIDMET_011014_20240701_20240801_ETO\n",
      "[2025-07-15 09:40:38 INFO] Started export for IDAHO_EPSCOR_GRIDMET_011015_20240701_20240801_ETO\n",
      "[2025-07-15 09:40:39 INFO] Started export for IDAHO_EPSCOR_GRIDMET_012011_20240701_20240801_ETO\n",
      "[2025-07-15 09:40:39 INFO] Started export for IDAHO_EPSCOR_GRIDMET_012012_20240701_20240801_ETO\n",
      "[2025-07-15 09:40:40 INFO] Started export for IDAHO_EPSCOR_GRIDMET_012013_20240701_20240801_ETO\n",
      "[2025-07-15 09:40:40 INFO] Started export for IDAHO_EPSCOR_GRIDMET_012014_20240701_20240801_ETO\n",
      "[2025-07-15 09:40:41 INFO] Started export for IDAHO_EPSCOR_GRIDMET_012015_20240701_20240801_ETO\n"
     ]
    },
    {
     "data": {
      "application/vnd.jupyter.widget-view+json": {
       "model_id": "7ee6a0a87bc14baf868c8a19028de777",
       "version_major": 2,
       "version_minor": 0
      },
      "text/plain": [
       "Processing bands:   0%|          | 0/1 [00:00<?, ?it/s]"
      ]
     },
     "metadata": {},
     "output_type": "display_data"
    },
    {
     "name": "stdout",
     "output_type": "stream",
     "text": [
      "[2025-07-15 09:40:41 INFO] Summing up 31 images in the collection for the month: 2024-08-01\n"
     ]
    },
    {
     "data": {
      "application/vnd.jupyter.widget-view+json": {
       "model_id": "126a33490e1148ffaadf3be9cf8768fe",
       "version_major": 2,
       "version_minor": 0
      },
      "text/plain": [
       "Processing tiles:   0%|          | 0/20 [00:00<?, ?it/s]"
      ]
     },
     "metadata": {},
     "output_type": "display_data"
    },
    {
     "name": "stdout",
     "output_type": "stream",
     "text": [
      "[2025-07-15 09:40:41 INFO] Started export for IDAHO_EPSCOR_GRIDMET_009011_20240801_20240901_ETO\n",
      "[2025-07-15 09:40:42 INFO] Started export for IDAHO_EPSCOR_GRIDMET_009012_20240801_20240901_ETO\n",
      "[2025-07-15 09:40:42 INFO] Started export for IDAHO_EPSCOR_GRIDMET_009013_20240801_20240901_ETO\n",
      "[2025-07-15 09:40:43 INFO] Started export for IDAHO_EPSCOR_GRIDMET_009014_20240801_20240901_ETO\n",
      "[2025-07-15 09:40:43 INFO] Started export for IDAHO_EPSCOR_GRIDMET_009015_20240801_20240901_ETO\n",
      "[2025-07-15 09:40:44 INFO] Started export for IDAHO_EPSCOR_GRIDMET_010011_20240801_20240901_ETO\n",
      "[2025-07-15 09:40:44 INFO] Started export for IDAHO_EPSCOR_GRIDMET_010012_20240801_20240901_ETO\n",
      "[2025-07-15 09:40:44 INFO] Started export for IDAHO_EPSCOR_GRIDMET_010013_20240801_20240901_ETO\n",
      "[2025-07-15 09:40:45 INFO] Started export for IDAHO_EPSCOR_GRIDMET_010014_20240801_20240901_ETO\n",
      "[2025-07-15 09:40:45 INFO] Started export for IDAHO_EPSCOR_GRIDMET_010015_20240801_20240901_ETO\n",
      "[2025-07-15 09:40:45 INFO] Started export for IDAHO_EPSCOR_GRIDMET_011011_20240801_20240901_ETO\n",
      "[2025-07-15 09:40:46 INFO] Started export for IDAHO_EPSCOR_GRIDMET_011012_20240801_20240901_ETO\n",
      "[2025-07-15 09:40:46 INFO] Started export for IDAHO_EPSCOR_GRIDMET_011013_20240801_20240901_ETO\n",
      "[2025-07-15 09:40:47 INFO] Started export for IDAHO_EPSCOR_GRIDMET_011014_20240801_20240901_ETO\n",
      "[2025-07-15 09:40:47 INFO] Started export for IDAHO_EPSCOR_GRIDMET_011015_20240801_20240901_ETO\n",
      "[2025-07-15 09:40:48 INFO] Started export for IDAHO_EPSCOR_GRIDMET_012011_20240801_20240901_ETO\n",
      "[2025-07-15 09:40:48 INFO] Started export for IDAHO_EPSCOR_GRIDMET_012012_20240801_20240901_ETO\n",
      "[2025-07-15 09:40:49 INFO] Started export for IDAHO_EPSCOR_GRIDMET_012013_20240801_20240901_ETO\n",
      "[2025-07-15 09:40:49 INFO] Started export for IDAHO_EPSCOR_GRIDMET_012014_20240801_20240901_ETO\n",
      "[2025-07-15 09:40:49 INFO] Started export for IDAHO_EPSCOR_GRIDMET_012015_20240801_20240901_ETO\n"
     ]
    },
    {
     "data": {
      "application/vnd.jupyter.widget-view+json": {
       "model_id": "02a5a1105e354ea1889d72c95b408ba6",
       "version_major": 2,
       "version_minor": 0
      },
      "text/plain": [
       "Processing bands:   0%|          | 0/1 [00:00<?, ?it/s]"
      ]
     },
     "metadata": {},
     "output_type": "display_data"
    },
    {
     "name": "stdout",
     "output_type": "stream",
     "text": [
      "[2025-07-15 09:40:50 INFO] Summing up 30 images in the collection for the month: 2024-09-01\n"
     ]
    },
    {
     "data": {
      "application/vnd.jupyter.widget-view+json": {
       "model_id": "63c9bf79103943c3a797e487fb82fdd8",
       "version_major": 2,
       "version_minor": 0
      },
      "text/plain": [
       "Processing tiles:   0%|          | 0/20 [00:00<?, ?it/s]"
      ]
     },
     "metadata": {},
     "output_type": "display_data"
    },
    {
     "name": "stdout",
     "output_type": "stream",
     "text": [
      "[2025-07-15 09:40:50 INFO] Started export for IDAHO_EPSCOR_GRIDMET_009011_20240901_20241001_ETO\n",
      "[2025-07-15 09:40:51 INFO] Started export for IDAHO_EPSCOR_GRIDMET_009012_20240901_20241001_ETO\n",
      "[2025-07-15 09:40:52 INFO] Started export for IDAHO_EPSCOR_GRIDMET_009013_20240901_20241001_ETO\n",
      "[2025-07-15 09:40:52 INFO] Started export for IDAHO_EPSCOR_GRIDMET_009014_20240901_20241001_ETO\n",
      "[2025-07-15 09:40:53 INFO] Started export for IDAHO_EPSCOR_GRIDMET_009015_20240901_20241001_ETO\n",
      "[2025-07-15 09:40:53 INFO] Started export for IDAHO_EPSCOR_GRIDMET_010011_20240901_20241001_ETO\n",
      "[2025-07-15 09:40:54 INFO] Started export for IDAHO_EPSCOR_GRIDMET_010012_20240901_20241001_ETO\n",
      "[2025-07-15 09:40:54 INFO] Started export for IDAHO_EPSCOR_GRIDMET_010013_20240901_20241001_ETO\n",
      "[2025-07-15 09:40:54 INFO] Started export for IDAHO_EPSCOR_GRIDMET_010014_20240901_20241001_ETO\n",
      "[2025-07-15 09:40:55 INFO] Started export for IDAHO_EPSCOR_GRIDMET_010015_20240901_20241001_ETO\n",
      "[2025-07-15 09:40:55 INFO] Started export for IDAHO_EPSCOR_GRIDMET_011011_20240901_20241001_ETO\n",
      "[2025-07-15 09:40:56 INFO] Started export for IDAHO_EPSCOR_GRIDMET_011012_20240901_20241001_ETO\n",
      "[2025-07-15 09:40:56 INFO] Started export for IDAHO_EPSCOR_GRIDMET_011013_20240901_20241001_ETO\n",
      "[2025-07-15 09:40:56 INFO] Started export for IDAHO_EPSCOR_GRIDMET_011014_20240901_20241001_ETO\n",
      "[2025-07-15 09:40:57 INFO] Started export for IDAHO_EPSCOR_GRIDMET_011015_20240901_20241001_ETO\n",
      "[2025-07-15 09:40:57 INFO] Started export for IDAHO_EPSCOR_GRIDMET_012011_20240901_20241001_ETO\n",
      "[2025-07-15 09:40:57 INFO] Started export for IDAHO_EPSCOR_GRIDMET_012012_20240901_20241001_ETO\n",
      "[2025-07-15 09:40:58 INFO] Started export for IDAHO_EPSCOR_GRIDMET_012013_20240901_20241001_ETO\n",
      "[2025-07-15 09:40:58 INFO] Started export for IDAHO_EPSCOR_GRIDMET_012014_20240901_20241001_ETO\n",
      "[2025-07-15 09:40:59 INFO] Started export for IDAHO_EPSCOR_GRIDMET_012015_20240901_20241001_ETO\n"
     ]
    },
    {
     "data": {
      "application/vnd.jupyter.widget-view+json": {
       "model_id": "8627debc05574f23afe86e56fffc0fc3",
       "version_major": 2,
       "version_minor": 0
      },
      "text/plain": [
       "Processing bands:   0%|          | 0/1 [00:00<?, ?it/s]"
      ]
     },
     "metadata": {},
     "output_type": "display_data"
    },
    {
     "name": "stdout",
     "output_type": "stream",
     "text": [
      "[2025-07-15 09:40:59 INFO] Summing up 31 images in the collection for the month: 2024-10-01\n"
     ]
    },
    {
     "data": {
      "application/vnd.jupyter.widget-view+json": {
       "model_id": "76ade3fee91344529fef6ec99d29a578",
       "version_major": 2,
       "version_minor": 0
      },
      "text/plain": [
       "Processing tiles:   0%|          | 0/20 [00:00<?, ?it/s]"
      ]
     },
     "metadata": {},
     "output_type": "display_data"
    },
    {
     "name": "stdout",
     "output_type": "stream",
     "text": [
      "[2025-07-15 09:41:00 INFO] Started export for IDAHO_EPSCOR_GRIDMET_009011_20241001_20241101_ETO\n",
      "[2025-07-15 09:41:00 INFO] Started export for IDAHO_EPSCOR_GRIDMET_009012_20241001_20241101_ETO\n",
      "[2025-07-15 09:41:00 INFO] Started export for IDAHO_EPSCOR_GRIDMET_009013_20241001_20241101_ETO\n",
      "[2025-07-15 09:41:01 INFO] Started export for IDAHO_EPSCOR_GRIDMET_009014_20241001_20241101_ETO\n",
      "[2025-07-15 09:41:01 INFO] Started export for IDAHO_EPSCOR_GRIDMET_009015_20241001_20241101_ETO\n",
      "[2025-07-15 09:41:02 INFO] Started export for IDAHO_EPSCOR_GRIDMET_010011_20241001_20241101_ETO\n",
      "[2025-07-15 09:41:02 INFO] Started export for IDAHO_EPSCOR_GRIDMET_010012_20241001_20241101_ETO\n",
      "[2025-07-15 09:41:02 INFO] Started export for IDAHO_EPSCOR_GRIDMET_010013_20241001_20241101_ETO\n",
      "[2025-07-15 09:41:03 INFO] Started export for IDAHO_EPSCOR_GRIDMET_010014_20241001_20241101_ETO\n",
      "[2025-07-15 09:41:03 INFO] Started export for IDAHO_EPSCOR_GRIDMET_010015_20241001_20241101_ETO\n",
      "[2025-07-15 09:41:04 INFO] Started export for IDAHO_EPSCOR_GRIDMET_011011_20241001_20241101_ETO\n",
      "[2025-07-15 09:41:04 INFO] Started export for IDAHO_EPSCOR_GRIDMET_011012_20241001_20241101_ETO\n",
      "[2025-07-15 09:41:04 INFO] Started export for IDAHO_EPSCOR_GRIDMET_011013_20241001_20241101_ETO\n",
      "[2025-07-15 09:41:05 INFO] Started export for IDAHO_EPSCOR_GRIDMET_011014_20241001_20241101_ETO\n",
      "[2025-07-15 09:41:05 INFO] Started export for IDAHO_EPSCOR_GRIDMET_011015_20241001_20241101_ETO\n",
      "[2025-07-15 09:41:06 INFO] Started export for IDAHO_EPSCOR_GRIDMET_012011_20241001_20241101_ETO\n",
      "[2025-07-15 09:41:06 INFO] Started export for IDAHO_EPSCOR_GRIDMET_012012_20241001_20241101_ETO\n",
      "[2025-07-15 09:41:06 INFO] Started export for IDAHO_EPSCOR_GRIDMET_012013_20241001_20241101_ETO\n",
      "[2025-07-15 09:41:07 INFO] Started export for IDAHO_EPSCOR_GRIDMET_012014_20241001_20241101_ETO\n",
      "[2025-07-15 09:41:07 INFO] Started export for IDAHO_EPSCOR_GRIDMET_012015_20241001_20241101_ETO\n"
     ]
    },
    {
     "data": {
      "application/vnd.jupyter.widget-view+json": {
       "model_id": "d4c439af607e4affa57a07410f5fb724",
       "version_major": 2,
       "version_minor": 0
      },
      "text/plain": [
       "Processing bands:   0%|          | 0/1 [00:00<?, ?it/s]"
      ]
     },
     "metadata": {},
     "output_type": "display_data"
    },
    {
     "name": "stdout",
     "output_type": "stream",
     "text": [
      "[2025-07-15 09:41:08 INFO] Summing up 30 images in the collection for the month: 2024-11-01\n"
     ]
    },
    {
     "data": {
      "application/vnd.jupyter.widget-view+json": {
       "model_id": "7c386c0a2fee4485afa75d1e8b9ba16a",
       "version_major": 2,
       "version_minor": 0
      },
      "text/plain": [
       "Processing tiles:   0%|          | 0/20 [00:00<?, ?it/s]"
      ]
     },
     "metadata": {},
     "output_type": "display_data"
    },
    {
     "name": "stdout",
     "output_type": "stream",
     "text": [
      "[2025-07-15 09:41:08 INFO] Started export for IDAHO_EPSCOR_GRIDMET_009011_20241101_20241201_ETO\n",
      "[2025-07-15 09:41:09 INFO] Started export for IDAHO_EPSCOR_GRIDMET_009012_20241101_20241201_ETO\n",
      "[2025-07-15 09:41:09 INFO] Started export for IDAHO_EPSCOR_GRIDMET_009013_20241101_20241201_ETO\n",
      "[2025-07-15 09:41:10 INFO] Started export for IDAHO_EPSCOR_GRIDMET_009014_20241101_20241201_ETO\n",
      "[2025-07-15 09:41:10 INFO] Started export for IDAHO_EPSCOR_GRIDMET_009015_20241101_20241201_ETO\n",
      "[2025-07-15 09:41:11 INFO] Started export for IDAHO_EPSCOR_GRIDMET_010011_20241101_20241201_ETO\n",
      "[2025-07-15 09:41:11 INFO] Started export for IDAHO_EPSCOR_GRIDMET_010012_20241101_20241201_ETO\n",
      "[2025-07-15 09:41:12 INFO] Started export for IDAHO_EPSCOR_GRIDMET_010013_20241101_20241201_ETO\n",
      "[2025-07-15 09:41:12 INFO] Started export for IDAHO_EPSCOR_GRIDMET_010014_20241101_20241201_ETO\n",
      "[2025-07-15 09:41:13 INFO] Started export for IDAHO_EPSCOR_GRIDMET_010015_20241101_20241201_ETO\n",
      "[2025-07-15 09:41:13 INFO] Started export for IDAHO_EPSCOR_GRIDMET_011011_20241101_20241201_ETO\n",
      "[2025-07-15 09:41:13 INFO] Started export for IDAHO_EPSCOR_GRIDMET_011012_20241101_20241201_ETO\n",
      "[2025-07-15 09:41:14 INFO] Started export for IDAHO_EPSCOR_GRIDMET_011013_20241101_20241201_ETO\n",
      "[2025-07-15 09:41:14 INFO] Started export for IDAHO_EPSCOR_GRIDMET_011014_20241101_20241201_ETO\n",
      "[2025-07-15 09:41:15 INFO] Started export for IDAHO_EPSCOR_GRIDMET_011015_20241101_20241201_ETO\n",
      "[2025-07-15 09:41:15 INFO] Started export for IDAHO_EPSCOR_GRIDMET_012011_20241101_20241201_ETO\n",
      "[2025-07-15 09:41:16 INFO] Started export for IDAHO_EPSCOR_GRIDMET_012012_20241101_20241201_ETO\n",
      "[2025-07-15 09:41:16 INFO] Started export for IDAHO_EPSCOR_GRIDMET_012013_20241101_20241201_ETO\n",
      "[2025-07-15 09:41:17 INFO] Started export for IDAHO_EPSCOR_GRIDMET_012014_20241101_20241201_ETO\n",
      "[2025-07-15 09:41:17 INFO] Started export for IDAHO_EPSCOR_GRIDMET_012015_20241101_20241201_ETO\n"
     ]
    }
   ],
   "source": [
    "pipeline.generate_tiles_for_date_range(\"2024-02-01\", \"2025-01-01\", export=True)\n",
    "gridmet_pipeline.generate_tiles_for_date_range(\"2024-02-01\", \"2025-01-01\", export=True)\n",
    "# prism_pipeline.process_year(2024, upload=False)"
   ]
  },
  {
   "cell_type": "code",
   "execution_count": null,
   "metadata": {},
   "outputs": [],
   "source": [
    "# Initiate transfer of data from Google Drive to AWS\n",
    "pipeline.transfer_gdrive_to_aws(delete_from_local=True)\n",
    "gridmet_pipeline.transfer_gdrive_to_aws(delete_from_local=True)\n",
    "# prism_pipeline.upload_local_folder_to_aws()"
   ]
  },
  {
   "cell_type": "code",
   "execution_count": null,
   "metadata": {},
   "outputs": [],
   "source": [
    "tracker = S3ManifestTracker(\n",
    "    config_path=\"../variables.yaml\",\n",
    "    bucket_name=\"ose-dev-inputs\",\n",
    "    output_path=\"S3_filenames_dynamic.csv\",\n",
    "    profile_name=\"ose-nmw\",\n",
    ")\n",
    "\n",
    "tracker.update_manifest(output_path=\"../water_rights_visualizer/S3_filenames.csv\")\n",
    "\n",
    "# Final Step: Update client/src/utils/constants.tsx\n",
    "# Update DATA_END_YEAR to 2024"
   ]
  },
  {
   "cell_type": "code",
   "execution_count": null,
   "metadata": {},
   "outputs": [],
   "source": [
    "gridmet_climate_engine_pipeline = GridMETPipeline(\n",
    "    bands=[\"pet\"],\n",
    "    aws_profile=\"ose-nmw\",\n",
    "    aws_bucket=\"ose-dev-inputs\",\n",
    "    aws_region=\"us-west-2\",\n",
    ")\n",
    "gridmet_climate_engine_pipeline.fetch_year(2024)\n",
    "\n",
    "# gridmet_climate_engine_pipeline.fetch_year_range(1985, 2008)"
   ]
  }
 ],
 "metadata": {
  "kernelspec": {
   "display_name": "nmw-pipelines",
   "language": "python",
   "name": "python3"
  },
  "language_info": {
   "codemirror_mode": {
    "name": "ipython",
    "version": 3
   },
   "file_extension": ".py",
   "mimetype": "text/x-python",
   "name": "python",
   "nbconvert_exporter": "python",
   "pygments_lexer": "ipython3",
   "version": "3.10.13"
  }
 },
 "nbformat": 4,
 "nbformat_minor": 2
}
