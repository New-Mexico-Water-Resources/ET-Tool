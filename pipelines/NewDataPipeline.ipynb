{
 "cells": [
  {
   "cell_type": "code",
   "execution_count": 2,
   "metadata": {},
   "outputs": [
    {
     "name": "stderr",
     "output_type": "stream",
     "text": [
      "/opt/homebrew/anaconda3/envs/nmw-pipelines/lib/python3.10/site-packages/geemap/conversion.py:23: UserWarning: pkg_resources is deprecated as an API. See https://setuptools.pypa.io/en/latest/pkg_resources.html. The pkg_resources package is slated for removal as early as 2025-11-30. Refrain from using this package or pin to Setuptools<81.\n",
      "  import pkg_resources\n"
     ]
    }
   ],
   "source": [
    "%reload_ext autoreload\n",
    "%autoreload 2\n",
    "\n",
    "import sys\n",
    "import os\n",
    "from os.path import join\n",
    "sys.path.append(\"../\")\n",
    "\n",
    "from pipelines.gee.gee_aws_pipeline import GEEAWSDataPipeline\n",
    "from pipelines.prism.prism_aws_pipeline import PrismAWSDataPipeline\n",
    "from pipelines.gridmet.gridmet_pipeline import GridMETPipeline\n",
    "\n",
    "# Specify the path to the Google Drive client secret and key files\n",
    "# To generate, follow these instructions: https://docs.iterative.ai/PyDrive2/quickstart/\n",
    "current_dir = os.path.dirname(os.getcwd())\n",
    "secret_path = join(current_dir, \"pipelines/client_secret.json\")\n",
    "key_path = join(current_dir, \"pipelines/google_drive_key.txt\")"
   ]
  },
  {
   "cell_type": "code",
   "execution_count": 3,
   "metadata": {},
   "outputs": [
    {
     "data": {
      "text/html": [
       "\n",
       "            <style>\n",
       "                .geemap-dark {\n",
       "                    --jp-widgets-color: white;\n",
       "                    --jp-widgets-label-color: white;\n",
       "                    --jp-ui-font-color1: white;\n",
       "                    --jp-layout-color2: #454545;\n",
       "                    background-color: #383838;\n",
       "                }\n",
       "\n",
       "                .geemap-dark .jupyter-button {\n",
       "                    --jp-layout-color3: #383838;\n",
       "                }\n",
       "\n",
       "                .geemap-colab {\n",
       "                    background-color: var(--colab-primary-surface-color, white);\n",
       "                }\n",
       "\n",
       "                .geemap-colab .jupyter-button {\n",
       "                    --jp-layout-color3: var(--colab-primary-surface-color, white);\n",
       "                }\n",
       "            </style>\n",
       "            "
      ],
      "text/plain": [
       "<IPython.core.display.HTML object>"
      ]
     },
     "metadata": {},
     "output_type": "display_data"
    },
    {
     "data": {
      "text/html": [
       "<p>To authorize access needed by Earth Engine, open the following\n",
       "        URL in a web browser and follow the instructions:</p>\n",
       "        <p><a href=https://code.earthengine.google.com/client-auth?scopes=https%3A//www.googleapis.com/auth/earthengine%20https%3A//www.googleapis.com/auth/cloud-platform%20https%3A//www.googleapis.com/auth/drive%20https%3A//www.googleapis.com/auth/devstorage.full_control&request_id=sArk4jmOh0FgySsG-7wx0_mGKmvzPHpBzuKgY6AMqcA&tc=pB60usj4RqAnUI8FF5y9fzCBPlxeuBqNXSlUH3o0z1A&cc=IE2PWiXXSfJKhRioRBiqPrAv_PEQiT1B9K9R7lRjgKk>https://code.earthengine.google.com/client-auth?scopes=https%3A//www.googleapis.com/auth/earthengine%20https%3A//www.googleapis.com/auth/cloud-platform%20https%3A//www.googleapis.com/auth/drive%20https%3A//www.googleapis.com/auth/devstorage.full_control&request_id=sArk4jmOh0FgySsG-7wx0_mGKmvzPHpBzuKgY6AMqcA&tc=pB60usj4RqAnUI8FF5y9fzCBPlxeuBqNXSlUH3o0z1A&cc=IE2PWiXXSfJKhRioRBiqPrAv_PEQiT1B9K9R7lRjgKk</a></p>\n",
       "        <p>The authorization workflow will generate a code, which you should paste in the box below.</p>\n",
       "        "
      ],
      "text/plain": [
       "<IPython.core.display.HTML object>"
      ]
     },
     "metadata": {},
     "output_type": "display_data"
    },
    {
     "name": "stdout",
     "output_type": "stream",
     "text": [
      "\n",
      "Successfully saved authorization token.\n"
     ]
    }
   ],
   "source": [
    "import ee\n",
    "ee.Authenticate( auth_mode=\"notebook\")\n",
    "ee.Initialize(project=\"zippy-pad-465521-e2\")"
   ]
  },
  {
   "cell_type": "code",
   "execution_count": 52,
   "metadata": {},
   "outputs": [
    {
     "data": {
      "text/html": [
       "\n",
       "            <style>\n",
       "                .geemap-dark {\n",
       "                    --jp-widgets-color: white;\n",
       "                    --jp-widgets-label-color: white;\n",
       "                    --jp-ui-font-color1: white;\n",
       "                    --jp-layout-color2: #454545;\n",
       "                    background-color: #383838;\n",
       "                }\n",
       "\n",
       "                .geemap-dark .jupyter-button {\n",
       "                    --jp-layout-color3: #383838;\n",
       "                }\n",
       "\n",
       "                .geemap-colab {\n",
       "                    background-color: var(--colab-primary-surface-color, white);\n",
       "                }\n",
       "\n",
       "                .geemap-colab .jupyter-button {\n",
       "                    --jp-layout-color3: var(--colab-primary-surface-color, white);\n",
       "                }\n",
       "            </style>\n",
       "            "
      ],
      "text/plain": [
       "<IPython.core.display.HTML object>"
      ]
     },
     "metadata": {},
     "output_type": "display_data"
    },
    {
     "name": "stdout",
     "output_type": "stream",
     "text": [
      "[2025-07-29 10:32:28 INFO] loading credentials: /Users/rstonebr/Documents/Programming/Water-Rights-Visualizer/pipelines/google_drive_key.txt\n",
      "[2025-07-29 10:32:28 INFO] access_token is expired. Now: 2025-07-29 17:32:28.892033, token_expiry: 2025-07-22 16:45:12\n",
      "[2025-07-29 10:32:28 INFO] Refreshing access_token\n",
      "[2025-07-29 10:32:29 INFO] saving credentials: /Users/rstonebr/Documents/Programming/Water-Rights-Visualizer/pipelines/google_drive_key.txt\n",
      "[2025-07-29 10:32:29 INFO] Found credentials in shared credentials file: ~/.aws/credentials\n"
     ]
    }
   ],
   "source": [
    "# Initialize the pipeline, configured for the OpenET ensemble product\n",
    "pipeline = GEEAWSDataPipeline(\n",
    "    bands=[\"et_ensemble_mad\", \"et_ensemble_mad_min\", \"et_ensemble_mad_max\"],\n",
    "    product=\"OpenET/ENSEMBLE/CONUS/GRIDMET/MONTHLY/v2_0\",\n",
    "    # For <2000 data, use:\n",
    "    # product=\"projects/openet/assets/ensemble/conus/gridmet/monthly/v2_0_pre2000\",\n",
    "    product_prefix=\"OPENET_ENSEMBLE\",\n",
    "    aws_bucket=\"ose-dev-inputs\",\n",
    "    aws_region=\"us-west-2\",\n",
    "    aws_profile=\"ose-nmw\",\n",
    "    gdrive_folder=\"OPENET_EXPORTS\",\n",
    "    temp_local_folder=\"temp_data\",\n",
    "    project=\"zippy-pad-465521-e2\",\n",
    "    gdrive_client_secrets_filename=secret_path,\n",
    "    gdrive_key_filename=key_path,\n",
    ")"
   ]
  },
  {
   "cell_type": "code",
   "execution_count": 53,
   "metadata": {},
   "outputs": [
    {
     "data": {
      "text/html": [
       "\n",
       "            <style>\n",
       "                .geemap-dark {\n",
       "                    --jp-widgets-color: white;\n",
       "                    --jp-widgets-label-color: white;\n",
       "                    --jp-ui-font-color1: white;\n",
       "                    --jp-layout-color2: #454545;\n",
       "                    background-color: #383838;\n",
       "                }\n",
       "\n",
       "                .geemap-dark .jupyter-button {\n",
       "                    --jp-layout-color3: #383838;\n",
       "                }\n",
       "\n",
       "                .geemap-colab {\n",
       "                    background-color: var(--colab-primary-surface-color, white);\n",
       "                }\n",
       "\n",
       "                .geemap-colab .jupyter-button {\n",
       "                    --jp-layout-color3: var(--colab-primary-surface-color, white);\n",
       "                }\n",
       "            </style>\n",
       "            "
      ],
      "text/plain": [
       "<IPython.core.display.HTML object>"
      ]
     },
     "metadata": {},
     "output_type": "display_data"
    },
    {
     "data": {
      "application/vnd.jupyter.widget-view+json": {
       "model_id": "a9f4ae9f5391472da8826b2a95bde137",
       "version_major": 2,
       "version_minor": 0
      },
      "text/plain": [
       "Processing bands:   0%|          | 0/3 [00:00<?, ?it/s]"
      ]
     },
     "metadata": {},
     "output_type": "display_data"
    },
    {
     "data": {
      "application/vnd.jupyter.widget-view+json": {
       "model_id": "af3268e9433f4049aa64ca0ef548b940",
       "version_major": 2,
       "version_minor": 0
      },
      "text/plain": [
       "Processing tiles:   0%|          | 0/20 [00:00<?, ?it/s]"
      ]
     },
     "metadata": {},
     "output_type": "display_data"
    },
    {
     "name": "stdout",
     "output_type": "stream",
     "text": [
      "[2025-07-29 10:32:36 INFO] Added OPENET_ENSEMBLE_009011_20240101_20240201_ET to map\n"
     ]
    },
    {
     "data": {
      "application/vnd.jupyter.widget-view+json": {
       "model_id": "d4d830e4d88e49bfbffd3defed18f1d7",
       "version_major": 2,
       "version_minor": 0
      },
      "text/plain": [
       "Processing tiles:   0%|          | 0/20 [00:00<?, ?it/s]"
      ]
     },
     "metadata": {},
     "output_type": "display_data"
    },
    {
     "name": "stdout",
     "output_type": "stream",
     "text": [
      "[2025-07-29 10:32:37 INFO] Added OPENET_ENSEMBLE_009011_20240101_20240201_ET_MIN to map\n"
     ]
    },
    {
     "data": {
      "application/vnd.jupyter.widget-view+json": {
       "model_id": "8db96300aca940bab58985e0eff1a4b0",
       "version_major": 2,
       "version_minor": 0
      },
      "text/plain": [
       "Processing tiles:   0%|          | 0/20 [00:00<?, ?it/s]"
      ]
     },
     "metadata": {},
     "output_type": "display_data"
    },
    {
     "name": "stdout",
     "output_type": "stream",
     "text": [
      "[2025-07-29 10:32:37 INFO] Added OPENET_ENSEMBLE_009011_20240101_20240201_ET_MAX to map\n"
     ]
    },
    {
     "data": {
      "application/vnd.jupyter.widget-view+json": {
       "model_id": "14fad96d864f45ca8b3b98a145c3e897",
       "version_major": 2,
       "version_minor": 0
      },
      "text/plain": [
       "Map(center=[0, 0], controls=(WidgetControl(options=['position', 'transparent_bg'], widget=SearchDataGUI(childr…"
      ]
     },
     "execution_count": 53,
     "metadata": {},
     "output_type": "execute_result"
    }
   ],
   "source": [
    "# Generate tiles for a single month (limit to 1 tile for testing)\n",
    "pipeline.generate_tiles_for_month(\"2024-01-01\", export=False, visualize=True, limit=1)"
   ]
  },
  {
   "cell_type": "code",
   "execution_count": 11,
   "metadata": {},
   "outputs": [
    {
     "data": {
      "text/html": [
       "\n",
       "            <style>\n",
       "                .geemap-dark {\n",
       "                    --jp-widgets-color: white;\n",
       "                    --jp-widgets-label-color: white;\n",
       "                    --jp-ui-font-color1: white;\n",
       "                    --jp-layout-color2: #454545;\n",
       "                    background-color: #383838;\n",
       "                }\n",
       "\n",
       "                .geemap-dark .jupyter-button {\n",
       "                    --jp-layout-color3: #383838;\n",
       "                }\n",
       "\n",
       "                .geemap-colab {\n",
       "                    background-color: var(--colab-primary-surface-color, white);\n",
       "                }\n",
       "\n",
       "                .geemap-colab .jupyter-button {\n",
       "                    --jp-layout-color3: var(--colab-primary-surface-color, white);\n",
       "                }\n",
       "            </style>\n",
       "            "
      ],
      "text/plain": [
       "<IPython.core.display.HTML object>"
      ]
     },
     "metadata": {},
     "output_type": "display_data"
    },
    {
     "data": {
      "application/vnd.jupyter.widget-view+json": {
       "model_id": "7cdea302221945bf8bffb321d73dda5a",
       "version_major": 2,
       "version_minor": 0
      },
      "text/plain": [
       "Processing bands:   0%|          | 0/3 [00:00<?, ?it/s]"
      ]
     },
     "metadata": {},
     "output_type": "display_data"
    },
    {
     "data": {
      "application/vnd.jupyter.widget-view+json": {
       "model_id": "40bd1dca83f54199b3f79121798ebd4c",
       "version_major": 2,
       "version_minor": 0
      },
      "text/plain": [
       "Processing tiles:   0%|          | 0/20 [00:00<?, ?it/s]"
      ]
     },
     "metadata": {},
     "output_type": "display_data"
    },
    {
     "name": "stdout",
     "output_type": "stream",
     "text": [
      "[2025-07-15 09:00:56 INFO] Started export for OPENET_ENSEMBLE_009011_20240101_20240102_ET\n",
      "[2025-07-15 09:00:56 INFO] Started export for OPENET_ENSEMBLE_009012_20240101_20240102_ET\n",
      "[2025-07-15 09:00:57 INFO] Started export for OPENET_ENSEMBLE_009013_20240101_20240102_ET\n",
      "[2025-07-15 09:00:58 INFO] Started export for OPENET_ENSEMBLE_009014_20240101_20240102_ET\n",
      "[2025-07-15 09:00:58 INFO] Started export for OPENET_ENSEMBLE_009015_20240101_20240102_ET\n",
      "[2025-07-15 09:00:59 INFO] Started export for OPENET_ENSEMBLE_010011_20240101_20240102_ET\n",
      "[2025-07-15 09:01:00 INFO] Started export for OPENET_ENSEMBLE_010012_20240101_20240102_ET\n",
      "[2025-07-15 09:01:00 INFO] Started export for OPENET_ENSEMBLE_010013_20240101_20240102_ET\n",
      "[2025-07-15 09:01:01 INFO] Started export for OPENET_ENSEMBLE_010014_20240101_20240102_ET\n",
      "[2025-07-15 09:01:02 INFO] Started export for OPENET_ENSEMBLE_010015_20240101_20240102_ET\n",
      "[2025-07-15 09:01:02 INFO] Started export for OPENET_ENSEMBLE_011011_20240101_20240102_ET\n",
      "[2025-07-15 09:01:03 INFO] Started export for OPENET_ENSEMBLE_011012_20240101_20240102_ET\n",
      "[2025-07-15 09:01:04 INFO] Started export for OPENET_ENSEMBLE_011013_20240101_20240102_ET\n",
      "[2025-07-15 09:01:05 INFO] Started export for OPENET_ENSEMBLE_011014_20240101_20240102_ET\n",
      "[2025-07-15 09:01:05 INFO] Started export for OPENET_ENSEMBLE_011015_20240101_20240102_ET\n",
      "[2025-07-15 09:01:06 INFO] Started export for OPENET_ENSEMBLE_012011_20240101_20240102_ET\n",
      "[2025-07-15 09:01:06 INFO] Started export for OPENET_ENSEMBLE_012012_20240101_20240102_ET\n",
      "[2025-07-15 09:01:07 INFO] Started export for OPENET_ENSEMBLE_012013_20240101_20240102_ET\n",
      "[2025-07-15 09:01:08 INFO] Started export for OPENET_ENSEMBLE_012014_20240101_20240102_ET\n",
      "[2025-07-15 09:01:09 INFO] Started export for OPENET_ENSEMBLE_012015_20240101_20240102_ET\n"
     ]
    },
    {
     "data": {
      "application/vnd.jupyter.widget-view+json": {
       "model_id": "243eec1599394fa6865dfe3e861db741",
       "version_major": 2,
       "version_minor": 0
      },
      "text/plain": [
       "Processing tiles:   0%|          | 0/20 [00:00<?, ?it/s]"
      ]
     },
     "metadata": {},
     "output_type": "display_data"
    },
    {
     "name": "stdout",
     "output_type": "stream",
     "text": [
      "[2025-07-15 09:01:09 INFO] Started export for OPENET_ENSEMBLE_009011_20240101_20240102_ET_MIN\n",
      "[2025-07-15 09:01:10 INFO] Started export for OPENET_ENSEMBLE_009012_20240101_20240102_ET_MIN\n",
      "[2025-07-15 09:01:11 INFO] Started export for OPENET_ENSEMBLE_009013_20240101_20240102_ET_MIN\n",
      "[2025-07-15 09:01:11 INFO] Started export for OPENET_ENSEMBLE_009014_20240101_20240102_ET_MIN\n",
      "[2025-07-15 09:01:12 INFO] Started export for OPENET_ENSEMBLE_009015_20240101_20240102_ET_MIN\n",
      "[2025-07-15 09:01:12 INFO] Started export for OPENET_ENSEMBLE_010011_20240101_20240102_ET_MIN\n",
      "[2025-07-15 09:01:13 INFO] Started export for OPENET_ENSEMBLE_010012_20240101_20240102_ET_MIN\n",
      "[2025-07-15 09:01:14 INFO] Started export for OPENET_ENSEMBLE_010013_20240101_20240102_ET_MIN\n",
      "[2025-07-15 09:01:15 INFO] Started export for OPENET_ENSEMBLE_010014_20240101_20240102_ET_MIN\n",
      "[2025-07-15 09:01:15 INFO] Started export for OPENET_ENSEMBLE_010015_20240101_20240102_ET_MIN\n",
      "[2025-07-15 09:01:15 INFO] Started export for OPENET_ENSEMBLE_011011_20240101_20240102_ET_MIN\n",
      "[2025-07-15 09:01:16 INFO] Started export for OPENET_ENSEMBLE_011012_20240101_20240102_ET_MIN\n",
      "[2025-07-15 09:01:17 INFO] Started export for OPENET_ENSEMBLE_011013_20240101_20240102_ET_MIN\n",
      "[2025-07-15 09:01:18 INFO] Started export for OPENET_ENSEMBLE_011014_20240101_20240102_ET_MIN\n",
      "[2025-07-15 09:01:19 INFO] Started export for OPENET_ENSEMBLE_011015_20240101_20240102_ET_MIN\n",
      "[2025-07-15 09:01:19 INFO] Started export for OPENET_ENSEMBLE_012011_20240101_20240102_ET_MIN\n",
      "[2025-07-15 09:01:19 INFO] Started export for OPENET_ENSEMBLE_012012_20240101_20240102_ET_MIN\n",
      "[2025-07-15 09:01:20 INFO] Started export for OPENET_ENSEMBLE_012013_20240101_20240102_ET_MIN\n",
      "[2025-07-15 09:01:20 INFO] Started export for OPENET_ENSEMBLE_012014_20240101_20240102_ET_MIN\n",
      "[2025-07-15 09:01:21 INFO] Started export for OPENET_ENSEMBLE_012015_20240101_20240102_ET_MIN\n"
     ]
    },
    {
     "data": {
      "application/vnd.jupyter.widget-view+json": {
       "model_id": "7855f4666f69442199f1bdf810106581",
       "version_major": 2,
       "version_minor": 0
      },
      "text/plain": [
       "Processing tiles:   0%|          | 0/20 [00:00<?, ?it/s]"
      ]
     },
     "metadata": {},
     "output_type": "display_data"
    },
    {
     "name": "stdout",
     "output_type": "stream",
     "text": [
      "[2025-07-15 09:01:22 INFO] Started export for OPENET_ENSEMBLE_009011_20240101_20240102_ET_MAX\n",
      "[2025-07-15 09:01:22 INFO] Started export for OPENET_ENSEMBLE_009012_20240101_20240102_ET_MAX\n",
      "[2025-07-15 09:01:23 INFO] Started export for OPENET_ENSEMBLE_009013_20240101_20240102_ET_MAX\n",
      "[2025-07-15 09:01:23 INFO] Started export for OPENET_ENSEMBLE_009014_20240101_20240102_ET_MAX\n",
      "[2025-07-15 09:01:23 INFO] Started export for OPENET_ENSEMBLE_009015_20240101_20240102_ET_MAX\n",
      "[2025-07-15 09:01:24 INFO] Started export for OPENET_ENSEMBLE_010011_20240101_20240102_ET_MAX\n",
      "[2025-07-15 09:01:25 INFO] Started export for OPENET_ENSEMBLE_010012_20240101_20240102_ET_MAX\n",
      "[2025-07-15 09:01:26 INFO] Started export for OPENET_ENSEMBLE_010013_20240101_20240102_ET_MAX\n",
      "[2025-07-15 09:01:26 INFO] Started export for OPENET_ENSEMBLE_010014_20240101_20240102_ET_MAX\n",
      "[2025-07-15 09:01:27 INFO] Started export for OPENET_ENSEMBLE_010015_20240101_20240102_ET_MAX\n",
      "[2025-07-15 09:01:27 INFO] Started export for OPENET_ENSEMBLE_011011_20240101_20240102_ET_MAX\n",
      "[2025-07-15 09:01:28 INFO] Started export for OPENET_ENSEMBLE_011012_20240101_20240102_ET_MAX\n",
      "[2025-07-15 09:01:28 INFO] Started export for OPENET_ENSEMBLE_011013_20240101_20240102_ET_MAX\n",
      "[2025-07-15 09:01:29 INFO] Started export for OPENET_ENSEMBLE_011014_20240101_20240102_ET_MAX\n",
      "[2025-07-15 09:01:29 INFO] Started export for OPENET_ENSEMBLE_011015_20240101_20240102_ET_MAX\n",
      "[2025-07-15 09:01:30 INFO] Started export for OPENET_ENSEMBLE_012011_20240101_20240102_ET_MAX\n",
      "[2025-07-15 09:01:31 INFO] Started export for OPENET_ENSEMBLE_012012_20240101_20240102_ET_MAX\n",
      "[2025-07-15 09:01:31 INFO] Started export for OPENET_ENSEMBLE_012013_20240101_20240102_ET_MAX\n",
      "[2025-07-15 09:01:32 INFO] Started export for OPENET_ENSEMBLE_012014_20240101_20240102_ET_MAX\n",
      "[2025-07-15 09:01:32 INFO] Started export for OPENET_ENSEMBLE_012015_20240101_20240102_ET_MAX\n"
     ]
    }
   ],
   "source": [
    "pipeline.generate_tiles_for_month(\"2024-01-01\", export=True)"
   ]
  },
  {
   "cell_type": "markdown",
   "metadata": {},
   "source": [
    "## Generate tiles for a date range\n",
    "```python\n",
    "pipeline.generate_tiles_for_date_range(\"2000-01-01\", \"2001-01-01\", export=False, visualize=True)\n",
    "```\n",
    "\n",
    "## Generate tiles for a list of dates\n",
    "```python\n",
    "pre_2008_dates = pipeline.generate_date_list(\"1985-01-01\", \"2008-01-01\")\n",
    "post_2024_dates = pipeline.generate_date_list(\"2024-01-01\", \"2025-01-01\")\n",
    "\n",
    "all_dates = pre_2008_dates + post_2024_dates\n",
    "pipeline.generate_tiles_for_date_list(all_dates, export=True)\n",
    "```\n",
    "---"
   ]
  },
  {
   "cell_type": "markdown",
   "metadata": {},
   "source": [
    "# Downloading data\n",
    "\n",
    "## Option 1: Manually download from Google Drive to local folder, then transfer to AWS\n",
    "---\n",
    "```python\n",
    "# Download all files from the configured Google Drive folder to local folder\n",
    "pipeline.download_all_from_gdrive()\n",
    "\n",
    "# List all files in the Google Drive folder\n",
    "pipeline.list_gdrive_files()\n",
    "\n",
    "# Download a single file from the configured Google Drive folder to local folder\n",
    "files = pipeline.list_gdrive_files()\n",
    "file = files[0]\n",
    "pipeline.download_from_gdrive(file_id=file[\"id\"], file_name=file[\"name\"])\n",
    "\n",
    "# Transfer all files from the local folder to the configured AWS bucket\n",
    "pipeline.upload_local_folder_to_aws()\n",
    "\n",
    "# Transfer a single file from the local folder to the configured AWS bucket\n",
    "pipeline.upload_to_aws(path=\"path/to/local/file.tif\")\n",
    "```\n",
    "\n",
    "## Option 2: Download from Google Drive and immediately transfer to AWS\n",
    "---\n",
    "```python\n",
    "# Download all files from the configured Google Drive folder to local folder. Optionally delete from Google Drive and local folder while processing.\n",
    "pipeline.transfer_gdrive_to_aws(delete_from_gdrive=False, delete_from_local=True)\n",
    "\n",
    "# Download a single file from the configured Google Drive folder to local folder. Optionally delete from Google Drive and local folder while processing.\n",
    "pipeline.transfer_gdrive_file_to_aws(file_id=\"1234567890\", file_name=\"example.tif\", delete_from_local=True)\n",
    "```"
   ]
  },
  {
   "cell_type": "code",
   "execution_count": null,
   "metadata": {},
   "outputs": [
    {
     "data": {
      "text/html": [
       "\n",
       "            <style>\n",
       "                .geemap-dark {\n",
       "                    --jp-widgets-color: white;\n",
       "                    --jp-widgets-label-color: white;\n",
       "                    --jp-ui-font-color1: white;\n",
       "                    --jp-layout-color2: #454545;\n",
       "                    background-color: #383838;\n",
       "                }\n",
       "\n",
       "                .geemap-dark .jupyter-button {\n",
       "                    --jp-layout-color3: #383838;\n",
       "                }\n",
       "\n",
       "                .geemap-colab {\n",
       "                    background-color: var(--colab-primary-surface-color, white);\n",
       "                }\n",
       "\n",
       "                .geemap-colab .jupyter-button {\n",
       "                    --jp-layout-color3: var(--colab-primary-surface-color, white);\n",
       "                }\n",
       "            </style>\n",
       "            "
      ],
      "text/plain": [
       "<IPython.core.display.HTML object>"
      ]
     },
     "metadata": {},
     "output_type": "display_data"
    },
    {
     "name": "stderr",
     "output_type": "stream",
     "text": [
      "Processing date: 2024-01-01:   0%|          | 0/1 [00:00<?, ?it/s]\n",
      "\u001b[A\n",
      "\u001b[A\n",
      "\u001b[A"
     ]
    },
    {
     "name": "stdout",
     "output_type": "stream",
     "text": [
      "[2025-06-24 14:06:17 INFO] Started export for OPENET_ENSEMBLE_009011_20240101_20240102_ET\n"
     ]
    },
    {
     "name": "stderr",
     "output_type": "stream",
     "text": [
      "\n",
      "\u001b[A\n",
      "\u001b[A\n",
      "\u001b[A"
     ]
    },
    {
     "name": "stdout",
     "output_type": "stream",
     "text": [
      "[2025-06-24 14:06:18 INFO] Started export for OPENET_ENSEMBLE_009012_20240101_20240102_ET\n"
     ]
    },
    {
     "name": "stderr",
     "output_type": "stream",
     "text": [
      "\n",
      "\u001b[A\n",
      "\u001b[A\n",
      "\u001b[A"
     ]
    },
    {
     "name": "stdout",
     "output_type": "stream",
     "text": [
      "[2025-06-24 14:06:18 INFO] Started export for OPENET_ENSEMBLE_009013_20240101_20240102_ET\n"
     ]
    },
    {
     "name": "stderr",
     "output_type": "stream",
     "text": [
      "\n",
      "\u001b[A\n",
      "\u001b[A\n",
      "\u001b[A"
     ]
    },
    {
     "name": "stdout",
     "output_type": "stream",
     "text": [
      "[2025-06-24 14:06:19 INFO] Started export for OPENET_ENSEMBLE_009014_20240101_20240102_ET\n"
     ]
    },
    {
     "name": "stderr",
     "output_type": "stream",
     "text": [
      "\n",
      "\u001b[A\n",
      "\u001b[A\n",
      "\u001b[A"
     ]
    },
    {
     "name": "stdout",
     "output_type": "stream",
     "text": [
      "[2025-06-24 14:06:19 INFO] Started export for OPENET_ENSEMBLE_009015_20240101_20240102_ET\n"
     ]
    },
    {
     "name": "stderr",
     "output_type": "stream",
     "text": [
      "\n",
      "\u001b[A\n",
      "\u001b[A\n",
      "\u001b[A"
     ]
    },
    {
     "name": "stdout",
     "output_type": "stream",
     "text": [
      "[2025-06-24 14:06:20 INFO] Started export for OPENET_ENSEMBLE_010011_20240101_20240102_ET\n"
     ]
    },
    {
     "name": "stderr",
     "output_type": "stream",
     "text": [
      "\n",
      "\u001b[A\n",
      "\u001b[A\n",
      "\u001b[A"
     ]
    },
    {
     "name": "stdout",
     "output_type": "stream",
     "text": [
      "[2025-06-24 14:06:21 INFO] Started export for OPENET_ENSEMBLE_010012_20240101_20240102_ET\n"
     ]
    },
    {
     "name": "stderr",
     "output_type": "stream",
     "text": [
      "\n",
      "\u001b[A\n",
      "\u001b[A\n",
      "\u001b[A"
     ]
    },
    {
     "name": "stdout",
     "output_type": "stream",
     "text": [
      "[2025-06-24 14:06:22 INFO] Started export for OPENET_ENSEMBLE_010013_20240101_20240102_ET\n"
     ]
    },
    {
     "name": "stderr",
     "output_type": "stream",
     "text": [
      "\n",
      "\u001b[A\n",
      "\u001b[A\n",
      "\u001b[A"
     ]
    },
    {
     "name": "stdout",
     "output_type": "stream",
     "text": [
      "[2025-06-24 14:06:22 INFO] Started export for OPENET_ENSEMBLE_010014_20240101_20240102_ET\n"
     ]
    },
    {
     "name": "stderr",
     "output_type": "stream",
     "text": [
      "\n",
      "\u001b[A\n",
      "\u001b[A\n",
      "\u001b[A"
     ]
    },
    {
     "name": "stdout",
     "output_type": "stream",
     "text": [
      "[2025-06-24 14:06:23 INFO] Started export for OPENET_ENSEMBLE_010015_20240101_20240102_ET\n"
     ]
    },
    {
     "name": "stderr",
     "output_type": "stream",
     "text": [
      "\n",
      "\u001b[A\n",
      "\u001b[A\n",
      "\u001b[A"
     ]
    },
    {
     "name": "stdout",
     "output_type": "stream",
     "text": [
      "[2025-06-24 14:06:24 INFO] Started export for OPENET_ENSEMBLE_011011_20240101_20240102_ET\n"
     ]
    },
    {
     "name": "stderr",
     "output_type": "stream",
     "text": [
      "\n",
      "\u001b[A\n",
      "\u001b[A\n",
      "\u001b[A"
     ]
    },
    {
     "name": "stdout",
     "output_type": "stream",
     "text": [
      "[2025-06-24 14:06:24 INFO] Started export for OPENET_ENSEMBLE_011012_20240101_20240102_ET\n"
     ]
    },
    {
     "name": "stderr",
     "output_type": "stream",
     "text": [
      "\n",
      "\u001b[A\n",
      "\u001b[A\n",
      "\u001b[A"
     ]
    },
    {
     "name": "stdout",
     "output_type": "stream",
     "text": [
      "[2025-06-24 14:06:25 INFO] Started export for OPENET_ENSEMBLE_011013_20240101_20240102_ET\n"
     ]
    },
    {
     "name": "stderr",
     "output_type": "stream",
     "text": [
      "\n",
      "\u001b[A\n",
      "\u001b[A\n",
      "\u001b[A"
     ]
    },
    {
     "name": "stdout",
     "output_type": "stream",
     "text": [
      "[2025-06-24 14:06:26 INFO] Started export for OPENET_ENSEMBLE_011014_20240101_20240102_ET\n"
     ]
    },
    {
     "name": "stderr",
     "output_type": "stream",
     "text": [
      "\n",
      "\u001b[A\n",
      "\u001b[A\n",
      "\u001b[A"
     ]
    },
    {
     "name": "stdout",
     "output_type": "stream",
     "text": [
      "[2025-06-24 14:06:26 INFO] Started export for OPENET_ENSEMBLE_011015_20240101_20240102_ET\n"
     ]
    },
    {
     "name": "stderr",
     "output_type": "stream",
     "text": [
      "\n",
      "\u001b[A\n",
      "\u001b[A\n",
      "\u001b[A"
     ]
    },
    {
     "name": "stdout",
     "output_type": "stream",
     "text": [
      "[2025-06-24 14:06:27 INFO] Started export for OPENET_ENSEMBLE_012011_20240101_20240102_ET\n"
     ]
    },
    {
     "name": "stderr",
     "output_type": "stream",
     "text": [
      "\n",
      "\u001b[A\n",
      "\u001b[A\n",
      "\u001b[A"
     ]
    },
    {
     "name": "stdout",
     "output_type": "stream",
     "text": [
      "[2025-06-24 14:06:28 INFO] Started export for OPENET_ENSEMBLE_012012_20240101_20240102_ET\n"
     ]
    },
    {
     "name": "stderr",
     "output_type": "stream",
     "text": [
      "\n",
      "\u001b[A\n",
      "\u001b[A\n",
      "\u001b[A"
     ]
    },
    {
     "name": "stdout",
     "output_type": "stream",
     "text": [
      "[2025-06-24 14:06:28 INFO] Started export for OPENET_ENSEMBLE_012013_20240101_20240102_ET\n"
     ]
    },
    {
     "name": "stderr",
     "output_type": "stream",
     "text": [
      "\n",
      "\u001b[A\n",
      "\u001b[A\n",
      "\u001b[A"
     ]
    },
    {
     "name": "stdout",
     "output_type": "stream",
     "text": [
      "[2025-06-24 14:06:29 INFO] Started export for OPENET_ENSEMBLE_012014_20240101_20240102_ET\n"
     ]
    },
    {
     "name": "stderr",
     "output_type": "stream",
     "text": [
      "\n",
      "\u001b[A\n",
      "\u001b[A\n",
      "\u001b[A"
     ]
    },
    {
     "name": "stdout",
     "output_type": "stream",
     "text": [
      "[2025-06-24 14:06:29 INFO] Started export for OPENET_ENSEMBLE_012015_20240101_20240102_ET\n"
     ]
    },
    {
     "name": "stderr",
     "output_type": "stream",
     "text": [
      "\n",
      "\u001b[A\n",
      "\u001b[A\n",
      "\u001b[A\n",
      "\u001b[A\n",
      "\u001b[A"
     ]
    },
    {
     "name": "stdout",
     "output_type": "stream",
     "text": [
      "[2025-06-24 14:06:30 INFO] Started export for OPENET_ENSEMBLE_009011_20240101_20240102_ET_MIN\n"
     ]
    },
    {
     "name": "stderr",
     "output_type": "stream",
     "text": [
      "\n",
      "\u001b[A\n",
      "\u001b[A\n",
      "\u001b[A"
     ]
    },
    {
     "name": "stdout",
     "output_type": "stream",
     "text": [
      "[2025-06-24 14:06:31 INFO] Started export for OPENET_ENSEMBLE_009012_20240101_20240102_ET_MIN\n"
     ]
    },
    {
     "name": "stderr",
     "output_type": "stream",
     "text": [
      "\n",
      "\u001b[A\n",
      "\u001b[A\n",
      "\u001b[A"
     ]
    },
    {
     "name": "stdout",
     "output_type": "stream",
     "text": [
      "[2025-06-24 14:06:31 INFO] Started export for OPENET_ENSEMBLE_009013_20240101_20240102_ET_MIN\n"
     ]
    },
    {
     "name": "stderr",
     "output_type": "stream",
     "text": [
      "\n",
      "\u001b[A\n",
      "\u001b[A\n",
      "\u001b[A"
     ]
    },
    {
     "name": "stdout",
     "output_type": "stream",
     "text": [
      "[2025-06-24 14:06:32 INFO] Started export for OPENET_ENSEMBLE_009014_20240101_20240102_ET_MIN\n"
     ]
    },
    {
     "name": "stderr",
     "output_type": "stream",
     "text": [
      "\n",
      "\u001b[A\n",
      "\u001b[A\n",
      "\u001b[A"
     ]
    },
    {
     "name": "stdout",
     "output_type": "stream",
     "text": [
      "[2025-06-24 14:06:32 INFO] Started export for OPENET_ENSEMBLE_009015_20240101_20240102_ET_MIN\n"
     ]
    },
    {
     "name": "stderr",
     "output_type": "stream",
     "text": [
      "\n",
      "\u001b[A\n",
      "\u001b[A\n",
      "\u001b[A"
     ]
    },
    {
     "name": "stdout",
     "output_type": "stream",
     "text": [
      "[2025-06-24 14:06:33 INFO] Started export for OPENET_ENSEMBLE_010011_20240101_20240102_ET_MIN\n"
     ]
    },
    {
     "name": "stderr",
     "output_type": "stream",
     "text": [
      "\n",
      "\u001b[A\n",
      "\u001b[A\n",
      "\u001b[A"
     ]
    },
    {
     "name": "stdout",
     "output_type": "stream",
     "text": [
      "[2025-06-24 14:06:34 INFO] Started export for OPENET_ENSEMBLE_010012_20240101_20240102_ET_MIN\n"
     ]
    },
    {
     "name": "stderr",
     "output_type": "stream",
     "text": [
      "\n",
      "\u001b[A\n",
      "\u001b[A\n",
      "\u001b[A"
     ]
    },
    {
     "name": "stdout",
     "output_type": "stream",
     "text": [
      "[2025-06-24 14:06:34 INFO] Started export for OPENET_ENSEMBLE_010013_20240101_20240102_ET_MIN\n"
     ]
    },
    {
     "name": "stderr",
     "output_type": "stream",
     "text": [
      "\n",
      "\u001b[A\n",
      "\u001b[A\n",
      "\u001b[A"
     ]
    },
    {
     "name": "stdout",
     "output_type": "stream",
     "text": [
      "[2025-06-24 14:06:35 INFO] Started export for OPENET_ENSEMBLE_010014_20240101_20240102_ET_MIN\n"
     ]
    },
    {
     "name": "stderr",
     "output_type": "stream",
     "text": [
      "\n",
      "\u001b[A\n",
      "\u001b[A\n",
      "\u001b[A"
     ]
    },
    {
     "name": "stdout",
     "output_type": "stream",
     "text": [
      "[2025-06-24 14:06:35 INFO] Started export for OPENET_ENSEMBLE_010015_20240101_20240102_ET_MIN\n"
     ]
    },
    {
     "name": "stderr",
     "output_type": "stream",
     "text": [
      "\n",
      "\u001b[A\n",
      "\u001b[A\n",
      "\u001b[A"
     ]
    },
    {
     "name": "stdout",
     "output_type": "stream",
     "text": [
      "[2025-06-24 14:06:36 INFO] Started export for OPENET_ENSEMBLE_011011_20240101_20240102_ET_MIN\n"
     ]
    },
    {
     "name": "stderr",
     "output_type": "stream",
     "text": [
      "\n",
      "\u001b[A\n",
      "\u001b[A\n",
      "\u001b[A"
     ]
    },
    {
     "name": "stdout",
     "output_type": "stream",
     "text": [
      "[2025-06-24 14:06:36 INFO] Started export for OPENET_ENSEMBLE_011012_20240101_20240102_ET_MIN\n"
     ]
    },
    {
     "name": "stderr",
     "output_type": "stream",
     "text": [
      "\n",
      "\u001b[A\n",
      "\u001b[A\n",
      "\u001b[A"
     ]
    },
    {
     "name": "stdout",
     "output_type": "stream",
     "text": [
      "[2025-06-24 14:06:37 INFO] Started export for OPENET_ENSEMBLE_011013_20240101_20240102_ET_MIN\n"
     ]
    },
    {
     "name": "stderr",
     "output_type": "stream",
     "text": [
      "\n",
      "\u001b[A\n",
      "\u001b[A\n",
      "\u001b[A"
     ]
    },
    {
     "name": "stdout",
     "output_type": "stream",
     "text": [
      "[2025-06-24 14:06:37 INFO] Started export for OPENET_ENSEMBLE_011014_20240101_20240102_ET_MIN\n"
     ]
    },
    {
     "name": "stderr",
     "output_type": "stream",
     "text": [
      "\n",
      "\u001b[A\n",
      "\u001b[A\n",
      "\u001b[A"
     ]
    },
    {
     "name": "stdout",
     "output_type": "stream",
     "text": [
      "[2025-06-24 14:06:38 INFO] Started export for OPENET_ENSEMBLE_011015_20240101_20240102_ET_MIN\n"
     ]
    },
    {
     "name": "stderr",
     "output_type": "stream",
     "text": [
      "\n",
      "\u001b[A\n",
      "\u001b[A\n",
      "\u001b[A"
     ]
    },
    {
     "name": "stdout",
     "output_type": "stream",
     "text": [
      "[2025-06-24 14:06:38 INFO] Started export for OPENET_ENSEMBLE_012011_20240101_20240102_ET_MIN\n"
     ]
    },
    {
     "name": "stderr",
     "output_type": "stream",
     "text": [
      "\n",
      "\u001b[A\n",
      "\u001b[A\n",
      "\u001b[A"
     ]
    },
    {
     "name": "stdout",
     "output_type": "stream",
     "text": [
      "[2025-06-24 14:06:39 INFO] Started export for OPENET_ENSEMBLE_012012_20240101_20240102_ET_MIN\n"
     ]
    },
    {
     "name": "stderr",
     "output_type": "stream",
     "text": [
      "\n",
      "\u001b[A\n",
      "\u001b[A\n",
      "\u001b[A"
     ]
    },
    {
     "name": "stdout",
     "output_type": "stream",
     "text": [
      "[2025-06-24 14:06:39 INFO] Started export for OPENET_ENSEMBLE_012013_20240101_20240102_ET_MIN\n"
     ]
    },
    {
     "name": "stderr",
     "output_type": "stream",
     "text": [
      "\n",
      "\u001b[A\n",
      "\u001b[A\n",
      "\u001b[A"
     ]
    },
    {
     "name": "stdout",
     "output_type": "stream",
     "text": [
      "[2025-06-24 14:06:40 INFO] Started export for OPENET_ENSEMBLE_012014_20240101_20240102_ET_MIN\n"
     ]
    },
    {
     "name": "stderr",
     "output_type": "stream",
     "text": [
      "\n",
      "\u001b[A\n",
      "\u001b[A\n",
      "\u001b[A"
     ]
    },
    {
     "name": "stdout",
     "output_type": "stream",
     "text": [
      "[2025-06-24 14:06:40 INFO] Started export for OPENET_ENSEMBLE_012015_20240101_20240102_ET_MIN\n"
     ]
    },
    {
     "name": "stderr",
     "output_type": "stream",
     "text": [
      "\n",
      "\u001b[A\n",
      "\u001b[A\n",
      "\u001b[A\n",
      "\u001b[A\n",
      "\u001b[A"
     ]
    },
    {
     "name": "stdout",
     "output_type": "stream",
     "text": [
      "[2025-06-24 14:06:41 INFO] Started export for OPENET_ENSEMBLE_009011_20240101_20240102_ET_MAX\n"
     ]
    },
    {
     "name": "stderr",
     "output_type": "stream",
     "text": [
      "\n",
      "\u001b[A\n",
      "\u001b[A\n",
      "\u001b[A"
     ]
    },
    {
     "name": "stdout",
     "output_type": "stream",
     "text": [
      "[2025-06-24 14:06:42 INFO] Started export for OPENET_ENSEMBLE_009012_20240101_20240102_ET_MAX\n"
     ]
    },
    {
     "name": "stderr",
     "output_type": "stream",
     "text": [
      "\n",
      "\u001b[A\n",
      "\u001b[A\n",
      "\u001b[A"
     ]
    },
    {
     "name": "stdout",
     "output_type": "stream",
     "text": [
      "[2025-06-24 14:06:43 INFO] Started export for OPENET_ENSEMBLE_009013_20240101_20240102_ET_MAX\n"
     ]
    },
    {
     "name": "stderr",
     "output_type": "stream",
     "text": [
      "\n",
      "\u001b[A\n",
      "\u001b[A\n",
      "\u001b[A"
     ]
    },
    {
     "name": "stdout",
     "output_type": "stream",
     "text": [
      "[2025-06-24 14:06:43 INFO] Started export for OPENET_ENSEMBLE_009014_20240101_20240102_ET_MAX\n"
     ]
    },
    {
     "name": "stderr",
     "output_type": "stream",
     "text": [
      "\n",
      "\u001b[A\n",
      "\u001b[A\n",
      "\u001b[A"
     ]
    },
    {
     "name": "stdout",
     "output_type": "stream",
     "text": [
      "[2025-06-24 14:06:44 INFO] Started export for OPENET_ENSEMBLE_009015_20240101_20240102_ET_MAX\n"
     ]
    },
    {
     "name": "stderr",
     "output_type": "stream",
     "text": [
      "\n",
      "\u001b[A\n",
      "\u001b[A\n",
      "\u001b[A"
     ]
    },
    {
     "name": "stdout",
     "output_type": "stream",
     "text": [
      "[2025-06-24 14:06:44 INFO] Started export for OPENET_ENSEMBLE_010011_20240101_20240102_ET_MAX\n"
     ]
    },
    {
     "name": "stderr",
     "output_type": "stream",
     "text": [
      "\n",
      "\u001b[A\n",
      "\u001b[A\n",
      "\u001b[A"
     ]
    },
    {
     "name": "stdout",
     "output_type": "stream",
     "text": [
      "[2025-06-24 14:06:45 INFO] Started export for OPENET_ENSEMBLE_010012_20240101_20240102_ET_MAX\n"
     ]
    },
    {
     "name": "stderr",
     "output_type": "stream",
     "text": [
      "\n",
      "\u001b[A\n",
      "\u001b[A\n",
      "\u001b[A"
     ]
    },
    {
     "name": "stdout",
     "output_type": "stream",
     "text": [
      "[2025-06-24 14:06:45 INFO] Started export for OPENET_ENSEMBLE_010013_20240101_20240102_ET_MAX\n"
     ]
    },
    {
     "name": "stderr",
     "output_type": "stream",
     "text": [
      "\n",
      "\u001b[A\n",
      "\u001b[A\n",
      "\u001b[A"
     ]
    },
    {
     "name": "stdout",
     "output_type": "stream",
     "text": [
      "[2025-06-24 14:06:45 INFO] Started export for OPENET_ENSEMBLE_010014_20240101_20240102_ET_MAX\n"
     ]
    },
    {
     "name": "stderr",
     "output_type": "stream",
     "text": [
      "\n",
      "\u001b[A\n",
      "\u001b[A\n",
      "\u001b[A"
     ]
    },
    {
     "name": "stdout",
     "output_type": "stream",
     "text": [
      "[2025-06-24 14:06:46 INFO] Started export for OPENET_ENSEMBLE_010015_20240101_20240102_ET_MAX\n"
     ]
    },
    {
     "name": "stderr",
     "output_type": "stream",
     "text": [
      "\n",
      "\u001b[A\n",
      "\u001b[A\n",
      "\u001b[A"
     ]
    },
    {
     "name": "stdout",
     "output_type": "stream",
     "text": [
      "[2025-06-24 14:06:46 INFO] Started export for OPENET_ENSEMBLE_011011_20240101_20240102_ET_MAX\n"
     ]
    },
    {
     "name": "stderr",
     "output_type": "stream",
     "text": [
      "\n",
      "\u001b[A\n",
      "\u001b[A\n",
      "\u001b[A"
     ]
    },
    {
     "name": "stdout",
     "output_type": "stream",
     "text": [
      "[2025-06-24 14:06:47 INFO] Started export for OPENET_ENSEMBLE_011012_20240101_20240102_ET_MAX\n"
     ]
    },
    {
     "name": "stderr",
     "output_type": "stream",
     "text": [
      "\n",
      "\u001b[A\n",
      "\u001b[A\n",
      "\u001b[A"
     ]
    },
    {
     "name": "stdout",
     "output_type": "stream",
     "text": [
      "[2025-06-24 14:06:47 INFO] Started export for OPENET_ENSEMBLE_011013_20240101_20240102_ET_MAX\n"
     ]
    },
    {
     "name": "stderr",
     "output_type": "stream",
     "text": [
      "\n",
      "\u001b[A\n",
      "\u001b[A\n",
      "\u001b[A"
     ]
    },
    {
     "name": "stdout",
     "output_type": "stream",
     "text": [
      "[2025-06-24 14:06:48 INFO] Started export for OPENET_ENSEMBLE_011014_20240101_20240102_ET_MAX\n"
     ]
    },
    {
     "name": "stderr",
     "output_type": "stream",
     "text": [
      "\n",
      "\u001b[A\n",
      "\u001b[A\n",
      "\u001b[A"
     ]
    },
    {
     "name": "stdout",
     "output_type": "stream",
     "text": [
      "[2025-06-24 14:06:48 INFO] Started export for OPENET_ENSEMBLE_011015_20240101_20240102_ET_MAX\n"
     ]
    },
    {
     "name": "stderr",
     "output_type": "stream",
     "text": [
      "\n",
      "\u001b[A\n",
      "\u001b[A\n",
      "\u001b[A"
     ]
    },
    {
     "name": "stdout",
     "output_type": "stream",
     "text": [
      "[2025-06-24 14:06:49 INFO] Started export for OPENET_ENSEMBLE_012011_20240101_20240102_ET_MAX\n"
     ]
    },
    {
     "name": "stderr",
     "output_type": "stream",
     "text": [
      "\n",
      "\u001b[A\n",
      "\u001b[A\n",
      "\u001b[A"
     ]
    },
    {
     "name": "stdout",
     "output_type": "stream",
     "text": [
      "[2025-06-24 14:06:49 INFO] Started export for OPENET_ENSEMBLE_012012_20240101_20240102_ET_MAX\n"
     ]
    },
    {
     "name": "stderr",
     "output_type": "stream",
     "text": [
      "\n",
      "\u001b[A\n",
      "\u001b[A\n",
      "\u001b[A"
     ]
    },
    {
     "name": "stdout",
     "output_type": "stream",
     "text": [
      "[2025-06-24 14:06:50 INFO] Started export for OPENET_ENSEMBLE_012013_20240101_20240102_ET_MAX\n"
     ]
    },
    {
     "name": "stderr",
     "output_type": "stream",
     "text": [
      "\n",
      "\u001b[A\n",
      "\u001b[A\n",
      "\u001b[A"
     ]
    },
    {
     "name": "stdout",
     "output_type": "stream",
     "text": [
      "[2025-06-24 14:06:50 INFO] Started export for OPENET_ENSEMBLE_012014_20240101_20240102_ET_MAX\n"
     ]
    },
    {
     "name": "stderr",
     "output_type": "stream",
     "text": [
      "\n",
      "\u001b[A\n",
      "\u001b[A\n",
      "\u001b[A"
     ]
    },
    {
     "name": "stdout",
     "output_type": "stream",
     "text": [
      "[2025-06-24 14:06:51 INFO] Started export for OPENET_ENSEMBLE_012015_20240101_20240102_ET_MAX\n"
     ]
    },
    {
     "name": "stderr",
     "output_type": "stream",
     "text": [
      "\n",
      "\u001b[A\n",
      "                                                                          \r"
     ]
    }
   ],
   "source": [
    "pipeline.generate_tiles_for_date_range(\"2024-01-01\", \"2024-02-01\")"
   ]
  },
  {
   "cell_type": "code",
   "execution_count": null,
   "metadata": {},
   "outputs": [],
   "source": [
    "pipeline.transfer_gdrive_to_aws(delete_from_local=True)"
   ]
  },
  {
   "cell_type": "code",
   "execution_count": null,
   "metadata": {},
   "outputs": [
    {
     "data": {
      "text/html": [
       "\n",
       "            <style>\n",
       "                .geemap-dark {\n",
       "                    --jp-widgets-color: white;\n",
       "                    --jp-widgets-label-color: white;\n",
       "                    --jp-ui-font-color1: white;\n",
       "                    --jp-layout-color2: #454545;\n",
       "                    background-color: #383838;\n",
       "                }\n",
       "\n",
       "                .geemap-dark .jupyter-button {\n",
       "                    --jp-layout-color3: #383838;\n",
       "                }\n",
       "\n",
       "                .geemap-colab {\n",
       "                    background-color: var(--colab-primary-surface-color, white);\n",
       "                }\n",
       "\n",
       "                .geemap-colab .jupyter-button {\n",
       "                    --jp-layout-color3: var(--colab-primary-surface-color, white);\n",
       "                }\n",
       "            </style>\n",
       "            "
      ],
      "text/plain": [
       "<IPython.core.display.HTML object>"
      ]
     },
     "metadata": {},
     "output_type": "display_data"
    },
    {
     "name": "stdout",
     "output_type": "stream",
     "text": [
      "[2025-07-15 08:59:31 INFO] loading credentials: /Users/rstonebr/Documents/Programming/Water-Rights-Visualizer/pipelines/google_drive_new_key.txt\n",
      "Your browser has been opened to visit:\n",
      "\n",
      "    https://accounts.google.com/o/oauth2/auth?client_id=411384710488-dmha70sff1hi5j9huejtv98bm5372q1h.apps.googleusercontent.com&redirect_uri=http%3A%2F%2Flocalhost%3A8080%2F&scope=https%3A%2F%2Fwww.googleapis.com%2Fauth%2Fdrive&access_type=offline&response_type=code&approval_prompt=force\n",
      "\n",
      "[2025-07-15 08:59:35 INFO] Successfully retrieved access token\n",
      "Authentication successful.\n",
      "[2025-07-15 08:59:35 INFO] saving credentials: /Users/rstonebr/Documents/Programming/Water-Rights-Visualizer/pipelines/google_drive_new_key.txt\n",
      "[2025-07-15 08:59:35 INFO] Found credentials in shared credentials file: ~/.aws/credentials\n"
     ]
    }
   ],
   "source": [
    "# GRIDMET Data Pipeline\n",
    "gridmet_pipeline = GEEAWSDataPipeline(\n",
    "    bands=[\"eto\"],\n",
    "    product=\"IDAHO_EPSCOR/GRIDMET\",\n",
    "    product_prefix=\"IDAHO_EPSCOR_GRIDMET\",\n",
    "    tile_ids=[],\n",
    "    aws_bucket=\"ose-dev-inputs\",\n",
    "    aws_region=\"us-west-2\",\n",
    "    aws_profile=\"ose-nmw\",\n",
    "    gdrive_folder=\"OPENET_EXPORTS\",\n",
    "    temp_local_folder=\"temp_data\",\n",
    "    project=\"zippy-pad-465521-e2\",\n",
    "    gdrive_client_secrets_filename=secret_path,\n",
    "    gdrive_key_filename=key_path,\n",
    "    monthly_sum=True,\n",
    ")"
   ]
  },
  {
   "cell_type": "code",
   "execution_count": 9,
   "metadata": {},
   "outputs": [
    {
     "data": {
      "text/html": [
       "\n",
       "            <style>\n",
       "                .geemap-dark {\n",
       "                    --jp-widgets-color: white;\n",
       "                    --jp-widgets-label-color: white;\n",
       "                    --jp-ui-font-color1: white;\n",
       "                    --jp-layout-color2: #454545;\n",
       "                    background-color: #383838;\n",
       "                }\n",
       "\n",
       "                .geemap-dark .jupyter-button {\n",
       "                    --jp-layout-color3: #383838;\n",
       "                }\n",
       "\n",
       "                .geemap-colab {\n",
       "                    background-color: var(--colab-primary-surface-color, white);\n",
       "                }\n",
       "\n",
       "                .geemap-colab .jupyter-button {\n",
       "                    --jp-layout-color3: var(--colab-primary-surface-color, white);\n",
       "                }\n",
       "            </style>\n",
       "            "
      ],
      "text/plain": [
       "<IPython.core.display.HTML object>"
      ]
     },
     "metadata": {},
     "output_type": "display_data"
    },
    {
     "data": {
      "application/vnd.jupyter.widget-view+json": {
       "model_id": "bb3705dea5ca4c69b21136453fcdfcdd",
       "version_major": 2,
       "version_minor": 0
      },
      "text/plain": [
       "Processing bands:   0%|          | 0/1 [00:00<?, ?it/s]"
      ]
     },
     "metadata": {},
     "output_type": "display_data"
    },
    {
     "name": "stdout",
     "output_type": "stream",
     "text": [
      "[2025-07-15 08:59:42 INFO] Summing up 31 images in the collection for the month: 2024-01-01\n"
     ]
    },
    {
     "data": {
      "application/vnd.jupyter.widget-view+json": {
       "model_id": "0065f93c15434c1ea33119a8ad62c003",
       "version_major": 2,
       "version_minor": 0
      },
      "text/plain": [
       "Processing tiles:   0%|          | 0/20 [00:00<?, ?it/s]"
      ]
     },
     "metadata": {},
     "output_type": "display_data"
    },
    {
     "name": "stdout",
     "output_type": "stream",
     "text": [
      "[2025-07-15 08:59:43 INFO] Added IDAHO_EPSCOR_GRIDMET_009011_20240101_20240102_ETO to map\n",
      "[2025-07-15 08:59:44 INFO] Added IDAHO_EPSCOR_GRIDMET_009012_20240101_20240102_ETO to map\n"
     ]
    },
    {
     "data": {
      "application/vnd.jupyter.widget-view+json": {
       "model_id": "91746fc9762b47f0a28b2c2e070e8b29",
       "version_major": 2,
       "version_minor": 0
      },
      "text/plain": [
       "Map(center=[0, 0], controls=(WidgetControl(options=['position', 'transparent_bg'], widget=SearchDataGUI(childr…"
      ]
     },
     "execution_count": 9,
     "metadata": {},
     "output_type": "execute_result"
    }
   ],
   "source": [
    "gridmet_pipeline.generate_tiles_for_month(\"2024-01-01\", export=False, visualize=True, limit=2)"
   ]
  },
  {
   "cell_type": "markdown",
   "metadata": {},
   "source": [
    "## Download PRISM data"
   ]
  },
  {
   "cell_type": "code",
   "execution_count": 16,
   "metadata": {},
   "outputs": [
    {
     "data": {
      "text/html": [
       "\n",
       "            <style>\n",
       "                .geemap-dark {\n",
       "                    --jp-widgets-color: white;\n",
       "                    --jp-widgets-label-color: white;\n",
       "                    --jp-ui-font-color1: white;\n",
       "                    --jp-layout-color2: #454545;\n",
       "                    background-color: #383838;\n",
       "                }\n",
       "\n",
       "                .geemap-dark .jupyter-button {\n",
       "                    --jp-layout-color3: #383838;\n",
       "                }\n",
       "\n",
       "                .geemap-colab {\n",
       "                    background-color: var(--colab-primary-surface-color, white);\n",
       "                }\n",
       "\n",
       "                .geemap-colab .jupyter-button {\n",
       "                    --jp-layout-color3: var(--colab-primary-surface-color, white);\n",
       "                }\n",
       "            </style>\n",
       "            "
      ],
      "text/plain": [
       "<IPython.core.display.HTML object>"
      ]
     },
     "metadata": {},
     "output_type": "display_data"
    },
    {
     "name": "stdout",
     "output_type": "stream",
     "text": [
      "[2025-06-25 15:05:16 INFO] Found credentials in shared credentials file: ~/.aws/credentials\n"
     ]
    }
   ],
   "source": [
    "prism_pipeline = PrismAWSDataPipeline(\n",
    "    aws_bucket=\"ose-dev-inputs\",\n",
    "    aws_region=\"us-west-2\",\n",
    "    aws_profile=\"ose-nmw\",\n",
    "    raw_dir=\"prism_data\",\n",
    "    monthly_dir=\"prism_data_monthly\",\n",
    "    output_dir=\"prism_tiles\",\n",
    "    allow_provisional=True,\n",
    ")"
   ]
  },
  {
   "cell_type": "code",
   "execution_count": 18,
   "metadata": {},
   "outputs": [
    {
     "data": {
      "text/html": [
       "\n",
       "            <style>\n",
       "                .geemap-dark {\n",
       "                    --jp-widgets-color: white;\n",
       "                    --jp-widgets-label-color: white;\n",
       "                    --jp-ui-font-color1: white;\n",
       "                    --jp-layout-color2: #454545;\n",
       "                    background-color: #383838;\n",
       "                }\n",
       "\n",
       "                .geemap-dark .jupyter-button {\n",
       "                    --jp-layout-color3: #383838;\n",
       "                }\n",
       "\n",
       "                .geemap-colab {\n",
       "                    background-color: var(--colab-primary-surface-color, white);\n",
       "                }\n",
       "\n",
       "                .geemap-colab .jupyter-button {\n",
       "                    --jp-layout-color3: var(--colab-primary-surface-color, white);\n",
       "                }\n",
       "            </style>\n",
       "            "
      ],
      "text/plain": [
       "<IPython.core.display.HTML object>"
      ]
     },
     "metadata": {},
     "output_type": "display_data"
    },
    {
     "name": "stdout",
     "output_type": "stream",
     "text": [
      "[2025-06-25 15:06:59 INFO] Downloading PRISM_ppt_stable_4kmM3_2024_all_bil.zip...\n"
     ]
    },
    {
     "name": "stderr",
     "output_type": "stream",
     "text": [
      "Downloading PRISM_ppt_stable_4kmM3_202401_bil.zip: 100%|██████████| 2.06M/2.06M [00:00<00:00, 8.73MB/s]"
     ]
    },
    {
     "name": "stdout",
     "output_type": "stream",
     "text": [
      "[2025-06-25 15:06:59 INFO] Extracted PRISM_ppt_stable_4kmM3_202401_bil.bil to prism_data/2024/202401\n",
      "[2025-06-25 15:06:59 INFO] Extracted PRISM_ppt_stable_4kmM3_202401_bil.hdr to prism_data/2024/202401\n"
     ]
    },
    {
     "name": "stderr",
     "output_type": "stream",
     "text": [
      "\n",
      "Downloading PRISM_ppt_stable_4kmM3_202402_bil.zip: 100%|██████████| 2.12M/2.12M [00:00<00:00, 7.24MB/s]\n"
     ]
    },
    {
     "name": "stdout",
     "output_type": "stream",
     "text": [
      "[2025-06-25 15:07:00 INFO] Extracted PRISM_ppt_stable_4kmM3_202402_bil.bil to prism_data/2024/202402\n",
      "[2025-06-25 15:07:00 INFO] Extracted PRISM_ppt_stable_4kmM3_202402_bil.hdr to prism_data/2024/202402\n"
     ]
    },
    {
     "name": "stderr",
     "output_type": "stream",
     "text": [
      "Downloading PRISM_ppt_stable_4kmM3_202403_bil.zip: 100%|██████████| 2.13M/2.13M [00:00<00:00, 3.64MB/s]"
     ]
    },
    {
     "name": "stdout",
     "output_type": "stream",
     "text": [
      "[2025-06-25 15:07:01 INFO] Extracted PRISM_ppt_stable_4kmM3_202403_bil.bil to prism_data/2024/202403\n",
      "[2025-06-25 15:07:01 INFO] Extracted PRISM_ppt_stable_4kmM3_202403_bil.hdr to prism_data/2024/202403\n"
     ]
    },
    {
     "name": "stderr",
     "output_type": "stream",
     "text": [
      "\n",
      "Downloading PRISM_ppt_stable_4kmM3_202404_bil.zip: 100%|██████████| 2.16M/2.16M [00:00<00:00, 3.41MB/s]"
     ]
    },
    {
     "name": "stdout",
     "output_type": "stream",
     "text": [
      "[2025-06-25 15:07:03 INFO] Extracted PRISM_ppt_stable_4kmM3_202404_bil.bil to prism_data/2024/202404\n",
      "[2025-06-25 15:07:03 INFO] Extracted PRISM_ppt_stable_4kmM3_202404_bil.hdr to prism_data/2024/202404\n"
     ]
    },
    {
     "name": "stderr",
     "output_type": "stream",
     "text": [
      "\n",
      "Downloading PRISM_ppt_stable_4kmM3_202405_bil.zip: 100%|██████████| 2.14M/2.14M [00:01<00:00, 2.22MB/s]"
     ]
    },
    {
     "name": "stdout",
     "output_type": "stream",
     "text": [
      "[2025-06-25 15:07:04 INFO] Extracted PRISM_ppt_stable_4kmM3_202405_bil.bil to prism_data/2024/202405\n",
      "[2025-06-25 15:07:04 INFO] Extracted PRISM_ppt_stable_4kmM3_202405_bil.hdr to prism_data/2024/202405\n"
     ]
    },
    {
     "name": "stderr",
     "output_type": "stream",
     "text": [
      "\n",
      "Downloading PRISM_ppt_stable_4kmM3_202406_bil.zip: 100%|██████████| 2.14M/2.14M [00:00<00:00, 3.57MB/s]"
     ]
    },
    {
     "name": "stdout",
     "output_type": "stream",
     "text": [
      "[2025-06-25 15:07:05 INFO] Extracted PRISM_ppt_stable_4kmM3_202406_bil.bil to prism_data/2024/202406\n",
      "[2025-06-25 15:07:05 INFO] Extracted PRISM_ppt_stable_4kmM3_202406_bil.hdr to prism_data/2024/202406\n"
     ]
    },
    {
     "name": "stderr",
     "output_type": "stream",
     "text": [
      "\n",
      "Downloading PRISM_ppt_stable_4kmM3_202407_bil.zip: 100%|██████████| 2.18M/2.18M [00:00<00:00, 9.16MB/s]"
     ]
    },
    {
     "name": "stdout",
     "output_type": "stream",
     "text": [
      "[2025-06-25 15:07:06 INFO] Extracted PRISM_ppt_stable_4kmM3_202407_bil.bil to prism_data/2024/202407\n",
      "[2025-06-25 15:07:06 INFO] Extracted PRISM_ppt_stable_4kmM3_202407_bil.hdr to prism_data/2024/202407\n"
     ]
    },
    {
     "name": "stderr",
     "output_type": "stream",
     "text": [
      "\n",
      "Downloading PRISM_ppt_stable_4kmM3_202408_bil.zip: 100%|██████████| 2.17M/2.17M [00:00<00:00, 9.20MB/s]"
     ]
    },
    {
     "name": "stdout",
     "output_type": "stream",
     "text": [
      "[2025-06-25 15:07:07 INFO] Extracted PRISM_ppt_stable_4kmM3_202408_bil.bil to prism_data/2024/202408\n",
      "[2025-06-25 15:07:07 INFO] Extracted PRISM_ppt_stable_4kmM3_202408_bil.hdr to prism_data/2024/202408\n"
     ]
    },
    {
     "name": "stderr",
     "output_type": "stream",
     "text": [
      "\n",
      "Downloading PRISM_ppt_stable_4kmM3_202409_bil.zip: 100%|██████████| 2.19M/2.19M [00:00<00:00, 9.39MB/s]"
     ]
    },
    {
     "name": "stdout",
     "output_type": "stream",
     "text": [
      "[2025-06-25 15:07:07 INFO] Extracted PRISM_ppt_stable_4kmM3_202409_bil.bil to prism_data/2024/202409\n",
      "[2025-06-25 15:07:07 INFO] Extracted PRISM_ppt_stable_4kmM3_202409_bil.hdr to prism_data/2024/202409\n"
     ]
    },
    {
     "name": "stderr",
     "output_type": "stream",
     "text": [
      "\n",
      "Downloading PRISM_ppt_stable_4kmM3_202410_bil.zip: 100%|██████████| 2.06M/2.06M [00:00<00:00, 9.90MB/s]"
     ]
    },
    {
     "name": "stdout",
     "output_type": "stream",
     "text": [
      "[2025-06-25 15:07:08 INFO] Extracted PRISM_ppt_stable_4kmM3_202410_bil.bil to prism_data/2024/202410\n",
      "[2025-06-25 15:07:08 INFO] Extracted PRISM_ppt_stable_4kmM3_202410_bil.hdr to prism_data/2024/202410\n"
     ]
    },
    {
     "name": "stderr",
     "output_type": "stream",
     "text": [
      "\n",
      "Downloading PRISM_ppt_stable_4kmM3_202411_bil.zip: 100%|██████████| 2.12M/2.12M [00:00<00:00, 9.09MB/s]"
     ]
    },
    {
     "name": "stdout",
     "output_type": "stream",
     "text": [
      "[2025-06-25 15:07:08 INFO] Extracted PRISM_ppt_stable_4kmM3_202411_bil.bil to prism_data/2024/202411\n",
      "[2025-06-25 15:07:08 INFO] Extracted PRISM_ppt_stable_4kmM3_202411_bil.hdr to prism_data/2024/202411\n"
     ]
    },
    {
     "name": "stderr",
     "output_type": "stream",
     "text": [
      "\n"
     ]
    },
    {
     "name": "stdout",
     "output_type": "stream",
     "text": [
      "\u001b[31m[2025-06-25 15:07:09 ERROR] Failed to download https://ftp.prism.oregonstate.edu/monthly/ppt/2024/PRISM_ppt_stable_4kmM3_202412_bil.zip - HTTP Status Code: 404\u001b[0m\n"
     ]
    },
    {
     "name": "stderr",
     "output_type": "stream",
     "text": [
      "Downloading PRISM_ppt_provisional_4kmM3_202412_bil.zip: 100%|██████████| 2.00M/2.00M [00:00<00:00, 8.23MB/s]"
     ]
    },
    {
     "name": "stdout",
     "output_type": "stream",
     "text": [
      "[2025-06-25 15:07:09 INFO] Extracted PRISM_ppt_provisional_4kmM3_202412_bil.bil to prism_data/2024/202412\n",
      "[2025-06-25 15:07:09 INFO] Extracted PRISM_ppt_provisional_4kmM3_202412_bil.hdr to prism_data/2024/202412\n"
     ]
    },
    {
     "name": "stderr",
     "output_type": "stream",
     "text": [
      "\n"
     ]
    },
    {
     "name": "stdout",
     "output_type": "stream",
     "text": [
      "[2025-06-25 15:07:09 INFO] Processing year 2024...\n",
      "[2025-06-25 15:07:09 INFO] Skipping prism_data/2024/202402/PRISM_ppt_stable_4kmM3_202402_bil.hdr - already exists\n",
      "[2025-06-25 15:07:09 INFO] Skipping prism_data/2024/202402/PRISM_ppt_stable_4kmM3_202402_bil.bil - already exists\n",
      "[2025-06-25 15:07:09 INFO] Skipping prism_data/2024/202405/PRISM_ppt_stable_4kmM3_202405_bil.bil - already exists\n",
      "[2025-06-25 15:07:09 INFO] Skipping prism_data/2024/202405/PRISM_ppt_stable_4kmM3_202405_bil.hdr - already exists\n",
      "[2025-06-25 15:07:09 INFO] Skipping prism_data/2024/202404/PRISM_ppt_stable_4kmM3_202404_bil.bil - already exists\n",
      "[2025-06-25 15:07:09 INFO] Skipping prism_data/2024/202404/PRISM_ppt_stable_4kmM3_202404_bil.hdr - already exists\n",
      "[2025-06-25 15:07:09 INFO] Skipping prism_data/2024/202403/PRISM_ppt_stable_4kmM3_202403_bil.hdr - already exists\n",
      "[2025-06-25 15:07:09 INFO] Skipping prism_data/2024/202403/PRISM_ppt_stable_4kmM3_202403_bil.bil - already exists\n",
      "[2025-06-25 15:07:09 INFO] Skipping prism_data/2024/202410/PRISM_ppt_stable_4kmM3_202410_bil.hdr - already exists\n",
      "[2025-06-25 15:07:09 INFO] Skipping prism_data/2024/202410/PRISM_ppt_stable_4kmM3_202410_bil.bil - already exists\n",
      "[2025-06-25 15:07:09 INFO] Skipping prism_data/2024/202411/PRISM_ppt_stable_4kmM3_202411_bil.hdr - already exists\n",
      "[2025-06-25 15:07:09 INFO] Skipping prism_data/2024/202411/PRISM_ppt_stable_4kmM3_202411_bil.bil - already exists\n",
      "[2025-06-25 15:07:09 INFO] Skipping prism_data/2024/202408/PRISM_ppt_stable_4kmM3_202408_bil.hdr - already exists\n",
      "[2025-06-25 15:07:09 INFO] Skipping prism_data/2024/202408/PRISM_ppt_stable_4kmM3_202408_bil.bil - already exists\n",
      "[2025-06-25 15:07:09 INFO] Skipping prism_data/2024/202406/PRISM_ppt_stable_4kmM3_202406_bil.bil - already exists\n",
      "[2025-06-25 15:07:09 INFO] Skipping prism_data/2024/202406/PRISM_ppt_stable_4kmM3_202406_bil.hdr - already exists\n",
      "[2025-06-25 15:07:09 INFO] Skipping prism_data/2024/202401/PRISM_ppt_stable_4kmM3_202401_bil.hdr - already exists\n",
      "[2025-06-25 15:07:09 INFO] Skipping prism_data/2024/202401/PRISM_ppt_stable_4kmM3_202401_bil.bil - already exists\n",
      "[2025-06-25 15:07:09 INFO] Skipping prism_data/2024/202407/PRISM_ppt_stable_4kmM3_202407_bil.bil - already exists\n",
      "[2025-06-25 15:07:09 INFO] Skipping prism_data/2024/202407/PRISM_ppt_stable_4kmM3_202407_bil.hdr - already exists\n",
      "[2025-06-25 15:07:09 INFO] Skipping prism_data/2024/202409/PRISM_ppt_stable_4kmM3_202409_bil.hdr - already exists\n",
      "[2025-06-25 15:07:09 INFO] Skipping prism_data/2024/202409/PRISM_ppt_stable_4kmM3_202409_bil.bil - already exists\n",
      "[2025-06-25 15:07:09 INFO] Copied prism_data/2024/202412/PRISM_ppt_provisional_4kmM3_202412_bil.bil to prism_data_monthly/PRISM_ppt_provisional_4kmM3_202412_bil.bil\n",
      "[2025-06-25 15:07:09 INFO] Copied prism_data/2024/202412/PRISM_ppt_provisional_4kmM3_202412_bil.hdr to prism_data_monthly/PRISM_ppt_provisional_4kmM3_202412_bil.hdr\n",
      "[2025-06-25 15:07:09 INFO] Processing PRISM_ppt_stable_4kmM3_202406_bil.bil...\n",
      "[2025-06-25 15:07:09 INFO] Saved tile OREGON_STATE_PRISM_009011_20240601_20240701_PPT.tif\n",
      "[2025-06-25 15:07:09 INFO] Saved tile OREGON_STATE_PRISM_009012_20240601_20240701_PPT.tif\n",
      "[2025-06-25 15:07:09 INFO] Saved tile OREGON_STATE_PRISM_009013_20240601_20240701_PPT.tif\n",
      "[2025-06-25 15:07:09 INFO] Saved tile OREGON_STATE_PRISM_009014_20240601_20240701_PPT.tif\n",
      "[2025-06-25 15:07:09 INFO] Saved tile OREGON_STATE_PRISM_009015_20240601_20240701_PPT.tif\n",
      "[2025-06-25 15:07:09 INFO] Saved tile OREGON_STATE_PRISM_010011_20240601_20240701_PPT.tif\n",
      "[2025-06-25 15:07:09 INFO] Saved tile OREGON_STATE_PRISM_010012_20240601_20240701_PPT.tif\n",
      "[2025-06-25 15:07:09 INFO] Saved tile OREGON_STATE_PRISM_010013_20240601_20240701_PPT.tif\n",
      "[2025-06-25 15:07:09 INFO] Saved tile OREGON_STATE_PRISM_010014_20240601_20240701_PPT.tif\n",
      "[2025-06-25 15:07:09 INFO] Saved tile OREGON_STATE_PRISM_010015_20240601_20240701_PPT.tif\n",
      "[2025-06-25 15:07:09 INFO] Saved tile OREGON_STATE_PRISM_011011_20240601_20240701_PPT.tif\n",
      "[2025-06-25 15:07:09 INFO] Saved tile OREGON_STATE_PRISM_011012_20240601_20240701_PPT.tif\n",
      "[2025-06-25 15:07:09 INFO] Saved tile OREGON_STATE_PRISM_011013_20240601_20240701_PPT.tif\n",
      "[2025-06-25 15:07:09 INFO] Saved tile OREGON_STATE_PRISM_011014_20240601_20240701_PPT.tif\n",
      "[2025-06-25 15:07:09 INFO] Saved tile OREGON_STATE_PRISM_011015_20240601_20240701_PPT.tif\n",
      "[2025-06-25 15:07:09 INFO] Saved tile OREGON_STATE_PRISM_012011_20240601_20240701_PPT.tif\n",
      "[2025-06-25 15:07:09 INFO] Saved tile OREGON_STATE_PRISM_012012_20240601_20240701_PPT.tif\n",
      "[2025-06-25 15:07:09 INFO] Saved tile OREGON_STATE_PRISM_012013_20240601_20240701_PPT.tif\n",
      "[2025-06-25 15:07:09 INFO] Saved tile OREGON_STATE_PRISM_012014_20240601_20240701_PPT.tif\n",
      "[2025-06-25 15:07:09 INFO] Saved tile OREGON_STATE_PRISM_012015_20240601_20240701_PPT.tif\n",
      "[2025-06-25 15:07:09 INFO] Processing PRISM_ppt_stable_4kmM3_202407_bil.bil...\n",
      "[2025-06-25 15:07:09 INFO] Saved tile OREGON_STATE_PRISM_009011_20240701_20240801_PPT.tif\n",
      "[2025-06-25 15:07:09 INFO] Saved tile OREGON_STATE_PRISM_009012_20240701_20240801_PPT.tif\n",
      "[2025-06-25 15:07:09 INFO] Saved tile OREGON_STATE_PRISM_009013_20240701_20240801_PPT.tif\n",
      "[2025-06-25 15:07:09 INFO] Saved tile OREGON_STATE_PRISM_009014_20240701_20240801_PPT.tif\n",
      "[2025-06-25 15:07:09 INFO] Saved tile OREGON_STATE_PRISM_009015_20240701_20240801_PPT.tif\n",
      "[2025-06-25 15:07:09 INFO] Saved tile OREGON_STATE_PRISM_010011_20240701_20240801_PPT.tif\n",
      "[2025-06-25 15:07:09 INFO] Saved tile OREGON_STATE_PRISM_010012_20240701_20240801_PPT.tif\n",
      "[2025-06-25 15:07:09 INFO] Saved tile OREGON_STATE_PRISM_010013_20240701_20240801_PPT.tif\n",
      "[2025-06-25 15:07:09 INFO] Saved tile OREGON_STATE_PRISM_010014_20240701_20240801_PPT.tif\n",
      "[2025-06-25 15:07:09 INFO] Saved tile OREGON_STATE_PRISM_010015_20240701_20240801_PPT.tif\n",
      "[2025-06-25 15:07:09 INFO] Saved tile OREGON_STATE_PRISM_011011_20240701_20240801_PPT.tif\n",
      "[2025-06-25 15:07:09 INFO] Saved tile OREGON_STATE_PRISM_011012_20240701_20240801_PPT.tif\n",
      "[2025-06-25 15:07:09 INFO] Saved tile OREGON_STATE_PRISM_011013_20240701_20240801_PPT.tif\n",
      "[2025-06-25 15:07:09 INFO] Saved tile OREGON_STATE_PRISM_011014_20240701_20240801_PPT.tif\n",
      "[2025-06-25 15:07:09 INFO] Saved tile OREGON_STATE_PRISM_011015_20240701_20240801_PPT.tif\n",
      "[2025-06-25 15:07:09 INFO] Saved tile OREGON_STATE_PRISM_012011_20240701_20240801_PPT.tif\n",
      "[2025-06-25 15:07:09 INFO] Saved tile OREGON_STATE_PRISM_012012_20240701_20240801_PPT.tif\n",
      "[2025-06-25 15:07:09 INFO] Saved tile OREGON_STATE_PRISM_012013_20240701_20240801_PPT.tif\n",
      "[2025-06-25 15:07:09 INFO] Saved tile OREGON_STATE_PRISM_012014_20240701_20240801_PPT.tif\n",
      "[2025-06-25 15:07:09 INFO] Saved tile OREGON_STATE_PRISM_012015_20240701_20240801_PPT.tif\n",
      "[2025-06-25 15:07:09 INFO] Processing PRISM_ppt_stable_4kmM3_202405_bil.bil...\n",
      "[2025-06-25 15:07:09 INFO] Saved tile OREGON_STATE_PRISM_009011_20240501_20240601_PPT.tif\n",
      "[2025-06-25 15:07:09 INFO] Saved tile OREGON_STATE_PRISM_009012_20240501_20240601_PPT.tif\n",
      "[2025-06-25 15:07:09 INFO] Saved tile OREGON_STATE_PRISM_009013_20240501_20240601_PPT.tif\n",
      "[2025-06-25 15:07:09 INFO] Saved tile OREGON_STATE_PRISM_009014_20240501_20240601_PPT.tif\n",
      "[2025-06-25 15:07:10 INFO] Saved tile OREGON_STATE_PRISM_009015_20240501_20240601_PPT.tif\n",
      "[2025-06-25 15:07:10 INFO] Saved tile OREGON_STATE_PRISM_010011_20240501_20240601_PPT.tif\n",
      "[2025-06-25 15:07:10 INFO] Saved tile OREGON_STATE_PRISM_010012_20240501_20240601_PPT.tif\n",
      "[2025-06-25 15:07:10 INFO] Saved tile OREGON_STATE_PRISM_010013_20240501_20240601_PPT.tif\n",
      "[2025-06-25 15:07:10 INFO] Saved tile OREGON_STATE_PRISM_010014_20240501_20240601_PPT.tif\n",
      "[2025-06-25 15:07:10 INFO] Saved tile OREGON_STATE_PRISM_010015_20240501_20240601_PPT.tif\n",
      "[2025-06-25 15:07:10 INFO] Saved tile OREGON_STATE_PRISM_011011_20240501_20240601_PPT.tif\n",
      "[2025-06-25 15:07:10 INFO] Saved tile OREGON_STATE_PRISM_011012_20240501_20240601_PPT.tif\n",
      "[2025-06-25 15:07:10 INFO] Saved tile OREGON_STATE_PRISM_011013_20240501_20240601_PPT.tif\n",
      "[2025-06-25 15:07:10 INFO] Saved tile OREGON_STATE_PRISM_011014_20240501_20240601_PPT.tif\n",
      "[2025-06-25 15:07:10 INFO] Saved tile OREGON_STATE_PRISM_011015_20240501_20240601_PPT.tif\n",
      "[2025-06-25 15:07:10 INFO] Saved tile OREGON_STATE_PRISM_012011_20240501_20240601_PPT.tif\n",
      "[2025-06-25 15:07:10 INFO] Saved tile OREGON_STATE_PRISM_012012_20240501_20240601_PPT.tif\n",
      "[2025-06-25 15:07:10 INFO] Saved tile OREGON_STATE_PRISM_012013_20240501_20240601_PPT.tif\n",
      "[2025-06-25 15:07:10 INFO] Saved tile OREGON_STATE_PRISM_012014_20240501_20240601_PPT.tif\n",
      "[2025-06-25 15:07:10 INFO] Saved tile OREGON_STATE_PRISM_012015_20240501_20240601_PPT.tif\n",
      "[2025-06-25 15:07:10 INFO] Processing PRISM_ppt_provisional_4kmM3_202412_bil.bil...\n",
      "[2025-06-25 15:07:10 INFO] Saved tile OREGON_STATE_PRISM_009011_20241201_20250101_PPT.tif\n",
      "[2025-06-25 15:07:10 INFO] Saved tile OREGON_STATE_PRISM_009012_20241201_20250101_PPT.tif\n",
      "[2025-06-25 15:07:10 INFO] Saved tile OREGON_STATE_PRISM_009013_20241201_20250101_PPT.tif\n",
      "[2025-06-25 15:07:10 INFO] Saved tile OREGON_STATE_PRISM_009014_20241201_20250101_PPT.tif\n",
      "[2025-06-25 15:07:10 INFO] Saved tile OREGON_STATE_PRISM_009015_20241201_20250101_PPT.tif\n",
      "[2025-06-25 15:07:10 INFO] Saved tile OREGON_STATE_PRISM_010011_20241201_20250101_PPT.tif\n",
      "[2025-06-25 15:07:10 INFO] Saved tile OREGON_STATE_PRISM_010012_20241201_20250101_PPT.tif\n",
      "[2025-06-25 15:07:10 INFO] Saved tile OREGON_STATE_PRISM_010013_20241201_20250101_PPT.tif\n",
      "[2025-06-25 15:07:10 INFO] Saved tile OREGON_STATE_PRISM_010014_20241201_20250101_PPT.tif\n",
      "[2025-06-25 15:07:10 INFO] Saved tile OREGON_STATE_PRISM_010015_20241201_20250101_PPT.tif\n",
      "[2025-06-25 15:07:10 INFO] Saved tile OREGON_STATE_PRISM_011011_20241201_20250101_PPT.tif\n",
      "[2025-06-25 15:07:10 INFO] Saved tile OREGON_STATE_PRISM_011012_20241201_20250101_PPT.tif\n",
      "[2025-06-25 15:07:10 INFO] Saved tile OREGON_STATE_PRISM_011013_20241201_20250101_PPT.tif\n",
      "[2025-06-25 15:07:10 INFO] Saved tile OREGON_STATE_PRISM_011014_20241201_20250101_PPT.tif\n",
      "[2025-06-25 15:07:10 INFO] Saved tile OREGON_STATE_PRISM_011015_20241201_20250101_PPT.tif\n",
      "[2025-06-25 15:07:10 INFO] Saved tile OREGON_STATE_PRISM_012011_20241201_20250101_PPT.tif\n",
      "[2025-06-25 15:07:10 INFO] Saved tile OREGON_STATE_PRISM_012012_20241201_20250101_PPT.tif\n",
      "[2025-06-25 15:07:10 INFO] Saved tile OREGON_STATE_PRISM_012013_20241201_20250101_PPT.tif\n",
      "[2025-06-25 15:07:10 INFO] Saved tile OREGON_STATE_PRISM_012014_20241201_20250101_PPT.tif\n",
      "[2025-06-25 15:07:10 INFO] Saved tile OREGON_STATE_PRISM_012015_20241201_20250101_PPT.tif\n",
      "[2025-06-25 15:07:10 INFO] Processing PRISM_ppt_stable_4kmM3_202404_bil.bil...\n",
      "[2025-06-25 15:07:10 INFO] Saved tile OREGON_STATE_PRISM_009011_20240401_20240501_PPT.tif\n",
      "[2025-06-25 15:07:10 INFO] Saved tile OREGON_STATE_PRISM_009012_20240401_20240501_PPT.tif\n",
      "[2025-06-25 15:07:10 INFO] Saved tile OREGON_STATE_PRISM_009013_20240401_20240501_PPT.tif\n",
      "[2025-06-25 15:07:10 INFO] Saved tile OREGON_STATE_PRISM_009014_20240401_20240501_PPT.tif\n",
      "[2025-06-25 15:07:10 INFO] Saved tile OREGON_STATE_PRISM_009015_20240401_20240501_PPT.tif\n",
      "[2025-06-25 15:07:10 INFO] Saved tile OREGON_STATE_PRISM_010011_20240401_20240501_PPT.tif\n",
      "[2025-06-25 15:07:10 INFO] Saved tile OREGON_STATE_PRISM_010012_20240401_20240501_PPT.tif\n",
      "[2025-06-25 15:07:10 INFO] Saved tile OREGON_STATE_PRISM_010013_20240401_20240501_PPT.tif\n",
      "[2025-06-25 15:07:10 INFO] Saved tile OREGON_STATE_PRISM_010014_20240401_20240501_PPT.tif\n",
      "[2025-06-25 15:07:10 INFO] Saved tile OREGON_STATE_PRISM_010015_20240401_20240501_PPT.tif\n",
      "[2025-06-25 15:07:10 INFO] Saved tile OREGON_STATE_PRISM_011011_20240401_20240501_PPT.tif\n",
      "[2025-06-25 15:07:10 INFO] Saved tile OREGON_STATE_PRISM_011012_20240401_20240501_PPT.tif\n",
      "[2025-06-25 15:07:10 INFO] Saved tile OREGON_STATE_PRISM_011013_20240401_20240501_PPT.tif\n",
      "[2025-06-25 15:07:10 INFO] Saved tile OREGON_STATE_PRISM_011014_20240401_20240501_PPT.tif\n",
      "[2025-06-25 15:07:10 INFO] Saved tile OREGON_STATE_PRISM_011015_20240401_20240501_PPT.tif\n",
      "[2025-06-25 15:07:10 INFO] Saved tile OREGON_STATE_PRISM_012011_20240401_20240501_PPT.tif\n",
      "[2025-06-25 15:07:10 INFO] Saved tile OREGON_STATE_PRISM_012012_20240401_20240501_PPT.tif\n",
      "[2025-06-25 15:07:10 INFO] Saved tile OREGON_STATE_PRISM_012013_20240401_20240501_PPT.tif\n",
      "[2025-06-25 15:07:10 INFO] Saved tile OREGON_STATE_PRISM_012014_20240401_20240501_PPT.tif\n",
      "[2025-06-25 15:07:10 INFO] Saved tile OREGON_STATE_PRISM_012015_20240401_20240501_PPT.tif\n",
      "[2025-06-25 15:07:10 INFO] Processing PRISM_ppt_stable_4kmM3_202408_bil.bil...\n",
      "[2025-06-25 15:07:10 INFO] Saved tile OREGON_STATE_PRISM_009011_20240801_20240901_PPT.tif\n",
      "[2025-06-25 15:07:10 INFO] Saved tile OREGON_STATE_PRISM_009012_20240801_20240901_PPT.tif\n",
      "[2025-06-25 15:07:10 INFO] Saved tile OREGON_STATE_PRISM_009013_20240801_20240901_PPT.tif\n",
      "[2025-06-25 15:07:10 INFO] Saved tile OREGON_STATE_PRISM_009014_20240801_20240901_PPT.tif\n",
      "[2025-06-25 15:07:10 INFO] Saved tile OREGON_STATE_PRISM_009015_20240801_20240901_PPT.tif\n",
      "[2025-06-25 15:07:10 INFO] Saved tile OREGON_STATE_PRISM_010011_20240801_20240901_PPT.tif\n",
      "[2025-06-25 15:07:10 INFO] Saved tile OREGON_STATE_PRISM_010012_20240801_20240901_PPT.tif\n",
      "[2025-06-25 15:07:10 INFO] Saved tile OREGON_STATE_PRISM_010013_20240801_20240901_PPT.tif\n",
      "[2025-06-25 15:07:10 INFO] Saved tile OREGON_STATE_PRISM_010014_20240801_20240901_PPT.tif\n",
      "[2025-06-25 15:07:10 INFO] Saved tile OREGON_STATE_PRISM_010015_20240801_20240901_PPT.tif\n",
      "[2025-06-25 15:07:10 INFO] Saved tile OREGON_STATE_PRISM_011011_20240801_20240901_PPT.tif\n",
      "[2025-06-25 15:07:10 INFO] Saved tile OREGON_STATE_PRISM_011012_20240801_20240901_PPT.tif\n",
      "[2025-06-25 15:07:10 INFO] Saved tile OREGON_STATE_PRISM_011013_20240801_20240901_PPT.tif\n",
      "[2025-06-25 15:07:10 INFO] Saved tile OREGON_STATE_PRISM_011014_20240801_20240901_PPT.tif\n",
      "[2025-06-25 15:07:10 INFO] Saved tile OREGON_STATE_PRISM_011015_20240801_20240901_PPT.tif\n",
      "[2025-06-25 15:07:10 INFO] Saved tile OREGON_STATE_PRISM_012011_20240801_20240901_PPT.tif\n",
      "[2025-06-25 15:07:10 INFO] Saved tile OREGON_STATE_PRISM_012012_20240801_20240901_PPT.tif\n",
      "[2025-06-25 15:07:10 INFO] Saved tile OREGON_STATE_PRISM_012013_20240801_20240901_PPT.tif\n",
      "[2025-06-25 15:07:10 INFO] Saved tile OREGON_STATE_PRISM_012014_20240801_20240901_PPT.tif\n",
      "[2025-06-25 15:07:10 INFO] Saved tile OREGON_STATE_PRISM_012015_20240801_20240901_PPT.tif\n",
      "[2025-06-25 15:07:10 INFO] Processing PRISM_ppt_stable_4kmM3_202401_bil.bil...\n",
      "[2025-06-25 15:07:10 INFO] Saved tile OREGON_STATE_PRISM_009011_20240101_20240201_PPT.tif\n",
      "[2025-06-25 15:07:10 INFO] Saved tile OREGON_STATE_PRISM_009012_20240101_20240201_PPT.tif\n",
      "[2025-06-25 15:07:10 INFO] Saved tile OREGON_STATE_PRISM_009013_20240101_20240201_PPT.tif\n",
      "[2025-06-25 15:07:10 INFO] Saved tile OREGON_STATE_PRISM_009014_20240101_20240201_PPT.tif\n",
      "[2025-06-25 15:07:10 INFO] Saved tile OREGON_STATE_PRISM_009015_20240101_20240201_PPT.tif\n",
      "[2025-06-25 15:07:10 INFO] Saved tile OREGON_STATE_PRISM_010011_20240101_20240201_PPT.tif\n",
      "[2025-06-25 15:07:10 INFO] Saved tile OREGON_STATE_PRISM_010012_20240101_20240201_PPT.tif\n",
      "[2025-06-25 15:07:10 INFO] Saved tile OREGON_STATE_PRISM_010013_20240101_20240201_PPT.tif\n",
      "[2025-06-25 15:07:10 INFO] Saved tile OREGON_STATE_PRISM_010014_20240101_20240201_PPT.tif\n",
      "[2025-06-25 15:07:10 INFO] Saved tile OREGON_STATE_PRISM_010015_20240101_20240201_PPT.tif\n",
      "[2025-06-25 15:07:10 INFO] Saved tile OREGON_STATE_PRISM_011011_20240101_20240201_PPT.tif\n",
      "[2025-06-25 15:07:10 INFO] Saved tile OREGON_STATE_PRISM_011012_20240101_20240201_PPT.tif\n",
      "[2025-06-25 15:07:10 INFO] Saved tile OREGON_STATE_PRISM_011013_20240101_20240201_PPT.tif\n",
      "[2025-06-25 15:07:10 INFO] Saved tile OREGON_STATE_PRISM_011014_20240101_20240201_PPT.tif\n",
      "[2025-06-25 15:07:10 INFO] Saved tile OREGON_STATE_PRISM_011015_20240101_20240201_PPT.tif\n",
      "[2025-06-25 15:07:10 INFO] Saved tile OREGON_STATE_PRISM_012011_20240101_20240201_PPT.tif\n",
      "[2025-06-25 15:07:10 INFO] Saved tile OREGON_STATE_PRISM_012012_20240101_20240201_PPT.tif\n",
      "[2025-06-25 15:07:10 INFO] Saved tile OREGON_STATE_PRISM_012013_20240101_20240201_PPT.tif\n",
      "[2025-06-25 15:07:10 INFO] Saved tile OREGON_STATE_PRISM_012014_20240101_20240201_PPT.tif\n",
      "[2025-06-25 15:07:10 INFO] Saved tile OREGON_STATE_PRISM_012015_20240101_20240201_PPT.tif\n",
      "[2025-06-25 15:07:10 INFO] Processing PRISM_ppt_stable_4kmM3_202411_bil.bil...\n",
      "[2025-06-25 15:07:10 INFO] Saved tile OREGON_STATE_PRISM_009011_20241101_20241201_PPT.tif\n",
      "[2025-06-25 15:07:10 INFO] Saved tile OREGON_STATE_PRISM_009012_20241101_20241201_PPT.tif\n",
      "[2025-06-25 15:07:10 INFO] Saved tile OREGON_STATE_PRISM_009013_20241101_20241201_PPT.tif\n",
      "[2025-06-25 15:07:10 INFO] Saved tile OREGON_STATE_PRISM_009014_20241101_20241201_PPT.tif\n",
      "[2025-06-25 15:07:10 INFO] Saved tile OREGON_STATE_PRISM_009015_20241101_20241201_PPT.tif\n",
      "[2025-06-25 15:07:10 INFO] Saved tile OREGON_STATE_PRISM_010011_20241101_20241201_PPT.tif\n",
      "[2025-06-25 15:07:10 INFO] Saved tile OREGON_STATE_PRISM_010012_20241101_20241201_PPT.tif\n",
      "[2025-06-25 15:07:10 INFO] Saved tile OREGON_STATE_PRISM_010013_20241101_20241201_PPT.tif\n",
      "[2025-06-25 15:07:10 INFO] Saved tile OREGON_STATE_PRISM_010014_20241101_20241201_PPT.tif\n",
      "[2025-06-25 15:07:10 INFO] Saved tile OREGON_STATE_PRISM_010015_20241101_20241201_PPT.tif\n",
      "[2025-06-25 15:07:10 INFO] Saved tile OREGON_STATE_PRISM_011011_20241101_20241201_PPT.tif\n",
      "[2025-06-25 15:07:10 INFO] Saved tile OREGON_STATE_PRISM_011012_20241101_20241201_PPT.tif\n",
      "[2025-06-25 15:07:10 INFO] Saved tile OREGON_STATE_PRISM_011013_20241101_20241201_PPT.tif\n",
      "[2025-06-25 15:07:10 INFO] Saved tile OREGON_STATE_PRISM_011014_20241101_20241201_PPT.tif\n",
      "[2025-06-25 15:07:10 INFO] Saved tile OREGON_STATE_PRISM_011015_20241101_20241201_PPT.tif\n",
      "[2025-06-25 15:07:10 INFO] Saved tile OREGON_STATE_PRISM_012011_20241101_20241201_PPT.tif\n",
      "[2025-06-25 15:07:10 INFO] Saved tile OREGON_STATE_PRISM_012012_20241101_20241201_PPT.tif\n",
      "[2025-06-25 15:07:10 INFO] Saved tile OREGON_STATE_PRISM_012013_20241101_20241201_PPT.tif\n",
      "[2025-06-25 15:07:10 INFO] Saved tile OREGON_STATE_PRISM_012014_20241101_20241201_PPT.tif\n",
      "[2025-06-25 15:07:10 INFO] Saved tile OREGON_STATE_PRISM_012015_20241101_20241201_PPT.tif\n",
      "[2025-06-25 15:07:10 INFO] Processing PRISM_ppt_stable_4kmM3_202410_bil.bil...\n",
      "[2025-06-25 15:07:10 INFO] Saved tile OREGON_STATE_PRISM_009011_20241001_20241101_PPT.tif\n",
      "[2025-06-25 15:07:10 INFO] Saved tile OREGON_STATE_PRISM_009012_20241001_20241101_PPT.tif\n",
      "[2025-06-25 15:07:10 INFO] Saved tile OREGON_STATE_PRISM_009013_20241001_20241101_PPT.tif\n",
      "[2025-06-25 15:07:10 INFO] Saved tile OREGON_STATE_PRISM_009014_20241001_20241101_PPT.tif\n",
      "[2025-06-25 15:07:10 INFO] Saved tile OREGON_STATE_PRISM_009015_20241001_20241101_PPT.tif\n",
      "[2025-06-25 15:07:10 INFO] Saved tile OREGON_STATE_PRISM_010011_20241001_20241101_PPT.tif\n",
      "[2025-06-25 15:07:10 INFO] Saved tile OREGON_STATE_PRISM_010012_20241001_20241101_PPT.tif\n",
      "[2025-06-25 15:07:10 INFO] Saved tile OREGON_STATE_PRISM_010013_20241001_20241101_PPT.tif\n",
      "[2025-06-25 15:07:10 INFO] Saved tile OREGON_STATE_PRISM_010014_20241001_20241101_PPT.tif\n",
      "[2025-06-25 15:07:10 INFO] Saved tile OREGON_STATE_PRISM_010015_20241001_20241101_PPT.tif\n",
      "[2025-06-25 15:07:10 INFO] Saved tile OREGON_STATE_PRISM_011011_20241001_20241101_PPT.tif\n",
      "[2025-06-25 15:07:10 INFO] Saved tile OREGON_STATE_PRISM_011012_20241001_20241101_PPT.tif\n",
      "[2025-06-25 15:07:10 INFO] Saved tile OREGON_STATE_PRISM_011013_20241001_20241101_PPT.tif\n",
      "[2025-06-25 15:07:10 INFO] Saved tile OREGON_STATE_PRISM_011014_20241001_20241101_PPT.tif\n",
      "[2025-06-25 15:07:10 INFO] Saved tile OREGON_STATE_PRISM_011015_20241001_20241101_PPT.tif\n",
      "[2025-06-25 15:07:10 INFO] Saved tile OREGON_STATE_PRISM_012011_20241001_20241101_PPT.tif\n",
      "[2025-06-25 15:07:10 INFO] Saved tile OREGON_STATE_PRISM_012012_20241001_20241101_PPT.tif\n",
      "[2025-06-25 15:07:10 INFO] Saved tile OREGON_STATE_PRISM_012013_20241001_20241101_PPT.tif\n",
      "[2025-06-25 15:07:10 INFO] Saved tile OREGON_STATE_PRISM_012014_20241001_20241101_PPT.tif\n",
      "[2025-06-25 15:07:10 INFO] Saved tile OREGON_STATE_PRISM_012015_20241001_20241101_PPT.tif\n",
      "[2025-06-25 15:07:10 INFO] Processing PRISM_ppt_stable_4kmM3_202409_bil.bil...\n",
      "[2025-06-25 15:07:10 INFO] Saved tile OREGON_STATE_PRISM_009011_20240901_20241001_PPT.tif\n",
      "[2025-06-25 15:07:10 INFO] Saved tile OREGON_STATE_PRISM_009012_20240901_20241001_PPT.tif\n",
      "[2025-06-25 15:07:10 INFO] Saved tile OREGON_STATE_PRISM_009013_20240901_20241001_PPT.tif\n",
      "[2025-06-25 15:07:10 INFO] Saved tile OREGON_STATE_PRISM_009014_20240901_20241001_PPT.tif\n",
      "[2025-06-25 15:07:10 INFO] Saved tile OREGON_STATE_PRISM_009015_20240901_20241001_PPT.tif\n",
      "[2025-06-25 15:07:10 INFO] Saved tile OREGON_STATE_PRISM_010011_20240901_20241001_PPT.tif\n",
      "[2025-06-25 15:07:10 INFO] Saved tile OREGON_STATE_PRISM_010012_20240901_20241001_PPT.tif\n",
      "[2025-06-25 15:07:10 INFO] Saved tile OREGON_STATE_PRISM_010013_20240901_20241001_PPT.tif\n",
      "[2025-06-25 15:07:10 INFO] Saved tile OREGON_STATE_PRISM_010014_20240901_20241001_PPT.tif\n",
      "[2025-06-25 15:07:10 INFO] Saved tile OREGON_STATE_PRISM_010015_20240901_20241001_PPT.tif\n",
      "[2025-06-25 15:07:10 INFO] Saved tile OREGON_STATE_PRISM_011011_20240901_20241001_PPT.tif\n",
      "[2025-06-25 15:07:10 INFO] Saved tile OREGON_STATE_PRISM_011012_20240901_20241001_PPT.tif\n",
      "[2025-06-25 15:07:10 INFO] Saved tile OREGON_STATE_PRISM_011013_20240901_20241001_PPT.tif\n",
      "[2025-06-25 15:07:10 INFO] Saved tile OREGON_STATE_PRISM_011014_20240901_20241001_PPT.tif\n",
      "[2025-06-25 15:07:10 INFO] Saved tile OREGON_STATE_PRISM_011015_20240901_20241001_PPT.tif\n",
      "[2025-06-25 15:07:10 INFO] Saved tile OREGON_STATE_PRISM_012011_20240901_20241001_PPT.tif\n",
      "[2025-06-25 15:07:10 INFO] Saved tile OREGON_STATE_PRISM_012012_20240901_20241001_PPT.tif\n",
      "[2025-06-25 15:07:10 INFO] Saved tile OREGON_STATE_PRISM_012013_20240901_20241001_PPT.tif\n",
      "[2025-06-25 15:07:10 INFO] Saved tile OREGON_STATE_PRISM_012014_20240901_20241001_PPT.tif\n",
      "[2025-06-25 15:07:10 INFO] Saved tile OREGON_STATE_PRISM_012015_20240901_20241001_PPT.tif\n",
      "[2025-06-25 15:07:10 INFO] Processing PRISM_ppt_stable_4kmM3_202402_bil.bil...\n",
      "[2025-06-25 15:07:10 INFO] Saved tile OREGON_STATE_PRISM_009011_20240201_20240301_PPT.tif\n",
      "[2025-06-25 15:07:10 INFO] Saved tile OREGON_STATE_PRISM_009012_20240201_20240301_PPT.tif\n",
      "[2025-06-25 15:07:10 INFO] Saved tile OREGON_STATE_PRISM_009013_20240201_20240301_PPT.tif\n",
      "[2025-06-25 15:07:10 INFO] Saved tile OREGON_STATE_PRISM_009014_20240201_20240301_PPT.tif\n",
      "[2025-06-25 15:07:10 INFO] Saved tile OREGON_STATE_PRISM_009015_20240201_20240301_PPT.tif\n",
      "[2025-06-25 15:07:10 INFO] Saved tile OREGON_STATE_PRISM_010011_20240201_20240301_PPT.tif\n",
      "[2025-06-25 15:07:10 INFO] Saved tile OREGON_STATE_PRISM_010012_20240201_20240301_PPT.tif\n",
      "[2025-06-25 15:07:10 INFO] Saved tile OREGON_STATE_PRISM_010013_20240201_20240301_PPT.tif\n",
      "[2025-06-25 15:07:10 INFO] Saved tile OREGON_STATE_PRISM_010014_20240201_20240301_PPT.tif\n",
      "[2025-06-25 15:07:10 INFO] Saved tile OREGON_STATE_PRISM_010015_20240201_20240301_PPT.tif\n",
      "[2025-06-25 15:07:10 INFO] Saved tile OREGON_STATE_PRISM_011011_20240201_20240301_PPT.tif\n",
      "[2025-06-25 15:07:10 INFO] Saved tile OREGON_STATE_PRISM_011012_20240201_20240301_PPT.tif\n",
      "[2025-06-25 15:07:10 INFO] Saved tile OREGON_STATE_PRISM_011013_20240201_20240301_PPT.tif\n",
      "[2025-06-25 15:07:10 INFO] Saved tile OREGON_STATE_PRISM_011014_20240201_20240301_PPT.tif\n",
      "[2025-06-25 15:07:10 INFO] Saved tile OREGON_STATE_PRISM_011015_20240201_20240301_PPT.tif\n",
      "[2025-06-25 15:07:10 INFO] Saved tile OREGON_STATE_PRISM_012011_20240201_20240301_PPT.tif\n",
      "[2025-06-25 15:07:10 INFO] Saved tile OREGON_STATE_PRISM_012012_20240201_20240301_PPT.tif\n",
      "[2025-06-25 15:07:10 INFO] Saved tile OREGON_STATE_PRISM_012013_20240201_20240301_PPT.tif\n",
      "[2025-06-25 15:07:10 INFO] Saved tile OREGON_STATE_PRISM_012014_20240201_20240301_PPT.tif\n",
      "[2025-06-25 15:07:10 INFO] Saved tile OREGON_STATE_PRISM_012015_20240201_20240301_PPT.tif\n",
      "[2025-06-25 15:07:10 INFO] Processing PRISM_ppt_stable_4kmM3_202403_bil.bil...\n",
      "[2025-06-25 15:07:10 INFO] Saved tile OREGON_STATE_PRISM_009011_20240301_20240401_PPT.tif\n",
      "[2025-06-25 15:07:10 INFO] Saved tile OREGON_STATE_PRISM_009012_20240301_20240401_PPT.tif\n",
      "[2025-06-25 15:07:10 INFO] Saved tile OREGON_STATE_PRISM_009013_20240301_20240401_PPT.tif\n",
      "[2025-06-25 15:07:10 INFO] Saved tile OREGON_STATE_PRISM_009014_20240301_20240401_PPT.tif\n",
      "[2025-06-25 15:07:10 INFO] Saved tile OREGON_STATE_PRISM_009015_20240301_20240401_PPT.tif\n",
      "[2025-06-25 15:07:10 INFO] Saved tile OREGON_STATE_PRISM_010011_20240301_20240401_PPT.tif\n",
      "[2025-06-25 15:07:10 INFO] Saved tile OREGON_STATE_PRISM_010012_20240301_20240401_PPT.tif\n",
      "[2025-06-25 15:07:10 INFO] Saved tile OREGON_STATE_PRISM_010013_20240301_20240401_PPT.tif\n",
      "[2025-06-25 15:07:10 INFO] Saved tile OREGON_STATE_PRISM_010014_20240301_20240401_PPT.tif\n",
      "[2025-06-25 15:07:10 INFO] Saved tile OREGON_STATE_PRISM_010015_20240301_20240401_PPT.tif\n",
      "[2025-06-25 15:07:10 INFO] Saved tile OREGON_STATE_PRISM_011011_20240301_20240401_PPT.tif\n",
      "[2025-06-25 15:07:10 INFO] Saved tile OREGON_STATE_PRISM_011012_20240301_20240401_PPT.tif\n",
      "[2025-06-25 15:07:10 INFO] Saved tile OREGON_STATE_PRISM_011013_20240301_20240401_PPT.tif\n",
      "[2025-06-25 15:07:10 INFO] Saved tile OREGON_STATE_PRISM_011014_20240301_20240401_PPT.tif\n",
      "[2025-06-25 15:07:10 INFO] Saved tile OREGON_STATE_PRISM_011015_20240301_20240401_PPT.tif\n",
      "[2025-06-25 15:07:10 INFO] Saved tile OREGON_STATE_PRISM_012011_20240301_20240401_PPT.tif\n",
      "[2025-06-25 15:07:10 INFO] Saved tile OREGON_STATE_PRISM_012012_20240301_20240401_PPT.tif\n",
      "[2025-06-25 15:07:10 INFO] Saved tile OREGON_STATE_PRISM_012013_20240301_20240401_PPT.tif\n",
      "[2025-06-25 15:07:10 INFO] Saved tile OREGON_STATE_PRISM_012014_20240301_20240401_PPT.tif\n",
      "[2025-06-25 15:07:10 INFO] Saved tile OREGON_STATE_PRISM_012015_20240301_20240401_PPT.tif\n"
     ]
    }
   ],
   "source": [
    "prism_pipeline.process_year(2024, upload=False)"
   ]
  },
  {
   "cell_type": "code",
   "execution_count": 19,
   "metadata": {},
   "outputs": [
    {
     "data": {
      "text/html": [
       "\n",
       "            <style>\n",
       "                .geemap-dark {\n",
       "                    --jp-widgets-color: white;\n",
       "                    --jp-widgets-label-color: white;\n",
       "                    --jp-ui-font-color1: white;\n",
       "                    --jp-layout-color2: #454545;\n",
       "                    background-color: #383838;\n",
       "                }\n",
       "\n",
       "                .geemap-dark .jupyter-button {\n",
       "                    --jp-layout-color3: #383838;\n",
       "                }\n",
       "\n",
       "                .geemap-colab {\n",
       "                    background-color: var(--colab-primary-surface-color, white);\n",
       "                }\n",
       "\n",
       "                .geemap-colab .jupyter-button {\n",
       "                    --jp-layout-color3: var(--colab-primary-surface-color, white);\n",
       "                }\n",
       "            </style>\n",
       "            "
      ],
      "text/plain": [
       "<IPython.core.display.HTML object>"
      ]
     },
     "metadata": {},
     "output_type": "display_data"
    },
    {
     "name": "stderr",
     "output_type": "stream",
     "text": [
      "Uploading files to aws bucket ose-dev-inputs:   0%|          | 0/240 [00:00<?, ?it/s]"
     ]
    },
    {
     "name": "stdout",
     "output_type": "stream",
     "text": [
      "[2025-06-25 15:10:13 INFO] Uploaded file OREGON_STATE_PRISM_012012_20240501_20240601_PPT.tif to aws bucket ose-dev-inputs\n"
     ]
    },
    {
     "name": "stderr",
     "output_type": "stream",
     "text": [
      "Uploading file: OREGON_STATE_PRISM_012012_20240501_20240601_PPT.tif:   0%|          | 1/240 [00:00<01:02,  3.85it/s]"
     ]
    },
    {
     "name": "stdout",
     "output_type": "stream",
     "text": [
      "[2025-06-25 15:10:13 INFO] Uploaded file OREGON_STATE_PRISM_011011_20241001_20241101_PPT.tif to aws bucket ose-dev-inputs\n"
     ]
    },
    {
     "name": "stderr",
     "output_type": "stream",
     "text": [
      "Uploading file: OREGON_STATE_PRISM_011011_20241001_20241101_PPT.tif:   1%|          | 2/240 [00:00<00:45,  5.18it/s]"
     ]
    },
    {
     "name": "stdout",
     "output_type": "stream",
     "text": [
      "[2025-06-25 15:10:13 INFO] Uploaded file OREGON_STATE_PRISM_009012_20240101_20240201_PPT.tif to aws bucket ose-dev-inputs\n"
     ]
    },
    {
     "name": "stderr",
     "output_type": "stream",
     "text": [
      "Uploading file: OREGON_STATE_PRISM_009012_20240101_20240201_PPT.tif:   1%|▏         | 3/240 [00:00<00:40,  5.90it/s]"
     ]
    },
    {
     "name": "stdout",
     "output_type": "stream",
     "text": [
      "[2025-06-25 15:10:14 INFO] Uploaded file OREGON_STATE_PRISM_009013_20240301_20240401_PPT.tif to aws bucket ose-dev-inputs\n"
     ]
    },
    {
     "name": "stderr",
     "output_type": "stream",
     "text": [
      "Uploading file: OREGON_STATE_PRISM_009013_20240301_20240401_PPT.tif:   2%|▏         | 4/240 [00:00<00:38,  6.07it/s]"
     ]
    },
    {
     "name": "stdout",
     "output_type": "stream",
     "text": [
      "[2025-06-25 15:10:14 INFO] Uploaded file OREGON_STATE_PRISM_012013_20240301_20240401_PPT.tif to aws bucket ose-dev-inputs\n"
     ]
    },
    {
     "name": "stderr",
     "output_type": "stream",
     "text": [
      "Uploading file: OREGON_STATE_PRISM_012013_20240301_20240401_PPT.tif:   2%|▏         | 5/240 [00:00<00:37,  6.33it/s]"
     ]
    },
    {
     "name": "stdout",
     "output_type": "stream",
     "text": [
      "[2025-06-25 15:10:14 INFO] Uploaded file OREGON_STATE_PRISM_012012_20240101_20240201_PPT.tif to aws bucket ose-dev-inputs\n"
     ]
    },
    {
     "name": "stderr",
     "output_type": "stream",
     "text": [
      "Uploading file: OREGON_STATE_PRISM_012012_20240101_20240201_PPT.tif:   2%|▎         | 6/240 [00:00<00:35,  6.57it/s]"
     ]
    },
    {
     "name": "stdout",
     "output_type": "stream",
     "text": [
      "[2025-06-25 15:10:14 INFO] Uploaded file OREGON_STATE_PRISM_010011_20240901_20241001_PPT.tif to aws bucket ose-dev-inputs\n"
     ]
    },
    {
     "name": "stderr",
     "output_type": "stream",
     "text": [
      "Uploading file: OREGON_STATE_PRISM_010011_20240901_20241001_PPT.tif:   3%|▎         | 7/240 [00:01<00:34,  6.71it/s]"
     ]
    },
    {
     "name": "stdout",
     "output_type": "stream",
     "text": [
      "[2025-06-25 15:10:14 INFO] Uploaded file OREGON_STATE_PRISM_010013_20240401_20240501_PPT.tif to aws bucket ose-dev-inputs\n"
     ]
    },
    {
     "name": "stderr",
     "output_type": "stream",
     "text": [
      "Uploading file: OREGON_STATE_PRISM_010013_20240401_20240501_PPT.tif:   3%|▎         | 8/240 [00:01<00:34,  6.80it/s]"
     ]
    },
    {
     "name": "stdout",
     "output_type": "stream",
     "text": [
      "[2025-06-25 15:10:14 INFO] Uploaded file OREGON_STATE_PRISM_009012_20240501_20240601_PPT.tif to aws bucket ose-dev-inputs\n"
     ]
    },
    {
     "name": "stderr",
     "output_type": "stream",
     "text": [
      "Uploading file: OREGON_STATE_PRISM_009012_20240501_20240601_PPT.tif:   4%|▍         | 9/240 [00:01<00:33,  6.86it/s]"
     ]
    },
    {
     "name": "stdout",
     "output_type": "stream",
     "text": [
      "[2025-06-25 15:10:15 INFO] Uploaded file OREGON_STATE_PRISM_011015_20240701_20240801_PPT.tif to aws bucket ose-dev-inputs\n"
     ]
    },
    {
     "name": "stderr",
     "output_type": "stream",
     "text": [
      "Uploading file: OREGON_STATE_PRISM_011015_20240701_20240801_PPT.tif:   4%|▍         | 10/240 [00:01<00:33,  6.90it/s]"
     ]
    },
    {
     "name": "stdout",
     "output_type": "stream",
     "text": [
      "[2025-06-25 15:10:15 INFO] Uploaded file OREGON_STATE_PRISM_011015_20240501_20240601_PPT.tif to aws bucket ose-dev-inputs\n"
     ]
    },
    {
     "name": "stderr",
     "output_type": "stream",
     "text": [
      "Uploading file: OREGON_STATE_PRISM_011015_20240501_20240601_PPT.tif:   5%|▍         | 11/240 [00:01<00:33,  6.85it/s]"
     ]
    },
    {
     "name": "stdout",
     "output_type": "stream",
     "text": [
      "[2025-06-25 15:10:15 INFO] Uploaded file OREGON_STATE_PRISM_009012_20240701_20240801_PPT.tif to aws bucket ose-dev-inputs\n"
     ]
    },
    {
     "name": "stderr",
     "output_type": "stream",
     "text": [
      "Uploading file: OREGON_STATE_PRISM_009012_20240701_20240801_PPT.tif:   5%|▌         | 12/240 [00:01<00:32,  6.94it/s]"
     ]
    },
    {
     "name": "stdout",
     "output_type": "stream",
     "text": [
      "[2025-06-25 15:10:15 INFO] Uploaded file OREGON_STATE_PRISM_011015_20240101_20240201_PPT.tif to aws bucket ose-dev-inputs\n"
     ]
    },
    {
     "name": "stderr",
     "output_type": "stream",
     "text": [
      "Uploading file: OREGON_STATE_PRISM_011015_20240101_20240201_PPT.tif:   5%|▌         | 13/240 [00:01<00:32,  7.02it/s]"
     ]
    },
    {
     "name": "stdout",
     "output_type": "stream",
     "text": [
      "[2025-06-25 15:10:15 INFO] Uploaded file OREGON_STATE_PRISM_011014_20240301_20240401_PPT.tif to aws bucket ose-dev-inputs\n"
     ]
    },
    {
     "name": "stderr",
     "output_type": "stream",
     "text": [
      "Uploading file: OREGON_STATE_PRISM_011014_20240301_20240401_PPT.tif:   6%|▌         | 14/240 [00:02<00:32,  7.01it/s]"
     ]
    },
    {
     "name": "stdout",
     "output_type": "stream",
     "text": [
      "[2025-06-25 15:10:15 INFO] Uploaded file OREGON_STATE_PRISM_012012_20240701_20240801_PPT.tif to aws bucket ose-dev-inputs\n"
     ]
    },
    {
     "name": "stderr",
     "output_type": "stream",
     "text": [
      "Uploading file: OREGON_STATE_PRISM_012012_20240701_20240801_PPT.tif:   6%|▋         | 15/240 [00:02<00:31,  7.12it/s]"
     ]
    },
    {
     "name": "stdout",
     "output_type": "stream",
     "text": [
      "[2025-06-25 15:10:15 INFO] Uploaded file OREGON_STATE_PRISM_012011_20241101_20241201_PPT.tif to aws bucket ose-dev-inputs\n"
     ]
    },
    {
     "name": "stderr",
     "output_type": "stream",
     "text": [
      "Uploading file: OREGON_STATE_PRISM_012011_20241101_20241201_PPT.tif:   7%|▋         | 16/240 [00:02<00:31,  7.04it/s]"
     ]
    },
    {
     "name": "stdout",
     "output_type": "stream",
     "text": [
      "[2025-06-25 15:10:16 INFO] Uploaded file OREGON_STATE_PRISM_011012_20240401_20240501_PPT.tif to aws bucket ose-dev-inputs\n"
     ]
    },
    {
     "name": "stderr",
     "output_type": "stream",
     "text": [
      "Uploading file: OREGON_STATE_PRISM_011012_20240401_20240501_PPT.tif:   7%|▋         | 17/240 [00:02<00:32,  6.88it/s]"
     ]
    },
    {
     "name": "stdout",
     "output_type": "stream",
     "text": [
      "[2025-06-25 15:10:16 INFO] Uploaded file OREGON_STATE_PRISM_010014_20240701_20240801_PPT.tif to aws bucket ose-dev-inputs\n"
     ]
    },
    {
     "name": "stderr",
     "output_type": "stream",
     "text": [
      "Uploading file: OREGON_STATE_PRISM_010014_20240701_20240801_PPT.tif:   8%|▊         | 18/240 [00:02<00:32,  6.88it/s]"
     ]
    },
    {
     "name": "stdout",
     "output_type": "stream",
     "text": [
      "[2025-06-25 15:10:16 INFO] Uploaded file OREGON_STATE_PRISM_011011_20240801_20240901_PPT.tif to aws bucket ose-dev-inputs\n"
     ]
    },
    {
     "name": "stderr",
     "output_type": "stream",
     "text": [
      "Uploading file: OREGON_STATE_PRISM_011011_20240801_20240901_PPT.tif:   8%|▊         | 19/240 [00:02<00:31,  6.91it/s]"
     ]
    },
    {
     "name": "stdout",
     "output_type": "stream",
     "text": [
      "[2025-06-25 15:10:16 INFO] Uploaded file OREGON_STATE_PRISM_009011_20241101_20241201_PPT.tif to aws bucket ose-dev-inputs\n"
     ]
    },
    {
     "name": "stderr",
     "output_type": "stream",
     "text": [
      "Uploading file: OREGON_STATE_PRISM_009011_20241101_20241201_PPT.tif:   8%|▊         | 20/240 [00:02<00:31,  6.97it/s]"
     ]
    },
    {
     "name": "stdout",
     "output_type": "stream",
     "text": [
      "[2025-06-25 15:10:16 INFO] Uploaded file OREGON_STATE_PRISM_010014_20240101_20240201_PPT.tif to aws bucket ose-dev-inputs\n"
     ]
    },
    {
     "name": "stderr",
     "output_type": "stream",
     "text": [
      "Uploading file: OREGON_STATE_PRISM_010014_20240101_20240201_PPT.tif:   9%|▉         | 21/240 [00:03<00:32,  6.79it/s]"
     ]
    },
    {
     "name": "stdout",
     "output_type": "stream",
     "text": [
      "[2025-06-25 15:10:16 INFO] Uploaded file OREGON_STATE_PRISM_010015_20240301_20240401_PPT.tif to aws bucket ose-dev-inputs\n"
     ]
    },
    {
     "name": "stderr",
     "output_type": "stream",
     "text": [
      "Uploading file: OREGON_STATE_PRISM_010015_20240301_20240401_PPT.tif:   9%|▉         | 22/240 [00:03<00:31,  6.83it/s]"
     ]
    },
    {
     "name": "stdout",
     "output_type": "stream",
     "text": [
      "[2025-06-25 15:10:16 INFO] Uploaded file OREGON_STATE_PRISM_012015_20240401_20240501_PPT.tif to aws bucket ose-dev-inputs\n"
     ]
    },
    {
     "name": "stderr",
     "output_type": "stream",
     "text": [
      "Uploading file: OREGON_STATE_PRISM_012015_20240401_20240501_PPT.tif:  10%|▉         | 23/240 [00:03<00:31,  6.90it/s]"
     ]
    },
    {
     "name": "stdout",
     "output_type": "stream",
     "text": [
      "[2025-06-25 15:10:17 INFO] Uploaded file OREGON_STATE_PRISM_010011_20240201_20240301_PPT.tif to aws bucket ose-dev-inputs\n"
     ]
    },
    {
     "name": "stderr",
     "output_type": "stream",
     "text": [
      "Uploading file: OREGON_STATE_PRISM_010011_20240201_20240301_PPT.tif:  10%|█         | 24/240 [00:03<00:31,  6.89it/s]"
     ]
    },
    {
     "name": "stdout",
     "output_type": "stream",
     "text": [
      "[2025-06-25 15:10:17 INFO] Uploaded file OREGON_STATE_PRISM_009015_20240401_20240501_PPT.tif to aws bucket ose-dev-inputs\n"
     ]
    },
    {
     "name": "stderr",
     "output_type": "stream",
     "text": [
      "Uploading file: OREGON_STATE_PRISM_009015_20240401_20240501_PPT.tif:  10%|█         | 25/240 [00:03<00:31,  6.89it/s]"
     ]
    },
    {
     "name": "stdout",
     "output_type": "stream",
     "text": [
      "[2025-06-25 15:10:17 INFO] Uploaded file OREGON_STATE_PRISM_010014_20240501_20240601_PPT.tif to aws bucket ose-dev-inputs\n"
     ]
    },
    {
     "name": "stderr",
     "output_type": "stream",
     "text": [
      "Uploading file: OREGON_STATE_PRISM_010014_20240501_20240601_PPT.tif:  11%|█         | 26/240 [00:03<00:30,  6.99it/s]"
     ]
    },
    {
     "name": "stdout",
     "output_type": "stream",
     "text": [
      "[2025-06-25 15:10:17 INFO] Uploaded file OREGON_STATE_PRISM_010011_20240601_20240701_PPT.tif to aws bucket ose-dev-inputs\n"
     ]
    },
    {
     "name": "stderr",
     "output_type": "stream",
     "text": [
      "Uploading file: OREGON_STATE_PRISM_010011_20240601_20240701_PPT.tif:  11%|█▏        | 27/240 [00:04<00:30,  6.96it/s]"
     ]
    },
    {
     "name": "stdout",
     "output_type": "stream",
     "text": [
      "[2025-06-25 15:10:17 INFO] Uploaded file OREGON_STATE_PRISM_012011_20240801_20240901_PPT.tif to aws bucket ose-dev-inputs\n"
     ]
    },
    {
     "name": "stderr",
     "output_type": "stream",
     "text": [
      "Uploading file: OREGON_STATE_PRISM_012011_20240801_20240901_PPT.tif:  12%|█▏        | 28/240 [00:04<00:30,  7.00it/s]"
     ]
    },
    {
     "name": "stdout",
     "output_type": "stream",
     "text": [
      "[2025-06-25 15:10:17 INFO] Uploaded file OREGON_STATE_PRISM_010013_20240501_20240601_PPT.tif to aws bucket ose-dev-inputs\n"
     ]
    },
    {
     "name": "stderr",
     "output_type": "stream",
     "text": [
      "Uploading file: OREGON_STATE_PRISM_010013_20240501_20240601_PPT.tif:  12%|█▏        | 29/240 [00:04<00:30,  7.02it/s]"
     ]
    },
    {
     "name": "stdout",
     "output_type": "stream",
     "text": [
      "[2025-06-25 15:10:17 INFO] Uploaded file OREGON_STATE_PRISM_009012_20240401_20240501_PPT.tif to aws bucket ose-dev-inputs\n"
     ]
    },
    {
     "name": "stderr",
     "output_type": "stream",
     "text": [
      "Uploading file: OREGON_STATE_PRISM_009012_20240401_20240501_PPT.tif:  12%|█▎        | 30/240 [00:04<00:31,  6.66it/s]"
     ]
    },
    {
     "name": "stdout",
     "output_type": "stream",
     "text": [
      "[2025-06-25 15:10:18 INFO] Uploaded file OREGON_STATE_PRISM_010011_20241201_20250101_PPT.tif to aws bucket ose-dev-inputs\n"
     ]
    },
    {
     "name": "stderr",
     "output_type": "stream",
     "text": [
      "Uploading file: OREGON_STATE_PRISM_010011_20241201_20250101_PPT.tif:  13%|█▎        | 31/240 [00:04<00:31,  6.69it/s]"
     ]
    },
    {
     "name": "stdout",
     "output_type": "stream",
     "text": [
      "[2025-06-25 15:10:18 INFO] Uploaded file OREGON_STATE_PRISM_012012_20240401_20240501_PPT.tif to aws bucket ose-dev-inputs\n"
     ]
    },
    {
     "name": "stderr",
     "output_type": "stream",
     "text": [
      "Uploading file: OREGON_STATE_PRISM_012012_20240401_20240501_PPT.tif:  13%|█▎        | 32/240 [00:04<00:30,  6.79it/s]"
     ]
    },
    {
     "name": "stdout",
     "output_type": "stream",
     "text": [
      "[2025-06-25 15:10:18 INFO] Uploaded file OREGON_STATE_PRISM_010012_20240301_20240401_PPT.tif to aws bucket ose-dev-inputs\n"
     ]
    },
    {
     "name": "stderr",
     "output_type": "stream",
     "text": [
      "Uploading file: OREGON_STATE_PRISM_010012_20240301_20240401_PPT.tif:  14%|█▍        | 33/240 [00:04<00:30,  6.84it/s]"
     ]
    },
    {
     "name": "stdout",
     "output_type": "stream",
     "text": [
      "[2025-06-25 15:10:18 INFO] Uploaded file OREGON_STATE_PRISM_011011_20241101_20241201_PPT.tif to aws bucket ose-dev-inputs\n"
     ]
    },
    {
     "name": "stderr",
     "output_type": "stream",
     "text": [
      "Uploading file: OREGON_STATE_PRISM_011011_20241101_20241201_PPT.tif:  14%|█▍        | 34/240 [00:05<00:29,  6.87it/s]"
     ]
    },
    {
     "name": "stdout",
     "output_type": "stream",
     "text": [
      "[2025-06-25 15:10:18 INFO] Uploaded file OREGON_STATE_PRISM_009011_20240801_20240901_PPT.tif to aws bucket ose-dev-inputs\n"
     ]
    },
    {
     "name": "stderr",
     "output_type": "stream",
     "text": [
      "Uploading file: OREGON_STATE_PRISM_009011_20240801_20240901_PPT.tif:  15%|█▍        | 35/240 [00:05<00:29,  6.85it/s]"
     ]
    },
    {
     "name": "stdout",
     "output_type": "stream",
     "text": [
      "[2025-06-25 15:10:18 INFO] Uploaded file OREGON_STATE_PRISM_010013_20240101_20240201_PPT.tif to aws bucket ose-dev-inputs\n"
     ]
    },
    {
     "name": "stderr",
     "output_type": "stream",
     "text": [
      "Uploading file: OREGON_STATE_PRISM_010013_20240101_20240201_PPT.tif:  15%|█▌        | 36/240 [00:05<00:30,  6.68it/s]"
     ]
    },
    {
     "name": "stdout",
     "output_type": "stream",
     "text": [
      "[2025-06-25 15:10:18 INFO] Uploaded file OREGON_STATE_PRISM_011015_20240401_20240501_PPT.tif to aws bucket ose-dev-inputs\n"
     ]
    },
    {
     "name": "stderr",
     "output_type": "stream",
     "text": [
      "Uploading file: OREGON_STATE_PRISM_011015_20240401_20240501_PPT.tif:  15%|█▌        | 37/240 [00:05<00:31,  6.54it/s]"
     ]
    },
    {
     "name": "stdout",
     "output_type": "stream",
     "text": [
      "[2025-06-25 15:10:19 INFO] Uploaded file OREGON_STATE_PRISM_010013_20240701_20240801_PPT.tif to aws bucket ose-dev-inputs\n"
     ]
    },
    {
     "name": "stderr",
     "output_type": "stream",
     "text": [
      "Uploading file: OREGON_STATE_PRISM_010013_20240701_20240801_PPT.tif:  16%|█▌        | 38/240 [00:05<00:31,  6.35it/s]"
     ]
    },
    {
     "name": "stdout",
     "output_type": "stream",
     "text": [
      "[2025-06-25 15:10:19 INFO] Uploaded file OREGON_STATE_PRISM_012015_20240701_20240801_PPT.tif to aws bucket ose-dev-inputs\n"
     ]
    },
    {
     "name": "stderr",
     "output_type": "stream",
     "text": [
      "Uploading file: OREGON_STATE_PRISM_012015_20240701_20240801_PPT.tif:  16%|█▋        | 39/240 [00:05<00:31,  6.40it/s]"
     ]
    },
    {
     "name": "stdout",
     "output_type": "stream",
     "text": [
      "[2025-06-25 15:10:19 INFO] Uploaded file OREGON_STATE_PRISM_011013_20240301_20240401_PPT.tif to aws bucket ose-dev-inputs\n"
     ]
    },
    {
     "name": "stderr",
     "output_type": "stream",
     "text": [
      "Uploading file: OREGON_STATE_PRISM_011013_20240301_20240401_PPT.tif:  17%|█▋        | 40/240 [00:06<00:46,  4.34it/s]"
     ]
    },
    {
     "name": "stdout",
     "output_type": "stream",
     "text": [
      "[2025-06-25 15:10:20 INFO] Uploaded file OREGON_STATE_PRISM_011012_20240101_20240201_PPT.tif to aws bucket ose-dev-inputs\n"
     ]
    },
    {
     "name": "stderr",
     "output_type": "stream",
     "text": [
      "Uploading file: OREGON_STATE_PRISM_011012_20240101_20240201_PPT.tif:  17%|█▋        | 41/240 [00:06<01:00,  3.30it/s]"
     ]
    },
    {
     "name": "stdout",
     "output_type": "stream",
     "text": [
      "[2025-06-25 15:10:20 INFO] Uploaded file OREGON_STATE_PRISM_009011_20241001_20241101_PPT.tif to aws bucket ose-dev-inputs\n"
     ]
    },
    {
     "name": "stderr",
     "output_type": "stream",
     "text": [
      "Uploading file: OREGON_STATE_PRISM_009011_20241001_20241101_PPT.tif:  18%|█▊        | 42/240 [00:07<01:09,  2.86it/s]"
     ]
    },
    {
     "name": "stdout",
     "output_type": "stream",
     "text": [
      "[2025-06-25 15:10:21 INFO] Uploaded file OREGON_STATE_PRISM_012011_20241001_20241101_PPT.tif to aws bucket ose-dev-inputs\n"
     ]
    },
    {
     "name": "stderr",
     "output_type": "stream",
     "text": [
      "Uploading file: OREGON_STATE_PRISM_012011_20241001_20241101_PPT.tif:  18%|█▊        | 43/240 [00:07<01:18,  2.53it/s]"
     ]
    },
    {
     "name": "stdout",
     "output_type": "stream",
     "text": [
      "[2025-06-25 15:10:21 INFO] Uploaded file OREGON_STATE_PRISM_011012_20240501_20240601_PPT.tif to aws bucket ose-dev-inputs\n"
     ]
    },
    {
     "name": "stderr",
     "output_type": "stream",
     "text": [
      "Uploading file: OREGON_STATE_PRISM_011012_20240501_20240601_PPT.tif:  18%|█▊        | 44/240 [00:08<01:25,  2.30it/s]"
     ]
    },
    {
     "name": "stdout",
     "output_type": "stream",
     "text": [
      "[2025-06-25 15:10:22 INFO] Uploaded file OREGON_STATE_PRISM_009015_20240701_20240801_PPT.tif to aws bucket ose-dev-inputs\n"
     ]
    },
    {
     "name": "stderr",
     "output_type": "stream",
     "text": [
      "Uploading file: OREGON_STATE_PRISM_009015_20240701_20240801_PPT.tif:  19%|█▉        | 45/240 [00:08<01:25,  2.29it/s]"
     ]
    },
    {
     "name": "stdout",
     "output_type": "stream",
     "text": [
      "[2025-06-25 15:10:22 INFO] Uploaded file OREGON_STATE_PRISM_009015_20240501_20240601_PPT.tif to aws bucket ose-dev-inputs\n"
     ]
    },
    {
     "name": "stderr",
     "output_type": "stream",
     "text": [
      "Uploading file: OREGON_STATE_PRISM_009015_20240501_20240601_PPT.tif:  19%|█▉        | 46/240 [00:09<01:27,  2.21it/s]"
     ]
    },
    {
     "name": "stdout",
     "output_type": "stream",
     "text": [
      "[2025-06-25 15:10:22 INFO] Uploaded file OREGON_STATE_PRISM_010014_20240401_20240501_PPT.tif to aws bucket ose-dev-inputs\n"
     ]
    },
    {
     "name": "stderr",
     "output_type": "stream",
     "text": [
      "Uploading file: OREGON_STATE_PRISM_010014_20240401_20240501_PPT.tif:  20%|█▉        | 47/240 [00:09<01:22,  2.34it/s]"
     ]
    },
    {
     "name": "stdout",
     "output_type": "stream",
     "text": [
      "[2025-06-25 15:10:23 INFO] Uploaded file OREGON_STATE_PRISM_011012_20240701_20240801_PPT.tif to aws bucket ose-dev-inputs\n"
     ]
    },
    {
     "name": "stderr",
     "output_type": "stream",
     "text": [
      "Uploading file: OREGON_STATE_PRISM_011012_20240701_20240801_PPT.tif:  20%|██        | 48/240 [00:09<01:16,  2.52it/s]"
     ]
    },
    {
     "name": "stdout",
     "output_type": "stream",
     "text": [
      "[2025-06-25 15:10:23 INFO] Uploaded file OREGON_STATE_PRISM_012015_20240101_20240201_PPT.tif to aws bucket ose-dev-inputs\n"
     ]
    },
    {
     "name": "stderr",
     "output_type": "stream",
     "text": [
      "Uploading file: OREGON_STATE_PRISM_012015_20240101_20240201_PPT.tif:  20%|██        | 49/240 [00:09<01:01,  3.13it/s]"
     ]
    },
    {
     "name": "stdout",
     "output_type": "stream",
     "text": [
      "[2025-06-25 15:10:23 INFO] Uploaded file OREGON_STATE_PRISM_012014_20240301_20240401_PPT.tif to aws bucket ose-dev-inputs\n"
     ]
    },
    {
     "name": "stderr",
     "output_type": "stream",
     "text": [
      "Uploading file: OREGON_STATE_PRISM_012014_20240301_20240401_PPT.tif:  21%|██        | 50/240 [00:10<00:50,  3.76it/s]"
     ]
    },
    {
     "name": "stdout",
     "output_type": "stream",
     "text": [
      "[2025-06-25 15:10:23 INFO] Uploaded file OREGON_STATE_PRISM_009014_20240301_20240401_PPT.tif to aws bucket ose-dev-inputs\n"
     ]
    },
    {
     "name": "stderr",
     "output_type": "stream",
     "text": [
      "Uploading file: OREGON_STATE_PRISM_009014_20240301_20240401_PPT.tif:  21%|██▏       | 51/240 [00:10<00:49,  3.84it/s]"
     ]
    },
    {
     "name": "stdout",
     "output_type": "stream",
     "text": [
      "[2025-06-25 15:10:23 INFO] Uploaded file OREGON_STATE_PRISM_009015_20240101_20240201_PPT.tif to aws bucket ose-dev-inputs\n"
     ]
    },
    {
     "name": "stderr",
     "output_type": "stream",
     "text": [
      "Uploading file: OREGON_STATE_PRISM_009015_20240101_20240201_PPT.tif:  22%|██▏       | 52/240 [00:10<00:41,  4.52it/s]"
     ]
    },
    {
     "name": "stdout",
     "output_type": "stream",
     "text": [
      "[2025-06-25 15:10:24 INFO] Uploaded file OREGON_STATE_PRISM_012015_20240501_20240601_PPT.tif to aws bucket ose-dev-inputs\n"
     ]
    },
    {
     "name": "stderr",
     "output_type": "stream",
     "text": [
      "Uploading file: OREGON_STATE_PRISM_012015_20240501_20240601_PPT.tif:  22%|██▏       | 53/240 [00:10<00:37,  5.01it/s]"
     ]
    },
    {
     "name": "stdout",
     "output_type": "stream",
     "text": [
      "[2025-06-25 15:10:24 INFO] Uploaded file OREGON_STATE_PRISM_012015_20240601_20240701_PPT.tif to aws bucket ose-dev-inputs\n"
     ]
    },
    {
     "name": "stderr",
     "output_type": "stream",
     "text": [
      "Uploading file: OREGON_STATE_PRISM_012015_20240601_20240701_PPT.tif:  22%|██▎       | 54/240 [00:10<00:33,  5.47it/s]"
     ]
    },
    {
     "name": "stdout",
     "output_type": "stream",
     "text": [
      "[2025-06-25 15:10:24 INFO] Uploaded file OREGON_STATE_PRISM_009011_20240301_20240401_PPT.tif to aws bucket ose-dev-inputs\n"
     ]
    },
    {
     "name": "stderr",
     "output_type": "stream",
     "text": [
      "Uploading file: OREGON_STATE_PRISM_009011_20240301_20240401_PPT.tif:  23%|██▎       | 55/240 [00:10<00:31,  5.94it/s]"
     ]
    },
    {
     "name": "stdout",
     "output_type": "stream",
     "text": [
      "[2025-06-25 15:10:24 INFO] Uploaded file OREGON_STATE_PRISM_010012_20240801_20240901_PPT.tif to aws bucket ose-dev-inputs\n"
     ]
    },
    {
     "name": "stderr",
     "output_type": "stream",
     "text": [
      "Uploading file: OREGON_STATE_PRISM_010012_20240801_20240901_PPT.tif:  23%|██▎       | 56/240 [00:11<00:28,  6.43it/s]"
     ]
    },
    {
     "name": "stdout",
     "output_type": "stream",
     "text": [
      "[2025-06-25 15:10:24 INFO] Uploaded file OREGON_STATE_PRISM_011013_20241001_20241101_PPT.tif to aws bucket ose-dev-inputs\n"
     ]
    },
    {
     "name": "stderr",
     "output_type": "stream",
     "text": [
      "Uploading file: OREGON_STATE_PRISM_011013_20241001_20241101_PPT.tif:  24%|██▍       | 57/240 [00:11<00:26,  6.84it/s]"
     ]
    },
    {
     "name": "stdout",
     "output_type": "stream",
     "text": [
      "[2025-06-25 15:10:24 INFO] Uploaded file OREGON_STATE_PRISM_012012_20241201_20250101_PPT.tif to aws bucket ose-dev-inputs\n"
     ]
    },
    {
     "name": "stderr",
     "output_type": "stream",
     "text": [
      "Uploading file: OREGON_STATE_PRISM_012012_20241201_20250101_PPT.tif:  24%|██▍       | 58/240 [00:11<00:25,  7.08it/s]"
     ]
    },
    {
     "name": "stdout",
     "output_type": "stream",
     "text": [
      "[2025-06-25 15:10:24 INFO] Uploaded file OREGON_STATE_PRISM_009015_20240201_20240301_PPT.tif to aws bucket ose-dev-inputs\n"
     ]
    },
    {
     "name": "stderr",
     "output_type": "stream",
     "text": [
      "Uploading file: OREGON_STATE_PRISM_009015_20240201_20240301_PPT.tif:  25%|██▍       | 59/240 [00:11<00:24,  7.26it/s]"
     ]
    },
    {
     "name": "stdout",
     "output_type": "stream",
     "text": [
      "[2025-06-25 15:10:24 INFO] Uploaded file OREGON_STATE_PRISM_010011_20240401_20240501_PPT.tif to aws bucket ose-dev-inputs\n"
     ]
    },
    {
     "name": "stderr",
     "output_type": "stream",
     "text": [
      "Uploading file: OREGON_STATE_PRISM_010011_20240401_20240501_PPT.tif:  25%|██▌       | 60/240 [00:11<00:24,  7.31it/s]"
     ]
    },
    {
     "name": "stdout",
     "output_type": "stream",
     "text": [
      "[2025-06-25 15:10:25 INFO] Uploaded file OREGON_STATE_PRISM_009012_20241201_20250101_PPT.tif to aws bucket ose-dev-inputs\n"
     ]
    },
    {
     "name": "stderr",
     "output_type": "stream",
     "text": [
      "Uploading file: OREGON_STATE_PRISM_009012_20241201_20250101_PPT.tif:  25%|██▌       | 61/240 [00:11<00:25,  6.98it/s]"
     ]
    },
    {
     "name": "stdout",
     "output_type": "stream",
     "text": [
      "[2025-06-25 15:10:25 INFO] Uploaded file OREGON_STATE_PRISM_012015_20240201_20240301_PPT.tif to aws bucket ose-dev-inputs\n"
     ]
    },
    {
     "name": "stderr",
     "output_type": "stream",
     "text": [
      "Uploading file: OREGON_STATE_PRISM_012015_20240201_20240301_PPT.tif:  26%|██▌       | 62/240 [00:11<00:24,  7.14it/s]"
     ]
    },
    {
     "name": "stdout",
     "output_type": "stream",
     "text": [
      "[2025-06-25 15:10:25 INFO] Uploaded file OREGON_STATE_PRISM_009015_20240601_20240701_PPT.tif to aws bucket ose-dev-inputs\n"
     ]
    },
    {
     "name": "stderr",
     "output_type": "stream",
     "text": [
      "Uploading file: OREGON_STATE_PRISM_009015_20240601_20240701_PPT.tif:  26%|██▋       | 63/240 [00:11<00:24,  7.26it/s]"
     ]
    },
    {
     "name": "stdout",
     "output_type": "stream",
     "text": [
      "[2025-06-25 15:10:25 INFO] Uploaded file OREGON_STATE_PRISM_010013_20240901_20241001_PPT.tif to aws bucket ose-dev-inputs\n"
     ]
    },
    {
     "name": "stderr",
     "output_type": "stream",
     "text": [
      "Uploading file: OREGON_STATE_PRISM_010013_20240901_20241001_PPT.tif:  27%|██▋       | 64/240 [00:12<00:23,  7.37it/s]"
     ]
    },
    {
     "name": "stdout",
     "output_type": "stream",
     "text": [
      "[2025-06-25 15:10:25 INFO] Uploaded file OREGON_STATE_PRISM_012011_20240301_20240401_PPT.tif to aws bucket ose-dev-inputs\n"
     ]
    },
    {
     "name": "stderr",
     "output_type": "stream",
     "text": [
      "Uploading file: OREGON_STATE_PRISM_012011_20240301_20240401_PPT.tif:  27%|██▋       | 65/240 [00:12<00:24,  7.01it/s]"
     ]
    },
    {
     "name": "stdout",
     "output_type": "stream",
     "text": [
      "[2025-06-25 15:10:25 INFO] Uploaded file OREGON_STATE_PRISM_011012_20240601_20240701_PPT.tif to aws bucket ose-dev-inputs\n"
     ]
    },
    {
     "name": "stderr",
     "output_type": "stream",
     "text": [
      "Uploading file: OREGON_STATE_PRISM_011012_20240601_20240701_PPT.tif:  28%|██▊       | 66/240 [00:12<00:24,  7.21it/s]"
     ]
    },
    {
     "name": "stdout",
     "output_type": "stream",
     "text": [
      "[2025-06-25 15:10:25 INFO] Uploaded file OREGON_STATE_PRISM_012014_20241001_20241101_PPT.tif to aws bucket ose-dev-inputs\n"
     ]
    },
    {
     "name": "stderr",
     "output_type": "stream",
     "text": [
      "Uploading file: OREGON_STATE_PRISM_012014_20241001_20241101_PPT.tif:  28%|██▊       | 67/240 [00:12<00:24,  7.15it/s]"
     ]
    },
    {
     "name": "stdout",
     "output_type": "stream",
     "text": [
      "[2025-06-25 15:10:26 INFO] Uploaded file OREGON_STATE_PRISM_011015_20241201_20250101_PPT.tif to aws bucket ose-dev-inputs\n"
     ]
    },
    {
     "name": "stderr",
     "output_type": "stream",
     "text": [
      "Uploading file: OREGON_STATE_PRISM_011015_20241201_20250101_PPT.tif:  28%|██▊       | 68/240 [00:12<00:23,  7.29it/s]"
     ]
    },
    {
     "name": "stdout",
     "output_type": "stream",
     "text": [
      "[2025-06-25 15:10:26 INFO] Uploaded file OREGON_STATE_PRISM_011012_20240201_20240301_PPT.tif to aws bucket ose-dev-inputs\n"
     ]
    },
    {
     "name": "stderr",
     "output_type": "stream",
     "text": [
      "Uploading file: OREGON_STATE_PRISM_011012_20240201_20240301_PPT.tif:  29%|██▉       | 69/240 [00:12<00:23,  7.38it/s]"
     ]
    },
    {
     "name": "stdout",
     "output_type": "stream",
     "text": [
      "[2025-06-25 15:10:26 INFO] Uploaded file OREGON_STATE_PRISM_010015_20241101_20241201_PPT.tif to aws bucket ose-dev-inputs\n"
     ]
    },
    {
     "name": "stderr",
     "output_type": "stream",
     "text": [
      "Uploading file: OREGON_STATE_PRISM_010015_20241101_20241201_PPT.tif:  29%|██▉       | 70/240 [00:12<00:24,  6.96it/s]"
     ]
    },
    {
     "name": "stdout",
     "output_type": "stream",
     "text": [
      "[2025-06-25 15:10:26 INFO] Uploaded file OREGON_STATE_PRISM_009014_20241001_20241101_PPT.tif to aws bucket ose-dev-inputs\n"
     ]
    },
    {
     "name": "stderr",
     "output_type": "stream",
     "text": [
      "Uploading file: OREGON_STATE_PRISM_009014_20241001_20241101_PPT.tif:  30%|██▉       | 71/240 [00:13<00:23,  7.09it/s]"
     ]
    },
    {
     "name": "stdout",
     "output_type": "stream",
     "text": [
      "[2025-06-25 15:10:26 INFO] Uploaded file OREGON_STATE_PRISM_011012_20240901_20241001_PPT.tif to aws bucket ose-dev-inputs\n"
     ]
    },
    {
     "name": "stderr",
     "output_type": "stream",
     "text": [
      "Uploading file: OREGON_STATE_PRISM_011012_20240901_20241001_PPT.tif:  30%|███       | 72/240 [00:13<00:23,  7.23it/s]"
     ]
    },
    {
     "name": "stdout",
     "output_type": "stream",
     "text": [
      "[2025-06-25 15:10:26 INFO] Uploaded file OREGON_STATE_PRISM_012013_20241101_20241201_PPT.tif to aws bucket ose-dev-inputs\n"
     ]
    },
    {
     "name": "stderr",
     "output_type": "stream",
     "text": [
      "Uploading file: OREGON_STATE_PRISM_012013_20241101_20241201_PPT.tif:  30%|███       | 73/240 [00:13<00:23,  7.25it/s]"
     ]
    },
    {
     "name": "stdout",
     "output_type": "stream",
     "text": [
      "[2025-06-25 15:10:26 INFO] Uploaded file OREGON_STATE_PRISM_009013_20241101_20241201_PPT.tif to aws bucket ose-dev-inputs\n"
     ]
    },
    {
     "name": "stderr",
     "output_type": "stream",
     "text": [
      "Uploading file: OREGON_STATE_PRISM_009013_20241101_20241201_PPT.tif:  31%|███       | 74/240 [00:13<00:22,  7.35it/s]"
     ]
    },
    {
     "name": "stdout",
     "output_type": "stream",
     "text": [
      "[2025-06-25 15:10:27 INFO] Uploaded file OREGON_STATE_PRISM_011013_20240801_20240901_PPT.tif to aws bucket ose-dev-inputs\n"
     ]
    },
    {
     "name": "stderr",
     "output_type": "stream",
     "text": [
      "Uploading file: OREGON_STATE_PRISM_011013_20240801_20240901_PPT.tif:  31%|███▏      | 75/240 [00:13<00:22,  7.40it/s]"
     ]
    },
    {
     "name": "stdout",
     "output_type": "stream",
     "text": [
      "[2025-06-25 15:10:27 INFO] Uploaded file OREGON_STATE_PRISM_010012_20241001_20241101_PPT.tif to aws bucket ose-dev-inputs\n"
     ]
    },
    {
     "name": "stderr",
     "output_type": "stream",
     "text": [
      "Uploading file: OREGON_STATE_PRISM_010012_20241001_20241101_PPT.tif:  32%|███▏      | 76/240 [00:13<00:21,  7.47it/s]"
     ]
    },
    {
     "name": "stdout",
     "output_type": "stream",
     "text": [
      "[2025-06-25 15:10:27 INFO] Uploaded file OREGON_STATE_PRISM_010013_20240201_20240301_PPT.tif to aws bucket ose-dev-inputs\n"
     ]
    },
    {
     "name": "stderr",
     "output_type": "stream",
     "text": [
      "Uploading file: OREGON_STATE_PRISM_010013_20240201_20240301_PPT.tif:  32%|███▏      | 77/240 [00:13<00:22,  7.38it/s]"
     ]
    },
    {
     "name": "stdout",
     "output_type": "stream",
     "text": [
      "[2025-06-25 15:10:27 INFO] Uploaded file OREGON_STATE_PRISM_012015_20240901_20241001_PPT.tif to aws bucket ose-dev-inputs\n"
     ]
    },
    {
     "name": "stderr",
     "output_type": "stream",
     "text": [
      "Uploading file: OREGON_STATE_PRISM_012015_20240901_20241001_PPT.tif:  32%|███▎      | 78/240 [00:14<00:21,  7.39it/s]"
     ]
    },
    {
     "name": "stdout",
     "output_type": "stream",
     "text": [
      "[2025-06-25 15:10:27 INFO] Uploaded file OREGON_STATE_PRISM_011014_20241101_20241201_PPT.tif to aws bucket ose-dev-inputs\n"
     ]
    },
    {
     "name": "stderr",
     "output_type": "stream",
     "text": [
      "Uploading file: OREGON_STATE_PRISM_011014_20241101_20241201_PPT.tif:  33%|███▎      | 79/240 [00:14<00:22,  7.29it/s]"
     ]
    },
    {
     "name": "stdout",
     "output_type": "stream",
     "text": [
      "[2025-06-25 15:10:27 INFO] Uploaded file OREGON_STATE_PRISM_009014_20240801_20240901_PPT.tif to aws bucket ose-dev-inputs\n"
     ]
    },
    {
     "name": "stderr",
     "output_type": "stream",
     "text": [
      "Uploading file: OREGON_STATE_PRISM_009014_20240801_20240901_PPT.tif:  33%|███▎      | 80/240 [00:14<00:22,  7.18it/s]"
     ]
    },
    {
     "name": "stdout",
     "output_type": "stream",
     "text": [
      "[2025-06-25 15:10:27 INFO] Uploaded file OREGON_STATE_PRISM_010013_20240601_20240701_PPT.tif to aws bucket ose-dev-inputs\n"
     ]
    },
    {
     "name": "stderr",
     "output_type": "stream",
     "text": [
      "Uploading file: OREGON_STATE_PRISM_010013_20240601_20240701_PPT.tif:  34%|███▍      | 81/240 [00:14<00:21,  7.33it/s]"
     ]
    },
    {
     "name": "stdout",
     "output_type": "stream",
     "text": [
      "[2025-06-25 15:10:28 INFO] Uploaded file OREGON_STATE_PRISM_012014_20240801_20240901_PPT.tif to aws bucket ose-dev-inputs\n"
     ]
    },
    {
     "name": "stderr",
     "output_type": "stream",
     "text": [
      "Uploading file: OREGON_STATE_PRISM_012014_20240801_20240901_PPT.tif:  34%|███▍      | 82/240 [00:14<00:21,  7.35it/s]"
     ]
    },
    {
     "name": "stdout",
     "output_type": "stream",
     "text": [
      "[2025-06-25 15:10:28 INFO] Uploaded file OREGON_STATE_PRISM_009015_20240901_20241001_PPT.tif to aws bucket ose-dev-inputs\n"
     ]
    },
    {
     "name": "stderr",
     "output_type": "stream",
     "text": [
      "Uploading file: OREGON_STATE_PRISM_009015_20240901_20241001_PPT.tif:  35%|███▍      | 83/240 [00:14<00:21,  7.38it/s]"
     ]
    },
    {
     "name": "stdout",
     "output_type": "stream",
     "text": [
      "[2025-06-25 15:10:28 INFO] Uploaded file OREGON_STATE_PRISM_010014_20241201_20250101_PPT.tif to aws bucket ose-dev-inputs\n"
     ]
    },
    {
     "name": "stderr",
     "output_type": "stream",
     "text": [
      "Uploading file: OREGON_STATE_PRISM_010014_20241201_20250101_PPT.tif:  35%|███▌      | 84/240 [00:14<00:20,  7.50it/s]"
     ]
    },
    {
     "name": "stdout",
     "output_type": "stream",
     "text": [
      "[2025-06-25 15:10:28 INFO] Uploaded file OREGON_STATE_PRISM_010013_20241201_20250101_PPT.tif to aws bucket ose-dev-inputs\n"
     ]
    },
    {
     "name": "stderr",
     "output_type": "stream",
     "text": [
      "Uploading file: OREGON_STATE_PRISM_010013_20241201_20250101_PPT.tif:  35%|███▌      | 85/240 [00:14<00:20,  7.59it/s]"
     ]
    },
    {
     "name": "stdout",
     "output_type": "stream",
     "text": [
      "[2025-06-25 15:10:28 INFO] Uploaded file OREGON_STATE_PRISM_010011_20240501_20240601_PPT.tif to aws bucket ose-dev-inputs\n"
     ]
    },
    {
     "name": "stderr",
     "output_type": "stream",
     "text": [
      "Uploading file: OREGON_STATE_PRISM_010011_20240501_20240601_PPT.tif:  36%|███▌      | 86/240 [00:15<00:20,  7.61it/s]"
     ]
    },
    {
     "name": "stdout",
     "output_type": "stream",
     "text": [
      "[2025-06-25 15:10:28 INFO] Uploaded file OREGON_STATE_PRISM_010014_20240601_20240701_PPT.tif to aws bucket ose-dev-inputs\n"
     ]
    },
    {
     "name": "stderr",
     "output_type": "stream",
     "text": [
      "Uploading file: OREGON_STATE_PRISM_010014_20240601_20240701_PPT.tif:  36%|███▋      | 87/240 [00:15<00:21,  7.13it/s]"
     ]
    },
    {
     "name": "stdout",
     "output_type": "stream",
     "text": [
      "[2025-06-25 15:10:28 INFO] Uploaded file OREGON_STATE_PRISM_009012_20240901_20241001_PPT.tif to aws bucket ose-dev-inputs\n"
     ]
    },
    {
     "name": "stderr",
     "output_type": "stream",
     "text": [
      "Uploading file: OREGON_STATE_PRISM_009012_20240901_20241001_PPT.tif:  37%|███▋      | 88/240 [00:15<00:20,  7.36it/s]"
     ]
    },
    {
     "name": "stdout",
     "output_type": "stream",
     "text": [
      "[2025-06-25 15:10:28 INFO] Uploaded file OREGON_STATE_PRISM_012013_20240801_20240901_PPT.tif to aws bucket ose-dev-inputs\n"
     ]
    },
    {
     "name": "stderr",
     "output_type": "stream",
     "text": [
      "Uploading file: OREGON_STATE_PRISM_012013_20240801_20240901_PPT.tif:  37%|███▋      | 89/240 [00:15<00:20,  7.52it/s]"
     ]
    },
    {
     "name": "stdout",
     "output_type": "stream",
     "text": [
      "[2025-06-25 15:10:29 INFO] Uploaded file OREGON_STATE_PRISM_009013_20240801_20240901_PPT.tif to aws bucket ose-dev-inputs\n"
     ]
    },
    {
     "name": "stderr",
     "output_type": "stream",
     "text": [
      "Uploading file: OREGON_STATE_PRISM_009013_20240801_20240901_PPT.tif:  38%|███▊      | 90/240 [00:15<00:19,  7.63it/s]"
     ]
    },
    {
     "name": "stdout",
     "output_type": "stream",
     "text": [
      "[2025-06-25 15:10:29 INFO] Uploaded file OREGON_STATE_PRISM_010011_20240101_20240201_PPT.tif to aws bucket ose-dev-inputs\n"
     ]
    },
    {
     "name": "stderr",
     "output_type": "stream",
     "text": [
      "Uploading file: OREGON_STATE_PRISM_010011_20240101_20240201_PPT.tif:  38%|███▊      | 91/240 [00:15<00:19,  7.67it/s]"
     ]
    },
    {
     "name": "stdout",
     "output_type": "stream",
     "text": [
      "[2025-06-25 15:10:29 INFO] Uploaded file OREGON_STATE_PRISM_011013_20241101_20241201_PPT.tif to aws bucket ose-dev-inputs\n"
     ]
    },
    {
     "name": "stderr",
     "output_type": "stream",
     "text": [
      "Uploading file: OREGON_STATE_PRISM_011013_20241101_20241201_PPT.tif:  38%|███▊      | 92/240 [00:15<00:19,  7.71it/s]"
     ]
    },
    {
     "name": "stdout",
     "output_type": "stream",
     "text": [
      "[2025-06-25 15:10:29 INFO] Uploaded file OREGON_STATE_PRISM_012012_20240901_20241001_PPT.tif to aws bucket ose-dev-inputs\n"
     ]
    },
    {
     "name": "stderr",
     "output_type": "stream",
     "text": [
      "Uploading file: OREGON_STATE_PRISM_012012_20240901_20241001_PPT.tif:  39%|███▉      | 93/240 [00:16<00:19,  7.66it/s]"
     ]
    },
    {
     "name": "stdout",
     "output_type": "stream",
     "text": [
      "[2025-06-25 15:10:29 INFO] Uploaded file OREGON_STATE_PRISM_010014_20240201_20240301_PPT.tif to aws bucket ose-dev-inputs\n"
     ]
    },
    {
     "name": "stderr",
     "output_type": "stream",
     "text": [
      "Uploading file: OREGON_STATE_PRISM_010014_20240201_20240301_PPT.tif:  39%|███▉      | 94/240 [00:16<00:20,  7.24it/s]"
     ]
    },
    {
     "name": "stdout",
     "output_type": "stream",
     "text": [
      "[2025-06-25 15:10:29 INFO] Uploaded file OREGON_STATE_PRISM_010015_20241001_20241101_PPT.tif to aws bucket ose-dev-inputs\n"
     ]
    },
    {
     "name": "stderr",
     "output_type": "stream",
     "text": [
      "Uploading file: OREGON_STATE_PRISM_010015_20241001_20241101_PPT.tif:  40%|███▉      | 95/240 [00:16<00:19,  7.39it/s]"
     ]
    },
    {
     "name": "stdout",
     "output_type": "stream",
     "text": [
      "[2025-06-25 15:10:29 INFO] Uploaded file OREGON_STATE_PRISM_011014_20240801_20240901_PPT.tif to aws bucket ose-dev-inputs\n"
     ]
    },
    {
     "name": "stderr",
     "output_type": "stream",
     "text": [
      "Uploading file: OREGON_STATE_PRISM_011014_20240801_20240901_PPT.tif:  40%|████      | 96/240 [00:16<00:19,  7.40it/s]"
     ]
    },
    {
     "name": "stdout",
     "output_type": "stream",
     "text": [
      "[2025-06-25 15:10:30 INFO] Uploaded file OREGON_STATE_PRISM_009014_20241101_20241201_PPT.tif to aws bucket ose-dev-inputs\n"
     ]
    },
    {
     "name": "stderr",
     "output_type": "stream",
     "text": [
      "Uploading file: OREGON_STATE_PRISM_009014_20241101_20241201_PPT.tif:  40%|████      | 97/240 [00:16<00:19,  7.50it/s]"
     ]
    },
    {
     "name": "stdout",
     "output_type": "stream",
     "text": [
      "[2025-06-25 15:10:30 INFO] Uploaded file OREGON_STATE_PRISM_012014_20241101_20241201_PPT.tif to aws bucket ose-dev-inputs\n"
     ]
    },
    {
     "name": "stderr",
     "output_type": "stream",
     "text": [
      "Uploading file: OREGON_STATE_PRISM_012014_20241101_20241201_PPT.tif:  41%|████      | 98/240 [00:16<00:18,  7.49it/s]"
     ]
    },
    {
     "name": "stdout",
     "output_type": "stream",
     "text": [
      "[2025-06-25 15:10:30 INFO] Uploaded file OREGON_STATE_PRISM_011015_20240901_20241001_PPT.tif to aws bucket ose-dev-inputs\n"
     ]
    },
    {
     "name": "stderr",
     "output_type": "stream",
     "text": [
      "Uploading file: OREGON_STATE_PRISM_011015_20240901_20241001_PPT.tif:  41%|████▏     | 99/240 [00:16<00:18,  7.48it/s]"
     ]
    },
    {
     "name": "stdout",
     "output_type": "stream",
     "text": [
      "[2025-06-25 15:10:30 INFO] Uploaded file OREGON_STATE_PRISM_010011_20240701_20240801_PPT.tif to aws bucket ose-dev-inputs\n"
     ]
    },
    {
     "name": "stderr",
     "output_type": "stream",
     "text": [
      "Uploading file: OREGON_STATE_PRISM_010011_20240701_20240801_PPT.tif:  42%|████▏     | 100/240 [00:16<00:18,  7.50it/s]"
     ]
    },
    {
     "name": "stdout",
     "output_type": "stream",
     "text": [
      "[2025-06-25 15:10:30 INFO] Uploaded file OREGON_STATE_PRISM_009013_20241001_20241101_PPT.tif to aws bucket ose-dev-inputs\n"
     ]
    },
    {
     "name": "stderr",
     "output_type": "stream",
     "text": [
      "Uploading file: OREGON_STATE_PRISM_009013_20241001_20241101_PPT.tif:  42%|████▏     | 101/240 [00:17<00:24,  5.74it/s]"
     ]
    },
    {
     "name": "stdout",
     "output_type": "stream",
     "text": [
      "[2025-06-25 15:10:30 INFO] Uploaded file OREGON_STATE_PRISM_011011_20240301_20240401_PPT.tif to aws bucket ose-dev-inputs\n"
     ]
    },
    {
     "name": "stderr",
     "output_type": "stream",
     "text": [
      "Uploading file: OREGON_STATE_PRISM_011011_20240301_20240401_PPT.tif:  42%|████▎     | 102/240 [00:17<00:22,  6.04it/s]"
     ]
    },
    {
     "name": "stdout",
     "output_type": "stream",
     "text": [
      "[2025-06-25 15:10:30 INFO] Uploaded file OREGON_STATE_PRISM_010012_20241101_20241201_PPT.tif to aws bucket ose-dev-inputs\n"
     ]
    },
    {
     "name": "stderr",
     "output_type": "stream",
     "text": [
      "Uploading file: OREGON_STATE_PRISM_010012_20241101_20241201_PPT.tif:  43%|████▎     | 103/240 [00:17<00:21,  6.30it/s]"
     ]
    },
    {
     "name": "stdout",
     "output_type": "stream",
     "text": [
      "[2025-06-25 15:10:31 INFO] Uploaded file OREGON_STATE_PRISM_011015_20240201_20240301_PPT.tif to aws bucket ose-dev-inputs\n"
     ]
    },
    {
     "name": "stderr",
     "output_type": "stream",
     "text": [
      "Uploading file: OREGON_STATE_PRISM_011015_20240201_20240301_PPT.tif:  43%|████▎     | 104/240 [00:17<00:21,  6.45it/s]"
     ]
    },
    {
     "name": "stdout",
     "output_type": "stream",
     "text": [
      "[2025-06-25 15:10:31 INFO] Uploaded file OREGON_STATE_PRISM_011012_20241201_20250101_PPT.tif to aws bucket ose-dev-inputs\n"
     ]
    },
    {
     "name": "stderr",
     "output_type": "stream",
     "text": [
      "Uploading file: OREGON_STATE_PRISM_011012_20241201_20250101_PPT.tif:  44%|████▍     | 105/240 [00:17<00:20,  6.61it/s]"
     ]
    },
    {
     "name": "stdout",
     "output_type": "stream",
     "text": [
      "[2025-06-25 15:10:31 INFO] Uploaded file OREGON_STATE_PRISM_011015_20240601_20240701_PPT.tif to aws bucket ose-dev-inputs\n"
     ]
    },
    {
     "name": "stderr",
     "output_type": "stream",
     "text": [
      "Uploading file: OREGON_STATE_PRISM_011015_20240601_20240701_PPT.tif:  44%|████▍     | 106/240 [00:17<00:19,  6.73it/s]"
     ]
    },
    {
     "name": "stdout",
     "output_type": "stream",
     "text": [
      "[2025-06-25 15:10:31 INFO] Uploaded file OREGON_STATE_PRISM_012013_20241001_20241101_PPT.tif to aws bucket ose-dev-inputs\n"
     ]
    },
    {
     "name": "stderr",
     "output_type": "stream",
     "text": [
      "Uploading file: OREGON_STATE_PRISM_012013_20241001_20241101_PPT.tif:  45%|████▍     | 107/240 [00:18<00:19,  6.81it/s]"
     ]
    },
    {
     "name": "stdout",
     "output_type": "stream",
     "text": [
      "[2025-06-25 15:10:31 INFO] Uploaded file OREGON_STATE_PRISM_009012_20240601_20240701_PPT.tif to aws bucket ose-dev-inputs\n"
     ]
    },
    {
     "name": "stderr",
     "output_type": "stream",
     "text": [
      "Uploading file: OREGON_STATE_PRISM_009012_20240601_20240701_PPT.tif:  45%|████▌     | 108/240 [00:18<00:19,  6.83it/s]"
     ]
    },
    {
     "name": "stdout",
     "output_type": "stream",
     "text": [
      "[2025-06-25 15:10:31 INFO] Uploaded file OREGON_STATE_PRISM_010014_20240901_20241001_PPT.tif to aws bucket ose-dev-inputs\n"
     ]
    },
    {
     "name": "stderr",
     "output_type": "stream",
     "text": [
      "Uploading file: OREGON_STATE_PRISM_010014_20240901_20241001_PPT.tif:  45%|████▌     | 109/240 [00:18<00:19,  6.85it/s]"
     ]
    },
    {
     "name": "stdout",
     "output_type": "stream",
     "text": [
      "[2025-06-25 15:10:31 INFO] Uploaded file OREGON_STATE_PRISM_009015_20241201_20250101_PPT.tif to aws bucket ose-dev-inputs\n"
     ]
    },
    {
     "name": "stderr",
     "output_type": "stream",
     "text": [
      "Uploading file: OREGON_STATE_PRISM_009015_20241201_20250101_PPT.tif:  46%|████▌     | 110/240 [00:18<00:18,  6.99it/s]"
     ]
    },
    {
     "name": "stdout",
     "output_type": "stream",
     "text": [
      "[2025-06-25 15:10:32 INFO] Uploaded file OREGON_STATE_PRISM_012012_20240201_20240301_PPT.tif to aws bucket ose-dev-inputs\n"
     ]
    },
    {
     "name": "stderr",
     "output_type": "stream",
     "text": [
      "Uploading file: OREGON_STATE_PRISM_012012_20240201_20240301_PPT.tif:  46%|████▋     | 111/240 [00:18<00:19,  6.64it/s]"
     ]
    },
    {
     "name": "stdout",
     "output_type": "stream",
     "text": [
      "[2025-06-25 15:10:32 INFO] Uploaded file OREGON_STATE_PRISM_012015_20241201_20250101_PPT.tif to aws bucket ose-dev-inputs\n"
     ]
    },
    {
     "name": "stderr",
     "output_type": "stream",
     "text": [
      "Uploading file: OREGON_STATE_PRISM_012015_20241201_20250101_PPT.tif:  47%|████▋     | 112/240 [00:18<00:19,  6.73it/s]"
     ]
    },
    {
     "name": "stdout",
     "output_type": "stream",
     "text": [
      "[2025-06-25 15:10:32 INFO] Uploaded file OREGON_STATE_PRISM_009012_20240201_20240301_PPT.tif to aws bucket ose-dev-inputs\n"
     ]
    },
    {
     "name": "stderr",
     "output_type": "stream",
     "text": [
      "Uploading file: OREGON_STATE_PRISM_009012_20240201_20240301_PPT.tif:  47%|████▋     | 113/240 [00:19<00:19,  6.47it/s]"
     ]
    },
    {
     "name": "stdout",
     "output_type": "stream",
     "text": [
      "[2025-06-25 15:10:32 INFO] Uploaded file OREGON_STATE_PRISM_012012_20240601_20240701_PPT.tif to aws bucket ose-dev-inputs\n"
     ]
    },
    {
     "name": "stderr",
     "output_type": "stream",
     "text": [
      "Uploading file: OREGON_STATE_PRISM_012012_20240601_20240701_PPT.tif:  48%|████▊     | 114/240 [00:19<00:19,  6.58it/s]"
     ]
    },
    {
     "name": "stdout",
     "output_type": "stream",
     "text": [
      "[2025-06-25 15:10:32 INFO] Uploaded file OREGON_STATE_PRISM_011014_20241001_20241101_PPT.tif to aws bucket ose-dev-inputs\n"
     ]
    },
    {
     "name": "stderr",
     "output_type": "stream",
     "text": [
      "Uploading file: OREGON_STATE_PRISM_011014_20241001_20241101_PPT.tif:  48%|████▊     | 115/240 [00:19<00:18,  6.66it/s]"
     ]
    },
    {
     "name": "stdout",
     "output_type": "stream",
     "text": [
      "[2025-06-25 15:10:32 INFO] Uploaded file OREGON_STATE_PRISM_010015_20240801_20240901_PPT.tif to aws bucket ose-dev-inputs\n"
     ]
    },
    {
     "name": "stderr",
     "output_type": "stream",
     "text": [
      "Uploading file: OREGON_STATE_PRISM_010015_20240801_20240901_PPT.tif:  48%|████▊     | 116/240 [00:19<00:18,  6.76it/s]"
     ]
    },
    {
     "name": "stdout",
     "output_type": "stream",
     "text": [
      "[2025-06-25 15:10:33 INFO] Uploaded file OREGON_STATE_PRISM_010015_20240901_20241001_PPT.tif to aws bucket ose-dev-inputs\n"
     ]
    },
    {
     "name": "stderr",
     "output_type": "stream",
     "text": [
      "Uploading file: OREGON_STATE_PRISM_010015_20240901_20241001_PPT.tif:  49%|████▉     | 117/240 [00:19<00:17,  6.90it/s]"
     ]
    },
    {
     "name": "stdout",
     "output_type": "stream",
     "text": [
      "[2025-06-25 15:10:33 INFO] Uploaded file OREGON_STATE_PRISM_009013_20240601_20240701_PPT.tif to aws bucket ose-dev-inputs\n"
     ]
    },
    {
     "name": "stderr",
     "output_type": "stream",
     "text": [
      "Uploading file: OREGON_STATE_PRISM_009013_20240601_20240701_PPT.tif:  49%|████▉     | 118/240 [00:19<00:17,  6.94it/s]"
     ]
    },
    {
     "name": "stdout",
     "output_type": "stream",
     "text": [
      "[2025-06-25 15:10:33 INFO] Uploaded file OREGON_STATE_PRISM_012013_20240201_20240301_PPT.tif to aws bucket ose-dev-inputs\n"
     ]
    },
    {
     "name": "stderr",
     "output_type": "stream",
     "text": [
      "Uploading file: OREGON_STATE_PRISM_012013_20240201_20240301_PPT.tif:  50%|████▉     | 119/240 [00:19<00:17,  6.94it/s]"
     ]
    },
    {
     "name": "stdout",
     "output_type": "stream",
     "text": [
      "[2025-06-25 15:10:33 INFO] Uploaded file OREGON_STATE_PRISM_011011_20240701_20240801_PPT.tif to aws bucket ose-dev-inputs\n"
     ]
    },
    {
     "name": "stderr",
     "output_type": "stream",
     "text": [
      "Uploading file: OREGON_STATE_PRISM_011011_20240701_20240801_PPT.tif:  50%|█████     | 120/240 [00:20<00:17,  6.99it/s]"
     ]
    },
    {
     "name": "stdout",
     "output_type": "stream",
     "text": [
      "[2025-06-25 15:10:33 INFO] Uploaded file OREGON_STATE_PRISM_009014_20241201_20250101_PPT.tif to aws bucket ose-dev-inputs\n"
     ]
    },
    {
     "name": "stderr",
     "output_type": "stream",
     "text": [
      "Uploading file: OREGON_STATE_PRISM_009014_20241201_20250101_PPT.tif:  50%|█████     | 121/240 [00:20<00:16,  7.02it/s]"
     ]
    },
    {
     "name": "stdout",
     "output_type": "stream",
     "text": [
      "[2025-06-25 15:10:33 INFO] Uploaded file OREGON_STATE_PRISM_009013_20240201_20240301_PPT.tif to aws bucket ose-dev-inputs\n"
     ]
    },
    {
     "name": "stderr",
     "output_type": "stream",
     "text": [
      "Uploading file: OREGON_STATE_PRISM_009013_20240201_20240301_PPT.tif:  51%|█████     | 122/240 [00:20<00:17,  6.86it/s]"
     ]
    },
    {
     "name": "stdout",
     "output_type": "stream",
     "text": [
      "[2025-06-25 15:10:33 INFO] Uploaded file OREGON_STATE_PRISM_012014_20241201_20250101_PPT.tif to aws bucket ose-dev-inputs\n"
     ]
    },
    {
     "name": "stderr",
     "output_type": "stream",
     "text": [
      "Uploading file: OREGON_STATE_PRISM_012014_20241201_20250101_PPT.tif:  51%|█████▏    | 123/240 [00:20<00:18,  6.48it/s]"
     ]
    },
    {
     "name": "stdout",
     "output_type": "stream",
     "text": [
      "[2025-06-25 15:10:34 INFO] Uploaded file OREGON_STATE_PRISM_011015_20241001_20241101_PPT.tif to aws bucket ose-dev-inputs\n"
     ]
    },
    {
     "name": "stderr",
     "output_type": "stream",
     "text": [
      "Uploading file: OREGON_STATE_PRISM_011015_20241001_20241101_PPT.tif:  52%|█████▏    | 124/240 [00:20<00:17,  6.45it/s]"
     ]
    },
    {
     "name": "stdout",
     "output_type": "stream",
     "text": [
      "[2025-06-25 15:10:34 INFO] Uploaded file OREGON_STATE_PRISM_010014_20240801_20240901_PPT.tif to aws bucket ose-dev-inputs\n"
     ]
    },
    {
     "name": "stderr",
     "output_type": "stream",
     "text": [
      "Uploading file: OREGON_STATE_PRISM_010014_20240801_20240901_PPT.tif:  52%|█████▏    | 125/240 [00:20<00:18,  6.15it/s]"
     ]
    },
    {
     "name": "stdout",
     "output_type": "stream",
     "text": [
      "[2025-06-25 15:10:34 INFO] Uploaded file OREGON_STATE_PRISM_012013_20240601_20240701_PPT.tif to aws bucket ose-dev-inputs\n"
     ]
    },
    {
     "name": "stderr",
     "output_type": "stream",
     "text": [
      "Uploading file: OREGON_STATE_PRISM_012013_20240601_20240701_PPT.tif:  52%|█████▎    | 126/240 [00:20<00:18,  6.20it/s]"
     ]
    },
    {
     "name": "stdout",
     "output_type": "stream",
     "text": [
      "[2025-06-25 15:10:34 INFO] Uploaded file OREGON_STATE_PRISM_009012_20241001_20241101_PPT.tif to aws bucket ose-dev-inputs\n"
     ]
    },
    {
     "name": "stderr",
     "output_type": "stream",
     "text": [
      "Uploading file: OREGON_STATE_PRISM_009012_20241001_20241101_PPT.tif:  53%|█████▎    | 127/240 [00:21<00:17,  6.38it/s]"
     ]
    },
    {
     "name": "stdout",
     "output_type": "stream",
     "text": [
      "[2025-06-25 15:10:34 INFO] Uploaded file OREGON_STATE_PRISM_011011_20240101_20240201_PPT.tif to aws bucket ose-dev-inputs\n"
     ]
    },
    {
     "name": "stderr",
     "output_type": "stream",
     "text": [
      "Uploading file: OREGON_STATE_PRISM_011011_20240101_20240201_PPT.tif:  53%|█████▎    | 128/240 [00:21<00:21,  5.27it/s]"
     ]
    },
    {
     "name": "stdout",
     "output_type": "stream",
     "text": [
      "[2025-06-25 15:10:35 INFO] Uploaded file OREGON_STATE_PRISM_010013_20241101_20241201_PPT.tif to aws bucket ose-dev-inputs\n"
     ]
    },
    {
     "name": "stderr",
     "output_type": "stream",
     "text": [
      "Uploading file: OREGON_STATE_PRISM_010013_20241101_20241201_PPT.tif:  54%|█████▍    | 129/240 [00:21<00:31,  3.55it/s]"
     ]
    },
    {
     "name": "stdout",
     "output_type": "stream",
     "text": [
      "[2025-06-25 15:10:35 INFO] Uploaded file OREGON_STATE_PRISM_011014_20240201_20240301_PPT.tif to aws bucket ose-dev-inputs\n"
     ]
    },
    {
     "name": "stderr",
     "output_type": "stream",
     "text": [
      "Uploading file: OREGON_STATE_PRISM_011014_20240201_20240301_PPT.tif:  54%|█████▍    | 130/240 [00:22<00:36,  3.02it/s]"
     ]
    },
    {
     "name": "stdout",
     "output_type": "stream",
     "text": [
      "[2025-06-25 15:10:36 INFO] Uploaded file OREGON_STATE_PRISM_011013_20241201_20250101_PPT.tif to aws bucket ose-dev-inputs\n"
     ]
    },
    {
     "name": "stderr",
     "output_type": "stream",
     "text": [
      "Uploading file: OREGON_STATE_PRISM_011013_20241201_20250101_PPT.tif:  55%|█████▍    | 131/240 [00:22<00:41,  2.61it/s]"
     ]
    },
    {
     "name": "stdout",
     "output_type": "stream",
     "text": [
      "[2025-06-25 15:10:36 INFO] Uploaded file OREGON_STATE_PRISM_011011_20240501_20240601_PPT.tif to aws bucket ose-dev-inputs\n"
     ]
    },
    {
     "name": "stderr",
     "output_type": "stream",
     "text": [
      "Uploading file: OREGON_STATE_PRISM_011011_20240501_20240601_PPT.tif:  55%|█████▌    | 132/240 [00:23<00:46,  2.34it/s]"
     ]
    },
    {
     "name": "stdout",
     "output_type": "stream",
     "text": [
      "[2025-06-25 15:10:37 INFO] Uploaded file OREGON_STATE_PRISM_012012_20241001_20241101_PPT.tif to aws bucket ose-dev-inputs\n"
     ]
    },
    {
     "name": "stderr",
     "output_type": "stream",
     "text": [
      "Uploading file: OREGON_STATE_PRISM_012012_20241001_20241101_PPT.tif:  55%|█████▌    | 133/240 [00:23<00:51,  2.06it/s]"
     ]
    },
    {
     "name": "stdout",
     "output_type": "stream",
     "text": [
      "[2025-06-25 15:10:37 INFO] Uploaded file OREGON_STATE_PRISM_011014_20240601_20240701_PPT.tif to aws bucket ose-dev-inputs\n"
     ]
    },
    {
     "name": "stderr",
     "output_type": "stream",
     "text": [
      "Uploading file: OREGON_STATE_PRISM_011014_20240601_20240701_PPT.tif:  56%|█████▌    | 134/240 [00:24<00:51,  2.05it/s]"
     ]
    },
    {
     "name": "stdout",
     "output_type": "stream",
     "text": [
      "[2025-06-25 15:10:38 INFO] Uploaded file OREGON_STATE_PRISM_010014_20241001_20241101_PPT.tif to aws bucket ose-dev-inputs\n"
     ]
    },
    {
     "name": "stderr",
     "output_type": "stream",
     "text": [
      "Uploading file: OREGON_STATE_PRISM_010014_20241001_20241101_PPT.tif:  56%|█████▋    | 135/240 [00:24<00:47,  2.21it/s]"
     ]
    },
    {
     "name": "stdout",
     "output_type": "stream",
     "text": [
      "[2025-06-25 15:10:38 INFO] Uploaded file OREGON_STATE_PRISM_011015_20240801_20240901_PPT.tif to aws bucket ose-dev-inputs\n"
     ]
    },
    {
     "name": "stderr",
     "output_type": "stream",
     "text": [
      "Uploading file: OREGON_STATE_PRISM_011015_20240801_20240901_PPT.tif:  57%|█████▋    | 136/240 [00:25<00:42,  2.42it/s]"
     ]
    },
    {
     "name": "stdout",
     "output_type": "stream",
     "text": [
      "[2025-06-25 15:10:38 INFO] Uploaded file OREGON_STATE_PRISM_009015_20241101_20241201_PPT.tif to aws bucket ose-dev-inputs\n"
     ]
    },
    {
     "name": "stderr",
     "output_type": "stream",
     "text": [
      "Uploading file: OREGON_STATE_PRISM_009015_20241101_20241201_PPT.tif:  57%|█████▋    | 137/240 [00:25<00:34,  3.00it/s]"
     ]
    },
    {
     "name": "stdout",
     "output_type": "stream",
     "text": [
      "[2025-06-25 15:10:38 INFO] Uploaded file OREGON_STATE_PRISM_011014_20240901_20241001_PPT.tif to aws bucket ose-dev-inputs\n"
     ]
    },
    {
     "name": "stderr",
     "output_type": "stream",
     "text": [
      "Uploading file: OREGON_STATE_PRISM_011014_20240901_20241001_PPT.tif:  57%|█████▊    | 138/240 [00:25<00:28,  3.62it/s]"
     ]
    },
    {
     "name": "stdout",
     "output_type": "stream",
     "text": [
      "[2025-06-25 15:10:39 INFO] Uploaded file OREGON_STATE_PRISM_012015_20241101_20241201_PPT.tif to aws bucket ose-dev-inputs\n"
     ]
    },
    {
     "name": "stderr",
     "output_type": "stream",
     "text": [
      "Uploading file: OREGON_STATE_PRISM_012015_20241101_20241201_PPT.tif:  58%|█████▊    | 139/240 [00:25<00:23,  4.25it/s]"
     ]
    },
    {
     "name": "stdout",
     "output_type": "stream",
     "text": [
      "[2025-06-25 15:10:39 INFO] Uploaded file OREGON_STATE_PRISM_009011_20240401_20240501_PPT.tif to aws bucket ose-dev-inputs\n"
     ]
    },
    {
     "name": "stderr",
     "output_type": "stream",
     "text": [
      "Uploading file: OREGON_STATE_PRISM_009011_20240401_20240501_PPT.tif:  58%|█████▊    | 140/240 [00:25<00:20,  4.85it/s]"
     ]
    },
    {
     "name": "stdout",
     "output_type": "stream",
     "text": [
      "[2025-06-25 15:10:39 INFO] Uploaded file OREGON_STATE_PRISM_010012_20241201_20250101_PPT.tif to aws bucket ose-dev-inputs\n"
     ]
    },
    {
     "name": "stderr",
     "output_type": "stream",
     "text": [
      "Uploading file: OREGON_STATE_PRISM_010012_20241201_20250101_PPT.tif:  59%|█████▉    | 141/240 [00:25<00:18,  5.36it/s]"
     ]
    },
    {
     "name": "stdout",
     "output_type": "stream",
     "text": [
      "[2025-06-25 15:10:39 INFO] Uploaded file OREGON_STATE_PRISM_012012_20240801_20240901_PPT.tif to aws bucket ose-dev-inputs\n"
     ]
    },
    {
     "name": "stderr",
     "output_type": "stream",
     "text": [
      "Uploading file: OREGON_STATE_PRISM_012012_20240801_20240901_PPT.tif:  59%|█████▉    | 142/240 [00:26<00:16,  5.81it/s]"
     ]
    },
    {
     "name": "stdout",
     "output_type": "stream",
     "text": [
      "[2025-06-25 15:10:39 INFO] Uploaded file OREGON_STATE_PRISM_009013_20240901_20241001_PPT.tif to aws bucket ose-dev-inputs\n"
     ]
    },
    {
     "name": "stderr",
     "output_type": "stream",
     "text": [
      "Uploading file: OREGON_STATE_PRISM_009013_20240901_20241001_PPT.tif:  60%|█████▉    | 143/240 [00:26<00:15,  6.07it/s]"
     ]
    },
    {
     "name": "stdout",
     "output_type": "stream",
     "text": [
      "[2025-06-25 15:10:39 INFO] Uploaded file OREGON_STATE_PRISM_010015_20240601_20240701_PPT.tif to aws bucket ose-dev-inputs\n"
     ]
    },
    {
     "name": "stderr",
     "output_type": "stream",
     "text": [
      "Uploading file: OREGON_STATE_PRISM_010015_20240601_20240701_PPT.tif:  60%|██████    | 144/240 [00:26<00:15,  6.35it/s]"
     ]
    },
    {
     "name": "stdout",
     "output_type": "stream",
     "text": [
      "[2025-06-25 15:10:39 INFO] Uploaded file OREGON_STATE_PRISM_012013_20240901_20241001_PPT.tif to aws bucket ose-dev-inputs\n"
     ]
    },
    {
     "name": "stderr",
     "output_type": "stream",
     "text": [
      "Uploading file: OREGON_STATE_PRISM_012013_20240901_20241001_PPT.tif:  60%|██████    | 145/240 [00:26<00:14,  6.53it/s]"
     ]
    },
    {
     "name": "stdout",
     "output_type": "stream",
     "text": [
      "[2025-06-25 15:10:40 INFO] Uploaded file OREGON_STATE_PRISM_009012_20240801_20240901_PPT.tif to aws bucket ose-dev-inputs\n"
     ]
    },
    {
     "name": "stderr",
     "output_type": "stream",
     "text": [
      "Uploading file: OREGON_STATE_PRISM_009012_20240801_20240901_PPT.tif:  61%|██████    | 146/240 [00:26<00:14,  6.41it/s]"
     ]
    },
    {
     "name": "stdout",
     "output_type": "stream",
     "text": [
      "[2025-06-25 15:10:40 INFO] Uploaded file OREGON_STATE_PRISM_011012_20241101_20241201_PPT.tif to aws bucket ose-dev-inputs\n"
     ]
    },
    {
     "name": "stderr",
     "output_type": "stream",
     "text": [
      "Uploading file: OREGON_STATE_PRISM_011012_20241101_20241201_PPT.tif:  61%|██████▏   | 147/240 [00:26<00:14,  6.64it/s]"
     ]
    },
    {
     "name": "stdout",
     "output_type": "stream",
     "text": [
      "[2025-06-25 15:10:40 INFO] Uploaded file OREGON_STATE_PRISM_010011_20240301_20240401_PPT.tif to aws bucket ose-dev-inputs\n"
     ]
    },
    {
     "name": "stderr",
     "output_type": "stream",
     "text": [
      "Uploading file: OREGON_STATE_PRISM_010011_20240301_20240401_PPT.tif:  62%|██████▏   | 148/240 [00:26<00:13,  6.73it/s]"
     ]
    },
    {
     "name": "stdout",
     "output_type": "stream",
     "text": [
      "[2025-06-25 15:10:40 INFO] Uploaded file OREGON_STATE_PRISM_010015_20240201_20240301_PPT.tif to aws bucket ose-dev-inputs\n"
     ]
    },
    {
     "name": "stderr",
     "output_type": "stream",
     "text": [
      "Uploading file: OREGON_STATE_PRISM_010015_20240201_20240301_PPT.tif:  62%|██████▏   | 149/240 [00:27<00:13,  6.87it/s]"
     ]
    },
    {
     "name": "stdout",
     "output_type": "stream",
     "text": [
      "[2025-06-25 15:10:40 INFO] Uploaded file OREGON_STATE_PRISM_012011_20240401_20240501_PPT.tif to aws bucket ose-dev-inputs\n"
     ]
    },
    {
     "name": "stderr",
     "output_type": "stream",
     "text": [
      "Uploading file: OREGON_STATE_PRISM_012011_20240401_20240501_PPT.tif:  62%|██████▎   | 150/240 [00:27<00:13,  6.86it/s]"
     ]
    },
    {
     "name": "stdout",
     "output_type": "stream",
     "text": [
      "[2025-06-25 15:10:40 INFO] Uploaded file OREGON_STATE_PRISM_010012_20240201_20240301_PPT.tif to aws bucket ose-dev-inputs\n"
     ]
    },
    {
     "name": "stderr",
     "output_type": "stream",
     "text": [
      "Uploading file: OREGON_STATE_PRISM_010012_20240201_20240301_PPT.tif:  63%|██████▎   | 151/240 [00:27<00:15,  5.71it/s]"
     ]
    },
    {
     "name": "stdout",
     "output_type": "stream",
     "text": [
      "[2025-06-25 15:10:41 INFO] Uploaded file OREGON_STATE_PRISM_011015_20241101_20241201_PPT.tif to aws bucket ose-dev-inputs\n"
     ]
    },
    {
     "name": "stderr",
     "output_type": "stream",
     "text": [
      "Uploading file: OREGON_STATE_PRISM_011015_20241101_20241201_PPT.tif:  63%|██████▎   | 152/240 [00:27<00:14,  6.10it/s]"
     ]
    },
    {
     "name": "stdout",
     "output_type": "stream",
     "text": [
      "[2025-06-25 15:10:41 INFO] Uploaded file OREGON_STATE_PRISM_009015_20240801_20240901_PPT.tif to aws bucket ose-dev-inputs\n"
     ]
    },
    {
     "name": "stderr",
     "output_type": "stream",
     "text": [
      "Uploading file: OREGON_STATE_PRISM_009015_20240801_20240901_PPT.tif:  64%|██████▍   | 153/240 [00:27<00:13,  6.37it/s]"
     ]
    },
    {
     "name": "stdout",
     "output_type": "stream",
     "text": [
      "[2025-06-25 15:10:41 INFO] Uploaded file OREGON_STATE_PRISM_012014_20240901_20241001_PPT.tif to aws bucket ose-dev-inputs\n"
     ]
    },
    {
     "name": "stderr",
     "output_type": "stream",
     "text": [
      "Uploading file: OREGON_STATE_PRISM_012014_20240901_20241001_PPT.tif:  64%|██████▍   | 154/240 [00:27<00:13,  6.58it/s]"
     ]
    },
    {
     "name": "stdout",
     "output_type": "stream",
     "text": [
      "[2025-06-25 15:10:41 INFO] Uploaded file OREGON_STATE_PRISM_009014_20240901_20241001_PPT.tif to aws bucket ose-dev-inputs\n"
     ]
    },
    {
     "name": "stderr",
     "output_type": "stream",
     "text": [
      "Uploading file: OREGON_STATE_PRISM_009014_20240901_20241001_PPT.tif:  65%|██████▍   | 155/240 [00:28<00:13,  6.31it/s]"
     ]
    },
    {
     "name": "stdout",
     "output_type": "stream",
     "text": [
      "[2025-06-25 15:10:41 INFO] Uploaded file OREGON_STATE_PRISM_012015_20240801_20240901_PPT.tif to aws bucket ose-dev-inputs\n"
     ]
    },
    {
     "name": "stderr",
     "output_type": "stream",
     "text": [
      "Uploading file: OREGON_STATE_PRISM_012015_20240801_20240901_PPT.tif:  65%|██████▌   | 156/240 [00:28<00:12,  6.58it/s]"
     ]
    },
    {
     "name": "stdout",
     "output_type": "stream",
     "text": [
      "[2025-06-25 15:10:41 INFO] Uploaded file OREGON_STATE_PRISM_010012_20240601_20240701_PPT.tif to aws bucket ose-dev-inputs\n"
     ]
    },
    {
     "name": "stderr",
     "output_type": "stream",
     "text": [
      "Uploading file: OREGON_STATE_PRISM_010012_20240601_20240701_PPT.tif:  65%|██████▌   | 157/240 [00:28<00:12,  6.67it/s]"
     ]
    },
    {
     "name": "stdout",
     "output_type": "stream",
     "text": [
      "[2025-06-25 15:10:41 INFO] Uploaded file OREGON_STATE_PRISM_010015_20241201_20250101_PPT.tif to aws bucket ose-dev-inputs\n"
     ]
    },
    {
     "name": "stderr",
     "output_type": "stream",
     "text": [
      "Uploading file: OREGON_STATE_PRISM_010015_20241201_20250101_PPT.tif:  66%|██████▌   | 158/240 [00:28<00:11,  6.84it/s]"
     ]
    },
    {
     "name": "stdout",
     "output_type": "stream",
     "text": [
      "[2025-06-25 15:10:42 INFO] Uploaded file OREGON_STATE_PRISM_011011_20240401_20240501_PPT.tif to aws bucket ose-dev-inputs\n"
     ]
    },
    {
     "name": "stderr",
     "output_type": "stream",
     "text": [
      "Uploading file: OREGON_STATE_PRISM_011011_20240401_20240501_PPT.tif:  66%|██████▋   | 159/240 [00:28<00:11,  6.95it/s]"
     ]
    },
    {
     "name": "stdout",
     "output_type": "stream",
     "text": [
      "[2025-06-25 15:10:42 INFO] Uploaded file OREGON_STATE_PRISM_012012_20241101_20241201_PPT.tif to aws bucket ose-dev-inputs\n"
     ]
    },
    {
     "name": "stderr",
     "output_type": "stream",
     "text": [
      "Uploading file: OREGON_STATE_PRISM_012012_20241101_20241201_PPT.tif:  67%|██████▋   | 160/240 [00:28<00:11,  6.99it/s]"
     ]
    },
    {
     "name": "stdout",
     "output_type": "stream",
     "text": [
      "[2025-06-25 15:10:42 INFO] Uploaded file OREGON_STATE_PRISM_011013_20240901_20241001_PPT.tif to aws bucket ose-dev-inputs\n"
     ]
    },
    {
     "name": "stderr",
     "output_type": "stream",
     "text": [
      "Uploading file: OREGON_STATE_PRISM_011013_20240901_20241001_PPT.tif:  67%|██████▋   | 161/240 [00:28<00:11,  6.95it/s]"
     ]
    },
    {
     "name": "stdout",
     "output_type": "stream",
     "text": [
      "[2025-06-25 15:10:42 INFO] Uploaded file OREGON_STATE_PRISM_009012_20241101_20241201_PPT.tif to aws bucket ose-dev-inputs\n"
     ]
    },
    {
     "name": "stderr",
     "output_type": "stream",
     "text": [
      "Uploading file: OREGON_STATE_PRISM_009012_20241101_20241201_PPT.tif:  68%|██████▊   | 162/240 [00:29<00:11,  7.02it/s]"
     ]
    },
    {
     "name": "stdout",
     "output_type": "stream",
     "text": [
      "[2025-06-25 15:10:42 INFO] Uploaded file OREGON_STATE_PRISM_011012_20240801_20240901_PPT.tif to aws bucket ose-dev-inputs\n"
     ]
    },
    {
     "name": "stderr",
     "output_type": "stream",
     "text": [
      "Uploading file: OREGON_STATE_PRISM_011012_20240801_20240901_PPT.tif:  68%|██████▊   | 163/240 [00:29<00:11,  6.98it/s]"
     ]
    },
    {
     "name": "stdout",
     "output_type": "stream",
     "text": [
      "[2025-06-25 15:10:42 INFO] Uploaded file OREGON_STATE_PRISM_010013_20241001_20241101_PPT.tif to aws bucket ose-dev-inputs\n"
     ]
    },
    {
     "name": "stderr",
     "output_type": "stream",
     "text": [
      "Uploading file: OREGON_STATE_PRISM_010013_20241001_20241101_PPT.tif:  68%|██████▊   | 164/240 [00:29<00:11,  6.62it/s]"
     ]
    },
    {
     "name": "stdout",
     "output_type": "stream",
     "text": [
      "[2025-06-25 15:10:42 INFO] Uploaded file OREGON_STATE_PRISM_012015_20241001_20241101_PPT.tif to aws bucket ose-dev-inputs\n"
     ]
    },
    {
     "name": "stderr",
     "output_type": "stream",
     "text": [
      "Uploading file: OREGON_STATE_PRISM_012015_20241001_20241101_PPT.tif:  69%|██████▉   | 165/240 [00:29<00:10,  6.83it/s]"
     ]
    },
    {
     "name": "stdout",
     "output_type": "stream",
     "text": [
      "[2025-06-25 15:10:43 INFO] Uploaded file OREGON_STATE_PRISM_011013_20240601_20240701_PPT.tif to aws bucket ose-dev-inputs\n"
     ]
    },
    {
     "name": "stderr",
     "output_type": "stream",
     "text": [
      "Uploading file: OREGON_STATE_PRISM_011013_20240601_20240701_PPT.tif:  69%|██████▉   | 166/240 [00:29<00:10,  6.93it/s]"
     ]
    },
    {
     "name": "stdout",
     "output_type": "stream",
     "text": [
      "[2025-06-25 15:10:43 INFO] Uploaded file OREGON_STATE_PRISM_009011_20240701_20240801_PPT.tif to aws bucket ose-dev-inputs\n"
     ]
    },
    {
     "name": "stderr",
     "output_type": "stream",
     "text": [
      "Uploading file: OREGON_STATE_PRISM_009011_20240701_20240801_PPT.tif:  70%|██████▉   | 167/240 [00:29<00:10,  6.96it/s]"
     ]
    },
    {
     "name": "stdout",
     "output_type": "stream",
     "text": [
      "[2025-06-25 15:10:43 INFO] Uploaded file OREGON_STATE_PRISM_011014_20241201_20250101_PPT.tif to aws bucket ose-dev-inputs\n"
     ]
    },
    {
     "name": "stderr",
     "output_type": "stream",
     "text": [
      "Uploading file: OREGON_STATE_PRISM_011014_20241201_20250101_PPT.tif:  70%|███████   | 168/240 [00:29<00:10,  7.09it/s]"
     ]
    },
    {
     "name": "stdout",
     "output_type": "stream",
     "text": [
      "[2025-06-25 15:10:43 INFO] Uploaded file OREGON_STATE_PRISM_011013_20240201_20240301_PPT.tif to aws bucket ose-dev-inputs\n"
     ]
    },
    {
     "name": "stderr",
     "output_type": "stream",
     "text": [
      "Uploading file: OREGON_STATE_PRISM_011013_20240201_20240301_PPT.tif:  70%|███████   | 169/240 [00:30<00:09,  7.17it/s]"
     ]
    },
    {
     "name": "stdout",
     "output_type": "stream",
     "text": [
      "[2025-06-25 15:10:43 INFO] Uploaded file OREGON_STATE_PRISM_012011_20240701_20240801_PPT.tif to aws bucket ose-dev-inputs\n"
     ]
    },
    {
     "name": "stderr",
     "output_type": "stream",
     "text": [
      "Uploading file: OREGON_STATE_PRISM_012011_20240701_20240801_PPT.tif:  71%|███████   | 170/240 [00:30<00:09,  7.24it/s]"
     ]
    },
    {
     "name": "stdout",
     "output_type": "stream",
     "text": [
      "[2025-06-25 15:10:43 INFO] Uploaded file OREGON_STATE_PRISM_010014_20241101_20241201_PPT.tif to aws bucket ose-dev-inputs\n"
     ]
    },
    {
     "name": "stderr",
     "output_type": "stream",
     "text": [
      "Uploading file: OREGON_STATE_PRISM_010014_20241101_20241201_PPT.tif:  71%|███████▏  | 171/240 [00:30<00:09,  7.22it/s]"
     ]
    },
    {
     "name": "stdout",
     "output_type": "stream",
     "text": [
      "[2025-06-25 15:10:43 INFO] Uploaded file OREGON_STATE_PRISM_009015_20241001_20241101_PPT.tif to aws bucket ose-dev-inputs\n"
     ]
    },
    {
     "name": "stderr",
     "output_type": "stream",
     "text": [
      "Uploading file: OREGON_STATE_PRISM_009015_20241001_20241101_PPT.tif:  72%|███████▏  | 172/240 [00:30<00:09,  7.10it/s]"
     ]
    },
    {
     "name": "stdout",
     "output_type": "stream",
     "text": [
      "[2025-06-25 15:10:44 INFO] Uploaded file OREGON_STATE_PRISM_010013_20240801_20240901_PPT.tif to aws bucket ose-dev-inputs\n"
     ]
    },
    {
     "name": "stderr",
     "output_type": "stream",
     "text": [
      "Uploading file: OREGON_STATE_PRISM_010013_20240801_20240901_PPT.tif:  72%|███████▏  | 173/240 [00:30<00:09,  7.20it/s]"
     ]
    },
    {
     "name": "stdout",
     "output_type": "stream",
     "text": [
      "[2025-06-25 15:10:44 INFO] Uploaded file OREGON_STATE_PRISM_009011_20240101_20240201_PPT.tif to aws bucket ose-dev-inputs\n"
     ]
    },
    {
     "name": "stderr",
     "output_type": "stream",
     "text": [
      "Uploading file: OREGON_STATE_PRISM_009011_20240101_20240201_PPT.tif:  72%|███████▎  | 174/240 [00:30<00:09,  7.12it/s]"
     ]
    },
    {
     "name": "stdout",
     "output_type": "stream",
     "text": [
      "[2025-06-25 15:10:44 INFO] Uploaded file OREGON_STATE_PRISM_011012_20241001_20241101_PPT.tif to aws bucket ose-dev-inputs\n"
     ]
    },
    {
     "name": "stderr",
     "output_type": "stream",
     "text": [
      "Uploading file: OREGON_STATE_PRISM_011012_20241001_20241101_PPT.tif:  73%|███████▎  | 175/240 [00:30<00:09,  7.13it/s]"
     ]
    },
    {
     "name": "stdout",
     "output_type": "stream",
     "text": [
      "[2025-06-25 15:10:44 INFO] Uploaded file OREGON_STATE_PRISM_012014_20240601_20240701_PPT.tif to aws bucket ose-dev-inputs\n"
     ]
    },
    {
     "name": "stderr",
     "output_type": "stream",
     "text": [
      "Uploading file: OREGON_STATE_PRISM_012014_20240601_20240701_PPT.tif:  73%|███████▎  | 176/240 [00:30<00:08,  7.18it/s]"
     ]
    },
    {
     "name": "stdout",
     "output_type": "stream",
     "text": [
      "[2025-06-25 15:10:44 INFO] Uploaded file OREGON_STATE_PRISM_009014_20240201_20240301_PPT.tif to aws bucket ose-dev-inputs\n"
     ]
    },
    {
     "name": "stderr",
     "output_type": "stream",
     "text": [
      "Uploading file: OREGON_STATE_PRISM_009014_20240201_20240301_PPT.tif:  74%|███████▍  | 177/240 [00:31<00:08,  7.16it/s]"
     ]
    },
    {
     "name": "stdout",
     "output_type": "stream",
     "text": [
      "[2025-06-25 15:10:44 INFO] Uploaded file OREGON_STATE_PRISM_012013_20241201_20250101_PPT.tif to aws bucket ose-dev-inputs\n"
     ]
    },
    {
     "name": "stderr",
     "output_type": "stream",
     "text": [
      "Uploading file: OREGON_STATE_PRISM_012013_20241201_20250101_PPT.tif:  74%|███████▍  | 178/240 [00:31<00:08,  7.19it/s]"
     ]
    },
    {
     "name": "stdout",
     "output_type": "stream",
     "text": [
      "[2025-06-25 15:10:44 INFO] Uploaded file OREGON_STATE_PRISM_012011_20240501_20240601_PPT.tif to aws bucket ose-dev-inputs\n"
     ]
    },
    {
     "name": "stderr",
     "output_type": "stream",
     "text": [
      "Uploading file: OREGON_STATE_PRISM_012011_20240501_20240601_PPT.tif:  75%|███████▍  | 179/240 [00:31<00:08,  7.15it/s]"
     ]
    },
    {
     "name": "stdout",
     "output_type": "stream",
     "text": [
      "[2025-06-25 15:10:44 INFO] Uploaded file OREGON_STATE_PRISM_012014_20240201_20240301_PPT.tif to aws bucket ose-dev-inputs\n"
     ]
    },
    {
     "name": "stderr",
     "output_type": "stream",
     "text": [
      "Uploading file: OREGON_STATE_PRISM_012014_20240201_20240301_PPT.tif:  75%|███████▌  | 180/240 [00:31<00:08,  6.98it/s]"
     ]
    },
    {
     "name": "stdout",
     "output_type": "stream",
     "text": [
      "[2025-06-25 15:10:45 INFO] Uploaded file OREGON_STATE_PRISM_009011_20240501_20240601_PPT.tif to aws bucket ose-dev-inputs\n"
     ]
    },
    {
     "name": "stderr",
     "output_type": "stream",
     "text": [
      "Uploading file: OREGON_STATE_PRISM_009011_20240501_20240601_PPT.tif:  75%|███████▌  | 181/240 [00:31<00:08,  6.84it/s]"
     ]
    },
    {
     "name": "stdout",
     "output_type": "stream",
     "text": [
      "[2025-06-25 15:10:45 INFO] Uploaded file OREGON_STATE_PRISM_009013_20241201_20250101_PPT.tif to aws bucket ose-dev-inputs\n"
     ]
    },
    {
     "name": "stderr",
     "output_type": "stream",
     "text": [
      "Uploading file: OREGON_STATE_PRISM_009013_20241201_20250101_PPT.tif:  76%|███████▌  | 182/240 [00:31<00:08,  6.95it/s]"
     ]
    },
    {
     "name": "stdout",
     "output_type": "stream",
     "text": [
      "[2025-06-25 15:10:45 INFO] Uploaded file OREGON_STATE_PRISM_012011_20240101_20240201_PPT.tif to aws bucket ose-dev-inputs\n"
     ]
    },
    {
     "name": "stderr",
     "output_type": "stream",
     "text": [
      "Uploading file: OREGON_STATE_PRISM_012011_20240101_20240201_PPT.tif:  76%|███████▋  | 183/240 [00:31<00:08,  7.00it/s]"
     ]
    },
    {
     "name": "stdout",
     "output_type": "stream",
     "text": [
      "[2025-06-25 15:10:45 INFO] Uploaded file OREGON_STATE_PRISM_010012_20240901_20241001_PPT.tif to aws bucket ose-dev-inputs\n"
     ]
    },
    {
     "name": "stderr",
     "output_type": "stream",
     "text": [
      "Uploading file: OREGON_STATE_PRISM_010012_20240901_20241001_PPT.tif:  77%|███████▋  | 184/240 [00:32<00:07,  7.08it/s]"
     ]
    },
    {
     "name": "stdout",
     "output_type": "stream",
     "text": [
      "[2025-06-25 15:10:45 INFO] Uploaded file OREGON_STATE_PRISM_009014_20240601_20240701_PPT.tif to aws bucket ose-dev-inputs\n"
     ]
    },
    {
     "name": "stderr",
     "output_type": "stream",
     "text": [
      "Uploading file: OREGON_STATE_PRISM_009014_20240601_20240701_PPT.tif:  77%|███████▋  | 185/240 [00:32<00:07,  7.08it/s]"
     ]
    },
    {
     "name": "stdout",
     "output_type": "stream",
     "text": [
      "[2025-06-25 15:10:45 INFO] Uploaded file OREGON_STATE_PRISM_011013_20240701_20240801_PPT.tif to aws bucket ose-dev-inputs\n"
     ]
    },
    {
     "name": "stderr",
     "output_type": "stream",
     "text": [
      "Uploading file: OREGON_STATE_PRISM_011013_20240701_20240801_PPT.tif:  78%|███████▊  | 186/240 [00:32<00:07,  7.08it/s]"
     ]
    },
    {
     "name": "stdout",
     "output_type": "stream",
     "text": [
      "[2025-06-25 15:10:45 INFO] Uploaded file OREGON_STATE_PRISM_012011_20240201_20240301_PPT.tif to aws bucket ose-dev-inputs\n"
     ]
    },
    {
     "name": "stderr",
     "output_type": "stream",
     "text": [
      "Uploading file: OREGON_STATE_PRISM_012011_20240201_20240301_PPT.tif:  78%|███████▊  | 187/240 [00:32<00:07,  7.20it/s]"
     ]
    },
    {
     "name": "stdout",
     "output_type": "stream",
     "text": [
      "[2025-06-25 15:10:46 INFO] Uploaded file OREGON_STATE_PRISM_009014_20240501_20240601_PPT.tif to aws bucket ose-dev-inputs\n"
     ]
    },
    {
     "name": "stderr",
     "output_type": "stream",
     "text": [
      "Uploading file: OREGON_STATE_PRISM_009014_20240501_20240601_PPT.tif:  78%|███████▊  | 188/240 [00:32<00:07,  7.04it/s]"
     ]
    },
    {
     "name": "stdout",
     "output_type": "stream",
     "text": [
      "[2025-06-25 15:10:46 INFO] Uploaded file OREGON_STATE_PRISM_010015_20240401_20240501_PPT.tif to aws bucket ose-dev-inputs\n"
     ]
    },
    {
     "name": "stderr",
     "output_type": "stream",
     "text": [
      "Uploading file: OREGON_STATE_PRISM_010015_20240401_20240501_PPT.tif:  79%|███████▉  | 189/240 [00:32<00:07,  7.11it/s]"
     ]
    },
    {
     "name": "stdout",
     "output_type": "stream",
     "text": [
      "[2025-06-25 15:10:46 INFO] Uploaded file OREGON_STATE_PRISM_012014_20240101_20240201_PPT.tif to aws bucket ose-dev-inputs\n"
     ]
    },
    {
     "name": "stderr",
     "output_type": "stream",
     "text": [
      "Uploading file: OREGON_STATE_PRISM_012014_20240101_20240201_PPT.tif:  79%|███████▉  | 190/240 [00:32<00:06,  7.22it/s]"
     ]
    },
    {
     "name": "stdout",
     "output_type": "stream",
     "text": [
      "[2025-06-25 15:10:46 INFO] Uploaded file OREGON_STATE_PRISM_012015_20240301_20240401_PPT.tif to aws bucket ose-dev-inputs\n"
     ]
    },
    {
     "name": "stderr",
     "output_type": "stream",
     "text": [
      "Uploading file: OREGON_STATE_PRISM_012015_20240301_20240401_PPT.tif:  80%|███████▉  | 191/240 [00:33<00:06,  7.34it/s]"
     ]
    },
    {
     "name": "stdout",
     "output_type": "stream",
     "text": [
      "[2025-06-25 15:10:46 INFO] Uploaded file OREGON_STATE_PRISM_009011_20240601_20240701_PPT.tif to aws bucket ose-dev-inputs\n"
     ]
    },
    {
     "name": "stderr",
     "output_type": "stream",
     "text": [
      "Uploading file: OREGON_STATE_PRISM_009011_20240601_20240701_PPT.tif:  80%|████████  | 192/240 [00:33<00:06,  7.36it/s]"
     ]
    },
    {
     "name": "stdout",
     "output_type": "stream",
     "text": [
      "[2025-06-25 15:10:46 INFO] Uploaded file OREGON_STATE_PRISM_009015_20240301_20240401_PPT.tif to aws bucket ose-dev-inputs\n"
     ]
    },
    {
     "name": "stderr",
     "output_type": "stream",
     "text": [
      "Uploading file: OREGON_STATE_PRISM_009015_20240301_20240401_PPT.tif:  80%|████████  | 193/240 [00:33<00:06,  7.39it/s]"
     ]
    },
    {
     "name": "stdout",
     "output_type": "stream",
     "text": [
      "[2025-06-25 15:10:46 INFO] Uploaded file OREGON_STATE_PRISM_009014_20240101_20240201_PPT.tif to aws bucket ose-dev-inputs\n"
     ]
    },
    {
     "name": "stderr",
     "output_type": "stream",
     "text": [
      "Uploading file: OREGON_STATE_PRISM_009014_20240101_20240201_PPT.tif:  81%|████████  | 194/240 [00:33<00:06,  7.24it/s]"
     ]
    },
    {
     "name": "stdout",
     "output_type": "stream",
     "text": [
      "[2025-06-25 15:10:47 INFO] Uploaded file OREGON_STATE_PRISM_012011_20240601_20240701_PPT.tif to aws bucket ose-dev-inputs\n"
     ]
    },
    {
     "name": "stderr",
     "output_type": "stream",
     "text": [
      "Uploading file: OREGON_STATE_PRISM_012011_20240601_20240701_PPT.tif:  81%|████████▏ | 195/240 [00:33<00:06,  7.07it/s]"
     ]
    },
    {
     "name": "stdout",
     "output_type": "stream",
     "text": [
      "[2025-06-25 15:10:47 INFO] Uploaded file OREGON_STATE_PRISM_009011_20240201_20240301_PPT.tif to aws bucket ose-dev-inputs\n"
     ]
    },
    {
     "name": "stderr",
     "output_type": "stream",
     "text": [
      "Uploading file: OREGON_STATE_PRISM_009011_20240201_20240301_PPT.tif:  82%|████████▏ | 196/240 [00:33<00:06,  7.06it/s]"
     ]
    },
    {
     "name": "stdout",
     "output_type": "stream",
     "text": [
      "[2025-06-25 15:10:47 INFO] Uploaded file OREGON_STATE_PRISM_012014_20240501_20240601_PPT.tif to aws bucket ose-dev-inputs\n"
     ]
    },
    {
     "name": "stderr",
     "output_type": "stream",
     "text": [
      "Uploading file: OREGON_STATE_PRISM_012014_20240501_20240601_PPT.tif:  82%|████████▏ | 197/240 [00:33<00:06,  7.16it/s]"
     ]
    },
    {
     "name": "stdout",
     "output_type": "stream",
     "text": [
      "[2025-06-25 15:10:47 INFO] Uploaded file OREGON_STATE_PRISM_012014_20240701_20240801_PPT.tif to aws bucket ose-dev-inputs\n"
     ]
    },
    {
     "name": "stderr",
     "output_type": "stream",
     "text": [
      "Uploading file: OREGON_STATE_PRISM_012014_20240701_20240801_PPT.tif:  82%|████████▎ | 198/240 [00:34<00:05,  7.25it/s]"
     ]
    },
    {
     "name": "stdout",
     "output_type": "stream",
     "text": [
      "[2025-06-25 15:10:47 INFO] Uploaded file OREGON_STATE_PRISM_010011_20241101_20241201_PPT.tif to aws bucket ose-dev-inputs\n"
     ]
    },
    {
     "name": "stderr",
     "output_type": "stream",
     "text": [
      "Uploading file: OREGON_STATE_PRISM_010011_20241101_20241201_PPT.tif:  83%|████████▎ | 199/240 [00:34<00:05,  7.28it/s]"
     ]
    },
    {
     "name": "stdout",
     "output_type": "stream",
     "text": [
      "[2025-06-25 15:10:47 INFO] Uploaded file OREGON_STATE_PRISM_011012_20240301_20240401_PPT.tif to aws bucket ose-dev-inputs\n"
     ]
    },
    {
     "name": "stderr",
     "output_type": "stream",
     "text": [
      "Uploading file: OREGON_STATE_PRISM_011012_20240301_20240401_PPT.tif:  83%|████████▎ | 200/240 [00:34<00:05,  7.26it/s]"
     ]
    },
    {
     "name": "stdout",
     "output_type": "stream",
     "text": [
      "[2025-06-25 15:10:48 INFO] Uploaded file OREGON_STATE_PRISM_011013_20240101_20240201_PPT.tif to aws bucket ose-dev-inputs\n"
     ]
    },
    {
     "name": "stderr",
     "output_type": "stream",
     "text": [
      "Uploading file: OREGON_STATE_PRISM_011013_20240101_20240201_PPT.tif:  84%|████████▍ | 201/240 [00:34<00:06,  5.78it/s]"
     ]
    },
    {
     "name": "stdout",
     "output_type": "stream",
     "text": [
      "[2025-06-25 15:10:48 INFO] Uploaded file OREGON_STATE_PRISM_009014_20240701_20240801_PPT.tif to aws bucket ose-dev-inputs\n"
     ]
    },
    {
     "name": "stderr",
     "output_type": "stream",
     "text": [
      "Uploading file: OREGON_STATE_PRISM_009014_20240701_20240801_PPT.tif:  84%|████████▍ | 202/240 [00:34<00:06,  6.07it/s]"
     ]
    },
    {
     "name": "stdout",
     "output_type": "stream",
     "text": [
      "[2025-06-25 15:10:48 INFO] Uploaded file OREGON_STATE_PRISM_011013_20240501_20240601_PPT.tif to aws bucket ose-dev-inputs\n"
     ]
    },
    {
     "name": "stderr",
     "output_type": "stream",
     "text": [
      "Uploading file: OREGON_STATE_PRISM_011013_20240501_20240601_PPT.tif:  85%|████████▍ | 203/240 [00:34<00:05,  6.22it/s]"
     ]
    },
    {
     "name": "stdout",
     "output_type": "stream",
     "text": [
      "[2025-06-25 15:10:48 INFO] Uploaded file OREGON_STATE_PRISM_011011_20241201_20250101_PPT.tif to aws bucket ose-dev-inputs\n"
     ]
    },
    {
     "name": "stderr",
     "output_type": "stream",
     "text": [
      "Uploading file: OREGON_STATE_PRISM_011011_20241201_20250101_PPT.tif:  85%|████████▌ | 204/240 [00:35<00:05,  6.51it/s]"
     ]
    },
    {
     "name": "stdout",
     "output_type": "stream",
     "text": [
      "[2025-06-25 15:10:48 INFO] Uploaded file OREGON_STATE_PRISM_010012_20240701_20240801_PPT.tif to aws bucket ose-dev-inputs\n"
     ]
    },
    {
     "name": "stderr",
     "output_type": "stream",
     "text": [
      "Uploading file: OREGON_STATE_PRISM_010012_20240701_20240801_PPT.tif:  85%|████████▌ | 205/240 [00:35<00:05,  6.82it/s]"
     ]
    },
    {
     "name": "stdout",
     "output_type": "stream",
     "text": [
      "[2025-06-25 15:10:48 INFO] Uploaded file OREGON_STATE_PRISM_011014_20240401_20240501_PPT.tif to aws bucket ose-dev-inputs\n"
     ]
    },
    {
     "name": "stderr",
     "output_type": "stream",
     "text": [
      "Uploading file: OREGON_STATE_PRISM_011014_20240401_20240501_PPT.tif:  86%|████████▌ | 206/240 [00:35<00:04,  6.93it/s]"
     ]
    },
    {
     "name": "stdout",
     "output_type": "stream",
     "text": [
      "[2025-06-25 15:10:48 INFO] Uploaded file OREGON_STATE_PRISM_009011_20240901_20241001_PPT.tif to aws bucket ose-dev-inputs\n"
     ]
    },
    {
     "name": "stderr",
     "output_type": "stream",
     "text": [
      "Uploading file: OREGON_STATE_PRISM_009011_20240901_20241001_PPT.tif:  86%|████████▋ | 207/240 [00:35<00:04,  7.02it/s]"
     ]
    },
    {
     "name": "stdout",
     "output_type": "stream",
     "text": [
      "[2025-06-25 15:10:49 INFO] Uploaded file OREGON_STATE_PRISM_010012_20240501_20240601_PPT.tif to aws bucket ose-dev-inputs\n"
     ]
    },
    {
     "name": "stderr",
     "output_type": "stream",
     "text": [
      "Uploading file: OREGON_STATE_PRISM_010012_20240501_20240601_PPT.tif:  87%|████████▋ | 208/240 [00:35<00:04,  7.09it/s]"
     ]
    },
    {
     "name": "stdout",
     "output_type": "stream",
     "text": [
      "[2025-06-25 15:10:49 INFO] Uploaded file OREGON_STATE_PRISM_009013_20240401_20240501_PPT.tif to aws bucket ose-dev-inputs\n"
     ]
    },
    {
     "name": "stderr",
     "output_type": "stream",
     "text": [
      "Uploading file: OREGON_STATE_PRISM_009013_20240401_20240501_PPT.tif:  87%|████████▋ | 209/240 [00:35<00:04,  7.14it/s]"
     ]
    },
    {
     "name": "stdout",
     "output_type": "stream",
     "text": [
      "[2025-06-25 15:10:49 INFO] Uploaded file OREGON_STATE_PRISM_012013_20240401_20240501_PPT.tif to aws bucket ose-dev-inputs\n"
     ]
    },
    {
     "name": "stderr",
     "output_type": "stream",
     "text": [
      "Uploading file: OREGON_STATE_PRISM_012013_20240401_20240501_PPT.tif:  88%|████████▊ | 210/240 [00:35<00:04,  6.98it/s]"
     ]
    },
    {
     "name": "stdout",
     "output_type": "stream",
     "text": [
      "[2025-06-25 15:10:49 INFO] Uploaded file OREGON_STATE_PRISM_010013_20240301_20240401_PPT.tif to aws bucket ose-dev-inputs\n"
     ]
    },
    {
     "name": "stderr",
     "output_type": "stream",
     "text": [
      "Uploading file: OREGON_STATE_PRISM_010013_20240301_20240401_PPT.tif:  88%|████████▊ | 211/240 [00:36<00:04,  6.72it/s]"
     ]
    },
    {
     "name": "stdout",
     "output_type": "stream",
     "text": [
      "[2025-06-25 15:10:49 INFO] Uploaded file OREGON_STATE_PRISM_010012_20240101_20240201_PPT.tif to aws bucket ose-dev-inputs\n"
     ]
    },
    {
     "name": "stderr",
     "output_type": "stream",
     "text": [
      "Uploading file: OREGON_STATE_PRISM_010012_20240101_20240201_PPT.tif:  88%|████████▊ | 212/240 [00:36<00:04,  6.47it/s]"
     ]
    },
    {
     "name": "stdout",
     "output_type": "stream",
     "text": [
      "[2025-06-25 15:10:49 INFO] Uploaded file OREGON_STATE_PRISM_012011_20240901_20241001_PPT.tif to aws bucket ose-dev-inputs\n"
     ]
    },
    {
     "name": "stderr",
     "output_type": "stream",
     "text": [
      "Uploading file: OREGON_STATE_PRISM_012011_20240901_20241001_PPT.tif:  89%|████████▉ | 213/240 [00:36<00:04,  6.57it/s]"
     ]
    },
    {
     "name": "stdout",
     "output_type": "stream",
     "text": [
      "[2025-06-25 15:10:49 INFO] Uploaded file OREGON_STATE_PRISM_010015_20240101_20240201_PPT.tif to aws bucket ose-dev-inputs\n"
     ]
    },
    {
     "name": "stderr",
     "output_type": "stream",
     "text": [
      "Uploading file: OREGON_STATE_PRISM_010015_20240101_20240201_PPT.tif:  89%|████████▉ | 214/240 [00:36<00:03,  6.63it/s]"
     ]
    },
    {
     "name": "stdout",
     "output_type": "stream",
     "text": [
      "[2025-06-25 15:10:50 INFO] Uploaded file OREGON_STATE_PRISM_010014_20240301_20240401_PPT.tif to aws bucket ose-dev-inputs\n"
     ]
    },
    {
     "name": "stderr",
     "output_type": "stream",
     "text": [
      "Uploading file: OREGON_STATE_PRISM_010014_20240301_20240401_PPT.tif:  90%|████████▉ | 215/240 [00:36<00:05,  4.73it/s]"
     ]
    },
    {
     "name": "stdout",
     "output_type": "stream",
     "text": [
      "[2025-06-25 15:10:50 INFO] Uploaded file OREGON_STATE_PRISM_012014_20240401_20240501_PPT.tif to aws bucket ose-dev-inputs\n"
     ]
    },
    {
     "name": "stderr",
     "output_type": "stream",
     "text": [
      "Uploading file: OREGON_STATE_PRISM_012014_20240401_20240501_PPT.tif:  90%|█████████ | 216/240 [00:37<00:07,  3.41it/s]"
     ]
    },
    {
     "name": "stdout",
     "output_type": "stream",
     "text": [
      "[2025-06-25 15:10:51 INFO] Uploaded file OREGON_STATE_PRISM_009014_20240401_20240501_PPT.tif to aws bucket ose-dev-inputs\n"
     ]
    },
    {
     "name": "stderr",
     "output_type": "stream",
     "text": [
      "Uploading file: OREGON_STATE_PRISM_009014_20240401_20240501_PPT.tif:  90%|█████████ | 217/240 [00:37<00:07,  2.94it/s]"
     ]
    },
    {
     "name": "stdout",
     "output_type": "stream",
     "text": [
      "[2025-06-25 15:10:51 INFO] Uploaded file OREGON_STATE_PRISM_010015_20240501_20240601_PPT.tif to aws bucket ose-dev-inputs\n"
     ]
    },
    {
     "name": "stderr",
     "output_type": "stream",
     "text": [
      "Uploading file: OREGON_STATE_PRISM_010015_20240501_20240601_PPT.tif:  91%|█████████ | 218/240 [00:38<00:08,  2.57it/s]"
     ]
    },
    {
     "name": "stdout",
     "output_type": "stream",
     "text": [
      "[2025-06-25 15:10:52 INFO] Uploaded file OREGON_STATE_PRISM_011011_20240901_20241001_PPT.tif to aws bucket ose-dev-inputs\n"
     ]
    },
    {
     "name": "stderr",
     "output_type": "stream",
     "text": [
      "Uploading file: OREGON_STATE_PRISM_011011_20240901_20241001_PPT.tif:  91%|█████████▏| 219/240 [00:38<00:09,  2.32it/s]"
     ]
    },
    {
     "name": "stdout",
     "output_type": "stream",
     "text": [
      "[2025-06-25 15:10:52 INFO] Uploaded file OREGON_STATE_PRISM_010015_20240701_20240801_PPT.tif to aws bucket ose-dev-inputs\n"
     ]
    },
    {
     "name": "stderr",
     "output_type": "stream",
     "text": [
      "Uploading file: OREGON_STATE_PRISM_010015_20240701_20240801_PPT.tif:  92%|█████████▏| 220/240 [00:39<00:08,  2.30it/s]"
     ]
    },
    {
     "name": "stdout",
     "output_type": "stream",
     "text": [
      "[2025-06-25 15:10:53 INFO] Uploaded file OREGON_STATE_PRISM_011013_20240401_20240501_PPT.tif to aws bucket ose-dev-inputs\n"
     ]
    },
    {
     "name": "stderr",
     "output_type": "stream",
     "text": [
      "Uploading file: OREGON_STATE_PRISM_011013_20240401_20240501_PPT.tif:  92%|█████████▏| 221/240 [00:39<00:08,  2.20it/s]"
     ]
    },
    {
     "name": "stdout",
     "output_type": "stream",
     "text": [
      "[2025-06-25 15:10:53 INFO] Uploaded file OREGON_STATE_PRISM_010011_20241001_20241101_PPT.tif to aws bucket ose-dev-inputs\n"
     ]
    },
    {
     "name": "stderr",
     "output_type": "stream",
     "text": [
      "Uploading file: OREGON_STATE_PRISM_010011_20241001_20241101_PPT.tif:  92%|█████████▎| 222/240 [00:40<00:07,  2.31it/s]"
     ]
    },
    {
     "name": "stdout",
     "output_type": "stream",
     "text": [
      "[2025-06-25 15:10:53 INFO] Uploaded file OREGON_STATE_PRISM_009013_20240701_20240801_PPT.tif to aws bucket ose-dev-inputs\n"
     ]
    },
    {
     "name": "stderr",
     "output_type": "stream",
     "text": [
      "Uploading file: OREGON_STATE_PRISM_009013_20240701_20240801_PPT.tif:  93%|█████████▎| 223/240 [00:40<00:06,  2.51it/s]"
     ]
    },
    {
     "name": "stdout",
     "output_type": "stream",
     "text": [
      "[2025-06-25 15:10:54 INFO] Uploaded file OREGON_STATE_PRISM_011014_20240501_20240601_PPT.tif to aws bucket ose-dev-inputs\n"
     ]
    },
    {
     "name": "stderr",
     "output_type": "stream",
     "text": [
      "Uploading file: OREGON_STATE_PRISM_011014_20240501_20240601_PPT.tif:  93%|█████████▎| 224/240 [00:40<00:05,  3.14it/s]"
     ]
    },
    {
     "name": "stdout",
     "output_type": "stream",
     "text": [
      "[2025-06-25 15:10:54 INFO] Uploaded file OREGON_STATE_PRISM_011011_20240601_20240701_PPT.tif to aws bucket ose-dev-inputs\n"
     ]
    },
    {
     "name": "stderr",
     "output_type": "stream",
     "text": [
      "Uploading file: OREGON_STATE_PRISM_011011_20240601_20240701_PPT.tif:  94%|█████████▍| 225/240 [00:40<00:03,  3.77it/s]"
     ]
    },
    {
     "name": "stdout",
     "output_type": "stream",
     "text": [
      "[2025-06-25 15:10:54 INFO] Uploaded file OREGON_STATE_PRISM_011014_20240101_20240201_PPT.tif to aws bucket ose-dev-inputs\n"
     ]
    },
    {
     "name": "stderr",
     "output_type": "stream",
     "text": [
      "Uploading file: OREGON_STATE_PRISM_011014_20240101_20240201_PPT.tif:  94%|█████████▍| 226/240 [00:40<00:03,  4.40it/s]"
     ]
    },
    {
     "name": "stdout",
     "output_type": "stream",
     "text": [
      "[2025-06-25 15:10:54 INFO] Uploaded file OREGON_STATE_PRISM_011015_20240301_20240401_PPT.tif to aws bucket ose-dev-inputs\n"
     ]
    },
    {
     "name": "stderr",
     "output_type": "stream",
     "text": [
      "Uploading file: OREGON_STATE_PRISM_011015_20240301_20240401_PPT.tif:  95%|█████████▍| 227/240 [00:40<00:02,  4.98it/s]"
     ]
    },
    {
     "name": "stdout",
     "output_type": "stream",
     "text": [
      "[2025-06-25 15:10:54 INFO] Uploaded file OREGON_STATE_PRISM_012013_20240701_20240801_PPT.tif to aws bucket ose-dev-inputs\n"
     ]
    },
    {
     "name": "stderr",
     "output_type": "stream",
     "text": [
      "Uploading file: OREGON_STATE_PRISM_012013_20240701_20240801_PPT.tif:  95%|█████████▌| 228/240 [00:41<00:02,  5.53it/s]"
     ]
    },
    {
     "name": "stdout",
     "output_type": "stream",
     "text": [
      "[2025-06-25 15:10:54 INFO] Uploaded file OREGON_STATE_PRISM_011011_20240201_20240301_PPT.tif to aws bucket ose-dev-inputs\n"
     ]
    },
    {
     "name": "stderr",
     "output_type": "stream",
     "text": [
      "Uploading file: OREGON_STATE_PRISM_011011_20240201_20240301_PPT.tif:  95%|█████████▌| 229/240 [00:41<00:01,  5.79it/s]"
     ]
    },
    {
     "name": "stdout",
     "output_type": "stream",
     "text": [
      "[2025-06-25 15:10:54 INFO] Uploaded file OREGON_STATE_PRISM_012013_20240501_20240601_PPT.tif to aws bucket ose-dev-inputs\n"
     ]
    },
    {
     "name": "stderr",
     "output_type": "stream",
     "text": [
      "Uploading file: OREGON_STATE_PRISM_012013_20240501_20240601_PPT.tif:  96%|█████████▌| 230/240 [00:41<00:01,  6.21it/s]"
     ]
    },
    {
     "name": "stdout",
     "output_type": "stream",
     "text": [
      "[2025-06-25 15:10:54 INFO] Uploaded file OREGON_STATE_PRISM_012011_20241201_20250101_PPT.tif to aws bucket ose-dev-inputs\n"
     ]
    },
    {
     "name": "stderr",
     "output_type": "stream",
     "text": [
      "Uploading file: OREGON_STATE_PRISM_012011_20241201_20250101_PPT.tif:  96%|█████████▋| 231/240 [00:41<00:01,  6.51it/s]"
     ]
    },
    {
     "name": "stdout",
     "output_type": "stream",
     "text": [
      "[2025-06-25 15:10:55 INFO] Uploaded file OREGON_STATE_PRISM_010011_20240801_20240901_PPT.tif to aws bucket ose-dev-inputs\n"
     ]
    },
    {
     "name": "stderr",
     "output_type": "stream",
     "text": [
      "Uploading file: OREGON_STATE_PRISM_010011_20240801_20240901_PPT.tif:  97%|█████████▋| 232/240 [00:41<00:01,  6.70it/s]"
     ]
    },
    {
     "name": "stdout",
     "output_type": "stream",
     "text": [
      "[2025-06-25 15:10:55 INFO] Uploaded file OREGON_STATE_PRISM_009013_20240101_20240201_PPT.tif to aws bucket ose-dev-inputs\n"
     ]
    },
    {
     "name": "stderr",
     "output_type": "stream",
     "text": [
      "Uploading file: OREGON_STATE_PRISM_009013_20240101_20240201_PPT.tif:  97%|█████████▋| 233/240 [00:41<00:01,  6.82it/s]"
     ]
    },
    {
     "name": "stdout",
     "output_type": "stream",
     "text": [
      "[2025-06-25 15:10:55 INFO] Uploaded file OREGON_STATE_PRISM_009012_20240301_20240401_PPT.tif to aws bucket ose-dev-inputs\n"
     ]
    },
    {
     "name": "stderr",
     "output_type": "stream",
     "text": [
      "Uploading file: OREGON_STATE_PRISM_009012_20240301_20240401_PPT.tif:  98%|█████████▊| 234/240 [00:41<00:00,  7.01it/s]"
     ]
    },
    {
     "name": "stdout",
     "output_type": "stream",
     "text": [
      "[2025-06-25 15:10:55 INFO] Uploaded file OREGON_STATE_PRISM_012012_20240301_20240401_PPT.tif to aws bucket ose-dev-inputs\n"
     ]
    },
    {
     "name": "stderr",
     "output_type": "stream",
     "text": [
      "Uploading file: OREGON_STATE_PRISM_012012_20240301_20240401_PPT.tif:  98%|█████████▊| 235/240 [00:42<00:00,  7.12it/s]"
     ]
    },
    {
     "name": "stdout",
     "output_type": "stream",
     "text": [
      "[2025-06-25 15:10:55 INFO] Uploaded file OREGON_STATE_PRISM_012013_20240101_20240201_PPT.tif to aws bucket ose-dev-inputs\n"
     ]
    },
    {
     "name": "stderr",
     "output_type": "stream",
     "text": [
      "Uploading file: OREGON_STATE_PRISM_012013_20240101_20240201_PPT.tif:  98%|█████████▊| 236/240 [00:42<00:00,  7.17it/s]"
     ]
    },
    {
     "name": "stdout",
     "output_type": "stream",
     "text": [
      "[2025-06-25 15:10:55 INFO] Uploaded file OREGON_STATE_PRISM_011014_20240701_20240801_PPT.tif to aws bucket ose-dev-inputs\n"
     ]
    },
    {
     "name": "stderr",
     "output_type": "stream",
     "text": [
      "Uploading file: OREGON_STATE_PRISM_011014_20240701_20240801_PPT.tif:  99%|█████████▉| 237/240 [00:42<00:00,  6.86it/s]"
     ]
    },
    {
     "name": "stdout",
     "output_type": "stream",
     "text": [
      "[2025-06-25 15:10:55 INFO] Uploaded file OREGON_STATE_PRISM_010012_20240401_20240501_PPT.tif to aws bucket ose-dev-inputs\n"
     ]
    },
    {
     "name": "stderr",
     "output_type": "stream",
     "text": [
      "Uploading file: OREGON_STATE_PRISM_010012_20240401_20240501_PPT.tif:  99%|█████████▉| 238/240 [00:42<00:00,  6.78it/s]"
     ]
    },
    {
     "name": "stdout",
     "output_type": "stream",
     "text": [
      "[2025-06-25 15:10:56 INFO] Uploaded file OREGON_STATE_PRISM_009011_20241201_20250101_PPT.tif to aws bucket ose-dev-inputs\n"
     ]
    },
    {
     "name": "stderr",
     "output_type": "stream",
     "text": [
      "Uploading file: OREGON_STATE_PRISM_009011_20241201_20250101_PPT.tif: 100%|█████████▉| 239/240 [00:42<00:00,  6.97it/s]"
     ]
    },
    {
     "name": "stdout",
     "output_type": "stream",
     "text": [
      "[2025-06-25 15:10:56 INFO] Uploaded file OREGON_STATE_PRISM_009013_20240501_20240601_PPT.tif to aws bucket ose-dev-inputs\n"
     ]
    },
    {
     "name": "stderr",
     "output_type": "stream",
     "text": [
      "                                                                                                                      \r"
     ]
    },
    {
     "data": {
      "text/plain": [
       "['OREGON_STATE_PRISM_012012_20240501_20240601_PPT.tif',\n",
       " 'OREGON_STATE_PRISM_011011_20241001_20241101_PPT.tif',\n",
       " 'OREGON_STATE_PRISM_009012_20240101_20240201_PPT.tif',\n",
       " 'OREGON_STATE_PRISM_009013_20240301_20240401_PPT.tif',\n",
       " 'OREGON_STATE_PRISM_012013_20240301_20240401_PPT.tif',\n",
       " 'OREGON_STATE_PRISM_012012_20240101_20240201_PPT.tif',\n",
       " 'OREGON_STATE_PRISM_010011_20240901_20241001_PPT.tif',\n",
       " 'OREGON_STATE_PRISM_010013_20240401_20240501_PPT.tif',\n",
       " 'OREGON_STATE_PRISM_009012_20240501_20240601_PPT.tif',\n",
       " 'OREGON_STATE_PRISM_011015_20240701_20240801_PPT.tif',\n",
       " 'OREGON_STATE_PRISM_011015_20240501_20240601_PPT.tif',\n",
       " 'OREGON_STATE_PRISM_009012_20240701_20240801_PPT.tif',\n",
       " 'OREGON_STATE_PRISM_011015_20240101_20240201_PPT.tif',\n",
       " 'OREGON_STATE_PRISM_011014_20240301_20240401_PPT.tif',\n",
       " 'OREGON_STATE_PRISM_012012_20240701_20240801_PPT.tif',\n",
       " 'OREGON_STATE_PRISM_012011_20241101_20241201_PPT.tif',\n",
       " 'OREGON_STATE_PRISM_011012_20240401_20240501_PPT.tif',\n",
       " 'OREGON_STATE_PRISM_010014_20240701_20240801_PPT.tif',\n",
       " 'OREGON_STATE_PRISM_011011_20240801_20240901_PPT.tif',\n",
       " 'OREGON_STATE_PRISM_009011_20241101_20241201_PPT.tif',\n",
       " 'OREGON_STATE_PRISM_010014_20240101_20240201_PPT.tif',\n",
       " 'OREGON_STATE_PRISM_010015_20240301_20240401_PPT.tif',\n",
       " 'OREGON_STATE_PRISM_012015_20240401_20240501_PPT.tif',\n",
       " 'OREGON_STATE_PRISM_010011_20240201_20240301_PPT.tif',\n",
       " 'OREGON_STATE_PRISM_009015_20240401_20240501_PPT.tif',\n",
       " 'OREGON_STATE_PRISM_010014_20240501_20240601_PPT.tif',\n",
       " 'OREGON_STATE_PRISM_010011_20240601_20240701_PPT.tif',\n",
       " 'OREGON_STATE_PRISM_012011_20240801_20240901_PPT.tif',\n",
       " 'OREGON_STATE_PRISM_010013_20240501_20240601_PPT.tif',\n",
       " 'OREGON_STATE_PRISM_009012_20240401_20240501_PPT.tif',\n",
       " 'OREGON_STATE_PRISM_010011_20241201_20250101_PPT.tif',\n",
       " 'OREGON_STATE_PRISM_012012_20240401_20240501_PPT.tif',\n",
       " 'OREGON_STATE_PRISM_010012_20240301_20240401_PPT.tif',\n",
       " 'OREGON_STATE_PRISM_011011_20241101_20241201_PPT.tif',\n",
       " 'OREGON_STATE_PRISM_009011_20240801_20240901_PPT.tif',\n",
       " 'OREGON_STATE_PRISM_010013_20240101_20240201_PPT.tif',\n",
       " 'OREGON_STATE_PRISM_011015_20240401_20240501_PPT.tif',\n",
       " 'OREGON_STATE_PRISM_010013_20240701_20240801_PPT.tif',\n",
       " 'OREGON_STATE_PRISM_012015_20240701_20240801_PPT.tif',\n",
       " 'OREGON_STATE_PRISM_011013_20240301_20240401_PPT.tif',\n",
       " 'OREGON_STATE_PRISM_011012_20240101_20240201_PPT.tif',\n",
       " 'OREGON_STATE_PRISM_009011_20241001_20241101_PPT.tif',\n",
       " 'OREGON_STATE_PRISM_012011_20241001_20241101_PPT.tif',\n",
       " 'OREGON_STATE_PRISM_011012_20240501_20240601_PPT.tif',\n",
       " 'OREGON_STATE_PRISM_009015_20240701_20240801_PPT.tif',\n",
       " 'OREGON_STATE_PRISM_009015_20240501_20240601_PPT.tif',\n",
       " 'OREGON_STATE_PRISM_010014_20240401_20240501_PPT.tif',\n",
       " 'OREGON_STATE_PRISM_011012_20240701_20240801_PPT.tif',\n",
       " 'OREGON_STATE_PRISM_012015_20240101_20240201_PPT.tif',\n",
       " 'OREGON_STATE_PRISM_012014_20240301_20240401_PPT.tif',\n",
       " 'OREGON_STATE_PRISM_009014_20240301_20240401_PPT.tif',\n",
       " 'OREGON_STATE_PRISM_009015_20240101_20240201_PPT.tif',\n",
       " 'OREGON_STATE_PRISM_012015_20240501_20240601_PPT.tif',\n",
       " 'OREGON_STATE_PRISM_012015_20240601_20240701_PPT.tif',\n",
       " 'OREGON_STATE_PRISM_009011_20240301_20240401_PPT.tif',\n",
       " 'OREGON_STATE_PRISM_010012_20240801_20240901_PPT.tif',\n",
       " 'OREGON_STATE_PRISM_011013_20241001_20241101_PPT.tif',\n",
       " 'OREGON_STATE_PRISM_012012_20241201_20250101_PPT.tif',\n",
       " 'OREGON_STATE_PRISM_009015_20240201_20240301_PPT.tif',\n",
       " 'OREGON_STATE_PRISM_010011_20240401_20240501_PPT.tif',\n",
       " 'OREGON_STATE_PRISM_009012_20241201_20250101_PPT.tif',\n",
       " 'OREGON_STATE_PRISM_012015_20240201_20240301_PPT.tif',\n",
       " 'OREGON_STATE_PRISM_009015_20240601_20240701_PPT.tif',\n",
       " 'OREGON_STATE_PRISM_010013_20240901_20241001_PPT.tif',\n",
       " 'OREGON_STATE_PRISM_012011_20240301_20240401_PPT.tif',\n",
       " 'OREGON_STATE_PRISM_011012_20240601_20240701_PPT.tif',\n",
       " 'OREGON_STATE_PRISM_012014_20241001_20241101_PPT.tif',\n",
       " 'OREGON_STATE_PRISM_011015_20241201_20250101_PPT.tif',\n",
       " 'OREGON_STATE_PRISM_011012_20240201_20240301_PPT.tif',\n",
       " 'OREGON_STATE_PRISM_010015_20241101_20241201_PPT.tif',\n",
       " 'OREGON_STATE_PRISM_009014_20241001_20241101_PPT.tif',\n",
       " 'OREGON_STATE_PRISM_011012_20240901_20241001_PPT.tif',\n",
       " 'OREGON_STATE_PRISM_012013_20241101_20241201_PPT.tif',\n",
       " 'OREGON_STATE_PRISM_009013_20241101_20241201_PPT.tif',\n",
       " 'OREGON_STATE_PRISM_011013_20240801_20240901_PPT.tif',\n",
       " 'OREGON_STATE_PRISM_010012_20241001_20241101_PPT.tif',\n",
       " 'OREGON_STATE_PRISM_010013_20240201_20240301_PPT.tif',\n",
       " 'OREGON_STATE_PRISM_012015_20240901_20241001_PPT.tif',\n",
       " 'OREGON_STATE_PRISM_011014_20241101_20241201_PPT.tif',\n",
       " 'OREGON_STATE_PRISM_009014_20240801_20240901_PPT.tif',\n",
       " 'OREGON_STATE_PRISM_010013_20240601_20240701_PPT.tif',\n",
       " 'OREGON_STATE_PRISM_012014_20240801_20240901_PPT.tif',\n",
       " 'OREGON_STATE_PRISM_009015_20240901_20241001_PPT.tif',\n",
       " 'OREGON_STATE_PRISM_010014_20241201_20250101_PPT.tif',\n",
       " 'OREGON_STATE_PRISM_010013_20241201_20250101_PPT.tif',\n",
       " 'OREGON_STATE_PRISM_010011_20240501_20240601_PPT.tif',\n",
       " 'OREGON_STATE_PRISM_010014_20240601_20240701_PPT.tif',\n",
       " 'OREGON_STATE_PRISM_009012_20240901_20241001_PPT.tif',\n",
       " 'OREGON_STATE_PRISM_012013_20240801_20240901_PPT.tif',\n",
       " 'OREGON_STATE_PRISM_009013_20240801_20240901_PPT.tif',\n",
       " 'OREGON_STATE_PRISM_010011_20240101_20240201_PPT.tif',\n",
       " 'OREGON_STATE_PRISM_011013_20241101_20241201_PPT.tif',\n",
       " 'OREGON_STATE_PRISM_012012_20240901_20241001_PPT.tif',\n",
       " 'OREGON_STATE_PRISM_010014_20240201_20240301_PPT.tif',\n",
       " 'OREGON_STATE_PRISM_010015_20241001_20241101_PPT.tif',\n",
       " 'OREGON_STATE_PRISM_011014_20240801_20240901_PPT.tif',\n",
       " 'OREGON_STATE_PRISM_009014_20241101_20241201_PPT.tif',\n",
       " 'OREGON_STATE_PRISM_012014_20241101_20241201_PPT.tif',\n",
       " 'OREGON_STATE_PRISM_011015_20240901_20241001_PPT.tif',\n",
       " 'OREGON_STATE_PRISM_010011_20240701_20240801_PPT.tif',\n",
       " 'OREGON_STATE_PRISM_009013_20241001_20241101_PPT.tif',\n",
       " 'OREGON_STATE_PRISM_011011_20240301_20240401_PPT.tif',\n",
       " 'OREGON_STATE_PRISM_010012_20241101_20241201_PPT.tif',\n",
       " 'OREGON_STATE_PRISM_011015_20240201_20240301_PPT.tif',\n",
       " 'OREGON_STATE_PRISM_011012_20241201_20250101_PPT.tif',\n",
       " 'OREGON_STATE_PRISM_011015_20240601_20240701_PPT.tif',\n",
       " 'OREGON_STATE_PRISM_012013_20241001_20241101_PPT.tif',\n",
       " 'OREGON_STATE_PRISM_009012_20240601_20240701_PPT.tif',\n",
       " 'OREGON_STATE_PRISM_010014_20240901_20241001_PPT.tif',\n",
       " 'OREGON_STATE_PRISM_009015_20241201_20250101_PPT.tif',\n",
       " 'OREGON_STATE_PRISM_012012_20240201_20240301_PPT.tif',\n",
       " 'OREGON_STATE_PRISM_012015_20241201_20250101_PPT.tif',\n",
       " 'OREGON_STATE_PRISM_009012_20240201_20240301_PPT.tif',\n",
       " 'OREGON_STATE_PRISM_012012_20240601_20240701_PPT.tif',\n",
       " 'OREGON_STATE_PRISM_011014_20241001_20241101_PPT.tif',\n",
       " 'OREGON_STATE_PRISM_010015_20240801_20240901_PPT.tif',\n",
       " 'OREGON_STATE_PRISM_010015_20240901_20241001_PPT.tif',\n",
       " 'OREGON_STATE_PRISM_009013_20240601_20240701_PPT.tif',\n",
       " 'OREGON_STATE_PRISM_012013_20240201_20240301_PPT.tif',\n",
       " 'OREGON_STATE_PRISM_011011_20240701_20240801_PPT.tif',\n",
       " 'OREGON_STATE_PRISM_009014_20241201_20250101_PPT.tif',\n",
       " 'OREGON_STATE_PRISM_009013_20240201_20240301_PPT.tif',\n",
       " 'OREGON_STATE_PRISM_012014_20241201_20250101_PPT.tif',\n",
       " 'OREGON_STATE_PRISM_011015_20241001_20241101_PPT.tif',\n",
       " 'OREGON_STATE_PRISM_010014_20240801_20240901_PPT.tif',\n",
       " 'OREGON_STATE_PRISM_012013_20240601_20240701_PPT.tif',\n",
       " 'OREGON_STATE_PRISM_009012_20241001_20241101_PPT.tif',\n",
       " 'OREGON_STATE_PRISM_011011_20240101_20240201_PPT.tif',\n",
       " 'OREGON_STATE_PRISM_010013_20241101_20241201_PPT.tif',\n",
       " 'OREGON_STATE_PRISM_011014_20240201_20240301_PPT.tif',\n",
       " 'OREGON_STATE_PRISM_011013_20241201_20250101_PPT.tif',\n",
       " 'OREGON_STATE_PRISM_011011_20240501_20240601_PPT.tif',\n",
       " 'OREGON_STATE_PRISM_012012_20241001_20241101_PPT.tif',\n",
       " 'OREGON_STATE_PRISM_011014_20240601_20240701_PPT.tif',\n",
       " 'OREGON_STATE_PRISM_010014_20241001_20241101_PPT.tif',\n",
       " 'OREGON_STATE_PRISM_011015_20240801_20240901_PPT.tif',\n",
       " 'OREGON_STATE_PRISM_009015_20241101_20241201_PPT.tif',\n",
       " 'OREGON_STATE_PRISM_011014_20240901_20241001_PPT.tif',\n",
       " 'OREGON_STATE_PRISM_012015_20241101_20241201_PPT.tif',\n",
       " 'OREGON_STATE_PRISM_009011_20240401_20240501_PPT.tif',\n",
       " 'OREGON_STATE_PRISM_010012_20241201_20250101_PPT.tif',\n",
       " 'OREGON_STATE_PRISM_012012_20240801_20240901_PPT.tif',\n",
       " 'OREGON_STATE_PRISM_009013_20240901_20241001_PPT.tif',\n",
       " 'OREGON_STATE_PRISM_010015_20240601_20240701_PPT.tif',\n",
       " 'OREGON_STATE_PRISM_012013_20240901_20241001_PPT.tif',\n",
       " 'OREGON_STATE_PRISM_009012_20240801_20240901_PPT.tif',\n",
       " 'OREGON_STATE_PRISM_011012_20241101_20241201_PPT.tif',\n",
       " 'OREGON_STATE_PRISM_010011_20240301_20240401_PPT.tif',\n",
       " 'OREGON_STATE_PRISM_010015_20240201_20240301_PPT.tif',\n",
       " 'OREGON_STATE_PRISM_012011_20240401_20240501_PPT.tif',\n",
       " 'OREGON_STATE_PRISM_010012_20240201_20240301_PPT.tif',\n",
       " 'OREGON_STATE_PRISM_011015_20241101_20241201_PPT.tif',\n",
       " 'OREGON_STATE_PRISM_009015_20240801_20240901_PPT.tif',\n",
       " 'OREGON_STATE_PRISM_012014_20240901_20241001_PPT.tif',\n",
       " 'OREGON_STATE_PRISM_009014_20240901_20241001_PPT.tif',\n",
       " 'OREGON_STATE_PRISM_012015_20240801_20240901_PPT.tif',\n",
       " 'OREGON_STATE_PRISM_010012_20240601_20240701_PPT.tif',\n",
       " 'OREGON_STATE_PRISM_010015_20241201_20250101_PPT.tif',\n",
       " 'OREGON_STATE_PRISM_011011_20240401_20240501_PPT.tif',\n",
       " 'OREGON_STATE_PRISM_012012_20241101_20241201_PPT.tif',\n",
       " 'OREGON_STATE_PRISM_011013_20240901_20241001_PPT.tif',\n",
       " 'OREGON_STATE_PRISM_009012_20241101_20241201_PPT.tif',\n",
       " 'OREGON_STATE_PRISM_011012_20240801_20240901_PPT.tif',\n",
       " 'OREGON_STATE_PRISM_010013_20241001_20241101_PPT.tif',\n",
       " 'OREGON_STATE_PRISM_012015_20241001_20241101_PPT.tif',\n",
       " 'OREGON_STATE_PRISM_011013_20240601_20240701_PPT.tif',\n",
       " 'OREGON_STATE_PRISM_009011_20240701_20240801_PPT.tif',\n",
       " 'OREGON_STATE_PRISM_011014_20241201_20250101_PPT.tif',\n",
       " 'OREGON_STATE_PRISM_011013_20240201_20240301_PPT.tif',\n",
       " 'OREGON_STATE_PRISM_012011_20240701_20240801_PPT.tif',\n",
       " 'OREGON_STATE_PRISM_010014_20241101_20241201_PPT.tif',\n",
       " 'OREGON_STATE_PRISM_009015_20241001_20241101_PPT.tif',\n",
       " 'OREGON_STATE_PRISM_010013_20240801_20240901_PPT.tif',\n",
       " 'OREGON_STATE_PRISM_009011_20240101_20240201_PPT.tif',\n",
       " 'OREGON_STATE_PRISM_011012_20241001_20241101_PPT.tif',\n",
       " 'OREGON_STATE_PRISM_012014_20240601_20240701_PPT.tif',\n",
       " 'OREGON_STATE_PRISM_009014_20240201_20240301_PPT.tif',\n",
       " 'OREGON_STATE_PRISM_012013_20241201_20250101_PPT.tif',\n",
       " 'OREGON_STATE_PRISM_012011_20240501_20240601_PPT.tif',\n",
       " 'OREGON_STATE_PRISM_012014_20240201_20240301_PPT.tif',\n",
       " 'OREGON_STATE_PRISM_009011_20240501_20240601_PPT.tif',\n",
       " 'OREGON_STATE_PRISM_009013_20241201_20250101_PPT.tif',\n",
       " 'OREGON_STATE_PRISM_012011_20240101_20240201_PPT.tif',\n",
       " 'OREGON_STATE_PRISM_010012_20240901_20241001_PPT.tif',\n",
       " 'OREGON_STATE_PRISM_009014_20240601_20240701_PPT.tif',\n",
       " 'OREGON_STATE_PRISM_011013_20240701_20240801_PPT.tif',\n",
       " 'OREGON_STATE_PRISM_012011_20240201_20240301_PPT.tif',\n",
       " 'OREGON_STATE_PRISM_009014_20240501_20240601_PPT.tif',\n",
       " 'OREGON_STATE_PRISM_010015_20240401_20240501_PPT.tif',\n",
       " 'OREGON_STATE_PRISM_012014_20240101_20240201_PPT.tif',\n",
       " 'OREGON_STATE_PRISM_012015_20240301_20240401_PPT.tif',\n",
       " 'OREGON_STATE_PRISM_009011_20240601_20240701_PPT.tif',\n",
       " 'OREGON_STATE_PRISM_009015_20240301_20240401_PPT.tif',\n",
       " 'OREGON_STATE_PRISM_009014_20240101_20240201_PPT.tif',\n",
       " 'OREGON_STATE_PRISM_012011_20240601_20240701_PPT.tif',\n",
       " 'OREGON_STATE_PRISM_009011_20240201_20240301_PPT.tif',\n",
       " 'OREGON_STATE_PRISM_012014_20240501_20240601_PPT.tif',\n",
       " 'OREGON_STATE_PRISM_012014_20240701_20240801_PPT.tif',\n",
       " 'OREGON_STATE_PRISM_010011_20241101_20241201_PPT.tif',\n",
       " 'OREGON_STATE_PRISM_011012_20240301_20240401_PPT.tif',\n",
       " 'OREGON_STATE_PRISM_011013_20240101_20240201_PPT.tif',\n",
       " 'OREGON_STATE_PRISM_009014_20240701_20240801_PPT.tif',\n",
       " 'OREGON_STATE_PRISM_011013_20240501_20240601_PPT.tif',\n",
       " 'OREGON_STATE_PRISM_011011_20241201_20250101_PPT.tif',\n",
       " 'OREGON_STATE_PRISM_010012_20240701_20240801_PPT.tif',\n",
       " 'OREGON_STATE_PRISM_011014_20240401_20240501_PPT.tif',\n",
       " 'OREGON_STATE_PRISM_009011_20240901_20241001_PPT.tif',\n",
       " 'OREGON_STATE_PRISM_010012_20240501_20240601_PPT.tif',\n",
       " 'OREGON_STATE_PRISM_009013_20240401_20240501_PPT.tif',\n",
       " 'OREGON_STATE_PRISM_012013_20240401_20240501_PPT.tif',\n",
       " 'OREGON_STATE_PRISM_010013_20240301_20240401_PPT.tif',\n",
       " 'OREGON_STATE_PRISM_010012_20240101_20240201_PPT.tif',\n",
       " 'OREGON_STATE_PRISM_012011_20240901_20241001_PPT.tif',\n",
       " 'OREGON_STATE_PRISM_010015_20240101_20240201_PPT.tif',\n",
       " 'OREGON_STATE_PRISM_010014_20240301_20240401_PPT.tif',\n",
       " 'OREGON_STATE_PRISM_012014_20240401_20240501_PPT.tif',\n",
       " 'OREGON_STATE_PRISM_009014_20240401_20240501_PPT.tif',\n",
       " 'OREGON_STATE_PRISM_010015_20240501_20240601_PPT.tif',\n",
       " 'OREGON_STATE_PRISM_011011_20240901_20241001_PPT.tif',\n",
       " 'OREGON_STATE_PRISM_010015_20240701_20240801_PPT.tif',\n",
       " 'OREGON_STATE_PRISM_011013_20240401_20240501_PPT.tif',\n",
       " 'OREGON_STATE_PRISM_010011_20241001_20241101_PPT.tif',\n",
       " 'OREGON_STATE_PRISM_009013_20240701_20240801_PPT.tif',\n",
       " 'OREGON_STATE_PRISM_011014_20240501_20240601_PPT.tif',\n",
       " 'OREGON_STATE_PRISM_011011_20240601_20240701_PPT.tif',\n",
       " 'OREGON_STATE_PRISM_011014_20240101_20240201_PPT.tif',\n",
       " 'OREGON_STATE_PRISM_011015_20240301_20240401_PPT.tif',\n",
       " 'OREGON_STATE_PRISM_012013_20240701_20240801_PPT.tif',\n",
       " 'OREGON_STATE_PRISM_011011_20240201_20240301_PPT.tif',\n",
       " 'OREGON_STATE_PRISM_012013_20240501_20240601_PPT.tif',\n",
       " 'OREGON_STATE_PRISM_012011_20241201_20250101_PPT.tif',\n",
       " 'OREGON_STATE_PRISM_010011_20240801_20240901_PPT.tif',\n",
       " 'OREGON_STATE_PRISM_009013_20240101_20240201_PPT.tif',\n",
       " 'OREGON_STATE_PRISM_009012_20240301_20240401_PPT.tif',\n",
       " 'OREGON_STATE_PRISM_012012_20240301_20240401_PPT.tif',\n",
       " 'OREGON_STATE_PRISM_012013_20240101_20240201_PPT.tif',\n",
       " 'OREGON_STATE_PRISM_011014_20240701_20240801_PPT.tif',\n",
       " 'OREGON_STATE_PRISM_010012_20240401_20240501_PPT.tif',\n",
       " 'OREGON_STATE_PRISM_009011_20241201_20250101_PPT.tif',\n",
       " 'OREGON_STATE_PRISM_009013_20240501_20240601_PPT.tif']"
      ]
     },
     "execution_count": 19,
     "metadata": {},
     "output_type": "execute_result"
    }
   ],
   "source": [
    "prism_pipeline.upload_local_folder_to_aws()"
   ]
  },
  {
   "cell_type": "markdown",
   "metadata": {},
   "source": [
    "# Update Inventory so the tool can use the new data sources\n"
   ]
  },
  {
   "cell_type": "code",
   "execution_count": 3,
   "metadata": {},
   "outputs": [
    {
     "data": {
      "text/html": [
       "\n",
       "            <style>\n",
       "                .geemap-dark {\n",
       "                    --jp-widgets-color: white;\n",
       "                    --jp-widgets-label-color: white;\n",
       "                    --jp-ui-font-color1: white;\n",
       "                    --jp-layout-color2: #454545;\n",
       "                    background-color: #383838;\n",
       "                }\n",
       "\n",
       "                .geemap-dark .jupyter-button {\n",
       "                    --jp-layout-color3: #383838;\n",
       "                }\n",
       "\n",
       "                .geemap-colab {\n",
       "                    background-color: var(--colab-primary-surface-color, white);\n",
       "                }\n",
       "\n",
       "                .geemap-colab .jupyter-button {\n",
       "                    --jp-layout-color3: var(--colab-primary-surface-color, white);\n",
       "                }\n",
       "            </style>\n",
       "            "
      ],
      "text/plain": [
       "<IPython.core.display.HTML object>"
      ]
     },
     "metadata": {},
     "output_type": "display_data"
    },
    {
     "name": "stdout",
     "output_type": "stream",
     "text": [
      "[2025-09-04 09:45:29 INFO] Found credentials in shared credentials file: ~/.aws/credentials\n"
     ]
    },
    {
     "data": {
      "application/vnd.jupyter.widget-view+json": {
       "model_id": "18dba8d5c2564775a6c22d6e2d44e086",
       "version_major": 2,
       "version_minor": 0
      },
      "text/plain": [
       "Processing sources:   0%|          | 0/9 [00:00<?, ?it/s]"
      ]
     },
     "metadata": {},
     "output_type": "display_data"
    },
    {
     "name": "stderr",
     "output_type": "stream",
     "text": [
      "\n",
      "Processing source: Landsat PT-JPL ET\n"
     ]
    },
    {
     "name": "stdout",
     "output_type": "stream",
     "text": [
      "[2025-09-04 09:45:29 INFO] \n",
      "Processing source: Landsat PT-JPL ET\n"
     ]
    },
    {
     "name": "stderr",
     "output_type": "stream",
     "text": [
      "  File prefix: LC08_\n"
     ]
    },
    {
     "name": "stdout",
     "output_type": "stream",
     "text": [
      "[2025-09-04 09:45:29 INFO]   File prefix: LC08_\n"
     ]
    },
    {
     "name": "stderr",
     "output_type": "stream",
     "text": [
      "  Date range: 1983-01-01 to 1985-01-01\n"
     ]
    },
    {
     "name": "stdout",
     "output_type": "stream",
     "text": [
      "[2025-09-04 09:45:29 INFO]   Date range: 1983-01-01 to 1985-01-01\n"
     ]
    },
    {
     "name": "stderr",
     "output_type": "stream",
     "text": [
      "  Found 510 files\n"
     ]
    },
    {
     "name": "stdout",
     "output_type": "stream",
     "text": [
      "[2025-09-04 09:45:48 INFO]   Found 510 files\n"
     ]
    },
    {
     "name": "stderr",
     "output_type": "stream",
     "text": [
      "\n",
      "Processing source: Landsat PT-JPL ESI\n"
     ]
    },
    {
     "name": "stdout",
     "output_type": "stream",
     "text": [
      "[2025-09-04 09:45:48 INFO] \n",
      "Processing source: Landsat PT-JPL ESI\n"
     ]
    },
    {
     "name": "stderr",
     "output_type": "stream",
     "text": [
      "  File prefix: LC08_\n"
     ]
    },
    {
     "name": "stdout",
     "output_type": "stream",
     "text": [
      "[2025-09-04 09:45:48 INFO]   File prefix: LC08_\n"
     ]
    },
    {
     "name": "stderr",
     "output_type": "stream",
     "text": [
      "  Date range: 1983-01-01 to 1985-01-01\n"
     ]
    },
    {
     "name": "stdout",
     "output_type": "stream",
     "text": [
      "[2025-09-04 09:45:48 INFO]   Date range: 1983-01-01 to 1985-01-01\n"
     ]
    },
    {
     "name": "stderr",
     "output_type": "stream",
     "text": [
      "  Found 510 files\n"
     ]
    },
    {
     "name": "stdout",
     "output_type": "stream",
     "text": [
      "[2025-09-04 09:46:07 INFO]   Found 510 files\n"
     ]
    },
    {
     "name": "stderr",
     "output_type": "stream",
     "text": [
      "\n",
      "Processing source: OpenET Ensemble ET\n"
     ]
    },
    {
     "name": "stdout",
     "output_type": "stream",
     "text": [
      "[2025-09-04 09:46:07 INFO] \n",
      "Processing source: OpenET Ensemble ET\n"
     ]
    },
    {
     "name": "stderr",
     "output_type": "stream",
     "text": [
      "  File prefix: OPENET_ENSEMBLE_\n"
     ]
    },
    {
     "name": "stdout",
     "output_type": "stream",
     "text": [
      "[2025-09-04 09:46:07 INFO]   File prefix: OPENET_ENSEMBLE_\n"
     ]
    },
    {
     "name": "stderr",
     "output_type": "stream",
     "text": [
      "  Date range: 1985-01-01 to 2025-01-01\n"
     ]
    },
    {
     "name": "stdout",
     "output_type": "stream",
     "text": [
      "[2025-09-04 09:46:07 INFO]   Date range: 1985-01-01 to 2025-01-01\n"
     ]
    },
    {
     "name": "stderr",
     "output_type": "stream",
     "text": [
      "  Found 9599 files\n"
     ]
    },
    {
     "name": "stdout",
     "output_type": "stream",
     "text": [
      "[2025-09-04 09:46:14 INFO]   Found 9599 files\n"
     ]
    },
    {
     "name": "stderr",
     "output_type": "stream",
     "text": [
      "\n",
      "Processing source: OpenET Ensemble CCOUNT\n"
     ]
    },
    {
     "name": "stdout",
     "output_type": "stream",
     "text": [
      "[2025-09-04 09:46:14 INFO] \n",
      "Processing source: OpenET Ensemble CCOUNT\n"
     ]
    },
    {
     "name": "stderr",
     "output_type": "stream",
     "text": [
      "  File prefix: OPENET_ENSEMBLE_\n"
     ]
    },
    {
     "name": "stdout",
     "output_type": "stream",
     "text": [
      "[2025-09-04 09:46:14 INFO]   File prefix: OPENET_ENSEMBLE_\n"
     ]
    },
    {
     "name": "stderr",
     "output_type": "stream",
     "text": [
      "  Date range: 1985-01-01 to 2025-01-01\n"
     ]
    },
    {
     "name": "stdout",
     "output_type": "stream",
     "text": [
      "[2025-09-04 09:46:14 INFO]   Date range: 1985-01-01 to 2025-01-01\n"
     ]
    },
    {
     "name": "stderr",
     "output_type": "stream",
     "text": [
      "  Found 3840 files\n"
     ]
    },
    {
     "name": "stdout",
     "output_type": "stream",
     "text": [
      "[2025-09-04 09:46:22 INFO]   Found 3840 files\n"
     ]
    },
    {
     "name": "stderr",
     "output_type": "stream",
     "text": [
      "\n",
      "Processing source: OpenET Ensemble ET MIN\n"
     ]
    },
    {
     "name": "stdout",
     "output_type": "stream",
     "text": [
      "[2025-09-04 09:46:22 INFO] \n",
      "Processing source: OpenET Ensemble ET MIN\n"
     ]
    },
    {
     "name": "stderr",
     "output_type": "stream",
     "text": [
      "  File prefix: OPENET_ENSEMBLE_\n"
     ]
    },
    {
     "name": "stdout",
     "output_type": "stream",
     "text": [
      "[2025-09-04 09:46:22 INFO]   File prefix: OPENET_ENSEMBLE_\n"
     ]
    },
    {
     "name": "stderr",
     "output_type": "stream",
     "text": [
      "  Date range: 1985-01-01 to 2025-01-01\n"
     ]
    },
    {
     "name": "stdout",
     "output_type": "stream",
     "text": [
      "[2025-09-04 09:46:22 INFO]   Date range: 1985-01-01 to 2025-01-01\n"
     ]
    },
    {
     "name": "stderr",
     "output_type": "stream",
     "text": [
      "  Found 9599 files\n"
     ]
    },
    {
     "name": "stdout",
     "output_type": "stream",
     "text": [
      "[2025-09-04 09:46:30 INFO]   Found 9599 files\n"
     ]
    },
    {
     "name": "stderr",
     "output_type": "stream",
     "text": [
      "\n",
      "Processing source: OpenET Ensemble ET MAX\n"
     ]
    },
    {
     "name": "stdout",
     "output_type": "stream",
     "text": [
      "[2025-09-04 09:46:30 INFO] \n",
      "Processing source: OpenET Ensemble ET MAX\n"
     ]
    },
    {
     "name": "stderr",
     "output_type": "stream",
     "text": [
      "  File prefix: OPENET_ENSEMBLE_\n"
     ]
    },
    {
     "name": "stdout",
     "output_type": "stream",
     "text": [
      "[2025-09-04 09:46:30 INFO]   File prefix: OPENET_ENSEMBLE_\n"
     ]
    },
    {
     "name": "stderr",
     "output_type": "stream",
     "text": [
      "  Date range: 1985-01-01 to 2025-01-01\n"
     ]
    },
    {
     "name": "stdout",
     "output_type": "stream",
     "text": [
      "[2025-09-04 09:46:30 INFO]   Date range: 1985-01-01 to 2025-01-01\n"
     ]
    },
    {
     "name": "stderr",
     "output_type": "stream",
     "text": [
      "  Found 9598 files\n"
     ]
    },
    {
     "name": "stdout",
     "output_type": "stream",
     "text": [
      "[2025-09-04 09:46:39 INFO]   Found 9598 files\n"
     ]
    },
    {
     "name": "stderr",
     "output_type": "stream",
     "text": [
      "\n",
      "Processing source: OpenET PTJPL Cloud Count\n"
     ]
    },
    {
     "name": "stdout",
     "output_type": "stream",
     "text": [
      "[2025-09-04 09:46:39 INFO] \n",
      "Processing source: OpenET PTJPL Cloud Count\n"
     ]
    },
    {
     "name": "stderr",
     "output_type": "stream",
     "text": [
      "  File prefix: OPENET_PTJPL_\n"
     ]
    },
    {
     "name": "stdout",
     "output_type": "stream",
     "text": [
      "[2025-09-04 09:46:39 INFO]   File prefix: OPENET_PTJPL_\n"
     ]
    },
    {
     "name": "stderr",
     "output_type": "stream",
     "text": [
      "  Date range: 1985-01-01 to 2025-01-01\n"
     ]
    },
    {
     "name": "stdout",
     "output_type": "stream",
     "text": [
      "[2025-09-04 09:46:39 INFO]   Date range: 1985-01-01 to 2025-01-01\n"
     ]
    },
    {
     "name": "stderr",
     "output_type": "stream",
     "text": [
      "  Found 3840 files\n"
     ]
    },
    {
     "name": "stdout",
     "output_type": "stream",
     "text": [
      "[2025-09-04 09:46:40 INFO]   Found 3840 files\n"
     ]
    },
    {
     "name": "stderr",
     "output_type": "stream",
     "text": [
      "\n",
      "Processing source: IDAHO EPSCOR GRIDMET ETO\n"
     ]
    },
    {
     "name": "stdout",
     "output_type": "stream",
     "text": [
      "[2025-09-04 09:46:40 INFO] \n",
      "Processing source: IDAHO EPSCOR GRIDMET ETO\n"
     ]
    },
    {
     "name": "stderr",
     "output_type": "stream",
     "text": [
      "  File prefix: IDAHO_EPSCOR_GRIDMET_\n"
     ]
    },
    {
     "name": "stdout",
     "output_type": "stream",
     "text": [
      "[2025-09-04 09:46:40 INFO]   File prefix: IDAHO_EPSCOR_GRIDMET_\n"
     ]
    },
    {
     "name": "stderr",
     "output_type": "stream",
     "text": [
      "  Date range: 1985-01-01 to 2025-01-01\n"
     ]
    },
    {
     "name": "stdout",
     "output_type": "stream",
     "text": [
      "[2025-09-04 09:46:40 INFO]   Date range: 1985-01-01 to 2025-01-01\n"
     ]
    },
    {
     "name": "stderr",
     "output_type": "stream",
     "text": [
      "  Found 9600 files\n"
     ]
    },
    {
     "name": "stdout",
     "output_type": "stream",
     "text": [
      "[2025-09-04 09:46:42 INFO]   Found 9600 files\n"
     ]
    },
    {
     "name": "stderr",
     "output_type": "stream",
     "text": [
      "\n",
      "Processing source: Oregon State PRISM PPT\n"
     ]
    },
    {
     "name": "stdout",
     "output_type": "stream",
     "text": [
      "[2025-09-04 09:46:42 INFO] \n",
      "Processing source: Oregon State PRISM PPT\n"
     ]
    },
    {
     "name": "stderr",
     "output_type": "stream",
     "text": [
      "  File prefix: OREGON_STATE_PRISM_\n"
     ]
    },
    {
     "name": "stdout",
     "output_type": "stream",
     "text": [
      "[2025-09-04 09:46:42 INFO]   File prefix: OREGON_STATE_PRISM_\n"
     ]
    },
    {
     "name": "stderr",
     "output_type": "stream",
     "text": [
      "  Date range: 1985-01-01 to 2025-01-01\n"
     ]
    },
    {
     "name": "stdout",
     "output_type": "stream",
     "text": [
      "[2025-09-04 09:46:42 INFO]   Date range: 1985-01-01 to 2025-01-01\n"
     ]
    },
    {
     "name": "stderr",
     "output_type": "stream",
     "text": [
      "  Found 9600 files\n"
     ]
    },
    {
     "name": "stdout",
     "output_type": "stream",
     "text": [
      "[2025-09-04 09:46:44 INFO]   Found 9600 files\n"
     ]
    },
    {
     "name": "stderr",
     "output_type": "stream",
     "text": [
      "\n",
      "Generated inventory with 56696 total files\n"
     ]
    },
    {
     "name": "stdout",
     "output_type": "stream",
     "text": [
      "[2025-09-04 09:46:44 INFO] \n",
      "Generated inventory with 56696 total files\n"
     ]
    },
    {
     "name": "stderr",
     "output_type": "stream",
     "text": [
      "Sources processed: 9\n"
     ]
    },
    {
     "name": "stdout",
     "output_type": "stream",
     "text": [
      "[2025-09-04 09:46:44 INFO] Sources processed: 9\n"
     ]
    },
    {
     "name": "stderr",
     "output_type": "stream",
     "text": [
      "\n",
      "Summary by source:\n",
      "                  source_id variable  file_count\n",
      "0  idaho_epscor_gridmet_eto      ETO        9600\n",
      "1         landsat_ptjpl_esi      ESI         510\n",
      "2          landsat_ptjpl_et       ET         510\n",
      "3    openet_ensemble_ccount   CCOUNT        3840\n",
      "4        openet_ensemble_et       ET        9599\n",
      "5    openet_ensemble_et_max   ET_MAX        9598\n",
      "6    openet_ensemble_et_min   ET_MIN        9599\n",
      "7  openet_ptjpl_cloud_count    COUNT        3840\n",
      "8    oregon_state_prism_ppt      PPT        9600\n"
     ]
    },
    {
     "name": "stdout",
     "output_type": "stream",
     "text": [
      "[2025-09-04 09:46:44 INFO] \n",
      "Summary by source:\n",
      "                  source_id variable  file_count\n",
      "0  idaho_epscor_gridmet_eto      ETO        9600\n",
      "1         landsat_ptjpl_esi      ESI         510\n",
      "2          landsat_ptjpl_et       ET         510\n",
      "3    openet_ensemble_ccount   CCOUNT        3840\n",
      "4        openet_ensemble_et       ET        9599\n",
      "5    openet_ensemble_et_max   ET_MAX        9598\n",
      "6    openet_ensemble_et_min   ET_MIN        9599\n",
      "7  openet_ptjpl_cloud_count    COUNT        3840\n",
      "8    oregon_state_prism_ppt      PPT        9600\n"
     ]
    },
    {
     "name": "stderr",
     "output_type": "stream",
     "text": [
      "\n",
      "Date range in inventory:\n"
     ]
    },
    {
     "name": "stdout",
     "output_type": "stream",
     "text": [
      "[2025-09-04 09:46:44 INFO] \n",
      "Date range in inventory:\n"
     ]
    },
    {
     "name": "stderr",
     "output_type": "stream",
     "text": [
      "  Earliest: 1983-01-01\n"
     ]
    },
    {
     "name": "stdout",
     "output_type": "stream",
     "text": [
      "[2025-09-04 09:46:44 INFO]   Earliest: 1983-01-01\n"
     ]
    },
    {
     "name": "stderr",
     "output_type": "stream",
     "text": [
      "  Latest: 2024-12-01\n"
     ]
    },
    {
     "name": "stdout",
     "output_type": "stream",
     "text": [
      "[2025-09-04 09:46:44 INFO]   Latest: 2024-12-01\n"
     ]
    },
    {
     "name": "stderr",
     "output_type": "stream",
     "text": [
      "\n",
      "Variables found: ['CCOUNT', 'COUNT', 'ESI', 'ET', 'ETO', 'ET_MAX', 'ET_MIN', 'PPT']\n"
     ]
    },
    {
     "name": "stdout",
     "output_type": "stream",
     "text": [
      "[2025-09-04 09:46:44 INFO] \n",
      "Variables found: ['CCOUNT', 'COUNT', 'ESI', 'ET', 'ETO', 'ET_MAX', 'ET_MIN', 'PPT']\n"
     ]
    },
    {
     "name": "stderr",
     "output_type": "stream",
     "text": [
      "Unique tiles: 22 tiles\n"
     ]
    },
    {
     "name": "stdout",
     "output_type": "stream",
     "text": [
      "[2025-09-04 09:46:44 INFO] Unique tiles: 22 tiles\n"
     ]
    },
    {
     "data": {
      "text/html": [
       "<div>\n",
       "<style scoped>\n",
       "    .dataframe tbody tr th:only-of-type {\n",
       "        vertical-align: middle;\n",
       "    }\n",
       "\n",
       "    .dataframe tbody tr th {\n",
       "        vertical-align: top;\n",
       "    }\n",
       "\n",
       "    .dataframe thead th {\n",
       "        text-align: right;\n",
       "    }\n",
       "</style>\n",
       "<table border=\"1\" class=\"dataframe\">\n",
       "  <thead>\n",
       "    <tr style=\"text-align: right;\">\n",
       "      <th></th>\n",
       "      <th>filename</th>\n",
       "      <th>variable</th>\n",
       "      <th>date</th>\n",
       "      <th>tile</th>\n",
       "      <th>source_id</th>\n",
       "    </tr>\n",
       "  </thead>\n",
       "  <tbody>\n",
       "    <tr>\n",
       "      <th>0</th>\n",
       "      <td>LT04_CU_008014_19830101_20200420_C01_V01_ET.tif</td>\n",
       "      <td>ET</td>\n",
       "      <td>1983-01-01</td>\n",
       "      <td>008014</td>\n",
       "      <td>landsat_ptjpl_et</td>\n",
       "    </tr>\n",
       "    <tr>\n",
       "      <th>1</th>\n",
       "      <td>LT04_CU_008014_19830108_20200420_C01_V01_ET.tif</td>\n",
       "      <td>ET</td>\n",
       "      <td>1983-01-08</td>\n",
       "      <td>008014</td>\n",
       "      <td>landsat_ptjpl_et</td>\n",
       "    </tr>\n",
       "    <tr>\n",
       "      <th>2</th>\n",
       "      <td>LT04_CU_008014_19830110_20200420_C01_V01_ET.tif</td>\n",
       "      <td>ET</td>\n",
       "      <td>1983-01-10</td>\n",
       "      <td>008014</td>\n",
       "      <td>landsat_ptjpl_et</td>\n",
       "    </tr>\n",
       "    <tr>\n",
       "      <th>3</th>\n",
       "      <td>LT04_CU_008014_19830126_20200420_C01_V01_ET.tif</td>\n",
       "      <td>ET</td>\n",
       "      <td>1983-01-26</td>\n",
       "      <td>008014</td>\n",
       "      <td>landsat_ptjpl_et</td>\n",
       "    </tr>\n",
       "    <tr>\n",
       "      <th>4</th>\n",
       "      <td>LT04_CU_008014_19830209_20200420_C01_V01_ET.tif</td>\n",
       "      <td>ET</td>\n",
       "      <td>1983-02-09</td>\n",
       "      <td>008014</td>\n",
       "      <td>landsat_ptjpl_et</td>\n",
       "    </tr>\n",
       "    <tr>\n",
       "      <th>...</th>\n",
       "      <td>...</td>\n",
       "      <td>...</td>\n",
       "      <td>...</td>\n",
       "      <td>...</td>\n",
       "      <td>...</td>\n",
       "    </tr>\n",
       "    <tr>\n",
       "      <th>56691</th>\n",
       "      <td>OREGON_STATE_PRISM_012015_20240801_20240901_PP...</td>\n",
       "      <td>PPT</td>\n",
       "      <td>2024-08-01</td>\n",
       "      <td>012015</td>\n",
       "      <td>oregon_state_prism_ppt</td>\n",
       "    </tr>\n",
       "    <tr>\n",
       "      <th>56692</th>\n",
       "      <td>OREGON_STATE_PRISM_012015_20240901_20241001_PP...</td>\n",
       "      <td>PPT</td>\n",
       "      <td>2024-09-01</td>\n",
       "      <td>012015</td>\n",
       "      <td>oregon_state_prism_ppt</td>\n",
       "    </tr>\n",
       "    <tr>\n",
       "      <th>56693</th>\n",
       "      <td>OREGON_STATE_PRISM_012015_20241001_20241101_PP...</td>\n",
       "      <td>PPT</td>\n",
       "      <td>2024-10-01</td>\n",
       "      <td>012015</td>\n",
       "      <td>oregon_state_prism_ppt</td>\n",
       "    </tr>\n",
       "    <tr>\n",
       "      <th>56694</th>\n",
       "      <td>OREGON_STATE_PRISM_012015_20241101_20241201_PP...</td>\n",
       "      <td>PPT</td>\n",
       "      <td>2024-11-01</td>\n",
       "      <td>012015</td>\n",
       "      <td>oregon_state_prism_ppt</td>\n",
       "    </tr>\n",
       "    <tr>\n",
       "      <th>56695</th>\n",
       "      <td>OREGON_STATE_PRISM_012015_20241201_20250101_PP...</td>\n",
       "      <td>PPT</td>\n",
       "      <td>2024-12-01</td>\n",
       "      <td>012015</td>\n",
       "      <td>oregon_state_prism_ppt</td>\n",
       "    </tr>\n",
       "  </tbody>\n",
       "</table>\n",
       "<p>56696 rows × 5 columns</p>\n",
       "</div>"
      ],
      "text/plain": [
       "                                                filename variable        date  \\\n",
       "0        LT04_CU_008014_19830101_20200420_C01_V01_ET.tif       ET  1983-01-01   \n",
       "1        LT04_CU_008014_19830108_20200420_C01_V01_ET.tif       ET  1983-01-08   \n",
       "2        LT04_CU_008014_19830110_20200420_C01_V01_ET.tif       ET  1983-01-10   \n",
       "3        LT04_CU_008014_19830126_20200420_C01_V01_ET.tif       ET  1983-01-26   \n",
       "4        LT04_CU_008014_19830209_20200420_C01_V01_ET.tif       ET  1983-02-09   \n",
       "...                                                  ...      ...         ...   \n",
       "56691  OREGON_STATE_PRISM_012015_20240801_20240901_PP...      PPT  2024-08-01   \n",
       "56692  OREGON_STATE_PRISM_012015_20240901_20241001_PP...      PPT  2024-09-01   \n",
       "56693  OREGON_STATE_PRISM_012015_20241001_20241101_PP...      PPT  2024-10-01   \n",
       "56694  OREGON_STATE_PRISM_012015_20241101_20241201_PP...      PPT  2024-11-01   \n",
       "56695  OREGON_STATE_PRISM_012015_20241201_20250101_PP...      PPT  2024-12-01   \n",
       "\n",
       "         tile               source_id  \n",
       "0      008014        landsat_ptjpl_et  \n",
       "1      008014        landsat_ptjpl_et  \n",
       "2      008014        landsat_ptjpl_et  \n",
       "3      008014        landsat_ptjpl_et  \n",
       "4      008014        landsat_ptjpl_et  \n",
       "...       ...                     ...  \n",
       "56691  012015  oregon_state_prism_ppt  \n",
       "56692  012015  oregon_state_prism_ppt  \n",
       "56693  012015  oregon_state_prism_ppt  \n",
       "56694  012015  oregon_state_prism_ppt  \n",
       "56695  012015  oregon_state_prism_ppt  \n",
       "\n",
       "[56696 rows x 5 columns]"
      ]
     },
     "execution_count": 3,
     "metadata": {},
     "output_type": "execute_result"
    }
   ],
   "source": [
    "from update_manifest import S3ManifestTracker\n",
    "\n",
    "tracker = S3ManifestTracker(\n",
    "    config_path=\"../variables.yaml\",\n",
    "    bucket_name=\"ose-dev-inputs\",\n",
    "    output_path=\"S3_filenames_dynamic.csv\",\n",
    "    profile_name=\"ose-nmw\",\n",
    ")\n",
    "# # Write to file (test file)\n",
    "tracker.update_manifest(output_path=\"S3_filenames_dynamic_test.csv\")\n",
    "\n",
    "# Update Production File (uncomment to update)\n",
    "# tracker.update_manifest(output_path=\"../water_rights_visualizer/S3_filenames.csv\")"
   ]
  },
  {
   "cell_type": "markdown",
   "metadata": {},
   "source": [
    "# Example: Real Data Fetch Run"
   ]
  },
  {
   "cell_type": "code",
   "execution_count": 21,
   "metadata": {},
   "outputs": [
    {
     "data": {
      "text/html": [
       "\n",
       "            <style>\n",
       "                .geemap-dark {\n",
       "                    --jp-widgets-color: white;\n",
       "                    --jp-widgets-label-color: white;\n",
       "                    --jp-ui-font-color1: white;\n",
       "                    --jp-layout-color2: #454545;\n",
       "                    background-color: #383838;\n",
       "                }\n",
       "\n",
       "                .geemap-dark .jupyter-button {\n",
       "                    --jp-layout-color3: #383838;\n",
       "                }\n",
       "\n",
       "                .geemap-colab {\n",
       "                    background-color: var(--colab-primary-surface-color, white);\n",
       "                }\n",
       "\n",
       "                .geemap-colab .jupyter-button {\n",
       "                    --jp-layout-color3: var(--colab-primary-surface-color, white);\n",
       "                }\n",
       "            </style>\n",
       "            "
      ],
      "text/plain": [
       "<IPython.core.display.HTML object>"
      ]
     },
     "metadata": {},
     "output_type": "display_data"
    },
    {
     "name": "stdout",
     "output_type": "stream",
     "text": [
      "[2025-08-28 15:24:49 INFO] loading credentials: /Users/rstonebr/Documents/Programming/Water-Rights-Visualizer/pipelines/google_drive_key.txt\n",
      "[2025-08-28 15:24:49 INFO] access_token is expired. Now: 2025-08-28 22:24:49.884031, token_expiry: 2025-08-28 21:22:00\n",
      "[2025-08-28 15:24:49 INFO] Refreshing access_token\n",
      "[2025-08-28 15:24:50 INFO] saving credentials: /Users/rstonebr/Documents/Programming/Water-Rights-Visualizer/pipelines/google_drive_key.txt\n",
      "[2025-08-28 15:24:50 INFO] Found credentials in shared credentials file: ~/.aws/credentials\n",
      "[2025-08-28 15:24:50 INFO] Updating manifest for OPENET_ENSEMBLE\n",
      "[2025-08-28 15:24:57 INFO] Updated manifest for OPENET_ENSEMBLE with 32406 keys\n"
     ]
    }
   ],
   "source": [
    "# Initialize the pipeline, configured for the OpenET ensemble product\n",
    "pipeline = GEEAWSDataPipeline(\n",
    "    bands=[\"et_ensemble_mad\", \"et_ensemble_mad_min\", \"et_ensemble_mad_max\"],\n",
    "    product=\"OpenET/ENSEMBLE/CONUS/GRIDMET/MONTHLY/v2_0\",\n",
    "    # For <2000 data, use:\n",
    "    # product=\"projects/openet/assets/ensemble/conus/gridmet/monthly/v2_0_pre2000\",\n",
    "    product_prefix=\"OPENET_ENSEMBLE\",\n",
    "    aws_bucket=\"ose-dev-inputs\",\n",
    "    aws_region=\"us-west-2\",\n",
    "    aws_profile=\"ose-nmw\",\n",
    "    gdrive_folder=\"OPENET_EXPORTS\",\n",
    "    temp_local_folder=\"temp_data\",\n",
    "    project=\"zippy-pad-465521-e2\",\n",
    "    gdrive_client_secrets_filename=secret_path,\n",
    "    gdrive_key_filename=key_path,\n",
    ")"
   ]
  },
  {
   "cell_type": "code",
   "execution_count": 7,
   "metadata": {},
   "outputs": [
    {
     "data": {
      "text/html": [
       "\n",
       "            <style>\n",
       "                .geemap-dark {\n",
       "                    --jp-widgets-color: white;\n",
       "                    --jp-widgets-label-color: white;\n",
       "                    --jp-ui-font-color1: white;\n",
       "                    --jp-layout-color2: #454545;\n",
       "                    background-color: #383838;\n",
       "                }\n",
       "\n",
       "                .geemap-dark .jupyter-button {\n",
       "                    --jp-layout-color3: #383838;\n",
       "                }\n",
       "\n",
       "                .geemap-colab {\n",
       "                    background-color: var(--colab-primary-surface-color, white);\n",
       "                }\n",
       "\n",
       "                .geemap-colab .jupyter-button {\n",
       "                    --jp-layout-color3: var(--colab-primary-surface-color, white);\n",
       "                }\n",
       "            </style>\n",
       "            "
      ],
      "text/plain": [
       "<IPython.core.display.HTML object>"
      ]
     },
     "metadata": {},
     "output_type": "display_data"
    },
    {
     "name": "stdout",
     "output_type": "stream",
     "text": [
      "[2025-08-27 08:32:40 INFO] loading credentials: /Users/rstonebr/Documents/Programming/Water-Rights-Visualizer/pipelines/google_drive_key.txt\n",
      "[2025-08-27 08:32:40 INFO] saving credentials: /Users/rstonebr/Documents/Programming/Water-Rights-Visualizer/pipelines/google_drive_key.txt\n",
      "[2025-08-27 08:32:40 INFO] Found credentials in shared credentials file: ~/.aws/credentials\n"
     ]
    }
   ],
   "source": [
    "# GRIDMET Data Pipeline\n",
    "gridmet_pipeline = GEEAWSDataPipeline(\n",
    "    bands=[\"eto\"],\n",
    "    product=\"IDAHO_EPSCOR/GRIDMET\",\n",
    "    product_prefix=\"IDAHO_EPSCOR_GRIDMET\",\n",
    "    tile_ids=[],\n",
    "    aws_bucket=\"ose-dev-inputs\",\n",
    "    aws_region=\"us-west-2\",\n",
    "    aws_profile=\"ose-nmw\",\n",
    "    gdrive_folder=\"OPENET_EXPORTS\",\n",
    "    temp_local_folder=\"temp_data\",\n",
    "    project=\"zippy-pad-465521-e2\",\n",
    "    gdrive_client_secrets_filename=secret_path,\n",
    "    gdrive_key_filename=key_path,\n",
    "    monthly_sum=True,\n",
    ")"
   ]
  },
  {
   "cell_type": "code",
   "execution_count": null,
   "metadata": {},
   "outputs": [],
   "source": [
    "prism_pipeline = PrismAWSDataPipeline(\n",
    "    aws_bucket=\"ose-dev-inputs\",\n",
    "    aws_region=\"us-west-2\",\n",
    "    aws_profile=\"ose-nmw\",\n",
    "    raw_dir=\"prism_data\",\n",
    "    monthly_dir=\"prism_data_monthly\",\n",
    "    output_dir=\"prism_tiles\",\n",
    "    allow_provisional=True,\n",
    ")"
   ]
  },
  {
   "cell_type": "code",
   "execution_count": null,
   "metadata": {},
   "outputs": [
    {
     "data": {
      "text/html": [
       "\n",
       "            <style>\n",
       "                .geemap-dark {\n",
       "                    --jp-widgets-color: white;\n",
       "                    --jp-widgets-label-color: white;\n",
       "                    --jp-ui-font-color1: white;\n",
       "                    --jp-layout-color2: #454545;\n",
       "                    background-color: #383838;\n",
       "                }\n",
       "\n",
       "                .geemap-dark .jupyter-button {\n",
       "                    --jp-layout-color3: #383838;\n",
       "                }\n",
       "\n",
       "                .geemap-colab {\n",
       "                    background-color: var(--colab-primary-surface-color, white);\n",
       "                }\n",
       "\n",
       "                .geemap-colab .jupyter-button {\n",
       "                    --jp-layout-color3: var(--colab-primary-surface-color, white);\n",
       "                }\n",
       "            </style>\n",
       "            "
      ],
      "text/plain": [
       "<IPython.core.display.HTML object>"
      ]
     },
     "metadata": {},
     "output_type": "display_data"
    },
    {
     "data": {
      "application/vnd.jupyter.widget-view+json": {
       "model_id": "1fc573042766486997038bfeb1458339",
       "version_major": 2,
       "version_minor": 0
      },
      "text/plain": [
       "Processing bands:   0%|          | 0/3 [00:00<?, ?it/s]"
      ]
     },
     "metadata": {},
     "output_type": "display_data"
    },
    {
     "data": {
      "application/vnd.jupyter.widget-view+json": {
       "model_id": "32ef8917bbae48b5ae3c4afb85860524",
       "version_major": 2,
       "version_minor": 0
      },
      "text/plain": [
       "Processing tiles:   0%|          | 0/20 [00:00<?, ?it/s]"
      ]
     },
     "metadata": {},
     "output_type": "display_data"
    },
    {
     "name": "stdout",
     "output_type": "stream",
     "text": [
      "[2025-07-29 10:40:10 INFO] Added OPENET_ENSEMBLE_009011_19850101_19850201_ET to map\n"
     ]
    },
    {
     "data": {
      "application/vnd.jupyter.widget-view+json": {
       "model_id": "b6a0b531bb3e4ec28b1755c182abd710",
       "version_major": 2,
       "version_minor": 0
      },
      "text/plain": [
       "Processing tiles:   0%|          | 0/20 [00:00<?, ?it/s]"
      ]
     },
     "metadata": {},
     "output_type": "display_data"
    },
    {
     "name": "stdout",
     "output_type": "stream",
     "text": [
      "[2025-07-29 10:40:11 INFO] Added OPENET_ENSEMBLE_009011_19850101_19850201_ET_MIN to map\n"
     ]
    },
    {
     "data": {
      "application/vnd.jupyter.widget-view+json": {
       "model_id": "bf1ce94877d041e4af6550952764df1e",
       "version_major": 2,
       "version_minor": 0
      },
      "text/plain": [
       "Processing tiles:   0%|          | 0/20 [00:00<?, ?it/s]"
      ]
     },
     "metadata": {},
     "output_type": "display_data"
    },
    {
     "name": "stdout",
     "output_type": "stream",
     "text": [
      "[2025-07-29 10:40:12 INFO] Added OPENET_ENSEMBLE_009011_19850101_19850201_ET_MAX to map\n"
     ]
    },
    {
     "data": {
      "application/vnd.jupyter.widget-view+json": {
       "model_id": "4020288d65404a8b8650ac68835c168b",
       "version_major": 2,
       "version_minor": 0
      },
      "text/plain": [
       "Map(center=[0, 0], controls=(WidgetControl(options=['position', 'transparent_bg'], widget=SearchDataGUI(childr…"
      ]
     },
     "execution_count": 60,
     "metadata": {},
     "output_type": "execute_result"
    }
   ],
   "source": [
    "pipeline.generate_tiles_for_month(\"1985-01-01\", export=False, visualize=True, limit=1,)"
   ]
  },
  {
   "cell_type": "code",
   "execution_count": 15,
   "metadata": {},
   "outputs": [
    {
     "data": {
      "text/html": [
       "\n",
       "            <style>\n",
       "                .geemap-dark {\n",
       "                    --jp-widgets-color: white;\n",
       "                    --jp-widgets-label-color: white;\n",
       "                    --jp-ui-font-color1: white;\n",
       "                    --jp-layout-color2: #454545;\n",
       "                    background-color: #383838;\n",
       "                }\n",
       "\n",
       "                .geemap-dark .jupyter-button {\n",
       "                    --jp-layout-color3: #383838;\n",
       "                }\n",
       "\n",
       "                .geemap-colab {\n",
       "                    background-color: var(--colab-primary-surface-color, white);\n",
       "                }\n",
       "\n",
       "                .geemap-colab .jupyter-button {\n",
       "                    --jp-layout-color3: var(--colab-primary-surface-color, white);\n",
       "                }\n",
       "            </style>\n",
       "            "
      ],
      "text/plain": [
       "<IPython.core.display.HTML object>"
      ]
     },
     "metadata": {},
     "output_type": "display_data"
    },
    {
     "data": {
      "application/vnd.jupyter.widget-view+json": {
       "model_id": "98557bb02e0945aa8b8c124617470d5c",
       "version_major": 2,
       "version_minor": 0
      },
      "text/plain": [
       "Processing bands:   0%|          | 0/3 [00:00<?, ?it/s]"
      ]
     },
     "metadata": {},
     "output_type": "display_data"
    },
    {
     "data": {
      "application/vnd.jupyter.widget-view+json": {
       "model_id": "ef161ae12e144954a7aeb7479c916050",
       "version_major": 2,
       "version_minor": 0
      },
      "text/plain": [
       "Processing tiles:   0%|          | 0/20 [00:00<?, ?it/s]"
      ]
     },
     "metadata": {},
     "output_type": "display_data"
    },
    {
     "name": "stdout",
     "output_type": "stream",
     "text": [
      "[2025-08-18 09:17:53 INFO] Added OPENET_ENSEMBLE_009011_19991001_19991101_ET to map\n"
     ]
    },
    {
     "data": {
      "application/vnd.jupyter.widget-view+json": {
       "model_id": "9e14dc061f9a4b2c8686f1c996bb17c1",
       "version_major": 2,
       "version_minor": 0
      },
      "text/plain": [
       "Processing tiles:   0%|          | 0/20 [00:00<?, ?it/s]"
      ]
     },
     "metadata": {},
     "output_type": "display_data"
    },
    {
     "name": "stdout",
     "output_type": "stream",
     "text": [
      "[2025-08-18 09:17:54 INFO] Added OPENET_ENSEMBLE_009011_19991001_19991101_ET_MIN to map\n"
     ]
    },
    {
     "data": {
      "application/vnd.jupyter.widget-view+json": {
       "model_id": "de859d9b0a75475c91438bf4fc3e4121",
       "version_major": 2,
       "version_minor": 0
      },
      "text/plain": [
       "Processing tiles:   0%|          | 0/20 [00:00<?, ?it/s]"
      ]
     },
     "metadata": {},
     "output_type": "display_data"
    },
    {
     "name": "stdout",
     "output_type": "stream",
     "text": [
      "[2025-08-18 09:17:55 INFO] Added OPENET_ENSEMBLE_009011_19991001_19991101_ET_MAX to map\n"
     ]
    },
    {
     "data": {
      "application/vnd.jupyter.widget-view+json": {
       "model_id": "a30862dee85645cf8f4b8ee80d7d8982",
       "version_major": 2,
       "version_minor": 0
      },
      "text/plain": [
       "Map(center=[0, 0], controls=(WidgetControl(options=['position', 'transparent_bg'], widget=SearchDataGUI(childr…"
      ]
     },
     "execution_count": 15,
     "metadata": {},
     "output_type": "execute_result"
    }
   ],
   "source": [
    "pipeline.generate_tiles_for_month(\n",
    "    \"1999-10-01\",\n",
    "    export=False,\n",
    "    visualize=True,\n",
    "    limit=1,\n",
    ")"
   ]
  },
  {
   "cell_type": "code",
   "execution_count": null,
   "metadata": {},
   "outputs": [],
   "source": [
    "pipeline.generate_tiles_for_date_range(\"1999-10-01\", \"2000-01-01\", export=True)\n",
    "# gridmet_pipeline.generate_tiles_for_date_range(\"2024-01-01\", \"2025-01-01\", export=True)\n",
    "# prism_pipeline.process_year(2024, upload=False)"
   ]
  },
  {
   "cell_type": "code",
   "execution_count": 22,
   "metadata": {},
   "outputs": [
    {
     "data": {
      "text/html": [
       "\n",
       "            <style>\n",
       "                .geemap-dark {\n",
       "                    --jp-widgets-color: white;\n",
       "                    --jp-widgets-label-color: white;\n",
       "                    --jp-ui-font-color1: white;\n",
       "                    --jp-layout-color2: #454545;\n",
       "                    background-color: #383838;\n",
       "                }\n",
       "\n",
       "                .geemap-dark .jupyter-button {\n",
       "                    --jp-layout-color3: #383838;\n",
       "                }\n",
       "\n",
       "                .geemap-colab {\n",
       "                    background-color: var(--colab-primary-surface-color, white);\n",
       "                }\n",
       "\n",
       "                .geemap-colab .jupyter-button {\n",
       "                    --jp-layout-color3: var(--colab-primary-surface-color, white);\n",
       "                }\n",
       "            </style>\n",
       "            "
      ],
      "text/plain": [
       "<IPython.core.display.HTML object>"
      ]
     },
     "metadata": {},
     "output_type": "display_data"
    },
    {
     "data": {
      "application/vnd.jupyter.widget-view+json": {
       "model_id": "2fd7243cb047419aac1c380510b447f5",
       "version_major": 2,
       "version_minor": 0
      },
      "text/plain": [
       "Transferring files from gdrive folder OPENET_EXPORTS to aws bucket ose-dev-inputs:   0%|          | 0/470 [00:…"
      ]
     },
     "metadata": {},
     "output_type": "display_data"
    },
    {
     "name": "stdout",
     "output_type": "stream",
     "text": [
      "[2025-08-28 15:26:17 INFO] File IDAHO_EPSCOR_GRIDMET_012013_20241201_20250101_ETO.tif already exists, skipping transfer\n",
      "[2025-08-28 15:26:17 INFO] File IDAHO_EPSCOR_GRIDMET_012015_20241201_20250101_ETO.tif already exists, skipping transfer\n",
      "[2025-08-28 15:26:17 INFO] File IDAHO_EPSCOR_GRIDMET_012014_20241201_20250101_ETO.tif already exists, skipping transfer\n",
      "[2025-08-28 15:26:17 INFO] File IDAHO_EPSCOR_GRIDMET_012012_20241201_20250101_ETO.tif already exists, skipping transfer\n",
      "[2025-08-28 15:26:17 INFO] File IDAHO_EPSCOR_GRIDMET_011014_20241201_20250101_ETO.tif already exists, skipping transfer\n",
      "[2025-08-28 15:26:17 INFO] File IDAHO_EPSCOR_GRIDMET_012011_20241201_20250101_ETO.tif already exists, skipping transfer\n",
      "[2025-08-28 15:26:18 INFO] File IDAHO_EPSCOR_GRIDMET_011015_20241201_20250101_ETO.tif already exists, skipping transfer\n",
      "[2025-08-28 15:26:18 INFO] File IDAHO_EPSCOR_GRIDMET_011013_20241201_20250101_ETO.tif already exists, skipping transfer\n",
      "[2025-08-28 15:26:18 INFO] File IDAHO_EPSCOR_GRIDMET_010014_20241201_20250101_ETO.tif already exists, skipping transfer\n",
      "[2025-08-28 15:26:18 INFO] File IDAHO_EPSCOR_GRIDMET_011012_20241201_20250101_ETO.tif already exists, skipping transfer\n",
      "[2025-08-28 15:26:18 INFO] File IDAHO_EPSCOR_GRIDMET_010015_20241201_20250101_ETO.tif already exists, skipping transfer\n",
      "[2025-08-28 15:26:18 INFO] File IDAHO_EPSCOR_GRIDMET_011011_20241201_20250101_ETO.tif already exists, skipping transfer\n",
      "[2025-08-28 15:26:18 INFO] File IDAHO_EPSCOR_GRIDMET_010013_20241201_20250101_ETO.tif already exists, skipping transfer\n",
      "[2025-08-28 15:26:18 INFO] File IDAHO_EPSCOR_GRIDMET_010011_20241201_20250101_ETO.tif already exists, skipping transfer\n",
      "[2025-08-28 15:26:18 INFO] File IDAHO_EPSCOR_GRIDMET_009014_20241201_20250101_ETO.tif already exists, skipping transfer\n",
      "[2025-08-28 15:26:18 INFO] File IDAHO_EPSCOR_GRIDMET_010012_20241201_20250101_ETO.tif already exists, skipping transfer\n",
      "[2025-08-28 15:26:18 INFO] File IDAHO_EPSCOR_GRIDMET_009012_20241201_20250101_ETO.tif already exists, skipping transfer\n",
      "[2025-08-28 15:26:18 INFO] File IDAHO_EPSCOR_GRIDMET_009013_20241201_20250101_ETO.tif already exists, skipping transfer\n",
      "[2025-08-28 15:26:18 INFO] File IDAHO_EPSCOR_GRIDMET_009015_20241201_20250101_ETO.tif already exists, skipping transfer\n",
      "[2025-08-28 15:26:18 INFO] File IDAHO_EPSCOR_GRIDMET_009011_20241201_20250101_ETO.tif already exists, skipping transfer\n",
      "[2025-08-28 15:26:18 INFO] File IDAHO_EPSCOR_GRIDMET_012015_20241101_20241201_ETO.tif already exists, skipping transfer\n",
      "[2025-08-28 15:26:18 INFO] File IDAHO_EPSCOR_GRIDMET_012013_20241101_20241201_ETO.tif already exists, skipping transfer\n",
      "[2025-08-28 15:26:19 INFO] File IDAHO_EPSCOR_GRIDMET_012014_20241101_20241201_ETO.tif already exists, skipping transfer\n",
      "[2025-08-28 15:26:19 INFO] File IDAHO_EPSCOR_GRIDMET_012012_20241101_20241201_ETO.tif already exists, skipping transfer\n",
      "[2025-08-28 15:26:19 INFO] File IDAHO_EPSCOR_GRIDMET_012011_20241101_20241201_ETO.tif already exists, skipping transfer\n",
      "[2025-08-28 15:26:19 INFO] File IDAHO_EPSCOR_GRIDMET_011015_20241101_20241201_ETO.tif already exists, skipping transfer\n",
      "[2025-08-28 15:26:19 INFO] File IDAHO_EPSCOR_GRIDMET_011014_20241101_20241201_ETO.tif already exists, skipping transfer\n",
      "[2025-08-28 15:26:19 INFO] File IDAHO_EPSCOR_GRIDMET_011013_20241101_20241201_ETO.tif already exists, skipping transfer\n",
      "[2025-08-28 15:26:19 INFO] File IDAHO_EPSCOR_GRIDMET_011012_20241101_20241201_ETO.tif already exists, skipping transfer\n",
      "[2025-08-28 15:26:19 INFO] File IDAHO_EPSCOR_GRIDMET_011011_20241101_20241201_ETO.tif already exists, skipping transfer\n",
      "[2025-08-28 15:26:19 INFO] File IDAHO_EPSCOR_GRIDMET_010015_20241101_20241201_ETO.tif already exists, skipping transfer\n",
      "[2025-08-28 15:26:19 INFO] File IDAHO_EPSCOR_GRIDMET_010014_20241101_20241201_ETO.tif already exists, skipping transfer\n",
      "[2025-08-28 15:26:19 INFO] File IDAHO_EPSCOR_GRIDMET_010013_20241101_20241201_ETO.tif already exists, skipping transfer\n",
      "[2025-08-28 15:26:19 INFO] File IDAHO_EPSCOR_GRIDMET_010012_20241101_20241201_ETO.tif already exists, skipping transfer\n",
      "[2025-08-28 15:26:19 INFO] File IDAHO_EPSCOR_GRIDMET_010011_20241101_20241201_ETO.tif already exists, skipping transfer\n",
      "[2025-08-28 15:26:19 INFO] File IDAHO_EPSCOR_GRIDMET_009015_20241101_20241201_ETO.tif already exists, skipping transfer\n",
      "[2025-08-28 15:26:19 INFO] File IDAHO_EPSCOR_GRIDMET_009014_20241101_20241201_ETO.tif already exists, skipping transfer\n",
      "[2025-08-28 15:26:19 INFO] File IDAHO_EPSCOR_GRIDMET_009013_20241101_20241201_ETO.tif already exists, skipping transfer\n",
      "[2025-08-28 15:26:19 INFO] File IDAHO_EPSCOR_GRIDMET_009012_20241101_20241201_ETO.tif already exists, skipping transfer\n",
      "[2025-08-28 15:26:20 INFO] File IDAHO_EPSCOR_GRIDMET_009011_20241101_20241201_ETO.tif already exists, skipping transfer\n",
      "[2025-08-28 15:26:20 INFO] File IDAHO_EPSCOR_GRIDMET_012014_20241001_20241101_ETO.tif already exists, skipping transfer\n",
      "[2025-08-28 15:26:20 INFO] File IDAHO_EPSCOR_GRIDMET_012015_20241001_20241101_ETO.tif already exists, skipping transfer\n",
      "[2025-08-28 15:26:20 INFO] File IDAHO_EPSCOR_GRIDMET_012013_20241001_20241101_ETO.tif already exists, skipping transfer\n",
      "[2025-08-28 15:26:20 INFO] File IDAHO_EPSCOR_GRIDMET_012011_20241001_20241101_ETO.tif already exists, skipping transfer\n",
      "[2025-08-28 15:26:20 INFO] File IDAHO_EPSCOR_GRIDMET_012012_20241001_20241101_ETO.tif already exists, skipping transfer\n",
      "[2025-08-28 15:26:20 INFO] File IDAHO_EPSCOR_GRIDMET_011015_20241001_20241101_ETO.tif already exists, skipping transfer\n",
      "[2025-08-28 15:26:20 INFO] File IDAHO_EPSCOR_GRIDMET_011014_20241001_20241101_ETO.tif already exists, skipping transfer\n",
      "[2025-08-28 15:26:20 INFO] File IDAHO_EPSCOR_GRIDMET_011013_20241001_20241101_ETO.tif already exists, skipping transfer\n",
      "[2025-08-28 15:26:20 INFO] File IDAHO_EPSCOR_GRIDMET_011011_20241001_20241101_ETO.tif already exists, skipping transfer\n",
      "[2025-08-28 15:26:20 INFO] File IDAHO_EPSCOR_GRIDMET_011012_20241001_20241101_ETO.tif already exists, skipping transfer\n",
      "[2025-08-28 15:26:20 INFO] File IDAHO_EPSCOR_GRIDMET_010015_20241001_20241101_ETO.tif already exists, skipping transfer\n",
      "[2025-08-28 15:26:20 INFO] File IDAHO_EPSCOR_GRIDMET_010013_20241001_20241101_ETO.tif already exists, skipping transfer\n",
      "[2025-08-28 15:26:20 INFO] File IDAHO_EPSCOR_GRIDMET_010012_20241001_20241101_ETO.tif already exists, skipping transfer\n",
      "[2025-08-28 15:26:20 INFO] File IDAHO_EPSCOR_GRIDMET_010014_20241001_20241101_ETO.tif already exists, skipping transfer\n",
      "[2025-08-28 15:26:20 INFO] File IDAHO_EPSCOR_GRIDMET_010011_20241001_20241101_ETO.tif already exists, skipping transfer\n",
      "[2025-08-28 15:26:21 INFO] File IDAHO_EPSCOR_GRIDMET_009015_20241001_20241101_ETO.tif already exists, skipping transfer\n",
      "[2025-08-28 15:26:21 INFO] File IDAHO_EPSCOR_GRIDMET_009014_20241001_20241101_ETO.tif already exists, skipping transfer\n",
      "[2025-08-28 15:26:21 INFO] File IDAHO_EPSCOR_GRIDMET_009012_20241001_20241101_ETO.tif already exists, skipping transfer\n",
      "[2025-08-28 15:26:21 INFO] File IDAHO_EPSCOR_GRIDMET_009013_20241001_20241101_ETO.tif already exists, skipping transfer\n",
      "[2025-08-28 15:26:21 INFO] File IDAHO_EPSCOR_GRIDMET_012015_20240901_20241001_ETO.tif already exists, skipping transfer\n",
      "[2025-08-28 15:26:21 INFO] File IDAHO_EPSCOR_GRIDMET_009011_20241001_20241101_ETO.tif already exists, skipping transfer\n",
      "[2025-08-28 15:26:21 INFO] File IDAHO_EPSCOR_GRIDMET_012013_20240901_20241001_ETO.tif already exists, skipping transfer\n",
      "[2025-08-28 15:26:21 INFO] File IDAHO_EPSCOR_GRIDMET_012014_20240901_20241001_ETO.tif already exists, skipping transfer\n",
      "[2025-08-28 15:26:21 INFO] File IDAHO_EPSCOR_GRIDMET_012011_20240901_20241001_ETO.tif already exists, skipping transfer\n",
      "[2025-08-28 15:26:21 INFO] File IDAHO_EPSCOR_GRIDMET_012012_20240901_20241001_ETO.tif already exists, skipping transfer\n",
      "[2025-08-28 15:26:21 INFO] File IDAHO_EPSCOR_GRIDMET_011015_20240901_20241001_ETO.tif already exists, skipping transfer\n",
      "[2025-08-28 15:26:21 INFO] File IDAHO_EPSCOR_GRIDMET_011014_20240901_20241001_ETO.tif already exists, skipping transfer\n",
      "[2025-08-28 15:26:21 INFO] File IDAHO_EPSCOR_GRIDMET_011013_20240901_20241001_ETO.tif already exists, skipping transfer\n",
      "[2025-08-28 15:26:21 INFO] File IDAHO_EPSCOR_GRIDMET_010013_20240901_20241001_ETO.tif already exists, skipping transfer\n",
      "[2025-08-28 15:26:21 INFO] File IDAHO_EPSCOR_GRIDMET_011012_20240901_20241001_ETO.tif already exists, skipping transfer\n",
      "[2025-08-28 15:26:21 INFO] File IDAHO_EPSCOR_GRIDMET_010015_20240901_20241001_ETO.tif already exists, skipping transfer\n",
      "[2025-08-28 15:26:21 INFO] File IDAHO_EPSCOR_GRIDMET_011011_20240901_20241001_ETO.tif already exists, skipping transfer\n",
      "[2025-08-28 15:26:22 INFO] File IDAHO_EPSCOR_GRIDMET_010014_20240901_20241001_ETO.tif already exists, skipping transfer\n",
      "[2025-08-28 15:26:22 INFO] File IDAHO_EPSCOR_GRIDMET_010012_20240901_20241001_ETO.tif already exists, skipping transfer\n",
      "[2025-08-28 15:26:22 INFO] File IDAHO_EPSCOR_GRIDMET_009014_20240901_20241001_ETO.tif already exists, skipping transfer\n",
      "[2025-08-28 15:26:22 INFO] File IDAHO_EPSCOR_GRIDMET_010011_20240901_20241001_ETO.tif already exists, skipping transfer\n",
      "[2025-08-28 15:26:22 INFO] File IDAHO_EPSCOR_GRIDMET_009015_20240901_20241001_ETO.tif already exists, skipping transfer\n",
      "[2025-08-28 15:26:22 INFO] File IDAHO_EPSCOR_GRIDMET_009011_20240901_20241001_ETO.tif already exists, skipping transfer\n",
      "[2025-08-28 15:26:22 INFO] File IDAHO_EPSCOR_GRIDMET_009013_20240901_20241001_ETO.tif already exists, skipping transfer\n",
      "[2025-08-28 15:26:22 INFO] File IDAHO_EPSCOR_GRIDMET_012015_20240801_20240901_ETO.tif already exists, skipping transfer\n",
      "[2025-08-28 15:26:22 INFO] File IDAHO_EPSCOR_GRIDMET_009012_20240901_20241001_ETO.tif already exists, skipping transfer\n",
      "[2025-08-28 15:26:22 INFO] File IDAHO_EPSCOR_GRIDMET_012014_20240801_20240901_ETO.tif already exists, skipping transfer\n",
      "[2025-08-28 15:26:22 INFO] File IDAHO_EPSCOR_GRIDMET_012012_20240801_20240901_ETO.tif already exists, skipping transfer\n",
      "[2025-08-28 15:26:22 INFO] File IDAHO_EPSCOR_GRIDMET_012013_20240801_20240901_ETO.tif already exists, skipping transfer\n",
      "[2025-08-28 15:26:22 INFO] File IDAHO_EPSCOR_GRIDMET_012011_20240801_20240901_ETO.tif already exists, skipping transfer\n",
      "[2025-08-28 15:26:22 INFO] File IDAHO_EPSCOR_GRIDMET_011012_20240801_20240901_ETO.tif already exists, skipping transfer\n",
      "[2025-08-28 15:26:22 INFO] File IDAHO_EPSCOR_GRIDMET_011014_20240801_20240901_ETO.tif already exists, skipping transfer\n",
      "[2025-08-28 15:26:22 INFO] File IDAHO_EPSCOR_GRIDMET_011015_20240801_20240901_ETO.tif already exists, skipping transfer\n",
      "[2025-08-28 15:26:22 INFO] File IDAHO_EPSCOR_GRIDMET_011013_20240801_20240901_ETO.tif already exists, skipping transfer\n",
      "[2025-08-28 15:26:22 INFO] File IDAHO_EPSCOR_GRIDMET_011011_20240801_20240901_ETO.tif already exists, skipping transfer\n",
      "[2025-08-28 15:26:23 INFO] File IDAHO_EPSCOR_GRIDMET_010015_20240801_20240901_ETO.tif already exists, skipping transfer\n",
      "[2025-08-28 15:26:23 INFO] File IDAHO_EPSCOR_GRIDMET_010013_20240801_20240901_ETO.tif already exists, skipping transfer\n",
      "[2025-08-28 15:26:23 INFO] File IDAHO_EPSCOR_GRIDMET_010014_20240801_20240901_ETO.tif already exists, skipping transfer\n",
      "[2025-08-28 15:26:23 INFO] File IDAHO_EPSCOR_GRIDMET_010011_20240801_20240901_ETO.tif already exists, skipping transfer\n",
      "[2025-08-28 15:26:23 INFO] File IDAHO_EPSCOR_GRIDMET_009014_20240801_20240901_ETO.tif already exists, skipping transfer\n",
      "[2025-08-28 15:26:23 INFO] File IDAHO_EPSCOR_GRIDMET_010012_20240801_20240901_ETO.tif already exists, skipping transfer\n",
      "[2025-08-28 15:26:23 INFO] File IDAHO_EPSCOR_GRIDMET_009015_20240801_20240901_ETO.tif already exists, skipping transfer\n",
      "[2025-08-28 15:26:23 INFO] File IDAHO_EPSCOR_GRIDMET_009013_20240801_20240901_ETO.tif already exists, skipping transfer\n",
      "[2025-08-28 15:26:23 INFO] File IDAHO_EPSCOR_GRIDMET_009011_20240801_20240901_ETO.tif already exists, skipping transfer\n",
      "[2025-08-28 15:26:23 INFO] File IDAHO_EPSCOR_GRIDMET_012015_20240701_20240801_ETO.tif already exists, skipping transfer\n",
      "[2025-08-28 15:26:23 INFO] File IDAHO_EPSCOR_GRIDMET_009012_20240801_20240901_ETO.tif already exists, skipping transfer\n",
      "[2025-08-28 15:26:23 INFO] File IDAHO_EPSCOR_GRIDMET_012013_20240701_20240801_ETO.tif already exists, skipping transfer\n",
      "[2025-08-28 15:26:23 INFO] File IDAHO_EPSCOR_GRIDMET_012014_20240701_20240801_ETO.tif already exists, skipping transfer\n",
      "[2025-08-28 15:26:23 INFO] File IDAHO_EPSCOR_GRIDMET_012011_20240701_20240801_ETO.tif already exists, skipping transfer\n",
      "[2025-08-28 15:26:23 INFO] File IDAHO_EPSCOR_GRIDMET_012012_20240701_20240801_ETO.tif already exists, skipping transfer\n",
      "[2025-08-28 15:26:24 INFO] File IDAHO_EPSCOR_GRIDMET_011014_20240701_20240801_ETO.tif already exists, skipping transfer\n",
      "[2025-08-28 15:26:24 INFO] File IDAHO_EPSCOR_GRIDMET_011015_20240701_20240801_ETO.tif already exists, skipping transfer\n",
      "[2025-08-28 15:26:24 INFO] File IDAHO_EPSCOR_GRIDMET_011011_20240701_20240801_ETO.tif already exists, skipping transfer\n",
      "[2025-08-28 15:26:24 INFO] File IDAHO_EPSCOR_GRIDMET_010015_20240701_20240801_ETO.tif already exists, skipping transfer\n",
      "[2025-08-28 15:26:24 INFO] File IDAHO_EPSCOR_GRIDMET_011012_20240701_20240801_ETO.tif already exists, skipping transfer\n",
      "[2025-08-28 15:26:24 INFO] File IDAHO_EPSCOR_GRIDMET_011013_20240701_20240801_ETO.tif already exists, skipping transfer\n",
      "[2025-08-28 15:26:24 INFO] File IDAHO_EPSCOR_GRIDMET_010013_20240701_20240801_ETO.tif already exists, skipping transfer\n",
      "[2025-08-28 15:26:24 INFO] File IDAHO_EPSCOR_GRIDMET_010014_20240701_20240801_ETO.tif already exists, skipping transfer\n",
      "[2025-08-28 15:26:24 INFO] File IDAHO_EPSCOR_GRIDMET_010011_20240701_20240801_ETO.tif already exists, skipping transfer\n",
      "[2025-08-28 15:26:24 INFO] File IDAHO_EPSCOR_GRIDMET_010012_20240701_20240801_ETO.tif already exists, skipping transfer\n",
      "[2025-08-28 15:26:24 INFO] File IDAHO_EPSCOR_GRIDMET_009014_20240701_20240801_ETO.tif already exists, skipping transfer\n",
      "[2025-08-28 15:26:24 INFO] File IDAHO_EPSCOR_GRIDMET_009013_20240701_20240801_ETO.tif already exists, skipping transfer\n",
      "[2025-08-28 15:26:24 INFO] File IDAHO_EPSCOR_GRIDMET_009015_20240701_20240801_ETO.tif already exists, skipping transfer\n",
      "[2025-08-28 15:26:24 INFO] File IDAHO_EPSCOR_GRIDMET_012015_20240601_20240701_ETO.tif already exists, skipping transfer\n",
      "[2025-08-28 15:26:24 INFO] File IDAHO_EPSCOR_GRIDMET_009012_20240701_20240801_ETO.tif already exists, skipping transfer\n",
      "[2025-08-28 15:26:24 INFO] File IDAHO_EPSCOR_GRIDMET_012014_20240601_20240701_ETO.tif already exists, skipping transfer\n",
      "[2025-08-28 15:26:25 INFO] File IDAHO_EPSCOR_GRIDMET_009011_20240701_20240801_ETO.tif already exists, skipping transfer\n",
      "[2025-08-28 15:26:25 INFO] File IDAHO_EPSCOR_GRIDMET_011015_20240601_20240701_ETO.tif already exists, skipping transfer\n",
      "[2025-08-28 15:26:25 INFO] File IDAHO_EPSCOR_GRIDMET_012013_20240601_20240701_ETO.tif already exists, skipping transfer\n",
      "[2025-08-28 15:26:25 INFO] File IDAHO_EPSCOR_GRIDMET_012012_20240601_20240701_ETO.tif already exists, skipping transfer\n",
      "[2025-08-28 15:26:25 INFO] File IDAHO_EPSCOR_GRIDMET_012011_20240601_20240701_ETO.tif already exists, skipping transfer\n",
      "[2025-08-28 15:26:25 INFO] File IDAHO_EPSCOR_GRIDMET_011011_20240601_20240701_ETO.tif already exists, skipping transfer\n",
      "[2025-08-28 15:26:25 INFO] File IDAHO_EPSCOR_GRIDMET_011013_20240601_20240701_ETO.tif already exists, skipping transfer\n",
      "[2025-08-28 15:26:25 INFO] File IDAHO_EPSCOR_GRIDMET_011012_20240601_20240701_ETO.tif already exists, skipping transfer\n",
      "[2025-08-28 15:26:25 INFO] File IDAHO_EPSCOR_GRIDMET_011014_20240601_20240701_ETO.tif already exists, skipping transfer\n",
      "[2025-08-28 15:26:25 INFO] File IDAHO_EPSCOR_GRIDMET_010015_20240601_20240701_ETO.tif already exists, skipping transfer\n",
      "[2025-08-28 15:26:25 INFO] File IDAHO_EPSCOR_GRIDMET_010012_20240601_20240701_ETO.tif already exists, skipping transfer\n",
      "[2025-08-28 15:26:25 INFO] File IDAHO_EPSCOR_GRIDMET_010014_20240601_20240701_ETO.tif already exists, skipping transfer\n",
      "[2025-08-28 15:26:25 INFO] File IDAHO_EPSCOR_GRIDMET_010013_20240601_20240701_ETO.tif already exists, skipping transfer\n",
      "[2025-08-28 15:26:25 INFO] File IDAHO_EPSCOR_GRIDMET_010011_20240601_20240701_ETO.tif already exists, skipping transfer\n",
      "[2025-08-28 15:26:25 INFO] File IDAHO_EPSCOR_GRIDMET_009013_20240601_20240701_ETO.tif already exists, skipping transfer\n",
      "[2025-08-28 15:26:25 INFO] File IDAHO_EPSCOR_GRIDMET_009015_20240601_20240701_ETO.tif already exists, skipping transfer\n",
      "[2025-08-28 15:26:26 INFO] File IDAHO_EPSCOR_GRIDMET_009014_20240601_20240701_ETO.tif already exists, skipping transfer\n",
      "[2025-08-28 15:26:26 INFO] File IDAHO_EPSCOR_GRIDMET_009011_20240601_20240701_ETO.tif already exists, skipping transfer\n",
      "[2025-08-28 15:26:26 INFO] File IDAHO_EPSCOR_GRIDMET_009012_20240601_20240701_ETO.tif already exists, skipping transfer\n",
      "[2025-08-28 15:26:26 INFO] File IDAHO_EPSCOR_GRIDMET_012014_20240501_20240601_ETO.tif already exists, skipping transfer\n",
      "[2025-08-28 15:26:26 INFO] File IDAHO_EPSCOR_GRIDMET_012015_20240501_20240601_ETO.tif already exists, skipping transfer\n",
      "[2025-08-28 15:26:26 INFO] File IDAHO_EPSCOR_GRIDMET_012013_20240501_20240601_ETO.tif already exists, skipping transfer\n",
      "[2025-08-28 15:26:26 INFO] File IDAHO_EPSCOR_GRIDMET_012012_20240501_20240601_ETO.tif already exists, skipping transfer\n",
      "[2025-08-28 15:26:26 INFO] File IDAHO_EPSCOR_GRIDMET_012011_20240501_20240601_ETO.tif already exists, skipping transfer\n",
      "[2025-08-28 15:26:26 INFO] File IDAHO_EPSCOR_GRIDMET_011014_20240501_20240601_ETO.tif already exists, skipping transfer\n",
      "[2025-08-28 15:26:26 INFO] File IDAHO_EPSCOR_GRIDMET_011015_20240501_20240601_ETO.tif already exists, skipping transfer\n",
      "[2025-08-28 15:26:26 INFO] File IDAHO_EPSCOR_GRIDMET_011013_20240501_20240601_ETO.tif already exists, skipping transfer\n",
      "[2025-08-28 15:26:26 INFO] File IDAHO_EPSCOR_GRIDMET_011011_20240501_20240601_ETO.tif already exists, skipping transfer\n",
      "[2025-08-28 15:26:26 INFO] File IDAHO_EPSCOR_GRIDMET_011012_20240501_20240601_ETO.tif already exists, skipping transfer\n",
      "[2025-08-28 15:26:26 INFO] File IDAHO_EPSCOR_GRIDMET_010015_20240501_20240601_ETO.tif already exists, skipping transfer\n",
      "[2025-08-28 15:26:26 INFO] File IDAHO_EPSCOR_GRIDMET_010013_20240501_20240601_ETO.tif already exists, skipping transfer\n",
      "[2025-08-28 15:26:26 INFO] File IDAHO_EPSCOR_GRIDMET_010014_20240501_20240601_ETO.tif already exists, skipping transfer\n",
      "[2025-08-28 15:26:26 INFO] File IDAHO_EPSCOR_GRIDMET_010012_20240501_20240601_ETO.tif already exists, skipping transfer\n",
      "[2025-08-28 15:26:26 INFO] File IDAHO_EPSCOR_GRIDMET_009015_20240501_20240601_ETO.tif already exists, skipping transfer\n",
      "[2025-08-28 15:26:27 INFO] File IDAHO_EPSCOR_GRIDMET_009013_20240501_20240601_ETO.tif already exists, skipping transfer\n",
      "[2025-08-28 15:26:27 INFO] File IDAHO_EPSCOR_GRIDMET_010011_20240501_20240601_ETO.tif already exists, skipping transfer\n",
      "[2025-08-28 15:26:27 INFO] File IDAHO_EPSCOR_GRIDMET_009014_20240501_20240601_ETO.tif already exists, skipping transfer\n",
      "[2025-08-28 15:26:27 INFO] File IDAHO_EPSCOR_GRIDMET_012015_20240401_20240501_ETO.tif already exists, skipping transfer\n",
      "[2025-08-28 15:26:27 INFO] File IDAHO_EPSCOR_GRIDMET_009012_20240501_20240601_ETO.tif already exists, skipping transfer\n",
      "[2025-08-28 15:26:27 INFO] File IDAHO_EPSCOR_GRIDMET_009011_20240501_20240601_ETO.tif already exists, skipping transfer\n",
      "[2025-08-28 15:26:27 INFO] File IDAHO_EPSCOR_GRIDMET_012014_20240401_20240501_ETO.tif already exists, skipping transfer\n",
      "[2025-08-28 15:26:27 INFO] File IDAHO_EPSCOR_GRIDMET_012012_20240401_20240501_ETO.tif already exists, skipping transfer\n",
      "[2025-08-28 15:26:27 INFO] File IDAHO_EPSCOR_GRIDMET_012013_20240401_20240501_ETO.tif already exists, skipping transfer\n",
      "[2025-08-28 15:26:27 INFO] File IDAHO_EPSCOR_GRIDMET_012011_20240401_20240501_ETO.tif already exists, skipping transfer\n",
      "[2025-08-28 15:26:27 INFO] File IDAHO_EPSCOR_GRIDMET_011014_20240401_20240501_ETO.tif already exists, skipping transfer\n",
      "[2025-08-28 15:26:27 INFO] File IDAHO_EPSCOR_GRIDMET_011012_20240401_20240501_ETO.tif already exists, skipping transfer\n",
      "[2025-08-28 15:26:27 INFO] File IDAHO_EPSCOR_GRIDMET_011015_20240401_20240501_ETO.tif already exists, skipping transfer\n",
      "[2025-08-28 15:26:27 INFO] File IDAHO_EPSCOR_GRIDMET_011011_20240401_20240501_ETO.tif already exists, skipping transfer\n",
      "[2025-08-28 15:26:27 INFO] File IDAHO_EPSCOR_GRIDMET_011013_20240401_20240501_ETO.tif already exists, skipping transfer\n",
      "[2025-08-28 15:26:27 INFO] File IDAHO_EPSCOR_GRIDMET_010013_20240401_20240501_ETO.tif already exists, skipping transfer\n",
      "[2025-08-28 15:26:28 INFO] File IDAHO_EPSCOR_GRIDMET_010011_20240401_20240501_ETO.tif already exists, skipping transfer\n",
      "[2025-08-28 15:26:28 INFO] File IDAHO_EPSCOR_GRIDMET_010014_20240401_20240501_ETO.tif already exists, skipping transfer\n",
      "[2025-08-28 15:26:28 INFO] File IDAHO_EPSCOR_GRIDMET_010015_20240401_20240501_ETO.tif already exists, skipping transfer\n",
      "[2025-08-28 15:26:28 INFO] File IDAHO_EPSCOR_GRIDMET_010012_20240401_20240501_ETO.tif already exists, skipping transfer\n",
      "[2025-08-28 15:26:28 INFO] File IDAHO_EPSCOR_GRIDMET_009015_20240401_20240501_ETO.tif already exists, skipping transfer\n",
      "[2025-08-28 15:26:28 INFO] File IDAHO_EPSCOR_GRIDMET_009014_20240401_20240501_ETO.tif already exists, skipping transfer\n",
      "[2025-08-28 15:26:28 INFO] File IDAHO_EPSCOR_GRIDMET_009013_20240401_20240501_ETO.tif already exists, skipping transfer\n",
      "[2025-08-28 15:26:28 INFO] File IDAHO_EPSCOR_GRIDMET_009011_20240401_20240501_ETO.tif already exists, skipping transfer\n",
      "[2025-08-28 15:26:28 INFO] File IDAHO_EPSCOR_GRIDMET_009012_20240401_20240501_ETO.tif already exists, skipping transfer\n",
      "[2025-08-28 15:26:28 INFO] File IDAHO_EPSCOR_GRIDMET_012012_20240301_20240401_ETO.tif already exists, skipping transfer\n",
      "[2025-08-28 15:26:28 INFO] File IDAHO_EPSCOR_GRIDMET_012015_20240301_20240401_ETO.tif already exists, skipping transfer\n",
      "[2025-08-28 15:26:28 INFO] File IDAHO_EPSCOR_GRIDMET_012013_20240301_20240401_ETO.tif already exists, skipping transfer\n",
      "[2025-08-28 15:26:28 INFO] File IDAHO_EPSCOR_GRIDMET_012014_20240301_20240401_ETO.tif already exists, skipping transfer\n",
      "[2025-08-28 15:26:28 INFO] File IDAHO_EPSCOR_GRIDMET_012011_20240301_20240401_ETO.tif already exists, skipping transfer\n",
      "[2025-08-28 15:26:28 INFO] File IDAHO_EPSCOR_GRIDMET_011014_20240301_20240401_ETO.tif already exists, skipping transfer\n",
      "[2025-08-28 15:26:28 INFO] File IDAHO_EPSCOR_GRIDMET_011015_20240301_20240401_ETO.tif already exists, skipping transfer\n",
      "[2025-08-28 15:26:28 INFO] File IDAHO_EPSCOR_GRIDMET_011013_20240301_20240401_ETO.tif already exists, skipping transfer\n",
      "[2025-08-28 15:26:29 INFO] File IDAHO_EPSCOR_GRIDMET_011012_20240301_20240401_ETO.tif already exists, skipping transfer\n",
      "[2025-08-28 15:26:29 INFO] File IDAHO_EPSCOR_GRIDMET_010013_20240301_20240401_ETO.tif already exists, skipping transfer\n",
      "[2025-08-28 15:26:29 INFO] File IDAHO_EPSCOR_GRIDMET_010014_20240301_20240401_ETO.tif already exists, skipping transfer\n",
      "[2025-08-28 15:26:29 INFO] File IDAHO_EPSCOR_GRIDMET_011011_20240301_20240401_ETO.tif already exists, skipping transfer\n",
      "[2025-08-28 15:26:29 INFO] File IDAHO_EPSCOR_GRIDMET_010015_20240301_20240401_ETO.tif already exists, skipping transfer\n",
      "[2025-08-28 15:26:29 INFO] File IDAHO_EPSCOR_GRIDMET_010012_20240301_20240401_ETO.tif already exists, skipping transfer\n",
      "[2025-08-28 15:26:29 INFO] File IDAHO_EPSCOR_GRIDMET_010011_20240301_20240401_ETO.tif already exists, skipping transfer\n",
      "[2025-08-28 15:26:29 INFO] File IDAHO_EPSCOR_GRIDMET_009015_20240301_20240401_ETO.tif already exists, skipping transfer\n",
      "[2025-08-28 15:26:29 INFO] File IDAHO_EPSCOR_GRIDMET_009013_20240301_20240401_ETO.tif already exists, skipping transfer\n",
      "[2025-08-28 15:26:29 INFO] File IDAHO_EPSCOR_GRIDMET_009014_20240301_20240401_ETO.tif already exists, skipping transfer\n",
      "[2025-08-28 15:26:29 INFO] File IDAHO_EPSCOR_GRIDMET_009012_20240301_20240401_ETO.tif already exists, skipping transfer\n",
      "[2025-08-28 15:26:29 INFO] File IDAHO_EPSCOR_GRIDMET_012015_20240201_20240301_ETO.tif already exists, skipping transfer\n",
      "[2025-08-28 15:26:29 INFO] File IDAHO_EPSCOR_GRIDMET_012014_20240201_20240301_ETO.tif already exists, skipping transfer\n",
      "[2025-08-28 15:26:29 INFO] File IDAHO_EPSCOR_GRIDMET_009011_20240301_20240401_ETO.tif already exists, skipping transfer\n",
      "[2025-08-28 15:26:30 INFO] File IDAHO_EPSCOR_GRIDMET_012013_20240201_20240301_ETO.tif already exists, skipping transfer\n",
      "[2025-08-28 15:26:30 INFO] File IDAHO_EPSCOR_GRIDMET_012012_20240201_20240301_ETO.tif already exists, skipping transfer\n",
      "[2025-08-28 15:26:30 INFO] File IDAHO_EPSCOR_GRIDMET_012011_20240201_20240301_ETO.tif already exists, skipping transfer\n",
      "[2025-08-28 15:26:30 INFO] File IDAHO_EPSCOR_GRIDMET_011015_20240201_20240301_ETO.tif already exists, skipping transfer\n",
      "[2025-08-28 15:26:30 INFO] File IDAHO_EPSCOR_GRIDMET_011014_20240201_20240301_ETO.tif already exists, skipping transfer\n",
      "[2025-08-28 15:26:30 INFO] File IDAHO_EPSCOR_GRIDMET_011013_20240201_20240301_ETO.tif already exists, skipping transfer\n",
      "[2025-08-28 15:26:30 INFO] File IDAHO_EPSCOR_GRIDMET_011012_20240201_20240301_ETO.tif already exists, skipping transfer\n",
      "[2025-08-28 15:26:30 INFO] File IDAHO_EPSCOR_GRIDMET_011011_20240201_20240301_ETO.tif already exists, skipping transfer\n",
      "[2025-08-28 15:26:30 INFO] File IDAHO_EPSCOR_GRIDMET_010015_20240201_20240301_ETO.tif already exists, skipping transfer\n",
      "[2025-08-28 15:26:30 INFO] File IDAHO_EPSCOR_GRIDMET_010013_20240201_20240301_ETO.tif already exists, skipping transfer\n",
      "[2025-08-28 15:26:30 INFO] File IDAHO_EPSCOR_GRIDMET_010014_20240201_20240301_ETO.tif already exists, skipping transfer\n",
      "[2025-08-28 15:26:30 INFO] File IDAHO_EPSCOR_GRIDMET_010011_20240201_20240301_ETO.tif already exists, skipping transfer\n",
      "[2025-08-28 15:26:30 INFO] File IDAHO_EPSCOR_GRIDMET_010012_20240201_20240301_ETO.tif already exists, skipping transfer\n",
      "[2025-08-28 15:26:30 INFO] File IDAHO_EPSCOR_GRIDMET_009015_20240201_20240301_ETO.tif already exists, skipping transfer\n",
      "[2025-08-28 15:26:30 INFO] File IDAHO_EPSCOR_GRIDMET_009013_20240201_20240301_ETO.tif already exists, skipping transfer\n",
      "[2025-08-28 15:26:30 INFO] File IDAHO_EPSCOR_GRIDMET_009014_20240201_20240301_ETO.tif already exists, skipping transfer\n",
      "[2025-08-28 15:26:30 INFO] File IDAHO_EPSCOR_GRIDMET_009012_20240201_20240301_ETO.tif already exists, skipping transfer\n",
      "[2025-08-28 15:26:31 INFO] File IDAHO_EPSCOR_GRIDMET_009011_20240201_20240301_ETO.tif already exists, skipping transfer\n",
      "[2025-08-28 15:26:31 INFO] File temp_data/OPENET_ENSEMBLE_010015_20240401_20240501_ET_MAX.tif already exists, skipping download\n",
      "[2025-08-28 15:26:31 INFO] Uploaded file OPENET_ENSEMBLE_010015_20240401_20240501_ET_MAX.tif to aws bucket ose-dev-inputs\n",
      "[2025-08-28 15:26:31 INFO] Deleted local file temp_data/OPENET_ENSEMBLE_010015_20240401_20240501_ET_MAX.tif\n",
      "[2025-08-28 15:26:31 INFO] Downloading file 1lzpR9oHdYb1gGZeRT3cCVVCicRUe3Ti- to temp_data/OPENET_ENSEMBLE_010014_20240401_20240501_ET_MAX.tif\n",
      "[2025-08-28 15:26:36 INFO] Uploaded file OPENET_ENSEMBLE_010014_20240401_20240501_ET_MAX.tif to aws bucket ose-dev-inputs\n",
      "[2025-08-28 15:26:36 INFO] Deleted local file temp_data/OPENET_ENSEMBLE_010014_20240401_20240501_ET_MAX.tif\n",
      "[2025-08-28 15:26:37 INFO] Downloading file 1GiVe2TZsgvqO-tNR9U57QnJxmtvuxzCp to temp_data/OPENET_ENSEMBLE_010013_20240401_20240501_ET_MAX.tif\n",
      "[2025-08-28 15:26:46 INFO] Uploaded file OPENET_ENSEMBLE_010013_20240401_20240501_ET_MAX.tif to aws bucket ose-dev-inputs\n",
      "[2025-08-28 15:26:46 INFO] Deleted local file temp_data/OPENET_ENSEMBLE_010013_20240401_20240501_ET_MAX.tif\n",
      "[2025-08-28 15:26:46 INFO] Downloading file 1qkwpPRV26MbcLsxLPLzsEtyCQf9dnXKT to temp_data/OPENET_ENSEMBLE_010012_20240401_20240501_ET_MAX.tif\n",
      "[2025-08-28 15:26:56 INFO] Uploaded file OPENET_ENSEMBLE_010012_20240401_20240501_ET_MAX.tif to aws bucket ose-dev-inputs\n",
      "[2025-08-28 15:26:56 INFO] Deleted local file temp_data/OPENET_ENSEMBLE_010012_20240401_20240501_ET_MAX.tif\n",
      "[2025-08-28 15:26:56 INFO] Downloading file 1w9rkPkRX4b8OBF1ASiKbYdCH3DUeSaD_ to temp_data/OPENET_ENSEMBLE_010011_20240401_20240501_ET_MAX.tif\n",
      "[2025-08-28 15:27:03 INFO] Uploaded file OPENET_ENSEMBLE_010011_20240401_20240501_ET_MAX.tif to aws bucket ose-dev-inputs\n",
      "[2025-08-28 15:27:03 INFO] Deleted local file temp_data/OPENET_ENSEMBLE_010011_20240401_20240501_ET_MAX.tif\n",
      "[2025-08-28 15:27:03 INFO] Downloading file 1KcGk0V4CcRD30hKwI7VxChjbAp48lJmL to temp_data/OPENET_ENSEMBLE_009015_20240401_20240501_ET_MAX.tif\n",
      "[2025-08-28 15:27:07 INFO] Uploaded file OPENET_ENSEMBLE_009015_20240401_20240501_ET_MAX.tif to aws bucket ose-dev-inputs\n",
      "[2025-08-28 15:27:07 INFO] Deleted local file temp_data/OPENET_ENSEMBLE_009015_20240401_20240501_ET_MAX.tif\n",
      "[2025-08-28 15:27:07 INFO] Downloading file 1P6HSRMjBA68RAnCC1ANNJBr--NL4bFoh to temp_data/OPENET_ENSEMBLE_009014_20240401_20240501_ET_MAX.tif\n",
      "[2025-08-28 15:27:12 INFO] Uploaded file OPENET_ENSEMBLE_009014_20240401_20240501_ET_MAX.tif to aws bucket ose-dev-inputs\n",
      "[2025-08-28 15:27:12 INFO] Deleted local file temp_data/OPENET_ENSEMBLE_009014_20240401_20240501_ET_MAX.tif\n",
      "[2025-08-28 15:27:12 INFO] Downloading file 13IxuQ1U_Fp6ZqknQB2Zsqc3FbuQZg55H to temp_data/OPENET_ENSEMBLE_009013_20240401_20240501_ET_MAX.tif\n",
      "[2025-08-28 15:27:18 INFO] Uploaded file OPENET_ENSEMBLE_009013_20240401_20240501_ET_MAX.tif to aws bucket ose-dev-inputs\n",
      "[2025-08-28 15:27:18 INFO] Deleted local file temp_data/OPENET_ENSEMBLE_009013_20240401_20240501_ET_MAX.tif\n",
      "[2025-08-28 15:27:18 INFO] Downloading file 11Yw-bESkweG_CWyYw1cJgOX0AD0JFVBx to temp_data/OPENET_ENSEMBLE_009012_20240401_20240501_ET_MAX.tif\n",
      "[2025-08-28 15:27:24 INFO] Uploaded file OPENET_ENSEMBLE_009012_20240401_20240501_ET_MAX.tif to aws bucket ose-dev-inputs\n",
      "[2025-08-28 15:27:24 INFO] Deleted local file temp_data/OPENET_ENSEMBLE_009012_20240401_20240501_ET_MAX.tif\n",
      "[2025-08-28 15:27:24 INFO] Downloading file 1zkBt7N_291bicKoxEL9vUUzmPf4J7z1W to temp_data/OPENET_ENSEMBLE_009011_20240401_20240501_ET_MAX.tif\n",
      "[2025-08-28 15:27:30 INFO] Uploaded file OPENET_ENSEMBLE_009011_20240401_20240501_ET_MAX.tif to aws bucket ose-dev-inputs\n",
      "[2025-08-28 15:27:30 INFO] Deleted local file temp_data/OPENET_ENSEMBLE_009011_20240401_20240501_ET_MAX.tif\n",
      "[2025-08-28 15:27:30 INFO] Downloading file 1AIjGGzi29Pl5SMuDNftDDylQpT71aTFd to temp_data/OPENET_ENSEMBLE_012015_20240401_20240501_ET_MIN.tif\n",
      "[2025-08-28 15:27:32 INFO] Uploaded file OPENET_ENSEMBLE_012015_20240401_20240501_ET_MIN.tif to aws bucket ose-dev-inputs\n",
      "[2025-08-28 15:27:32 INFO] Deleted local file temp_data/OPENET_ENSEMBLE_012015_20240401_20240501_ET_MIN.tif\n",
      "[2025-08-28 15:27:33 INFO] Downloading file 1DZKGg8EyyfkSEZ0EniYeojEaHQfkGDDT to temp_data/OPENET_ENSEMBLE_012014_20240401_20240501_ET_MIN.tif\n",
      "[2025-08-28 15:27:41 INFO] Uploaded file OPENET_ENSEMBLE_012014_20240401_20240501_ET_MIN.tif to aws bucket ose-dev-inputs\n",
      "[2025-08-28 15:27:41 INFO] Deleted local file temp_data/OPENET_ENSEMBLE_012014_20240401_20240501_ET_MIN.tif\n",
      "[2025-08-28 15:27:41 INFO] Downloading file 1wqHEBJdye7Xsp0TJA0BrcftxR-yflY_B to temp_data/OPENET_ENSEMBLE_012013_20240401_20240501_ET_MIN.tif\n",
      "[2025-08-28 15:27:51 INFO] Uploaded file OPENET_ENSEMBLE_012013_20240401_20240501_ET_MIN.tif to aws bucket ose-dev-inputs\n",
      "[2025-08-28 15:27:51 INFO] Deleted local file temp_data/OPENET_ENSEMBLE_012013_20240401_20240501_ET_MIN.tif\n",
      "[2025-08-28 15:27:51 INFO] Downloading file 1iMcgKevzCmAdkncYeng3kz8WoC7Ff9AE to temp_data/OPENET_ENSEMBLE_012012_20240401_20240501_ET_MIN.tif\n",
      "[2025-08-28 15:28:01 INFO] Uploaded file OPENET_ENSEMBLE_012012_20240401_20240501_ET_MIN.tif to aws bucket ose-dev-inputs\n",
      "[2025-08-28 15:28:01 INFO] Deleted local file temp_data/OPENET_ENSEMBLE_012012_20240401_20240501_ET_MIN.tif\n",
      "[2025-08-28 15:28:01 INFO] Downloading file 1ybh5uydZSsOYtdA9eAOb8-aOzqmEeaUO to temp_data/OPENET_ENSEMBLE_012011_20240401_20240501_ET_MIN.tif\n",
      "[2025-08-28 15:28:10 INFO] Uploaded file OPENET_ENSEMBLE_012011_20240401_20240501_ET_MIN.tif to aws bucket ose-dev-inputs\n",
      "[2025-08-28 15:28:10 INFO] Deleted local file temp_data/OPENET_ENSEMBLE_012011_20240401_20240501_ET_MIN.tif\n",
      "[2025-08-28 15:28:10 INFO] Downloading file 15USdkJk2F3_FPiX_wYtFM9_m_Fka8P8Y to temp_data/OPENET_ENSEMBLE_011015_20240401_20240501_ET_MIN.tif\n",
      "[2025-08-28 15:28:15 INFO] Uploaded file OPENET_ENSEMBLE_011015_20240401_20240501_ET_MIN.tif to aws bucket ose-dev-inputs\n",
      "[2025-08-28 15:28:15 INFO] Deleted local file temp_data/OPENET_ENSEMBLE_011015_20240401_20240501_ET_MIN.tif\n",
      "[2025-08-28 15:28:15 INFO] Downloading file 1Cjmgeuv8MEBSt6FSnx-_Sh8oUVBAQvci to temp_data/OPENET_ENSEMBLE_011014_20240401_20240501_ET_MIN.tif\n",
      "[2025-08-28 15:28:21 INFO] Uploaded file OPENET_ENSEMBLE_011014_20240401_20240501_ET_MIN.tif to aws bucket ose-dev-inputs\n",
      "[2025-08-28 15:28:21 INFO] Deleted local file temp_data/OPENET_ENSEMBLE_011014_20240401_20240501_ET_MIN.tif\n",
      "[2025-08-28 15:28:21 INFO] Downloading file 1vNOIXcMJNgNwILTVgcd6hmMN7OIupJKN to temp_data/OPENET_ENSEMBLE_011013_20240401_20240501_ET_MIN.tif\n",
      "[2025-08-28 15:28:27 INFO] Uploaded file OPENET_ENSEMBLE_011013_20240401_20240501_ET_MIN.tif to aws bucket ose-dev-inputs\n",
      "[2025-08-28 15:28:27 INFO] Deleted local file temp_data/OPENET_ENSEMBLE_011013_20240401_20240501_ET_MIN.tif\n",
      "[2025-08-28 15:28:27 INFO] Downloading file 1irK5zubKb5qvsj0mTDTkI6lPBl0OrEYq to temp_data/OPENET_ENSEMBLE_011012_20240401_20240501_ET_MIN.tif\n",
      "[2025-08-28 15:28:33 INFO] Uploaded file OPENET_ENSEMBLE_011012_20240401_20240501_ET_MIN.tif to aws bucket ose-dev-inputs\n",
      "[2025-08-28 15:28:33 INFO] Deleted local file temp_data/OPENET_ENSEMBLE_011012_20240401_20240501_ET_MIN.tif\n",
      "[2025-08-28 15:28:33 INFO] Downloading file 13skT401nLEYRb7D_4zN_ExCd1XEeSHy6 to temp_data/OPENET_ENSEMBLE_011011_20240401_20240501_ET_MIN.tif\n",
      "[2025-08-28 15:28:39 INFO] Uploaded file OPENET_ENSEMBLE_011011_20240401_20240501_ET_MIN.tif to aws bucket ose-dev-inputs\n",
      "[2025-08-28 15:28:39 INFO] Deleted local file temp_data/OPENET_ENSEMBLE_011011_20240401_20240501_ET_MIN.tif\n",
      "[2025-08-28 15:28:39 INFO] Downloading file 1XkyimLhsuYMlt4LnwkjTZoZqRbPak-TX to temp_data/OPENET_ENSEMBLE_010015_20240401_20240501_ET_MIN.tif\n",
      "[2025-08-28 15:28:42 INFO] Uploaded file OPENET_ENSEMBLE_010015_20240401_20240501_ET_MIN.tif to aws bucket ose-dev-inputs\n",
      "[2025-08-28 15:28:42 INFO] Deleted local file temp_data/OPENET_ENSEMBLE_010015_20240401_20240501_ET_MIN.tif\n",
      "[2025-08-28 15:28:42 INFO] Downloading file 1W7ZvS_ofRpbDNOznmhKH_rHZOAYs-gRT to temp_data/OPENET_ENSEMBLE_010014_20240401_20240501_ET_MIN.tif\n",
      "[2025-08-28 15:28:45 INFO] Uploaded file OPENET_ENSEMBLE_010014_20240401_20240501_ET_MIN.tif to aws bucket ose-dev-inputs\n",
      "[2025-08-28 15:28:45 INFO] Deleted local file temp_data/OPENET_ENSEMBLE_010014_20240401_20240501_ET_MIN.tif\n",
      "[2025-08-28 15:28:45 INFO] Downloading file 1PS1y9rTkiDeMzzsPsJSwD80pjKKrqWpG to temp_data/OPENET_ENSEMBLE_010012_20240401_20240501_ET_MIN.tif\n",
      "[2025-08-28 15:28:52 INFO] Uploaded file OPENET_ENSEMBLE_010012_20240401_20240501_ET_MIN.tif to aws bucket ose-dev-inputs\n",
      "[2025-08-28 15:28:52 INFO] Deleted local file temp_data/OPENET_ENSEMBLE_010012_20240401_20240501_ET_MIN.tif\n",
      "[2025-08-28 15:28:52 INFO] Downloading file 1BNFAWfNbBuZSXzIyt7B2CzMNWha_ITcC to temp_data/OPENET_ENSEMBLE_010013_20240401_20240501_ET_MIN.tif\n",
      "[2025-08-28 15:29:03 INFO] Uploaded file OPENET_ENSEMBLE_010013_20240401_20240501_ET_MIN.tif to aws bucket ose-dev-inputs\n",
      "[2025-08-28 15:29:03 INFO] Deleted local file temp_data/OPENET_ENSEMBLE_010013_20240401_20240501_ET_MIN.tif\n",
      "[2025-08-28 15:29:03 INFO] Downloading file 1rAPdbMyJ5sWQcq_mRwvAXXOwbUwvAxM4 to temp_data/OPENET_ENSEMBLE_010011_20240401_20240501_ET_MIN.tif\n",
      "[2025-08-28 15:29:10 INFO] Uploaded file OPENET_ENSEMBLE_010011_20240401_20240501_ET_MIN.tif to aws bucket ose-dev-inputs\n",
      "[2025-08-28 15:29:10 INFO] Deleted local file temp_data/OPENET_ENSEMBLE_010011_20240401_20240501_ET_MIN.tif\n",
      "[2025-08-28 15:29:10 INFO] Downloading file 12SS0yNPXf6wgk2ew8onWMW2clFT5tG7d to temp_data/OPENET_ENSEMBLE_009015_20240401_20240501_ET_MIN.tif\n",
      "[2025-08-28 15:29:12 INFO] Uploaded file OPENET_ENSEMBLE_009015_20240401_20240501_ET_MIN.tif to aws bucket ose-dev-inputs\n",
      "[2025-08-28 15:29:12 INFO] Deleted local file temp_data/OPENET_ENSEMBLE_009015_20240401_20240501_ET_MIN.tif\n",
      "[2025-08-28 15:29:12 INFO] Downloading file 1gTrbeqkuJ8hUa-w3JRVFiChDnmSajBL9 to temp_data/OPENET_ENSEMBLE_009013_20240401_20240501_ET_MIN.tif\n",
      "[2025-08-28 15:29:22 INFO] Uploaded file OPENET_ENSEMBLE_009013_20240401_20240501_ET_MIN.tif to aws bucket ose-dev-inputs\n",
      "[2025-08-28 15:29:22 INFO] Deleted local file temp_data/OPENET_ENSEMBLE_009013_20240401_20240501_ET_MIN.tif\n",
      "[2025-08-28 15:29:22 INFO] Downloading file 1El9mXVMuoBZ9OjdIFnDuExRazSTM_4WG to temp_data/OPENET_ENSEMBLE_009014_20240401_20240501_ET_MIN.tif\n",
      "[2025-08-28 15:29:32 INFO] Uploaded file OPENET_ENSEMBLE_009014_20240401_20240501_ET_MIN.tif to aws bucket ose-dev-inputs\n",
      "[2025-08-28 15:29:32 INFO] Deleted local file temp_data/OPENET_ENSEMBLE_009014_20240401_20240501_ET_MIN.tif\n",
      "[2025-08-28 15:29:32 INFO] Downloading file 1xsEB_YtKlOU5Qwp06PFa7j1645Wm1Kxq to temp_data/OPENET_ENSEMBLE_009012_20240401_20240501_ET_MIN.tif\n",
      "[2025-08-28 15:29:41 INFO] Uploaded file OPENET_ENSEMBLE_009012_20240401_20240501_ET_MIN.tif to aws bucket ose-dev-inputs\n",
      "[2025-08-28 15:29:41 INFO] Deleted local file temp_data/OPENET_ENSEMBLE_009012_20240401_20240501_ET_MIN.tif\n",
      "[2025-08-28 15:29:41 INFO] Downloading file 1Fs2gfiG0PyQaHs-FDza2X8OmB_Lj40kU to temp_data/OPENET_ENSEMBLE_009011_20240401_20240501_ET_MIN.tif\n",
      "[2025-08-28 15:29:46 INFO] Uploaded file OPENET_ENSEMBLE_009011_20240401_20240501_ET_MIN.tif to aws bucket ose-dev-inputs\n",
      "[2025-08-28 15:29:46 INFO] Deleted local file temp_data/OPENET_ENSEMBLE_009011_20240401_20240501_ET_MIN.tif\n",
      "[2025-08-28 15:29:46 INFO] Downloading file 1j_tzAvJUjNnwQU1SJmlm2bIpF8mW9qrD to temp_data/OPENET_ENSEMBLE_012015_20240401_20240501_ET.tif\n",
      "[2025-08-28 15:29:51 INFO] Uploaded file OPENET_ENSEMBLE_012015_20240401_20240501_ET.tif to aws bucket ose-dev-inputs\n",
      "[2025-08-28 15:29:51 INFO] Deleted local file temp_data/OPENET_ENSEMBLE_012015_20240401_20240501_ET.tif\n",
      "[2025-08-28 15:29:51 INFO] Downloading file 1ac_pdcxz9oyyzK0PWwytpuw-ITvRQkBD to temp_data/OPENET_ENSEMBLE_012014_20240401_20240501_ET.tif\n",
      "[2025-08-28 15:30:00 INFO] Uploaded file OPENET_ENSEMBLE_012014_20240401_20240501_ET.tif to aws bucket ose-dev-inputs\n",
      "[2025-08-28 15:30:00 INFO] Deleted local file temp_data/OPENET_ENSEMBLE_012014_20240401_20240501_ET.tif\n",
      "[2025-08-28 15:30:00 INFO] Downloading file 1SriSJSJi1z539q-HQQrAhbn7RGyDotuw to temp_data/OPENET_ENSEMBLE_012013_20240401_20240501_ET.tif\n",
      "[2025-08-28 15:30:07 INFO] Uploaded file OPENET_ENSEMBLE_012013_20240401_20240501_ET.tif to aws bucket ose-dev-inputs\n",
      "[2025-08-28 15:30:07 INFO] Deleted local file temp_data/OPENET_ENSEMBLE_012013_20240401_20240501_ET.tif\n",
      "[2025-08-28 15:30:07 INFO] Downloading file 1IyHPY2FCr3Ubr7M57Pm4f3ba3Sa8ELzA to temp_data/OPENET_ENSEMBLE_012012_20240401_20240501_ET.tif\n",
      "[2025-08-28 15:30:13 INFO] Uploaded file OPENET_ENSEMBLE_012012_20240401_20240501_ET.tif to aws bucket ose-dev-inputs\n",
      "[2025-08-28 15:30:13 INFO] Deleted local file temp_data/OPENET_ENSEMBLE_012012_20240401_20240501_ET.tif\n",
      "[2025-08-28 15:30:14 INFO] Downloading file 10SBECds9vRr2ddgLxIzQ9onUb4z5HD4E to temp_data/OPENET_ENSEMBLE_012011_20240401_20240501_ET.tif\n",
      "[2025-08-28 15:30:19 INFO] Uploaded file OPENET_ENSEMBLE_012011_20240401_20240501_ET.tif to aws bucket ose-dev-inputs\n",
      "[2025-08-28 15:30:19 INFO] Deleted local file temp_data/OPENET_ENSEMBLE_012011_20240401_20240501_ET.tif\n",
      "[2025-08-28 15:30:19 INFO] Downloading file 1e5fW1NlLUErUhL4yUJo3KN0CYVRk6i9d to temp_data/OPENET_ENSEMBLE_011015_20240401_20240501_ET.tif\n",
      "[2025-08-28 15:30:23 INFO] Uploaded file OPENET_ENSEMBLE_011015_20240401_20240501_ET.tif to aws bucket ose-dev-inputs\n",
      "[2025-08-28 15:30:23 INFO] Deleted local file temp_data/OPENET_ENSEMBLE_011015_20240401_20240501_ET.tif\n",
      "[2025-08-28 15:30:23 INFO] Downloading file 1fT8q3tNPR4KUfhBIQSYEIIXXVkVI5r_k to temp_data/OPENET_ENSEMBLE_011014_20240401_20240501_ET.tif\n",
      "[2025-08-28 15:30:35 INFO] Uploaded file OPENET_ENSEMBLE_011014_20240401_20240501_ET.tif to aws bucket ose-dev-inputs\n",
      "[2025-08-28 15:30:35 INFO] Deleted local file temp_data/OPENET_ENSEMBLE_011014_20240401_20240501_ET.tif\n",
      "[2025-08-28 15:30:35 INFO] Downloading file 1mM6RSMZ15usXPmGmLlNBcfkjGv2HDvaI to temp_data/OPENET_ENSEMBLE_011013_20240401_20240501_ET.tif\n",
      "[2025-08-28 15:30:45 INFO] Uploaded file OPENET_ENSEMBLE_011013_20240401_20240501_ET.tif to aws bucket ose-dev-inputs\n",
      "[2025-08-28 15:30:45 INFO] Deleted local file temp_data/OPENET_ENSEMBLE_011013_20240401_20240501_ET.tif\n",
      "[2025-08-28 15:30:45 INFO] Downloading file 1DYz6yX5_PnSq1B-mQdKN5_Y9H4b8cbQo to temp_data/OPENET_ENSEMBLE_011012_20240401_20240501_ET.tif\n",
      "[2025-08-28 15:31:04 INFO] Uploaded file OPENET_ENSEMBLE_011012_20240401_20240501_ET.tif to aws bucket ose-dev-inputs\n",
      "[2025-08-28 15:31:04 INFO] Deleted local file temp_data/OPENET_ENSEMBLE_011012_20240401_20240501_ET.tif\n",
      "[2025-08-28 15:31:04 INFO] Downloading file 1FXPW_vCoxG3hSAbNim-79qrkRNtxRQ7F to temp_data/OPENET_ENSEMBLE_011011_20240401_20240501_ET.tif\n",
      "[2025-08-28 15:31:21 INFO] Uploaded file OPENET_ENSEMBLE_011011_20240401_20240501_ET.tif to aws bucket ose-dev-inputs\n",
      "[2025-08-28 15:31:21 INFO] Deleted local file temp_data/OPENET_ENSEMBLE_011011_20240401_20240501_ET.tif\n",
      "[2025-08-28 15:31:21 INFO] Downloading file 11JGLO4KpuKX41d12iip-wpaj9YU5JCxB to temp_data/OPENET_ENSEMBLE_010015_20240401_20240501_ET.tif\n",
      "[2025-08-28 15:31:26 INFO] Uploaded file OPENET_ENSEMBLE_010015_20240401_20240501_ET.tif to aws bucket ose-dev-inputs\n",
      "[2025-08-28 15:31:26 INFO] Deleted local file temp_data/OPENET_ENSEMBLE_010015_20240401_20240501_ET.tif\n",
      "[2025-08-28 15:31:26 INFO] Downloading file 19_gpvQ3TAvRoY-L3TXnsNJ0qVzj4cMJ8 to temp_data/OPENET_ENSEMBLE_010014_20240401_20240501_ET.tif\n",
      "[2025-08-28 15:31:37 INFO] Uploaded file OPENET_ENSEMBLE_010014_20240401_20240501_ET.tif to aws bucket ose-dev-inputs\n",
      "[2025-08-28 15:31:37 INFO] Deleted local file temp_data/OPENET_ENSEMBLE_010014_20240401_20240501_ET.tif\n",
      "[2025-08-28 15:31:37 INFO] Downloading file 1QU1Tv3Tv2bOETJhhY-pvOlvTZfasirXq to temp_data/OPENET_ENSEMBLE_010013_20240401_20240501_ET.tif\n",
      "[2025-08-28 15:31:51 INFO] Uploaded file OPENET_ENSEMBLE_010013_20240401_20240501_ET.tif to aws bucket ose-dev-inputs\n",
      "[2025-08-28 15:31:51 INFO] Deleted local file temp_data/OPENET_ENSEMBLE_010013_20240401_20240501_ET.tif\n",
      "[2025-08-28 15:31:51 INFO] Downloading file 1ms7I-B13PObKp9N1OWuSOGnXu44EqIQd to temp_data/OPENET_ENSEMBLE_010012_20240401_20240501_ET.tif\n",
      "[2025-08-28 15:31:59 INFO] Uploaded file OPENET_ENSEMBLE_010012_20240401_20240501_ET.tif to aws bucket ose-dev-inputs\n",
      "[2025-08-28 15:31:59 INFO] Deleted local file temp_data/OPENET_ENSEMBLE_010012_20240401_20240501_ET.tif\n",
      "[2025-08-28 15:31:59 INFO] Downloading file 1Q66WbEPFGcqGDdPleF8hSTy5OpEmOI6r to temp_data/OPENET_ENSEMBLE_010011_20240401_20240501_ET.tif\n",
      "[2025-08-28 15:32:16 INFO] Uploaded file OPENET_ENSEMBLE_010011_20240401_20240501_ET.tif to aws bucket ose-dev-inputs\n",
      "[2025-08-28 15:32:16 INFO] Deleted local file temp_data/OPENET_ENSEMBLE_010011_20240401_20240501_ET.tif\n",
      "[2025-08-28 15:32:16 INFO] Downloading file 1H3nvLFgT7u2AYsoVFQCXx4LDnWfbrbLG to temp_data/OPENET_ENSEMBLE_009015_20240401_20240501_ET.tif\n",
      "[2025-08-28 15:32:24 INFO] Uploaded file OPENET_ENSEMBLE_009015_20240401_20240501_ET.tif to aws bucket ose-dev-inputs\n",
      "[2025-08-28 15:32:24 INFO] Deleted local file temp_data/OPENET_ENSEMBLE_009015_20240401_20240501_ET.tif\n",
      "[2025-08-28 15:32:24 INFO] Downloading file 1FK2-mBzal_pGMicz0uYSC1O_AkatOU-i to temp_data/OPENET_ENSEMBLE_009014_20240401_20240501_ET.tif\n",
      "[2025-08-28 15:32:35 INFO] Uploaded file OPENET_ENSEMBLE_009014_20240401_20240501_ET.tif to aws bucket ose-dev-inputs\n",
      "[2025-08-28 15:32:35 INFO] Deleted local file temp_data/OPENET_ENSEMBLE_009014_20240401_20240501_ET.tif\n",
      "[2025-08-28 15:32:36 INFO] Downloading file 1RgcP-nUzMZfvYkkeiXVyzLIipekZjmgi to temp_data/OPENET_ENSEMBLE_009013_20240401_20240501_ET.tif\n",
      "[2025-08-28 15:32:45 INFO] Uploaded file OPENET_ENSEMBLE_009013_20240401_20240501_ET.tif to aws bucket ose-dev-inputs\n",
      "[2025-08-28 15:32:45 INFO] Deleted local file temp_data/OPENET_ENSEMBLE_009013_20240401_20240501_ET.tif\n",
      "[2025-08-28 15:32:45 INFO] Downloading file 1yXnTcgEP6GePnFikB48t8S5mbpJ1eqMV to temp_data/OPENET_ENSEMBLE_009012_20240401_20240501_ET.tif\n",
      "[2025-08-28 15:32:57 INFO] Uploaded file OPENET_ENSEMBLE_009012_20240401_20240501_ET.tif to aws bucket ose-dev-inputs\n",
      "[2025-08-28 15:32:57 INFO] Deleted local file temp_data/OPENET_ENSEMBLE_009012_20240401_20240501_ET.tif\n",
      "[2025-08-28 15:32:58 INFO] Downloading file 1AcGfk2PViDKZabCs3I8n5D6yZnYAP7jZ to temp_data/OPENET_ENSEMBLE_009011_20240401_20240501_ET.tif\n",
      "[2025-08-28 15:33:03 INFO] Uploaded file OPENET_ENSEMBLE_009011_20240401_20240501_ET.tif to aws bucket ose-dev-inputs\n",
      "[2025-08-28 15:33:03 INFO] Deleted local file temp_data/OPENET_ENSEMBLE_009011_20240401_20240501_ET.tif\n",
      "[2025-08-28 15:33:03 INFO] Downloading file 12pjTp3RUadVMdD2l8ZQi6a02F_1qkuMt to temp_data/OPENET_ENSEMBLE_012014_20240301_20240401_ET_MAX.tif\n",
      "[2025-08-28 15:33:09 INFO] Uploaded file OPENET_ENSEMBLE_012014_20240301_20240401_ET_MAX.tif to aws bucket ose-dev-inputs\n",
      "[2025-08-28 15:33:09 INFO] Deleted local file temp_data/OPENET_ENSEMBLE_012014_20240301_20240401_ET_MAX.tif\n",
      "[2025-08-28 15:33:09 INFO] Downloading file 1n5Dq5Sen3_auLLRR1Z_1e8AG1934AGts to temp_data/OPENET_ENSEMBLE_012015_20240301_20240401_ET_MAX.tif\n",
      "[2025-08-28 15:33:13 INFO] Uploaded file OPENET_ENSEMBLE_012015_20240301_20240401_ET_MAX.tif to aws bucket ose-dev-inputs\n",
      "[2025-08-28 15:33:13 INFO] Deleted local file temp_data/OPENET_ENSEMBLE_012015_20240301_20240401_ET_MAX.tif\n",
      "[2025-08-28 15:33:14 INFO] Downloading file 1cEvJEt2IzV6XW-XcvPm9lwI3U8blJmln to temp_data/OPENET_ENSEMBLE_012013_20240301_20240401_ET_MAX.tif\n",
      "[2025-08-28 15:33:21 INFO] Uploaded file OPENET_ENSEMBLE_012013_20240301_20240401_ET_MAX.tif to aws bucket ose-dev-inputs\n",
      "[2025-08-28 15:33:21 INFO] Deleted local file temp_data/OPENET_ENSEMBLE_012013_20240301_20240401_ET_MAX.tif\n",
      "[2025-08-28 15:33:21 INFO] Downloading file 1c4yGnBNgd4mXmRLxsaJDGlh7IVP0EjUs to temp_data/OPENET_ENSEMBLE_012012_20240301_20240401_ET_MAX.tif\n",
      "[2025-08-28 15:33:29 INFO] Uploaded file OPENET_ENSEMBLE_012012_20240301_20240401_ET_MAX.tif to aws bucket ose-dev-inputs\n",
      "[2025-08-28 15:33:29 INFO] Deleted local file temp_data/OPENET_ENSEMBLE_012012_20240301_20240401_ET_MAX.tif\n",
      "[2025-08-28 15:33:29 INFO] Downloading file 1Vgu7jDyIDYvTlvusCzu6qLAFVnb64L7A to temp_data/OPENET_ENSEMBLE_012011_20240301_20240401_ET_MAX.tif\n",
      "[2025-08-28 15:33:35 INFO] Uploaded file OPENET_ENSEMBLE_012011_20240301_20240401_ET_MAX.tif to aws bucket ose-dev-inputs\n",
      "[2025-08-28 15:33:35 INFO] Deleted local file temp_data/OPENET_ENSEMBLE_012011_20240301_20240401_ET_MAX.tif\n",
      "[2025-08-28 15:33:35 INFO] Downloading file 1yzlRK1OV_d9lUSTKLTkfEkS4Pe_DHKYN to temp_data/OPENET_ENSEMBLE_011015_20240301_20240401_ET_MAX.tif\n",
      "[2025-08-28 15:33:39 INFO] Uploaded file OPENET_ENSEMBLE_011015_20240301_20240401_ET_MAX.tif to aws bucket ose-dev-inputs\n",
      "[2025-08-28 15:33:39 INFO] Deleted local file temp_data/OPENET_ENSEMBLE_011015_20240301_20240401_ET_MAX.tif\n",
      "[2025-08-28 15:33:39 INFO] Downloading file 1OydUji2OcLkwDWMAE1M2Q9cjFXm_aC7J to temp_data/OPENET_ENSEMBLE_011014_20240301_20240401_ET_MAX.tif\n",
      "[2025-08-28 15:33:45 INFO] Uploaded file OPENET_ENSEMBLE_011014_20240301_20240401_ET_MAX.tif to aws bucket ose-dev-inputs\n",
      "[2025-08-28 15:33:45 INFO] Deleted local file temp_data/OPENET_ENSEMBLE_011014_20240301_20240401_ET_MAX.tif\n",
      "[2025-08-28 15:33:45 INFO] Downloading file 1nBoZxdbFyQjlZbD12yHbVTb5943lZqmV to temp_data/OPENET_ENSEMBLE_011013_20240301_20240401_ET_MAX.tif\n",
      "[2025-08-28 15:33:52 INFO] Uploaded file OPENET_ENSEMBLE_011013_20240301_20240401_ET_MAX.tif to aws bucket ose-dev-inputs\n",
      "[2025-08-28 15:33:52 INFO] Deleted local file temp_data/OPENET_ENSEMBLE_011013_20240301_20240401_ET_MAX.tif\n",
      "[2025-08-28 15:33:52 INFO] Downloading file 15DD1jadige3HUpuHQgqXunOdq5BAtMjb to temp_data/OPENET_ENSEMBLE_011012_20240301_20240401_ET_MAX.tif\n",
      "[2025-08-28 15:34:04 INFO] Uploaded file OPENET_ENSEMBLE_011012_20240301_20240401_ET_MAX.tif to aws bucket ose-dev-inputs\n",
      "[2025-08-28 15:34:04 INFO] Deleted local file temp_data/OPENET_ENSEMBLE_011012_20240301_20240401_ET_MAX.tif\n",
      "[2025-08-28 15:34:04 INFO] Downloading file 1q4L4yFxB6BW_DvW5jHlgovTfno97xwyH to temp_data/OPENET_ENSEMBLE_011011_20240301_20240401_ET_MAX.tif\n",
      "[2025-08-28 15:34:11 INFO] Uploaded file OPENET_ENSEMBLE_011011_20240301_20240401_ET_MAX.tif to aws bucket ose-dev-inputs\n",
      "[2025-08-28 15:34:11 INFO] Deleted local file temp_data/OPENET_ENSEMBLE_011011_20240301_20240401_ET_MAX.tif\n",
      "[2025-08-28 15:34:11 INFO] Downloading file 1OB9TUoW_0WWeYSwxAF4WlzhmOx2GOcm3 to temp_data/OPENET_ENSEMBLE_010015_20240301_20240401_ET_MAX.tif\n",
      "[2025-08-28 15:34:15 INFO] Uploaded file OPENET_ENSEMBLE_010015_20240301_20240401_ET_MAX.tif to aws bucket ose-dev-inputs\n",
      "[2025-08-28 15:34:15 INFO] Deleted local file temp_data/OPENET_ENSEMBLE_010015_20240301_20240401_ET_MAX.tif\n",
      "[2025-08-28 15:34:15 INFO] Downloading file 1yVvpfHAqIY5ie6Vyy2T3z31-uMuAfljm to temp_data/OPENET_ENSEMBLE_010014_20240301_20240401_ET_MAX.tif\n",
      "[2025-08-28 15:34:22 INFO] Uploaded file OPENET_ENSEMBLE_010014_20240301_20240401_ET_MAX.tif to aws bucket ose-dev-inputs\n",
      "[2025-08-28 15:34:22 INFO] Deleted local file temp_data/OPENET_ENSEMBLE_010014_20240301_20240401_ET_MAX.tif\n",
      "[2025-08-28 15:34:23 INFO] Downloading file 1EkmVdybKhXY4gAO7RvFk-TH2tGPwW2U_ to temp_data/OPENET_ENSEMBLE_010013_20240301_20240401_ET_MAX.tif\n",
      "[2025-08-28 15:34:35 INFO] Uploaded file OPENET_ENSEMBLE_010013_20240301_20240401_ET_MAX.tif to aws bucket ose-dev-inputs\n",
      "[2025-08-28 15:34:35 INFO] Deleted local file temp_data/OPENET_ENSEMBLE_010013_20240301_20240401_ET_MAX.tif\n",
      "[2025-08-28 15:34:35 INFO] Downloading file 1x5vhemCdc1wGym88-sjQ9gaE_lJLxLZc to temp_data/OPENET_ENSEMBLE_010012_20240301_20240401_ET_MAX.tif\n",
      "[2025-08-28 15:34:46 INFO] Uploaded file OPENET_ENSEMBLE_010012_20240301_20240401_ET_MAX.tif to aws bucket ose-dev-inputs\n",
      "[2025-08-28 15:34:46 INFO] Deleted local file temp_data/OPENET_ENSEMBLE_010012_20240301_20240401_ET_MAX.tif\n",
      "[2025-08-28 15:34:46 INFO] Downloading file 1d6z7q8eNE6bRngzyT7cx-MLoawfQXC6n to temp_data/OPENET_ENSEMBLE_010011_20240301_20240401_ET_MAX.tif\n",
      "[2025-08-28 15:34:55 INFO] Uploaded file OPENET_ENSEMBLE_010011_20240301_20240401_ET_MAX.tif to aws bucket ose-dev-inputs\n",
      "[2025-08-28 15:34:55 INFO] Deleted local file temp_data/OPENET_ENSEMBLE_010011_20240301_20240401_ET_MAX.tif\n",
      "[2025-08-28 15:34:55 INFO] Downloading file 1dYZginkFfOR92lBg4Uu5sfPZjJdCDgsu to temp_data/OPENET_ENSEMBLE_009015_20240301_20240401_ET_MAX.tif\n",
      "[2025-08-28 15:34:59 INFO] Uploaded file OPENET_ENSEMBLE_009015_20240301_20240401_ET_MAX.tif to aws bucket ose-dev-inputs\n",
      "[2025-08-28 15:34:59 INFO] Deleted local file temp_data/OPENET_ENSEMBLE_009015_20240301_20240401_ET_MAX.tif\n",
      "[2025-08-28 15:34:59 INFO] Downloading file 1Ga9HoBDReifA82aM5OqsYOwDBZsuSD5H to temp_data/OPENET_ENSEMBLE_009014_20240301_20240401_ET_MAX.tif\n",
      "[2025-08-28 15:35:05 INFO] Uploaded file OPENET_ENSEMBLE_009014_20240301_20240401_ET_MAX.tif to aws bucket ose-dev-inputs\n",
      "[2025-08-28 15:35:05 INFO] Deleted local file temp_data/OPENET_ENSEMBLE_009014_20240301_20240401_ET_MAX.tif\n",
      "[2025-08-28 15:35:05 INFO] Downloading file 1R1UyGcpPa2mD0ukzm48kQypP-d2ClkZr to temp_data/OPENET_ENSEMBLE_009013_20240301_20240401_ET_MAX.tif\n",
      "[2025-08-28 15:35:10 INFO] Uploaded file OPENET_ENSEMBLE_009013_20240301_20240401_ET_MAX.tif to aws bucket ose-dev-inputs\n",
      "[2025-08-28 15:35:10 INFO] Deleted local file temp_data/OPENET_ENSEMBLE_009013_20240301_20240401_ET_MAX.tif\n",
      "[2025-08-28 15:35:10 INFO] Downloading file 1TkpAF-fQhKpcZ_1R-jzs9MwCQ_vfDP80 to temp_data/OPENET_ENSEMBLE_009012_20240301_20240401_ET_MAX.tif\n",
      "[2025-08-28 15:35:18 INFO] Uploaded file OPENET_ENSEMBLE_009012_20240301_20240401_ET_MAX.tif to aws bucket ose-dev-inputs\n",
      "[2025-08-28 15:35:18 INFO] Deleted local file temp_data/OPENET_ENSEMBLE_009012_20240301_20240401_ET_MAX.tif\n",
      "[2025-08-28 15:35:18 INFO] Downloading file 1a2AYLtpQ4lYfwWamUkJZn811Jc6YGiq3 to temp_data/OPENET_ENSEMBLE_009011_20240301_20240401_ET_MAX.tif\n",
      "[2025-08-28 15:35:25 INFO] Uploaded file OPENET_ENSEMBLE_009011_20240301_20240401_ET_MAX.tif to aws bucket ose-dev-inputs\n",
      "[2025-08-28 15:35:25 INFO] Deleted local file temp_data/OPENET_ENSEMBLE_009011_20240301_20240401_ET_MAX.tif\n",
      "[2025-08-28 15:35:25 INFO] Downloading file 1lR-ScxtQ-TSJDDEz01cMy1HuH6M2rILs to temp_data/OPENET_ENSEMBLE_012015_20240301_20240401_ET_MIN.tif\n",
      "[2025-08-28 15:35:29 INFO] Uploaded file OPENET_ENSEMBLE_012015_20240301_20240401_ET_MIN.tif to aws bucket ose-dev-inputs\n",
      "[2025-08-28 15:35:29 INFO] Deleted local file temp_data/OPENET_ENSEMBLE_012015_20240301_20240401_ET_MIN.tif\n",
      "[2025-08-28 15:35:29 INFO] Downloading file 1GIltxri94RWA7cUpxvdqbAv8hvsuOKOn to temp_data/OPENET_ENSEMBLE_012014_20240301_20240401_ET_MIN.tif\n",
      "[2025-08-28 15:35:34 INFO] Uploaded file OPENET_ENSEMBLE_012014_20240301_20240401_ET_MIN.tif to aws bucket ose-dev-inputs\n",
      "[2025-08-28 15:35:34 INFO] Deleted local file temp_data/OPENET_ENSEMBLE_012014_20240301_20240401_ET_MIN.tif\n",
      "[2025-08-28 15:35:34 INFO] Downloading file 10qnYBRqQLvplVKvImIB8srtoPX-4d5HD to temp_data/OPENET_ENSEMBLE_012013_20240301_20240401_ET_MIN.tif\n",
      "[2025-08-28 15:35:39 INFO] Uploaded file OPENET_ENSEMBLE_012013_20240301_20240401_ET_MIN.tif to aws bucket ose-dev-inputs\n",
      "[2025-08-28 15:35:39 INFO] Deleted local file temp_data/OPENET_ENSEMBLE_012013_20240301_20240401_ET_MIN.tif\n",
      "[2025-08-28 15:35:39 INFO] Downloading file 1ye50U4WpAQkhUdO1kyensB0cEn6IveJg to temp_data/OPENET_ENSEMBLE_012012_20240301_20240401_ET_MIN.tif\n",
      "[2025-08-28 15:35:47 INFO] Uploaded file OPENET_ENSEMBLE_012012_20240301_20240401_ET_MIN.tif to aws bucket ose-dev-inputs\n",
      "[2025-08-28 15:35:47 INFO] Deleted local file temp_data/OPENET_ENSEMBLE_012012_20240301_20240401_ET_MIN.tif\n",
      "[2025-08-28 15:35:47 INFO] Downloading file 1duRD7z-abJ5PtgDAen7LVh1_AaMV-OYg to temp_data/OPENET_ENSEMBLE_012011_20240301_20240401_ET_MIN.tif\n",
      "[2025-08-28 15:35:54 INFO] Uploaded file OPENET_ENSEMBLE_012011_20240301_20240401_ET_MIN.tif to aws bucket ose-dev-inputs\n",
      "[2025-08-28 15:35:54 INFO] Deleted local file temp_data/OPENET_ENSEMBLE_012011_20240301_20240401_ET_MIN.tif\n",
      "[2025-08-28 15:35:54 INFO] Downloading file 14sL5fVh7v7B6HFh4EbJM13FLnabB14tv to temp_data/OPENET_ENSEMBLE_011015_20240301_20240401_ET_MIN.tif\n",
      "[2025-08-28 15:35:57 INFO] Uploaded file OPENET_ENSEMBLE_011015_20240301_20240401_ET_MIN.tif to aws bucket ose-dev-inputs\n",
      "[2025-08-28 15:35:57 INFO] Deleted local file temp_data/OPENET_ENSEMBLE_011015_20240301_20240401_ET_MIN.tif\n",
      "[2025-08-28 15:35:57 INFO] Downloading file 1YLIQ8xEnuiX5Hze4kB3tk3LcetNzDgVP to temp_data/OPENET_ENSEMBLE_011014_20240301_20240401_ET_MIN.tif\n",
      "[2025-08-28 15:36:06 INFO] Uploaded file OPENET_ENSEMBLE_011014_20240301_20240401_ET_MIN.tif to aws bucket ose-dev-inputs\n",
      "[2025-08-28 15:36:06 INFO] Deleted local file temp_data/OPENET_ENSEMBLE_011014_20240301_20240401_ET_MIN.tif\n",
      "[2025-08-28 15:36:06 INFO] Downloading file 1t2NxzLQ_whlNMs48x_vIsEiEMQP4iMkX to temp_data/OPENET_ENSEMBLE_011011_20240301_20240401_ET_MIN.tif\n",
      "[2025-08-28 15:36:12 INFO] Uploaded file OPENET_ENSEMBLE_011011_20240301_20240401_ET_MIN.tif to aws bucket ose-dev-inputs\n",
      "[2025-08-28 15:36:12 INFO] Deleted local file temp_data/OPENET_ENSEMBLE_011011_20240301_20240401_ET_MIN.tif\n",
      "[2025-08-28 15:36:12 INFO] Downloading file 1vw7bS9_mi52qvZAelvwJYa35QQEhOo6c to temp_data/OPENET_ENSEMBLE_011013_20240301_20240401_ET_MIN.tif\n",
      "[2025-08-28 15:36:16 INFO] Uploaded file OPENET_ENSEMBLE_011013_20240301_20240401_ET_MIN.tif to aws bucket ose-dev-inputs\n",
      "[2025-08-28 15:36:16 INFO] Deleted local file temp_data/OPENET_ENSEMBLE_011013_20240301_20240401_ET_MIN.tif\n",
      "[2025-08-28 15:36:16 INFO] Downloading file 1lJioGgATzQ2G3yljoFwGy5J5qoj131Of to temp_data/OPENET_ENSEMBLE_010015_20240301_20240401_ET_MIN.tif\n",
      "[2025-08-28 15:36:18 INFO] Uploaded file OPENET_ENSEMBLE_010015_20240301_20240401_ET_MIN.tif to aws bucket ose-dev-inputs\n",
      "[2025-08-28 15:36:18 INFO] Deleted local file temp_data/OPENET_ENSEMBLE_010015_20240301_20240401_ET_MIN.tif\n",
      "[2025-08-28 15:36:18 INFO] Downloading file 1d3eOhRkk6bvDROsT2d1lkNRZPI9UzKln to temp_data/OPENET_ENSEMBLE_011012_20240301_20240401_ET_MIN.tif\n",
      "[2025-08-28 15:36:22 INFO] Uploaded file OPENET_ENSEMBLE_011012_20240301_20240401_ET_MIN.tif to aws bucket ose-dev-inputs\n",
      "[2025-08-28 15:36:22 INFO] Deleted local file temp_data/OPENET_ENSEMBLE_011012_20240301_20240401_ET_MIN.tif\n",
      "[2025-08-28 15:36:22 INFO] Downloading file 1RqXnSBJV5HZGN-rbGLyTX9Fxc7eXEXeR to temp_data/OPENET_ENSEMBLE_010014_20240301_20240401_ET_MIN.tif\n",
      "[2025-08-28 15:36:26 INFO] Uploaded file OPENET_ENSEMBLE_010014_20240301_20240401_ET_MIN.tif to aws bucket ose-dev-inputs\n",
      "[2025-08-28 15:36:26 INFO] Deleted local file temp_data/OPENET_ENSEMBLE_010014_20240301_20240401_ET_MIN.tif\n",
      "[2025-08-28 15:36:26 INFO] Downloading file 1NG2JInUymiL78GJW56zenjBc8tEkxnfw to temp_data/OPENET_ENSEMBLE_010012_20240301_20240401_ET_MIN.tif\n",
      "[2025-08-28 15:36:29 INFO] Uploaded file OPENET_ENSEMBLE_010012_20240301_20240401_ET_MIN.tif to aws bucket ose-dev-inputs\n",
      "[2025-08-28 15:36:29 INFO] Deleted local file temp_data/OPENET_ENSEMBLE_010012_20240301_20240401_ET_MIN.tif\n",
      "[2025-08-28 15:36:30 INFO] Downloading file 1oYvf6nTWQGxSdilPwTkO593Vakg-jxKf to temp_data/OPENET_ENSEMBLE_010013_20240301_20240401_ET_MIN.tif\n",
      "[2025-08-28 15:36:34 INFO] Uploaded file OPENET_ENSEMBLE_010013_20240301_20240401_ET_MIN.tif to aws bucket ose-dev-inputs\n",
      "[2025-08-28 15:36:34 INFO] Deleted local file temp_data/OPENET_ENSEMBLE_010013_20240301_20240401_ET_MIN.tif\n",
      "[2025-08-28 15:36:34 INFO] Downloading file 1W77OZfB_zIE2FV2pd4JgDG9swDO-UYda to temp_data/OPENET_ENSEMBLE_010011_20240301_20240401_ET_MIN.tif\n",
      "[2025-08-28 15:36:39 INFO] Uploaded file OPENET_ENSEMBLE_010011_20240301_20240401_ET_MIN.tif to aws bucket ose-dev-inputs\n",
      "[2025-08-28 15:36:39 INFO] Deleted local file temp_data/OPENET_ENSEMBLE_010011_20240301_20240401_ET_MIN.tif\n",
      "[2025-08-28 15:36:39 INFO] Downloading file 1FELG3Tjw-zn5xYHrotjT500Srmva7R8f to temp_data/OPENET_ENSEMBLE_009015_20240301_20240401_ET_MIN.tif\n",
      "[2025-08-28 15:36:41 INFO] Uploaded file OPENET_ENSEMBLE_009015_20240301_20240401_ET_MIN.tif to aws bucket ose-dev-inputs\n",
      "[2025-08-28 15:36:41 INFO] Deleted local file temp_data/OPENET_ENSEMBLE_009015_20240301_20240401_ET_MIN.tif\n",
      "[2025-08-28 15:36:41 INFO] Downloading file 1X9mEDcgLZ3lJQBBz3tEY_s9F4ZMyo92M to temp_data/OPENET_ENSEMBLE_009014_20240301_20240401_ET_MIN.tif\n",
      "[2025-08-28 15:36:50 INFO] Uploaded file OPENET_ENSEMBLE_009014_20240301_20240401_ET_MIN.tif to aws bucket ose-dev-inputs\n",
      "[2025-08-28 15:36:50 INFO] Deleted local file temp_data/OPENET_ENSEMBLE_009014_20240301_20240401_ET_MIN.tif\n",
      "[2025-08-28 15:36:50 INFO] Downloading file 1f5Yp8rHqIHiFu7rT9_5AlYmIdC02qgrY to temp_data/OPENET_ENSEMBLE_009013_20240301_20240401_ET_MIN.tif\n",
      "[2025-08-28 15:36:57 INFO] Uploaded file OPENET_ENSEMBLE_009013_20240301_20240401_ET_MIN.tif to aws bucket ose-dev-inputs\n",
      "[2025-08-28 15:36:57 INFO] Deleted local file temp_data/OPENET_ENSEMBLE_009013_20240301_20240401_ET_MIN.tif\n",
      "[2025-08-28 15:36:57 INFO] Downloading file 1z-wr_eLBSAt7SjdZWg4CMSrDVUvOXxLT to temp_data/OPENET_ENSEMBLE_009012_20240301_20240401_ET_MIN.tif\n",
      "[2025-08-28 15:37:04 INFO] Uploaded file OPENET_ENSEMBLE_009012_20240301_20240401_ET_MIN.tif to aws bucket ose-dev-inputs\n",
      "[2025-08-28 15:37:04 INFO] Deleted local file temp_data/OPENET_ENSEMBLE_009012_20240301_20240401_ET_MIN.tif\n",
      "[2025-08-28 15:37:04 INFO] Downloading file 14yZSWmH5_R3BtJWldm1RQHZN6V_podRr to temp_data/OPENET_ENSEMBLE_009011_20240301_20240401_ET_MIN.tif\n",
      "[2025-08-28 15:37:10 INFO] Uploaded file OPENET_ENSEMBLE_009011_20240301_20240401_ET_MIN.tif to aws bucket ose-dev-inputs\n",
      "[2025-08-28 15:37:10 INFO] Deleted local file temp_data/OPENET_ENSEMBLE_009011_20240301_20240401_ET_MIN.tif\n",
      "[2025-08-28 15:37:11 INFO] Downloading file 11bSnCI23ucISnX0o9V4dqMFIwhGgNt5k to temp_data/OPENET_ENSEMBLE_012015_20240301_20240401_ET.tif\n",
      "[2025-08-28 15:37:15 INFO] Uploaded file OPENET_ENSEMBLE_012015_20240301_20240401_ET.tif to aws bucket ose-dev-inputs\n",
      "[2025-08-28 15:37:15 INFO] Deleted local file temp_data/OPENET_ENSEMBLE_012015_20240301_20240401_ET.tif\n",
      "[2025-08-28 15:37:15 INFO] Downloading file 14b3kK3ZT_NzlGiOe7KrCbdX4F-h0P_3C to temp_data/OPENET_ENSEMBLE_012014_20240301_20240401_ET.tif\n",
      "[2025-08-28 15:37:21 INFO] Uploaded file OPENET_ENSEMBLE_012014_20240301_20240401_ET.tif to aws bucket ose-dev-inputs\n",
      "[2025-08-28 15:37:21 INFO] Deleted local file temp_data/OPENET_ENSEMBLE_012014_20240301_20240401_ET.tif\n",
      "[2025-08-28 15:37:21 INFO] Downloading file 1RW9X4oqHmCBU7zVJM4-WIJFQhjUjeQTV to temp_data/OPENET_ENSEMBLE_012013_20240301_20240401_ET.tif\n",
      "[2025-08-28 15:37:26 INFO] Uploaded file OPENET_ENSEMBLE_012013_20240301_20240401_ET.tif to aws bucket ose-dev-inputs\n",
      "[2025-08-28 15:37:27 INFO] Deleted local file temp_data/OPENET_ENSEMBLE_012013_20240301_20240401_ET.tif\n",
      "[2025-08-28 15:37:27 INFO] Downloading file 1wfN5jISC3sK8RYbh9W6WdCPbmaud-tre to temp_data/OPENET_ENSEMBLE_012011_20240301_20240401_ET.tif\n",
      "[2025-08-28 15:37:32 INFO] Uploaded file OPENET_ENSEMBLE_012011_20240301_20240401_ET.tif to aws bucket ose-dev-inputs\n",
      "[2025-08-28 15:37:32 INFO] Deleted local file temp_data/OPENET_ENSEMBLE_012011_20240301_20240401_ET.tif\n",
      "[2025-08-28 15:37:32 INFO] Downloading file 1IWfDkSqukUxC89l6x_i3QHOhWHaAiN9C to temp_data/OPENET_ENSEMBLE_012012_20240301_20240401_ET.tif\n",
      "[2025-08-28 15:37:38 INFO] Uploaded file OPENET_ENSEMBLE_012012_20240301_20240401_ET.tif to aws bucket ose-dev-inputs\n",
      "[2025-08-28 15:37:38 INFO] Deleted local file temp_data/OPENET_ENSEMBLE_012012_20240301_20240401_ET.tif\n",
      "[2025-08-28 15:37:38 INFO] Downloading file 1atEFL4A5Rrvgrj05951Iznk5OKjnUaD9 to temp_data/OPENET_ENSEMBLE_011015_20240301_20240401_ET.tif\n",
      "[2025-08-28 15:37:41 INFO] Uploaded file OPENET_ENSEMBLE_011015_20240301_20240401_ET.tif to aws bucket ose-dev-inputs\n",
      "[2025-08-28 15:37:41 INFO] Deleted local file temp_data/OPENET_ENSEMBLE_011015_20240301_20240401_ET.tif\n",
      "[2025-08-28 15:37:41 INFO] Downloading file 1rPAUGb7G5hmq_z9XQlVJ3OP3gFFjcNDk to temp_data/OPENET_ENSEMBLE_011014_20240301_20240401_ET.tif\n",
      "[2025-08-28 15:37:51 INFO] Uploaded file OPENET_ENSEMBLE_011014_20240301_20240401_ET.tif to aws bucket ose-dev-inputs\n",
      "[2025-08-28 15:37:51 INFO] Deleted local file temp_data/OPENET_ENSEMBLE_011014_20240301_20240401_ET.tif\n",
      "[2025-08-28 15:37:51 INFO] Downloading file 1joNIG-ihwhfyJcrhZt7Wx8psyo1p9LFr to temp_data/OPENET_ENSEMBLE_011013_20240301_20240401_ET.tif\n",
      "[2025-08-28 15:37:59 INFO] Uploaded file OPENET_ENSEMBLE_011013_20240301_20240401_ET.tif to aws bucket ose-dev-inputs\n",
      "[2025-08-28 15:37:59 INFO] Deleted local file temp_data/OPENET_ENSEMBLE_011013_20240301_20240401_ET.tif\n",
      "[2025-08-28 15:37:59 INFO] Downloading file 16Az3MHDTHGmyf8CqoOHVblR7xwP-gd6O to temp_data/OPENET_ENSEMBLE_011011_20240301_20240401_ET.tif\n",
      "[2025-08-28 15:38:05 INFO] Uploaded file OPENET_ENSEMBLE_011011_20240301_20240401_ET.tif to aws bucket ose-dev-inputs\n",
      "[2025-08-28 15:38:05 INFO] Deleted local file temp_data/OPENET_ENSEMBLE_011011_20240301_20240401_ET.tif\n",
      "[2025-08-28 15:38:05 INFO] Downloading file 1-Ta283jsN4d2liZWFdmnQBHwG_L_V0RO to temp_data/OPENET_ENSEMBLE_011012_20240301_20240401_ET.tif\n",
      "[2025-08-28 15:38:10 INFO] Uploaded file OPENET_ENSEMBLE_011012_20240301_20240401_ET.tif to aws bucket ose-dev-inputs\n",
      "[2025-08-28 15:38:10 INFO] Deleted local file temp_data/OPENET_ENSEMBLE_011012_20240301_20240401_ET.tif\n",
      "[2025-08-28 15:38:11 INFO] Downloading file 1z2qKhnhLRpqVP8adExqIyO4r6J6udeoT to temp_data/OPENET_ENSEMBLE_010015_20240301_20240401_ET.tif\n",
      "[2025-08-28 15:38:14 INFO] Uploaded file OPENET_ENSEMBLE_010015_20240301_20240401_ET.tif to aws bucket ose-dev-inputs\n",
      "[2025-08-28 15:38:14 INFO] Deleted local file temp_data/OPENET_ENSEMBLE_010015_20240301_20240401_ET.tif\n",
      "[2025-08-28 15:38:14 INFO] Downloading file 1ED63ebpfTFmaLGU25Teod_PvegOzm99I to temp_data/OPENET_ENSEMBLE_010014_20240301_20240401_ET.tif\n",
      "[2025-08-28 15:38:24 INFO] Uploaded file OPENET_ENSEMBLE_010014_20240301_20240401_ET.tif to aws bucket ose-dev-inputs\n",
      "[2025-08-28 15:38:24 INFO] Deleted local file temp_data/OPENET_ENSEMBLE_010014_20240301_20240401_ET.tif\n",
      "[2025-08-28 15:38:24 INFO] Downloading file 1O6blqahPd1IVJgDrmFUcOuispPQcEYMK to temp_data/OPENET_ENSEMBLE_010012_20240301_20240401_ET.tif\n",
      "[2025-08-28 15:38:30 INFO] Uploaded file OPENET_ENSEMBLE_010012_20240301_20240401_ET.tif to aws bucket ose-dev-inputs\n",
      "[2025-08-28 15:38:30 INFO] Deleted local file temp_data/OPENET_ENSEMBLE_010012_20240301_20240401_ET.tif\n",
      "[2025-08-28 15:38:30 INFO] Downloading file 1y3fNOCx80MyDstMg-u1MeWa4Q_ezoKtT to temp_data/OPENET_ENSEMBLE_010013_20240301_20240401_ET.tif\n",
      "[2025-08-28 15:38:36 INFO] Uploaded file OPENET_ENSEMBLE_010013_20240301_20240401_ET.tif to aws bucket ose-dev-inputs\n",
      "[2025-08-28 15:38:36 INFO] Deleted local file temp_data/OPENET_ENSEMBLE_010013_20240301_20240401_ET.tif\n",
      "[2025-08-28 15:38:36 INFO] Downloading file 1XAj8imK9el2l22pF8t8hf_vQvunJFgdH to temp_data/OPENET_ENSEMBLE_010011_20240301_20240401_ET.tif\n",
      "[2025-08-28 15:38:42 INFO] Uploaded file OPENET_ENSEMBLE_010011_20240301_20240401_ET.tif to aws bucket ose-dev-inputs\n",
      "[2025-08-28 15:38:42 INFO] Deleted local file temp_data/OPENET_ENSEMBLE_010011_20240301_20240401_ET.tif\n",
      "[2025-08-28 15:38:42 INFO] Downloading file 1sWjNM77X-9126RyJ7OSDyD3KxVxhD_EV to temp_data/OPENET_ENSEMBLE_009015_20240301_20240401_ET.tif\n",
      "[2025-08-28 15:38:45 INFO] Uploaded file OPENET_ENSEMBLE_009015_20240301_20240401_ET.tif to aws bucket ose-dev-inputs\n",
      "[2025-08-28 15:38:45 INFO] Deleted local file temp_data/OPENET_ENSEMBLE_009015_20240301_20240401_ET.tif\n",
      "[2025-08-28 15:38:45 INFO] Downloading file 18RYBX-7Eh8vhpzQGY0ORjoghEkxjBKcQ to temp_data/OPENET_ENSEMBLE_009013_20240301_20240401_ET.tif\n",
      "[2025-08-28 15:38:54 INFO] Uploaded file OPENET_ENSEMBLE_009013_20240301_20240401_ET.tif to aws bucket ose-dev-inputs\n",
      "[2025-08-28 15:38:54 INFO] Deleted local file temp_data/OPENET_ENSEMBLE_009013_20240301_20240401_ET.tif\n",
      "[2025-08-28 15:38:54 INFO] Downloading file 1rYnWaTt--44EhJ49_787siqvzCu3ZtAA to temp_data/OPENET_ENSEMBLE_009014_20240301_20240401_ET.tif\n",
      "[2025-08-28 15:39:04 INFO] Uploaded file OPENET_ENSEMBLE_009014_20240301_20240401_ET.tif to aws bucket ose-dev-inputs\n",
      "[2025-08-28 15:39:04 INFO] Deleted local file temp_data/OPENET_ENSEMBLE_009014_20240301_20240401_ET.tif\n",
      "[2025-08-28 15:39:04 INFO] Downloading file 1TkbGnj5JagxrImj6ZyLDOvXKoWWEB_FO to temp_data/OPENET_ENSEMBLE_009012_20240301_20240401_ET.tif\n",
      "[2025-08-28 15:39:09 INFO] Uploaded file OPENET_ENSEMBLE_009012_20240301_20240401_ET.tif to aws bucket ose-dev-inputs\n",
      "[2025-08-28 15:39:09 INFO] Deleted local file temp_data/OPENET_ENSEMBLE_009012_20240301_20240401_ET.tif\n",
      "[2025-08-28 15:39:09 INFO] Downloading file 1Tm3C0pBmCNfxiHNJeTiXNc62fB6F5EGB to temp_data/OPENET_ENSEMBLE_009011_20240301_20240401_ET.tif\n",
      "[2025-08-28 15:39:17 INFO] Uploaded file OPENET_ENSEMBLE_009011_20240301_20240401_ET.tif to aws bucket ose-dev-inputs\n",
      "[2025-08-28 15:39:17 INFO] Deleted local file temp_data/OPENET_ENSEMBLE_009011_20240301_20240401_ET.tif\n",
      "[2025-08-28 15:39:17 INFO] Downloading file 1LzPczt-jiOy8JQFr3yWjyVUaO0kyn0_t to temp_data/OPENET_ENSEMBLE_012015_20240201_20240301_ET_MAX.tif\n",
      "[2025-08-28 15:39:21 INFO] Uploaded file OPENET_ENSEMBLE_012015_20240201_20240301_ET_MAX.tif to aws bucket ose-dev-inputs\n",
      "[2025-08-28 15:39:21 INFO] Deleted local file temp_data/OPENET_ENSEMBLE_012015_20240201_20240301_ET_MAX.tif\n",
      "[2025-08-28 15:39:21 INFO] Downloading file 1oaxmU2GW6F9WjMoiQ_vDRn8fU7uIW5lr to temp_data/OPENET_ENSEMBLE_012014_20240201_20240301_ET_MAX.tif\n",
      "[2025-08-28 15:39:30 INFO] Uploaded file OPENET_ENSEMBLE_012014_20240201_20240301_ET_MAX.tif to aws bucket ose-dev-inputs\n",
      "[2025-08-28 15:39:30 INFO] Deleted local file temp_data/OPENET_ENSEMBLE_012014_20240201_20240301_ET_MAX.tif\n",
      "[2025-08-28 15:39:30 INFO] Downloading file 1TnsFXqcnF1BT0cJhz51Ls8JXrj9S25nC to temp_data/OPENET_ENSEMBLE_012013_20240201_20240301_ET_MAX.tif\n",
      "[2025-08-28 15:39:37 INFO] Uploaded file OPENET_ENSEMBLE_012013_20240201_20240301_ET_MAX.tif to aws bucket ose-dev-inputs\n",
      "[2025-08-28 15:39:37 INFO] Deleted local file temp_data/OPENET_ENSEMBLE_012013_20240201_20240301_ET_MAX.tif\n",
      "[2025-08-28 15:39:37 INFO] Downloading file 104MirvKhMhDK3MmB-r2HH7Om7oNs0CaR to temp_data/OPENET_ENSEMBLE_012012_20240201_20240301_ET_MAX.tif\n",
      "[2025-08-28 15:39:44 INFO] Uploaded file OPENET_ENSEMBLE_012012_20240201_20240301_ET_MAX.tif to aws bucket ose-dev-inputs\n",
      "[2025-08-28 15:39:44 INFO] Deleted local file temp_data/OPENET_ENSEMBLE_012012_20240201_20240301_ET_MAX.tif\n",
      "[2025-08-28 15:39:45 INFO] Downloading file 1hvCKfr1JENQyBONbejzbkEM7FS3_W9i8 to temp_data/OPENET_ENSEMBLE_012011_20240201_20240301_ET_MAX.tif\n",
      "[2025-08-28 15:39:51 INFO] Uploaded file OPENET_ENSEMBLE_012011_20240201_20240301_ET_MAX.tif to aws bucket ose-dev-inputs\n",
      "[2025-08-28 15:39:51 INFO] Deleted local file temp_data/OPENET_ENSEMBLE_012011_20240201_20240301_ET_MAX.tif\n",
      "[2025-08-28 15:39:51 INFO] Downloading file 1JHqRDXB2O2gMW1r_4I24a9JkUq1EDxZF to temp_data/OPENET_ENSEMBLE_011015_20240201_20240301_ET_MAX.tif\n",
      "[2025-08-28 15:39:55 INFO] Uploaded file OPENET_ENSEMBLE_011015_20240201_20240301_ET_MAX.tif to aws bucket ose-dev-inputs\n",
      "[2025-08-28 15:39:55 INFO] Deleted local file temp_data/OPENET_ENSEMBLE_011015_20240201_20240301_ET_MAX.tif\n",
      "[2025-08-28 15:39:55 INFO] Downloading file 1CxnH7yJooO_uqpD_O1q1bAucm8JT18Un to temp_data/OPENET_ENSEMBLE_011014_20240201_20240301_ET_MAX.tif\n",
      "[2025-08-28 15:40:01 INFO] Uploaded file OPENET_ENSEMBLE_011014_20240201_20240301_ET_MAX.tif to aws bucket ose-dev-inputs\n",
      "[2025-08-28 15:40:01 INFO] Deleted local file temp_data/OPENET_ENSEMBLE_011014_20240201_20240301_ET_MAX.tif\n",
      "[2025-08-28 15:40:01 INFO] Downloading file 1pd5sYtYkn_D_WLiwQiz4wpvlThFuL5kG to temp_data/OPENET_ENSEMBLE_011012_20240201_20240301_ET_MAX.tif\n",
      "[2025-08-28 15:40:08 INFO] Uploaded file OPENET_ENSEMBLE_011012_20240201_20240301_ET_MAX.tif to aws bucket ose-dev-inputs\n",
      "[2025-08-28 15:40:08 INFO] Deleted local file temp_data/OPENET_ENSEMBLE_011012_20240201_20240301_ET_MAX.tif\n",
      "[2025-08-28 15:40:08 INFO] Downloading file 1y4-mrYyVzzaRVp9s0Osl1e1EE_WgAySH to temp_data/OPENET_ENSEMBLE_011013_20240201_20240301_ET_MAX.tif\n",
      "[2025-08-28 15:40:14 INFO] Uploaded file OPENET_ENSEMBLE_011013_20240201_20240301_ET_MAX.tif to aws bucket ose-dev-inputs\n",
      "[2025-08-28 15:40:14 INFO] Deleted local file temp_data/OPENET_ENSEMBLE_011013_20240201_20240301_ET_MAX.tif\n",
      "[2025-08-28 15:40:14 INFO] Downloading file 1n3TqGtpXQnzyzBVSJnNOyBC0KaTEY9MF to temp_data/OPENET_ENSEMBLE_011011_20240201_20240301_ET_MAX.tif\n",
      "[2025-08-28 15:40:19 INFO] Uploaded file OPENET_ENSEMBLE_011011_20240201_20240301_ET_MAX.tif to aws bucket ose-dev-inputs\n",
      "[2025-08-28 15:40:19 INFO] Deleted local file temp_data/OPENET_ENSEMBLE_011011_20240201_20240301_ET_MAX.tif\n",
      "[2025-08-28 15:40:19 INFO] Downloading file 1wPMOh5Nnmf1HE4-10nBSz9B5cs7nZaFb to temp_data/OPENET_ENSEMBLE_010015_20240201_20240301_ET_MAX.tif\n",
      "[2025-08-28 15:40:22 INFO] Uploaded file OPENET_ENSEMBLE_010015_20240201_20240301_ET_MAX.tif to aws bucket ose-dev-inputs\n",
      "[2025-08-28 15:40:22 INFO] Deleted local file temp_data/OPENET_ENSEMBLE_010015_20240201_20240301_ET_MAX.tif\n",
      "[2025-08-28 15:40:22 INFO] Downloading file 1YejdDz_mR6xhFjF1gejhNkYOqTUZy2AR to temp_data/OPENET_ENSEMBLE_010014_20240201_20240301_ET_MAX.tif\n",
      "[2025-08-28 15:40:27 INFO] Uploaded file OPENET_ENSEMBLE_010014_20240201_20240301_ET_MAX.tif to aws bucket ose-dev-inputs\n",
      "[2025-08-28 15:40:27 INFO] Deleted local file temp_data/OPENET_ENSEMBLE_010014_20240201_20240301_ET_MAX.tif\n",
      "[2025-08-28 15:40:27 INFO] Downloading file 1LCV4Vc7oM8VuqjTQoLjDGONMiSJ0r-XG to temp_data/OPENET_ENSEMBLE_010013_20240201_20240301_ET_MAX.tif\n",
      "[2025-08-28 15:40:34 INFO] Uploaded file OPENET_ENSEMBLE_010013_20240201_20240301_ET_MAX.tif to aws bucket ose-dev-inputs\n",
      "[2025-08-28 15:40:34 INFO] Deleted local file temp_data/OPENET_ENSEMBLE_010013_20240201_20240301_ET_MAX.tif\n",
      "[2025-08-28 15:40:34 INFO] Downloading file 1tCFGUHZc6GshKFvHmd5rxlu_ohsyfhP2 to temp_data/OPENET_ENSEMBLE_010012_20240201_20240301_ET_MAX.tif\n",
      "[2025-08-28 15:40:39 INFO] Uploaded file OPENET_ENSEMBLE_010012_20240201_20240301_ET_MAX.tif to aws bucket ose-dev-inputs\n",
      "[2025-08-28 15:40:39 INFO] Deleted local file temp_data/OPENET_ENSEMBLE_010012_20240201_20240301_ET_MAX.tif\n",
      "[2025-08-28 15:40:39 INFO] Downloading file 1MuxiqYQmSpeQOgUB_3MfqoAP-HlqhFHQ to temp_data/OPENET_ENSEMBLE_010011_20240201_20240301_ET_MAX.tif\n",
      "[2025-08-28 15:40:46 INFO] Uploaded file OPENET_ENSEMBLE_010011_20240201_20240301_ET_MAX.tif to aws bucket ose-dev-inputs\n",
      "[2025-08-28 15:40:46 INFO] Deleted local file temp_data/OPENET_ENSEMBLE_010011_20240201_20240301_ET_MAX.tif\n",
      "[2025-08-28 15:40:46 INFO] Downloading file 1C2w6ElnpAC1tSXxyos3Ugqabyat-EtXU to temp_data/OPENET_ENSEMBLE_009015_20240201_20240301_ET_MAX.tif\n",
      "[2025-08-28 15:40:48 INFO] Uploaded file OPENET_ENSEMBLE_009015_20240201_20240301_ET_MAX.tif to aws bucket ose-dev-inputs\n",
      "[2025-08-28 15:40:48 INFO] Deleted local file temp_data/OPENET_ENSEMBLE_009015_20240201_20240301_ET_MAX.tif\n",
      "[2025-08-28 15:40:48 INFO] Downloading file 1EyNdGk1f1gs59UJ-71k8RFfba6lWyHKe to temp_data/OPENET_ENSEMBLE_009014_20240201_20240301_ET_MAX.tif\n",
      "[2025-08-28 15:40:56 INFO] Uploaded file OPENET_ENSEMBLE_009014_20240201_20240301_ET_MAX.tif to aws bucket ose-dev-inputs\n",
      "[2025-08-28 15:40:56 INFO] Deleted local file temp_data/OPENET_ENSEMBLE_009014_20240201_20240301_ET_MAX.tif\n",
      "[2025-08-28 15:40:56 INFO] Downloading file 1XarkIe4byxp_TaHhdGkkNHhAVoznnj-K to temp_data/OPENET_ENSEMBLE_009013_20240201_20240301_ET_MAX.tif\n",
      "[2025-08-28 15:41:03 INFO] Uploaded file OPENET_ENSEMBLE_009013_20240201_20240301_ET_MAX.tif to aws bucket ose-dev-inputs\n",
      "[2025-08-28 15:41:03 INFO] Deleted local file temp_data/OPENET_ENSEMBLE_009013_20240201_20240301_ET_MAX.tif\n",
      "[2025-08-28 15:41:03 INFO] Downloading file 137lTh1TbODUcSBvocrm26wDNHXJLO7cT to temp_data/OPENET_ENSEMBLE_009012_20240201_20240301_ET_MAX.tif\n",
      "[2025-08-28 15:41:10 INFO] Uploaded file OPENET_ENSEMBLE_009012_20240201_20240301_ET_MAX.tif to aws bucket ose-dev-inputs\n",
      "[2025-08-28 15:41:10 INFO] Deleted local file temp_data/OPENET_ENSEMBLE_009012_20240201_20240301_ET_MAX.tif\n",
      "[2025-08-28 15:41:10 INFO] Downloading file 1lRIxKw0l084P_xClICTSV2aNjQcEV7ya to temp_data/OPENET_ENSEMBLE_009011_20240201_20240301_ET_MAX.tif\n",
      "[2025-08-28 15:41:16 INFO] Uploaded file OPENET_ENSEMBLE_009011_20240201_20240301_ET_MAX.tif to aws bucket ose-dev-inputs\n",
      "[2025-08-28 15:41:16 INFO] Deleted local file temp_data/OPENET_ENSEMBLE_009011_20240201_20240301_ET_MAX.tif\n",
      "[2025-08-28 15:41:16 INFO] Downloading file 1GPhb7DXlkEEUkeNqHS4rc0SYhVxpjMMg to temp_data/OPENET_ENSEMBLE_012015_20240201_20240301_ET_MIN.tif\n",
      "[2025-08-28 15:41:19 INFO] Uploaded file OPENET_ENSEMBLE_012015_20240201_20240301_ET_MIN.tif to aws bucket ose-dev-inputs\n",
      "[2025-08-28 15:41:19 INFO] Deleted local file temp_data/OPENET_ENSEMBLE_012015_20240201_20240301_ET_MIN.tif\n",
      "[2025-08-28 15:41:19 INFO] Downloading file 1PKVOxZeEYRklx-HHydJoU8oMG9oH0JI0 to temp_data/OPENET_ENSEMBLE_012014_20240201_20240301_ET_MIN.tif\n",
      "[2025-08-28 15:41:24 INFO] Uploaded file OPENET_ENSEMBLE_012014_20240201_20240301_ET_MIN.tif to aws bucket ose-dev-inputs\n",
      "[2025-08-28 15:41:24 INFO] Deleted local file temp_data/OPENET_ENSEMBLE_012014_20240201_20240301_ET_MIN.tif\n",
      "[2025-08-28 15:41:24 INFO] Downloading file 1aJxxq24qopW1Qpw8HNi6xSodtjP5wms_ to temp_data/OPENET_ENSEMBLE_012013_20240201_20240301_ET_MIN.tif\n",
      "[2025-08-28 15:41:35 INFO] Uploaded file OPENET_ENSEMBLE_012013_20240201_20240301_ET_MIN.tif to aws bucket ose-dev-inputs\n",
      "[2025-08-28 15:41:35 INFO] Deleted local file temp_data/OPENET_ENSEMBLE_012013_20240201_20240301_ET_MIN.tif\n",
      "[2025-08-28 15:41:35 INFO] Downloading file 1rLtstUX7z799Z4CwVUxBj5Eijkh7ghFU to temp_data/OPENET_ENSEMBLE_012012_20240201_20240301_ET_MIN.tif\n",
      "[2025-08-28 15:41:39 INFO] Uploaded file OPENET_ENSEMBLE_012012_20240201_20240301_ET_MIN.tif to aws bucket ose-dev-inputs\n",
      "[2025-08-28 15:41:39 INFO] Deleted local file temp_data/OPENET_ENSEMBLE_012012_20240201_20240301_ET_MIN.tif\n",
      "[2025-08-28 15:41:39 INFO] Downloading file 1_4-yfW9lXC6AaqgEGMfJshY2qJKwra75 to temp_data/OPENET_ENSEMBLE_012011_20240201_20240301_ET_MIN.tif\n",
      "[2025-08-28 15:41:44 INFO] Uploaded file OPENET_ENSEMBLE_012011_20240201_20240301_ET_MIN.tif to aws bucket ose-dev-inputs\n",
      "[2025-08-28 15:41:44 INFO] Deleted local file temp_data/OPENET_ENSEMBLE_012011_20240201_20240301_ET_MIN.tif\n",
      "[2025-08-28 15:41:44 INFO] Downloading file 1HSVbaZcWWDrTLeW8FxZQ65iOrCnENBB2 to temp_data/OPENET_ENSEMBLE_011015_20240201_20240301_ET_MIN.tif\n",
      "[2025-08-28 15:41:46 INFO] Uploaded file OPENET_ENSEMBLE_011015_20240201_20240301_ET_MIN.tif to aws bucket ose-dev-inputs\n",
      "[2025-08-28 15:41:46 INFO] Deleted local file temp_data/OPENET_ENSEMBLE_011015_20240201_20240301_ET_MIN.tif\n",
      "[2025-08-28 15:41:46 INFO] Downloading file 1O-dP3vsRyoZHH3tqmuAqV_KOcrrV3SzN to temp_data/OPENET_ENSEMBLE_011014_20240201_20240301_ET_MIN.tif\n",
      "[2025-08-28 15:41:55 INFO] Uploaded file OPENET_ENSEMBLE_011014_20240201_20240301_ET_MIN.tif to aws bucket ose-dev-inputs\n",
      "[2025-08-28 15:41:55 INFO] Deleted local file temp_data/OPENET_ENSEMBLE_011014_20240201_20240301_ET_MIN.tif\n",
      "[2025-08-28 15:41:55 INFO] Downloading file 1LvaEK1_X7YxaO0s6HSlJ19IEvNz1d8oU to temp_data/OPENET_ENSEMBLE_011013_20240201_20240301_ET_MIN.tif\n",
      "[2025-08-28 15:42:00 INFO] Uploaded file OPENET_ENSEMBLE_011013_20240201_20240301_ET_MIN.tif to aws bucket ose-dev-inputs\n",
      "[2025-08-28 15:42:00 INFO] Deleted local file temp_data/OPENET_ENSEMBLE_011013_20240201_20240301_ET_MIN.tif\n",
      "[2025-08-28 15:42:00 INFO] Downloading file 1fzSB7BCST4Kkvacup47IdEPvJyMl17z6 to temp_data/OPENET_ENSEMBLE_011012_20240201_20240301_ET_MIN.tif\n",
      "[2025-08-28 15:42:05 INFO] Uploaded file OPENET_ENSEMBLE_011012_20240201_20240301_ET_MIN.tif to aws bucket ose-dev-inputs\n",
      "[2025-08-28 15:42:05 INFO] Deleted local file temp_data/OPENET_ENSEMBLE_011012_20240201_20240301_ET_MIN.tif\n",
      "[2025-08-28 15:42:05 INFO] Downloading file 10rnHa5eO8SgZKVr_triycYZhufA10nCC to temp_data/OPENET_ENSEMBLE_011011_20240201_20240301_ET_MIN.tif\n",
      "[2025-08-28 15:42:11 INFO] Uploaded file OPENET_ENSEMBLE_011011_20240201_20240301_ET_MIN.tif to aws bucket ose-dev-inputs\n",
      "[2025-08-28 15:42:11 INFO] Deleted local file temp_data/OPENET_ENSEMBLE_011011_20240201_20240301_ET_MIN.tif\n",
      "[2025-08-28 15:42:11 INFO] Downloading file 1_bBJUT1WeGz41ycFDIYbacJpWjrOZOs_ to temp_data/OPENET_ENSEMBLE_010015_20240201_20240301_ET_MIN.tif\n",
      "[2025-08-28 15:42:13 INFO] Uploaded file OPENET_ENSEMBLE_010015_20240201_20240301_ET_MIN.tif to aws bucket ose-dev-inputs\n",
      "[2025-08-28 15:42:13 INFO] Deleted local file temp_data/OPENET_ENSEMBLE_010015_20240201_20240301_ET_MIN.tif\n",
      "[2025-08-28 15:42:13 INFO] Downloading file 1LdwRSbNw6t8BXJkkoexbUsoHwVOrbiGk to temp_data/OPENET_ENSEMBLE_010014_20240201_20240301_ET_MIN.tif\n",
      "[2025-08-28 15:42:18 INFO] Uploaded file OPENET_ENSEMBLE_010014_20240201_20240301_ET_MIN.tif to aws bucket ose-dev-inputs\n",
      "[2025-08-28 15:42:18 INFO] Deleted local file temp_data/OPENET_ENSEMBLE_010014_20240201_20240301_ET_MIN.tif\n",
      "[2025-08-28 15:42:18 INFO] Downloading file 1CpQxnPJUfpyDV1fXSthK88uKUJUwpNr9 to temp_data/OPENET_ENSEMBLE_010013_20240201_20240301_ET_MIN.tif\n",
      "[2025-08-28 15:42:24 INFO] Uploaded file OPENET_ENSEMBLE_010013_20240201_20240301_ET_MIN.tif to aws bucket ose-dev-inputs\n",
      "[2025-08-28 15:42:24 INFO] Deleted local file temp_data/OPENET_ENSEMBLE_010013_20240201_20240301_ET_MIN.tif\n",
      "[2025-08-28 15:42:24 INFO] Downloading file 1lirifu5t5sU9eURHW1SjPiRNZlx-1HJh to temp_data/OPENET_ENSEMBLE_010012_20240201_20240301_ET_MIN.tif\n",
      "[2025-08-28 15:42:30 INFO] Uploaded file OPENET_ENSEMBLE_010012_20240201_20240301_ET_MIN.tif to aws bucket ose-dev-inputs\n",
      "[2025-08-28 15:42:30 INFO] Deleted local file temp_data/OPENET_ENSEMBLE_010012_20240201_20240301_ET_MIN.tif\n",
      "[2025-08-28 15:42:30 INFO] Downloading file 1QVzDQHjTqRnBtnUEQ_3MMsVylr0S0XfQ to temp_data/OPENET_ENSEMBLE_010011_20240201_20240301_ET_MIN.tif\n",
      "[2025-08-28 15:42:35 INFO] Uploaded file OPENET_ENSEMBLE_010011_20240201_20240301_ET_MIN.tif to aws bucket ose-dev-inputs\n",
      "[2025-08-28 15:42:35 INFO] Deleted local file temp_data/OPENET_ENSEMBLE_010011_20240201_20240301_ET_MIN.tif\n",
      "[2025-08-28 15:42:35 INFO] Downloading file 1OCBXbhF8JWL8xO4lxJgzVKW7zLHR94PB to temp_data/OPENET_ENSEMBLE_009015_20240201_20240301_ET_MIN.tif\n",
      "[2025-08-28 15:42:38 INFO] Uploaded file OPENET_ENSEMBLE_009015_20240201_20240301_ET_MIN.tif to aws bucket ose-dev-inputs\n",
      "[2025-08-28 15:42:38 INFO] Deleted local file temp_data/OPENET_ENSEMBLE_009015_20240201_20240301_ET_MIN.tif\n",
      "[2025-08-28 15:42:38 INFO] Downloading file 1lHTv_Y5fBQ2P0vbP_VZIvJWeQGsWB0gS to temp_data/OPENET_ENSEMBLE_009014_20240201_20240301_ET_MIN.tif\n",
      "[2025-08-28 15:42:45 INFO] Uploaded file OPENET_ENSEMBLE_009014_20240201_20240301_ET_MIN.tif to aws bucket ose-dev-inputs\n",
      "[2025-08-28 15:42:45 INFO] Deleted local file temp_data/OPENET_ENSEMBLE_009014_20240201_20240301_ET_MIN.tif\n",
      "[2025-08-28 15:42:45 INFO] Downloading file 1DJCwwkB3N64FFWgR2R8_fQB3o6twFaUX to temp_data/OPENET_ENSEMBLE_009013_20240201_20240301_ET_MIN.tif\n",
      "[2025-08-28 15:42:50 INFO] Uploaded file OPENET_ENSEMBLE_009013_20240201_20240301_ET_MIN.tif to aws bucket ose-dev-inputs\n",
      "[2025-08-28 15:42:50 INFO] Deleted local file temp_data/OPENET_ENSEMBLE_009013_20240201_20240301_ET_MIN.tif\n",
      "[2025-08-28 15:42:50 INFO] Downloading file 1G-90vR1DebPfHIbwpQC3Zk_BzC6GsXVa to temp_data/OPENET_ENSEMBLE_009011_20240201_20240301_ET_MIN.tif\n",
      "[2025-08-28 15:42:55 INFO] Uploaded file OPENET_ENSEMBLE_009011_20240201_20240301_ET_MIN.tif to aws bucket ose-dev-inputs\n",
      "[2025-08-28 15:42:55 INFO] Deleted local file temp_data/OPENET_ENSEMBLE_009011_20240201_20240301_ET_MIN.tif\n",
      "[2025-08-28 15:42:55 INFO] Downloading file 1qkpvlXgxwqCf-1U0XEyw5JoskkQm4nRH to temp_data/OPENET_ENSEMBLE_009012_20240201_20240301_ET_MIN.tif\n",
      "[2025-08-28 15:43:02 INFO] Uploaded file OPENET_ENSEMBLE_009012_20240201_20240301_ET_MIN.tif to aws bucket ose-dev-inputs\n",
      "[2025-08-28 15:43:02 INFO] Deleted local file temp_data/OPENET_ENSEMBLE_009012_20240201_20240301_ET_MIN.tif\n",
      "[2025-08-28 15:43:02 INFO] Downloading file 1vHCuP71Vw3K539i1RA2bRoo7-M7dlVVa to temp_data/OPENET_ENSEMBLE_012015_20240201_20240301_ET.tif\n",
      "[2025-08-28 15:43:06 INFO] Uploaded file OPENET_ENSEMBLE_012015_20240201_20240301_ET.tif to aws bucket ose-dev-inputs\n",
      "[2025-08-28 15:43:06 INFO] Deleted local file temp_data/OPENET_ENSEMBLE_012015_20240201_20240301_ET.tif\n",
      "[2025-08-28 15:43:06 INFO] Downloading file 19heEP8b-g3G6cyZKm60rXyq6fAjntkEL to temp_data/OPENET_ENSEMBLE_012014_20240201_20240301_ET.tif\n",
      "[2025-08-28 15:43:11 INFO] Uploaded file OPENET_ENSEMBLE_012014_20240201_20240301_ET.tif to aws bucket ose-dev-inputs\n",
      "[2025-08-28 15:43:11 INFO] Deleted local file temp_data/OPENET_ENSEMBLE_012014_20240201_20240301_ET.tif\n",
      "[2025-08-28 15:43:11 INFO] Downloading file 1akF9VZRmw4ZEKRTc2cL80PE8IWti6xWl to temp_data/OPENET_ENSEMBLE_012013_20240201_20240301_ET.tif\n",
      "[2025-08-28 15:43:15 INFO] Uploaded file OPENET_ENSEMBLE_012013_20240201_20240301_ET.tif to aws bucket ose-dev-inputs\n",
      "[2025-08-28 15:43:15 INFO] Deleted local file temp_data/OPENET_ENSEMBLE_012013_20240201_20240301_ET.tif\n",
      "[2025-08-28 15:43:15 INFO] Downloading file 1pkqFodT584rvO8xRsJ4PmPkFk6EKqYXf to temp_data/OPENET_ENSEMBLE_012012_20240201_20240301_ET.tif\n",
      "[2025-08-28 15:43:21 INFO] Uploaded file OPENET_ENSEMBLE_012012_20240201_20240301_ET.tif to aws bucket ose-dev-inputs\n",
      "[2025-08-28 15:43:21 INFO] Deleted local file temp_data/OPENET_ENSEMBLE_012012_20240201_20240301_ET.tif\n",
      "[2025-08-28 15:43:21 INFO] Downloading file 1RSu4AI3v_3WzR5OV6V_OJYeI9C-uQDTe to temp_data/OPENET_ENSEMBLE_012011_20240201_20240301_ET.tif\n",
      "[2025-08-28 15:43:26 INFO] Uploaded file OPENET_ENSEMBLE_012011_20240201_20240301_ET.tif to aws bucket ose-dev-inputs\n",
      "[2025-08-28 15:43:26 INFO] Deleted local file temp_data/OPENET_ENSEMBLE_012011_20240201_20240301_ET.tif\n",
      "[2025-08-28 15:43:26 INFO] Downloading file 12Z53yUsy32GhwR9fClzDjkOrRV2eLXy- to temp_data/OPENET_ENSEMBLE_011015_20240201_20240301_ET.tif\n",
      "[2025-08-28 15:43:29 INFO] Uploaded file OPENET_ENSEMBLE_011015_20240201_20240301_ET.tif to aws bucket ose-dev-inputs\n",
      "[2025-08-28 15:43:29 INFO] Deleted local file temp_data/OPENET_ENSEMBLE_011015_20240201_20240301_ET.tif\n",
      "[2025-08-28 15:43:29 INFO] Downloading file 1zOFpr48j-jUuh2nXaUOms2xZ1tsAwifn to temp_data/OPENET_ENSEMBLE_011014_20240201_20240301_ET.tif\n",
      "[2025-08-28 15:43:34 INFO] Uploaded file OPENET_ENSEMBLE_011014_20240201_20240301_ET.tif to aws bucket ose-dev-inputs\n",
      "[2025-08-28 15:43:34 INFO] Deleted local file temp_data/OPENET_ENSEMBLE_011014_20240201_20240301_ET.tif\n",
      "[2025-08-28 15:43:34 INFO] Downloading file 1U3JwiUSiTvJPPoJQzFmEitPb1SL26_mW to temp_data/OPENET_ENSEMBLE_011013_20240201_20240301_ET.tif\n",
      "[2025-08-28 15:43:46 INFO] Uploaded file OPENET_ENSEMBLE_011013_20240201_20240301_ET.tif to aws bucket ose-dev-inputs\n",
      "[2025-08-28 15:43:46 INFO] Deleted local file temp_data/OPENET_ENSEMBLE_011013_20240201_20240301_ET.tif\n",
      "[2025-08-28 15:43:46 INFO] Downloading file 1oH-xILJBcOF6jrurmUWYnOl0Y2kVAWwg to temp_data/OPENET_ENSEMBLE_011012_20240201_20240301_ET.tif\n",
      "[2025-08-28 15:43:51 INFO] Uploaded file OPENET_ENSEMBLE_011012_20240201_20240301_ET.tif to aws bucket ose-dev-inputs\n",
      "[2025-08-28 15:43:51 INFO] Deleted local file temp_data/OPENET_ENSEMBLE_011012_20240201_20240301_ET.tif\n",
      "[2025-08-28 15:43:51 INFO] Downloading file 1qR8jCoe7flE4-hD3UBvzJgDZkUDvb0S_ to temp_data/OPENET_ENSEMBLE_011011_20240201_20240301_ET.tif\n",
      "[2025-08-28 15:43:55 INFO] Uploaded file OPENET_ENSEMBLE_011011_20240201_20240301_ET.tif to aws bucket ose-dev-inputs\n",
      "[2025-08-28 15:43:55 INFO] Deleted local file temp_data/OPENET_ENSEMBLE_011011_20240201_20240301_ET.tif\n",
      "[2025-08-28 15:43:55 INFO] Downloading file 1vLzn3Jn5MUaQ6LVanCeJohxgVx0z5pEa to temp_data/OPENET_ENSEMBLE_010015_20240201_20240301_ET.tif\n",
      "[2025-08-28 15:43:58 INFO] Uploaded file OPENET_ENSEMBLE_010015_20240201_20240301_ET.tif to aws bucket ose-dev-inputs\n",
      "[2025-08-28 15:43:58 INFO] Deleted local file temp_data/OPENET_ENSEMBLE_010015_20240201_20240301_ET.tif\n",
      "[2025-08-28 15:43:58 INFO] Downloading file 1yKqOh4Da2OtU9GTrclkA4hepThRI0FdX to temp_data/OPENET_ENSEMBLE_010014_20240201_20240301_ET.tif\n",
      "[2025-08-28 15:44:06 INFO] Uploaded file OPENET_ENSEMBLE_010014_20240201_20240301_ET.tif to aws bucket ose-dev-inputs\n",
      "[2025-08-28 15:44:06 INFO] Deleted local file temp_data/OPENET_ENSEMBLE_010014_20240201_20240301_ET.tif\n",
      "[2025-08-28 15:44:06 INFO] Downloading file 1so-CsS2K9J9NWeYo6eQrqRpaRSWYwlJz to temp_data/OPENET_ENSEMBLE_010013_20240201_20240301_ET.tif\n",
      "[2025-08-28 15:44:15 INFO] Uploaded file OPENET_ENSEMBLE_010013_20240201_20240301_ET.tif to aws bucket ose-dev-inputs\n",
      "[2025-08-28 15:44:15 INFO] Deleted local file temp_data/OPENET_ENSEMBLE_010013_20240201_20240301_ET.tif\n",
      "[2025-08-28 15:44:15 INFO] Downloading file 1mNbJ5F4UBvAdNODWrppbccIE6Ied816N to temp_data/OPENET_ENSEMBLE_010012_20240201_20240301_ET.tif\n",
      "[2025-08-28 15:44:21 INFO] Uploaded file OPENET_ENSEMBLE_010012_20240201_20240301_ET.tif to aws bucket ose-dev-inputs\n",
      "[2025-08-28 15:44:21 INFO] Deleted local file temp_data/OPENET_ENSEMBLE_010012_20240201_20240301_ET.tif\n",
      "[2025-08-28 15:44:21 INFO] Downloading file 16Hj7cmQOYfNRW3RTzOkMRe94R3bOdJtO to temp_data/OPENET_ENSEMBLE_010011_20240201_20240301_ET.tif\n",
      "[2025-08-28 15:44:26 INFO] Uploaded file OPENET_ENSEMBLE_010011_20240201_20240301_ET.tif to aws bucket ose-dev-inputs\n",
      "[2025-08-28 15:44:26 INFO] Deleted local file temp_data/OPENET_ENSEMBLE_010011_20240201_20240301_ET.tif\n",
      "[2025-08-28 15:44:26 INFO] Downloading file 1_jaz9kUEmjsjQG3obhiFCNmXnwsU6_p8 to temp_data/OPENET_ENSEMBLE_009015_20240201_20240301_ET.tif\n",
      "[2025-08-28 15:44:28 INFO] Uploaded file OPENET_ENSEMBLE_009015_20240201_20240301_ET.tif to aws bucket ose-dev-inputs\n",
      "[2025-08-28 15:44:28 INFO] Deleted local file temp_data/OPENET_ENSEMBLE_009015_20240201_20240301_ET.tif\n",
      "[2025-08-28 15:44:28 INFO] Downloading file 1UsIDqVlE09qn_-4hmCqWrG3zgFR6lL8V to temp_data/OPENET_ENSEMBLE_009012_20240201_20240301_ET.tif\n",
      "[2025-08-28 15:44:33 INFO] Uploaded file OPENET_ENSEMBLE_009012_20240201_20240301_ET.tif to aws bucket ose-dev-inputs\n",
      "[2025-08-28 15:44:33 INFO] Deleted local file temp_data/OPENET_ENSEMBLE_009012_20240201_20240301_ET.tif\n",
      "[2025-08-28 15:44:34 INFO] Downloading file 1ysrA4VXK09wE2FMBVxFS0Wc4PBSbE_ZH to temp_data/OPENET_ENSEMBLE_009014_20240201_20240301_ET.tif\n",
      "[2025-08-28 15:44:38 INFO] Uploaded file OPENET_ENSEMBLE_009014_20240201_20240301_ET.tif to aws bucket ose-dev-inputs\n",
      "[2025-08-28 15:44:38 INFO] Deleted local file temp_data/OPENET_ENSEMBLE_009014_20240201_20240301_ET.tif\n",
      "[2025-08-28 15:44:38 INFO] Downloading file 167K2Q85hMDLupswnb5rWKL539nPG0ZyI to temp_data/OPENET_ENSEMBLE_009013_20240201_20240301_ET.tif\n",
      "[2025-08-28 15:44:43 INFO] Uploaded file OPENET_ENSEMBLE_009013_20240201_20240301_ET.tif to aws bucket ose-dev-inputs\n",
      "[2025-08-28 15:44:43 INFO] Deleted local file temp_data/OPENET_ENSEMBLE_009013_20240201_20240301_ET.tif\n",
      "[2025-08-28 15:44:43 INFO] Downloading file 1d9omVkVSKBO0tehnnDrObKQ-dr1cdzQe to temp_data/OPENET_ENSEMBLE_009011_20240201_20240301_ET.tif\n",
      "[2025-08-28 15:44:47 INFO] Uploaded file OPENET_ENSEMBLE_009011_20240201_20240301_ET.tif to aws bucket ose-dev-inputs\n",
      "[2025-08-28 15:44:47 INFO] Deleted local file temp_data/OPENET_ENSEMBLE_009011_20240201_20240301_ET.tif\n",
      "[2025-08-28 15:44:48 INFO] File IDAHO_EPSCOR_GRIDMET_012015_20240101_20240201_ETO.tif already exists, skipping transfer\n",
      "[2025-08-28 15:44:48 INFO] File IDAHO_EPSCOR_GRIDMET_012014_20240101_20240201_ETO.tif already exists, skipping transfer\n",
      "[2025-08-28 15:44:48 INFO] File IDAHO_EPSCOR_GRIDMET_012013_20240101_20240201_ETO.tif already exists, skipping transfer\n",
      "[2025-08-28 15:44:48 INFO] File IDAHO_EPSCOR_GRIDMET_012012_20240101_20240201_ETO.tif already exists, skipping transfer\n",
      "[2025-08-28 15:44:48 INFO] File IDAHO_EPSCOR_GRIDMET_012011_20240101_20240201_ETO.tif already exists, skipping transfer\n",
      "[2025-08-28 15:44:48 INFO] File IDAHO_EPSCOR_GRIDMET_011015_20240101_20240201_ETO.tif already exists, skipping transfer\n",
      "[2025-08-28 15:44:48 INFO] File IDAHO_EPSCOR_GRIDMET_011014_20240101_20240201_ETO.tif already exists, skipping transfer\n",
      "[2025-08-28 15:44:48 INFO] File IDAHO_EPSCOR_GRIDMET_011011_20240101_20240201_ETO.tif already exists, skipping transfer\n",
      "[2025-08-28 15:44:48 INFO] File IDAHO_EPSCOR_GRIDMET_011013_20240101_20240201_ETO.tif already exists, skipping transfer\n",
      "[2025-08-28 15:44:48 INFO] File IDAHO_EPSCOR_GRIDMET_011012_20240101_20240201_ETO.tif already exists, skipping transfer\n",
      "[2025-08-28 15:44:48 INFO] File IDAHO_EPSCOR_GRIDMET_010015_20240101_20240201_ETO.tif already exists, skipping transfer\n",
      "[2025-08-28 15:44:48 INFO] File IDAHO_EPSCOR_GRIDMET_010014_20240101_20240201_ETO.tif already exists, skipping transfer\n",
      "[2025-08-28 15:44:48 INFO] File IDAHO_EPSCOR_GRIDMET_010011_20240101_20240201_ETO.tif already exists, skipping transfer\n",
      "[2025-08-28 15:44:48 INFO] File IDAHO_EPSCOR_GRIDMET_010013_20240101_20240201_ETO.tif already exists, skipping transfer\n",
      "[2025-08-28 15:44:48 INFO] File IDAHO_EPSCOR_GRIDMET_010012_20240101_20240201_ETO.tif already exists, skipping transfer\n",
      "[2025-08-28 15:44:48 INFO] File IDAHO_EPSCOR_GRIDMET_009015_20240101_20240201_ETO.tif already exists, skipping transfer\n",
      "[2025-08-28 15:44:48 INFO] File IDAHO_EPSCOR_GRIDMET_009014_20240101_20240201_ETO.tif already exists, skipping transfer\n",
      "[2025-08-28 15:44:48 INFO] File IDAHO_EPSCOR_GRIDMET_009013_20240101_20240201_ETO.tif already exists, skipping transfer\n",
      "[2025-08-28 15:44:49 INFO] File IDAHO_EPSCOR_GRIDMET_009012_20240101_20240201_ETO.tif already exists, skipping transfer\n",
      "[2025-08-28 15:44:49 INFO] File IDAHO_EPSCOR_GRIDMET_009011_20240101_20240201_ETO.tif already exists, skipping transfer\n",
      "[2025-08-28 15:44:49 INFO] Downloading file 1N5NcICQ_IOcezIX7LTLlJGxtN7EeHpbe to temp_data/OPENET_ENSEMBLE_012014_20240101_20240102_ET_MAX.tif\n",
      "[2025-08-28 15:44:53 INFO] Uploaded file OPENET_ENSEMBLE_012014_20240101_20240102_ET_MAX.tif to aws bucket ose-dev-inputs\n",
      "[2025-08-28 15:44:53 INFO] Deleted local file temp_data/OPENET_ENSEMBLE_012014_20240101_20240102_ET_MAX.tif\n",
      "[2025-08-28 15:44:54 INFO] Downloading file 1amLjuetH3EgSCWwq4eaYZDGnkGl0Xd8w to temp_data/OPENET_ENSEMBLE_012015_20240101_20240102_ET_MAX.tif\n",
      "[2025-08-28 15:44:56 INFO] Uploaded file OPENET_ENSEMBLE_012015_20240101_20240102_ET_MAX.tif to aws bucket ose-dev-inputs\n",
      "[2025-08-28 15:44:56 INFO] Deleted local file temp_data/OPENET_ENSEMBLE_012015_20240101_20240102_ET_MAX.tif\n",
      "[2025-08-28 15:44:57 INFO] Downloading file 16FfuUpZzeOeF3WP3y-puSpkWDLGIFLeH to temp_data/OPENET_ENSEMBLE_012013_20240101_20240102_ET_MAX.tif\n",
      "[2025-08-28 15:45:01 INFO] Uploaded file OPENET_ENSEMBLE_012013_20240101_20240102_ET_MAX.tif to aws bucket ose-dev-inputs\n",
      "[2025-08-28 15:45:01 INFO] Deleted local file temp_data/OPENET_ENSEMBLE_012013_20240101_20240102_ET_MAX.tif\n",
      "[2025-08-28 15:45:01 INFO] Downloading file 1G2G353o4IOFapQ1cNBHwAf2awRyrs_mY to temp_data/OPENET_ENSEMBLE_012012_20240101_20240102_ET_MAX.tif\n",
      "[2025-08-28 15:45:06 INFO] Uploaded file OPENET_ENSEMBLE_012012_20240101_20240102_ET_MAX.tif to aws bucket ose-dev-inputs\n",
      "[2025-08-28 15:45:06 INFO] Deleted local file temp_data/OPENET_ENSEMBLE_012012_20240101_20240102_ET_MAX.tif\n",
      "[2025-08-28 15:45:06 INFO] Downloading file 19FQoG0lT_hM69CsjO-nEq-6PMToJS4uO to temp_data/OPENET_ENSEMBLE_012011_20240101_20240102_ET_MAX.tif\n",
      "[2025-08-28 15:45:11 INFO] Uploaded file OPENET_ENSEMBLE_012011_20240101_20240102_ET_MAX.tif to aws bucket ose-dev-inputs\n",
      "[2025-08-28 15:45:11 INFO] Deleted local file temp_data/OPENET_ENSEMBLE_012011_20240101_20240102_ET_MAX.tif\n",
      "[2025-08-28 15:45:11 INFO] Downloading file 1TMUv8tZYOuKVWLbFKRAlkrEC2ydaN5W_ to temp_data/OPENET_ENSEMBLE_011015_20240101_20240102_ET_MAX.tif\n",
      "[2025-08-28 15:45:14 INFO] Uploaded file OPENET_ENSEMBLE_011015_20240101_20240102_ET_MAX.tif to aws bucket ose-dev-inputs\n",
      "[2025-08-28 15:45:14 INFO] Deleted local file temp_data/OPENET_ENSEMBLE_011015_20240101_20240102_ET_MAX.tif\n",
      "[2025-08-28 15:45:14 INFO] Downloading file 1cR656LD7WyjZ2212x1-213aPpYqi20Fm to temp_data/OPENET_ENSEMBLE_011014_20240101_20240102_ET_MAX.tif\n",
      "[2025-08-28 15:45:19 INFO] Uploaded file OPENET_ENSEMBLE_011014_20240101_20240102_ET_MAX.tif to aws bucket ose-dev-inputs\n",
      "[2025-08-28 15:45:19 INFO] Deleted local file temp_data/OPENET_ENSEMBLE_011014_20240101_20240102_ET_MAX.tif\n",
      "[2025-08-28 15:45:19 INFO] Downloading file 1xwqo19ICu4F-FGz-pzjUXds6WGAfjE43 to temp_data/OPENET_ENSEMBLE_011013_20240101_20240102_ET_MAX.tif\n",
      "[2025-08-28 15:45:25 INFO] Uploaded file OPENET_ENSEMBLE_011013_20240101_20240102_ET_MAX.tif to aws bucket ose-dev-inputs\n",
      "[2025-08-28 15:45:25 INFO] Deleted local file temp_data/OPENET_ENSEMBLE_011013_20240101_20240102_ET_MAX.tif\n",
      "[2025-08-28 15:45:25 INFO] Downloading file 1Ktq03bZ96dsERR8gzMyU3BCPtsgLIOWX to temp_data/OPENET_ENSEMBLE_011012_20240101_20240102_ET_MAX.tif\n",
      "[2025-08-28 15:45:30 INFO] Uploaded file OPENET_ENSEMBLE_011012_20240101_20240102_ET_MAX.tif to aws bucket ose-dev-inputs\n",
      "[2025-08-28 15:45:30 INFO] Deleted local file temp_data/OPENET_ENSEMBLE_011012_20240101_20240102_ET_MAX.tif\n",
      "[2025-08-28 15:45:30 INFO] Downloading file 1ErXzgudDSp2IOfaDLiiHSHAMNDQXFNDE to temp_data/OPENET_ENSEMBLE_011011_20240101_20240102_ET_MAX.tif\n",
      "[2025-08-28 15:45:35 INFO] Uploaded file OPENET_ENSEMBLE_011011_20240101_20240102_ET_MAX.tif to aws bucket ose-dev-inputs\n",
      "[2025-08-28 15:45:35 INFO] Deleted local file temp_data/OPENET_ENSEMBLE_011011_20240101_20240102_ET_MAX.tif\n",
      "[2025-08-28 15:45:35 INFO] Downloading file 10Hg5UnMDmMjztd-ZSVJ_yPylDGOgTJhx to temp_data/OPENET_ENSEMBLE_010015_20240101_20240102_ET_MAX.tif\n",
      "[2025-08-28 15:45:45 INFO] Uploaded file OPENET_ENSEMBLE_010015_20240101_20240102_ET_MAX.tif to aws bucket ose-dev-inputs\n",
      "[2025-08-28 15:45:45 INFO] Deleted local file temp_data/OPENET_ENSEMBLE_010015_20240101_20240102_ET_MAX.tif\n",
      "[2025-08-28 15:45:45 INFO] Downloading file 1iizwvx1uY-cj6OlOO_odNC7xbdQpHwHr to temp_data/OPENET_ENSEMBLE_010014_20240101_20240102_ET_MAX.tif\n",
      "[2025-08-28 15:45:54 INFO] Uploaded file OPENET_ENSEMBLE_010014_20240101_20240102_ET_MAX.tif to aws bucket ose-dev-inputs\n",
      "[2025-08-28 15:45:54 INFO] Deleted local file temp_data/OPENET_ENSEMBLE_010014_20240101_20240102_ET_MAX.tif\n",
      "[2025-08-28 15:45:54 INFO] Downloading file 1q6cMPj7R4SIWmChHveLgFAtd_L-mX_1c to temp_data/OPENET_ENSEMBLE_010013_20240101_20240102_ET_MAX.tif\n",
      "[2025-08-28 15:46:00 INFO] Uploaded file OPENET_ENSEMBLE_010013_20240101_20240102_ET_MAX.tif to aws bucket ose-dev-inputs\n",
      "[2025-08-28 15:46:00 INFO] Deleted local file temp_data/OPENET_ENSEMBLE_010013_20240101_20240102_ET_MAX.tif\n",
      "[2025-08-28 15:46:00 INFO] Downloading file 10yw4nlOAjjqZTmE4PkbYd6GnZMn3OW1q to temp_data/OPENET_ENSEMBLE_010011_20240101_20240102_ET_MAX.tif\n",
      "[2025-08-28 15:46:05 INFO] Uploaded file OPENET_ENSEMBLE_010011_20240101_20240102_ET_MAX.tif to aws bucket ose-dev-inputs\n",
      "[2025-08-28 15:46:05 INFO] Deleted local file temp_data/OPENET_ENSEMBLE_010011_20240101_20240102_ET_MAX.tif\n",
      "[2025-08-28 15:46:05 INFO] Downloading file 1Cr8mBUxravNABKgQaEaqlb_kH4RTw-eZ to temp_data/OPENET_ENSEMBLE_010012_20240101_20240102_ET_MAX.tif\n",
      "[2025-08-28 15:46:11 INFO] Uploaded file OPENET_ENSEMBLE_010012_20240101_20240102_ET_MAX.tif to aws bucket ose-dev-inputs\n",
      "[2025-08-28 15:46:11 INFO] Deleted local file temp_data/OPENET_ENSEMBLE_010012_20240101_20240102_ET_MAX.tif\n",
      "[2025-08-28 15:46:11 INFO] Downloading file 13aFqHNQoxsWJdBeigVKFzl-R014A8gJR to temp_data/OPENET_ENSEMBLE_009015_20240101_20240102_ET_MAX.tif\n",
      "[2025-08-28 15:46:13 INFO] Uploaded file OPENET_ENSEMBLE_009015_20240101_20240102_ET_MAX.tif to aws bucket ose-dev-inputs\n",
      "[2025-08-28 15:46:13 INFO] Deleted local file temp_data/OPENET_ENSEMBLE_009015_20240101_20240102_ET_MAX.tif\n",
      "[2025-08-28 15:46:13 INFO] Downloading file 1X7zxKz7NmTtQq9jYAJkPOXhDPUomGxUy to temp_data/OPENET_ENSEMBLE_009014_20240101_20240102_ET_MAX.tif\n",
      "[2025-08-28 15:46:19 INFO] Uploaded file OPENET_ENSEMBLE_009014_20240101_20240102_ET_MAX.tif to aws bucket ose-dev-inputs\n",
      "[2025-08-28 15:46:19 INFO] Deleted local file temp_data/OPENET_ENSEMBLE_009014_20240101_20240102_ET_MAX.tif\n",
      "[2025-08-28 15:46:19 INFO] Downloading file 1U0mjWLjnskdvOk-XsPnrgRdHWdmicL72 to temp_data/OPENET_ENSEMBLE_009013_20240101_20240102_ET_MAX.tif\n",
      "[2025-08-28 15:46:25 INFO] Uploaded file OPENET_ENSEMBLE_009013_20240101_20240102_ET_MAX.tif to aws bucket ose-dev-inputs\n",
      "[2025-08-28 15:46:25 INFO] Deleted local file temp_data/OPENET_ENSEMBLE_009013_20240101_20240102_ET_MAX.tif\n",
      "[2025-08-28 15:46:25 INFO] Downloading file 1hMzfzJmBaDQ3tipKrrIUWvcB4xRujARC to temp_data/OPENET_ENSEMBLE_009012_20240101_20240102_ET_MAX.tif\n",
      "[2025-08-28 15:46:30 INFO] Uploaded file OPENET_ENSEMBLE_009012_20240101_20240102_ET_MAX.tif to aws bucket ose-dev-inputs\n",
      "[2025-08-28 15:46:30 INFO] Deleted local file temp_data/OPENET_ENSEMBLE_009012_20240101_20240102_ET_MAX.tif\n",
      "[2025-08-28 15:46:30 INFO] Downloading file 1pYgjyWKyEIAEjIK7NXoHcPG7-ZQM5dd- to temp_data/OPENET_ENSEMBLE_009011_20240101_20240102_ET_MAX.tif\n",
      "[2025-08-28 15:46:35 INFO] Uploaded file OPENET_ENSEMBLE_009011_20240101_20240102_ET_MAX.tif to aws bucket ose-dev-inputs\n",
      "[2025-08-28 15:46:35 INFO] Deleted local file temp_data/OPENET_ENSEMBLE_009011_20240101_20240102_ET_MAX.tif\n",
      "[2025-08-28 15:46:35 INFO] Downloading file 1cqhDBVwyKBF5HkJSyjAFy0lVh7ZZA2l8 to temp_data/OPENET_ENSEMBLE_012014_20240101_20240102_ET_MIN.tif\n",
      "[2025-08-28 15:46:39 INFO] Uploaded file OPENET_ENSEMBLE_012014_20240101_20240102_ET_MIN.tif to aws bucket ose-dev-inputs\n",
      "[2025-08-28 15:46:39 INFO] Deleted local file temp_data/OPENET_ENSEMBLE_012014_20240101_20240102_ET_MIN.tif\n",
      "[2025-08-28 15:46:39 INFO] Downloading file 1JYiv-8nR1wT7xiB89CBi_mzCT9OKjShf to temp_data/OPENET_ENSEMBLE_012015_20240101_20240102_ET_MIN.tif\n",
      "[2025-08-28 15:46:42 INFO] Uploaded file OPENET_ENSEMBLE_012015_20240101_20240102_ET_MIN.tif to aws bucket ose-dev-inputs\n",
      "[2025-08-28 15:46:42 INFO] Deleted local file temp_data/OPENET_ENSEMBLE_012015_20240101_20240102_ET_MIN.tif\n",
      "[2025-08-28 15:46:42 INFO] Downloading file 1ZiS6rWg-HYOCISbSDW0btTuVyhdXnsGp to temp_data/OPENET_ENSEMBLE_012013_20240101_20240102_ET_MIN.tif\n",
      "[2025-08-28 15:46:47 INFO] Uploaded file OPENET_ENSEMBLE_012013_20240101_20240102_ET_MIN.tif to aws bucket ose-dev-inputs\n",
      "[2025-08-28 15:46:47 INFO] Deleted local file temp_data/OPENET_ENSEMBLE_012013_20240101_20240102_ET_MIN.tif\n",
      "[2025-08-28 15:46:47 INFO] Downloading file 1bnzhD_LQ2e3Y5Be2OGpO3nMsPEoE_bJv to temp_data/OPENET_ENSEMBLE_012012_20240101_20240102_ET_MIN.tif\n",
      "[2025-08-28 15:46:50 INFO] Uploaded file OPENET_ENSEMBLE_012012_20240101_20240102_ET_MIN.tif to aws bucket ose-dev-inputs\n",
      "[2025-08-28 15:46:50 INFO] Deleted local file temp_data/OPENET_ENSEMBLE_012012_20240101_20240102_ET_MIN.tif\n",
      "[2025-08-28 15:46:50 INFO] Downloading file 1brD2x4QWqGUedGCg5KSXKRykOSObZhYw to temp_data/OPENET_ENSEMBLE_011015_20240101_20240102_ET_MIN.tif\n",
      "[2025-08-28 15:46:52 INFO] Uploaded file OPENET_ENSEMBLE_011015_20240101_20240102_ET_MIN.tif to aws bucket ose-dev-inputs\n",
      "[2025-08-28 15:46:52 INFO] Deleted local file temp_data/OPENET_ENSEMBLE_011015_20240101_20240102_ET_MIN.tif\n",
      "[2025-08-28 15:46:52 INFO] Downloading file 1b0vtG8DoYeuzj8mUqPf6TeIgZ6Vo3g_P to temp_data/OPENET_ENSEMBLE_012011_20240101_20240102_ET_MIN.tif\n",
      "[2025-08-28 15:46:56 INFO] Uploaded file OPENET_ENSEMBLE_012011_20240101_20240102_ET_MIN.tif to aws bucket ose-dev-inputs\n",
      "[2025-08-28 15:46:56 INFO] Deleted local file temp_data/OPENET_ENSEMBLE_012011_20240101_20240102_ET_MIN.tif\n",
      "[2025-08-28 15:46:56 INFO] Downloading file 1-2xSSKtmBE57_RVOr-5qlVSJuM_1QwuL to temp_data/OPENET_ENSEMBLE_011014_20240101_20240102_ET_MIN.tif\n",
      "[2025-08-28 15:47:16 INFO] Uploaded file OPENET_ENSEMBLE_011014_20240101_20240102_ET_MIN.tif to aws bucket ose-dev-inputs\n",
      "[2025-08-28 15:47:16 INFO] Deleted local file temp_data/OPENET_ENSEMBLE_011014_20240101_20240102_ET_MIN.tif\n",
      "[2025-08-28 15:47:16 INFO] Downloading file 1OWhb5xFF8DiVXIqDtMi4PSXoIGvVlTj7 to temp_data/OPENET_ENSEMBLE_011013_20240101_20240102_ET_MIN.tif\n",
      "[2025-08-28 15:47:20 INFO] Uploaded file OPENET_ENSEMBLE_011013_20240101_20240102_ET_MIN.tif to aws bucket ose-dev-inputs\n",
      "[2025-08-28 15:47:20 INFO] Deleted local file temp_data/OPENET_ENSEMBLE_011013_20240101_20240102_ET_MIN.tif\n",
      "[2025-08-28 15:47:20 INFO] Downloading file 1jbHWXwvBx03w11UzjWaR9WIZdTg5yk7e to temp_data/OPENET_ENSEMBLE_011011_20240101_20240102_ET_MIN.tif\n",
      "[2025-08-28 15:47:25 INFO] Uploaded file OPENET_ENSEMBLE_011011_20240101_20240102_ET_MIN.tif to aws bucket ose-dev-inputs\n",
      "[2025-08-28 15:47:25 INFO] Deleted local file temp_data/OPENET_ENSEMBLE_011011_20240101_20240102_ET_MIN.tif\n",
      "[2025-08-28 15:47:25 INFO] Downloading file 1KKe5ZYwS0Kvi4w5bCL7cjmKLmcx3XFkU to temp_data/OPENET_ENSEMBLE_011012_20240101_20240102_ET_MIN.tif\n",
      "[2025-08-28 15:47:28 INFO] Uploaded file OPENET_ENSEMBLE_011012_20240101_20240102_ET_MIN.tif to aws bucket ose-dev-inputs\n",
      "[2025-08-28 15:47:28 INFO] Deleted local file temp_data/OPENET_ENSEMBLE_011012_20240101_20240102_ET_MIN.tif\n",
      "[2025-08-28 15:47:28 INFO] Downloading file 1rIBbU-Hv1NbxUiAUTzCH-N487IPyi25m to temp_data/OPENET_ENSEMBLE_010015_20240101_20240102_ET_MIN.tif\n",
      "[2025-08-28 15:47:31 INFO] Uploaded file OPENET_ENSEMBLE_010015_20240101_20240102_ET_MIN.tif to aws bucket ose-dev-inputs\n",
      "[2025-08-28 15:47:31 INFO] Deleted local file temp_data/OPENET_ENSEMBLE_010015_20240101_20240102_ET_MIN.tif\n",
      "[2025-08-28 15:47:31 INFO] Downloading file 1hdCNHY32aeRUNqzVbdg6zPxighD0mDz_ to temp_data/OPENET_ENSEMBLE_010014_20240101_20240102_ET_MIN.tif\n",
      "[2025-08-28 15:47:39 INFO] Uploaded file OPENET_ENSEMBLE_010014_20240101_20240102_ET_MIN.tif to aws bucket ose-dev-inputs\n",
      "[2025-08-28 15:47:39 INFO] Deleted local file temp_data/OPENET_ENSEMBLE_010014_20240101_20240102_ET_MIN.tif\n",
      "[2025-08-28 15:47:39 INFO] Downloading file 1xzmqHrBxR_F8G6B6CX9Vw8k7KfOWUx4s to temp_data/OPENET_ENSEMBLE_010013_20240101_20240102_ET_MIN.tif\n",
      "[2025-08-28 15:47:45 INFO] Uploaded file OPENET_ENSEMBLE_010013_20240101_20240102_ET_MIN.tif to aws bucket ose-dev-inputs\n",
      "[2025-08-28 15:47:45 INFO] Deleted local file temp_data/OPENET_ENSEMBLE_010013_20240101_20240102_ET_MIN.tif\n",
      "[2025-08-28 15:47:45 INFO] Downloading file 1K4xj1EvYlzuyDSCA8Sb3KRmFlkO5aeGJ to temp_data/OPENET_ENSEMBLE_010011_20240101_20240102_ET_MIN.tif\n",
      "[2025-08-28 15:47:48 INFO] Uploaded file OPENET_ENSEMBLE_010011_20240101_20240102_ET_MIN.tif to aws bucket ose-dev-inputs\n",
      "[2025-08-28 15:47:48 INFO] Deleted local file temp_data/OPENET_ENSEMBLE_010011_20240101_20240102_ET_MIN.tif\n",
      "[2025-08-28 15:47:48 INFO] Downloading file 1HthrTXU6_z2s-pOchCvP_IeNJm6_Gvjk to temp_data/OPENET_ENSEMBLE_010012_20240101_20240102_ET_MIN.tif\n",
      "[2025-08-28 15:47:52 INFO] Uploaded file OPENET_ENSEMBLE_010012_20240101_20240102_ET_MIN.tif to aws bucket ose-dev-inputs\n",
      "[2025-08-28 15:47:52 INFO] Deleted local file temp_data/OPENET_ENSEMBLE_010012_20240101_20240102_ET_MIN.tif\n",
      "[2025-08-28 15:47:52 INFO] Downloading file 1mFfqPHLzB8nTcnRvEnDh9ZnXayTPRgzK to temp_data/OPENET_ENSEMBLE_009015_20240101_20240102_ET_MIN.tif\n",
      "[2025-08-28 15:47:54 INFO] Uploaded file OPENET_ENSEMBLE_009015_20240101_20240102_ET_MIN.tif to aws bucket ose-dev-inputs\n",
      "[2025-08-28 15:47:54 INFO] Deleted local file temp_data/OPENET_ENSEMBLE_009015_20240101_20240102_ET_MIN.tif\n",
      "[2025-08-28 15:47:54 INFO] Downloading file 1f_KgGojXf-OUgU-3Ff9eFBEbcPTIhLBx to temp_data/OPENET_ENSEMBLE_009014_20240101_20240102_ET_MIN.tif\n",
      "[2025-08-28 15:47:58 INFO] Uploaded file OPENET_ENSEMBLE_009014_20240101_20240102_ET_MIN.tif to aws bucket ose-dev-inputs\n",
      "[2025-08-28 15:47:58 INFO] Deleted local file temp_data/OPENET_ENSEMBLE_009014_20240101_20240102_ET_MIN.tif\n",
      "[2025-08-28 15:47:58 INFO] Downloading file 1yvg_35giqLu2uu48w64_cvy_qQPaDxY4 to temp_data/OPENET_ENSEMBLE_009012_20240101_20240102_ET_MIN.tif\n",
      "[2025-08-28 15:48:01 INFO] Uploaded file OPENET_ENSEMBLE_009012_20240101_20240102_ET_MIN.tif to aws bucket ose-dev-inputs\n",
      "[2025-08-28 15:48:01 INFO] Deleted local file temp_data/OPENET_ENSEMBLE_009012_20240101_20240102_ET_MIN.tif\n",
      "[2025-08-28 15:48:01 INFO] Downloading file 1fK4WzHaqR1Mqm8nbES1yPRolrBkiUo_4 to temp_data/OPENET_ENSEMBLE_009013_20240101_20240102_ET_MIN.tif\n",
      "[2025-08-28 15:48:10 INFO] Uploaded file OPENET_ENSEMBLE_009013_20240101_20240102_ET_MIN.tif to aws bucket ose-dev-inputs\n",
      "[2025-08-28 15:48:10 INFO] Deleted local file temp_data/OPENET_ENSEMBLE_009013_20240101_20240102_ET_MIN.tif\n",
      "[2025-08-28 15:48:10 INFO] Downloading file 1h9FMzYeM8wVHDj_i1bPBB5F4Baunnqdp to temp_data/OPENET_ENSEMBLE_009011_20240101_20240102_ET_MIN.tif\n",
      "[2025-08-28 15:48:25 INFO] Uploaded file OPENET_ENSEMBLE_009011_20240101_20240102_ET_MIN.tif to aws bucket ose-dev-inputs\n",
      "[2025-08-28 15:48:25 INFO] Deleted local file temp_data/OPENET_ENSEMBLE_009011_20240101_20240102_ET_MIN.tif\n",
      "[2025-08-28 15:48:25 INFO] Downloading file 1vw80tFWW7Qbhx6cmkVQwMAGqDUZql_2P to temp_data/OPENET_ENSEMBLE_012014_20240101_20240102_ET.tif\n",
      "[2025-08-28 15:48:30 INFO] Uploaded file OPENET_ENSEMBLE_012014_20240101_20240102_ET.tif to aws bucket ose-dev-inputs\n",
      "[2025-08-28 15:48:30 INFO] Deleted local file temp_data/OPENET_ENSEMBLE_012014_20240101_20240102_ET.tif\n",
      "[2025-08-28 15:48:30 INFO] Downloading file 1IjTacVoPhhcoCij_9OFC34iWpCA4JEHR to temp_data/OPENET_ENSEMBLE_012012_20240101_20240102_ET.tif\n",
      "[2025-08-28 15:48:35 INFO] Uploaded file OPENET_ENSEMBLE_012012_20240101_20240102_ET.tif to aws bucket ose-dev-inputs\n",
      "[2025-08-28 15:48:35 INFO] Deleted local file temp_data/OPENET_ENSEMBLE_012012_20240101_20240102_ET.tif\n",
      "[2025-08-28 15:48:35 INFO] Downloading file 1IJcgWZ8jGQMyHeafLjPeysha3QEuFCjV to temp_data/OPENET_ENSEMBLE_012015_20240101_20240102_ET.tif\n",
      "[2025-08-28 15:48:39 INFO] Uploaded file OPENET_ENSEMBLE_012015_20240101_20240102_ET.tif to aws bucket ose-dev-inputs\n",
      "[2025-08-28 15:48:39 INFO] Deleted local file temp_data/OPENET_ENSEMBLE_012015_20240101_20240102_ET.tif\n",
      "[2025-08-28 15:48:39 INFO] Downloading file 1XrGSjlh3kDssbSDzPelatT8HSFD_vEhn to temp_data/OPENET_ENSEMBLE_012013_20240101_20240102_ET.tif\n",
      "[2025-08-28 15:48:44 INFO] Uploaded file OPENET_ENSEMBLE_012013_20240101_20240102_ET.tif to aws bucket ose-dev-inputs\n",
      "[2025-08-28 15:48:44 INFO] Deleted local file temp_data/OPENET_ENSEMBLE_012013_20240101_20240102_ET.tif\n",
      "[2025-08-28 15:48:44 INFO] Downloading file 10M4NSVaIwJwK_Mq-aLG11pheAL5iWlRZ to temp_data/OPENET_ENSEMBLE_011014_20240101_20240102_ET.tif\n",
      "[2025-08-28 15:48:49 INFO] Uploaded file OPENET_ENSEMBLE_011014_20240101_20240102_ET.tif to aws bucket ose-dev-inputs\n",
      "[2025-08-28 15:48:49 INFO] Deleted local file temp_data/OPENET_ENSEMBLE_011014_20240101_20240102_ET.tif\n",
      "[2025-08-28 15:48:49 INFO] Downloading file 1gUN5D2VXsjGGdysO-oDftsEJwwiXlTha to temp_data/OPENET_ENSEMBLE_012011_20240101_20240102_ET.tif\n",
      "[2025-08-28 15:48:54 INFO] Uploaded file OPENET_ENSEMBLE_012011_20240101_20240102_ET.tif to aws bucket ose-dev-inputs\n",
      "[2025-08-28 15:48:54 INFO] Deleted local file temp_data/OPENET_ENSEMBLE_012011_20240101_20240102_ET.tif\n",
      "[2025-08-28 15:48:55 INFO] Downloading file 1fzzUfu6qh5JYBMAWQqmHhP-youtYWmkX to temp_data/OPENET_ENSEMBLE_011015_20240101_20240102_ET.tif\n",
      "[2025-08-28 15:48:57 INFO] Uploaded file OPENET_ENSEMBLE_011015_20240101_20240102_ET.tif to aws bucket ose-dev-inputs\n",
      "[2025-08-28 15:48:57 INFO] Deleted local file temp_data/OPENET_ENSEMBLE_011015_20240101_20240102_ET.tif\n",
      "[2025-08-28 15:48:57 INFO] Downloading file 1giLXf9YWEZn8z7QTqA_0-9uR7lJgphAt to temp_data/OPENET_ENSEMBLE_011013_20240101_20240102_ET.tif\n",
      "[2025-08-28 15:49:01 INFO] Uploaded file OPENET_ENSEMBLE_011013_20240101_20240102_ET.tif to aws bucket ose-dev-inputs\n",
      "[2025-08-28 15:49:01 INFO] Deleted local file temp_data/OPENET_ENSEMBLE_011013_20240101_20240102_ET.tif\n",
      "[2025-08-28 15:49:01 INFO] Downloading file 1W2hA5GexoFJxlNxX70bNHm2ZlFseqe9C to temp_data/OPENET_ENSEMBLE_011011_20240101_20240102_ET.tif\n",
      "[2025-08-28 15:49:05 INFO] Uploaded file OPENET_ENSEMBLE_011011_20240101_20240102_ET.tif to aws bucket ose-dev-inputs\n",
      "[2025-08-28 15:49:05 INFO] Deleted local file temp_data/OPENET_ENSEMBLE_011011_20240101_20240102_ET.tif\n",
      "[2025-08-28 15:49:05 INFO] Downloading file 1hl0Xh69F-T_chcNWR4wR8PhIamOVZVjB to temp_data/OPENET_ENSEMBLE_011012_20240101_20240102_ET.tif\n",
      "[2025-08-28 15:49:11 INFO] Uploaded file OPENET_ENSEMBLE_011012_20240101_20240102_ET.tif to aws bucket ose-dev-inputs\n",
      "[2025-08-28 15:49:11 INFO] Deleted local file temp_data/OPENET_ENSEMBLE_011012_20240101_20240102_ET.tif\n",
      "[2025-08-28 15:49:11 INFO] Downloading file 1qmcqsIYv1GxDfB1jWB6D-Iusy81Vz360 to temp_data/OPENET_ENSEMBLE_010015_20240101_20240102_ET.tif\n",
      "[2025-08-28 15:49:16 INFO] Uploaded file OPENET_ENSEMBLE_010015_20240101_20240102_ET.tif to aws bucket ose-dev-inputs\n",
      "[2025-08-28 15:49:16 INFO] Deleted local file temp_data/OPENET_ENSEMBLE_010015_20240101_20240102_ET.tif\n",
      "[2025-08-28 15:49:16 INFO] Downloading file 1HNwISKuPEc8eB5jgP6Tw2KuJHHrXhFJb to temp_data/OPENET_ENSEMBLE_010014_20240101_20240102_ET.tif\n",
      "[2025-08-28 15:49:20 INFO] Uploaded file OPENET_ENSEMBLE_010014_20240101_20240102_ET.tif to aws bucket ose-dev-inputs\n",
      "[2025-08-28 15:49:20 INFO] Deleted local file temp_data/OPENET_ENSEMBLE_010014_20240101_20240102_ET.tif\n",
      "[2025-08-28 15:49:20 INFO] Downloading file 1onAppOHEf2IQhqeBWRb2b9p5vgNPfU0r to temp_data/OPENET_ENSEMBLE_010012_20240101_20240102_ET.tif\n",
      "[2025-08-28 15:49:24 INFO] Uploaded file OPENET_ENSEMBLE_010012_20240101_20240102_ET.tif to aws bucket ose-dev-inputs\n",
      "[2025-08-28 15:49:24 INFO] Deleted local file temp_data/OPENET_ENSEMBLE_010012_20240101_20240102_ET.tif\n",
      "[2025-08-28 15:49:24 INFO] Downloading file 1exR4syqXmttJDBs9so5P8AZQb0Murd3k to temp_data/OPENET_ENSEMBLE_010011_20240101_20240102_ET.tif\n",
      "[2025-08-28 15:49:30 INFO] Uploaded file OPENET_ENSEMBLE_010011_20240101_20240102_ET.tif to aws bucket ose-dev-inputs\n",
      "[2025-08-28 15:49:30 INFO] Deleted local file temp_data/OPENET_ENSEMBLE_010011_20240101_20240102_ET.tif\n",
      "[2025-08-28 15:49:30 INFO] Downloading file 1FS6z3iuMWb67yfCTHQYEeZCFc2V1E2Vd to temp_data/OPENET_ENSEMBLE_010013_20240101_20240102_ET.tif\n",
      "[2025-08-28 15:49:34 INFO] Uploaded file OPENET_ENSEMBLE_010013_20240101_20240102_ET.tif to aws bucket ose-dev-inputs\n",
      "[2025-08-28 15:49:34 INFO] Deleted local file temp_data/OPENET_ENSEMBLE_010013_20240101_20240102_ET.tif\n",
      "[2025-08-28 15:49:34 INFO] Downloading file 10Fx7_qE1rVA8SCrreB98AvdUg-JY6fq- to temp_data/OPENET_ENSEMBLE_009015_20240101_20240102_ET.tif\n",
      "[2025-08-28 15:49:36 INFO] Uploaded file OPENET_ENSEMBLE_009015_20240101_20240102_ET.tif to aws bucket ose-dev-inputs\n",
      "[2025-08-28 15:49:36 INFO] Deleted local file temp_data/OPENET_ENSEMBLE_009015_20240101_20240102_ET.tif\n",
      "[2025-08-28 15:49:36 INFO] Downloading file 1zM9B_DfcU4myd7MOenGxpXajTS4air_S to temp_data/OPENET_ENSEMBLE_009012_20240101_20240102_ET.tif\n",
      "[2025-08-28 15:49:40 INFO] Uploaded file OPENET_ENSEMBLE_009012_20240101_20240102_ET.tif to aws bucket ose-dev-inputs\n",
      "[2025-08-28 15:49:40 INFO] Deleted local file temp_data/OPENET_ENSEMBLE_009012_20240101_20240102_ET.tif\n",
      "[2025-08-28 15:49:40 INFO] Downloading file 1U-vfcpSej3-th6egf4KhsQh2Z_TKAxJV to temp_data/OPENET_ENSEMBLE_009011_20240101_20240102_ET.tif\n",
      "[2025-08-28 15:49:46 INFO] Uploaded file OPENET_ENSEMBLE_009011_20240101_20240102_ET.tif to aws bucket ose-dev-inputs\n",
      "[2025-08-28 15:49:46 INFO] Deleted local file temp_data/OPENET_ENSEMBLE_009011_20240101_20240102_ET.tif\n",
      "[2025-08-28 15:49:46 INFO] Downloading file 1qaGzkg4_wEUbx40_CCJsWzkWF0KYsgBH to temp_data/OPENET_ENSEMBLE_009013_20240101_20240102_ET.tif\n",
      "[2025-08-28 15:49:50 INFO] Uploaded file OPENET_ENSEMBLE_009013_20240101_20240102_ET.tif to aws bucket ose-dev-inputs\n",
      "[2025-08-28 15:49:50 INFO] Deleted local file temp_data/OPENET_ENSEMBLE_009013_20240101_20240102_ET.tif\n",
      "[2025-08-28 15:49:50 INFO] Downloading file 1RiGHzmNaqlSghMibtoP7MlbJjuFU1uGq to temp_data/OPENET_ENSEMBLE_009014_20240101_20240102_ET.tif\n",
      "[2025-08-28 15:49:56 INFO] Uploaded file OPENET_ENSEMBLE_009014_20240101_20240102_ET.tif to aws bucket ose-dev-inputs\n",
      "[2025-08-28 15:49:56 INFO] Deleted local file temp_data/OPENET_ENSEMBLE_009014_20240101_20240102_ET.tif\n",
      "[2025-08-28 15:49:56 INFO] Transferred 470 files from gdrive folder OPENET_EXPORTS to aws bucket ose-dev-inputs\n"
     ]
    }
   ],
   "source": [
    "# Initiate transfer of data from Google Drive to AWS\n",
    "pipeline.transfer_gdrive_to_aws(delete_from_local=True)\n",
    "# gridmet_pipeline.transfer_gdrive_to_aws(delete_from_local=True)\n",
    "# prism_pipeline.upload_local_folder_to_aws()"
   ]
  },
  {
   "cell_type": "code",
   "execution_count": 1,
   "metadata": {},
   "outputs": [
    {
     "ename": "NameError",
     "evalue": "name 'S3ManifestTracker' is not defined",
     "output_type": "error",
     "traceback": [
      "\u001b[0;31m---------------------------------------------------------------------------\u001b[0m",
      "\u001b[0;31mNameError\u001b[0m                                 Traceback (most recent call last)",
      "Cell \u001b[0;32mIn[1], line 1\u001b[0m\n\u001b[0;32m----> 1\u001b[0m tracker \u001b[38;5;241m=\u001b[39m \u001b[43mS3ManifestTracker\u001b[49m(\n\u001b[1;32m      2\u001b[0m     config_path\u001b[38;5;241m=\u001b[39m\u001b[38;5;124m\"\u001b[39m\u001b[38;5;124m../variables.yaml\u001b[39m\u001b[38;5;124m\"\u001b[39m,\n\u001b[1;32m      3\u001b[0m     bucket_name\u001b[38;5;241m=\u001b[39m\u001b[38;5;124m\"\u001b[39m\u001b[38;5;124mose-dev-inputs\u001b[39m\u001b[38;5;124m\"\u001b[39m,\n\u001b[1;32m      4\u001b[0m     output_path\u001b[38;5;241m=\u001b[39m\u001b[38;5;124m\"\u001b[39m\u001b[38;5;124mS3_filenames_dynamic.csv\u001b[39m\u001b[38;5;124m\"\u001b[39m,\n\u001b[1;32m      5\u001b[0m     profile_name\u001b[38;5;241m=\u001b[39m\u001b[38;5;124m\"\u001b[39m\u001b[38;5;124mose-nmw\u001b[39m\u001b[38;5;124m\"\u001b[39m,\n\u001b[1;32m      6\u001b[0m )\n\u001b[1;32m      8\u001b[0m tracker\u001b[38;5;241m.\u001b[39mupdate_manifest(output_path\u001b[38;5;241m=\u001b[39m\u001b[38;5;124m\"\u001b[39m\u001b[38;5;124m../water_rights_visualizer/S3_filenames.csv\u001b[39m\u001b[38;5;124m\"\u001b[39m)\n\u001b[1;32m     10\u001b[0m \u001b[38;5;66;03m# Final Step: Update client/src/utils/constants.tsx\u001b[39;00m\n\u001b[1;32m     11\u001b[0m \u001b[38;5;66;03m# Update DATA_END_YEAR to 2024\u001b[39;00m\n",
      "\u001b[0;31mNameError\u001b[0m: name 'S3ManifestTracker' is not defined"
     ]
    }
   ],
   "source": [
    "tracker = S3ManifestTracker(\n",
    "    config_path=\"../variables.yaml\",\n",
    "    bucket_name=\"ose-dev-inputs\",\n",
    "    output_path=\"S3_filenames_dynamic.csv\",\n",
    "    profile_name=\"ose-nmw\",\n",
    ")\n",
    "\n",
    "tracker.update_manifest(output_path=\"../water_rights_visualizer/S3_filenames.csv\")\n",
    "\n",
    "# Final Step: Update client/src/utils/constants.tsx\n",
    "# Update DATA_END_YEAR to 2024"
   ]
  },
  {
   "cell_type": "code",
   "execution_count": 23,
   "metadata": {},
   "outputs": [
    {
     "data": {
      "text/html": [
       "\n",
       "            <style>\n",
       "                .geemap-dark {\n",
       "                    --jp-widgets-color: white;\n",
       "                    --jp-widgets-label-color: white;\n",
       "                    --jp-ui-font-color1: white;\n",
       "                    --jp-layout-color2: #454545;\n",
       "                    background-color: #383838;\n",
       "                }\n",
       "\n",
       "                .geemap-dark .jupyter-button {\n",
       "                    --jp-layout-color3: #383838;\n",
       "                }\n",
       "\n",
       "                .geemap-colab {\n",
       "                    background-color: var(--colab-primary-surface-color, white);\n",
       "                }\n",
       "\n",
       "                .geemap-colab .jupyter-button {\n",
       "                    --jp-layout-color3: var(--colab-primary-surface-color, white);\n",
       "                }\n",
       "            </style>\n",
       "            "
      ],
      "text/plain": [
       "<IPython.core.display.HTML object>"
      ]
     },
     "metadata": {},
     "output_type": "display_data"
    },
    {
     "name": "stdout",
     "output_type": "stream",
     "text": [
      "[2025-07-22 11:13:00 INFO] Found credentials in shared credentials file: ~/.aws/credentials\n",
      "[2025-07-22 11:13:00 INFO] Processing NetCDF file: temp_data/pet_2024.nc\n",
      "[2025-07-22 11:13:00 INFO] Original dataset time dimension size: 366\n",
      "[2025-07-22 11:13:00 INFO] Date range: 2024-01-01T00:00:00.000000000 to 2024-12-31T00:00:00.000000000\n",
      "[2025-07-22 11:13:00 INFO] Total days in dataset: 366\n",
      "[2025-07-22 11:13:00 INFO] Original data shape: (366, 585, 1386)\n",
      "[2025-07-22 11:13:00 INFO] Original data date range: 2024-01-01T00:00:00.000000000 to 2024-12-31T00:00:00.000000000\n",
      "[2025-07-22 11:13:03 INFO] After monthly resampling, time dimension size: 12\n",
      "[2025-07-22 11:13:03 INFO] Processing month 1 (2024-01)\n",
      "[2025-07-22 11:13:03 INFO] Month 1: Found 31 days\n",
      "[2025-07-22 11:13:03 INFO] Month 1: First day: 2024-01-01T00:00:00.000000000\n",
      "[2025-07-22 11:13:03 INFO] Month 1: Last day: 2024-01-31T00:00:00.000000000\n",
      "[2025-07-22 11:13:03 INFO] Month 1: Output file already exists, skipping\n",
      "[2025-07-22 11:13:03 INFO] Processing month 2 (2024-02)\n",
      "[2025-07-22 11:13:03 INFO] Month 2: Found 29 days\n",
      "[2025-07-22 11:13:03 INFO] Month 2: First day: 2024-02-01T00:00:00.000000000\n",
      "[2025-07-22 11:13:03 INFO] Month 2: Last day: 2024-02-29T00:00:00.000000000\n",
      "[2025-07-22 11:13:03 INFO] Month 2: Output file already exists, skipping\n",
      "[2025-07-22 11:13:03 INFO] Processing month 3 (2024-03)\n",
      "[2025-07-22 11:13:03 INFO] Month 3: Found 31 days\n",
      "[2025-07-22 11:13:03 INFO] Month 3: First day: 2024-03-01T00:00:00.000000000\n",
      "[2025-07-22 11:13:03 INFO] Month 3: Last day: 2024-03-31T00:00:00.000000000\n",
      "[2025-07-22 11:13:03 INFO] Month 3: Output file already exists, skipping\n",
      "[2025-07-22 11:13:03 INFO] Processing month 4 (2024-04)\n",
      "[2025-07-22 11:13:04 INFO] Month 4: Found 30 days\n",
      "[2025-07-22 11:13:04 INFO] Month 4: First day: 2024-04-01T00:00:00.000000000\n",
      "[2025-07-22 11:13:04 INFO] Month 4: Last day: 2024-04-30T00:00:00.000000000\n",
      "[2025-07-22 11:13:04 INFO] Month 4: Output file already exists, skipping\n",
      "[2025-07-22 11:13:04 INFO] Processing month 5 (2024-05)\n",
      "[2025-07-22 11:13:04 INFO] Month 5: Found 31 days\n",
      "[2025-07-22 11:13:04 INFO] Month 5: First day: 2024-05-01T00:00:00.000000000\n",
      "[2025-07-22 11:13:04 INFO] Month 5: Last day: 2024-05-31T00:00:00.000000000\n",
      "[2025-07-22 11:13:04 INFO] Month 5: Output file already exists, skipping\n",
      "[2025-07-22 11:13:04 INFO] Processing month 6 (2024-06)\n",
      "[2025-07-22 11:13:04 INFO] Month 6: Found 30 days\n",
      "[2025-07-22 11:13:04 INFO] Month 6: First day: 2024-06-01T00:00:00.000000000\n",
      "[2025-07-22 11:13:04 INFO] Month 6: Last day: 2024-06-30T00:00:00.000000000\n",
      "[2025-07-22 11:13:04 INFO] Month 6: Output file already exists, skipping\n",
      "[2025-07-22 11:13:04 INFO] Processing month 7 (2024-07)\n",
      "[2025-07-22 11:13:04 INFO] Month 7: Found 31 days\n",
      "[2025-07-22 11:13:04 INFO] Month 7: First day: 2024-07-01T00:00:00.000000000\n",
      "[2025-07-22 11:13:04 INFO] Month 7: Last day: 2024-07-31T00:00:00.000000000\n",
      "[2025-07-22 11:13:04 INFO] Month 7: Output file already exists, skipping\n",
      "[2025-07-22 11:13:04 INFO] Processing month 8 (2024-08)\n",
      "[2025-07-22 11:13:05 INFO] Month 8: Found 31 days\n",
      "[2025-07-22 11:13:05 INFO] Month 8: First day: 2024-08-01T00:00:00.000000000\n",
      "[2025-07-22 11:13:05 INFO] Month 8: Last day: 2024-08-31T00:00:00.000000000\n",
      "[2025-07-22 11:13:05 INFO] Month 8: Output file already exists, skipping\n",
      "[2025-07-22 11:13:05 INFO] Processing month 9 (2024-09)\n",
      "[2025-07-22 11:13:05 INFO] Month 9: Found 30 days\n",
      "[2025-07-22 11:13:05 INFO] Month 9: First day: 2024-09-01T00:00:00.000000000\n",
      "[2025-07-22 11:13:05 INFO] Month 9: Last day: 2024-09-30T00:00:00.000000000\n",
      "[2025-07-22 11:13:05 INFO] Month 9: Output file already exists, skipping\n",
      "[2025-07-22 11:13:05 INFO] Processing month 10 (2024-10)\n",
      "[2025-07-22 11:13:05 INFO] Month 10: Found 31 days\n",
      "[2025-07-22 11:13:05 INFO] Month 10: First day: 2024-10-01T00:00:00.000000000\n",
      "[2025-07-22 11:13:05 INFO] Month 10: Last day: 2024-10-31T00:00:00.000000000\n",
      "[2025-07-22 11:13:05 INFO] Month 10: Output file already exists, skipping\n",
      "[2025-07-22 11:13:05 INFO] Processing month 11 (2024-11)\n",
      "[2025-07-22 11:13:05 INFO] Month 11: Found 30 days\n",
      "[2025-07-22 11:13:05 INFO] Month 11: First day: 2024-11-01T00:00:00.000000000\n",
      "[2025-07-22 11:13:05 INFO] Month 11: Last day: 2024-11-30T00:00:00.000000000\n",
      "[2025-07-22 11:13:05 INFO] Month 11: Output file already exists, skipping\n",
      "[2025-07-22 11:13:05 INFO] Processing month 12 (2024-12)\n",
      "[2025-07-22 11:13:05 INFO] Month 12: Found 31 days\n",
      "[2025-07-22 11:13:05 INFO] Month 12: First day: 2024-12-01T00:00:00.000000000\n",
      "[2025-07-22 11:13:05 INFO] Month 12: Last day: 2024-12-31T00:00:00.000000000\n",
      "[2025-07-22 11:13:05 INFO] Month 12: Output file already exists, skipping\n"
     ]
    },
    {
     "name": "stderr",
     "output_type": "stream",
     "text": [
      "Uploading IDAHO_EPSCOR_GRIDMET_009012_20240401_20240501_ETO.tif:   0%|          | 0/241 [00:00<?, ?it/s]"
     ]
    },
    {
     "name": "stdout",
     "output_type": "stream",
     "text": [
      "[2025-07-22 11:18:30 INFO] Uploaded file IDAHO_EPSCOR_GRIDMET_009012_20240401_20240501_ETO.tif to aws bucket ose-dev-inputs\n",
      "[2025-07-22 11:18:30 INFO] Deleted local file IDAHO_EPSCOR_GRIDMET_009012_20240401_20240501_ETO.tif\n"
     ]
    },
    {
     "name": "stderr",
     "output_type": "stream",
     "text": [
      "Uploading IDAHO_EPSCOR_GRIDMET_010011_20241201_20250101_ETO.tif:   0%|          | 1/241 [00:06<26:04,  6.52s/it]"
     ]
    },
    {
     "name": "stdout",
     "output_type": "stream",
     "text": [
      "[2025-07-22 11:18:36 INFO] Uploaded file IDAHO_EPSCOR_GRIDMET_010011_20241201_20250101_ETO.tif to aws bucket ose-dev-inputs\n",
      "[2025-07-22 11:18:36 INFO] Deleted local file IDAHO_EPSCOR_GRIDMET_010011_20241201_20250101_ETO.tif\n"
     ]
    },
    {
     "name": "stderr",
     "output_type": "stream",
     "text": [
      "Uploading IDAHO_EPSCOR_GRIDMET_010013_20240501_20240601_ETO.tif:   1%|          | 2/241 [00:12<25:44,  6.46s/it]"
     ]
    },
    {
     "name": "stdout",
     "output_type": "stream",
     "text": [
      "[2025-07-22 11:18:43 INFO] Uploaded file IDAHO_EPSCOR_GRIDMET_010013_20240501_20240601_ETO.tif to aws bucket ose-dev-inputs\n",
      "[2025-07-22 11:18:43 INFO] Deleted local file IDAHO_EPSCOR_GRIDMET_010013_20240501_20240601_ETO.tif\n"
     ]
    },
    {
     "name": "stderr",
     "output_type": "stream",
     "text": [
      "Uploading IDAHO_EPSCOR_GRIDMET_012011_20240801_20240901_ETO.tif:   1%|          | 3/241 [00:19<25:59,  6.55s/it]"
     ]
    },
    {
     "name": "stdout",
     "output_type": "stream",
     "text": [
      "[2025-07-22 11:18:49 INFO] Uploaded file IDAHO_EPSCOR_GRIDMET_012011_20240801_20240901_ETO.tif to aws bucket ose-dev-inputs\n",
      "[2025-07-22 11:18:49 INFO] Deleted local file IDAHO_EPSCOR_GRIDMET_012011_20240801_20240901_ETO.tif\n"
     ]
    },
    {
     "name": "stderr",
     "output_type": "stream",
     "text": [
      "Uploading IDAHO_EPSCOR_GRIDMET_009011_20240801_20240901_ETO.tif:   2%|▏         | 4/241 [00:26<25:47,  6.53s/it]"
     ]
    },
    {
     "name": "stdout",
     "output_type": "stream",
     "text": [
      "[2025-07-22 11:18:56 INFO] Uploaded file IDAHO_EPSCOR_GRIDMET_009011_20240801_20240901_ETO.tif to aws bucket ose-dev-inputs\n",
      "[2025-07-22 11:18:56 INFO] Deleted local file IDAHO_EPSCOR_GRIDMET_009011_20240801_20240901_ETO.tif\n"
     ]
    },
    {
     "name": "stderr",
     "output_type": "stream",
     "text": [
      "Uploading IDAHO_EPSCOR_GRIDMET_010013_20240101_20240201_ETO.tif:   2%|▏         | 5/241 [00:32<25:57,  6.60s/it]"
     ]
    },
    {
     "name": "stdout",
     "output_type": "stream",
     "text": [
      "[2025-07-22 11:19:02 INFO] Uploaded file IDAHO_EPSCOR_GRIDMET_010013_20240101_20240201_ETO.tif to aws bucket ose-dev-inputs\n",
      "[2025-07-22 11:19:02 INFO] Deleted local file IDAHO_EPSCOR_GRIDMET_010013_20240101_20240201_ETO.tif\n"
     ]
    },
    {
     "name": "stderr",
     "output_type": "stream",
     "text": [
      "Uploading IDAHO_EPSCOR_GRIDMET_010012_20240301_20240401_ETO.tif:   2%|▏         | 6/241 [00:39<25:25,  6.49s/it]"
     ]
    },
    {
     "name": "stdout",
     "output_type": "stream",
     "text": [
      "[2025-07-22 11:19:08 INFO] Uploaded file IDAHO_EPSCOR_GRIDMET_010012_20240301_20240401_ETO.tif to aws bucket ose-dev-inputs\n",
      "[2025-07-22 11:19:08 INFO] Deleted local file IDAHO_EPSCOR_GRIDMET_010012_20240301_20240401_ETO.tif\n"
     ]
    },
    {
     "name": "stderr",
     "output_type": "stream",
     "text": [
      "Uploading IDAHO_EPSCOR_GRIDMET_011011_20241101_20241201_ETO.tif:   3%|▎         | 7/241 [00:45<24:37,  6.31s/it]"
     ]
    },
    {
     "name": "stdout",
     "output_type": "stream",
     "text": [
      "[2025-07-22 11:19:15 INFO] Uploaded file IDAHO_EPSCOR_GRIDMET_011011_20241101_20241201_ETO.tif to aws bucket ose-dev-inputs\n",
      "[2025-07-22 11:19:15 INFO] Deleted local file IDAHO_EPSCOR_GRIDMET_011011_20241101_20241201_ETO.tif\n"
     ]
    },
    {
     "name": "stderr",
     "output_type": "stream",
     "text": [
      "Uploading IDAHO_EPSCOR_GRIDMET_012012_20240401_20240501_ETO.tif:   3%|▎         | 8/241 [00:51<24:59,  6.43s/it]"
     ]
    },
    {
     "name": "stdout",
     "output_type": "stream",
     "text": [
      "[2025-07-22 11:19:22 INFO] Uploaded file IDAHO_EPSCOR_GRIDMET_012012_20240401_20240501_ETO.tif to aws bucket ose-dev-inputs\n",
      "[2025-07-22 11:19:22 INFO] Deleted local file IDAHO_EPSCOR_GRIDMET_012012_20240401_20240501_ETO.tif\n"
     ]
    },
    {
     "name": "stderr",
     "output_type": "stream",
     "text": [
      "Uploading IDAHO_EPSCOR_GRIDMET_010013_20240701_20240801_ETO.tif:   4%|▎         | 9/241 [00:58<25:09,  6.50s/it]"
     ]
    },
    {
     "name": "stdout",
     "output_type": "stream",
     "text": [
      "[2025-07-22 11:19:28 INFO] Uploaded file IDAHO_EPSCOR_GRIDMET_010013_20240701_20240801_ETO.tif to aws bucket ose-dev-inputs\n",
      "[2025-07-22 11:19:28 INFO] Deleted local file IDAHO_EPSCOR_GRIDMET_010013_20240701_20240801_ETO.tif\n"
     ]
    },
    {
     "name": "stderr",
     "output_type": "stream",
     "text": [
      "Uploading IDAHO_EPSCOR_GRIDMET_011015_20240401_20240501_ETO.tif:   4%|▍         | 10/241 [01:04<24:42,  6.42s/it]"
     ]
    },
    {
     "name": "stdout",
     "output_type": "stream",
     "text": [
      "[2025-07-22 11:19:34 INFO] Uploaded file IDAHO_EPSCOR_GRIDMET_011015_20240401_20240501_ETO.tif to aws bucket ose-dev-inputs\n",
      "[2025-07-22 11:19:34 INFO] Deleted local file IDAHO_EPSCOR_GRIDMET_011015_20240401_20240501_ETO.tif\n"
     ]
    },
    {
     "name": "stderr",
     "output_type": "stream",
     "text": [
      "Uploading IDAHO_EPSCOR_GRIDMET_011012_20240101_20240201_ETO.tif:   5%|▍         | 11/241 [01:10<24:19,  6.35s/it]"
     ]
    },
    {
     "name": "stdout",
     "output_type": "stream",
     "text": [
      "[2025-07-22 11:19:41 INFO] Uploaded file IDAHO_EPSCOR_GRIDMET_011012_20240101_20240201_ETO.tif to aws bucket ose-dev-inputs\n",
      "[2025-07-22 11:19:41 INFO] Deleted local file IDAHO_EPSCOR_GRIDMET_011012_20240101_20240201_ETO.tif\n"
     ]
    },
    {
     "name": "stderr",
     "output_type": "stream",
     "text": [
      "Uploading IDAHO_EPSCOR_GRIDMET_009011_20241001_20241101_ETO.tif:   5%|▍         | 12/241 [01:17<24:52,  6.52s/it]"
     ]
    },
    {
     "name": "stdout",
     "output_type": "stream",
     "text": [
      "[2025-07-22 11:19:49 INFO] Uploaded file IDAHO_EPSCOR_GRIDMET_009011_20241001_20241101_ETO.tif to aws bucket ose-dev-inputs\n",
      "[2025-07-22 11:19:49 INFO] Deleted local file IDAHO_EPSCOR_GRIDMET_009011_20241001_20241101_ETO.tif\n"
     ]
    },
    {
     "name": "stderr",
     "output_type": "stream",
     "text": [
      "Uploading IDAHO_EPSCOR_GRIDMET_011013_20240301_20240401_ETO.tif:   5%|▌         | 13/241 [01:25<26:04,  6.86s/it]"
     ]
    },
    {
     "name": "stdout",
     "output_type": "stream",
     "text": [
      "[2025-07-22 11:19:55 INFO] Uploaded file IDAHO_EPSCOR_GRIDMET_011013_20240301_20240401_ETO.tif to aws bucket ose-dev-inputs\n",
      "[2025-07-22 11:19:55 INFO] Deleted local file IDAHO_EPSCOR_GRIDMET_011013_20240301_20240401_ETO.tif\n"
     ]
    },
    {
     "name": "stderr",
     "output_type": "stream",
     "text": [
      "Uploading IDAHO_EPSCOR_GRIDMET_012015_20240701_20240801_ETO.tif:   6%|▌         | 14/241 [01:31<24:56,  6.59s/it]"
     ]
    },
    {
     "name": "stdout",
     "output_type": "stream",
     "text": [
      "[2025-07-22 11:20:02 INFO] Uploaded file IDAHO_EPSCOR_GRIDMET_012015_20240701_20240801_ETO.tif to aws bucket ose-dev-inputs\n",
      "[2025-07-22 11:20:02 INFO] Deleted local file IDAHO_EPSCOR_GRIDMET_012015_20240701_20240801_ETO.tif\n"
     ]
    },
    {
     "name": "stderr",
     "output_type": "stream",
     "text": [
      "Uploading IDAHO_EPSCOR_GRIDMET_009015_20240701_20240801_ETO.tif:   6%|▌         | 15/241 [01:38<25:23,  6.74s/it]"
     ]
    },
    {
     "name": "stdout",
     "output_type": "stream",
     "text": [
      "[2025-07-22 11:20:08 INFO] Uploaded file IDAHO_EPSCOR_GRIDMET_009015_20240701_20240801_ETO.tif to aws bucket ose-dev-inputs\n",
      "[2025-07-22 11:20:08 INFO] Deleted local file IDAHO_EPSCOR_GRIDMET_009015_20240701_20240801_ETO.tif\n"
     ]
    },
    {
     "name": "stderr",
     "output_type": "stream",
     "text": [
      "Uploading IDAHO_EPSCOR_GRIDMET_011012_20240501_20240601_ETO.tif:   7%|▋         | 16/241 [01:44<24:53,  6.64s/it]"
     ]
    },
    {
     "name": "stdout",
     "output_type": "stream",
     "text": [
      "[2025-07-22 11:20:14 INFO] Uploaded file IDAHO_EPSCOR_GRIDMET_011012_20240501_20240601_ETO.tif to aws bucket ose-dev-inputs\n",
      "[2025-07-22 11:20:14 INFO] Deleted local file IDAHO_EPSCOR_GRIDMET_011012_20240501_20240601_ETO.tif\n"
     ]
    },
    {
     "name": "stderr",
     "output_type": "stream",
     "text": [
      "Uploading IDAHO_EPSCOR_GRIDMET_012011_20241001_20241101_ETO.tif:   7%|▋         | 17/241 [01:50<24:02,  6.44s/it]"
     ]
    },
    {
     "name": "stdout",
     "output_type": "stream",
     "text": [
      "[2025-07-22 11:20:20 INFO] Uploaded file IDAHO_EPSCOR_GRIDMET_012011_20241001_20241101_ETO.tif to aws bucket ose-dev-inputs\n",
      "[2025-07-22 11:20:20 INFO] Deleted local file IDAHO_EPSCOR_GRIDMET_012011_20241001_20241101_ETO.tif\n"
     ]
    },
    {
     "name": "stderr",
     "output_type": "stream",
     "text": [
      "Uploading IDAHO_EPSCOR_GRIDMET_012014_20240301_20240401_ETO.tif:   7%|▋         | 18/241 [01:56<23:34,  6.34s/it]"
     ]
    },
    {
     "name": "stdout",
     "output_type": "stream",
     "text": [
      "[2025-07-22 11:20:26 INFO] Uploaded file IDAHO_EPSCOR_GRIDMET_012014_20240301_20240401_ETO.tif to aws bucket ose-dev-inputs\n",
      "[2025-07-22 11:20:26 INFO] Deleted local file IDAHO_EPSCOR_GRIDMET_012014_20240301_20240401_ETO.tif\n"
     ]
    },
    {
     "name": "stderr",
     "output_type": "stream",
     "text": [
      "Uploading IDAHO_EPSCOR_GRIDMET_012015_20240101_20240201_ETO.tif:   8%|▊         | 19/241 [02:02<23:00,  6.22s/it]"
     ]
    },
    {
     "name": "stdout",
     "output_type": "stream",
     "text": [
      "[2025-07-22 11:20:32 INFO] Uploaded file IDAHO_EPSCOR_GRIDMET_012015_20240101_20240201_ETO.tif to aws bucket ose-dev-inputs\n",
      "[2025-07-22 11:20:32 INFO] Deleted local file IDAHO_EPSCOR_GRIDMET_012015_20240101_20240201_ETO.tif\n"
     ]
    },
    {
     "name": "stderr",
     "output_type": "stream",
     "text": [
      "Uploading IDAHO_EPSCOR_GRIDMET_011012_20240701_20240801_ETO.tif:   8%|▊         | 20/241 [02:08<22:23,  6.08s/it]"
     ]
    },
    {
     "name": "stdout",
     "output_type": "stream",
     "text": [
      "[2025-07-22 11:20:38 INFO] Uploaded file IDAHO_EPSCOR_GRIDMET_011012_20240701_20240801_ETO.tif to aws bucket ose-dev-inputs\n",
      "[2025-07-22 11:20:38 INFO] Deleted local file IDAHO_EPSCOR_GRIDMET_011012_20240701_20240801_ETO.tif\n"
     ]
    },
    {
     "name": "stderr",
     "output_type": "stream",
     "text": [
      "Uploading IDAHO_EPSCOR_GRIDMET_010014_20240401_20240501_ETO.tif:   9%|▊         | 21/241 [02:15<22:38,  6.18s/it]"
     ]
    },
    {
     "name": "stdout",
     "output_type": "stream",
     "text": [
      "[2025-07-22 11:20:44 INFO] Uploaded file IDAHO_EPSCOR_GRIDMET_010014_20240401_20240501_ETO.tif to aws bucket ose-dev-inputs\n",
      "[2025-07-22 11:20:45 INFO] Deleted local file IDAHO_EPSCOR_GRIDMET_010014_20240401_20240501_ETO.tif\n"
     ]
    },
    {
     "name": "stderr",
     "output_type": "stream",
     "text": [
      "Uploading IDAHO_EPSCOR_GRIDMET_009015_20240501_20240601_ETO.tif:   9%|▉         | 22/241 [02:21<22:29,  6.16s/it]"
     ]
    },
    {
     "name": "stdout",
     "output_type": "stream",
     "text": [
      "[2025-07-22 11:20:51 INFO] Uploaded file IDAHO_EPSCOR_GRIDMET_009015_20240501_20240601_ETO.tif to aws bucket ose-dev-inputs\n",
      "[2025-07-22 11:20:51 INFO] Deleted local file IDAHO_EPSCOR_GRIDMET_009015_20240501_20240601_ETO.tif\n"
     ]
    },
    {
     "name": "stderr",
     "output_type": "stream",
     "text": [
      "Uploading IDAHO_EPSCOR_GRIDMET_012015_20240501_20240601_ETO.tif:  10%|▉         | 23/241 [02:27<22:19,  6.14s/it]"
     ]
    },
    {
     "name": "stdout",
     "output_type": "stream",
     "text": [
      "[2025-07-22 11:20:56 INFO] Uploaded file IDAHO_EPSCOR_GRIDMET_012015_20240501_20240601_ETO.tif to aws bucket ose-dev-inputs\n",
      "[2025-07-22 11:20:56 INFO] Deleted local file IDAHO_EPSCOR_GRIDMET_012015_20240501_20240601_ETO.tif\n"
     ]
    },
    {
     "name": "stderr",
     "output_type": "stream",
     "text": [
      "Uploading IDAHO_EPSCOR_GRIDMET_009015_20240101_20240201_ETO.tif:  10%|▉         | 24/241 [02:33<21:54,  6.06s/it]"
     ]
    },
    {
     "name": "stdout",
     "output_type": "stream",
     "text": [
      "[2025-07-22 11:21:03 INFO] Uploaded file IDAHO_EPSCOR_GRIDMET_009015_20240101_20240201_ETO.tif to aws bucket ose-dev-inputs\n",
      "[2025-07-22 11:21:03 INFO] Deleted local file IDAHO_EPSCOR_GRIDMET_009015_20240101_20240201_ETO.tif\n"
     ]
    },
    {
     "name": "stderr",
     "output_type": "stream",
     "text": [
      "Uploading IDAHO_EPSCOR_GRIDMET_009014_20240301_20240401_ETO.tif:  10%|█         | 25/241 [02:39<22:01,  6.12s/it]"
     ]
    },
    {
     "name": "stdout",
     "output_type": "stream",
     "text": [
      "[2025-07-22 11:21:09 INFO] Uploaded file IDAHO_EPSCOR_GRIDMET_009014_20240301_20240401_ETO.tif to aws bucket ose-dev-inputs\n",
      "[2025-07-22 11:21:09 INFO] Deleted local file IDAHO_EPSCOR_GRIDMET_009014_20240301_20240401_ETO.tif\n"
     ]
    },
    {
     "name": "stderr",
     "output_type": "stream",
     "text": [
      "Uploading IDAHO_EPSCOR_GRIDMET_009013_20240301_20240401_ETO.tif:  11%|█         | 26/241 [02:46<22:35,  6.31s/it]"
     ]
    },
    {
     "name": "stdout",
     "output_type": "stream",
     "text": [
      "[2025-07-22 11:21:16 INFO] Uploaded file IDAHO_EPSCOR_GRIDMET_009013_20240301_20240401_ETO.tif to aws bucket ose-dev-inputs\n",
      "[2025-07-22 11:21:16 INFO] Deleted local file IDAHO_EPSCOR_GRIDMET_009013_20240301_20240401_ETO.tif\n"
     ]
    },
    {
     "name": "stderr",
     "output_type": "stream",
     "text": [
      "Uploading IDAHO_EPSCOR_GRIDMET_011011_20241001_20241101_ETO.tif:  11%|█         | 27/241 [02:52<22:40,  6.36s/it]"
     ]
    },
    {
     "name": "stdout",
     "output_type": "stream",
     "text": [
      "[2025-07-22 11:21:22 INFO] Uploaded file IDAHO_EPSCOR_GRIDMET_011011_20241001_20241101_ETO.tif to aws bucket ose-dev-inputs\n",
      "[2025-07-22 11:21:22 INFO] Deleted local file IDAHO_EPSCOR_GRIDMET_011011_20241001_20241101_ETO.tif\n"
     ]
    },
    {
     "name": "stderr",
     "output_type": "stream",
     "text": [
      "Uploading IDAHO_EPSCOR_GRIDMET_009012_20240101_20240201_ETO.tif:  12%|█▏        | 28/241 [02:58<22:28,  6.33s/it]"
     ]
    },
    {
     "name": "stdout",
     "output_type": "stream",
     "text": [
      "[2025-07-22 11:21:29 INFO] Uploaded file IDAHO_EPSCOR_GRIDMET_009012_20240101_20240201_ETO.tif to aws bucket ose-dev-inputs\n",
      "[2025-07-22 11:21:29 INFO] Deleted local file IDAHO_EPSCOR_GRIDMET_009012_20240101_20240201_ETO.tif\n"
     ]
    },
    {
     "name": "stderr",
     "output_type": "stream",
     "text": [
      "Uploading IDAHO_EPSCOR_GRIDMET_012012_20240501_20240601_ETO.tif:  12%|█▏        | 29/241 [03:05<22:32,  6.38s/it]"
     ]
    },
    {
     "name": "stdout",
     "output_type": "stream",
     "text": [
      "[2025-07-22 11:21:35 INFO] Uploaded file IDAHO_EPSCOR_GRIDMET_012012_20240501_20240601_ETO.tif to aws bucket ose-dev-inputs\n",
      "[2025-07-22 11:21:35 INFO] Deleted local file IDAHO_EPSCOR_GRIDMET_012012_20240501_20240601_ETO.tif\n"
     ]
    },
    {
     "name": "stderr",
     "output_type": "stream",
     "text": [
      "Uploading IDAHO_EPSCOR_GRIDMET_011015_20240701_20240801_ETO.tif:  12%|█▏        | 30/241 [03:11<22:29,  6.39s/it]"
     ]
    },
    {
     "name": "stdout",
     "output_type": "stream",
     "text": [
      "[2025-07-22 11:21:42 INFO] Uploaded file IDAHO_EPSCOR_GRIDMET_011015_20240701_20240801_ETO.tif to aws bucket ose-dev-inputs\n",
      "[2025-07-22 11:21:42 INFO] Deleted local file IDAHO_EPSCOR_GRIDMET_011015_20240701_20240801_ETO.tif\n"
     ]
    },
    {
     "name": "stderr",
     "output_type": "stream",
     "text": [
      "Uploading IDAHO_EPSCOR_GRIDMET_009012_20240501_20240601_ETO.tif:  13%|█▎        | 31/241 [03:18<23:10,  6.62s/it]"
     ]
    },
    {
     "name": "stdout",
     "output_type": "stream",
     "text": [
      "[2025-07-22 11:21:49 INFO] Uploaded file IDAHO_EPSCOR_GRIDMET_009012_20240501_20240601_ETO.tif to aws bucket ose-dev-inputs\n",
      "[2025-07-22 11:21:49 INFO] Deleted local file IDAHO_EPSCOR_GRIDMET_009012_20240501_20240601_ETO.tif\n"
     ]
    },
    {
     "name": "stderr",
     "output_type": "stream",
     "text": [
      "Uploading IDAHO_EPSCOR_GRIDMET_010013_20240401_20240501_ETO.tif:  13%|█▎        | 32/241 [03:25<23:19,  6.70s/it]"
     ]
    },
    {
     "name": "stdout",
     "output_type": "stream",
     "text": [
      "[2025-07-22 11:21:56 INFO] Uploaded file IDAHO_EPSCOR_GRIDMET_010013_20240401_20240501_ETO.tif to aws bucket ose-dev-inputs\n",
      "[2025-07-22 11:21:56 INFO] Deleted local file IDAHO_EPSCOR_GRIDMET_010013_20240401_20240501_ETO.tif\n"
     ]
    },
    {
     "name": "stderr",
     "output_type": "stream",
     "text": [
      "Uploading .DS_Store:  14%|█▎        | 33/241 [03:32<23:27,  6.77s/it]                                            "
     ]
    },
    {
     "name": "stdout",
     "output_type": "stream",
     "text": [
      "[2025-07-22 11:21:56 INFO] Uploaded file .DS_Store to aws bucket ose-dev-inputs\n",
      "[2025-07-22 11:21:56 INFO] Deleted local file .DS_Store\n"
     ]
    },
    {
     "name": "stderr",
     "output_type": "stream",
     "text": [
      "Uploading IDAHO_EPSCOR_GRIDMET_010011_20240901_20241001_ETO.tif:  14%|█▍        | 34/241 [03:32<16:29,  4.78s/it]"
     ]
    },
    {
     "name": "stdout",
     "output_type": "stream",
     "text": [
      "[2025-07-22 11:22:03 INFO] Uploaded file IDAHO_EPSCOR_GRIDMET_010011_20240901_20241001_ETO.tif to aws bucket ose-dev-inputs\n",
      "[2025-07-22 11:22:03 INFO] Deleted local file IDAHO_EPSCOR_GRIDMET_010011_20240901_20241001_ETO.tif\n"
     ]
    },
    {
     "name": "stderr",
     "output_type": "stream",
     "text": [
      "Uploading IDAHO_EPSCOR_GRIDMET_012012_20240101_20240201_ETO.tif:  15%|█▍        | 35/241 [03:39<18:47,  5.47s/it]"
     ]
    },
    {
     "name": "stdout",
     "output_type": "stream",
     "text": [
      "[2025-07-22 11:22:09 INFO] Uploaded file IDAHO_EPSCOR_GRIDMET_012012_20240101_20240201_ETO.tif to aws bucket ose-dev-inputs\n",
      "[2025-07-22 11:22:09 INFO] Deleted local file IDAHO_EPSCOR_GRIDMET_012012_20240101_20240201_ETO.tif\n"
     ]
    },
    {
     "name": "stderr",
     "output_type": "stream",
     "text": [
      "Uploading IDAHO_EPSCOR_GRIDMET_012013_20240301_20240401_ETO.tif:  15%|█▍        | 36/241 [03:45<19:08,  5.60s/it]"
     ]
    },
    {
     "name": "stdout",
     "output_type": "stream",
     "text": [
      "[2025-07-22 11:22:15 INFO] Uploaded file IDAHO_EPSCOR_GRIDMET_012013_20240301_20240401_ETO.tif to aws bucket ose-dev-inputs\n",
      "[2025-07-22 11:22:15 INFO] Deleted local file IDAHO_EPSCOR_GRIDMET_012013_20240301_20240401_ETO.tif\n"
     ]
    },
    {
     "name": "stderr",
     "output_type": "stream",
     "text": [
      "Uploading IDAHO_EPSCOR_GRIDMET_009012_20240701_20240801_ETO.tif:  15%|█▌        | 37/241 [03:52<19:35,  5.76s/it]"
     ]
    },
    {
     "name": "stdout",
     "output_type": "stream",
     "text": [
      "[2025-07-22 11:22:22 INFO] Uploaded file IDAHO_EPSCOR_GRIDMET_009012_20240701_20240801_ETO.tif to aws bucket ose-dev-inputs\n",
      "[2025-07-22 11:22:22 INFO] Deleted local file IDAHO_EPSCOR_GRIDMET_009012_20240701_20240801_ETO.tif\n"
     ]
    },
    {
     "name": "stderr",
     "output_type": "stream",
     "text": [
      "Uploading IDAHO_EPSCOR_GRIDMET_011015_20240501_20240601_ETO.tif:  16%|█▌        | 38/241 [03:58<20:03,  5.93s/it]"
     ]
    },
    {
     "name": "stdout",
     "output_type": "stream",
     "text": [
      "[2025-07-22 11:22:28 INFO] Uploaded file IDAHO_EPSCOR_GRIDMET_011015_20240501_20240601_ETO.tif to aws bucket ose-dev-inputs\n",
      "[2025-07-22 11:22:28 INFO] Deleted local file IDAHO_EPSCOR_GRIDMET_011015_20240501_20240601_ETO.tif\n"
     ]
    },
    {
     "name": "stderr",
     "output_type": "stream",
     "text": [
      "Uploading IDAHO_EPSCOR_GRIDMET_012012_20240701_20240801_ETO.tif:  16%|█▌        | 39/241 [04:04<20:37,  6.13s/it]"
     ]
    },
    {
     "name": "stdout",
     "output_type": "stream",
     "text": [
      "[2025-07-22 11:22:35 INFO] Uploaded file IDAHO_EPSCOR_GRIDMET_012012_20240701_20240801_ETO.tif to aws bucket ose-dev-inputs\n",
      "[2025-07-22 11:22:35 INFO] Deleted local file IDAHO_EPSCOR_GRIDMET_012012_20240701_20240801_ETO.tif\n"
     ]
    },
    {
     "name": "stderr",
     "output_type": "stream",
     "text": [
      "Uploading IDAHO_EPSCOR_GRIDMET_011014_20240301_20240401_ETO.tif:  17%|█▋        | 40/241 [04:11<20:54,  6.24s/it]"
     ]
    },
    {
     "name": "stdout",
     "output_type": "stream",
     "text": [
      "[2025-07-22 11:22:41 INFO] Uploaded file IDAHO_EPSCOR_GRIDMET_011014_20240301_20240401_ETO.tif to aws bucket ose-dev-inputs\n",
      "[2025-07-22 11:22:41 INFO] Deleted local file IDAHO_EPSCOR_GRIDMET_011014_20240301_20240401_ETO.tif\n"
     ]
    },
    {
     "name": "stderr",
     "output_type": "stream",
     "text": [
      "Uploading IDAHO_EPSCOR_GRIDMET_011015_20240101_20240201_ETO.tif:  17%|█▋        | 41/241 [04:17<20:43,  6.22s/it]"
     ]
    },
    {
     "name": "stdout",
     "output_type": "stream",
     "text": [
      "[2025-07-22 11:22:47 INFO] Uploaded file IDAHO_EPSCOR_GRIDMET_011015_20240101_20240201_ETO.tif to aws bucket ose-dev-inputs\n",
      "[2025-07-22 11:22:47 INFO] Deleted local file IDAHO_EPSCOR_GRIDMET_011015_20240101_20240201_ETO.tif\n"
     ]
    },
    {
     "name": "stderr",
     "output_type": "stream",
     "text": [
      "Uploading IDAHO_EPSCOR_GRIDMET_010014_20240701_20240801_ETO.tif:  17%|█▋        | 42/241 [04:23<20:33,  6.20s/it]"
     ]
    },
    {
     "name": "stdout",
     "output_type": "stream",
     "text": [
      "[2025-07-22 11:22:53 INFO] Uploaded file IDAHO_EPSCOR_GRIDMET_010014_20240701_20240801_ETO.tif to aws bucket ose-dev-inputs\n",
      "[2025-07-22 11:22:53 INFO] Deleted local file IDAHO_EPSCOR_GRIDMET_010014_20240701_20240801_ETO.tif\n"
     ]
    },
    {
     "name": "stderr",
     "output_type": "stream",
     "text": [
      "Uploading IDAHO_EPSCOR_GRIDMET_011012_20240401_20240501_ETO.tif:  18%|█▊        | 43/241 [04:29<20:18,  6.15s/it]"
     ]
    },
    {
     "name": "stdout",
     "output_type": "stream",
     "text": [
      "[2025-07-22 11:22:59 INFO] Uploaded file IDAHO_EPSCOR_GRIDMET_011012_20240401_20240501_ETO.tif to aws bucket ose-dev-inputs\n",
      "[2025-07-22 11:22:59 INFO] Deleted local file IDAHO_EPSCOR_GRIDMET_011012_20240401_20240501_ETO.tif\n"
     ]
    },
    {
     "name": "stderr",
     "output_type": "stream",
     "text": [
      "Uploading IDAHO_EPSCOR_GRIDMET_012011_20241101_20241201_ETO.tif:  18%|█▊        | 44/241 [04:35<20:09,  6.14s/it]"
     ]
    },
    {
     "name": "stdout",
     "output_type": "stream",
     "text": [
      "[2025-07-22 11:23:05 INFO] Uploaded file IDAHO_EPSCOR_GRIDMET_012011_20241101_20241201_ETO.tif to aws bucket ose-dev-inputs\n",
      "[2025-07-22 11:23:05 INFO] Deleted local file IDAHO_EPSCOR_GRIDMET_012011_20241101_20241201_ETO.tif\n"
     ]
    },
    {
     "name": "stderr",
     "output_type": "stream",
     "text": [
      "Uploading IDAHO_EPSCOR_GRIDMET_009011_20241101_20241201_ETO.tif:  19%|█▊        | 45/241 [04:42<20:07,  6.16s/it]"
     ]
    },
    {
     "name": "stdout",
     "output_type": "stream",
     "text": [
      "[2025-07-22 11:23:12 INFO] Uploaded file IDAHO_EPSCOR_GRIDMET_009011_20241101_20241201_ETO.tif to aws bucket ose-dev-inputs\n",
      "[2025-07-22 11:23:12 INFO] Deleted local file IDAHO_EPSCOR_GRIDMET_009011_20241101_20241201_ETO.tif\n"
     ]
    },
    {
     "name": "stderr",
     "output_type": "stream",
     "text": [
      "Uploading IDAHO_EPSCOR_GRIDMET_011011_20240801_20240901_ETO.tif:  19%|█▉        | 46/241 [04:48<20:19,  6.25s/it]"
     ]
    },
    {
     "name": "stdout",
     "output_type": "stream",
     "text": [
      "[2025-07-22 11:23:18 INFO] Uploaded file IDAHO_EPSCOR_GRIDMET_011011_20240801_20240901_ETO.tif to aws bucket ose-dev-inputs\n",
      "[2025-07-22 11:23:18 INFO] Deleted local file IDAHO_EPSCOR_GRIDMET_011011_20240801_20240901_ETO.tif\n"
     ]
    },
    {
     "name": "stderr",
     "output_type": "stream",
     "text": [
      "Uploading IDAHO_EPSCOR_GRIDMET_010011_20240201_20240301_ETO.tif:  20%|█▉        | 47/241 [04:54<20:13,  6.25s/it]"
     ]
    },
    {
     "name": "stdout",
     "output_type": "stream",
     "text": [
      "[2025-07-22 11:23:25 INFO] Uploaded file IDAHO_EPSCOR_GRIDMET_010011_20240201_20240301_ETO.tif to aws bucket ose-dev-inputs\n",
      "[2025-07-22 11:23:25 INFO] Deleted local file IDAHO_EPSCOR_GRIDMET_010011_20240201_20240301_ETO.tif\n"
     ]
    },
    {
     "name": "stderr",
     "output_type": "stream",
     "text": [
      "Uploading IDAHO_EPSCOR_GRIDMET_012015_20240401_20240501_ETO.tif:  20%|█▉        | 48/241 [05:01<20:29,  6.37s/it]"
     ]
    },
    {
     "name": "stdout",
     "output_type": "stream",
     "text": [
      "[2025-07-22 11:23:31 INFO] Uploaded file IDAHO_EPSCOR_GRIDMET_012015_20240401_20240501_ETO.tif to aws bucket ose-dev-inputs\n",
      "[2025-07-22 11:23:31 INFO] Deleted local file IDAHO_EPSCOR_GRIDMET_012015_20240401_20240501_ETO.tif\n"
     ]
    },
    {
     "name": "stderr",
     "output_type": "stream",
     "text": [
      "Uploading IDAHO_EPSCOR_GRIDMET_010015_20240301_20240401_ETO.tif:  20%|██        | 49/241 [05:07<20:03,  6.27s/it]"
     ]
    },
    {
     "name": "stdout",
     "output_type": "stream",
     "text": [
      "[2025-07-22 11:23:39 INFO] Uploaded file IDAHO_EPSCOR_GRIDMET_010015_20240301_20240401_ETO.tif to aws bucket ose-dev-inputs\n",
      "[2025-07-22 11:23:39 INFO] Deleted local file IDAHO_EPSCOR_GRIDMET_010015_20240301_20240401_ETO.tif\n"
     ]
    },
    {
     "name": "stderr",
     "output_type": "stream",
     "text": [
      "Uploading IDAHO_EPSCOR_GRIDMET_010014_20240101_20240201_ETO.tif:  21%|██        | 50/241 [05:15<21:49,  6.85s/it]"
     ]
    },
    {
     "name": "stdout",
     "output_type": "stream",
     "text": [
      "[2025-07-22 11:23:46 INFO] Uploaded file IDAHO_EPSCOR_GRIDMET_010014_20240101_20240201_ETO.tif to aws bucket ose-dev-inputs\n",
      "[2025-07-22 11:23:46 INFO] Deleted local file IDAHO_EPSCOR_GRIDMET_010014_20240101_20240201_ETO.tif\n"
     ]
    },
    {
     "name": "stderr",
     "output_type": "stream",
     "text": [
      "Uploading IDAHO_EPSCOR_GRIDMET_010011_20240601_20240701_ETO.tif:  21%|██        | 51/241 [05:22<21:40,  6.84s/it]"
     ]
    },
    {
     "name": "stdout",
     "output_type": "stream",
     "text": [
      "[2025-07-22 11:23:55 INFO] Uploaded file IDAHO_EPSCOR_GRIDMET_010011_20240601_20240701_ETO.tif to aws bucket ose-dev-inputs\n",
      "[2025-07-22 11:23:55 INFO] Deleted local file IDAHO_EPSCOR_GRIDMET_010011_20240601_20240701_ETO.tif\n"
     ]
    },
    {
     "name": "stderr",
     "output_type": "stream",
     "text": [
      "Uploading IDAHO_EPSCOR_GRIDMET_010014_20240501_20240601_ETO.tif:  22%|██▏       | 52/241 [05:31<23:33,  7.48s/it]"
     ]
    },
    {
     "name": "stdout",
     "output_type": "stream",
     "text": [
      "[2025-07-22 11:24:02 INFO] Uploaded file IDAHO_EPSCOR_GRIDMET_010014_20240501_20240601_ETO.tif to aws bucket ose-dev-inputs\n",
      "[2025-07-22 11:24:02 INFO] Deleted local file IDAHO_EPSCOR_GRIDMET_010014_20240501_20240601_ETO.tif\n"
     ]
    },
    {
     "name": "stderr",
     "output_type": "stream",
     "text": [
      "Uploading IDAHO_EPSCOR_GRIDMET_009015_20240401_20240501_ETO.tif:  22%|██▏       | 53/241 [05:38<23:09,  7.39s/it]"
     ]
    },
    {
     "name": "stdout",
     "output_type": "stream",
     "text": [
      "[2025-07-22 11:24:09 INFO] Uploaded file IDAHO_EPSCOR_GRIDMET_009015_20240401_20240501_ETO.tif to aws bucket ose-dev-inputs\n",
      "[2025-07-22 11:24:09 INFO] Deleted local file IDAHO_EPSCOR_GRIDMET_009015_20240401_20240501_ETO.tif\n"
     ]
    },
    {
     "name": "stderr",
     "output_type": "stream",
     "text": [
      "Uploading IDAHO_EPSCOR_GRIDMET_012013_20240801_20240901_ETO.tif:  22%|██▏       | 54/241 [05:46<22:58,  7.37s/it]"
     ]
    },
    {
     "name": "stdout",
     "output_type": "stream",
     "text": [
      "[2025-07-22 11:24:16 INFO] Uploaded file IDAHO_EPSCOR_GRIDMET_012013_20240801_20240901_ETO.tif to aws bucket ose-dev-inputs\n",
      "[2025-07-22 11:24:16 INFO] Deleted local file IDAHO_EPSCOR_GRIDMET_012013_20240801_20240901_ETO.tif\n"
     ]
    },
    {
     "name": "stderr",
     "output_type": "stream",
     "text": [
      "Uploading IDAHO_EPSCOR_GRIDMET_009012_20240901_20241001_ETO.tif:  23%|██▎       | 55/241 [05:52<21:45,  7.02s/it]"
     ]
    },
    {
     "name": "stdout",
     "output_type": "stream",
     "text": [
      "[2025-07-22 11:24:22 INFO] Uploaded file IDAHO_EPSCOR_GRIDMET_009012_20240901_20241001_ETO.tif to aws bucket ose-dev-inputs\n",
      "[2025-07-22 11:24:22 INFO] Deleted local file IDAHO_EPSCOR_GRIDMET_009012_20240901_20241001_ETO.tif\n"
     ]
    },
    {
     "name": "stderr",
     "output_type": "stream",
     "text": [
      "Uploading IDAHO_EPSCOR_GRIDMET_010014_20240601_20240701_ETO.tif:  23%|██▎       | 56/241 [05:58<21:10,  6.87s/it]"
     ]
    },
    {
     "name": "stdout",
     "output_type": "stream",
     "text": [
      "[2025-07-22 11:24:28 INFO] Uploaded file IDAHO_EPSCOR_GRIDMET_010014_20240601_20240701_ETO.tif to aws bucket ose-dev-inputs\n",
      "[2025-07-22 11:24:28 INFO] Deleted local file IDAHO_EPSCOR_GRIDMET_010014_20240601_20240701_ETO.tif\n"
     ]
    },
    {
     "name": "stderr",
     "output_type": "stream",
     "text": [
      "Uploading IDAHO_EPSCOR_GRIDMET_010011_20240501_20240601_ETO.tif:  24%|██▎       | 57/241 [06:04<20:13,  6.60s/it]"
     ]
    },
    {
     "name": "stdout",
     "output_type": "stream",
     "text": [
      "[2025-07-22 11:24:35 INFO] Uploaded file IDAHO_EPSCOR_GRIDMET_010011_20240501_20240601_ETO.tif to aws bucket ose-dev-inputs\n",
      "[2025-07-22 11:24:35 INFO] Deleted local file IDAHO_EPSCOR_GRIDMET_010011_20240501_20240601_ETO.tif\n"
     ]
    },
    {
     "name": "stderr",
     "output_type": "stream",
     "text": [
      "Uploading IDAHO_EPSCOR_GRIDMET_010013_20241201_20250101_ETO.tif:  24%|██▍       | 58/241 [06:11<20:42,  6.79s/it]"
     ]
    },
    {
     "name": "stdout",
     "output_type": "stream",
     "text": [
      "[2025-07-22 11:24:42 INFO] Uploaded file IDAHO_EPSCOR_GRIDMET_010013_20241201_20250101_ETO.tif to aws bucket ose-dev-inputs\n",
      "[2025-07-22 11:24:42 INFO] Deleted local file IDAHO_EPSCOR_GRIDMET_010013_20241201_20250101_ETO.tif\n"
     ]
    },
    {
     "name": "stderr",
     "output_type": "stream",
     "text": [
      "Uploading IDAHO_EPSCOR_GRIDMET_010014_20240201_20240301_ETO.tif:  24%|██▍       | 59/241 [06:18<20:11,  6.66s/it]"
     ]
    },
    {
     "name": "stdout",
     "output_type": "stream",
     "text": [
      "[2025-07-22 11:24:48 INFO] Uploaded file IDAHO_EPSCOR_GRIDMET_010014_20240201_20240301_ETO.tif to aws bucket ose-dev-inputs\n",
      "[2025-07-22 11:24:48 INFO] Deleted local file IDAHO_EPSCOR_GRIDMET_010014_20240201_20240301_ETO.tif\n"
     ]
    },
    {
     "name": "stderr",
     "output_type": "stream",
     "text": [
      "Uploading IDAHO_EPSCOR_GRIDMET_012012_20240901_20241001_ETO.tif:  25%|██▍       | 60/241 [06:24<19:58,  6.62s/it]"
     ]
    },
    {
     "name": "stdout",
     "output_type": "stream",
     "text": [
      "[2025-07-22 11:24:55 INFO] Uploaded file IDAHO_EPSCOR_GRIDMET_012012_20240901_20241001_ETO.tif to aws bucket ose-dev-inputs\n",
      "[2025-07-22 11:24:55 INFO] Deleted local file IDAHO_EPSCOR_GRIDMET_012012_20240901_20241001_ETO.tif\n"
     ]
    },
    {
     "name": "stderr",
     "output_type": "stream",
     "text": [
      "Uploading IDAHO_EPSCOR_GRIDMET_011013_20241101_20241201_ETO.tif:  25%|██▌       | 61/241 [06:31<19:54,  6.64s/it]"
     ]
    },
    {
     "name": "stdout",
     "output_type": "stream",
     "text": [
      "[2025-07-22 11:25:02 INFO] Uploaded file IDAHO_EPSCOR_GRIDMET_011013_20241101_20241201_ETO.tif to aws bucket ose-dev-inputs\n",
      "[2025-07-22 11:25:02 INFO] Deleted local file IDAHO_EPSCOR_GRIDMET_011013_20241101_20241201_ETO.tif\n"
     ]
    },
    {
     "name": "stderr",
     "output_type": "stream",
     "text": [
      "Uploading IDAHO_EPSCOR_GRIDMET_009013_20240801_20240901_ETO.tif:  26%|██▌       | 62/241 [06:38<19:53,  6.67s/it]"
     ]
    },
    {
     "name": "stdout",
     "output_type": "stream",
     "text": [
      "[2025-07-22 11:25:08 INFO] Uploaded file IDAHO_EPSCOR_GRIDMET_009013_20240801_20240901_ETO.tif to aws bucket ose-dev-inputs\n",
      "[2025-07-22 11:25:08 INFO] Deleted local file IDAHO_EPSCOR_GRIDMET_009013_20240801_20240901_ETO.tif\n"
     ]
    },
    {
     "name": "stderr",
     "output_type": "stream",
     "text": [
      "Uploading IDAHO_EPSCOR_GRIDMET_010011_20240101_20240201_ETO.tif:  26%|██▌       | 63/241 [06:44<19:43,  6.65s/it]"
     ]
    },
    {
     "name": "stdout",
     "output_type": "stream",
     "text": [
      "[2025-07-22 11:25:15 INFO] Uploaded file IDAHO_EPSCOR_GRIDMET_010011_20240101_20240201_ETO.tif to aws bucket ose-dev-inputs\n",
      "[2025-07-22 11:25:15 INFO] Deleted local file IDAHO_EPSCOR_GRIDMET_010011_20240101_20240201_ETO.tif\n"
     ]
    },
    {
     "name": "stderr",
     "output_type": "stream",
     "text": [
      "Uploading IDAHO_EPSCOR_GRIDMET_009014_20241101_20241201_ETO.tif:  27%|██▋       | 64/241 [06:51<20:04,  6.80s/it]"
     ]
    },
    {
     "name": "stdout",
     "output_type": "stream",
     "text": [
      "[2025-07-22 11:25:23 INFO] Uploaded file IDAHO_EPSCOR_GRIDMET_009014_20241101_20241201_ETO.tif to aws bucket ose-dev-inputs\n",
      "[2025-07-22 11:25:23 INFO] Deleted local file IDAHO_EPSCOR_GRIDMET_009014_20241101_20241201_ETO.tif\n"
     ]
    },
    {
     "name": "stderr",
     "output_type": "stream",
     "text": [
      "Uploading IDAHO_EPSCOR_GRIDMET_010015_20241001_20241101_ETO.tif:  27%|██▋       | 65/241 [06:59<20:46,  7.08s/it]"
     ]
    },
    {
     "name": "stdout",
     "output_type": "stream",
     "text": [
      "[2025-07-22 11:25:30 INFO] Uploaded file IDAHO_EPSCOR_GRIDMET_010015_20241001_20241101_ETO.tif to aws bucket ose-dev-inputs\n",
      "[2025-07-22 11:25:30 INFO] Deleted local file IDAHO_EPSCOR_GRIDMET_010015_20241001_20241101_ETO.tif\n"
     ]
    },
    {
     "name": "stderr",
     "output_type": "stream",
     "text": [
      "Uploading IDAHO_EPSCOR_GRIDMET_011014_20240801_20240901_ETO.tif:  27%|██▋       | 66/241 [07:06<20:26,  7.01s/it]"
     ]
    },
    {
     "name": "stdout",
     "output_type": "stream",
     "text": [
      "[2025-07-22 11:25:36 INFO] Uploaded file IDAHO_EPSCOR_GRIDMET_011014_20240801_20240901_ETO.tif to aws bucket ose-dev-inputs\n",
      "[2025-07-22 11:25:36 INFO] Deleted local file IDAHO_EPSCOR_GRIDMET_011014_20240801_20240901_ETO.tif\n"
     ]
    },
    {
     "name": "stderr",
     "output_type": "stream",
     "text": [
      "Uploading IDAHO_EPSCOR_GRIDMET_010011_20240701_20240801_ETO.tif:  28%|██▊       | 67/241 [07:12<19:18,  6.66s/it]"
     ]
    },
    {
     "name": "stdout",
     "output_type": "stream",
     "text": [
      "[2025-07-22 11:25:44 INFO] Uploaded file IDAHO_EPSCOR_GRIDMET_010011_20240701_20240801_ETO.tif to aws bucket ose-dev-inputs\n",
      "[2025-07-22 11:25:44 INFO] Deleted local file IDAHO_EPSCOR_GRIDMET_010011_20240701_20240801_ETO.tif\n"
     ]
    },
    {
     "name": "stderr",
     "output_type": "stream",
     "text": [
      "Uploading IDAHO_EPSCOR_GRIDMET_011015_20240901_20241001_ETO.tif:  28%|██▊       | 68/241 [07:20<20:20,  7.05s/it]"
     ]
    },
    {
     "name": "stdout",
     "output_type": "stream",
     "text": [
      "[2025-07-22 11:25:50 INFO] Uploaded file IDAHO_EPSCOR_GRIDMET_011015_20240901_20241001_ETO.tif to aws bucket ose-dev-inputs\n",
      "[2025-07-22 11:25:50 INFO] Deleted local file IDAHO_EPSCOR_GRIDMET_011015_20240901_20241001_ETO.tif\n"
     ]
    },
    {
     "name": "stderr",
     "output_type": "stream",
     "text": [
      "Uploading IDAHO_EPSCOR_GRIDMET_012014_20241101_20241201_ETO.tif:  29%|██▊       | 69/241 [07:26<19:42,  6.87s/it]"
     ]
    },
    {
     "name": "stdout",
     "output_type": "stream",
     "text": [
      "[2025-07-22 11:25:56 INFO] Uploaded file IDAHO_EPSCOR_GRIDMET_012014_20241101_20241201_ETO.tif to aws bucket ose-dev-inputs\n",
      "[2025-07-22 11:25:56 INFO] Deleted local file IDAHO_EPSCOR_GRIDMET_012014_20241101_20241201_ETO.tif\n"
     ]
    },
    {
     "name": "stderr",
     "output_type": "stream",
     "text": [
      "Uploading IDAHO_EPSCOR_GRIDMET_011015_20240201_20240301_ETO.tif:  29%|██▉       | 70/241 [07:32<18:39,  6.55s/it]"
     ]
    },
    {
     "name": "stdout",
     "output_type": "stream",
     "text": [
      "[2025-07-22 11:26:02 INFO] Uploaded file IDAHO_EPSCOR_GRIDMET_011015_20240201_20240301_ETO.tif to aws bucket ose-dev-inputs\n",
      "[2025-07-22 11:26:02 INFO] Deleted local file IDAHO_EPSCOR_GRIDMET_011015_20240201_20240301_ETO.tif\n"
     ]
    },
    {
     "name": "stderr",
     "output_type": "stream",
     "text": [
      "Uploading IDAHO_EPSCOR_GRIDMET_011011_20240301_20240401_ETO.tif:  29%|██▉       | 71/241 [07:39<18:31,  6.54s/it]"
     ]
    },
    {
     "name": "stdout",
     "output_type": "stream",
     "text": [
      "[2025-07-22 11:26:09 INFO] Uploaded file IDAHO_EPSCOR_GRIDMET_011011_20240301_20240401_ETO.tif to aws bucket ose-dev-inputs\n",
      "[2025-07-22 11:26:09 INFO] Deleted local file IDAHO_EPSCOR_GRIDMET_011011_20240301_20240401_ETO.tif\n"
     ]
    },
    {
     "name": "stderr",
     "output_type": "stream",
     "text": [
      "Uploading IDAHO_EPSCOR_GRIDMET_010012_20241101_20241201_ETO.tif:  30%|██▉       | 72/241 [07:46<18:42,  6.64s/it]"
     ]
    },
    {
     "name": "stdout",
     "output_type": "stream",
     "text": [
      "[2025-07-22 11:26:18 INFO] Uploaded file IDAHO_EPSCOR_GRIDMET_010012_20241101_20241201_ETO.tif to aws bucket ose-dev-inputs\n",
      "[2025-07-22 11:26:18 INFO] Deleted local file IDAHO_EPSCOR_GRIDMET_010012_20241101_20241201_ETO.tif\n"
     ]
    },
    {
     "name": "stderr",
     "output_type": "stream",
     "text": [
      "Uploading IDAHO_EPSCOR_GRIDMET_009013_20241001_20241101_ETO.tif:  30%|███       | 73/241 [07:54<20:00,  7.15s/it]"
     ]
    },
    {
     "name": "stdout",
     "output_type": "stream",
     "text": [
      "[2025-07-22 11:26:24 INFO] Uploaded file IDAHO_EPSCOR_GRIDMET_009013_20241001_20241101_ETO.tif to aws bucket ose-dev-inputs\n",
      "[2025-07-22 11:26:24 INFO] Deleted local file IDAHO_EPSCOR_GRIDMET_009013_20241001_20241101_ETO.tif\n"
     ]
    },
    {
     "name": "stderr",
     "output_type": "stream",
     "text": [
      "Uploading IDAHO_EPSCOR_GRIDMET_012013_20241001_20241101_ETO.tif:  31%|███       | 74/241 [08:00<19:13,  6.91s/it]"
     ]
    },
    {
     "name": "stdout",
     "output_type": "stream",
     "text": [
      "[2025-07-22 11:26:31 INFO] Uploaded file IDAHO_EPSCOR_GRIDMET_012013_20241001_20241101_ETO.tif to aws bucket ose-dev-inputs\n",
      "[2025-07-22 11:26:31 INFO] Deleted local file IDAHO_EPSCOR_GRIDMET_012013_20241001_20241101_ETO.tif\n"
     ]
    },
    {
     "name": "stderr",
     "output_type": "stream",
     "text": [
      "Uploading IDAHO_EPSCOR_GRIDMET_011015_20240601_20240701_ETO.tif:  31%|███       | 75/241 [08:07<19:21,  7.00s/it]"
     ]
    },
    {
     "name": "stdout",
     "output_type": "stream",
     "text": [
      "[2025-07-22 11:26:37 INFO] Uploaded file IDAHO_EPSCOR_GRIDMET_011015_20240601_20240701_ETO.tif to aws bucket ose-dev-inputs\n",
      "[2025-07-22 11:26:37 INFO] Deleted local file IDAHO_EPSCOR_GRIDMET_011015_20240601_20240701_ETO.tif\n"
     ]
    },
    {
     "name": "stderr",
     "output_type": "stream",
     "text": [
      "Uploading IDAHO_EPSCOR_GRIDMET_011012_20241201_20250101_ETO.tif:  32%|███▏      | 76/241 [08:13<18:16,  6.64s/it]"
     ]
    },
    {
     "name": "stdout",
     "output_type": "stream",
     "text": [
      "[2025-07-22 11:26:44 INFO] Uploaded file IDAHO_EPSCOR_GRIDMET_011012_20241201_20250101_ETO.tif to aws bucket ose-dev-inputs\n",
      "[2025-07-22 11:26:44 INFO] Deleted local file IDAHO_EPSCOR_GRIDMET_011012_20241201_20250101_ETO.tif\n"
     ]
    },
    {
     "name": "stderr",
     "output_type": "stream",
     "text": [
      "Uploading IDAHO_EPSCOR_GRIDMET_012012_20240201_20240301_ETO.tif:  32%|███▏      | 77/241 [08:20<18:18,  6.70s/it]"
     ]
    },
    {
     "name": "stdout",
     "output_type": "stream",
     "text": [
      "[2025-07-22 11:26:50 INFO] Uploaded file IDAHO_EPSCOR_GRIDMET_012012_20240201_20240301_ETO.tif to aws bucket ose-dev-inputs\n",
      "[2025-07-22 11:26:50 INFO] Deleted local file IDAHO_EPSCOR_GRIDMET_012012_20240201_20240301_ETO.tif\n"
     ]
    },
    {
     "name": "stderr",
     "output_type": "stream",
     "text": [
      "Uploading IDAHO_EPSCOR_GRIDMET_009015_20241201_20250101_ETO.tif:  32%|███▏      | 78/241 [08:26<17:48,  6.56s/it]"
     ]
    },
    {
     "name": "stdout",
     "output_type": "stream",
     "text": [
      "[2025-07-22 11:26:57 INFO] Uploaded file IDAHO_EPSCOR_GRIDMET_009015_20241201_20250101_ETO.tif to aws bucket ose-dev-inputs\n",
      "[2025-07-22 11:26:57 INFO] Deleted local file IDAHO_EPSCOR_GRIDMET_009015_20241201_20250101_ETO.tif\n"
     ]
    },
    {
     "name": "stderr",
     "output_type": "stream",
     "text": [
      "Uploading IDAHO_EPSCOR_GRIDMET_010014_20240901_20241001_ETO.tif:  33%|███▎      | 79/241 [08:33<17:45,  6.58s/it]"
     ]
    },
    {
     "name": "stdout",
     "output_type": "stream",
     "text": [
      "[2025-07-22 11:27:03 INFO] Uploaded file IDAHO_EPSCOR_GRIDMET_010014_20240901_20241001_ETO.tif to aws bucket ose-dev-inputs\n",
      "[2025-07-22 11:27:03 INFO] Deleted local file IDAHO_EPSCOR_GRIDMET_010014_20240901_20241001_ETO.tif\n"
     ]
    },
    {
     "name": "stderr",
     "output_type": "stream",
     "text": [
      "Uploading IDAHO_EPSCOR_GRIDMET_009012_20240601_20240701_ETO.tif:  33%|███▎      | 80/241 [08:39<17:37,  6.57s/it]"
     ]
    },
    {
     "name": "stdout",
     "output_type": "stream",
     "text": [
      "[2025-07-22 11:27:10 INFO] Uploaded file IDAHO_EPSCOR_GRIDMET_009012_20240601_20240701_ETO.tif to aws bucket ose-dev-inputs\n",
      "[2025-07-22 11:27:10 INFO] Deleted local file IDAHO_EPSCOR_GRIDMET_009012_20240601_20240701_ETO.tif\n"
     ]
    },
    {
     "name": "stderr",
     "output_type": "stream",
     "text": [
      "Uploading IDAHO_EPSCOR_GRIDMET_011014_20241001_20241101_ETO.tif:  34%|███▎      | 81/241 [08:46<17:40,  6.63s/it]"
     ]
    },
    {
     "name": "stdout",
     "output_type": "stream",
     "text": [
      "[2025-07-22 11:27:16 INFO] Uploaded file IDAHO_EPSCOR_GRIDMET_011014_20241001_20241101_ETO.tif to aws bucket ose-dev-inputs\n",
      "[2025-07-22 11:27:16 INFO] Deleted local file IDAHO_EPSCOR_GRIDMET_011014_20241001_20241101_ETO.tif\n"
     ]
    },
    {
     "name": "stderr",
     "output_type": "stream",
     "text": [
      "Uploading IDAHO_EPSCOR_GRIDMET_010015_20240801_20240901_ETO.tif:  34%|███▍      | 82/241 [08:52<17:00,  6.42s/it]"
     ]
    },
    {
     "name": "stdout",
     "output_type": "stream",
     "text": [
      "[2025-07-22 11:27:22 INFO] Uploaded file IDAHO_EPSCOR_GRIDMET_010015_20240801_20240901_ETO.tif to aws bucket ose-dev-inputs\n",
      "[2025-07-22 11:27:22 INFO] Deleted local file IDAHO_EPSCOR_GRIDMET_010015_20240801_20240901_ETO.tif\n"
     ]
    },
    {
     "name": "stderr",
     "output_type": "stream",
     "text": [
      "Uploading IDAHO_EPSCOR_GRIDMET_012012_20240601_20240701_ETO.tif:  34%|███▍      | 83/241 [08:58<16:27,  6.25s/it]"
     ]
    },
    {
     "name": "stdout",
     "output_type": "stream",
     "text": [
      "[2025-07-22 11:27:28 INFO] Uploaded file IDAHO_EPSCOR_GRIDMET_012012_20240601_20240701_ETO.tif to aws bucket ose-dev-inputs\n",
      "[2025-07-22 11:27:28 INFO] Deleted local file IDAHO_EPSCOR_GRIDMET_012012_20240601_20240701_ETO.tif\n"
     ]
    },
    {
     "name": "stderr",
     "output_type": "stream",
     "text": [
      "Uploading IDAHO_EPSCOR_GRIDMET_009012_20240201_20240301_ETO.tif:  35%|███▍      | 84/241 [09:04<16:17,  6.22s/it]"
     ]
    },
    {
     "name": "stdout",
     "output_type": "stream",
     "text": [
      "[2025-07-22 11:27:34 INFO] Uploaded file IDAHO_EPSCOR_GRIDMET_009012_20240201_20240301_ETO.tif to aws bucket ose-dev-inputs\n",
      "[2025-07-22 11:27:35 INFO] Deleted local file IDAHO_EPSCOR_GRIDMET_009012_20240201_20240301_ETO.tif\n"
     ]
    },
    {
     "name": "stderr",
     "output_type": "stream",
     "text": [
      "Uploading IDAHO_EPSCOR_GRIDMET_012015_20241201_20250101_ETO.tif:  35%|███▌      | 85/241 [09:11<16:24,  6.31s/it]"
     ]
    },
    {
     "name": "stdout",
     "output_type": "stream",
     "text": [
      "[2025-07-22 11:27:41 INFO] Uploaded file IDAHO_EPSCOR_GRIDMET_012015_20241201_20250101_ETO.tif to aws bucket ose-dev-inputs\n",
      "[2025-07-22 11:27:41 INFO] Deleted local file IDAHO_EPSCOR_GRIDMET_012015_20241201_20250101_ETO.tif\n"
     ]
    },
    {
     "name": "stderr",
     "output_type": "stream",
     "text": [
      "Uploading IDAHO_EPSCOR_GRIDMET_009015_20240201_20240301_ETO.tif:  36%|███▌      | 86/241 [09:17<16:16,  6.30s/it]"
     ]
    },
    {
     "name": "stdout",
     "output_type": "stream",
     "text": [
      "[2025-07-22 11:27:47 INFO] Uploaded file IDAHO_EPSCOR_GRIDMET_009015_20240201_20240301_ETO.tif to aws bucket ose-dev-inputs\n",
      "[2025-07-22 11:27:47 INFO] Deleted local file IDAHO_EPSCOR_GRIDMET_009015_20240201_20240301_ETO.tif\n"
     ]
    },
    {
     "name": "stderr",
     "output_type": "stream",
     "text": [
      "Uploading IDAHO_EPSCOR_GRIDMET_012012_20241201_20250101_ETO.tif:  36%|███▌      | 87/241 [09:23<16:15,  6.33s/it]"
     ]
    },
    {
     "name": "stdout",
     "output_type": "stream",
     "text": [
      "[2025-07-22 11:27:53 INFO] Uploaded file IDAHO_EPSCOR_GRIDMET_012012_20241201_20250101_ETO.tif to aws bucket ose-dev-inputs\n",
      "[2025-07-22 11:27:53 INFO] Deleted local file IDAHO_EPSCOR_GRIDMET_012012_20241201_20250101_ETO.tif\n"
     ]
    },
    {
     "name": "stderr",
     "output_type": "stream",
     "text": [
      "Uploading IDAHO_EPSCOR_GRIDMET_010012_20240801_20240901_ETO.tif:  37%|███▋      | 88/241 [09:29<15:51,  6.22s/it]"
     ]
    },
    {
     "name": "stdout",
     "output_type": "stream",
     "text": [
      "[2025-07-22 11:28:00 INFO] Uploaded file IDAHO_EPSCOR_GRIDMET_010012_20240801_20240901_ETO.tif to aws bucket ose-dev-inputs\n",
      "[2025-07-22 11:28:00 INFO] Deleted local file IDAHO_EPSCOR_GRIDMET_010012_20240801_20240901_ETO.tif\n"
     ]
    },
    {
     "name": "stderr",
     "output_type": "stream",
     "text": [
      "Uploading IDAHO_EPSCOR_GRIDMET_011013_20241001_20241101_ETO.tif:  37%|███▋      | 89/241 [09:36<16:07,  6.36s/it]"
     ]
    },
    {
     "name": "stdout",
     "output_type": "stream",
     "text": [
      "[2025-07-22 11:28:07 INFO] Uploaded file IDAHO_EPSCOR_GRIDMET_011013_20241001_20241101_ETO.tif to aws bucket ose-dev-inputs\n",
      "[2025-07-22 11:28:07 INFO] Deleted local file IDAHO_EPSCOR_GRIDMET_011013_20241001_20241101_ETO.tif\n"
     ]
    },
    {
     "name": "stderr",
     "output_type": "stream",
     "text": [
      "Uploading IDAHO_EPSCOR_GRIDMET_009011_20240301_20240401_ETO.tif:  37%|███▋      | 90/241 [09:43<16:22,  6.50s/it]"
     ]
    },
    {
     "name": "stdout",
     "output_type": "stream",
     "text": [
      "[2025-07-22 11:28:13 INFO] Uploaded file IDAHO_EPSCOR_GRIDMET_009011_20240301_20240401_ETO.tif to aws bucket ose-dev-inputs\n",
      "[2025-07-22 11:28:13 INFO] Deleted local file IDAHO_EPSCOR_GRIDMET_009011_20240301_20240401_ETO.tif\n"
     ]
    },
    {
     "name": "stderr",
     "output_type": "stream",
     "text": [
      "Uploading IDAHO_EPSCOR_GRIDMET_012015_20240601_20240701_ETO.tif:  38%|███▊      | 91/241 [09:49<16:11,  6.48s/it]"
     ]
    },
    {
     "name": "stdout",
     "output_type": "stream",
     "text": [
      "[2025-07-22 11:28:19 INFO] Uploaded file IDAHO_EPSCOR_GRIDMET_012015_20240601_20240701_ETO.tif to aws bucket ose-dev-inputs\n",
      "[2025-07-22 11:28:19 INFO] Deleted local file IDAHO_EPSCOR_GRIDMET_012015_20240601_20240701_ETO.tif\n"
     ]
    },
    {
     "name": "stderr",
     "output_type": "stream",
     "text": [
      "Uploading IDAHO_EPSCOR_GRIDMET_012011_20240301_20240401_ETO.tif:  38%|███▊      | 92/241 [09:55<15:53,  6.40s/it]"
     ]
    },
    {
     "name": "stdout",
     "output_type": "stream",
     "text": [
      "[2025-07-22 11:28:25 INFO] Uploaded file IDAHO_EPSCOR_GRIDMET_012011_20240301_20240401_ETO.tif to aws bucket ose-dev-inputs\n",
      "[2025-07-22 11:28:26 INFO] Deleted local file IDAHO_EPSCOR_GRIDMET_012011_20240301_20240401_ETO.tif\n"
     ]
    },
    {
     "name": "stderr",
     "output_type": "stream",
     "text": [
      "Uploading IDAHO_EPSCOR_GRIDMET_010013_20240901_20241001_ETO.tif:  39%|███▊      | 93/241 [10:02<15:37,  6.33s/it]"
     ]
    },
    {
     "name": "stdout",
     "output_type": "stream",
     "text": [
      "[2025-07-22 11:28:32 INFO] Uploaded file IDAHO_EPSCOR_GRIDMET_010013_20240901_20241001_ETO.tif to aws bucket ose-dev-inputs\n",
      "[2025-07-22 11:28:32 INFO] Deleted local file IDAHO_EPSCOR_GRIDMET_010013_20240901_20241001_ETO.tif\n"
     ]
    },
    {
     "name": "stderr",
     "output_type": "stream",
     "text": [
      "Uploading IDAHO_EPSCOR_GRIDMET_009015_20240601_20240701_ETO.tif:  39%|███▉      | 94/241 [10:08<15:42,  6.41s/it]"
     ]
    },
    {
     "name": "stdout",
     "output_type": "stream",
     "text": [
      "[2025-07-22 11:28:39 INFO] Uploaded file IDAHO_EPSCOR_GRIDMET_009015_20240601_20240701_ETO.tif to aws bucket ose-dev-inputs\n",
      "[2025-07-22 11:28:39 INFO] Deleted local file IDAHO_EPSCOR_GRIDMET_009015_20240601_20240701_ETO.tif\n"
     ]
    },
    {
     "name": "stderr",
     "output_type": "stream",
     "text": [
      "Uploading IDAHO_EPSCOR_GRIDMET_012015_20240201_20240301_ETO.tif:  39%|███▉      | 95/241 [10:15<15:52,  6.52s/it]"
     ]
    },
    {
     "name": "stdout",
     "output_type": "stream",
     "text": [
      "[2025-07-22 11:28:45 INFO] Uploaded file IDAHO_EPSCOR_GRIDMET_012015_20240201_20240301_ETO.tif to aws bucket ose-dev-inputs\n",
      "[2025-07-22 11:28:45 INFO] Deleted local file IDAHO_EPSCOR_GRIDMET_012015_20240201_20240301_ETO.tif\n"
     ]
    },
    {
     "name": "stderr",
     "output_type": "stream",
     "text": [
      "Uploading IDAHO_EPSCOR_GRIDMET_010011_20240401_20240501_ETO.tif:  40%|███▉      | 96/241 [10:21<15:25,  6.38s/it]"
     ]
    },
    {
     "name": "stdout",
     "output_type": "stream",
     "text": [
      "[2025-07-22 11:28:51 INFO] Uploaded file IDAHO_EPSCOR_GRIDMET_010011_20240401_20240501_ETO.tif to aws bucket ose-dev-inputs\n",
      "[2025-07-22 11:28:51 INFO] Deleted local file IDAHO_EPSCOR_GRIDMET_010011_20240401_20240501_ETO.tif\n"
     ]
    },
    {
     "name": "stderr",
     "output_type": "stream",
     "text": [
      "Uploading IDAHO_EPSCOR_GRIDMET_009012_20241201_20250101_ETO.tif:  40%|████      | 97/241 [10:27<15:15,  6.36s/it]"
     ]
    },
    {
     "name": "stdout",
     "output_type": "stream",
     "text": [
      "[2025-07-22 11:28:58 INFO] Uploaded file IDAHO_EPSCOR_GRIDMET_009012_20241201_20250101_ETO.tif to aws bucket ose-dev-inputs\n",
      "[2025-07-22 11:28:58 INFO] Deleted local file IDAHO_EPSCOR_GRIDMET_009012_20241201_20250101_ETO.tif\n"
     ]
    },
    {
     "name": "stderr",
     "output_type": "stream",
     "text": [
      "Uploading IDAHO_EPSCOR_GRIDMET_011015_20241201_20250101_ETO.tif:  41%|████      | 98/241 [10:34<15:40,  6.58s/it]"
     ]
    },
    {
     "name": "stdout",
     "output_type": "stream",
     "text": [
      "[2025-07-22 11:29:05 INFO] Uploaded file IDAHO_EPSCOR_GRIDMET_011015_20241201_20250101_ETO.tif to aws bucket ose-dev-inputs\n",
      "[2025-07-22 11:29:05 INFO] Deleted local file IDAHO_EPSCOR_GRIDMET_011015_20241201_20250101_ETO.tif\n"
     ]
    },
    {
     "name": "stderr",
     "output_type": "stream",
     "text": [
      "Uploading IDAHO_EPSCOR_GRIDMET_012014_20241001_20241101_ETO.tif:  41%|████      | 99/241 [10:41<15:47,  6.68s/it]"
     ]
    },
    {
     "name": "stdout",
     "output_type": "stream",
     "text": [
      "[2025-07-22 11:29:11 INFO] Uploaded file IDAHO_EPSCOR_GRIDMET_012014_20241001_20241101_ETO.tif to aws bucket ose-dev-inputs\n",
      "[2025-07-22 11:29:11 INFO] Deleted local file IDAHO_EPSCOR_GRIDMET_012014_20241001_20241101_ETO.tif\n"
     ]
    },
    {
     "name": "stderr",
     "output_type": "stream",
     "text": [
      "Uploading IDAHO_EPSCOR_GRIDMET_011012_20240601_20240701_ETO.tif:  41%|████▏     | 100/241 [10:47<15:12,  6.47s/it]"
     ]
    },
    {
     "name": "stdout",
     "output_type": "stream",
     "text": [
      "[2025-07-22 11:29:18 INFO] Uploaded file IDAHO_EPSCOR_GRIDMET_011012_20240601_20240701_ETO.tif to aws bucket ose-dev-inputs\n",
      "[2025-07-22 11:29:18 INFO] Deleted local file IDAHO_EPSCOR_GRIDMET_011012_20240601_20240701_ETO.tif\n"
     ]
    },
    {
     "name": "stderr",
     "output_type": "stream",
     "text": [
      "Uploading IDAHO_EPSCOR_GRIDMET_009014_20241001_20241101_ETO.tif:  42%|████▏     | 101/241 [10:54<15:05,  6.46s/it]"
     ]
    },
    {
     "name": "stdout",
     "output_type": "stream",
     "text": [
      "[2025-07-22 11:29:24 INFO] Uploaded file IDAHO_EPSCOR_GRIDMET_009014_20241001_20241101_ETO.tif to aws bucket ose-dev-inputs\n",
      "[2025-07-22 11:29:24 INFO] Deleted local file IDAHO_EPSCOR_GRIDMET_009014_20241001_20241101_ETO.tif\n"
     ]
    },
    {
     "name": "stderr",
     "output_type": "stream",
     "text": [
      "Uploading IDAHO_EPSCOR_GRIDMET_010015_20241101_20241201_ETO.tif:  42%|████▏     | 102/241 [11:00<14:53,  6.43s/it]"
     ]
    },
    {
     "name": "stdout",
     "output_type": "stream",
     "text": [
      "[2025-07-22 11:29:30 INFO] Uploaded file IDAHO_EPSCOR_GRIDMET_010015_20241101_20241201_ETO.tif to aws bucket ose-dev-inputs\n",
      "[2025-07-22 11:29:30 INFO] Deleted local file IDAHO_EPSCOR_GRIDMET_010015_20241101_20241201_ETO.tif\n"
     ]
    },
    {
     "name": "stderr",
     "output_type": "stream",
     "text": [
      "Uploading IDAHO_EPSCOR_GRIDMET_011012_20240201_20240301_ETO.tif:  43%|████▎     | 103/241 [11:06<14:35,  6.34s/it]"
     ]
    },
    {
     "name": "stdout",
     "output_type": "stream",
     "text": [
      "[2025-07-22 11:29:37 INFO] Uploaded file IDAHO_EPSCOR_GRIDMET_011012_20240201_20240301_ETO.tif to aws bucket ose-dev-inputs\n",
      "[2025-07-22 11:29:37 INFO] Deleted local file IDAHO_EPSCOR_GRIDMET_011012_20240201_20240301_ETO.tif\n"
     ]
    },
    {
     "name": "stderr",
     "output_type": "stream",
     "text": [
      "Uploading IDAHO_EPSCOR_GRIDMET_012013_20241101_20241201_ETO.tif:  43%|████▎     | 104/241 [11:13<14:29,  6.35s/it]"
     ]
    },
    {
     "name": "stdout",
     "output_type": "stream",
     "text": [
      "[2025-07-22 11:29:42 INFO] Uploaded file IDAHO_EPSCOR_GRIDMET_012013_20241101_20241201_ETO.tif to aws bucket ose-dev-inputs\n",
      "[2025-07-22 11:29:42 INFO] Deleted local file IDAHO_EPSCOR_GRIDMET_012013_20241101_20241201_ETO.tif\n"
     ]
    },
    {
     "name": "stderr",
     "output_type": "stream",
     "text": [
      "Uploading IDAHO_EPSCOR_GRIDMET_011012_20240901_20241001_ETO.tif:  44%|████▎     | 105/241 [11:18<13:57,  6.16s/it]"
     ]
    },
    {
     "name": "stdout",
     "output_type": "stream",
     "text": [
      "[2025-07-22 11:29:48 INFO] Uploaded file IDAHO_EPSCOR_GRIDMET_011012_20240901_20241001_ETO.tif to aws bucket ose-dev-inputs\n",
      "[2025-07-22 11:29:48 INFO] Deleted local file IDAHO_EPSCOR_GRIDMET_011012_20240901_20241001_ETO.tif\n"
     ]
    },
    {
     "name": "stderr",
     "output_type": "stream",
     "text": [
      "Uploading IDAHO_EPSCOR_GRIDMET_011013_20240801_20240901_ETO.tif:  44%|████▍     | 106/241 [11:25<13:54,  6.18s/it]"
     ]
    },
    {
     "name": "stdout",
     "output_type": "stream",
     "text": [
      "[2025-07-22 11:29:55 INFO] Uploaded file IDAHO_EPSCOR_GRIDMET_011013_20240801_20240901_ETO.tif to aws bucket ose-dev-inputs\n",
      "[2025-07-22 11:29:55 INFO] Deleted local file IDAHO_EPSCOR_GRIDMET_011013_20240801_20240901_ETO.tif\n"
     ]
    },
    {
     "name": "stderr",
     "output_type": "stream",
     "text": [
      "Uploading IDAHO_EPSCOR_GRIDMET_010012_20241001_20241101_ETO.tif:  44%|████▍     | 107/241 [11:31<13:51,  6.20s/it]"
     ]
    },
    {
     "name": "stdout",
     "output_type": "stream",
     "text": [
      "[2025-07-22 11:30:02 INFO] Uploaded file IDAHO_EPSCOR_GRIDMET_010012_20241001_20241101_ETO.tif to aws bucket ose-dev-inputs\n",
      "[2025-07-22 11:30:02 INFO] Deleted local file IDAHO_EPSCOR_GRIDMET_010012_20241001_20241101_ETO.tif\n"
     ]
    },
    {
     "name": "stderr",
     "output_type": "stream",
     "text": [
      "Uploading IDAHO_EPSCOR_GRIDMET_009013_20241101_20241201_ETO.tif:  45%|████▍     | 108/241 [11:38<14:27,  6.52s/it]"
     ]
    },
    {
     "name": "stdout",
     "output_type": "stream",
     "text": [
      "[2025-07-22 11:30:09 INFO] Uploaded file IDAHO_EPSCOR_GRIDMET_009013_20241101_20241201_ETO.tif to aws bucket ose-dev-inputs\n",
      "[2025-07-22 11:30:09 INFO] Deleted local file IDAHO_EPSCOR_GRIDMET_009013_20241101_20241201_ETO.tif\n"
     ]
    },
    {
     "name": "stderr",
     "output_type": "stream",
     "text": [
      "Uploading IDAHO_EPSCOR_GRIDMET_009014_20240801_20240901_ETO.tif:  45%|████▌     | 109/241 [11:45<14:24,  6.55s/it]"
     ]
    },
    {
     "name": "stdout",
     "output_type": "stream",
     "text": [
      "[2025-07-22 11:30:17 INFO] Uploaded file IDAHO_EPSCOR_GRIDMET_009014_20240801_20240901_ETO.tif to aws bucket ose-dev-inputs\n",
      "[2025-07-22 11:30:17 INFO] Deleted local file IDAHO_EPSCOR_GRIDMET_009014_20240801_20240901_ETO.tif\n"
     ]
    },
    {
     "name": "stderr",
     "output_type": "stream",
     "text": [
      "Uploading IDAHO_EPSCOR_GRIDMET_011014_20241101_20241201_ETO.tif:  46%|████▌     | 110/241 [11:53<15:41,  7.19s/it]"
     ]
    },
    {
     "name": "stdout",
     "output_type": "stream",
     "text": [
      "[2025-07-22 11:30:24 INFO] Uploaded file IDAHO_EPSCOR_GRIDMET_011014_20241101_20241201_ETO.tif to aws bucket ose-dev-inputs\n",
      "[2025-07-22 11:30:24 INFO] Deleted local file IDAHO_EPSCOR_GRIDMET_011014_20241101_20241201_ETO.tif\n"
     ]
    },
    {
     "name": "stderr",
     "output_type": "stream",
     "text": [
      "Uploading IDAHO_EPSCOR_GRIDMET_012015_20240901_20241001_ETO.tif:  46%|████▌     | 111/241 [12:00<15:13,  7.02s/it]"
     ]
    },
    {
     "name": "stdout",
     "output_type": "stream",
     "text": [
      "[2025-07-22 11:30:30 INFO] Uploaded file IDAHO_EPSCOR_GRIDMET_012015_20240901_20241001_ETO.tif to aws bucket ose-dev-inputs\n",
      "[2025-07-22 11:30:30 INFO] Deleted local file IDAHO_EPSCOR_GRIDMET_012015_20240901_20241001_ETO.tif\n"
     ]
    },
    {
     "name": "stderr",
     "output_type": "stream",
     "text": [
      "Uploading IDAHO_EPSCOR_GRIDMET_010013_20240201_20240301_ETO.tif:  46%|████▋     | 112/241 [12:06<14:11,  6.60s/it]"
     ]
    },
    {
     "name": "stdout",
     "output_type": "stream",
     "text": [
      "[2025-07-22 11:30:37 INFO] Uploaded file IDAHO_EPSCOR_GRIDMET_010013_20240201_20240301_ETO.tif to aws bucket ose-dev-inputs\n",
      "[2025-07-22 11:30:37 INFO] Deleted local file IDAHO_EPSCOR_GRIDMET_010013_20240201_20240301_ETO.tif\n"
     ]
    },
    {
     "name": "stderr",
     "output_type": "stream",
     "text": [
      "Uploading IDAHO_EPSCOR_GRIDMET_010014_20241201_20250101_ETO.tif:  47%|████▋     | 113/241 [12:14<14:52,  6.97s/it]"
     ]
    },
    {
     "name": "stdout",
     "output_type": "stream",
     "text": [
      "[2025-07-22 11:30:46 INFO] Uploaded file IDAHO_EPSCOR_GRIDMET_010014_20241201_20250101_ETO.tif to aws bucket ose-dev-inputs\n",
      "[2025-07-22 11:30:46 INFO] Deleted local file IDAHO_EPSCOR_GRIDMET_010014_20241201_20250101_ETO.tif\n"
     ]
    },
    {
     "name": "stderr",
     "output_type": "stream",
     "text": [
      "Uploading IDAHO_EPSCOR_GRIDMET_009015_20240901_20241001_ETO.tif:  47%|████▋     | 114/241 [12:22<15:39,  7.40s/it]"
     ]
    },
    {
     "name": "stdout",
     "output_type": "stream",
     "text": [
      "[2025-07-22 11:30:52 INFO] Uploaded file IDAHO_EPSCOR_GRIDMET_009015_20240901_20241001_ETO.tif to aws bucket ose-dev-inputs\n",
      "[2025-07-22 11:30:52 INFO] Deleted local file IDAHO_EPSCOR_GRIDMET_009015_20240901_20241001_ETO.tif\n"
     ]
    },
    {
     "name": "stderr",
     "output_type": "stream",
     "text": [
      "Uploading IDAHO_EPSCOR_GRIDMET_012014_20240801_20240901_ETO.tif:  48%|████▊     | 115/241 [12:28<14:41,  6.99s/it]"
     ]
    },
    {
     "name": "stdout",
     "output_type": "stream",
     "text": [
      "[2025-07-22 11:30:58 INFO] Uploaded file IDAHO_EPSCOR_GRIDMET_012014_20240801_20240901_ETO.tif to aws bucket ose-dev-inputs\n",
      "[2025-07-22 11:30:58 INFO] Deleted local file IDAHO_EPSCOR_GRIDMET_012014_20240801_20240901_ETO.tif\n"
     ]
    },
    {
     "name": "stderr",
     "output_type": "stream",
     "text": [
      "Uploading IDAHO_EPSCOR_GRIDMET_010013_20240601_20240701_ETO.tif:  48%|████▊     | 116/241 [12:34<13:52,  6.66s/it]"
     ]
    },
    {
     "name": "stdout",
     "output_type": "stream",
     "text": [
      "[2025-07-22 11:31:04 INFO] Uploaded file IDAHO_EPSCOR_GRIDMET_010013_20240601_20240701_ETO.tif to aws bucket ose-dev-inputs\n",
      "[2025-07-22 11:31:04 INFO] Deleted local file IDAHO_EPSCOR_GRIDMET_010013_20240601_20240701_ETO.tif\n"
     ]
    },
    {
     "name": "stderr",
     "output_type": "stream",
     "text": [
      "Uploading IDAHO_EPSCOR_GRIDMET_012014_20240901_20241001_ETO.tif:  49%|████▊     | 117/241 [12:40<13:36,  6.58s/it]"
     ]
    },
    {
     "name": "stdout",
     "output_type": "stream",
     "text": [
      "[2025-07-22 11:31:10 INFO] Uploaded file IDAHO_EPSCOR_GRIDMET_012014_20240901_20241001_ETO.tif to aws bucket ose-dev-inputs\n",
      "[2025-07-22 11:31:10 INFO] Deleted local file IDAHO_EPSCOR_GRIDMET_012014_20240901_20241001_ETO.tif\n"
     ]
    },
    {
     "name": "stderr",
     "output_type": "stream",
     "text": [
      "Uploading IDAHO_EPSCOR_GRIDMET_009015_20240801_20240901_ETO.tif:  49%|████▉     | 118/241 [12:46<12:56,  6.31s/it]"
     ]
    },
    {
     "name": "stdout",
     "output_type": "stream",
     "text": [
      "[2025-07-22 11:31:16 INFO] Uploaded file IDAHO_EPSCOR_GRIDMET_009015_20240801_20240901_ETO.tif to aws bucket ose-dev-inputs\n",
      "[2025-07-22 11:31:16 INFO] Deleted local file IDAHO_EPSCOR_GRIDMET_009015_20240801_20240901_ETO.tif\n"
     ]
    },
    {
     "name": "stderr",
     "output_type": "stream",
     "text": [
      "Uploading IDAHO_EPSCOR_GRIDMET_011015_20241101_20241201_ETO.tif:  49%|████▉     | 119/241 [12:53<13:02,  6.41s/it]"
     ]
    },
    {
     "name": "stdout",
     "output_type": "stream",
     "text": [
      "[2025-07-22 11:31:22 INFO] Uploaded file IDAHO_EPSCOR_GRIDMET_011015_20241101_20241201_ETO.tif to aws bucket ose-dev-inputs\n",
      "[2025-07-22 11:31:22 INFO] Deleted local file IDAHO_EPSCOR_GRIDMET_011015_20241101_20241201_ETO.tif\n"
     ]
    },
    {
     "name": "stderr",
     "output_type": "stream",
     "text": [
      "Uploading IDAHO_EPSCOR_GRIDMET_010012_20240201_20240301_ETO.tif:  50%|████▉     | 120/241 [12:58<12:31,  6.21s/it]"
     ]
    },
    {
     "name": "stdout",
     "output_type": "stream",
     "text": [
      "[2025-07-22 11:31:28 INFO] Uploaded file IDAHO_EPSCOR_GRIDMET_010012_20240201_20240301_ETO.tif to aws bucket ose-dev-inputs\n",
      "[2025-07-22 11:31:28 INFO] Deleted local file IDAHO_EPSCOR_GRIDMET_010012_20240201_20240301_ETO.tif\n"
     ]
    },
    {
     "name": "stderr",
     "output_type": "stream",
     "text": [
      "Uploading IDAHO_EPSCOR_GRIDMET_010015_20241201_20250101_ETO.tif:  50%|█████     | 121/241 [13:04<12:22,  6.19s/it]"
     ]
    },
    {
     "name": "stdout",
     "output_type": "stream",
     "text": [
      "[2025-07-22 11:31:35 INFO] Uploaded file IDAHO_EPSCOR_GRIDMET_010015_20241201_20250101_ETO.tif to aws bucket ose-dev-inputs\n",
      "[2025-07-22 11:31:35 INFO] Deleted local file IDAHO_EPSCOR_GRIDMET_010015_20241201_20250101_ETO.tif\n"
     ]
    },
    {
     "name": "stderr",
     "output_type": "stream",
     "text": [
      "Uploading IDAHO_EPSCOR_GRIDMET_010012_20240601_20240701_ETO.tif:  51%|█████     | 122/241 [13:11<12:29,  6.30s/it]"
     ]
    },
    {
     "name": "stdout",
     "output_type": "stream",
     "text": [
      "[2025-07-22 11:31:41 INFO] Uploaded file IDAHO_EPSCOR_GRIDMET_010012_20240601_20240701_ETO.tif to aws bucket ose-dev-inputs\n",
      "[2025-07-22 11:31:41 INFO] Deleted local file IDAHO_EPSCOR_GRIDMET_010012_20240601_20240701_ETO.tif\n"
     ]
    },
    {
     "name": "stderr",
     "output_type": "stream",
     "text": [
      "Uploading IDAHO_EPSCOR_GRIDMET_012015_20240801_20240901_ETO.tif:  51%|█████     | 123/241 [13:17<12:23,  6.30s/it]"
     ]
    },
    {
     "name": "stdout",
     "output_type": "stream",
     "text": [
      "[2025-07-22 11:31:47 INFO] Uploaded file IDAHO_EPSCOR_GRIDMET_012015_20240801_20240901_ETO.tif to aws bucket ose-dev-inputs\n",
      "[2025-07-22 11:31:47 INFO] Deleted local file IDAHO_EPSCOR_GRIDMET_012015_20240801_20240901_ETO.tif\n"
     ]
    },
    {
     "name": "stderr",
     "output_type": "stream",
     "text": [
      "Uploading IDAHO_EPSCOR_GRIDMET_009014_20240901_20241001_ETO.tif:  51%|█████▏    | 124/241 [13:23<12:09,  6.23s/it]"
     ]
    },
    {
     "name": "stdout",
     "output_type": "stream",
     "text": [
      "[2025-07-22 11:31:54 INFO] Uploaded file IDAHO_EPSCOR_GRIDMET_009014_20240901_20241001_ETO.tif to aws bucket ose-dev-inputs\n",
      "[2025-07-22 11:31:54 INFO] Deleted local file IDAHO_EPSCOR_GRIDMET_009014_20240901_20241001_ETO.tif\n"
     ]
    },
    {
     "name": "stderr",
     "output_type": "stream",
     "text": [
      "Uploading IDAHO_EPSCOR_GRIDMET_011013_20240901_20241001_ETO.tif:  52%|█████▏    | 125/241 [13:30<12:07,  6.27s/it]"
     ]
    },
    {
     "name": "stdout",
     "output_type": "stream",
     "text": [
      "[2025-07-22 11:32:01 INFO] Uploaded file IDAHO_EPSCOR_GRIDMET_011013_20240901_20241001_ETO.tif to aws bucket ose-dev-inputs\n",
      "[2025-07-22 11:32:01 INFO] Deleted local file IDAHO_EPSCOR_GRIDMET_011013_20240901_20241001_ETO.tif\n"
     ]
    },
    {
     "name": "stderr",
     "output_type": "stream",
     "text": [
      "Uploading IDAHO_EPSCOR_GRIDMET_012012_20241101_20241201_ETO.tif:  52%|█████▏    | 126/241 [13:37<12:24,  6.47s/it]"
     ]
    },
    {
     "name": "stdout",
     "output_type": "stream",
     "text": [
      "[2025-07-22 11:32:07 INFO] Uploaded file IDAHO_EPSCOR_GRIDMET_012012_20241101_20241201_ETO.tif to aws bucket ose-dev-inputs\n",
      "[2025-07-22 11:32:07 INFO] Deleted local file IDAHO_EPSCOR_GRIDMET_012012_20241101_20241201_ETO.tif\n"
     ]
    },
    {
     "name": "stderr",
     "output_type": "stream",
     "text": [
      "Uploading IDAHO_EPSCOR_GRIDMET_011011_20240401_20240501_ETO.tif:  53%|█████▎    | 127/241 [13:43<12:09,  6.40s/it]"
     ]
    },
    {
     "name": "stdout",
     "output_type": "stream",
     "text": [
      "[2025-07-22 11:32:13 INFO] Uploaded file IDAHO_EPSCOR_GRIDMET_011011_20240401_20240501_ETO.tif to aws bucket ose-dev-inputs\n",
      "[2025-07-22 11:32:13 INFO] Deleted local file IDAHO_EPSCOR_GRIDMET_011011_20240401_20240501_ETO.tif\n"
     ]
    },
    {
     "name": "stderr",
     "output_type": "stream",
     "text": [
      "Uploading IDAHO_EPSCOR_GRIDMET_011012_20240801_20240901_ETO.tif:  53%|█████▎    | 128/241 [13:50<12:08,  6.45s/it]"
     ]
    },
    {
     "name": "stdout",
     "output_type": "stream",
     "text": [
      "[2025-07-22 11:32:20 INFO] Uploaded file IDAHO_EPSCOR_GRIDMET_011012_20240801_20240901_ETO.tif to aws bucket ose-dev-inputs\n",
      "[2025-07-22 11:32:20 INFO] Deleted local file IDAHO_EPSCOR_GRIDMET_011012_20240801_20240901_ETO.tif\n"
     ]
    },
    {
     "name": "stderr",
     "output_type": "stream",
     "text": [
      "Uploading IDAHO_EPSCOR_GRIDMET_010013_20241001_20241101_ETO.tif:  54%|█████▎    | 129/241 [13:56<12:09,  6.51s/it]"
     ]
    },
    {
     "name": "stdout",
     "output_type": "stream",
     "text": [
      "[2025-07-22 11:32:26 INFO] Uploaded file IDAHO_EPSCOR_GRIDMET_010013_20241001_20241101_ETO.tif to aws bucket ose-dev-inputs\n",
      "[2025-07-22 11:32:26 INFO] Deleted local file IDAHO_EPSCOR_GRIDMET_010013_20241001_20241101_ETO.tif\n"
     ]
    },
    {
     "name": "stderr",
     "output_type": "stream",
     "text": [
      "Uploading IDAHO_EPSCOR_GRIDMET_009012_20241101_20241201_ETO.tif:  54%|█████▍    | 130/241 [14:02<11:52,  6.42s/it]"
     ]
    },
    {
     "name": "stdout",
     "output_type": "stream",
     "text": [
      "[2025-07-22 11:32:33 INFO] Uploaded file IDAHO_EPSCOR_GRIDMET_009012_20241101_20241201_ETO.tif to aws bucket ose-dev-inputs\n",
      "[2025-07-22 11:32:33 INFO] Deleted local file IDAHO_EPSCOR_GRIDMET_009012_20241101_20241201_ETO.tif\n"
     ]
    },
    {
     "name": "stderr",
     "output_type": "stream",
     "text": [
      "Uploading IDAHO_EPSCOR_GRIDMET_011014_20241201_20250101_ETO.tif:  54%|█████▍    | 131/241 [14:09<12:01,  6.56s/it]"
     ]
    },
    {
     "name": "stdout",
     "output_type": "stream",
     "text": [
      "[2025-07-22 11:32:40 INFO] Uploaded file IDAHO_EPSCOR_GRIDMET_011014_20241201_20250101_ETO.tif to aws bucket ose-dev-inputs\n",
      "[2025-07-22 11:32:40 INFO] Deleted local file IDAHO_EPSCOR_GRIDMET_011014_20241201_20250101_ETO.tif\n"
     ]
    },
    {
     "name": "stderr",
     "output_type": "stream",
     "text": [
      "Uploading IDAHO_EPSCOR_GRIDMET_009011_20240701_20240801_ETO.tif:  55%|█████▍    | 132/241 [14:16<12:10,  6.70s/it]"
     ]
    },
    {
     "name": "stdout",
     "output_type": "stream",
     "text": [
      "[2025-07-22 11:32:47 INFO] Uploaded file IDAHO_EPSCOR_GRIDMET_009011_20240701_20240801_ETO.tif to aws bucket ose-dev-inputs\n",
      "[2025-07-22 11:32:47 INFO] Deleted local file IDAHO_EPSCOR_GRIDMET_009011_20240701_20240801_ETO.tif\n"
     ]
    },
    {
     "name": "stderr",
     "output_type": "stream",
     "text": [
      "Uploading IDAHO_EPSCOR_GRIDMET_011013_20240601_20240701_ETO.tif:  55%|█████▌    | 133/241 [14:24<12:23,  6.88s/it]"
     ]
    },
    {
     "name": "stdout",
     "output_type": "stream",
     "text": [
      "[2025-07-22 11:32:54 INFO] Uploaded file IDAHO_EPSCOR_GRIDMET_011013_20240601_20240701_ETO.tif to aws bucket ose-dev-inputs\n",
      "[2025-07-22 11:32:54 INFO] Deleted local file IDAHO_EPSCOR_GRIDMET_011013_20240601_20240701_ETO.tif\n"
     ]
    },
    {
     "name": "stderr",
     "output_type": "stream",
     "text": [
      "Uploading IDAHO_EPSCOR_GRIDMET_012015_20241001_20241101_ETO.tif:  56%|█████▌    | 134/241 [14:30<12:02,  6.75s/it]"
     ]
    },
    {
     "name": "stdout",
     "output_type": "stream",
     "text": [
      "[2025-07-22 11:33:01 INFO] Uploaded file IDAHO_EPSCOR_GRIDMET_012015_20241001_20241101_ETO.tif to aws bucket ose-dev-inputs\n",
      "[2025-07-22 11:33:01 INFO] Deleted local file IDAHO_EPSCOR_GRIDMET_012015_20241001_20241101_ETO.tif\n"
     ]
    },
    {
     "name": "stderr",
     "output_type": "stream",
     "text": [
      "Uploading IDAHO_EPSCOR_GRIDMET_009015_20241001_20241101_ETO.tif:  56%|█████▌    | 135/241 [14:37<12:00,  6.80s/it]"
     ]
    },
    {
     "name": "stdout",
     "output_type": "stream",
     "text": [
      "[2025-07-22 11:33:08 INFO] Uploaded file IDAHO_EPSCOR_GRIDMET_009015_20241001_20241101_ETO.tif to aws bucket ose-dev-inputs\n",
      "[2025-07-22 11:33:08 INFO] Deleted local file IDAHO_EPSCOR_GRIDMET_009015_20241001_20241101_ETO.tif\n"
     ]
    },
    {
     "name": "stderr",
     "output_type": "stream",
     "text": [
      "Uploading IDAHO_EPSCOR_GRIDMET_010014_20241101_20241201_ETO.tif:  56%|█████▋    | 136/241 [14:44<12:08,  6.94s/it]"
     ]
    },
    {
     "name": "stdout",
     "output_type": "stream",
     "text": [
      "[2025-07-22 11:33:15 INFO] Uploaded file IDAHO_EPSCOR_GRIDMET_010014_20241101_20241201_ETO.tif to aws bucket ose-dev-inputs\n",
      "[2025-07-22 11:33:15 INFO] Deleted local file IDAHO_EPSCOR_GRIDMET_010014_20241101_20241201_ETO.tif\n"
     ]
    },
    {
     "name": "stderr",
     "output_type": "stream",
     "text": [
      "Uploading IDAHO_EPSCOR_GRIDMET_012011_20240701_20240801_ETO.tif:  57%|█████▋    | 137/241 [14:51<11:48,  6.81s/it]"
     ]
    },
    {
     "name": "stdout",
     "output_type": "stream",
     "text": [
      "[2025-07-22 11:33:22 INFO] Uploaded file IDAHO_EPSCOR_GRIDMET_012011_20240701_20240801_ETO.tif to aws bucket ose-dev-inputs\n",
      "[2025-07-22 11:33:22 INFO] Deleted local file IDAHO_EPSCOR_GRIDMET_012011_20240701_20240801_ETO.tif\n"
     ]
    },
    {
     "name": "stderr",
     "output_type": "stream",
     "text": [
      "Uploading IDAHO_EPSCOR_GRIDMET_011013_20240201_20240301_ETO.tif:  57%|█████▋    | 138/241 [14:58<11:46,  6.86s/it]"
     ]
    },
    {
     "name": "stdout",
     "output_type": "stream",
     "text": [
      "[2025-07-22 11:33:27 INFO] Uploaded file IDAHO_EPSCOR_GRIDMET_011013_20240201_20240301_ETO.tif to aws bucket ose-dev-inputs\n",
      "[2025-07-22 11:33:27 INFO] Deleted local file IDAHO_EPSCOR_GRIDMET_011013_20240201_20240301_ETO.tif\n"
     ]
    },
    {
     "name": "stderr",
     "output_type": "stream",
     "text": [
      "Uploading IDAHO_EPSCOR_GRIDMET_012011_20240501_20240601_ETO.tif:  58%|█████▊    | 139/241 [15:04<11:11,  6.58s/it]"
     ]
    },
    {
     "name": "stdout",
     "output_type": "stream",
     "text": [
      "[2025-07-22 11:33:33 INFO] Uploaded file IDAHO_EPSCOR_GRIDMET_012011_20240501_20240601_ETO.tif to aws bucket ose-dev-inputs\n",
      "[2025-07-22 11:33:33 INFO] Deleted local file IDAHO_EPSCOR_GRIDMET_012011_20240501_20240601_ETO.tif\n"
     ]
    },
    {
     "name": "stderr",
     "output_type": "stream",
     "text": [
      "Uploading IDAHO_EPSCOR_GRIDMET_012013_20241201_20250101_ETO.tif:  58%|█████▊    | 140/241 [15:10<10:46,  6.40s/it]"
     ]
    },
    {
     "name": "stdout",
     "output_type": "stream",
     "text": [
      "[2025-07-22 11:33:40 INFO] Uploaded file IDAHO_EPSCOR_GRIDMET_012013_20241201_20250101_ETO.tif to aws bucket ose-dev-inputs\n",
      "[2025-07-22 11:33:40 INFO] Deleted local file IDAHO_EPSCOR_GRIDMET_012013_20241201_20250101_ETO.tif\n"
     ]
    },
    {
     "name": "stderr",
     "output_type": "stream",
     "text": [
      "Uploading IDAHO_EPSCOR_GRIDMET_009014_20240201_20240301_ETO.tif:  59%|█████▊    | 141/241 [15:16<10:32,  6.33s/it]"
     ]
    },
    {
     "name": "stdout",
     "output_type": "stream",
     "text": [
      "[2025-07-22 11:33:47 INFO] Uploaded file IDAHO_EPSCOR_GRIDMET_009014_20240201_20240301_ETO.tif to aws bucket ose-dev-inputs\n",
      "[2025-07-22 11:33:47 INFO] Deleted local file IDAHO_EPSCOR_GRIDMET_009014_20240201_20240301_ETO.tif\n"
     ]
    },
    {
     "name": "stderr",
     "output_type": "stream",
     "text": [
      "Uploading IDAHO_EPSCOR_GRIDMET_012014_20240601_20240701_ETO.tif:  59%|█████▉    | 142/241 [15:23<10:48,  6.55s/it]"
     ]
    },
    {
     "name": "stdout",
     "output_type": "stream",
     "text": [
      "[2025-07-22 11:33:54 INFO] Uploaded file IDAHO_EPSCOR_GRIDMET_012014_20240601_20240701_ETO.tif to aws bucket ose-dev-inputs\n",
      "[2025-07-22 11:33:54 INFO] Deleted local file IDAHO_EPSCOR_GRIDMET_012014_20240601_20240701_ETO.tif\n"
     ]
    },
    {
     "name": "stderr",
     "output_type": "stream",
     "text": [
      "Uploading IDAHO_EPSCOR_GRIDMET_010013_20240801_20240901_ETO.tif:  59%|█████▉    | 143/241 [15:30<10:57,  6.71s/it]"
     ]
    },
    {
     "name": "stdout",
     "output_type": "stream",
     "text": [
      "[2025-07-22 11:34:01 INFO] Uploaded file IDAHO_EPSCOR_GRIDMET_010013_20240801_20240901_ETO.tif to aws bucket ose-dev-inputs\n",
      "[2025-07-22 11:34:01 INFO] Deleted local file IDAHO_EPSCOR_GRIDMET_010013_20240801_20240901_ETO.tif\n"
     ]
    },
    {
     "name": "stderr",
     "output_type": "stream",
     "text": [
      "Uploading IDAHO_EPSCOR_GRIDMET_009011_20240101_20240201_ETO.tif:  60%|█████▉    | 144/241 [15:37<11:12,  6.93s/it]"
     ]
    },
    {
     "name": "stdout",
     "output_type": "stream",
     "text": [
      "[2025-07-22 11:34:08 INFO] Uploaded file IDAHO_EPSCOR_GRIDMET_009011_20240101_20240201_ETO.tif to aws bucket ose-dev-inputs\n",
      "[2025-07-22 11:34:08 INFO] Deleted local file IDAHO_EPSCOR_GRIDMET_009011_20240101_20240201_ETO.tif\n"
     ]
    },
    {
     "name": "stderr",
     "output_type": "stream",
     "text": [
      "Uploading IDAHO_EPSCOR_GRIDMET_011012_20241001_20241101_ETO.tif:  60%|██████    | 145/241 [15:44<10:50,  6.77s/it]"
     ]
    },
    {
     "name": "stdout",
     "output_type": "stream",
     "text": [
      "[2025-07-22 11:34:15 INFO] Uploaded file IDAHO_EPSCOR_GRIDMET_011012_20241001_20241101_ETO.tif to aws bucket ose-dev-inputs\n",
      "[2025-07-22 11:34:15 INFO] Deleted local file IDAHO_EPSCOR_GRIDMET_011012_20241001_20241101_ETO.tif\n"
     ]
    },
    {
     "name": "stderr",
     "output_type": "stream",
     "text": [
      "Uploading IDAHO_EPSCOR_GRIDMET_009014_20240601_20240701_ETO.tif:  61%|██████    | 146/241 [15:51<10:49,  6.83s/it]"
     ]
    },
    {
     "name": "stdout",
     "output_type": "stream",
     "text": [
      "[2025-07-22 11:34:22 INFO] Uploaded file IDAHO_EPSCOR_GRIDMET_009014_20240601_20240701_ETO.tif to aws bucket ose-dev-inputs\n",
      "[2025-07-22 11:34:22 INFO] Deleted local file IDAHO_EPSCOR_GRIDMET_009014_20240601_20240701_ETO.tif\n"
     ]
    },
    {
     "name": "stderr",
     "output_type": "stream",
     "text": [
      "Uploading IDAHO_EPSCOR_GRIDMET_010012_20240901_20241001_ETO.tif:  61%|██████    | 147/241 [15:59<11:12,  7.15s/it]"
     ]
    },
    {
     "name": "stdout",
     "output_type": "stream",
     "text": [
      "[2025-07-22 11:34:29 INFO] Uploaded file IDAHO_EPSCOR_GRIDMET_010012_20240901_20241001_ETO.tif to aws bucket ose-dev-inputs\n",
      "[2025-07-22 11:34:29 INFO] Deleted local file IDAHO_EPSCOR_GRIDMET_010012_20240901_20241001_ETO.tif\n"
     ]
    },
    {
     "name": "stderr",
     "output_type": "stream",
     "text": [
      "Uploading IDAHO_EPSCOR_GRIDMET_012011_20240101_20240201_ETO.tif:  61%|██████▏   | 148/241 [16:05<10:51,  7.00s/it]"
     ]
    },
    {
     "name": "stdout",
     "output_type": "stream",
     "text": [
      "[2025-07-22 11:34:36 INFO] Uploaded file IDAHO_EPSCOR_GRIDMET_012011_20240101_20240201_ETO.tif to aws bucket ose-dev-inputs\n",
      "[2025-07-22 11:34:36 INFO] Deleted local file IDAHO_EPSCOR_GRIDMET_012011_20240101_20240201_ETO.tif\n"
     ]
    },
    {
     "name": "stderr",
     "output_type": "stream",
     "text": [
      "Uploading IDAHO_EPSCOR_GRIDMET_009013_20241201_20250101_ETO.tif:  62%|██████▏   | 149/241 [16:12<10:34,  6.90s/it]"
     ]
    },
    {
     "name": "stdout",
     "output_type": "stream",
     "text": [
      "[2025-07-22 11:34:42 INFO] Uploaded file IDAHO_EPSCOR_GRIDMET_009013_20241201_20250101_ETO.tif to aws bucket ose-dev-inputs\n",
      "[2025-07-22 11:34:42 INFO] Deleted local file IDAHO_EPSCOR_GRIDMET_009013_20241201_20250101_ETO.tif\n"
     ]
    },
    {
     "name": "stderr",
     "output_type": "stream",
     "text": [
      "Uploading IDAHO_EPSCOR_GRIDMET_009011_20240501_20240601_ETO.tif:  62%|██████▏   | 150/241 [16:19<10:20,  6.82s/it]"
     ]
    },
    {
     "name": "stdout",
     "output_type": "stream",
     "text": [
      "[2025-07-22 11:34:53 INFO] Uploaded file IDAHO_EPSCOR_GRIDMET_009011_20240501_20240601_ETO.tif to aws bucket ose-dev-inputs\n",
      "[2025-07-22 11:34:53 INFO] Deleted local file IDAHO_EPSCOR_GRIDMET_009011_20240501_20240601_ETO.tif\n"
     ]
    },
    {
     "name": "stderr",
     "output_type": "stream",
     "text": [
      "Uploading IDAHO_EPSCOR_GRIDMET_012014_20240201_20240301_ETO.tif:  63%|██████▎   | 151/241 [16:29<12:00,  8.01s/it]"
     ]
    },
    {
     "name": "stdout",
     "output_type": "stream",
     "text": [
      "[2025-07-22 11:35:00 INFO] Uploaded file IDAHO_EPSCOR_GRIDMET_012014_20240201_20240301_ETO.tif to aws bucket ose-dev-inputs\n",
      "[2025-07-22 11:35:00 INFO] Deleted local file IDAHO_EPSCOR_GRIDMET_012014_20240201_20240301_ETO.tif\n"
     ]
    },
    {
     "name": "stderr",
     "output_type": "stream",
     "text": [
      "Uploading IDAHO_EPSCOR_GRIDMET_009014_20241201_20250101_ETO.tif:  63%|██████▎   | 152/241 [16:36<11:12,  7.55s/it]"
     ]
    },
    {
     "name": "stdout",
     "output_type": "stream",
     "text": [
      "[2025-07-22 11:35:07 INFO] Uploaded file IDAHO_EPSCOR_GRIDMET_009014_20241201_20250101_ETO.tif to aws bucket ose-dev-inputs\n",
      "[2025-07-22 11:35:07 INFO] Deleted local file IDAHO_EPSCOR_GRIDMET_009014_20241201_20250101_ETO.tif\n"
     ]
    },
    {
     "name": "stderr",
     "output_type": "stream",
     "text": [
      "Uploading IDAHO_EPSCOR_GRIDMET_011011_20240701_20240801_ETO.tif:  63%|██████▎   | 153/241 [16:43<10:48,  7.37s/it]"
     ]
    },
    {
     "name": "stdout",
     "output_type": "stream",
     "text": [
      "[2025-07-22 11:35:13 INFO] Uploaded file IDAHO_EPSCOR_GRIDMET_011011_20240701_20240801_ETO.tif to aws bucket ose-dev-inputs\n",
      "[2025-07-22 11:35:13 INFO] Deleted local file IDAHO_EPSCOR_GRIDMET_011011_20240701_20240801_ETO.tif\n"
     ]
    },
    {
     "name": "stderr",
     "output_type": "stream",
     "text": [
      "Uploading IDAHO_EPSCOR_GRIDMET_012013_20240201_20240301_ETO.tif:  64%|██████▍   | 154/241 [16:50<10:24,  7.18s/it]"
     ]
    },
    {
     "name": "stdout",
     "output_type": "stream",
     "text": [
      "[2025-07-22 11:35:19 INFO] Uploaded file IDAHO_EPSCOR_GRIDMET_012013_20240201_20240301_ETO.tif to aws bucket ose-dev-inputs\n",
      "[2025-07-22 11:35:19 INFO] Deleted local file IDAHO_EPSCOR_GRIDMET_012013_20240201_20240301_ETO.tif\n"
     ]
    },
    {
     "name": "stderr",
     "output_type": "stream",
     "text": [
      "Uploading IDAHO_EPSCOR_GRIDMET_009013_20240601_20240701_ETO.tif:  64%|██████▍   | 155/241 [16:56<09:47,  6.83s/it]"
     ]
    },
    {
     "name": "stdout",
     "output_type": "stream",
     "text": [
      "[2025-07-22 11:35:26 INFO] Uploaded file IDAHO_EPSCOR_GRIDMET_009013_20240601_20240701_ETO.tif to aws bucket ose-dev-inputs\n",
      "[2025-07-22 11:35:26 INFO] Deleted local file IDAHO_EPSCOR_GRIDMET_009013_20240601_20240701_ETO.tif\n"
     ]
    },
    {
     "name": "stderr",
     "output_type": "stream",
     "text": [
      "Uploading IDAHO_EPSCOR_GRIDMET_010015_20240901_20241001_ETO.tif:  65%|██████▍   | 156/241 [17:02<09:23,  6.63s/it]"
     ]
    },
    {
     "name": "stdout",
     "output_type": "stream",
     "text": [
      "[2025-07-22 11:35:32 INFO] Uploaded file IDAHO_EPSCOR_GRIDMET_010015_20240901_20241001_ETO.tif to aws bucket ose-dev-inputs\n",
      "[2025-07-22 11:35:32 INFO] Deleted local file IDAHO_EPSCOR_GRIDMET_010015_20240901_20241001_ETO.tif\n"
     ]
    },
    {
     "name": "stderr",
     "output_type": "stream",
     "text": [
      "Uploading IDAHO_EPSCOR_GRIDMET_012013_20240601_20240701_ETO.tif:  65%|██████▌   | 157/241 [17:08<09:12,  6.57s/it]"
     ]
    },
    {
     "name": "stdout",
     "output_type": "stream",
     "text": [
      "[2025-07-22 11:35:38 INFO] Uploaded file IDAHO_EPSCOR_GRIDMET_012013_20240601_20240701_ETO.tif to aws bucket ose-dev-inputs\n",
      "[2025-07-22 11:35:38 INFO] Deleted local file IDAHO_EPSCOR_GRIDMET_012013_20240601_20240701_ETO.tif\n"
     ]
    },
    {
     "name": "stderr",
     "output_type": "stream",
     "text": [
      "Uploading IDAHO_EPSCOR_GRIDMET_011015_20241001_20241101_ETO.tif:  66%|██████▌   | 158/241 [17:14<08:54,  6.43s/it]"
     ]
    },
    {
     "name": "stdout",
     "output_type": "stream",
     "text": [
      "[2025-07-22 11:35:44 INFO] Uploaded file IDAHO_EPSCOR_GRIDMET_011015_20241001_20241101_ETO.tif to aws bucket ose-dev-inputs\n",
      "[2025-07-22 11:35:44 INFO] Deleted local file IDAHO_EPSCOR_GRIDMET_011015_20241001_20241101_ETO.tif\n"
     ]
    },
    {
     "name": "stderr",
     "output_type": "stream",
     "text": [
      "Uploading IDAHO_EPSCOR_GRIDMET_010014_20240801_20240901_ETO.tif:  66%|██████▌   | 159/241 [17:20<08:36,  6.30s/it]"
     ]
    },
    {
     "name": "stdout",
     "output_type": "stream",
     "text": [
      "[2025-07-22 11:35:50 INFO] Uploaded file IDAHO_EPSCOR_GRIDMET_010014_20240801_20240901_ETO.tif to aws bucket ose-dev-inputs\n",
      "[2025-07-22 11:35:51 INFO] Deleted local file IDAHO_EPSCOR_GRIDMET_010014_20240801_20240901_ETO.tif\n"
     ]
    },
    {
     "name": "stderr",
     "output_type": "stream",
     "text": [
      "Uploading IDAHO_EPSCOR_GRIDMET_012014_20241201_20250101_ETO.tif:  66%|██████▋   | 160/241 [17:27<08:33,  6.34s/it]"
     ]
    },
    {
     "name": "stdout",
     "output_type": "stream",
     "text": [
      "[2025-07-22 11:35:57 INFO] Uploaded file IDAHO_EPSCOR_GRIDMET_012014_20241201_20250101_ETO.tif to aws bucket ose-dev-inputs\n",
      "[2025-07-22 11:35:57 INFO] Deleted local file IDAHO_EPSCOR_GRIDMET_012014_20241201_20250101_ETO.tif\n"
     ]
    },
    {
     "name": "stderr",
     "output_type": "stream",
     "text": [
      "Uploading IDAHO_EPSCOR_GRIDMET_009013_20240201_20240301_ETO.tif:  67%|██████▋   | 161/241 [17:33<08:25,  6.32s/it]"
     ]
    },
    {
     "name": "stdout",
     "output_type": "stream",
     "text": [
      "[2025-07-22 11:36:04 INFO] Uploaded file IDAHO_EPSCOR_GRIDMET_009013_20240201_20240301_ETO.tif to aws bucket ose-dev-inputs\n",
      "[2025-07-22 11:36:04 INFO] Deleted local file IDAHO_EPSCOR_GRIDMET_009013_20240201_20240301_ETO.tif\n"
     ]
    },
    {
     "name": "stderr",
     "output_type": "stream",
     "text": [
      "Uploading IDAHO_EPSCOR_GRIDMET_011014_20240201_20240301_ETO.tif:  67%|██████▋   | 162/241 [17:40<08:28,  6.44s/it]"
     ]
    },
    {
     "name": "stdout",
     "output_type": "stream",
     "text": [
      "[2025-07-22 11:36:10 INFO] Uploaded file IDAHO_EPSCOR_GRIDMET_011014_20240201_20240301_ETO.tif to aws bucket ose-dev-inputs\n",
      "[2025-07-22 11:36:10 INFO] Deleted local file IDAHO_EPSCOR_GRIDMET_011014_20240201_20240301_ETO.tif\n"
     ]
    },
    {
     "name": "stderr",
     "output_type": "stream",
     "text": [
      "Uploading IDAHO_EPSCOR_GRIDMET_010013_20241101_20241201_ETO.tif:  68%|██████▊   | 163/241 [17:46<08:22,  6.45s/it]"
     ]
    },
    {
     "name": "stdout",
     "output_type": "stream",
     "text": [
      "[2025-07-22 11:36:20 INFO] Uploaded file IDAHO_EPSCOR_GRIDMET_010013_20241101_20241201_ETO.tif to aws bucket ose-dev-inputs\n",
      "[2025-07-22 11:36:20 INFO] Deleted local file IDAHO_EPSCOR_GRIDMET_010013_20241101_20241201_ETO.tif\n"
     ]
    },
    {
     "name": "stderr",
     "output_type": "stream",
     "text": [
      "Uploading IDAHO_EPSCOR_GRIDMET_009012_20241001_20241101_ETO.tif:  68%|██████▊   | 164/241 [17:56<09:46,  7.61s/it]"
     ]
    },
    {
     "name": "stdout",
     "output_type": "stream",
     "text": [
      "[2025-07-22 11:36:27 INFO] Uploaded file IDAHO_EPSCOR_GRIDMET_009012_20241001_20241101_ETO.tif to aws bucket ose-dev-inputs\n",
      "[2025-07-22 11:36:27 INFO] Deleted local file IDAHO_EPSCOR_GRIDMET_009012_20241001_20241101_ETO.tif\n"
     ]
    },
    {
     "name": "stderr",
     "output_type": "stream",
     "text": [
      "Uploading IDAHO_EPSCOR_GRIDMET_011011_20240101_20240201_ETO.tif:  68%|██████▊   | 165/241 [18:04<09:26,  7.45s/it]"
     ]
    },
    {
     "name": "stdout",
     "output_type": "stream",
     "text": [
      "[2025-07-22 11:36:34 INFO] Uploaded file IDAHO_EPSCOR_GRIDMET_011011_20240101_20240201_ETO.tif to aws bucket ose-dev-inputs\n",
      "[2025-07-22 11:36:34 INFO] Deleted local file IDAHO_EPSCOR_GRIDMET_011011_20240101_20240201_ETO.tif\n"
     ]
    },
    {
     "name": "stderr",
     "output_type": "stream",
     "text": [
      "Uploading IDAHO_EPSCOR_GRIDMET_011014_20240601_20240701_ETO.tif:  69%|██████▉   | 166/241 [18:10<08:49,  7.06s/it]"
     ]
    },
    {
     "name": "stdout",
     "output_type": "stream",
     "text": [
      "[2025-07-22 11:36:40 INFO] Uploaded file IDAHO_EPSCOR_GRIDMET_011014_20240601_20240701_ETO.tif to aws bucket ose-dev-inputs\n",
      "[2025-07-22 11:36:40 INFO] Deleted local file IDAHO_EPSCOR_GRIDMET_011014_20240601_20240701_ETO.tif\n"
     ]
    },
    {
     "name": "stderr",
     "output_type": "stream",
     "text": [
      "Uploading IDAHO_EPSCOR_GRIDMET_012012_20241001_20241101_ETO.tif:  69%|██████▉   | 167/241 [18:16<08:35,  6.97s/it]"
     ]
    },
    {
     "name": "stdout",
     "output_type": "stream",
     "text": [
      "[2025-07-22 11:36:47 INFO] Uploaded file IDAHO_EPSCOR_GRIDMET_012012_20241001_20241101_ETO.tif to aws bucket ose-dev-inputs\n",
      "[2025-07-22 11:36:47 INFO] Deleted local file IDAHO_EPSCOR_GRIDMET_012012_20241001_20241101_ETO.tif\n"
     ]
    },
    {
     "name": "stderr",
     "output_type": "stream",
     "text": [
      "Uploading IDAHO_EPSCOR_GRIDMET_011011_20240501_20240601_ETO.tif:  70%|██████▉   | 168/241 [18:23<08:15,  6.79s/it]"
     ]
    },
    {
     "name": "stdout",
     "output_type": "stream",
     "text": [
      "[2025-07-22 11:36:53 INFO] Uploaded file IDAHO_EPSCOR_GRIDMET_011011_20240501_20240601_ETO.tif to aws bucket ose-dev-inputs\n",
      "[2025-07-22 11:36:53 INFO] Deleted local file IDAHO_EPSCOR_GRIDMET_011011_20240501_20240601_ETO.tif\n"
     ]
    },
    {
     "name": "stderr",
     "output_type": "stream",
     "text": [
      "Uploading IDAHO_EPSCOR_GRIDMET_011013_20241201_20250101_ETO.tif:  70%|███████   | 169/241 [18:29<08:01,  6.69s/it]"
     ]
    },
    {
     "name": "stdout",
     "output_type": "stream",
     "text": [
      "[2025-07-22 11:36:59 INFO] Uploaded file IDAHO_EPSCOR_GRIDMET_011013_20241201_20250101_ETO.tif to aws bucket ose-dev-inputs\n",
      "[2025-07-22 11:36:59 INFO] Deleted local file IDAHO_EPSCOR_GRIDMET_011013_20241201_20250101_ETO.tif\n"
     ]
    },
    {
     "name": "stderr",
     "output_type": "stream",
     "text": [
      "Uploading IDAHO_EPSCOR_GRIDMET_009015_20241101_20241201_ETO.tif:  71%|███████   | 170/241 [18:35<07:42,  6.51s/it]"
     ]
    },
    {
     "name": "stdout",
     "output_type": "stream",
     "text": [
      "[2025-07-22 11:37:06 INFO] Uploaded file IDAHO_EPSCOR_GRIDMET_009015_20241101_20241201_ETO.tif to aws bucket ose-dev-inputs\n",
      "[2025-07-22 11:37:06 INFO] Deleted local file IDAHO_EPSCOR_GRIDMET_009015_20241101_20241201_ETO.tif\n"
     ]
    },
    {
     "name": "stderr",
     "output_type": "stream",
     "text": [
      "Uploading IDAHO_EPSCOR_GRIDMET_010014_20241001_20241101_ETO.tif:  71%|███████   | 171/241 [18:42<07:38,  6.55s/it]"
     ]
    },
    {
     "name": "stdout",
     "output_type": "stream",
     "text": [
      "[2025-07-22 11:37:12 INFO] Uploaded file IDAHO_EPSCOR_GRIDMET_010014_20241001_20241101_ETO.tif to aws bucket ose-dev-inputs\n",
      "[2025-07-22 11:37:12 INFO] Deleted local file IDAHO_EPSCOR_GRIDMET_010014_20241001_20241101_ETO.tif\n"
     ]
    },
    {
     "name": "stderr",
     "output_type": "stream",
     "text": [
      "Uploading IDAHO_EPSCOR_GRIDMET_011015_20240801_20240901_ETO.tif:  71%|███████▏  | 172/241 [18:48<07:27,  6.48s/it]"
     ]
    },
    {
     "name": "stdout",
     "output_type": "stream",
     "text": [
      "[2025-07-22 11:37:19 INFO] Uploaded file IDAHO_EPSCOR_GRIDMET_011015_20240801_20240901_ETO.tif to aws bucket ose-dev-inputs\n",
      "[2025-07-22 11:37:19 INFO] Deleted local file IDAHO_EPSCOR_GRIDMET_011015_20240801_20240901_ETO.tif\n"
     ]
    },
    {
     "name": "stderr",
     "output_type": "stream",
     "text": [
      "Uploading IDAHO_EPSCOR_GRIDMET_012015_20241101_20241201_ETO.tif:  72%|███████▏  | 173/241 [18:55<07:20,  6.48s/it]"
     ]
    },
    {
     "name": "stdout",
     "output_type": "stream",
     "text": [
      "[2025-07-22 11:37:25 INFO] Uploaded file IDAHO_EPSCOR_GRIDMET_012015_20241101_20241201_ETO.tif to aws bucket ose-dev-inputs\n",
      "[2025-07-22 11:37:25 INFO] Deleted local file IDAHO_EPSCOR_GRIDMET_012015_20241101_20241201_ETO.tif\n"
     ]
    },
    {
     "name": "stderr",
     "output_type": "stream",
     "text": [
      "Uploading IDAHO_EPSCOR_GRIDMET_011014_20240901_20241001_ETO.tif:  72%|███████▏  | 174/241 [19:02<07:18,  6.54s/it]"
     ]
    },
    {
     "name": "stdout",
     "output_type": "stream",
     "text": [
      "[2025-07-22 11:37:31 INFO] Uploaded file IDAHO_EPSCOR_GRIDMET_011014_20240901_20241001_ETO.tif to aws bucket ose-dev-inputs\n",
      "[2025-07-22 11:37:31 INFO] Deleted local file IDAHO_EPSCOR_GRIDMET_011014_20240901_20241001_ETO.tif\n"
     ]
    },
    {
     "name": "stderr",
     "output_type": "stream",
     "text": [
      "Uploading IDAHO_EPSCOR_GRIDMET_010015_20240601_20240701_ETO.tif:  73%|███████▎  | 175/241 [19:08<07:03,  6.41s/it]"
     ]
    },
    {
     "name": "stdout",
     "output_type": "stream",
     "text": [
      "[2025-07-22 11:37:37 INFO] Uploaded file IDAHO_EPSCOR_GRIDMET_010015_20240601_20240701_ETO.tif to aws bucket ose-dev-inputs\n",
      "[2025-07-22 11:37:38 INFO] Deleted local file IDAHO_EPSCOR_GRIDMET_010015_20240601_20240701_ETO.tif\n"
     ]
    },
    {
     "name": "stderr",
     "output_type": "stream",
     "text": [
      "Uploading IDAHO_EPSCOR_GRIDMET_009013_20240901_20241001_ETO.tif:  73%|███████▎  | 176/241 [19:14<06:49,  6.30s/it]"
     ]
    },
    {
     "name": "stdout",
     "output_type": "stream",
     "text": [
      "[2025-07-22 11:37:44 INFO] Uploaded file IDAHO_EPSCOR_GRIDMET_009013_20240901_20241001_ETO.tif to aws bucket ose-dev-inputs\n",
      "[2025-07-22 11:37:44 INFO] Deleted local file IDAHO_EPSCOR_GRIDMET_009013_20240901_20241001_ETO.tif\n"
     ]
    },
    {
     "name": "stderr",
     "output_type": "stream",
     "text": [
      "Uploading IDAHO_EPSCOR_GRIDMET_012012_20240801_20240901_ETO.tif:  73%|███████▎  | 177/241 [19:20<06:44,  6.31s/it]"
     ]
    },
    {
     "name": "stdout",
     "output_type": "stream",
     "text": [
      "[2025-07-22 11:37:50 INFO] Uploaded file IDAHO_EPSCOR_GRIDMET_012012_20240801_20240901_ETO.tif to aws bucket ose-dev-inputs\n",
      "[2025-07-22 11:37:50 INFO] Deleted local file IDAHO_EPSCOR_GRIDMET_012012_20240801_20240901_ETO.tif\n"
     ]
    },
    {
     "name": "stderr",
     "output_type": "stream",
     "text": [
      "Uploading IDAHO_EPSCOR_GRIDMET_009011_20240401_20240501_ETO.tif:  74%|███████▍  | 178/241 [19:27<06:43,  6.40s/it]"
     ]
    },
    {
     "name": "stdout",
     "output_type": "stream",
     "text": [
      "[2025-07-22 11:37:58 INFO] Uploaded file IDAHO_EPSCOR_GRIDMET_009011_20240401_20240501_ETO.tif to aws bucket ose-dev-inputs\n",
      "[2025-07-22 11:37:58 INFO] Deleted local file IDAHO_EPSCOR_GRIDMET_009011_20240401_20240501_ETO.tif\n"
     ]
    },
    {
     "name": "stderr",
     "output_type": "stream",
     "text": [
      "Uploading IDAHO_EPSCOR_GRIDMET_010012_20241201_20250101_ETO.tif:  74%|███████▍  | 179/241 [19:34<06:54,  6.69s/it]"
     ]
    },
    {
     "name": "stdout",
     "output_type": "stream",
     "text": [
      "[2025-07-22 11:38:05 INFO] Uploaded file IDAHO_EPSCOR_GRIDMET_010012_20241201_20250101_ETO.tif to aws bucket ose-dev-inputs\n",
      "[2025-07-22 11:38:05 INFO] Deleted local file IDAHO_EPSCOR_GRIDMET_010012_20241201_20250101_ETO.tif\n"
     ]
    },
    {
     "name": "stderr",
     "output_type": "stream",
     "text": [
      "Uploading IDAHO_EPSCOR_GRIDMET_012011_20240401_20240501_ETO.tif:  75%|███████▍  | 180/241 [19:41<06:53,  6.78s/it]"
     ]
    },
    {
     "name": "stdout",
     "output_type": "stream",
     "text": [
      "[2025-07-22 11:38:12 INFO] Uploaded file IDAHO_EPSCOR_GRIDMET_012011_20240401_20240501_ETO.tif to aws bucket ose-dev-inputs\n",
      "[2025-07-22 11:38:12 INFO] Deleted local file IDAHO_EPSCOR_GRIDMET_012011_20240401_20240501_ETO.tif\n"
     ]
    },
    {
     "name": "stderr",
     "output_type": "stream",
     "text": [
      "Uploading IDAHO_EPSCOR_GRIDMET_010015_20240201_20240301_ETO.tif:  75%|███████▌  | 181/241 [19:48<06:50,  6.84s/it]"
     ]
    },
    {
     "name": "stdout",
     "output_type": "stream",
     "text": [
      "[2025-07-22 11:38:18 INFO] Uploaded file IDAHO_EPSCOR_GRIDMET_010015_20240201_20240301_ETO.tif to aws bucket ose-dev-inputs\n",
      "[2025-07-22 11:38:18 INFO] Deleted local file IDAHO_EPSCOR_GRIDMET_010015_20240201_20240301_ETO.tif\n"
     ]
    },
    {
     "name": "stderr",
     "output_type": "stream",
     "text": [
      "Uploading IDAHO_EPSCOR_GRIDMET_011012_20241101_20241201_ETO.tif:  76%|███████▌  | 182/241 [19:54<06:35,  6.71s/it]"
     ]
    },
    {
     "name": "stdout",
     "output_type": "stream",
     "text": [
      "[2025-07-22 11:38:25 INFO] Uploaded file IDAHO_EPSCOR_GRIDMET_011012_20241101_20241201_ETO.tif to aws bucket ose-dev-inputs\n",
      "[2025-07-22 11:38:25 INFO] Deleted local file IDAHO_EPSCOR_GRIDMET_011012_20241101_20241201_ETO.tif\n"
     ]
    },
    {
     "name": "stderr",
     "output_type": "stream",
     "text": [
      "Uploading IDAHO_EPSCOR_GRIDMET_010011_20240301_20240401_ETO.tif:  76%|███████▌  | 183/241 [20:01<06:27,  6.68s/it]"
     ]
    },
    {
     "name": "stdout",
     "output_type": "stream",
     "text": [
      "[2025-07-22 11:38:33 INFO] Uploaded file IDAHO_EPSCOR_GRIDMET_010011_20240301_20240401_ETO.tif to aws bucket ose-dev-inputs\n",
      "[2025-07-22 11:38:33 INFO] Deleted local file IDAHO_EPSCOR_GRIDMET_010011_20240301_20240401_ETO.tif\n"
     ]
    },
    {
     "name": "stderr",
     "output_type": "stream",
     "text": [
      "Uploading IDAHO_EPSCOR_GRIDMET_009012_20240801_20240901_ETO.tif:  76%|███████▋  | 184/241 [20:09<06:40,  7.02s/it]"
     ]
    },
    {
     "name": "stdout",
     "output_type": "stream",
     "text": [
      "[2025-07-22 11:38:39 INFO] Uploaded file IDAHO_EPSCOR_GRIDMET_009012_20240801_20240901_ETO.tif to aws bucket ose-dev-inputs\n",
      "[2025-07-22 11:38:39 INFO] Deleted local file IDAHO_EPSCOR_GRIDMET_009012_20240801_20240901_ETO.tif\n"
     ]
    },
    {
     "name": "stderr",
     "output_type": "stream",
     "text": [
      "Uploading IDAHO_EPSCOR_GRIDMET_012013_20240901_20241001_ETO.tif:  77%|███████▋  | 185/241 [20:16<06:29,  6.96s/it]"
     ]
    },
    {
     "name": "stdout",
     "output_type": "stream",
     "text": [
      "[2025-07-22 11:38:46 INFO] Uploaded file IDAHO_EPSCOR_GRIDMET_012013_20240901_20241001_ETO.tif to aws bucket ose-dev-inputs\n",
      "[2025-07-22 11:38:46 INFO] Deleted local file IDAHO_EPSCOR_GRIDMET_012013_20240901_20241001_ETO.tif\n"
     ]
    },
    {
     "name": "stderr",
     "output_type": "stream",
     "text": [
      "Uploading IDAHO_EPSCOR_GRIDMET_012014_20240401_20240501_ETO.tif:  77%|███████▋  | 186/241 [20:22<06:19,  6.89s/it]"
     ]
    },
    {
     "name": "stdout",
     "output_type": "stream",
     "text": [
      "[2025-07-22 11:38:52 INFO] Uploaded file IDAHO_EPSCOR_GRIDMET_012014_20240401_20240501_ETO.tif to aws bucket ose-dev-inputs\n",
      "[2025-07-22 11:38:52 INFO] Deleted local file IDAHO_EPSCOR_GRIDMET_012014_20240401_20240501_ETO.tif\n"
     ]
    },
    {
     "name": "stderr",
     "output_type": "stream",
     "text": [
      "Uploading IDAHO_EPSCOR_GRIDMET_010014_20240301_20240401_ETO.tif:  78%|███████▊  | 187/241 [20:28<05:59,  6.66s/it]"
     ]
    },
    {
     "name": "stdout",
     "output_type": "stream",
     "text": [
      "[2025-07-22 11:38:59 INFO] Uploaded file IDAHO_EPSCOR_GRIDMET_010014_20240301_20240401_ETO.tif to aws bucket ose-dev-inputs\n",
      "[2025-07-22 11:38:59 INFO] Deleted local file IDAHO_EPSCOR_GRIDMET_010014_20240301_20240401_ETO.tif\n"
     ]
    },
    {
     "name": "stderr",
     "output_type": "stream",
     "text": [
      "Uploading IDAHO_EPSCOR_GRIDMET_010015_20240101_20240201_ETO.tif:  78%|███████▊  | 188/241 [20:35<05:50,  6.62s/it]"
     ]
    },
    {
     "name": "stdout",
     "output_type": "stream",
     "text": [
      "[2025-07-22 11:39:05 INFO] Uploaded file IDAHO_EPSCOR_GRIDMET_010015_20240101_20240201_ETO.tif to aws bucket ose-dev-inputs\n",
      "[2025-07-22 11:39:05 INFO] Deleted local file IDAHO_EPSCOR_GRIDMET_010015_20240101_20240201_ETO.tif\n"
     ]
    },
    {
     "name": "stderr",
     "output_type": "stream",
     "text": [
      "Uploading IDAHO_EPSCOR_GRIDMET_010015_20240501_20240601_ETO.tif:  78%|███████▊  | 189/241 [20:41<05:37,  6.50s/it]"
     ]
    },
    {
     "name": "stdout",
     "output_type": "stream",
     "text": [
      "[2025-07-22 11:39:11 INFO] Uploaded file IDAHO_EPSCOR_GRIDMET_010015_20240501_20240601_ETO.tif to aws bucket ose-dev-inputs\n",
      "[2025-07-22 11:39:11 INFO] Deleted local file IDAHO_EPSCOR_GRIDMET_010015_20240501_20240601_ETO.tif\n"
     ]
    },
    {
     "name": "stderr",
     "output_type": "stream",
     "text": [
      "Uploading IDAHO_EPSCOR_GRIDMET_009014_20240401_20240501_ETO.tif:  79%|███████▉  | 190/241 [20:47<05:28,  6.43s/it]"
     ]
    },
    {
     "name": "stdout",
     "output_type": "stream",
     "text": [
      "[2025-07-22 11:39:18 INFO] Uploaded file IDAHO_EPSCOR_GRIDMET_009014_20240401_20240501_ETO.tif to aws bucket ose-dev-inputs\n",
      "[2025-07-22 11:39:18 INFO] Deleted local file IDAHO_EPSCOR_GRIDMET_009014_20240401_20240501_ETO.tif\n"
     ]
    },
    {
     "name": "stderr",
     "output_type": "stream",
     "text": [
      "Uploading IDAHO_EPSCOR_GRIDMET_011013_20240401_20240501_ETO.tif:  79%|███████▉  | 191/241 [20:54<05:20,  6.40s/it]"
     ]
    },
    {
     "name": "stdout",
     "output_type": "stream",
     "text": [
      "[2025-07-22 11:39:24 INFO] Uploaded file IDAHO_EPSCOR_GRIDMET_011013_20240401_20240501_ETO.tif to aws bucket ose-dev-inputs\n",
      "[2025-07-22 11:39:24 INFO] Deleted local file IDAHO_EPSCOR_GRIDMET_011013_20240401_20240501_ETO.tif\n"
     ]
    },
    {
     "name": "stderr",
     "output_type": "stream",
     "text": [
      "Uploading IDAHO_EPSCOR_GRIDMET_010015_20240701_20240801_ETO.tif:  80%|███████▉  | 192/241 [21:00<05:07,  6.28s/it]"
     ]
    },
    {
     "name": "stdout",
     "output_type": "stream",
     "text": [
      "[2025-07-22 11:39:33 INFO] Uploaded file IDAHO_EPSCOR_GRIDMET_010015_20240701_20240801_ETO.tif to aws bucket ose-dev-inputs\n",
      "[2025-07-22 11:39:33 INFO] Deleted local file IDAHO_EPSCOR_GRIDMET_010015_20240701_20240801_ETO.tif\n"
     ]
    },
    {
     "name": "stderr",
     "output_type": "stream",
     "text": [
      "Uploading IDAHO_EPSCOR_GRIDMET_011011_20240901_20241001_ETO.tif:  80%|████████  | 193/241 [21:09<05:46,  7.22s/it]"
     ]
    },
    {
     "name": "stdout",
     "output_type": "stream",
     "text": [
      "[2025-07-22 11:39:39 INFO] Uploaded file IDAHO_EPSCOR_GRIDMET_011011_20240901_20241001_ETO.tif to aws bucket ose-dev-inputs\n",
      "[2025-07-22 11:39:39 INFO] Deleted local file IDAHO_EPSCOR_GRIDMET_011011_20240901_20241001_ETO.tif\n"
     ]
    },
    {
     "name": "stderr",
     "output_type": "stream",
     "text": [
      "Uploading IDAHO_EPSCOR_GRIDMET_010011_20241001_20241101_ETO.tif:  80%|████████  | 194/241 [21:16<05:27,  6.97s/it]"
     ]
    },
    {
     "name": "stdout",
     "output_type": "stream",
     "text": [
      "[2025-07-22 11:39:47 INFO] Uploaded file IDAHO_EPSCOR_GRIDMET_010011_20241001_20241101_ETO.tif to aws bucket ose-dev-inputs\n",
      "[2025-07-22 11:39:47 INFO] Deleted local file IDAHO_EPSCOR_GRIDMET_010011_20241001_20241101_ETO.tif\n"
     ]
    },
    {
     "name": "stderr",
     "output_type": "stream",
     "text": [
      "Uploading IDAHO_EPSCOR_GRIDMET_011011_20240601_20240701_ETO.tif:  81%|████████  | 195/241 [21:23<05:22,  7.02s/it]"
     ]
    },
    {
     "name": "stdout",
     "output_type": "stream",
     "text": [
      "[2025-07-22 11:39:53 INFO] Uploaded file IDAHO_EPSCOR_GRIDMET_011011_20240601_20240701_ETO.tif to aws bucket ose-dev-inputs\n",
      "[2025-07-22 11:39:53 INFO] Deleted local file IDAHO_EPSCOR_GRIDMET_011011_20240601_20240701_ETO.tif\n"
     ]
    },
    {
     "name": "stderr",
     "output_type": "stream",
     "text": [
      "Uploading IDAHO_EPSCOR_GRIDMET_011014_20240501_20240601_ETO.tif:  81%|████████▏ | 196/241 [21:29<05:10,  6.90s/it]"
     ]
    },
    {
     "name": "stdout",
     "output_type": "stream",
     "text": [
      "[2025-07-22 11:39:59 INFO] Uploaded file IDAHO_EPSCOR_GRIDMET_011014_20240501_20240601_ETO.tif to aws bucket ose-dev-inputs\n",
      "[2025-07-22 11:39:59 INFO] Deleted local file IDAHO_EPSCOR_GRIDMET_011014_20240501_20240601_ETO.tif\n"
     ]
    },
    {
     "name": "stderr",
     "output_type": "stream",
     "text": [
      "Uploading IDAHO_EPSCOR_GRIDMET_009013_20240701_20240801_ETO.tif:  82%|████████▏ | 197/241 [21:35<04:51,  6.62s/it]"
     ]
    },
    {
     "name": "stdout",
     "output_type": "stream",
     "text": [
      "[2025-07-22 11:40:06 INFO] Uploaded file IDAHO_EPSCOR_GRIDMET_009013_20240701_20240801_ETO.tif to aws bucket ose-dev-inputs\n",
      "[2025-07-22 11:40:06 INFO] Deleted local file IDAHO_EPSCOR_GRIDMET_009013_20240701_20240801_ETO.tif\n"
     ]
    },
    {
     "name": "stderr",
     "output_type": "stream",
     "text": [
      "Uploading IDAHO_EPSCOR_GRIDMET_011011_20240201_20240301_ETO.tif:  82%|████████▏ | 198/241 [21:42<04:47,  6.68s/it]"
     ]
    },
    {
     "name": "stdout",
     "output_type": "stream",
     "text": [
      "[2025-07-22 11:40:13 INFO] Uploaded file IDAHO_EPSCOR_GRIDMET_011011_20240201_20240301_ETO.tif to aws bucket ose-dev-inputs\n",
      "[2025-07-22 11:40:13 INFO] Deleted local file IDAHO_EPSCOR_GRIDMET_011011_20240201_20240301_ETO.tif\n"
     ]
    },
    {
     "name": "stderr",
     "output_type": "stream",
     "text": [
      "Uploading IDAHO_EPSCOR_GRIDMET_012013_20240701_20240801_ETO.tif:  83%|████████▎ | 199/241 [21:49<04:44,  6.77s/it]"
     ]
    },
    {
     "name": "stdout",
     "output_type": "stream",
     "text": [
      "[2025-07-22 11:40:21 INFO] Uploaded file IDAHO_EPSCOR_GRIDMET_012013_20240701_20240801_ETO.tif to aws bucket ose-dev-inputs\n",
      "[2025-07-22 11:40:21 INFO] Deleted local file IDAHO_EPSCOR_GRIDMET_012013_20240701_20240801_ETO.tif\n"
     ]
    },
    {
     "name": "stderr",
     "output_type": "stream",
     "text": [
      "Uploading IDAHO_EPSCOR_GRIDMET_011015_20240301_20240401_ETO.tif:  83%|████████▎ | 200/241 [21:57<04:54,  7.19s/it]"
     ]
    },
    {
     "name": "stdout",
     "output_type": "stream",
     "text": [
      "[2025-07-22 11:40:27 INFO] Uploaded file IDAHO_EPSCOR_GRIDMET_011015_20240301_20240401_ETO.tif to aws bucket ose-dev-inputs\n",
      "[2025-07-22 11:40:27 INFO] Deleted local file IDAHO_EPSCOR_GRIDMET_011015_20240301_20240401_ETO.tif\n"
     ]
    },
    {
     "name": "stderr",
     "output_type": "stream",
     "text": [
      "Uploading IDAHO_EPSCOR_GRIDMET_011014_20240101_20240201_ETO.tif:  83%|████████▎ | 201/241 [22:03<04:35,  6.88s/it]"
     ]
    },
    {
     "name": "stdout",
     "output_type": "stream",
     "text": [
      "[2025-07-22 11:40:33 INFO] Uploaded file IDAHO_EPSCOR_GRIDMET_011014_20240101_20240201_ETO.tif to aws bucket ose-dev-inputs\n",
      "[2025-07-22 11:40:33 INFO] Deleted local file IDAHO_EPSCOR_GRIDMET_011014_20240101_20240201_ETO.tif\n"
     ]
    },
    {
     "name": "stderr",
     "output_type": "stream",
     "text": [
      "Uploading IDAHO_EPSCOR_GRIDMET_009012_20240301_20240401_ETO.tif:  84%|████████▍ | 202/241 [22:09<04:18,  6.63s/it]"
     ]
    },
    {
     "name": "stdout",
     "output_type": "stream",
     "text": [
      "[2025-07-22 11:40:40 INFO] Uploaded file IDAHO_EPSCOR_GRIDMET_009012_20240301_20240401_ETO.tif to aws bucket ose-dev-inputs\n",
      "[2025-07-22 11:40:40 INFO] Deleted local file IDAHO_EPSCOR_GRIDMET_009012_20240301_20240401_ETO.tif\n"
     ]
    },
    {
     "name": "stderr",
     "output_type": "stream",
     "text": [
      "Uploading IDAHO_EPSCOR_GRIDMET_010011_20240801_20240901_ETO.tif:  84%|████████▍ | 203/241 [22:16<04:13,  6.67s/it]"
     ]
    },
    {
     "name": "stdout",
     "output_type": "stream",
     "text": [
      "[2025-07-22 11:40:48 INFO] Uploaded file IDAHO_EPSCOR_GRIDMET_010011_20240801_20240901_ETO.tif to aws bucket ose-dev-inputs\n",
      "[2025-07-22 11:40:49 INFO] Deleted local file IDAHO_EPSCOR_GRIDMET_010011_20240801_20240901_ETO.tif\n"
     ]
    },
    {
     "name": "stderr",
     "output_type": "stream",
     "text": [
      "Uploading IDAHO_EPSCOR_GRIDMET_009013_20240101_20240201_ETO.tif:  85%|████████▍ | 204/241 [22:25<04:25,  7.19s/it]"
     ]
    },
    {
     "name": "stdout",
     "output_type": "stream",
     "text": [
      "[2025-07-22 11:40:56 INFO] Uploaded file IDAHO_EPSCOR_GRIDMET_009013_20240101_20240201_ETO.tif to aws bucket ose-dev-inputs\n",
      "[2025-07-22 11:40:56 INFO] Deleted local file IDAHO_EPSCOR_GRIDMET_009013_20240101_20240201_ETO.tif\n"
     ]
    },
    {
     "name": "stderr",
     "output_type": "stream",
     "text": [
      "Uploading IDAHO_EPSCOR_GRIDMET_012011_20241201_20250101_ETO.tif:  85%|████████▌ | 205/241 [22:32<04:17,  7.15s/it]"
     ]
    },
    {
     "name": "stdout",
     "output_type": "stream",
     "text": [
      "[2025-07-22 11:41:02 INFO] Uploaded file IDAHO_EPSCOR_GRIDMET_012011_20241201_20250101_ETO.tif to aws bucket ose-dev-inputs\n",
      "[2025-07-22 11:41:02 INFO] Deleted local file IDAHO_EPSCOR_GRIDMET_012011_20241201_20250101_ETO.tif\n"
     ]
    },
    {
     "name": "stderr",
     "output_type": "stream",
     "text": [
      "Uploading IDAHO_EPSCOR_GRIDMET_012013_20240501_20240601_ETO.tif:  85%|████████▌ | 206/241 [22:38<04:05,  7.03s/it]"
     ]
    },
    {
     "name": "stdout",
     "output_type": "stream",
     "text": [
      "[2025-07-22 11:41:09 INFO] Uploaded file IDAHO_EPSCOR_GRIDMET_012013_20240501_20240601_ETO.tif to aws bucket ose-dev-inputs\n",
      "[2025-07-22 11:41:09 INFO] Deleted local file IDAHO_EPSCOR_GRIDMET_012013_20240501_20240601_ETO.tif\n"
     ]
    },
    {
     "name": "stderr",
     "output_type": "stream",
     "text": [
      "Uploading IDAHO_EPSCOR_GRIDMET_009013_20240501_20240601_ETO.tif:  86%|████████▌ | 207/241 [22:45<03:53,  6.88s/it]"
     ]
    },
    {
     "name": "stdout",
     "output_type": "stream",
     "text": [
      "[2025-07-22 11:41:16 INFO] Uploaded file IDAHO_EPSCOR_GRIDMET_009013_20240501_20240601_ETO.tif to aws bucket ose-dev-inputs\n",
      "[2025-07-22 11:41:16 INFO] Deleted local file IDAHO_EPSCOR_GRIDMET_009013_20240501_20240601_ETO.tif\n"
     ]
    },
    {
     "name": "stderr",
     "output_type": "stream",
     "text": [
      "Uploading IDAHO_EPSCOR_GRIDMET_010012_20240401_20240501_ETO.tif:  86%|████████▋ | 208/241 [22:52<03:51,  7.01s/it]"
     ]
    },
    {
     "name": "stdout",
     "output_type": "stream",
     "text": [
      "[2025-07-22 11:41:23 INFO] Uploaded file IDAHO_EPSCOR_GRIDMET_010012_20240401_20240501_ETO.tif to aws bucket ose-dev-inputs\n",
      "[2025-07-22 11:41:23 INFO] Deleted local file IDAHO_EPSCOR_GRIDMET_010012_20240401_20240501_ETO.tif\n"
     ]
    },
    {
     "name": "stderr",
     "output_type": "stream",
     "text": [
      "Uploading IDAHO_EPSCOR_GRIDMET_009011_20241201_20250101_ETO.tif:  87%|████████▋ | 209/241 [22:59<03:40,  6.89s/it]"
     ]
    },
    {
     "name": "stdout",
     "output_type": "stream",
     "text": [
      "[2025-07-22 11:41:30 INFO] Uploaded file IDAHO_EPSCOR_GRIDMET_009011_20241201_20250101_ETO.tif to aws bucket ose-dev-inputs\n",
      "[2025-07-22 11:41:30 INFO] Deleted local file IDAHO_EPSCOR_GRIDMET_009011_20241201_20250101_ETO.tif\n"
     ]
    },
    {
     "name": "stderr",
     "output_type": "stream",
     "text": [
      "Uploading IDAHO_EPSCOR_GRIDMET_011014_20240701_20240801_ETO.tif:  87%|████████▋ | 210/241 [23:06<03:34,  6.91s/it]"
     ]
    },
    {
     "name": "stdout",
     "output_type": "stream",
     "text": [
      "[2025-07-22 11:41:36 INFO] Uploaded file IDAHO_EPSCOR_GRIDMET_011014_20240701_20240801_ETO.tif to aws bucket ose-dev-inputs\n",
      "[2025-07-22 11:41:36 INFO] Deleted local file IDAHO_EPSCOR_GRIDMET_011014_20240701_20240801_ETO.tif\n"
     ]
    },
    {
     "name": "stderr",
     "output_type": "stream",
     "text": [
      "Uploading IDAHO_EPSCOR_GRIDMET_012013_20240101_20240201_ETO.tif:  88%|████████▊ | 211/241 [23:12<03:24,  6.83s/it]"
     ]
    },
    {
     "name": "stdout",
     "output_type": "stream",
     "text": [
      "[2025-07-22 11:41:44 INFO] Uploaded file IDAHO_EPSCOR_GRIDMET_012013_20240101_20240201_ETO.tif to aws bucket ose-dev-inputs\n",
      "[2025-07-22 11:41:44 INFO] Deleted local file IDAHO_EPSCOR_GRIDMET_012013_20240101_20240201_ETO.tif\n"
     ]
    },
    {
     "name": "stderr",
     "output_type": "stream",
     "text": [
      "Uploading IDAHO_EPSCOR_GRIDMET_012012_20240301_20240401_ETO.tif:  88%|████████▊ | 212/241 [23:20<03:21,  6.94s/it]"
     ]
    },
    {
     "name": "stdout",
     "output_type": "stream",
     "text": [
      "[2025-07-22 11:41:50 INFO] Uploaded file IDAHO_EPSCOR_GRIDMET_012012_20240301_20240401_ETO.tif to aws bucket ose-dev-inputs\n",
      "[2025-07-22 11:41:50 INFO] Deleted local file IDAHO_EPSCOR_GRIDMET_012012_20240301_20240401_ETO.tif\n"
     ]
    },
    {
     "name": "stderr",
     "output_type": "stream",
     "text": [
      "Uploading IDAHO_EPSCOR_GRIDMET_009011_20240601_20240701_ETO.tif:  88%|████████▊ | 213/241 [23:26<03:11,  6.82s/it]"
     ]
    },
    {
     "name": "stdout",
     "output_type": "stream",
     "text": [
      "[2025-07-22 11:41:57 INFO] Uploaded file IDAHO_EPSCOR_GRIDMET_009011_20240601_20240701_ETO.tif to aws bucket ose-dev-inputs\n",
      "[2025-07-22 11:41:58 INFO] Deleted local file IDAHO_EPSCOR_GRIDMET_009011_20240601_20240701_ETO.tif\n"
     ]
    },
    {
     "name": "stderr",
     "output_type": "stream",
     "text": [
      "Uploading IDAHO_EPSCOR_GRIDMET_012015_20240301_20240401_ETO.tif:  89%|████████▉ | 214/241 [23:34<03:09,  7.00s/it]"
     ]
    },
    {
     "name": "stdout",
     "output_type": "stream",
     "text": [
      "[2025-07-22 11:42:04 INFO] Uploaded file IDAHO_EPSCOR_GRIDMET_012015_20240301_20240401_ETO.tif to aws bucket ose-dev-inputs\n",
      "[2025-07-22 11:42:04 INFO] Deleted local file IDAHO_EPSCOR_GRIDMET_012015_20240301_20240401_ETO.tif\n"
     ]
    },
    {
     "name": "stderr",
     "output_type": "stream",
     "text": [
      "Uploading IDAHO_EPSCOR_GRIDMET_012014_20240101_20240201_ETO.tif:  89%|████████▉ | 215/241 [23:40<02:56,  6.79s/it]"
     ]
    },
    {
     "name": "stdout",
     "output_type": "stream",
     "text": [
      "[2025-07-22 11:42:10 INFO] Uploaded file IDAHO_EPSCOR_GRIDMET_012014_20240101_20240201_ETO.tif to aws bucket ose-dev-inputs\n",
      "[2025-07-22 11:42:10 INFO] Deleted local file IDAHO_EPSCOR_GRIDMET_012014_20240101_20240201_ETO.tif\n"
     ]
    },
    {
     "name": "stderr",
     "output_type": "stream",
     "text": [
      "Uploading IDAHO_EPSCOR_GRIDMET_010015_20240401_20240501_ETO.tif:  90%|████████▉ | 216/241 [23:46<02:42,  6.52s/it]"
     ]
    },
    {
     "name": "stdout",
     "output_type": "stream",
     "text": [
      "[2025-07-22 11:42:16 INFO] Uploaded file IDAHO_EPSCOR_GRIDMET_010015_20240401_20240501_ETO.tif to aws bucket ose-dev-inputs\n",
      "[2025-07-22 11:42:16 INFO] Deleted local file IDAHO_EPSCOR_GRIDMET_010015_20240401_20240501_ETO.tif\n"
     ]
    },
    {
     "name": "stderr",
     "output_type": "stream",
     "text": [
      "Uploading IDAHO_EPSCOR_GRIDMET_009014_20240501_20240601_ETO.tif:  90%|█████████ | 217/241 [23:52<02:34,  6.45s/it]"
     ]
    },
    {
     "name": "stdout",
     "output_type": "stream",
     "text": [
      "[2025-07-22 11:42:22 INFO] Uploaded file IDAHO_EPSCOR_GRIDMET_009014_20240501_20240601_ETO.tif to aws bucket ose-dev-inputs\n",
      "[2025-07-22 11:42:22 INFO] Deleted local file IDAHO_EPSCOR_GRIDMET_009014_20240501_20240601_ETO.tif\n"
     ]
    },
    {
     "name": "stderr",
     "output_type": "stream",
     "text": [
      "Uploading IDAHO_EPSCOR_GRIDMET_012011_20240201_20240301_ETO.tif:  90%|█████████ | 218/241 [23:58<02:26,  6.36s/it]"
     ]
    },
    {
     "name": "stdout",
     "output_type": "stream",
     "text": [
      "[2025-07-22 11:42:28 INFO] Uploaded file IDAHO_EPSCOR_GRIDMET_012011_20240201_20240301_ETO.tif to aws bucket ose-dev-inputs\n",
      "[2025-07-22 11:42:28 INFO] Deleted local file IDAHO_EPSCOR_GRIDMET_012011_20240201_20240301_ETO.tif\n"
     ]
    },
    {
     "name": "stderr",
     "output_type": "stream",
     "text": [
      "Uploading IDAHO_EPSCOR_GRIDMET_011013_20240701_20240801_ETO.tif:  91%|█████████ | 219/241 [24:05<02:19,  6.34s/it]"
     ]
    },
    {
     "name": "stdout",
     "output_type": "stream",
     "text": [
      "[2025-07-22 11:42:35 INFO] Uploaded file IDAHO_EPSCOR_GRIDMET_011013_20240701_20240801_ETO.tif to aws bucket ose-dev-inputs\n",
      "[2025-07-22 11:42:35 INFO] Deleted local file IDAHO_EPSCOR_GRIDMET_011013_20240701_20240801_ETO.tif\n"
     ]
    },
    {
     "name": "stderr",
     "output_type": "stream",
     "text": [
      "Uploading IDAHO_EPSCOR_GRIDMET_012014_20240501_20240601_ETO.tif:  91%|█████████▏| 220/241 [24:11<02:13,  6.36s/it]"
     ]
    },
    {
     "name": "stdout",
     "output_type": "stream",
     "text": [
      "[2025-07-22 11:42:41 INFO] Uploaded file IDAHO_EPSCOR_GRIDMET_012014_20240501_20240601_ETO.tif to aws bucket ose-dev-inputs\n",
      "[2025-07-22 11:42:41 INFO] Deleted local file IDAHO_EPSCOR_GRIDMET_012014_20240501_20240601_ETO.tif\n"
     ]
    },
    {
     "name": "stderr",
     "output_type": "stream",
     "text": [
      "Uploading IDAHO_EPSCOR_GRIDMET_009011_20240201_20240301_ETO.tif:  92%|█████████▏| 221/241 [24:18<02:08,  6.41s/it]"
     ]
    },
    {
     "name": "stdout",
     "output_type": "stream",
     "text": [
      "[2025-07-22 11:42:50 INFO] Uploaded file IDAHO_EPSCOR_GRIDMET_009011_20240201_20240301_ETO.tif to aws bucket ose-dev-inputs\n",
      "[2025-07-22 11:42:50 INFO] Deleted local file IDAHO_EPSCOR_GRIDMET_009011_20240201_20240301_ETO.tif\n"
     ]
    },
    {
     "name": "stderr",
     "output_type": "stream",
     "text": [
      "Uploading IDAHO_EPSCOR_GRIDMET_012011_20240601_20240701_ETO.tif:  92%|█████████▏| 222/241 [24:26<02:11,  6.93s/it]"
     ]
    },
    {
     "name": "stdout",
     "output_type": "stream",
     "text": [
      "[2025-07-22 11:42:58 INFO] Uploaded file IDAHO_EPSCOR_GRIDMET_012011_20240601_20240701_ETO.tif to aws bucket ose-dev-inputs\n",
      "[2025-07-22 11:42:58 INFO] Deleted local file IDAHO_EPSCOR_GRIDMET_012011_20240601_20240701_ETO.tif\n"
     ]
    },
    {
     "name": "stderr",
     "output_type": "stream",
     "text": [
      "Uploading IDAHO_EPSCOR_GRIDMET_009014_20240101_20240201_ETO.tif:  93%|█████████▎| 223/241 [24:34<02:10,  7.27s/it]"
     ]
    },
    {
     "name": "stdout",
     "output_type": "stream",
     "text": [
      "[2025-07-22 11:43:04 INFO] Uploaded file IDAHO_EPSCOR_GRIDMET_009014_20240101_20240201_ETO.tif to aws bucket ose-dev-inputs\n",
      "[2025-07-22 11:43:04 INFO] Deleted local file IDAHO_EPSCOR_GRIDMET_009014_20240101_20240201_ETO.tif\n"
     ]
    },
    {
     "name": "stderr",
     "output_type": "stream",
     "text": [
      "Uploading IDAHO_EPSCOR_GRIDMET_009015_20240301_20240401_ETO.tif:  93%|█████████▎| 224/241 [24:40<01:58,  7.00s/it]"
     ]
    },
    {
     "name": "stdout",
     "output_type": "stream",
     "text": [
      "[2025-07-22 11:43:10 INFO] Uploaded file IDAHO_EPSCOR_GRIDMET_009015_20240301_20240401_ETO.tif to aws bucket ose-dev-inputs\n",
      "[2025-07-22 11:43:11 INFO] Deleted local file IDAHO_EPSCOR_GRIDMET_009015_20240301_20240401_ETO.tif\n"
     ]
    },
    {
     "name": "stderr",
     "output_type": "stream",
     "text": [
      "Uploading IDAHO_EPSCOR_GRIDMET_011013_20240101_20240201_ETO.tif:  93%|█████████▎| 225/241 [24:47<01:49,  6.87s/it]"
     ]
    },
    {
     "name": "stdout",
     "output_type": "stream",
     "text": [
      "[2025-07-22 11:43:17 INFO] Uploaded file IDAHO_EPSCOR_GRIDMET_011013_20240101_20240201_ETO.tif to aws bucket ose-dev-inputs\n",
      "[2025-07-22 11:43:17 INFO] Deleted local file IDAHO_EPSCOR_GRIDMET_011013_20240101_20240201_ETO.tif\n"
     ]
    },
    {
     "name": "stderr",
     "output_type": "stream",
     "text": [
      "Uploading IDAHO_EPSCOR_GRIDMET_010011_20241101_20241201_ETO.tif:  94%|█████████▍| 226/241 [24:53<01:39,  6.65s/it]"
     ]
    },
    {
     "name": "stdout",
     "output_type": "stream",
     "text": [
      "[2025-07-22 11:43:24 INFO] Uploaded file IDAHO_EPSCOR_GRIDMET_010011_20241101_20241201_ETO.tif to aws bucket ose-dev-inputs\n",
      "[2025-07-22 11:43:24 INFO] Deleted local file IDAHO_EPSCOR_GRIDMET_010011_20241101_20241201_ETO.tif\n"
     ]
    },
    {
     "name": "stderr",
     "output_type": "stream",
     "text": [
      "Uploading IDAHO_EPSCOR_GRIDMET_011012_20240301_20240401_ETO.tif:  94%|█████████▍| 227/241 [25:00<01:34,  6.73s/it]"
     ]
    },
    {
     "name": "stdout",
     "output_type": "stream",
     "text": [
      "[2025-07-22 11:43:30 INFO] Uploaded file IDAHO_EPSCOR_GRIDMET_011012_20240301_20240401_ETO.tif to aws bucket ose-dev-inputs\n",
      "[2025-07-22 11:43:30 INFO] Deleted local file IDAHO_EPSCOR_GRIDMET_011012_20240301_20240401_ETO.tif\n"
     ]
    },
    {
     "name": "stderr",
     "output_type": "stream",
     "text": [
      "Uploading IDAHO_EPSCOR_GRIDMET_012014_20240701_20240801_ETO.tif:  95%|█████████▍| 228/241 [25:07<01:28,  6.78s/it]"
     ]
    },
    {
     "name": "stdout",
     "output_type": "stream",
     "text": [
      "[2025-07-22 11:43:37 INFO] Uploaded file IDAHO_EPSCOR_GRIDMET_012014_20240701_20240801_ETO.tif to aws bucket ose-dev-inputs\n",
      "[2025-07-22 11:43:37 INFO] Deleted local file IDAHO_EPSCOR_GRIDMET_012014_20240701_20240801_ETO.tif\n"
     ]
    },
    {
     "name": "stderr",
     "output_type": "stream",
     "text": [
      "Uploading IDAHO_EPSCOR_GRIDMET_011011_20241201_20250101_ETO.tif:  95%|█████████▌| 229/241 [25:13<01:19,  6.62s/it]"
     ]
    },
    {
     "name": "stdout",
     "output_type": "stream",
     "text": [
      "[2025-07-22 11:43:43 INFO] Uploaded file IDAHO_EPSCOR_GRIDMET_011011_20241201_20250101_ETO.tif to aws bucket ose-dev-inputs\n",
      "[2025-07-22 11:43:43 INFO] Deleted local file IDAHO_EPSCOR_GRIDMET_011011_20241201_20250101_ETO.tif\n"
     ]
    },
    {
     "name": "stderr",
     "output_type": "stream",
     "text": [
      "Uploading IDAHO_EPSCOR_GRIDMET_011013_20240501_20240601_ETO.tif:  95%|█████████▌| 230/241 [25:19<01:11,  6.48s/it]"
     ]
    },
    {
     "name": "stdout",
     "output_type": "stream",
     "text": [
      "[2025-07-22 11:43:49 INFO] Uploaded file IDAHO_EPSCOR_GRIDMET_011013_20240501_20240601_ETO.tif to aws bucket ose-dev-inputs\n",
      "[2025-07-22 11:43:49 INFO] Deleted local file IDAHO_EPSCOR_GRIDMET_011013_20240501_20240601_ETO.tif\n"
     ]
    },
    {
     "name": "stderr",
     "output_type": "stream",
     "text": [
      "Uploading IDAHO_EPSCOR_GRIDMET_009014_20240701_20240801_ETO.tif:  96%|█████████▌| 231/241 [25:25<01:04,  6.47s/it]"
     ]
    },
    {
     "name": "stdout",
     "output_type": "stream",
     "text": [
      "[2025-07-22 11:43:56 INFO] Uploaded file IDAHO_EPSCOR_GRIDMET_009014_20240701_20240801_ETO.tif to aws bucket ose-dev-inputs\n",
      "[2025-07-22 11:43:56 INFO] Deleted local file IDAHO_EPSCOR_GRIDMET_009014_20240701_20240801_ETO.tif\n"
     ]
    },
    {
     "name": "stderr",
     "output_type": "stream",
     "text": [
      "Uploading IDAHO_EPSCOR_GRIDMET_011014_20240401_20240501_ETO.tif:  96%|█████████▋| 232/241 [25:32<00:58,  6.46s/it]"
     ]
    },
    {
     "name": "stdout",
     "output_type": "stream",
     "text": [
      "[2025-07-22 11:44:01 INFO] Uploaded file IDAHO_EPSCOR_GRIDMET_011014_20240401_20240501_ETO.tif to aws bucket ose-dev-inputs\n",
      "[2025-07-22 11:44:01 INFO] Deleted local file IDAHO_EPSCOR_GRIDMET_011014_20240401_20240501_ETO.tif\n"
     ]
    },
    {
     "name": "stderr",
     "output_type": "stream",
     "text": [
      "Uploading IDAHO_EPSCOR_GRIDMET_010012_20240701_20240801_ETO.tif:  97%|█████████▋| 233/241 [25:38<00:49,  6.21s/it]"
     ]
    },
    {
     "name": "stdout",
     "output_type": "stream",
     "text": [
      "[2025-07-22 11:44:08 INFO] Uploaded file IDAHO_EPSCOR_GRIDMET_010012_20240701_20240801_ETO.tif to aws bucket ose-dev-inputs\n",
      "[2025-07-22 11:44:08 INFO] Deleted local file IDAHO_EPSCOR_GRIDMET_010012_20240701_20240801_ETO.tif\n"
     ]
    },
    {
     "name": "stderr",
     "output_type": "stream",
     "text": [
      "Uploading IDAHO_EPSCOR_GRIDMET_009013_20240401_20240501_ETO.tif:  97%|█████████▋| 234/241 [25:44<00:44,  6.34s/it]"
     ]
    },
    {
     "name": "stdout",
     "output_type": "stream",
     "text": [
      "[2025-07-22 11:44:14 INFO] Uploaded file IDAHO_EPSCOR_GRIDMET_009013_20240401_20240501_ETO.tif to aws bucket ose-dev-inputs\n",
      "[2025-07-22 11:44:14 INFO] Deleted local file IDAHO_EPSCOR_GRIDMET_009013_20240401_20240501_ETO.tif\n"
     ]
    },
    {
     "name": "stderr",
     "output_type": "stream",
     "text": [
      "Uploading IDAHO_EPSCOR_GRIDMET_010012_20240501_20240601_ETO.tif:  98%|█████████▊| 235/241 [25:50<00:37,  6.30s/it]"
     ]
    },
    {
     "name": "stdout",
     "output_type": "stream",
     "text": [
      "[2025-07-22 11:44:21 INFO] Uploaded file IDAHO_EPSCOR_GRIDMET_010012_20240501_20240601_ETO.tif to aws bucket ose-dev-inputs\n",
      "[2025-07-22 11:44:21 INFO] Deleted local file IDAHO_EPSCOR_GRIDMET_010012_20240501_20240601_ETO.tif\n"
     ]
    },
    {
     "name": "stderr",
     "output_type": "stream",
     "text": [
      "Uploading IDAHO_EPSCOR_GRIDMET_009011_20240901_20241001_ETO.tif:  98%|█████████▊| 236/241 [25:57<00:31,  6.34s/it]"
     ]
    },
    {
     "name": "stdout",
     "output_type": "stream",
     "text": [
      "[2025-07-22 11:44:28 INFO] Uploaded file IDAHO_EPSCOR_GRIDMET_009011_20240901_20241001_ETO.tif to aws bucket ose-dev-inputs\n",
      "[2025-07-22 11:44:28 INFO] Deleted local file IDAHO_EPSCOR_GRIDMET_009011_20240901_20241001_ETO.tif\n"
     ]
    },
    {
     "name": "stderr",
     "output_type": "stream",
     "text": [
      "Uploading IDAHO_EPSCOR_GRIDMET_012011_20240901_20241001_ETO.tif:  98%|█████████▊| 237/241 [26:05<00:27,  6.78s/it]"
     ]
    },
    {
     "name": "stdout",
     "output_type": "stream",
     "text": [
      "[2025-07-22 11:44:35 INFO] Uploaded file IDAHO_EPSCOR_GRIDMET_012011_20240901_20241001_ETO.tif to aws bucket ose-dev-inputs\n",
      "[2025-07-22 11:44:35 INFO] Deleted local file IDAHO_EPSCOR_GRIDMET_012011_20240901_20241001_ETO.tif\n"
     ]
    },
    {
     "name": "stderr",
     "output_type": "stream",
     "text": [
      "Uploading IDAHO_EPSCOR_GRIDMET_010012_20240101_20240201_ETO.tif:  99%|█████████▉| 238/241 [26:11<00:20,  6.69s/it]"
     ]
    },
    {
     "name": "stdout",
     "output_type": "stream",
     "text": [
      "[2025-07-22 11:44:42 INFO] Uploaded file IDAHO_EPSCOR_GRIDMET_010012_20240101_20240201_ETO.tif to aws bucket ose-dev-inputs\n",
      "[2025-07-22 11:44:42 INFO] Deleted local file IDAHO_EPSCOR_GRIDMET_010012_20240101_20240201_ETO.tif\n"
     ]
    },
    {
     "name": "stderr",
     "output_type": "stream",
     "text": [
      "Uploading IDAHO_EPSCOR_GRIDMET_010013_20240301_20240401_ETO.tif:  99%|█████████▉| 239/241 [26:18<00:13,  6.86s/it]"
     ]
    },
    {
     "name": "stdout",
     "output_type": "stream",
     "text": [
      "[2025-07-22 11:44:50 INFO] Uploaded file IDAHO_EPSCOR_GRIDMET_010013_20240301_20240401_ETO.tif to aws bucket ose-dev-inputs\n",
      "[2025-07-22 11:44:50 INFO] Deleted local file IDAHO_EPSCOR_GRIDMET_010013_20240301_20240401_ETO.tif\n"
     ]
    },
    {
     "name": "stderr",
     "output_type": "stream",
     "text": [
      "Uploading IDAHO_EPSCOR_GRIDMET_012013_20240401_20240501_ETO.tif: 100%|█████████▉| 240/241 [26:26<00:07,  7.18s/it]"
     ]
    },
    {
     "name": "stdout",
     "output_type": "stream",
     "text": [
      "[2025-07-22 11:44:56 INFO] Uploaded file IDAHO_EPSCOR_GRIDMET_012013_20240401_20240501_ETO.tif to aws bucket ose-dev-inputs\n",
      "[2025-07-22 11:44:56 INFO] Deleted local file IDAHO_EPSCOR_GRIDMET_012013_20240401_20240501_ETO.tif\n"
     ]
    },
    {
     "name": "stderr",
     "output_type": "stream",
     "text": [
      "Uploading IDAHO_EPSCOR_GRIDMET_012013_20240401_20240501_ETO.tif: 100%|██████████| 241/241 [26:32<00:00,  6.61s/it]\n"
     ]
    }
   ],
   "source": [
    "gridmet_climate_engine_pipeline = GridMETPipeline(\n",
    "    bands=[\"pet\"],\n",
    "    aws_profile=\"ose-nmw\",\n",
    "    aws_bucket=\"ose-dev-inputs\",\n",
    "    aws_region=\"us-west-2\",\n",
    ")\n",
    "gridmet_climate_engine_pipeline.fetch_year(2024)\n",
    "gridmet_climate_engine_pipeline.upload_to_aws(delete_on_success=True)\n",
    "\n",
    "# gridmet_climate_engine_pipeline.fetch_year_range(1985, 2008)"
   ]
  },
  {
   "cell_type": "code",
   "execution_count": 7,
   "metadata": {},
   "outputs": [
    {
     "data": {
      "text/html": [
       "\n",
       "            <style>\n",
       "                .geemap-dark {\n",
       "                    --jp-widgets-color: white;\n",
       "                    --jp-widgets-label-color: white;\n",
       "                    --jp-ui-font-color1: white;\n",
       "                    --jp-layout-color2: #454545;\n",
       "                    background-color: #383838;\n",
       "                }\n",
       "\n",
       "                .geemap-dark .jupyter-button {\n",
       "                    --jp-layout-color3: #383838;\n",
       "                }\n",
       "\n",
       "                .geemap-colab {\n",
       "                    background-color: var(--colab-primary-surface-color, white);\n",
       "                }\n",
       "\n",
       "                .geemap-colab .jupyter-button {\n",
       "                    --jp-layout-color3: var(--colab-primary-surface-color, white);\n",
       "                }\n",
       "            </style>\n",
       "            "
      ],
      "text/plain": [
       "<IPython.core.display.HTML object>"
      ]
     },
     "metadata": {},
     "output_type": "display_data"
    },
    {
     "name": "stdout",
     "output_type": "stream",
     "text": [
      "[2025-08-25 10:34:53 INFO] Found credentials in shared credentials file: ~/.aws/credentials\n",
      "*****Fetching year 2007*****\n",
      "[2025-08-25 10:34:56 INFO] Processing NetCDF file: temp_data/pet_2007.nc\n",
      "[2025-08-25 10:34:56 INFO] Original dataset time dimension size: 365\n",
      "[2025-08-25 10:34:56 INFO] Date range: 2007-01-01T00:00:00.000000000 to 2007-12-31T00:00:00.000000000\n",
      "[2025-08-25 10:34:56 INFO] Total days in dataset: 365\n",
      "[2025-08-25 10:34:56 INFO] Original data shape: (365, 585, 1386)\n",
      "[2025-08-25 10:34:56 INFO] Original data date range: 2007-01-01T00:00:00.000000000 to 2007-12-31T00:00:00.000000000\n",
      "[2025-08-25 10:34:59 INFO] After monthly resampling, time dimension size: 12\n",
      "[2025-08-25 10:34:59 INFO] Processing month 1 (2007-01)\n",
      "[2025-08-25 10:34:59 INFO] Month 1: Found 31 days\n",
      "[2025-08-25 10:34:59 INFO] Month 1: First day: 2007-01-01T00:00:00.000000000\n",
      "[2025-08-25 10:34:59 INFO] Month 1: Last day: 2007-01-31T00:00:00.000000000\n",
      "[2025-08-25 10:34:59 INFO] Month 1: Output file already exists, skipping\n",
      "[2025-08-25 10:34:59 INFO] Processing month 2 (2007-02)\n",
      "[2025-08-25 10:35:00 INFO] Month 2: Found 28 days\n",
      "[2025-08-25 10:35:00 INFO] Month 2: First day: 2007-02-01T00:00:00.000000000\n",
      "[2025-08-25 10:35:00 INFO] Month 2: Last day: 2007-02-28T00:00:00.000000000\n",
      "[2025-08-25 10:35:00 INFO] Month 2: Output file already exists, skipping\n",
      "[2025-08-25 10:35:00 INFO] Processing month 3 (2007-03)\n",
      "[2025-08-25 10:35:00 INFO] Month 3: Found 31 days\n",
      "[2025-08-25 10:35:00 INFO] Month 3: First day: 2007-03-01T00:00:00.000000000\n",
      "[2025-08-25 10:35:00 INFO] Month 3: Last day: 2007-03-31T00:00:00.000000000\n",
      "[2025-08-25 10:35:00 INFO] Month 3: Output file already exists, skipping\n",
      "[2025-08-25 10:35:00 INFO] Processing month 4 (2007-04)\n",
      "[2025-08-25 10:35:00 INFO] Month 4: Found 30 days\n",
      "[2025-08-25 10:35:00 INFO] Month 4: First day: 2007-04-01T00:00:00.000000000\n",
      "[2025-08-25 10:35:00 INFO] Month 4: Last day: 2007-04-30T00:00:00.000000000\n",
      "[2025-08-25 10:35:00 INFO] Month 4: Output file already exists, skipping\n",
      "[2025-08-25 10:35:00 INFO] Processing month 5 (2007-05)\n",
      "[2025-08-25 10:35:00 INFO] Month 5: Found 31 days\n",
      "[2025-08-25 10:35:00 INFO] Month 5: First day: 2007-05-01T00:00:00.000000000\n",
      "[2025-08-25 10:35:00 INFO] Month 5: Last day: 2007-05-31T00:00:00.000000000\n",
      "[2025-08-25 10:35:00 INFO] Month 5: Output file already exists, skipping\n",
      "[2025-08-25 10:35:00 INFO] Processing month 6 (2007-06)\n",
      "[2025-08-25 10:35:00 INFO] Month 6: Found 30 days\n",
      "[2025-08-25 10:35:00 INFO] Month 6: First day: 2007-06-01T00:00:00.000000000\n",
      "[2025-08-25 10:35:00 INFO] Month 6: Last day: 2007-06-30T00:00:00.000000000\n",
      "[2025-08-25 10:35:00 INFO] Month 6: Output file already exists, skipping\n",
      "[2025-08-25 10:35:00 INFO] Processing month 7 (2007-07)\n",
      "[2025-08-25 10:35:01 INFO] Month 7: Found 31 days\n",
      "[2025-08-25 10:35:01 INFO] Month 7: First day: 2007-07-01T00:00:00.000000000\n",
      "[2025-08-25 10:35:01 INFO] Month 7: Last day: 2007-07-31T00:00:00.000000000\n",
      "[2025-08-25 10:35:01 INFO] Month 7: Output file already exists, skipping\n",
      "[2025-08-25 10:35:01 INFO] Processing month 8 (2007-08)\n",
      "[2025-08-25 10:35:01 INFO] Month 8: Found 31 days\n",
      "[2025-08-25 10:35:01 INFO] Month 8: First day: 2007-08-01T00:00:00.000000000\n",
      "[2025-08-25 10:35:01 INFO] Month 8: Last day: 2007-08-31T00:00:00.000000000\n",
      "[2025-08-25 10:35:01 INFO] Month 8: Output file already exists, skipping\n",
      "[2025-08-25 10:35:01 INFO] Processing month 9 (2007-09)\n",
      "[2025-08-25 10:35:01 INFO] Month 9: Found 30 days\n",
      "[2025-08-25 10:35:01 INFO] Month 9: First day: 2007-09-01T00:00:00.000000000\n",
      "[2025-08-25 10:35:01 INFO] Month 9: Last day: 2007-09-30T00:00:00.000000000\n",
      "[2025-08-25 10:35:01 INFO] Month 9: Output file already exists, skipping\n",
      "[2025-08-25 10:35:01 INFO] Processing month 10 (2007-10)\n",
      "[2025-08-25 10:35:01 INFO] Month 10: Found 31 days\n",
      "[2025-08-25 10:35:01 INFO] Month 10: First day: 2007-10-01T00:00:00.000000000\n",
      "[2025-08-25 10:35:01 INFO] Month 10: Last day: 2007-10-31T00:00:00.000000000\n",
      "[2025-08-25 10:35:01 INFO] Month 10: Output file already exists, skipping\n",
      "[2025-08-25 10:35:01 INFO] Processing month 11 (2007-11)\n",
      "[2025-08-25 10:35:02 INFO] Month 11: Found 30 days\n",
      "[2025-08-25 10:35:02 INFO] Month 11: First day: 2007-11-01T00:00:00.000000000\n",
      "[2025-08-25 10:35:02 INFO] Month 11: Last day: 2007-11-30T00:00:00.000000000\n",
      "[2025-08-25 10:35:02 INFO] Month 11: Output file already exists, skipping\n",
      "[2025-08-25 10:35:02 INFO] Processing month 12 (2007-12)\n",
      "[2025-08-25 10:35:02 INFO] Month 12: Found 31 days\n",
      "[2025-08-25 10:35:02 INFO] Month 12: First day: 2007-12-01T00:00:00.000000000\n",
      "[2025-08-25 10:35:02 INFO] Month 12: Last day: 2007-12-31T00:00:00.000000000\n",
      "[2025-08-25 10:35:02 INFO] Month 12: Output file already exists, skipping\n",
      "[2025-08-25 10:35:03 INFO] File IDAHO_EPSCOR_GRIDMET_009011_20070101_20070201_ETO.tif already exists in aws bucket ose-dev-inputs, skipping\n",
      "[2025-08-25 10:35:04 INFO] File IDAHO_EPSCOR_GRIDMET_009012_20070101_20070201_ETO.tif already exists in aws bucket ose-dev-inputs, skipping\n",
      "[2025-08-25 10:35:05 INFO] File IDAHO_EPSCOR_GRIDMET_009013_20070101_20070201_ETO.tif already exists in aws bucket ose-dev-inputs, skipping\n",
      "[2025-08-25 10:35:06 INFO] File IDAHO_EPSCOR_GRIDMET_009014_20070101_20070201_ETO.tif already exists in aws bucket ose-dev-inputs, skipping\n",
      "[2025-08-25 10:35:07 INFO] File IDAHO_EPSCOR_GRIDMET_009015_20070101_20070201_ETO.tif already exists in aws bucket ose-dev-inputs, skipping\n",
      "[2025-08-25 10:35:08 INFO] File IDAHO_EPSCOR_GRIDMET_010011_20070101_20070201_ETO.tif already exists in aws bucket ose-dev-inputs, skipping\n",
      "[2025-08-25 10:35:09 INFO] File IDAHO_EPSCOR_GRIDMET_010012_20070101_20070201_ETO.tif already exists in aws bucket ose-dev-inputs, skipping\n",
      "[2025-08-25 10:35:10 INFO] File IDAHO_EPSCOR_GRIDMET_010013_20070101_20070201_ETO.tif already exists in aws bucket ose-dev-inputs, skipping\n",
      "[2025-08-25 10:35:11 INFO] File IDAHO_EPSCOR_GRIDMET_010014_20070101_20070201_ETO.tif already exists in aws bucket ose-dev-inputs, skipping\n",
      "[2025-08-25 10:35:12 INFO] File IDAHO_EPSCOR_GRIDMET_010015_20070101_20070201_ETO.tif already exists in aws bucket ose-dev-inputs, skipping\n",
      "[2025-08-25 10:35:13 INFO] File IDAHO_EPSCOR_GRIDMET_011011_20070101_20070201_ETO.tif already exists in aws bucket ose-dev-inputs, skipping\n",
      "[2025-08-25 10:35:14 INFO] File IDAHO_EPSCOR_GRIDMET_011012_20070101_20070201_ETO.tif already exists in aws bucket ose-dev-inputs, skipping\n",
      "[2025-08-25 10:35:15 INFO] File IDAHO_EPSCOR_GRIDMET_011013_20070101_20070201_ETO.tif already exists in aws bucket ose-dev-inputs, skipping\n",
      "[2025-08-25 10:35:16 INFO] File IDAHO_EPSCOR_GRIDMET_011014_20070101_20070201_ETO.tif already exists in aws bucket ose-dev-inputs, skipping\n",
      "[2025-08-25 10:35:17 INFO] File IDAHO_EPSCOR_GRIDMET_011015_20070101_20070201_ETO.tif already exists in aws bucket ose-dev-inputs, skipping\n",
      "[2025-08-25 10:35:18 INFO] File IDAHO_EPSCOR_GRIDMET_012011_20070101_20070201_ETO.tif already exists in aws bucket ose-dev-inputs, skipping\n",
      "[2025-08-25 10:35:19 INFO] File IDAHO_EPSCOR_GRIDMET_012012_20070101_20070201_ETO.tif already exists in aws bucket ose-dev-inputs, skipping\n",
      "[2025-08-25 10:35:20 INFO] File IDAHO_EPSCOR_GRIDMET_012013_20070101_20070201_ETO.tif already exists in aws bucket ose-dev-inputs, skipping\n",
      "[2025-08-25 10:35:21 INFO] File IDAHO_EPSCOR_GRIDMET_012014_20070101_20070201_ETO.tif already exists in aws bucket ose-dev-inputs, skipping\n",
      "[2025-08-25 10:35:22 INFO] File IDAHO_EPSCOR_GRIDMET_012015_20070101_20070201_ETO.tif already exists in aws bucket ose-dev-inputs, skipping\n",
      "[2025-08-25 10:35:23 INFO] File IDAHO_EPSCOR_GRIDMET_009011_20070201_20070301_ETO.tif already exists in aws bucket ose-dev-inputs, skipping\n",
      "[2025-08-25 10:35:24 INFO] File IDAHO_EPSCOR_GRIDMET_009012_20070201_20070301_ETO.tif already exists in aws bucket ose-dev-inputs, skipping\n",
      "[2025-08-25 10:35:25 INFO] File IDAHO_EPSCOR_GRIDMET_009013_20070201_20070301_ETO.tif already exists in aws bucket ose-dev-inputs, skipping\n",
      "[2025-08-25 10:35:26 INFO] File IDAHO_EPSCOR_GRIDMET_009014_20070201_20070301_ETO.tif already exists in aws bucket ose-dev-inputs, skipping\n",
      "[2025-08-25 10:35:27 INFO] File IDAHO_EPSCOR_GRIDMET_009015_20070201_20070301_ETO.tif already exists in aws bucket ose-dev-inputs, skipping\n",
      "[2025-08-25 10:35:28 INFO] File IDAHO_EPSCOR_GRIDMET_010011_20070201_20070301_ETO.tif already exists in aws bucket ose-dev-inputs, skipping\n",
      "[2025-08-25 10:35:29 INFO] File IDAHO_EPSCOR_GRIDMET_010012_20070201_20070301_ETO.tif already exists in aws bucket ose-dev-inputs, skipping\n",
      "[2025-08-25 10:35:30 INFO] File IDAHO_EPSCOR_GRIDMET_010013_20070201_20070301_ETO.tif already exists in aws bucket ose-dev-inputs, skipping\n",
      "[2025-08-25 10:35:31 INFO] File IDAHO_EPSCOR_GRIDMET_010014_20070201_20070301_ETO.tif already exists in aws bucket ose-dev-inputs, skipping\n",
      "[2025-08-25 10:35:32 INFO] File IDAHO_EPSCOR_GRIDMET_010015_20070201_20070301_ETO.tif already exists in aws bucket ose-dev-inputs, skipping\n",
      "[2025-08-25 10:35:33 INFO] File IDAHO_EPSCOR_GRIDMET_011011_20070201_20070301_ETO.tif already exists in aws bucket ose-dev-inputs, skipping\n",
      "[2025-08-25 10:35:34 INFO] File IDAHO_EPSCOR_GRIDMET_011012_20070201_20070301_ETO.tif already exists in aws bucket ose-dev-inputs, skipping\n",
      "[2025-08-25 10:35:35 INFO] File IDAHO_EPSCOR_GRIDMET_011013_20070201_20070301_ETO.tif already exists in aws bucket ose-dev-inputs, skipping\n",
      "[2025-08-25 10:35:36 INFO] File IDAHO_EPSCOR_GRIDMET_011014_20070201_20070301_ETO.tif already exists in aws bucket ose-dev-inputs, skipping\n",
      "[2025-08-25 10:35:37 INFO] File IDAHO_EPSCOR_GRIDMET_011015_20070201_20070301_ETO.tif already exists in aws bucket ose-dev-inputs, skipping\n",
      "[2025-08-25 10:35:38 INFO] File IDAHO_EPSCOR_GRIDMET_012011_20070201_20070301_ETO.tif already exists in aws bucket ose-dev-inputs, skipping\n",
      "[2025-08-25 10:35:39 INFO] File IDAHO_EPSCOR_GRIDMET_012012_20070201_20070301_ETO.tif already exists in aws bucket ose-dev-inputs, skipping\n",
      "[2025-08-25 10:35:40 INFO] File IDAHO_EPSCOR_GRIDMET_012013_20070201_20070301_ETO.tif already exists in aws bucket ose-dev-inputs, skipping\n",
      "[2025-08-25 10:35:41 INFO] File IDAHO_EPSCOR_GRIDMET_012014_20070201_20070301_ETO.tif already exists in aws bucket ose-dev-inputs, skipping\n",
      "[2025-08-25 10:35:42 INFO] File IDAHO_EPSCOR_GRIDMET_012015_20070201_20070301_ETO.tif already exists in aws bucket ose-dev-inputs, skipping\n",
      "[2025-08-25 10:35:43 INFO] File IDAHO_EPSCOR_GRIDMET_009011_20070301_20070401_ETO.tif already exists in aws bucket ose-dev-inputs, skipping\n",
      "[2025-08-25 10:35:44 INFO] File IDAHO_EPSCOR_GRIDMET_009012_20070301_20070401_ETO.tif already exists in aws bucket ose-dev-inputs, skipping\n",
      "[2025-08-25 10:35:45 INFO] File IDAHO_EPSCOR_GRIDMET_009013_20070301_20070401_ETO.tif already exists in aws bucket ose-dev-inputs, skipping\n",
      "[2025-08-25 10:35:46 INFO] File IDAHO_EPSCOR_GRIDMET_009014_20070301_20070401_ETO.tif already exists in aws bucket ose-dev-inputs, skipping\n",
      "[2025-08-25 10:35:47 INFO] File IDAHO_EPSCOR_GRIDMET_009015_20070301_20070401_ETO.tif already exists in aws bucket ose-dev-inputs, skipping\n",
      "[2025-08-25 10:35:48 INFO] File IDAHO_EPSCOR_GRIDMET_010011_20070301_20070401_ETO.tif already exists in aws bucket ose-dev-inputs, skipping\n",
      "[2025-08-25 10:35:50 INFO] File IDAHO_EPSCOR_GRIDMET_010012_20070301_20070401_ETO.tif already exists in aws bucket ose-dev-inputs, skipping\n",
      "[2025-08-25 10:35:51 INFO] File IDAHO_EPSCOR_GRIDMET_010013_20070301_20070401_ETO.tif already exists in aws bucket ose-dev-inputs, skipping\n",
      "[2025-08-25 10:35:52 INFO] File IDAHO_EPSCOR_GRIDMET_010014_20070301_20070401_ETO.tif already exists in aws bucket ose-dev-inputs, skipping\n",
      "[2025-08-25 10:35:53 INFO] File IDAHO_EPSCOR_GRIDMET_010015_20070301_20070401_ETO.tif already exists in aws bucket ose-dev-inputs, skipping\n",
      "[2025-08-25 10:35:54 INFO] File IDAHO_EPSCOR_GRIDMET_011011_20070301_20070401_ETO.tif already exists in aws bucket ose-dev-inputs, skipping\n",
      "[2025-08-25 10:35:55 INFO] File IDAHO_EPSCOR_GRIDMET_011012_20070301_20070401_ETO.tif already exists in aws bucket ose-dev-inputs, skipping\n",
      "[2025-08-25 10:35:56 INFO] File IDAHO_EPSCOR_GRIDMET_011013_20070301_20070401_ETO.tif already exists in aws bucket ose-dev-inputs, skipping\n",
      "[2025-08-25 10:35:57 INFO] File IDAHO_EPSCOR_GRIDMET_011014_20070301_20070401_ETO.tif already exists in aws bucket ose-dev-inputs, skipping\n",
      "[2025-08-25 10:35:58 INFO] File IDAHO_EPSCOR_GRIDMET_011015_20070301_20070401_ETO.tif already exists in aws bucket ose-dev-inputs, skipping\n",
      "[2025-08-25 10:35:59 INFO] File IDAHO_EPSCOR_GRIDMET_012011_20070301_20070401_ETO.tif already exists in aws bucket ose-dev-inputs, skipping\n",
      "[2025-08-25 10:36:00 INFO] File IDAHO_EPSCOR_GRIDMET_012012_20070301_20070401_ETO.tif already exists in aws bucket ose-dev-inputs, skipping\n",
      "[2025-08-25 10:36:01 INFO] File IDAHO_EPSCOR_GRIDMET_012013_20070301_20070401_ETO.tif already exists in aws bucket ose-dev-inputs, skipping\n",
      "[2025-08-25 10:36:02 INFO] File IDAHO_EPSCOR_GRIDMET_012014_20070301_20070401_ETO.tif already exists in aws bucket ose-dev-inputs, skipping\n",
      "[2025-08-25 10:36:03 INFO] File IDAHO_EPSCOR_GRIDMET_012015_20070301_20070401_ETO.tif already exists in aws bucket ose-dev-inputs, skipping\n",
      "[2025-08-25 10:36:04 INFO] File IDAHO_EPSCOR_GRIDMET_009011_20070401_20070501_ETO.tif already exists in aws bucket ose-dev-inputs, skipping\n",
      "[2025-08-25 10:36:05 INFO] File IDAHO_EPSCOR_GRIDMET_009012_20070401_20070501_ETO.tif already exists in aws bucket ose-dev-inputs, skipping\n",
      "[2025-08-25 10:36:06 INFO] File IDAHO_EPSCOR_GRIDMET_009013_20070401_20070501_ETO.tif already exists in aws bucket ose-dev-inputs, skipping\n",
      "[2025-08-25 10:36:07 INFO] File IDAHO_EPSCOR_GRIDMET_009014_20070401_20070501_ETO.tif already exists in aws bucket ose-dev-inputs, skipping\n",
      "[2025-08-25 10:36:08 INFO] File IDAHO_EPSCOR_GRIDMET_009015_20070401_20070501_ETO.tif already exists in aws bucket ose-dev-inputs, skipping\n",
      "[2025-08-25 10:36:09 INFO] File IDAHO_EPSCOR_GRIDMET_010011_20070401_20070501_ETO.tif already exists in aws bucket ose-dev-inputs, skipping\n",
      "[2025-08-25 10:36:11 INFO] File IDAHO_EPSCOR_GRIDMET_010012_20070401_20070501_ETO.tif already exists in aws bucket ose-dev-inputs, skipping\n",
      "[2025-08-25 10:36:12 INFO] File IDAHO_EPSCOR_GRIDMET_010013_20070401_20070501_ETO.tif already exists in aws bucket ose-dev-inputs, skipping\n",
      "[2025-08-25 10:36:13 INFO] File IDAHO_EPSCOR_GRIDMET_010014_20070401_20070501_ETO.tif already exists in aws bucket ose-dev-inputs, skipping\n",
      "[2025-08-25 10:36:14 INFO] File IDAHO_EPSCOR_GRIDMET_010015_20070401_20070501_ETO.tif already exists in aws bucket ose-dev-inputs, skipping\n",
      "[2025-08-25 10:36:15 INFO] File IDAHO_EPSCOR_GRIDMET_011011_20070401_20070501_ETO.tif already exists in aws bucket ose-dev-inputs, skipping\n",
      "[2025-08-25 10:36:16 INFO] File IDAHO_EPSCOR_GRIDMET_011012_20070401_20070501_ETO.tif already exists in aws bucket ose-dev-inputs, skipping\n",
      "[2025-08-25 10:36:17 INFO] File IDAHO_EPSCOR_GRIDMET_011013_20070401_20070501_ETO.tif already exists in aws bucket ose-dev-inputs, skipping\n",
      "[2025-08-25 10:36:18 INFO] File IDAHO_EPSCOR_GRIDMET_011014_20070401_20070501_ETO.tif already exists in aws bucket ose-dev-inputs, skipping\n",
      "[2025-08-25 10:36:19 INFO] File IDAHO_EPSCOR_GRIDMET_011015_20070401_20070501_ETO.tif already exists in aws bucket ose-dev-inputs, skipping\n",
      "[2025-08-25 10:36:20 INFO] File IDAHO_EPSCOR_GRIDMET_012011_20070401_20070501_ETO.tif already exists in aws bucket ose-dev-inputs, skipping\n",
      "[2025-08-25 10:36:21 INFO] File IDAHO_EPSCOR_GRIDMET_012012_20070401_20070501_ETO.tif already exists in aws bucket ose-dev-inputs, skipping\n",
      "[2025-08-25 10:36:22 INFO] File IDAHO_EPSCOR_GRIDMET_012013_20070401_20070501_ETO.tif already exists in aws bucket ose-dev-inputs, skipping\n",
      "[2025-08-25 10:36:23 INFO] File IDAHO_EPSCOR_GRIDMET_012014_20070401_20070501_ETO.tif already exists in aws bucket ose-dev-inputs, skipping\n",
      "[2025-08-25 10:36:24 INFO] File IDAHO_EPSCOR_GRIDMET_012015_20070401_20070501_ETO.tif already exists in aws bucket ose-dev-inputs, skipping\n",
      "[2025-08-25 10:36:25 INFO] File IDAHO_EPSCOR_GRIDMET_009011_20070501_20070601_ETO.tif already exists in aws bucket ose-dev-inputs, skipping\n",
      "[2025-08-25 10:36:26 INFO] File IDAHO_EPSCOR_GRIDMET_009012_20070501_20070601_ETO.tif already exists in aws bucket ose-dev-inputs, skipping\n",
      "[2025-08-25 10:36:27 INFO] File IDAHO_EPSCOR_GRIDMET_009013_20070501_20070601_ETO.tif already exists in aws bucket ose-dev-inputs, skipping\n",
      "[2025-08-25 10:36:28 INFO] File IDAHO_EPSCOR_GRIDMET_009014_20070501_20070601_ETO.tif already exists in aws bucket ose-dev-inputs, skipping\n",
      "[2025-08-25 10:36:29 INFO] File IDAHO_EPSCOR_GRIDMET_009015_20070501_20070601_ETO.tif already exists in aws bucket ose-dev-inputs, skipping\n",
      "[2025-08-25 10:36:30 INFO] File IDAHO_EPSCOR_GRIDMET_010011_20070501_20070601_ETO.tif already exists in aws bucket ose-dev-inputs, skipping\n",
      "[2025-08-25 10:36:31 INFO] File IDAHO_EPSCOR_GRIDMET_010012_20070501_20070601_ETO.tif already exists in aws bucket ose-dev-inputs, skipping\n",
      "[2025-08-25 10:36:32 INFO] File IDAHO_EPSCOR_GRIDMET_010013_20070501_20070601_ETO.tif already exists in aws bucket ose-dev-inputs, skipping\n",
      "[2025-08-25 10:36:33 INFO] File IDAHO_EPSCOR_GRIDMET_010014_20070501_20070601_ETO.tif already exists in aws bucket ose-dev-inputs, skipping\n",
      "[2025-08-25 10:36:34 INFO] File IDAHO_EPSCOR_GRIDMET_010015_20070501_20070601_ETO.tif already exists in aws bucket ose-dev-inputs, skipping\n",
      "[2025-08-25 10:36:36 INFO] File IDAHO_EPSCOR_GRIDMET_011011_20070501_20070601_ETO.tif already exists in aws bucket ose-dev-inputs, skipping\n",
      "[2025-08-25 10:36:37 INFO] File IDAHO_EPSCOR_GRIDMET_011012_20070501_20070601_ETO.tif already exists in aws bucket ose-dev-inputs, skipping\n",
      "[2025-08-25 10:36:38 INFO] File IDAHO_EPSCOR_GRIDMET_011013_20070501_20070601_ETO.tif already exists in aws bucket ose-dev-inputs, skipping\n",
      "[2025-08-25 10:36:39 INFO] File IDAHO_EPSCOR_GRIDMET_011014_20070501_20070601_ETO.tif already exists in aws bucket ose-dev-inputs, skipping\n",
      "[2025-08-25 10:36:40 INFO] File IDAHO_EPSCOR_GRIDMET_011015_20070501_20070601_ETO.tif already exists in aws bucket ose-dev-inputs, skipping\n",
      "[2025-08-25 10:36:41 INFO] File IDAHO_EPSCOR_GRIDMET_012011_20070501_20070601_ETO.tif already exists in aws bucket ose-dev-inputs, skipping\n",
      "[2025-08-25 10:36:42 INFO] File IDAHO_EPSCOR_GRIDMET_012012_20070501_20070601_ETO.tif already exists in aws bucket ose-dev-inputs, skipping\n",
      "[2025-08-25 10:36:43 INFO] File IDAHO_EPSCOR_GRIDMET_012013_20070501_20070601_ETO.tif already exists in aws bucket ose-dev-inputs, skipping\n",
      "[2025-08-25 10:36:44 INFO] File IDAHO_EPSCOR_GRIDMET_012014_20070501_20070601_ETO.tif already exists in aws bucket ose-dev-inputs, skipping\n",
      "[2025-08-25 10:36:45 INFO] File IDAHO_EPSCOR_GRIDMET_012015_20070501_20070601_ETO.tif already exists in aws bucket ose-dev-inputs, skipping\n",
      "[2025-08-25 10:36:46 INFO] File IDAHO_EPSCOR_GRIDMET_009011_20070601_20070701_ETO.tif already exists in aws bucket ose-dev-inputs, skipping\n",
      "[2025-08-25 10:36:47 INFO] File IDAHO_EPSCOR_GRIDMET_009012_20070601_20070701_ETO.tif already exists in aws bucket ose-dev-inputs, skipping\n",
      "[2025-08-25 10:36:48 INFO] File IDAHO_EPSCOR_GRIDMET_009013_20070601_20070701_ETO.tif already exists in aws bucket ose-dev-inputs, skipping\n",
      "[2025-08-25 10:36:49 INFO] File IDAHO_EPSCOR_GRIDMET_009014_20070601_20070701_ETO.tif already exists in aws bucket ose-dev-inputs, skipping\n",
      "[2025-08-25 10:36:50 INFO] File IDAHO_EPSCOR_GRIDMET_009015_20070601_20070701_ETO.tif already exists in aws bucket ose-dev-inputs, skipping\n",
      "[2025-08-25 10:36:51 INFO] File IDAHO_EPSCOR_GRIDMET_010011_20070601_20070701_ETO.tif already exists in aws bucket ose-dev-inputs, skipping\n",
      "[2025-08-25 10:36:52 INFO] File IDAHO_EPSCOR_GRIDMET_010012_20070601_20070701_ETO.tif already exists in aws bucket ose-dev-inputs, skipping\n",
      "[2025-08-25 10:36:53 INFO] File IDAHO_EPSCOR_GRIDMET_010013_20070601_20070701_ETO.tif already exists in aws bucket ose-dev-inputs, skipping\n",
      "[2025-08-25 10:36:55 INFO] File IDAHO_EPSCOR_GRIDMET_010014_20070601_20070701_ETO.tif already exists in aws bucket ose-dev-inputs, skipping\n",
      "[2025-08-25 10:36:56 INFO] File IDAHO_EPSCOR_GRIDMET_010015_20070601_20070701_ETO.tif already exists in aws bucket ose-dev-inputs, skipping\n",
      "[2025-08-25 10:36:57 INFO] File IDAHO_EPSCOR_GRIDMET_011011_20070601_20070701_ETO.tif already exists in aws bucket ose-dev-inputs, skipping\n",
      "[2025-08-25 10:36:58 INFO] File IDAHO_EPSCOR_GRIDMET_011012_20070601_20070701_ETO.tif already exists in aws bucket ose-dev-inputs, skipping\n",
      "[2025-08-25 10:36:59 INFO] File IDAHO_EPSCOR_GRIDMET_011013_20070601_20070701_ETO.tif already exists in aws bucket ose-dev-inputs, skipping\n",
      "[2025-08-25 10:37:00 INFO] File IDAHO_EPSCOR_GRIDMET_011014_20070601_20070701_ETO.tif already exists in aws bucket ose-dev-inputs, skipping\n",
      "[2025-08-25 10:37:02 INFO] File IDAHO_EPSCOR_GRIDMET_011015_20070601_20070701_ETO.tif already exists in aws bucket ose-dev-inputs, skipping\n",
      "[2025-08-25 10:37:03 INFO] File IDAHO_EPSCOR_GRIDMET_012011_20070601_20070701_ETO.tif already exists in aws bucket ose-dev-inputs, skipping\n",
      "[2025-08-25 10:37:04 INFO] File IDAHO_EPSCOR_GRIDMET_012012_20070601_20070701_ETO.tif already exists in aws bucket ose-dev-inputs, skipping\n",
      "[2025-08-25 10:37:05 INFO] File IDAHO_EPSCOR_GRIDMET_012013_20070601_20070701_ETO.tif already exists in aws bucket ose-dev-inputs, skipping\n",
      "[2025-08-25 10:37:06 INFO] File IDAHO_EPSCOR_GRIDMET_012014_20070601_20070701_ETO.tif already exists in aws bucket ose-dev-inputs, skipping\n",
      "[2025-08-25 10:37:07 INFO] File IDAHO_EPSCOR_GRIDMET_012015_20070601_20070701_ETO.tif already exists in aws bucket ose-dev-inputs, skipping\n",
      "[2025-08-25 10:37:08 INFO] File IDAHO_EPSCOR_GRIDMET_009011_20070701_20070801_ETO.tif already exists in aws bucket ose-dev-inputs, skipping\n",
      "[2025-08-25 10:37:09 INFO] File IDAHO_EPSCOR_GRIDMET_009012_20070701_20070801_ETO.tif already exists in aws bucket ose-dev-inputs, skipping\n",
      "[2025-08-25 10:37:12 INFO] File IDAHO_EPSCOR_GRIDMET_009013_20070701_20070801_ETO.tif already exists in aws bucket ose-dev-inputs, skipping\n",
      "[2025-08-25 10:37:13 INFO] File IDAHO_EPSCOR_GRIDMET_009014_20070701_20070801_ETO.tif already exists in aws bucket ose-dev-inputs, skipping\n",
      "[2025-08-25 10:37:14 INFO] File IDAHO_EPSCOR_GRIDMET_009015_20070701_20070801_ETO.tif already exists in aws bucket ose-dev-inputs, skipping\n",
      "[2025-08-25 10:37:15 INFO] File IDAHO_EPSCOR_GRIDMET_010011_20070701_20070801_ETO.tif already exists in aws bucket ose-dev-inputs, skipping\n",
      "[2025-08-25 10:37:16 INFO] File IDAHO_EPSCOR_GRIDMET_010012_20070701_20070801_ETO.tif already exists in aws bucket ose-dev-inputs, skipping\n",
      "[2025-08-25 10:37:17 INFO] File IDAHO_EPSCOR_GRIDMET_010013_20070701_20070801_ETO.tif already exists in aws bucket ose-dev-inputs, skipping\n",
      "[2025-08-25 10:37:18 INFO] File IDAHO_EPSCOR_GRIDMET_010014_20070701_20070801_ETO.tif already exists in aws bucket ose-dev-inputs, skipping\n",
      "[2025-08-25 10:37:19 INFO] File IDAHO_EPSCOR_GRIDMET_010015_20070701_20070801_ETO.tif already exists in aws bucket ose-dev-inputs, skipping\n",
      "[2025-08-25 10:37:20 INFO] File IDAHO_EPSCOR_GRIDMET_011011_20070701_20070801_ETO.tif already exists in aws bucket ose-dev-inputs, skipping\n",
      "[2025-08-25 10:37:21 INFO] File IDAHO_EPSCOR_GRIDMET_011012_20070701_20070801_ETO.tif already exists in aws bucket ose-dev-inputs, skipping\n",
      "[2025-08-25 10:37:22 INFO] File IDAHO_EPSCOR_GRIDMET_011013_20070701_20070801_ETO.tif already exists in aws bucket ose-dev-inputs, skipping\n",
      "[2025-08-25 10:37:24 INFO] File IDAHO_EPSCOR_GRIDMET_011014_20070701_20070801_ETO.tif already exists in aws bucket ose-dev-inputs, skipping\n",
      "[2025-08-25 10:37:25 INFO] File IDAHO_EPSCOR_GRIDMET_011015_20070701_20070801_ETO.tif already exists in aws bucket ose-dev-inputs, skipping\n",
      "[2025-08-25 10:37:26 INFO] File IDAHO_EPSCOR_GRIDMET_012011_20070701_20070801_ETO.tif already exists in aws bucket ose-dev-inputs, skipping\n",
      "[2025-08-25 10:37:27 INFO] File IDAHO_EPSCOR_GRIDMET_012012_20070701_20070801_ETO.tif already exists in aws bucket ose-dev-inputs, skipping\n",
      "[2025-08-25 10:37:28 INFO] File IDAHO_EPSCOR_GRIDMET_012013_20070701_20070801_ETO.tif already exists in aws bucket ose-dev-inputs, skipping\n",
      "[2025-08-25 10:37:29 INFO] File IDAHO_EPSCOR_GRIDMET_012014_20070701_20070801_ETO.tif already exists in aws bucket ose-dev-inputs, skipping\n",
      "[2025-08-25 10:37:30 INFO] File IDAHO_EPSCOR_GRIDMET_012015_20070701_20070801_ETO.tif already exists in aws bucket ose-dev-inputs, skipping\n",
      "[2025-08-25 10:37:31 INFO] File IDAHO_EPSCOR_GRIDMET_009011_20070801_20070901_ETO.tif already exists in aws bucket ose-dev-inputs, skipping\n",
      "[2025-08-25 10:37:32 INFO] File IDAHO_EPSCOR_GRIDMET_009012_20070801_20070901_ETO.tif already exists in aws bucket ose-dev-inputs, skipping\n",
      "[2025-08-25 10:37:33 INFO] File IDAHO_EPSCOR_GRIDMET_009013_20070801_20070901_ETO.tif already exists in aws bucket ose-dev-inputs, skipping\n",
      "[2025-08-25 10:37:34 INFO] File IDAHO_EPSCOR_GRIDMET_009014_20070801_20070901_ETO.tif already exists in aws bucket ose-dev-inputs, skipping\n",
      "[2025-08-25 10:37:35 INFO] File IDAHO_EPSCOR_GRIDMET_009015_20070801_20070901_ETO.tif already exists in aws bucket ose-dev-inputs, skipping\n",
      "[2025-08-25 10:37:36 INFO] File IDAHO_EPSCOR_GRIDMET_010011_20070801_20070901_ETO.tif already exists in aws bucket ose-dev-inputs, skipping\n",
      "[2025-08-25 10:37:37 INFO] File IDAHO_EPSCOR_GRIDMET_010012_20070801_20070901_ETO.tif already exists in aws bucket ose-dev-inputs, skipping\n",
      "[2025-08-25 10:37:38 INFO] File IDAHO_EPSCOR_GRIDMET_010013_20070801_20070901_ETO.tif already exists in aws bucket ose-dev-inputs, skipping\n",
      "[2025-08-25 10:37:39 INFO] File IDAHO_EPSCOR_GRIDMET_010014_20070801_20070901_ETO.tif already exists in aws bucket ose-dev-inputs, skipping\n",
      "[2025-08-25 10:37:40 INFO] File IDAHO_EPSCOR_GRIDMET_010015_20070801_20070901_ETO.tif already exists in aws bucket ose-dev-inputs, skipping\n",
      "[2025-08-25 10:37:41 INFO] File IDAHO_EPSCOR_GRIDMET_011011_20070801_20070901_ETO.tif already exists in aws bucket ose-dev-inputs, skipping\n",
      "[2025-08-25 10:37:42 INFO] File IDAHO_EPSCOR_GRIDMET_011012_20070801_20070901_ETO.tif already exists in aws bucket ose-dev-inputs, skipping\n",
      "[2025-08-25 10:37:43 INFO] File IDAHO_EPSCOR_GRIDMET_011013_20070801_20070901_ETO.tif already exists in aws bucket ose-dev-inputs, skipping\n",
      "[2025-08-25 10:37:44 INFO] File IDAHO_EPSCOR_GRIDMET_011014_20070801_20070901_ETO.tif already exists in aws bucket ose-dev-inputs, skipping\n",
      "[2025-08-25 10:37:46 INFO] File IDAHO_EPSCOR_GRIDMET_011015_20070801_20070901_ETO.tif already exists in aws bucket ose-dev-inputs, skipping\n",
      "[2025-08-25 10:37:47 INFO] File IDAHO_EPSCOR_GRIDMET_012011_20070801_20070901_ETO.tif already exists in aws bucket ose-dev-inputs, skipping\n",
      "[2025-08-25 10:37:48 INFO] File IDAHO_EPSCOR_GRIDMET_012012_20070801_20070901_ETO.tif already exists in aws bucket ose-dev-inputs, skipping\n",
      "[2025-08-25 10:37:49 INFO] File IDAHO_EPSCOR_GRIDMET_012013_20070801_20070901_ETO.tif already exists in aws bucket ose-dev-inputs, skipping\n",
      "[2025-08-25 10:37:50 INFO] File IDAHO_EPSCOR_GRIDMET_012014_20070801_20070901_ETO.tif already exists in aws bucket ose-dev-inputs, skipping\n",
      "[2025-08-25 10:37:51 INFO] File IDAHO_EPSCOR_GRIDMET_012015_20070801_20070901_ETO.tif already exists in aws bucket ose-dev-inputs, skipping\n",
      "[2025-08-25 10:37:52 INFO] File IDAHO_EPSCOR_GRIDMET_009011_20070901_20071001_ETO.tif already exists in aws bucket ose-dev-inputs, skipping\n",
      "[2025-08-25 10:37:53 INFO] File IDAHO_EPSCOR_GRIDMET_009012_20070901_20071001_ETO.tif already exists in aws bucket ose-dev-inputs, skipping\n",
      "[2025-08-25 10:37:54 INFO] File IDAHO_EPSCOR_GRIDMET_009013_20070901_20071001_ETO.tif already exists in aws bucket ose-dev-inputs, skipping\n",
      "[2025-08-25 10:37:55 INFO] File IDAHO_EPSCOR_GRIDMET_009014_20070901_20071001_ETO.tif already exists in aws bucket ose-dev-inputs, skipping\n",
      "[2025-08-25 10:37:56 INFO] File IDAHO_EPSCOR_GRIDMET_009015_20070901_20071001_ETO.tif already exists in aws bucket ose-dev-inputs, skipping\n",
      "[2025-08-25 10:37:57 INFO] File IDAHO_EPSCOR_GRIDMET_010011_20070901_20071001_ETO.tif already exists in aws bucket ose-dev-inputs, skipping\n",
      "[2025-08-25 10:37:58 INFO] File IDAHO_EPSCOR_GRIDMET_010012_20070901_20071001_ETO.tif already exists in aws bucket ose-dev-inputs, skipping\n",
      "[2025-08-25 10:37:59 INFO] File IDAHO_EPSCOR_GRIDMET_010013_20070901_20071001_ETO.tif already exists in aws bucket ose-dev-inputs, skipping\n",
      "[2025-08-25 10:38:00 INFO] File IDAHO_EPSCOR_GRIDMET_010014_20070901_20071001_ETO.tif already exists in aws bucket ose-dev-inputs, skipping\n",
      "[2025-08-25 10:38:01 INFO] File IDAHO_EPSCOR_GRIDMET_010015_20070901_20071001_ETO.tif already exists in aws bucket ose-dev-inputs, skipping\n",
      "[2025-08-25 10:38:02 INFO] File IDAHO_EPSCOR_GRIDMET_011011_20070901_20071001_ETO.tif already exists in aws bucket ose-dev-inputs, skipping\n",
      "[2025-08-25 10:38:03 INFO] File IDAHO_EPSCOR_GRIDMET_011012_20070901_20071001_ETO.tif already exists in aws bucket ose-dev-inputs, skipping\n",
      "[2025-08-25 10:38:04 INFO] File IDAHO_EPSCOR_GRIDMET_011013_20070901_20071001_ETO.tif already exists in aws bucket ose-dev-inputs, skipping\n",
      "[2025-08-25 10:38:05 INFO] File IDAHO_EPSCOR_GRIDMET_011014_20070901_20071001_ETO.tif already exists in aws bucket ose-dev-inputs, skipping\n",
      "[2025-08-25 10:38:06 INFO] File IDAHO_EPSCOR_GRIDMET_011015_20070901_20071001_ETO.tif already exists in aws bucket ose-dev-inputs, skipping\n",
      "[2025-08-25 10:38:07 INFO] File IDAHO_EPSCOR_GRIDMET_012011_20070901_20071001_ETO.tif already exists in aws bucket ose-dev-inputs, skipping\n",
      "[2025-08-25 10:38:08 INFO] File IDAHO_EPSCOR_GRIDMET_012012_20070901_20071001_ETO.tif already exists in aws bucket ose-dev-inputs, skipping\n",
      "[2025-08-25 10:38:09 INFO] File IDAHO_EPSCOR_GRIDMET_012013_20070901_20071001_ETO.tif already exists in aws bucket ose-dev-inputs, skipping\n",
      "[2025-08-25 10:38:10 INFO] File IDAHO_EPSCOR_GRIDMET_012014_20070901_20071001_ETO.tif already exists in aws bucket ose-dev-inputs, skipping\n",
      "[2025-08-25 10:38:11 INFO] File IDAHO_EPSCOR_GRIDMET_012015_20070901_20071001_ETO.tif already exists in aws bucket ose-dev-inputs, skipping\n",
      "[2025-08-25 10:38:13 INFO] File IDAHO_EPSCOR_GRIDMET_009011_20071001_20071101_ETO.tif already exists in aws bucket ose-dev-inputs, skipping\n",
      "[2025-08-25 10:38:14 INFO] File IDAHO_EPSCOR_GRIDMET_009012_20071001_20071101_ETO.tif already exists in aws bucket ose-dev-inputs, skipping\n",
      "[2025-08-25 10:38:15 INFO] File IDAHO_EPSCOR_GRIDMET_009013_20071001_20071101_ETO.tif already exists in aws bucket ose-dev-inputs, skipping\n",
      "[2025-08-25 10:38:17 INFO] File IDAHO_EPSCOR_GRIDMET_009014_20071001_20071101_ETO.tif already exists in aws bucket ose-dev-inputs, skipping\n",
      "[2025-08-25 10:38:18 INFO] File IDAHO_EPSCOR_GRIDMET_009015_20071001_20071101_ETO.tif already exists in aws bucket ose-dev-inputs, skipping\n",
      "[2025-08-25 10:38:19 INFO] File IDAHO_EPSCOR_GRIDMET_010011_20071001_20071101_ETO.tif already exists in aws bucket ose-dev-inputs, skipping\n",
      "[2025-08-25 10:38:20 INFO] File IDAHO_EPSCOR_GRIDMET_010012_20071001_20071101_ETO.tif already exists in aws bucket ose-dev-inputs, skipping\n",
      "[2025-08-25 10:38:21 INFO] File IDAHO_EPSCOR_GRIDMET_010013_20071001_20071101_ETO.tif already exists in aws bucket ose-dev-inputs, skipping\n",
      "[2025-08-25 10:38:22 INFO] File IDAHO_EPSCOR_GRIDMET_010014_20071001_20071101_ETO.tif already exists in aws bucket ose-dev-inputs, skipping\n",
      "[2025-08-25 10:38:23 INFO] File IDAHO_EPSCOR_GRIDMET_010015_20071001_20071101_ETO.tif already exists in aws bucket ose-dev-inputs, skipping\n",
      "[2025-08-25 10:38:25 INFO] File IDAHO_EPSCOR_GRIDMET_011011_20071001_20071101_ETO.tif already exists in aws bucket ose-dev-inputs, skipping\n",
      "[2025-08-25 10:38:26 INFO] File IDAHO_EPSCOR_GRIDMET_011012_20071001_20071101_ETO.tif already exists in aws bucket ose-dev-inputs, skipping\n",
      "[2025-08-25 10:38:27 INFO] File IDAHO_EPSCOR_GRIDMET_011013_20071001_20071101_ETO.tif already exists in aws bucket ose-dev-inputs, skipping\n",
      "[2025-08-25 10:38:28 INFO] File IDAHO_EPSCOR_GRIDMET_011014_20071001_20071101_ETO.tif already exists in aws bucket ose-dev-inputs, skipping\n",
      "[2025-08-25 10:38:29 INFO] File IDAHO_EPSCOR_GRIDMET_011015_20071001_20071101_ETO.tif already exists in aws bucket ose-dev-inputs, skipping\n",
      "[2025-08-25 10:38:30 INFO] File IDAHO_EPSCOR_GRIDMET_012011_20071001_20071101_ETO.tif already exists in aws bucket ose-dev-inputs, skipping\n",
      "[2025-08-25 10:38:31 INFO] File IDAHO_EPSCOR_GRIDMET_012012_20071001_20071101_ETO.tif already exists in aws bucket ose-dev-inputs, skipping\n",
      "[2025-08-25 10:38:32 INFO] File IDAHO_EPSCOR_GRIDMET_012013_20071001_20071101_ETO.tif already exists in aws bucket ose-dev-inputs, skipping\n",
      "[2025-08-25 10:38:33 INFO] File IDAHO_EPSCOR_GRIDMET_012014_20071001_20071101_ETO.tif already exists in aws bucket ose-dev-inputs, skipping\n",
      "[2025-08-25 10:38:34 INFO] File IDAHO_EPSCOR_GRIDMET_012015_20071001_20071101_ETO.tif already exists in aws bucket ose-dev-inputs, skipping\n",
      "[2025-08-25 10:38:35 INFO] File IDAHO_EPSCOR_GRIDMET_009011_20071101_20071201_ETO.tif already exists in aws bucket ose-dev-inputs, skipping\n",
      "[2025-08-25 10:38:36 INFO] File IDAHO_EPSCOR_GRIDMET_009012_20071101_20071201_ETO.tif already exists in aws bucket ose-dev-inputs, skipping\n",
      "[2025-08-25 10:38:37 INFO] File IDAHO_EPSCOR_GRIDMET_009013_20071101_20071201_ETO.tif already exists in aws bucket ose-dev-inputs, skipping\n",
      "[2025-08-25 10:38:38 INFO] File IDAHO_EPSCOR_GRIDMET_009014_20071101_20071201_ETO.tif already exists in aws bucket ose-dev-inputs, skipping\n",
      "[2025-08-25 10:38:39 INFO] File IDAHO_EPSCOR_GRIDMET_009015_20071101_20071201_ETO.tif already exists in aws bucket ose-dev-inputs, skipping\n",
      "[2025-08-25 10:38:40 INFO] File IDAHO_EPSCOR_GRIDMET_010011_20071101_20071201_ETO.tif already exists in aws bucket ose-dev-inputs, skipping\n",
      "[2025-08-25 10:38:42 INFO] File IDAHO_EPSCOR_GRIDMET_010012_20071101_20071201_ETO.tif already exists in aws bucket ose-dev-inputs, skipping\n",
      "[2025-08-25 10:38:43 INFO] File IDAHO_EPSCOR_GRIDMET_010013_20071101_20071201_ETO.tif already exists in aws bucket ose-dev-inputs, skipping\n",
      "[2025-08-25 10:38:44 INFO] File IDAHO_EPSCOR_GRIDMET_010014_20071101_20071201_ETO.tif already exists in aws bucket ose-dev-inputs, skipping\n",
      "[2025-08-25 10:38:45 INFO] File IDAHO_EPSCOR_GRIDMET_010015_20071101_20071201_ETO.tif already exists in aws bucket ose-dev-inputs, skipping\n",
      "[2025-08-25 10:38:46 INFO] File IDAHO_EPSCOR_GRIDMET_011011_20071101_20071201_ETO.tif already exists in aws bucket ose-dev-inputs, skipping\n",
      "[2025-08-25 10:38:47 INFO] File IDAHO_EPSCOR_GRIDMET_011012_20071101_20071201_ETO.tif already exists in aws bucket ose-dev-inputs, skipping\n",
      "[2025-08-25 10:38:48 INFO] File IDAHO_EPSCOR_GRIDMET_011013_20071101_20071201_ETO.tif already exists in aws bucket ose-dev-inputs, skipping\n",
      "[2025-08-25 10:38:49 INFO] File IDAHO_EPSCOR_GRIDMET_011014_20071101_20071201_ETO.tif already exists in aws bucket ose-dev-inputs, skipping\n",
      "[2025-08-25 10:38:50 INFO] File IDAHO_EPSCOR_GRIDMET_011015_20071101_20071201_ETO.tif already exists in aws bucket ose-dev-inputs, skipping\n",
      "[2025-08-25 10:38:51 INFO] File IDAHO_EPSCOR_GRIDMET_012011_20071101_20071201_ETO.tif already exists in aws bucket ose-dev-inputs, skipping\n",
      "[2025-08-25 10:38:52 INFO] File IDAHO_EPSCOR_GRIDMET_012012_20071101_20071201_ETO.tif already exists in aws bucket ose-dev-inputs, skipping\n",
      "[2025-08-25 10:38:53 INFO] File IDAHO_EPSCOR_GRIDMET_012013_20071101_20071201_ETO.tif already exists in aws bucket ose-dev-inputs, skipping\n",
      "[2025-08-25 10:38:54 INFO] File IDAHO_EPSCOR_GRIDMET_012014_20071101_20071201_ETO.tif already exists in aws bucket ose-dev-inputs, skipping\n",
      "[2025-08-25 10:38:56 INFO] File IDAHO_EPSCOR_GRIDMET_012015_20071101_20071201_ETO.tif already exists in aws bucket ose-dev-inputs, skipping\n",
      "[2025-08-25 10:38:58 INFO] File IDAHO_EPSCOR_GRIDMET_009011_20071201_20080101_ETO.tif already exists in aws bucket ose-dev-inputs, skipping\n",
      "[2025-08-25 10:38:59 INFO] File IDAHO_EPSCOR_GRIDMET_009012_20071201_20080101_ETO.tif already exists in aws bucket ose-dev-inputs, skipping\n",
      "[2025-08-25 10:39:00 INFO] File IDAHO_EPSCOR_GRIDMET_009013_20071201_20080101_ETO.tif already exists in aws bucket ose-dev-inputs, skipping\n",
      "[2025-08-25 10:39:01 INFO] File IDAHO_EPSCOR_GRIDMET_009014_20071201_20080101_ETO.tif already exists in aws bucket ose-dev-inputs, skipping\n",
      "[2025-08-25 10:39:02 INFO] File IDAHO_EPSCOR_GRIDMET_009015_20071201_20080101_ETO.tif already exists in aws bucket ose-dev-inputs, skipping\n",
      "[2025-08-25 10:39:03 INFO] File IDAHO_EPSCOR_GRIDMET_010011_20071201_20080101_ETO.tif already exists in aws bucket ose-dev-inputs, skipping\n",
      "[2025-08-25 10:39:04 INFO] File IDAHO_EPSCOR_GRIDMET_010012_20071201_20080101_ETO.tif already exists in aws bucket ose-dev-inputs, skipping\n",
      "[2025-08-25 10:39:05 INFO] File IDAHO_EPSCOR_GRIDMET_010013_20071201_20080101_ETO.tif already exists in aws bucket ose-dev-inputs, skipping\n",
      "[2025-08-25 10:39:06 INFO] File IDAHO_EPSCOR_GRIDMET_010014_20071201_20080101_ETO.tif already exists in aws bucket ose-dev-inputs, skipping\n",
      "[2025-08-25 10:39:08 INFO] File IDAHO_EPSCOR_GRIDMET_010015_20071201_20080101_ETO.tif already exists in aws bucket ose-dev-inputs, skipping\n",
      "[2025-08-25 10:39:09 INFO] File IDAHO_EPSCOR_GRIDMET_011011_20071201_20080101_ETO.tif already exists in aws bucket ose-dev-inputs, skipping\n",
      "[2025-08-25 10:39:10 INFO] File IDAHO_EPSCOR_GRIDMET_011012_20071201_20080101_ETO.tif already exists in aws bucket ose-dev-inputs, skipping\n",
      "[2025-08-25 10:39:11 INFO] File IDAHO_EPSCOR_GRIDMET_011013_20071201_20080101_ETO.tif already exists in aws bucket ose-dev-inputs, skipping\n",
      "[2025-08-25 10:39:12 INFO] File IDAHO_EPSCOR_GRIDMET_011014_20071201_20080101_ETO.tif already exists in aws bucket ose-dev-inputs, skipping\n",
      "[2025-08-25 10:39:13 INFO] File IDAHO_EPSCOR_GRIDMET_011015_20071201_20080101_ETO.tif already exists in aws bucket ose-dev-inputs, skipping\n",
      "[2025-08-25 10:39:14 INFO] File IDAHO_EPSCOR_GRIDMET_012011_20071201_20080101_ETO.tif already exists in aws bucket ose-dev-inputs, skipping\n",
      "[2025-08-25 10:39:15 INFO] File IDAHO_EPSCOR_GRIDMET_012012_20071201_20080101_ETO.tif already exists in aws bucket ose-dev-inputs, skipping\n",
      "[2025-08-25 10:39:16 INFO] File IDAHO_EPSCOR_GRIDMET_012013_20071201_20080101_ETO.tif already exists in aws bucket ose-dev-inputs, skipping\n",
      "[2025-08-25 10:39:17 INFO] File IDAHO_EPSCOR_GRIDMET_012014_20071201_20080101_ETO.tif already exists in aws bucket ose-dev-inputs, skipping\n",
      "[2025-08-25 10:39:18 INFO] File IDAHO_EPSCOR_GRIDMET_012015_20071201_20080101_ETO.tif already exists in aws bucket ose-dev-inputs, skipping\n",
      "*****Uploading year 2007*****\n"
     ]
    },
    {
     "name": "stderr",
     "output_type": "stream",
     "text": [
      "Uploading files to AWS: 0it [00:00, ?it/s]"
     ]
    },
    {
     "name": "stdout",
     "output_type": "stream",
     "text": [
      "*****Year 2007 uploaded*****\n"
     ]
    },
    {
     "name": "stderr",
     "output_type": "stream",
     "text": [
      "\n"
     ]
    }
   ],
   "source": [
    "gridmet_climate_engine_pipeline = GridMETPipeline(\n",
    "    bands=[\"pet\"],\n",
    "    aws_profile=\"ose-nmw\",\n",
    "    aws_bucket=\"ose-dev-inputs\",\n",
    "    aws_region=\"us-west-2\",\n",
    "    url=\"http://thredds.northwestknowledge.net:8080/thredds/fileServer/MET/pet/\",\n",
    ")\n",
    "for year in range(2007, 2008):\n",
    "    print(f\"*****Fetching year {year}*****\")\n",
    "    gridmet_climate_engine_pipeline.fetch_year(year)\n",
    "    print(f\"*****Uploading year {year}*****\")\n",
    "    gridmet_climate_engine_pipeline.upload_to_aws(delete_on_success=True)\n",
    "    print(f\"*****Year {year} uploaded*****\")"
   ]
  },
  {
   "cell_type": "code",
   "execution_count": null,
   "metadata": {},
   "outputs": [],
   "source": []
  }
 ],
 "metadata": {
  "kernelspec": {
   "display_name": "nmw-pipelines",
   "language": "python",
   "name": "python3"
  },
  "language_info": {
   "codemirror_mode": {
    "name": "ipython",
    "version": 3
   },
   "file_extension": ".py",
   "mimetype": "text/x-python",
   "name": "python",
   "nbconvert_exporter": "python",
   "pygments_lexer": "ipython3",
   "version": "3.10.13"
  }
 },
 "nbformat": 4,
 "nbformat_minor": 2
}
