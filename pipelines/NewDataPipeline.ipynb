{
 "cells": [
  {
   "cell_type": "code",
   "execution_count": 12,
   "metadata": {},
   "outputs": [
    {
     "data": {
      "text/html": [
       "\n",
       "            <style>\n",
       "                .geemap-dark {\n",
       "                    --jp-widgets-color: white;\n",
       "                    --jp-widgets-label-color: white;\n",
       "                    --jp-ui-font-color1: white;\n",
       "                    --jp-layout-color2: #454545;\n",
       "                    background-color: #383838;\n",
       "                }\n",
       "\n",
       "                .geemap-dark .jupyter-button {\n",
       "                    --jp-layout-color3: #383838;\n",
       "                }\n",
       "\n",
       "                .geemap-colab {\n",
       "                    background-color: var(--colab-primary-surface-color, white);\n",
       "                }\n",
       "\n",
       "                .geemap-colab .jupyter-button {\n",
       "                    --jp-layout-color3: var(--colab-primary-surface-color, white);\n",
       "                }\n",
       "            </style>\n",
       "            "
      ],
      "text/plain": [
       "<IPython.core.display.HTML object>"
      ]
     },
     "metadata": {},
     "output_type": "display_data"
    }
   ],
   "source": [
    "%reload_ext autoreload\n",
    "%autoreload 2\n",
    "\n",
    "import sys\n",
    "import os\n",
    "from os.path import join\n",
    "sys.path.append(\"../\")\n",
    "\n",
    "from pipelines.gee.gee_aws_pipeline import GEEAWSDataPipeline\n",
    "from pipelines.prism.prism_aws_pipeline import PrismAWSDataPipeline\n",
    "\n",
    "# Specify the path to the Google Drive client secret and key files\n",
    "# To generate, follow these instructions: https://docs.iterative.ai/PyDrive2/quickstart/\n",
    "current_dir = os.path.dirname(os.getcwd())\n",
    "secret_path = join(current_dir, \"water_rights_visualizer/client_secret_personal.json\")\n",
    "key_path = join(current_dir, \"water_rights_visualizer/google_drive_personal_key.txt\")"
   ]
  },
  {
   "cell_type": "code",
   "execution_count": 13,
   "metadata": {},
   "outputs": [
    {
     "data": {
      "text/html": [
       "\n",
       "            <style>\n",
       "                .geemap-dark {\n",
       "                    --jp-widgets-color: white;\n",
       "                    --jp-widgets-label-color: white;\n",
       "                    --jp-ui-font-color1: white;\n",
       "                    --jp-layout-color2: #454545;\n",
       "                    background-color: #383838;\n",
       "                }\n",
       "\n",
       "                .geemap-dark .jupyter-button {\n",
       "                    --jp-layout-color3: #383838;\n",
       "                }\n",
       "\n",
       "                .geemap-colab {\n",
       "                    background-color: var(--colab-primary-surface-color, white);\n",
       "                }\n",
       "\n",
       "                .geemap-colab .jupyter-button {\n",
       "                    --jp-layout-color3: var(--colab-primary-surface-color, white);\n",
       "                }\n",
       "            </style>\n",
       "            "
      ],
      "text/plain": [
       "<IPython.core.display.HTML object>"
      ]
     },
     "metadata": {},
     "output_type": "display_data"
    },
    {
     "name": "stdout",
     "output_type": "stream",
     "text": [
      "[2025-06-25 16:11:21 INFO] loading credentials: /Users/rstonebr/Documents/Programming/Water-Rights-Visualizer/water_rights_visualizer/google_drive_personal_key.txt\n",
      "[2025-06-25 16:11:21 INFO] access_token is expired. Now: 2025-06-25 23:11:21.945039, token_expiry: 2025-06-25 22:53:51\n",
      "[2025-06-25 16:11:21 INFO] Refreshing access_token\n",
      "[2025-06-25 16:11:22 INFO] saving credentials: /Users/rstonebr/Documents/Programming/Water-Rights-Visualizer/water_rights_visualizer/google_drive_personal_key.txt\n",
      "[2025-06-25 16:11:22 INFO] Found credentials in shared credentials file: ~/.aws/credentials\n"
     ]
    }
   ],
   "source": [
    "# Initialize the pipeline, configured for the OpenET ensemble product\n",
    "pipeline = GEEAWSDataPipeline(\n",
    "    bands=[\"et_ensemble_mad\", \"et_ensemble_mad_min\", \"et_ensemble_mad_max\"],\n",
    "    product=\"OpenET/ENSEMBLE/CONUS/GRIDMET/MONTHLY/v2_0\",\n",
    "    product_prefix=\"OPENET_ENSEMBLE\",\n",
    "    aws_bucket=\"ose-dev-inputs\",\n",
    "    aws_region=\"us-west-2\",\n",
    "    aws_profile=\"ose-nmw\",\n",
    "    gdrive_folder=\"OPENET_EXPORTS\",\n",
    "    temp_local_folder=\"temp_data\",\n",
    "    project=\"et-exploration\",\n",
    "    gdrive_client_secrets_filename=secret_path,\n",
    "    gdrive_key_filename=key_path,\n",
    ")"
   ]
  },
  {
   "cell_type": "code",
   "execution_count": 14,
   "metadata": {},
   "outputs": [
    {
     "data": {
      "text/html": [
       "\n",
       "            <style>\n",
       "                .geemap-dark {\n",
       "                    --jp-widgets-color: white;\n",
       "                    --jp-widgets-label-color: white;\n",
       "                    --jp-ui-font-color1: white;\n",
       "                    --jp-layout-color2: #454545;\n",
       "                    background-color: #383838;\n",
       "                }\n",
       "\n",
       "                .geemap-dark .jupyter-button {\n",
       "                    --jp-layout-color3: #383838;\n",
       "                }\n",
       "\n",
       "                .geemap-colab {\n",
       "                    background-color: var(--colab-primary-surface-color, white);\n",
       "                }\n",
       "\n",
       "                .geemap-colab .jupyter-button {\n",
       "                    --jp-layout-color3: var(--colab-primary-surface-color, white);\n",
       "                }\n",
       "            </style>\n",
       "            "
      ],
      "text/plain": [
       "<IPython.core.display.HTML object>"
      ]
     },
     "metadata": {},
     "output_type": "display_data"
    },
    {
     "name": "stderr",
     "output_type": "stream",
     "text": [
      "Processing band: et_ensemble_mad:   0%|          | 0/3 [00:00<?, ?it/s]"
     ]
    },
    {
     "name": "stdout",
     "output_type": "stream",
     "text": [
      "[2025-06-25 16:11:31 INFO] Added OPENET_ENSEMBLE_009011_20000101_20000102_ET to map\n"
     ]
    },
    {
     "name": "stderr",
     "output_type": "stream",
     "text": [
      "Processing band: et_ensemble_mad_min:  33%|███▎      | 1/3 [00:00<00:01,  1.36it/s]"
     ]
    },
    {
     "name": "stdout",
     "output_type": "stream",
     "text": [
      "[2025-06-25 16:11:32 INFO] Added OPENET_ENSEMBLE_009011_20000101_20000102_ET_MIN to map\n"
     ]
    },
    {
     "name": "stderr",
     "output_type": "stream",
     "text": [
      "Processing band: et_ensemble_mad_max:  67%|██████▋   | 2/3 [00:01<00:00,  1.20it/s]"
     ]
    },
    {
     "name": "stdout",
     "output_type": "stream",
     "text": [
      "[2025-06-25 16:11:33 INFO] Added OPENET_ENSEMBLE_009011_20000101_20000102_ET_MAX to map\n"
     ]
    },
    {
     "name": "stderr",
     "output_type": "stream",
     "text": [
      "                                                                                   \r"
     ]
    },
    {
     "data": {
      "application/vnd.jupyter.widget-view+json": {
       "model_id": "24be9cae5335405580b83a3359e490a0",
       "version_major": 2,
       "version_minor": 0
      },
      "text/plain": [
       "Map(center=[0, 0], controls=(WidgetControl(options=['position', 'transparent_bg'], widget=SearchDataGUI(childr…"
      ]
     },
     "execution_count": 14,
     "metadata": {},
     "output_type": "execute_result"
    }
   ],
   "source": [
    "# Generate tiles for a single month (limit to 1 tile for testing)\n",
    "pipeline.generate_tiles_for_month(\"2000-01-01\", export=False, visualize=True, limit=1)"
   ]
  },
  {
   "cell_type": "markdown",
   "metadata": {},
   "source": [
    "## Generate tiles for a date range\n",
    "```python\n",
    "pipeline.generate_tiles_for_date_range(\"2000-01-01\", \"2001-01-01\", export=False, visualize=True)\n",
    "```\n",
    "\n",
    "## Generate tiles for a list of dates\n",
    "```python\n",
    "pre_2008_dates = pipeline.generate_date_list(\"1985-01-01\", \"2008-01-01\")\n",
    "post_2024_dates = pipeline.generate_date_list(\"2024-01-01\", \"2025-01-01\")\n",
    "\n",
    "all_dates = pre_2008_dates + post_2024_dates\n",
    "pipeline.generate_tiles_for_date_list(all_dates, export=True)\n",
    "```\n",
    "---"
   ]
  },
  {
   "cell_type": "markdown",
   "metadata": {},
   "source": [
    "# Downloading data\n",
    "\n",
    "## Option 1: Manually download from Google Drive to local folder, then transfer to AWS\n",
    "---\n",
    "```python\n",
    "# Download all files from the configured Google Drive folder to local folder\n",
    "pipeline.download_all_from_gdrive()\n",
    "\n",
    "# List all files in the Google Drive folder\n",
    "pipeline.list_gdrive_files()\n",
    "\n",
    "# Download a single file from the configured Google Drive folder to local folder\n",
    "files = pipeline.list_gdrive_files()\n",
    "file = files[0]\n",
    "pipeline.download_from_gdrive(file_id=file[\"id\"], file_name=file[\"name\"])\n",
    "\n",
    "# Transfer all files from the local folder to the configured AWS bucket\n",
    "pipeline.upload_local_folder_to_aws()\n",
    "\n",
    "# Transfer a single file from the local folder to the configured AWS bucket\n",
    "pipeline.upload_to_aws(path=\"path/to/local/file.tif\")\n",
    "```\n",
    "\n",
    "## Option 2: Download from Google Drive and immediately transfer to AWS\n",
    "---\n",
    "```python\n",
    "# Download all files from the configured Google Drive folder to local folder. Optionally delete from Google Drive and local folder while processing.\n",
    "pipeline.transfer_gdrive_to_aws(delete_from_gdrive=False, delete_from_local=True)\n",
    "\n",
    "# Download a single file from the configured Google Drive folder to local folder. Optionally delete from Google Drive and local folder while processing.\n",
    "pipeline.transfer_gdrive_file_to_aws(file_id=\"1234567890\", file_name=\"example.tif\", delete_from_local=True)\n",
    "```"
   ]
  },
  {
   "cell_type": "code",
   "execution_count": null,
   "metadata": {},
   "outputs": [
    {
     "data": {
      "text/html": [
       "\n",
       "            <style>\n",
       "                .geemap-dark {\n",
       "                    --jp-widgets-color: white;\n",
       "                    --jp-widgets-label-color: white;\n",
       "                    --jp-ui-font-color1: white;\n",
       "                    --jp-layout-color2: #454545;\n",
       "                    background-color: #383838;\n",
       "                }\n",
       "\n",
       "                .geemap-dark .jupyter-button {\n",
       "                    --jp-layout-color3: #383838;\n",
       "                }\n",
       "\n",
       "                .geemap-colab {\n",
       "                    background-color: var(--colab-primary-surface-color, white);\n",
       "                }\n",
       "\n",
       "                .geemap-colab .jupyter-button {\n",
       "                    --jp-layout-color3: var(--colab-primary-surface-color, white);\n",
       "                }\n",
       "            </style>\n",
       "            "
      ],
      "text/plain": [
       "<IPython.core.display.HTML object>"
      ]
     },
     "metadata": {},
     "output_type": "display_data"
    },
    {
     "name": "stderr",
     "output_type": "stream",
     "text": [
      "Processing date: 2024-01-01:   0%|          | 0/1 [00:00<?, ?it/s]\n",
      "\u001b[A\n",
      "\u001b[A\n",
      "\u001b[A"
     ]
    },
    {
     "name": "stdout",
     "output_type": "stream",
     "text": [
      "[2025-06-24 14:06:17 INFO] Started export for OPENET_ENSEMBLE_009011_20240101_20240102_ET\n"
     ]
    },
    {
     "name": "stderr",
     "output_type": "stream",
     "text": [
      "\n",
      "\u001b[A\n",
      "\u001b[A\n",
      "\u001b[A"
     ]
    },
    {
     "name": "stdout",
     "output_type": "stream",
     "text": [
      "[2025-06-24 14:06:18 INFO] Started export for OPENET_ENSEMBLE_009012_20240101_20240102_ET\n"
     ]
    },
    {
     "name": "stderr",
     "output_type": "stream",
     "text": [
      "\n",
      "\u001b[A\n",
      "\u001b[A\n",
      "\u001b[A"
     ]
    },
    {
     "name": "stdout",
     "output_type": "stream",
     "text": [
      "[2025-06-24 14:06:18 INFO] Started export for OPENET_ENSEMBLE_009013_20240101_20240102_ET\n"
     ]
    },
    {
     "name": "stderr",
     "output_type": "stream",
     "text": [
      "\n",
      "\u001b[A\n",
      "\u001b[A\n",
      "\u001b[A"
     ]
    },
    {
     "name": "stdout",
     "output_type": "stream",
     "text": [
      "[2025-06-24 14:06:19 INFO] Started export for OPENET_ENSEMBLE_009014_20240101_20240102_ET\n"
     ]
    },
    {
     "name": "stderr",
     "output_type": "stream",
     "text": [
      "\n",
      "\u001b[A\n",
      "\u001b[A\n",
      "\u001b[A"
     ]
    },
    {
     "name": "stdout",
     "output_type": "stream",
     "text": [
      "[2025-06-24 14:06:19 INFO] Started export for OPENET_ENSEMBLE_009015_20240101_20240102_ET\n"
     ]
    },
    {
     "name": "stderr",
     "output_type": "stream",
     "text": [
      "\n",
      "\u001b[A\n",
      "\u001b[A\n",
      "\u001b[A"
     ]
    },
    {
     "name": "stdout",
     "output_type": "stream",
     "text": [
      "[2025-06-24 14:06:20 INFO] Started export for OPENET_ENSEMBLE_010011_20240101_20240102_ET\n"
     ]
    },
    {
     "name": "stderr",
     "output_type": "stream",
     "text": [
      "\n",
      "\u001b[A\n",
      "\u001b[A\n",
      "\u001b[A"
     ]
    },
    {
     "name": "stdout",
     "output_type": "stream",
     "text": [
      "[2025-06-24 14:06:21 INFO] Started export for OPENET_ENSEMBLE_010012_20240101_20240102_ET\n"
     ]
    },
    {
     "name": "stderr",
     "output_type": "stream",
     "text": [
      "\n",
      "\u001b[A\n",
      "\u001b[A\n",
      "\u001b[A"
     ]
    },
    {
     "name": "stdout",
     "output_type": "stream",
     "text": [
      "[2025-06-24 14:06:22 INFO] Started export for OPENET_ENSEMBLE_010013_20240101_20240102_ET\n"
     ]
    },
    {
     "name": "stderr",
     "output_type": "stream",
     "text": [
      "\n",
      "\u001b[A\n",
      "\u001b[A\n",
      "\u001b[A"
     ]
    },
    {
     "name": "stdout",
     "output_type": "stream",
     "text": [
      "[2025-06-24 14:06:22 INFO] Started export for OPENET_ENSEMBLE_010014_20240101_20240102_ET\n"
     ]
    },
    {
     "name": "stderr",
     "output_type": "stream",
     "text": [
      "\n",
      "\u001b[A\n",
      "\u001b[A\n",
      "\u001b[A"
     ]
    },
    {
     "name": "stdout",
     "output_type": "stream",
     "text": [
      "[2025-06-24 14:06:23 INFO] Started export for OPENET_ENSEMBLE_010015_20240101_20240102_ET\n"
     ]
    },
    {
     "name": "stderr",
     "output_type": "stream",
     "text": [
      "\n",
      "\u001b[A\n",
      "\u001b[A\n",
      "\u001b[A"
     ]
    },
    {
     "name": "stdout",
     "output_type": "stream",
     "text": [
      "[2025-06-24 14:06:24 INFO] Started export for OPENET_ENSEMBLE_011011_20240101_20240102_ET\n"
     ]
    },
    {
     "name": "stderr",
     "output_type": "stream",
     "text": [
      "\n",
      "\u001b[A\n",
      "\u001b[A\n",
      "\u001b[A"
     ]
    },
    {
     "name": "stdout",
     "output_type": "stream",
     "text": [
      "[2025-06-24 14:06:24 INFO] Started export for OPENET_ENSEMBLE_011012_20240101_20240102_ET\n"
     ]
    },
    {
     "name": "stderr",
     "output_type": "stream",
     "text": [
      "\n",
      "\u001b[A\n",
      "\u001b[A\n",
      "\u001b[A"
     ]
    },
    {
     "name": "stdout",
     "output_type": "stream",
     "text": [
      "[2025-06-24 14:06:25 INFO] Started export for OPENET_ENSEMBLE_011013_20240101_20240102_ET\n"
     ]
    },
    {
     "name": "stderr",
     "output_type": "stream",
     "text": [
      "\n",
      "\u001b[A\n",
      "\u001b[A\n",
      "\u001b[A"
     ]
    },
    {
     "name": "stdout",
     "output_type": "stream",
     "text": [
      "[2025-06-24 14:06:26 INFO] Started export for OPENET_ENSEMBLE_011014_20240101_20240102_ET\n"
     ]
    },
    {
     "name": "stderr",
     "output_type": "stream",
     "text": [
      "\n",
      "\u001b[A\n",
      "\u001b[A\n",
      "\u001b[A"
     ]
    },
    {
     "name": "stdout",
     "output_type": "stream",
     "text": [
      "[2025-06-24 14:06:26 INFO] Started export for OPENET_ENSEMBLE_011015_20240101_20240102_ET\n"
     ]
    },
    {
     "name": "stderr",
     "output_type": "stream",
     "text": [
      "\n",
      "\u001b[A\n",
      "\u001b[A\n",
      "\u001b[A"
     ]
    },
    {
     "name": "stdout",
     "output_type": "stream",
     "text": [
      "[2025-06-24 14:06:27 INFO] Started export for OPENET_ENSEMBLE_012011_20240101_20240102_ET\n"
     ]
    },
    {
     "name": "stderr",
     "output_type": "stream",
     "text": [
      "\n",
      "\u001b[A\n",
      "\u001b[A\n",
      "\u001b[A"
     ]
    },
    {
     "name": "stdout",
     "output_type": "stream",
     "text": [
      "[2025-06-24 14:06:28 INFO] Started export for OPENET_ENSEMBLE_012012_20240101_20240102_ET\n"
     ]
    },
    {
     "name": "stderr",
     "output_type": "stream",
     "text": [
      "\n",
      "\u001b[A\n",
      "\u001b[A\n",
      "\u001b[A"
     ]
    },
    {
     "name": "stdout",
     "output_type": "stream",
     "text": [
      "[2025-06-24 14:06:28 INFO] Started export for OPENET_ENSEMBLE_012013_20240101_20240102_ET\n"
     ]
    },
    {
     "name": "stderr",
     "output_type": "stream",
     "text": [
      "\n",
      "\u001b[A\n",
      "\u001b[A\n",
      "\u001b[A"
     ]
    },
    {
     "name": "stdout",
     "output_type": "stream",
     "text": [
      "[2025-06-24 14:06:29 INFO] Started export for OPENET_ENSEMBLE_012014_20240101_20240102_ET\n"
     ]
    },
    {
     "name": "stderr",
     "output_type": "stream",
     "text": [
      "\n",
      "\u001b[A\n",
      "\u001b[A\n",
      "\u001b[A"
     ]
    },
    {
     "name": "stdout",
     "output_type": "stream",
     "text": [
      "[2025-06-24 14:06:29 INFO] Started export for OPENET_ENSEMBLE_012015_20240101_20240102_ET\n"
     ]
    },
    {
     "name": "stderr",
     "output_type": "stream",
     "text": [
      "\n",
      "\u001b[A\n",
      "\u001b[A\n",
      "\u001b[A\n",
      "\u001b[A\n",
      "\u001b[A"
     ]
    },
    {
     "name": "stdout",
     "output_type": "stream",
     "text": [
      "[2025-06-24 14:06:30 INFO] Started export for OPENET_ENSEMBLE_009011_20240101_20240102_ET_MIN\n"
     ]
    },
    {
     "name": "stderr",
     "output_type": "stream",
     "text": [
      "\n",
      "\u001b[A\n",
      "\u001b[A\n",
      "\u001b[A"
     ]
    },
    {
     "name": "stdout",
     "output_type": "stream",
     "text": [
      "[2025-06-24 14:06:31 INFO] Started export for OPENET_ENSEMBLE_009012_20240101_20240102_ET_MIN\n"
     ]
    },
    {
     "name": "stderr",
     "output_type": "stream",
     "text": [
      "\n",
      "\u001b[A\n",
      "\u001b[A\n",
      "\u001b[A"
     ]
    },
    {
     "name": "stdout",
     "output_type": "stream",
     "text": [
      "[2025-06-24 14:06:31 INFO] Started export for OPENET_ENSEMBLE_009013_20240101_20240102_ET_MIN\n"
     ]
    },
    {
     "name": "stderr",
     "output_type": "stream",
     "text": [
      "\n",
      "\u001b[A\n",
      "\u001b[A\n",
      "\u001b[A"
     ]
    },
    {
     "name": "stdout",
     "output_type": "stream",
     "text": [
      "[2025-06-24 14:06:32 INFO] Started export for OPENET_ENSEMBLE_009014_20240101_20240102_ET_MIN\n"
     ]
    },
    {
     "name": "stderr",
     "output_type": "stream",
     "text": [
      "\n",
      "\u001b[A\n",
      "\u001b[A\n",
      "\u001b[A"
     ]
    },
    {
     "name": "stdout",
     "output_type": "stream",
     "text": [
      "[2025-06-24 14:06:32 INFO] Started export for OPENET_ENSEMBLE_009015_20240101_20240102_ET_MIN\n"
     ]
    },
    {
     "name": "stderr",
     "output_type": "stream",
     "text": [
      "\n",
      "\u001b[A\n",
      "\u001b[A\n",
      "\u001b[A"
     ]
    },
    {
     "name": "stdout",
     "output_type": "stream",
     "text": [
      "[2025-06-24 14:06:33 INFO] Started export for OPENET_ENSEMBLE_010011_20240101_20240102_ET_MIN\n"
     ]
    },
    {
     "name": "stderr",
     "output_type": "stream",
     "text": [
      "\n",
      "\u001b[A\n",
      "\u001b[A\n",
      "\u001b[A"
     ]
    },
    {
     "name": "stdout",
     "output_type": "stream",
     "text": [
      "[2025-06-24 14:06:34 INFO] Started export for OPENET_ENSEMBLE_010012_20240101_20240102_ET_MIN\n"
     ]
    },
    {
     "name": "stderr",
     "output_type": "stream",
     "text": [
      "\n",
      "\u001b[A\n",
      "\u001b[A\n",
      "\u001b[A"
     ]
    },
    {
     "name": "stdout",
     "output_type": "stream",
     "text": [
      "[2025-06-24 14:06:34 INFO] Started export for OPENET_ENSEMBLE_010013_20240101_20240102_ET_MIN\n"
     ]
    },
    {
     "name": "stderr",
     "output_type": "stream",
     "text": [
      "\n",
      "\u001b[A\n",
      "\u001b[A\n",
      "\u001b[A"
     ]
    },
    {
     "name": "stdout",
     "output_type": "stream",
     "text": [
      "[2025-06-24 14:06:35 INFO] Started export for OPENET_ENSEMBLE_010014_20240101_20240102_ET_MIN\n"
     ]
    },
    {
     "name": "stderr",
     "output_type": "stream",
     "text": [
      "\n",
      "\u001b[A\n",
      "\u001b[A\n",
      "\u001b[A"
     ]
    },
    {
     "name": "stdout",
     "output_type": "stream",
     "text": [
      "[2025-06-24 14:06:35 INFO] Started export for OPENET_ENSEMBLE_010015_20240101_20240102_ET_MIN\n"
     ]
    },
    {
     "name": "stderr",
     "output_type": "stream",
     "text": [
      "\n",
      "\u001b[A\n",
      "\u001b[A\n",
      "\u001b[A"
     ]
    },
    {
     "name": "stdout",
     "output_type": "stream",
     "text": [
      "[2025-06-24 14:06:36 INFO] Started export for OPENET_ENSEMBLE_011011_20240101_20240102_ET_MIN\n"
     ]
    },
    {
     "name": "stderr",
     "output_type": "stream",
     "text": [
      "\n",
      "\u001b[A\n",
      "\u001b[A\n",
      "\u001b[A"
     ]
    },
    {
     "name": "stdout",
     "output_type": "stream",
     "text": [
      "[2025-06-24 14:06:36 INFO] Started export for OPENET_ENSEMBLE_011012_20240101_20240102_ET_MIN\n"
     ]
    },
    {
     "name": "stderr",
     "output_type": "stream",
     "text": [
      "\n",
      "\u001b[A\n",
      "\u001b[A\n",
      "\u001b[A"
     ]
    },
    {
     "name": "stdout",
     "output_type": "stream",
     "text": [
      "[2025-06-24 14:06:37 INFO] Started export for OPENET_ENSEMBLE_011013_20240101_20240102_ET_MIN\n"
     ]
    },
    {
     "name": "stderr",
     "output_type": "stream",
     "text": [
      "\n",
      "\u001b[A\n",
      "\u001b[A\n",
      "\u001b[A"
     ]
    },
    {
     "name": "stdout",
     "output_type": "stream",
     "text": [
      "[2025-06-24 14:06:37 INFO] Started export for OPENET_ENSEMBLE_011014_20240101_20240102_ET_MIN\n"
     ]
    },
    {
     "name": "stderr",
     "output_type": "stream",
     "text": [
      "\n",
      "\u001b[A\n",
      "\u001b[A\n",
      "\u001b[A"
     ]
    },
    {
     "name": "stdout",
     "output_type": "stream",
     "text": [
      "[2025-06-24 14:06:38 INFO] Started export for OPENET_ENSEMBLE_011015_20240101_20240102_ET_MIN\n"
     ]
    },
    {
     "name": "stderr",
     "output_type": "stream",
     "text": [
      "\n",
      "\u001b[A\n",
      "\u001b[A\n",
      "\u001b[A"
     ]
    },
    {
     "name": "stdout",
     "output_type": "stream",
     "text": [
      "[2025-06-24 14:06:38 INFO] Started export for OPENET_ENSEMBLE_012011_20240101_20240102_ET_MIN\n"
     ]
    },
    {
     "name": "stderr",
     "output_type": "stream",
     "text": [
      "\n",
      "\u001b[A\n",
      "\u001b[A\n",
      "\u001b[A"
     ]
    },
    {
     "name": "stdout",
     "output_type": "stream",
     "text": [
      "[2025-06-24 14:06:39 INFO] Started export for OPENET_ENSEMBLE_012012_20240101_20240102_ET_MIN\n"
     ]
    },
    {
     "name": "stderr",
     "output_type": "stream",
     "text": [
      "\n",
      "\u001b[A\n",
      "\u001b[A\n",
      "\u001b[A"
     ]
    },
    {
     "name": "stdout",
     "output_type": "stream",
     "text": [
      "[2025-06-24 14:06:39 INFO] Started export for OPENET_ENSEMBLE_012013_20240101_20240102_ET_MIN\n"
     ]
    },
    {
     "name": "stderr",
     "output_type": "stream",
     "text": [
      "\n",
      "\u001b[A\n",
      "\u001b[A\n",
      "\u001b[A"
     ]
    },
    {
     "name": "stdout",
     "output_type": "stream",
     "text": [
      "[2025-06-24 14:06:40 INFO] Started export for OPENET_ENSEMBLE_012014_20240101_20240102_ET_MIN\n"
     ]
    },
    {
     "name": "stderr",
     "output_type": "stream",
     "text": [
      "\n",
      "\u001b[A\n",
      "\u001b[A\n",
      "\u001b[A"
     ]
    },
    {
     "name": "stdout",
     "output_type": "stream",
     "text": [
      "[2025-06-24 14:06:40 INFO] Started export for OPENET_ENSEMBLE_012015_20240101_20240102_ET_MIN\n"
     ]
    },
    {
     "name": "stderr",
     "output_type": "stream",
     "text": [
      "\n",
      "\u001b[A\n",
      "\u001b[A\n",
      "\u001b[A\n",
      "\u001b[A\n",
      "\u001b[A"
     ]
    },
    {
     "name": "stdout",
     "output_type": "stream",
     "text": [
      "[2025-06-24 14:06:41 INFO] Started export for OPENET_ENSEMBLE_009011_20240101_20240102_ET_MAX\n"
     ]
    },
    {
     "name": "stderr",
     "output_type": "stream",
     "text": [
      "\n",
      "\u001b[A\n",
      "\u001b[A\n",
      "\u001b[A"
     ]
    },
    {
     "name": "stdout",
     "output_type": "stream",
     "text": [
      "[2025-06-24 14:06:42 INFO] Started export for OPENET_ENSEMBLE_009012_20240101_20240102_ET_MAX\n"
     ]
    },
    {
     "name": "stderr",
     "output_type": "stream",
     "text": [
      "\n",
      "\u001b[A\n",
      "\u001b[A\n",
      "\u001b[A"
     ]
    },
    {
     "name": "stdout",
     "output_type": "stream",
     "text": [
      "[2025-06-24 14:06:43 INFO] Started export for OPENET_ENSEMBLE_009013_20240101_20240102_ET_MAX\n"
     ]
    },
    {
     "name": "stderr",
     "output_type": "stream",
     "text": [
      "\n",
      "\u001b[A\n",
      "\u001b[A\n",
      "\u001b[A"
     ]
    },
    {
     "name": "stdout",
     "output_type": "stream",
     "text": [
      "[2025-06-24 14:06:43 INFO] Started export for OPENET_ENSEMBLE_009014_20240101_20240102_ET_MAX\n"
     ]
    },
    {
     "name": "stderr",
     "output_type": "stream",
     "text": [
      "\n",
      "\u001b[A\n",
      "\u001b[A\n",
      "\u001b[A"
     ]
    },
    {
     "name": "stdout",
     "output_type": "stream",
     "text": [
      "[2025-06-24 14:06:44 INFO] Started export for OPENET_ENSEMBLE_009015_20240101_20240102_ET_MAX\n"
     ]
    },
    {
     "name": "stderr",
     "output_type": "stream",
     "text": [
      "\n",
      "\u001b[A\n",
      "\u001b[A\n",
      "\u001b[A"
     ]
    },
    {
     "name": "stdout",
     "output_type": "stream",
     "text": [
      "[2025-06-24 14:06:44 INFO] Started export for OPENET_ENSEMBLE_010011_20240101_20240102_ET_MAX\n"
     ]
    },
    {
     "name": "stderr",
     "output_type": "stream",
     "text": [
      "\n",
      "\u001b[A\n",
      "\u001b[A\n",
      "\u001b[A"
     ]
    },
    {
     "name": "stdout",
     "output_type": "stream",
     "text": [
      "[2025-06-24 14:06:45 INFO] Started export for OPENET_ENSEMBLE_010012_20240101_20240102_ET_MAX\n"
     ]
    },
    {
     "name": "stderr",
     "output_type": "stream",
     "text": [
      "\n",
      "\u001b[A\n",
      "\u001b[A\n",
      "\u001b[A"
     ]
    },
    {
     "name": "stdout",
     "output_type": "stream",
     "text": [
      "[2025-06-24 14:06:45 INFO] Started export for OPENET_ENSEMBLE_010013_20240101_20240102_ET_MAX\n"
     ]
    },
    {
     "name": "stderr",
     "output_type": "stream",
     "text": [
      "\n",
      "\u001b[A\n",
      "\u001b[A\n",
      "\u001b[A"
     ]
    },
    {
     "name": "stdout",
     "output_type": "stream",
     "text": [
      "[2025-06-24 14:06:45 INFO] Started export for OPENET_ENSEMBLE_010014_20240101_20240102_ET_MAX\n"
     ]
    },
    {
     "name": "stderr",
     "output_type": "stream",
     "text": [
      "\n",
      "\u001b[A\n",
      "\u001b[A\n",
      "\u001b[A"
     ]
    },
    {
     "name": "stdout",
     "output_type": "stream",
     "text": [
      "[2025-06-24 14:06:46 INFO] Started export for OPENET_ENSEMBLE_010015_20240101_20240102_ET_MAX\n"
     ]
    },
    {
     "name": "stderr",
     "output_type": "stream",
     "text": [
      "\n",
      "\u001b[A\n",
      "\u001b[A\n",
      "\u001b[A"
     ]
    },
    {
     "name": "stdout",
     "output_type": "stream",
     "text": [
      "[2025-06-24 14:06:46 INFO] Started export for OPENET_ENSEMBLE_011011_20240101_20240102_ET_MAX\n"
     ]
    },
    {
     "name": "stderr",
     "output_type": "stream",
     "text": [
      "\n",
      "\u001b[A\n",
      "\u001b[A\n",
      "\u001b[A"
     ]
    },
    {
     "name": "stdout",
     "output_type": "stream",
     "text": [
      "[2025-06-24 14:06:47 INFO] Started export for OPENET_ENSEMBLE_011012_20240101_20240102_ET_MAX\n"
     ]
    },
    {
     "name": "stderr",
     "output_type": "stream",
     "text": [
      "\n",
      "\u001b[A\n",
      "\u001b[A\n",
      "\u001b[A"
     ]
    },
    {
     "name": "stdout",
     "output_type": "stream",
     "text": [
      "[2025-06-24 14:06:47 INFO] Started export for OPENET_ENSEMBLE_011013_20240101_20240102_ET_MAX\n"
     ]
    },
    {
     "name": "stderr",
     "output_type": "stream",
     "text": [
      "\n",
      "\u001b[A\n",
      "\u001b[A\n",
      "\u001b[A"
     ]
    },
    {
     "name": "stdout",
     "output_type": "stream",
     "text": [
      "[2025-06-24 14:06:48 INFO] Started export for OPENET_ENSEMBLE_011014_20240101_20240102_ET_MAX\n"
     ]
    },
    {
     "name": "stderr",
     "output_type": "stream",
     "text": [
      "\n",
      "\u001b[A\n",
      "\u001b[A\n",
      "\u001b[A"
     ]
    },
    {
     "name": "stdout",
     "output_type": "stream",
     "text": [
      "[2025-06-24 14:06:48 INFO] Started export for OPENET_ENSEMBLE_011015_20240101_20240102_ET_MAX\n"
     ]
    },
    {
     "name": "stderr",
     "output_type": "stream",
     "text": [
      "\n",
      "\u001b[A\n",
      "\u001b[A\n",
      "\u001b[A"
     ]
    },
    {
     "name": "stdout",
     "output_type": "stream",
     "text": [
      "[2025-06-24 14:06:49 INFO] Started export for OPENET_ENSEMBLE_012011_20240101_20240102_ET_MAX\n"
     ]
    },
    {
     "name": "stderr",
     "output_type": "stream",
     "text": [
      "\n",
      "\u001b[A\n",
      "\u001b[A\n",
      "\u001b[A"
     ]
    },
    {
     "name": "stdout",
     "output_type": "stream",
     "text": [
      "[2025-06-24 14:06:49 INFO] Started export for OPENET_ENSEMBLE_012012_20240101_20240102_ET_MAX\n"
     ]
    },
    {
     "name": "stderr",
     "output_type": "stream",
     "text": [
      "\n",
      "\u001b[A\n",
      "\u001b[A\n",
      "\u001b[A"
     ]
    },
    {
     "name": "stdout",
     "output_type": "stream",
     "text": [
      "[2025-06-24 14:06:50 INFO] Started export for OPENET_ENSEMBLE_012013_20240101_20240102_ET_MAX\n"
     ]
    },
    {
     "name": "stderr",
     "output_type": "stream",
     "text": [
      "\n",
      "\u001b[A\n",
      "\u001b[A\n",
      "\u001b[A"
     ]
    },
    {
     "name": "stdout",
     "output_type": "stream",
     "text": [
      "[2025-06-24 14:06:50 INFO] Started export for OPENET_ENSEMBLE_012014_20240101_20240102_ET_MAX\n"
     ]
    },
    {
     "name": "stderr",
     "output_type": "stream",
     "text": [
      "\n",
      "\u001b[A\n",
      "\u001b[A\n",
      "\u001b[A"
     ]
    },
    {
     "name": "stdout",
     "output_type": "stream",
     "text": [
      "[2025-06-24 14:06:51 INFO] Started export for OPENET_ENSEMBLE_012015_20240101_20240102_ET_MAX\n"
     ]
    },
    {
     "name": "stderr",
     "output_type": "stream",
     "text": [
      "\n",
      "\u001b[A\n",
      "                                                                          \r"
     ]
    }
   ],
   "source": [
    "pipeline.generate_tiles_for_date_range(\"2024-01-01\", \"2024-02-01\")"
   ]
  },
  {
   "cell_type": "code",
   "execution_count": null,
   "metadata": {},
   "outputs": [],
   "source": [
    "pipeline.transfer_gdrive_to_aws(delete_from_local=True)"
   ]
  },
  {
   "cell_type": "code",
   "execution_count": 16,
   "metadata": {},
   "outputs": [
    {
     "data": {
      "text/html": [
       "\n",
       "            <style>\n",
       "                .geemap-dark {\n",
       "                    --jp-widgets-color: white;\n",
       "                    --jp-widgets-label-color: white;\n",
       "                    --jp-ui-font-color1: white;\n",
       "                    --jp-layout-color2: #454545;\n",
       "                    background-color: #383838;\n",
       "                }\n",
       "\n",
       "                .geemap-dark .jupyter-button {\n",
       "                    --jp-layout-color3: #383838;\n",
       "                }\n",
       "\n",
       "                .geemap-colab {\n",
       "                    background-color: var(--colab-primary-surface-color, white);\n",
       "                }\n",
       "\n",
       "                .geemap-colab .jupyter-button {\n",
       "                    --jp-layout-color3: var(--colab-primary-surface-color, white);\n",
       "                }\n",
       "            </style>\n",
       "            "
      ],
      "text/plain": [
       "<IPython.core.display.HTML object>"
      ]
     },
     "metadata": {},
     "output_type": "display_data"
    },
    {
     "name": "stdout",
     "output_type": "stream",
     "text": [
      "[2025-06-25 16:11:46 INFO] loading credentials: /Users/rstonebr/Documents/Programming/Water-Rights-Visualizer/water_rights_visualizer/google_drive_personal_key.txt\n",
      "[2025-06-25 16:11:46 INFO] saving credentials: /Users/rstonebr/Documents/Programming/Water-Rights-Visualizer/water_rights_visualizer/google_drive_personal_key.txt\n",
      "[2025-06-25 16:11:46 INFO] Found credentials in shared credentials file: ~/.aws/credentials\n"
     ]
    }
   ],
   "source": [
    "# GRIDMET Data Pipeline\n",
    "gridmet_pipeline = GEEAWSDataPipeline(\n",
    "    bands=[\"eto\"],\n",
    "    product=\"IDAHO_EPSCOR/GRIDMET\",\n",
    "    product_prefix=\"IDAHO_EPSCOR_GRIDMET\",\n",
    "    tile_ids=[],\n",
    "    aws_bucket=\"ose-dev-inputs\",\n",
    "    aws_region=\"us-west-2\",\n",
    "    aws_profile=\"ose-nmw\",\n",
    "    gdrive_folder=\"OPENET_EXPORTS\",\n",
    "    temp_local_folder=\"temp_data\",\n",
    "    project=\"et-exploration\",\n",
    "    gdrive_client_secrets_filename=secret_path,\n",
    "    gdrive_key_filename=key_path,\n",
    "    monthly_sum=True,\n",
    ")"
   ]
  },
  {
   "cell_type": "code",
   "execution_count": null,
   "metadata": {},
   "outputs": [
    {
     "data": {
      "text/html": [
       "\n",
       "            <style>\n",
       "                .geemap-dark {\n",
       "                    --jp-widgets-color: white;\n",
       "                    --jp-widgets-label-color: white;\n",
       "                    --jp-ui-font-color1: white;\n",
       "                    --jp-layout-color2: #454545;\n",
       "                    background-color: #383838;\n",
       "                }\n",
       "\n",
       "                .geemap-dark .jupyter-button {\n",
       "                    --jp-layout-color3: #383838;\n",
       "                }\n",
       "\n",
       "                .geemap-colab {\n",
       "                    background-color: var(--colab-primary-surface-color, white);\n",
       "                }\n",
       "\n",
       "                .geemap-colab .jupyter-button {\n",
       "                    --jp-layout-color3: var(--colab-primary-surface-color, white);\n",
       "                }\n",
       "            </style>\n",
       "            "
      ],
      "text/plain": [
       "<IPython.core.display.HTML object>"
      ]
     },
     "metadata": {},
     "output_type": "display_data"
    },
    {
     "name": "stderr",
     "output_type": "stream",
     "text": [
      "Processing band: eto:   0%|          | 0/1 [00:00<?, ?it/s]"
     ]
    },
    {
     "name": "stdout",
     "output_type": "stream",
     "text": [
      "[2025-06-25 16:11:47 INFO] Summing up 31 images in the collection for the month: 2001-03-01\n"
     ]
    },
    {
     "name": "stderr",
     "output_type": "stream",
     "text": []
    },
    {
     "name": "stdout",
     "output_type": "stream",
     "text": [
      "[2025-06-25 16:11:49 INFO] Added IDAHO_EPSCOR_GRIDMET_009011_20010301_20010302_eto to map\n"
     ]
    },
    {
     "name": "stderr",
     "output_type": "stream",
     "text": []
    },
    {
     "name": "stdout",
     "output_type": "stream",
     "text": [
      "[2025-06-25 16:11:49 INFO] Added IDAHO_EPSCOR_GRIDMET_009012_20010301_20010302_eto to map\n"
     ]
    },
    {
     "name": "stderr",
     "output_type": "stream",
     "text": [
      "                                                                   \r"
     ]
    },
    {
     "data": {
      "application/vnd.jupyter.widget-view+json": {
       "model_id": "096122776f274ccdb97de5c455eba9b5",
       "version_major": 2,
       "version_minor": 0
      },
      "text/plain": [
       "Map(center=[0, 0], controls=(WidgetControl(options=['position', 'transparent_bg'], widget=SearchDataGUI(childr…"
      ]
     },
     "execution_count": 17,
     "metadata": {},
     "output_type": "execute_result"
    }
   ],
   "source": [
    "gridmet_pipeline.generate_tiles_for_month(\"2001-03-01\", export=False, visualize=True, limit=2)"
   ]
  },
  {
   "cell_type": "markdown",
   "metadata": {},
   "source": [
    "## Download PRISM data"
   ]
  },
  {
   "cell_type": "code",
   "execution_count": 16,
   "metadata": {},
   "outputs": [
    {
     "data": {
      "text/html": [
       "\n",
       "            <style>\n",
       "                .geemap-dark {\n",
       "                    --jp-widgets-color: white;\n",
       "                    --jp-widgets-label-color: white;\n",
       "                    --jp-ui-font-color1: white;\n",
       "                    --jp-layout-color2: #454545;\n",
       "                    background-color: #383838;\n",
       "                }\n",
       "\n",
       "                .geemap-dark .jupyter-button {\n",
       "                    --jp-layout-color3: #383838;\n",
       "                }\n",
       "\n",
       "                .geemap-colab {\n",
       "                    background-color: var(--colab-primary-surface-color, white);\n",
       "                }\n",
       "\n",
       "                .geemap-colab .jupyter-button {\n",
       "                    --jp-layout-color3: var(--colab-primary-surface-color, white);\n",
       "                }\n",
       "            </style>\n",
       "            "
      ],
      "text/plain": [
       "<IPython.core.display.HTML object>"
      ]
     },
     "metadata": {},
     "output_type": "display_data"
    },
    {
     "name": "stdout",
     "output_type": "stream",
     "text": [
      "[2025-06-25 15:05:16 INFO] Found credentials in shared credentials file: ~/.aws/credentials\n"
     ]
    }
   ],
   "source": [
    "prism_pipeline = PrismAWSDataPipeline(\n",
    "    aws_bucket=\"ose-dev-inputs\",\n",
    "    aws_region=\"us-west-2\",\n",
    "    aws_profile=\"ose-nmw\",\n",
    "    raw_dir=\"prism_data\",\n",
    "    monthly_dir=\"prism_data_monthly\",\n",
    "    output_dir=\"prism_tiles\",\n",
    "    allow_provisional=True,\n",
    ")"
   ]
  },
  {
   "cell_type": "code",
   "execution_count": 18,
   "metadata": {},
   "outputs": [
    {
     "data": {
      "text/html": [
       "\n",
       "            <style>\n",
       "                .geemap-dark {\n",
       "                    --jp-widgets-color: white;\n",
       "                    --jp-widgets-label-color: white;\n",
       "                    --jp-ui-font-color1: white;\n",
       "                    --jp-layout-color2: #454545;\n",
       "                    background-color: #383838;\n",
       "                }\n",
       "\n",
       "                .geemap-dark .jupyter-button {\n",
       "                    --jp-layout-color3: #383838;\n",
       "                }\n",
       "\n",
       "                .geemap-colab {\n",
       "                    background-color: var(--colab-primary-surface-color, white);\n",
       "                }\n",
       "\n",
       "                .geemap-colab .jupyter-button {\n",
       "                    --jp-layout-color3: var(--colab-primary-surface-color, white);\n",
       "                }\n",
       "            </style>\n",
       "            "
      ],
      "text/plain": [
       "<IPython.core.display.HTML object>"
      ]
     },
     "metadata": {},
     "output_type": "display_data"
    },
    {
     "name": "stdout",
     "output_type": "stream",
     "text": [
      "[2025-06-25 15:06:59 INFO] Downloading PRISM_ppt_stable_4kmM3_2024_all_bil.zip...\n"
     ]
    },
    {
     "name": "stderr",
     "output_type": "stream",
     "text": [
      "Downloading PRISM_ppt_stable_4kmM3_202401_bil.zip: 100%|██████████| 2.06M/2.06M [00:00<00:00, 8.73MB/s]"
     ]
    },
    {
     "name": "stdout",
     "output_type": "stream",
     "text": [
      "[2025-06-25 15:06:59 INFO] Extracted PRISM_ppt_stable_4kmM3_202401_bil.bil to prism_data/2024/202401\n",
      "[2025-06-25 15:06:59 INFO] Extracted PRISM_ppt_stable_4kmM3_202401_bil.hdr to prism_data/2024/202401\n"
     ]
    },
    {
     "name": "stderr",
     "output_type": "stream",
     "text": [
      "\n",
      "Downloading PRISM_ppt_stable_4kmM3_202402_bil.zip: 100%|██████████| 2.12M/2.12M [00:00<00:00, 7.24MB/s]\n"
     ]
    },
    {
     "name": "stdout",
     "output_type": "stream",
     "text": [
      "[2025-06-25 15:07:00 INFO] Extracted PRISM_ppt_stable_4kmM3_202402_bil.bil to prism_data/2024/202402\n",
      "[2025-06-25 15:07:00 INFO] Extracted PRISM_ppt_stable_4kmM3_202402_bil.hdr to prism_data/2024/202402\n"
     ]
    },
    {
     "name": "stderr",
     "output_type": "stream",
     "text": [
      "Downloading PRISM_ppt_stable_4kmM3_202403_bil.zip: 100%|██████████| 2.13M/2.13M [00:00<00:00, 3.64MB/s]"
     ]
    },
    {
     "name": "stdout",
     "output_type": "stream",
     "text": [
      "[2025-06-25 15:07:01 INFO] Extracted PRISM_ppt_stable_4kmM3_202403_bil.bil to prism_data/2024/202403\n",
      "[2025-06-25 15:07:01 INFO] Extracted PRISM_ppt_stable_4kmM3_202403_bil.hdr to prism_data/2024/202403\n"
     ]
    },
    {
     "name": "stderr",
     "output_type": "stream",
     "text": [
      "\n",
      "Downloading PRISM_ppt_stable_4kmM3_202404_bil.zip: 100%|██████████| 2.16M/2.16M [00:00<00:00, 3.41MB/s]"
     ]
    },
    {
     "name": "stdout",
     "output_type": "stream",
     "text": [
      "[2025-06-25 15:07:03 INFO] Extracted PRISM_ppt_stable_4kmM3_202404_bil.bil to prism_data/2024/202404\n",
      "[2025-06-25 15:07:03 INFO] Extracted PRISM_ppt_stable_4kmM3_202404_bil.hdr to prism_data/2024/202404\n"
     ]
    },
    {
     "name": "stderr",
     "output_type": "stream",
     "text": [
      "\n",
      "Downloading PRISM_ppt_stable_4kmM3_202405_bil.zip: 100%|██████████| 2.14M/2.14M [00:01<00:00, 2.22MB/s]"
     ]
    },
    {
     "name": "stdout",
     "output_type": "stream",
     "text": [
      "[2025-06-25 15:07:04 INFO] Extracted PRISM_ppt_stable_4kmM3_202405_bil.bil to prism_data/2024/202405\n",
      "[2025-06-25 15:07:04 INFO] Extracted PRISM_ppt_stable_4kmM3_202405_bil.hdr to prism_data/2024/202405\n"
     ]
    },
    {
     "name": "stderr",
     "output_type": "stream",
     "text": [
      "\n",
      "Downloading PRISM_ppt_stable_4kmM3_202406_bil.zip: 100%|██████████| 2.14M/2.14M [00:00<00:00, 3.57MB/s]"
     ]
    },
    {
     "name": "stdout",
     "output_type": "stream",
     "text": [
      "[2025-06-25 15:07:05 INFO] Extracted PRISM_ppt_stable_4kmM3_202406_bil.bil to prism_data/2024/202406\n",
      "[2025-06-25 15:07:05 INFO] Extracted PRISM_ppt_stable_4kmM3_202406_bil.hdr to prism_data/2024/202406\n"
     ]
    },
    {
     "name": "stderr",
     "output_type": "stream",
     "text": [
      "\n",
      "Downloading PRISM_ppt_stable_4kmM3_202407_bil.zip: 100%|██████████| 2.18M/2.18M [00:00<00:00, 9.16MB/s]"
     ]
    },
    {
     "name": "stdout",
     "output_type": "stream",
     "text": [
      "[2025-06-25 15:07:06 INFO] Extracted PRISM_ppt_stable_4kmM3_202407_bil.bil to prism_data/2024/202407\n",
      "[2025-06-25 15:07:06 INFO] Extracted PRISM_ppt_stable_4kmM3_202407_bil.hdr to prism_data/2024/202407\n"
     ]
    },
    {
     "name": "stderr",
     "output_type": "stream",
     "text": [
      "\n",
      "Downloading PRISM_ppt_stable_4kmM3_202408_bil.zip: 100%|██████████| 2.17M/2.17M [00:00<00:00, 9.20MB/s]"
     ]
    },
    {
     "name": "stdout",
     "output_type": "stream",
     "text": [
      "[2025-06-25 15:07:07 INFO] Extracted PRISM_ppt_stable_4kmM3_202408_bil.bil to prism_data/2024/202408\n",
      "[2025-06-25 15:07:07 INFO] Extracted PRISM_ppt_stable_4kmM3_202408_bil.hdr to prism_data/2024/202408\n"
     ]
    },
    {
     "name": "stderr",
     "output_type": "stream",
     "text": [
      "\n",
      "Downloading PRISM_ppt_stable_4kmM3_202409_bil.zip: 100%|██████████| 2.19M/2.19M [00:00<00:00, 9.39MB/s]"
     ]
    },
    {
     "name": "stdout",
     "output_type": "stream",
     "text": [
      "[2025-06-25 15:07:07 INFO] Extracted PRISM_ppt_stable_4kmM3_202409_bil.bil to prism_data/2024/202409\n",
      "[2025-06-25 15:07:07 INFO] Extracted PRISM_ppt_stable_4kmM3_202409_bil.hdr to prism_data/2024/202409\n"
     ]
    },
    {
     "name": "stderr",
     "output_type": "stream",
     "text": [
      "\n",
      "Downloading PRISM_ppt_stable_4kmM3_202410_bil.zip: 100%|██████████| 2.06M/2.06M [00:00<00:00, 9.90MB/s]"
     ]
    },
    {
     "name": "stdout",
     "output_type": "stream",
     "text": [
      "[2025-06-25 15:07:08 INFO] Extracted PRISM_ppt_stable_4kmM3_202410_bil.bil to prism_data/2024/202410\n",
      "[2025-06-25 15:07:08 INFO] Extracted PRISM_ppt_stable_4kmM3_202410_bil.hdr to prism_data/2024/202410\n"
     ]
    },
    {
     "name": "stderr",
     "output_type": "stream",
     "text": [
      "\n",
      "Downloading PRISM_ppt_stable_4kmM3_202411_bil.zip: 100%|██████████| 2.12M/2.12M [00:00<00:00, 9.09MB/s]"
     ]
    },
    {
     "name": "stdout",
     "output_type": "stream",
     "text": [
      "[2025-06-25 15:07:08 INFO] Extracted PRISM_ppt_stable_4kmM3_202411_bil.bil to prism_data/2024/202411\n",
      "[2025-06-25 15:07:08 INFO] Extracted PRISM_ppt_stable_4kmM3_202411_bil.hdr to prism_data/2024/202411\n"
     ]
    },
    {
     "name": "stderr",
     "output_type": "stream",
     "text": [
      "\n"
     ]
    },
    {
     "name": "stdout",
     "output_type": "stream",
     "text": [
      "\u001b[31m[2025-06-25 15:07:09 ERROR] Failed to download https://ftp.prism.oregonstate.edu/monthly/ppt/2024/PRISM_ppt_stable_4kmM3_202412_bil.zip - HTTP Status Code: 404\u001b[0m\n"
     ]
    },
    {
     "name": "stderr",
     "output_type": "stream",
     "text": [
      "Downloading PRISM_ppt_provisional_4kmM3_202412_bil.zip: 100%|██████████| 2.00M/2.00M [00:00<00:00, 8.23MB/s]"
     ]
    },
    {
     "name": "stdout",
     "output_type": "stream",
     "text": [
      "[2025-06-25 15:07:09 INFO] Extracted PRISM_ppt_provisional_4kmM3_202412_bil.bil to prism_data/2024/202412\n",
      "[2025-06-25 15:07:09 INFO] Extracted PRISM_ppt_provisional_4kmM3_202412_bil.hdr to prism_data/2024/202412\n"
     ]
    },
    {
     "name": "stderr",
     "output_type": "stream",
     "text": [
      "\n"
     ]
    },
    {
     "name": "stdout",
     "output_type": "stream",
     "text": [
      "[2025-06-25 15:07:09 INFO] Processing year 2024...\n",
      "[2025-06-25 15:07:09 INFO] Skipping prism_data/2024/202402/PRISM_ppt_stable_4kmM3_202402_bil.hdr - already exists\n",
      "[2025-06-25 15:07:09 INFO] Skipping prism_data/2024/202402/PRISM_ppt_stable_4kmM3_202402_bil.bil - already exists\n",
      "[2025-06-25 15:07:09 INFO] Skipping prism_data/2024/202405/PRISM_ppt_stable_4kmM3_202405_bil.bil - already exists\n",
      "[2025-06-25 15:07:09 INFO] Skipping prism_data/2024/202405/PRISM_ppt_stable_4kmM3_202405_bil.hdr - already exists\n",
      "[2025-06-25 15:07:09 INFO] Skipping prism_data/2024/202404/PRISM_ppt_stable_4kmM3_202404_bil.bil - already exists\n",
      "[2025-06-25 15:07:09 INFO] Skipping prism_data/2024/202404/PRISM_ppt_stable_4kmM3_202404_bil.hdr - already exists\n",
      "[2025-06-25 15:07:09 INFO] Skipping prism_data/2024/202403/PRISM_ppt_stable_4kmM3_202403_bil.hdr - already exists\n",
      "[2025-06-25 15:07:09 INFO] Skipping prism_data/2024/202403/PRISM_ppt_stable_4kmM3_202403_bil.bil - already exists\n",
      "[2025-06-25 15:07:09 INFO] Skipping prism_data/2024/202410/PRISM_ppt_stable_4kmM3_202410_bil.hdr - already exists\n",
      "[2025-06-25 15:07:09 INFO] Skipping prism_data/2024/202410/PRISM_ppt_stable_4kmM3_202410_bil.bil - already exists\n",
      "[2025-06-25 15:07:09 INFO] Skipping prism_data/2024/202411/PRISM_ppt_stable_4kmM3_202411_bil.hdr - already exists\n",
      "[2025-06-25 15:07:09 INFO] Skipping prism_data/2024/202411/PRISM_ppt_stable_4kmM3_202411_bil.bil - already exists\n",
      "[2025-06-25 15:07:09 INFO] Skipping prism_data/2024/202408/PRISM_ppt_stable_4kmM3_202408_bil.hdr - already exists\n",
      "[2025-06-25 15:07:09 INFO] Skipping prism_data/2024/202408/PRISM_ppt_stable_4kmM3_202408_bil.bil - already exists\n",
      "[2025-06-25 15:07:09 INFO] Skipping prism_data/2024/202406/PRISM_ppt_stable_4kmM3_202406_bil.bil - already exists\n",
      "[2025-06-25 15:07:09 INFO] Skipping prism_data/2024/202406/PRISM_ppt_stable_4kmM3_202406_bil.hdr - already exists\n",
      "[2025-06-25 15:07:09 INFO] Skipping prism_data/2024/202401/PRISM_ppt_stable_4kmM3_202401_bil.hdr - already exists\n",
      "[2025-06-25 15:07:09 INFO] Skipping prism_data/2024/202401/PRISM_ppt_stable_4kmM3_202401_bil.bil - already exists\n",
      "[2025-06-25 15:07:09 INFO] Skipping prism_data/2024/202407/PRISM_ppt_stable_4kmM3_202407_bil.bil - already exists\n",
      "[2025-06-25 15:07:09 INFO] Skipping prism_data/2024/202407/PRISM_ppt_stable_4kmM3_202407_bil.hdr - already exists\n",
      "[2025-06-25 15:07:09 INFO] Skipping prism_data/2024/202409/PRISM_ppt_stable_4kmM3_202409_bil.hdr - already exists\n",
      "[2025-06-25 15:07:09 INFO] Skipping prism_data/2024/202409/PRISM_ppt_stable_4kmM3_202409_bil.bil - already exists\n",
      "[2025-06-25 15:07:09 INFO] Copied prism_data/2024/202412/PRISM_ppt_provisional_4kmM3_202412_bil.bil to prism_data_monthly/PRISM_ppt_provisional_4kmM3_202412_bil.bil\n",
      "[2025-06-25 15:07:09 INFO] Copied prism_data/2024/202412/PRISM_ppt_provisional_4kmM3_202412_bil.hdr to prism_data_monthly/PRISM_ppt_provisional_4kmM3_202412_bil.hdr\n",
      "[2025-06-25 15:07:09 INFO] Processing PRISM_ppt_stable_4kmM3_202406_bil.bil...\n",
      "[2025-06-25 15:07:09 INFO] Saved tile OREGON_STATE_PRISM_009011_20240601_20240701_PPT.tif\n",
      "[2025-06-25 15:07:09 INFO] Saved tile OREGON_STATE_PRISM_009012_20240601_20240701_PPT.tif\n",
      "[2025-06-25 15:07:09 INFO] Saved tile OREGON_STATE_PRISM_009013_20240601_20240701_PPT.tif\n",
      "[2025-06-25 15:07:09 INFO] Saved tile OREGON_STATE_PRISM_009014_20240601_20240701_PPT.tif\n",
      "[2025-06-25 15:07:09 INFO] Saved tile OREGON_STATE_PRISM_009015_20240601_20240701_PPT.tif\n",
      "[2025-06-25 15:07:09 INFO] Saved tile OREGON_STATE_PRISM_010011_20240601_20240701_PPT.tif\n",
      "[2025-06-25 15:07:09 INFO] Saved tile OREGON_STATE_PRISM_010012_20240601_20240701_PPT.tif\n",
      "[2025-06-25 15:07:09 INFO] Saved tile OREGON_STATE_PRISM_010013_20240601_20240701_PPT.tif\n",
      "[2025-06-25 15:07:09 INFO] Saved tile OREGON_STATE_PRISM_010014_20240601_20240701_PPT.tif\n",
      "[2025-06-25 15:07:09 INFO] Saved tile OREGON_STATE_PRISM_010015_20240601_20240701_PPT.tif\n",
      "[2025-06-25 15:07:09 INFO] Saved tile OREGON_STATE_PRISM_011011_20240601_20240701_PPT.tif\n",
      "[2025-06-25 15:07:09 INFO] Saved tile OREGON_STATE_PRISM_011012_20240601_20240701_PPT.tif\n",
      "[2025-06-25 15:07:09 INFO] Saved tile OREGON_STATE_PRISM_011013_20240601_20240701_PPT.tif\n",
      "[2025-06-25 15:07:09 INFO] Saved tile OREGON_STATE_PRISM_011014_20240601_20240701_PPT.tif\n",
      "[2025-06-25 15:07:09 INFO] Saved tile OREGON_STATE_PRISM_011015_20240601_20240701_PPT.tif\n",
      "[2025-06-25 15:07:09 INFO] Saved tile OREGON_STATE_PRISM_012011_20240601_20240701_PPT.tif\n",
      "[2025-06-25 15:07:09 INFO] Saved tile OREGON_STATE_PRISM_012012_20240601_20240701_PPT.tif\n",
      "[2025-06-25 15:07:09 INFO] Saved tile OREGON_STATE_PRISM_012013_20240601_20240701_PPT.tif\n",
      "[2025-06-25 15:07:09 INFO] Saved tile OREGON_STATE_PRISM_012014_20240601_20240701_PPT.tif\n",
      "[2025-06-25 15:07:09 INFO] Saved tile OREGON_STATE_PRISM_012015_20240601_20240701_PPT.tif\n",
      "[2025-06-25 15:07:09 INFO] Processing PRISM_ppt_stable_4kmM3_202407_bil.bil...\n",
      "[2025-06-25 15:07:09 INFO] Saved tile OREGON_STATE_PRISM_009011_20240701_20240801_PPT.tif\n",
      "[2025-06-25 15:07:09 INFO] Saved tile OREGON_STATE_PRISM_009012_20240701_20240801_PPT.tif\n",
      "[2025-06-25 15:07:09 INFO] Saved tile OREGON_STATE_PRISM_009013_20240701_20240801_PPT.tif\n",
      "[2025-06-25 15:07:09 INFO] Saved tile OREGON_STATE_PRISM_009014_20240701_20240801_PPT.tif\n",
      "[2025-06-25 15:07:09 INFO] Saved tile OREGON_STATE_PRISM_009015_20240701_20240801_PPT.tif\n",
      "[2025-06-25 15:07:09 INFO] Saved tile OREGON_STATE_PRISM_010011_20240701_20240801_PPT.tif\n",
      "[2025-06-25 15:07:09 INFO] Saved tile OREGON_STATE_PRISM_010012_20240701_20240801_PPT.tif\n",
      "[2025-06-25 15:07:09 INFO] Saved tile OREGON_STATE_PRISM_010013_20240701_20240801_PPT.tif\n",
      "[2025-06-25 15:07:09 INFO] Saved tile OREGON_STATE_PRISM_010014_20240701_20240801_PPT.tif\n",
      "[2025-06-25 15:07:09 INFO] Saved tile OREGON_STATE_PRISM_010015_20240701_20240801_PPT.tif\n",
      "[2025-06-25 15:07:09 INFO] Saved tile OREGON_STATE_PRISM_011011_20240701_20240801_PPT.tif\n",
      "[2025-06-25 15:07:09 INFO] Saved tile OREGON_STATE_PRISM_011012_20240701_20240801_PPT.tif\n",
      "[2025-06-25 15:07:09 INFO] Saved tile OREGON_STATE_PRISM_011013_20240701_20240801_PPT.tif\n",
      "[2025-06-25 15:07:09 INFO] Saved tile OREGON_STATE_PRISM_011014_20240701_20240801_PPT.tif\n",
      "[2025-06-25 15:07:09 INFO] Saved tile OREGON_STATE_PRISM_011015_20240701_20240801_PPT.tif\n",
      "[2025-06-25 15:07:09 INFO] Saved tile OREGON_STATE_PRISM_012011_20240701_20240801_PPT.tif\n",
      "[2025-06-25 15:07:09 INFO] Saved tile OREGON_STATE_PRISM_012012_20240701_20240801_PPT.tif\n",
      "[2025-06-25 15:07:09 INFO] Saved tile OREGON_STATE_PRISM_012013_20240701_20240801_PPT.tif\n",
      "[2025-06-25 15:07:09 INFO] Saved tile OREGON_STATE_PRISM_012014_20240701_20240801_PPT.tif\n",
      "[2025-06-25 15:07:09 INFO] Saved tile OREGON_STATE_PRISM_012015_20240701_20240801_PPT.tif\n",
      "[2025-06-25 15:07:09 INFO] Processing PRISM_ppt_stable_4kmM3_202405_bil.bil...\n",
      "[2025-06-25 15:07:09 INFO] Saved tile OREGON_STATE_PRISM_009011_20240501_20240601_PPT.tif\n",
      "[2025-06-25 15:07:09 INFO] Saved tile OREGON_STATE_PRISM_009012_20240501_20240601_PPT.tif\n",
      "[2025-06-25 15:07:09 INFO] Saved tile OREGON_STATE_PRISM_009013_20240501_20240601_PPT.tif\n",
      "[2025-06-25 15:07:09 INFO] Saved tile OREGON_STATE_PRISM_009014_20240501_20240601_PPT.tif\n",
      "[2025-06-25 15:07:10 INFO] Saved tile OREGON_STATE_PRISM_009015_20240501_20240601_PPT.tif\n",
      "[2025-06-25 15:07:10 INFO] Saved tile OREGON_STATE_PRISM_010011_20240501_20240601_PPT.tif\n",
      "[2025-06-25 15:07:10 INFO] Saved tile OREGON_STATE_PRISM_010012_20240501_20240601_PPT.tif\n",
      "[2025-06-25 15:07:10 INFO] Saved tile OREGON_STATE_PRISM_010013_20240501_20240601_PPT.tif\n",
      "[2025-06-25 15:07:10 INFO] Saved tile OREGON_STATE_PRISM_010014_20240501_20240601_PPT.tif\n",
      "[2025-06-25 15:07:10 INFO] Saved tile OREGON_STATE_PRISM_010015_20240501_20240601_PPT.tif\n",
      "[2025-06-25 15:07:10 INFO] Saved tile OREGON_STATE_PRISM_011011_20240501_20240601_PPT.tif\n",
      "[2025-06-25 15:07:10 INFO] Saved tile OREGON_STATE_PRISM_011012_20240501_20240601_PPT.tif\n",
      "[2025-06-25 15:07:10 INFO] Saved tile OREGON_STATE_PRISM_011013_20240501_20240601_PPT.tif\n",
      "[2025-06-25 15:07:10 INFO] Saved tile OREGON_STATE_PRISM_011014_20240501_20240601_PPT.tif\n",
      "[2025-06-25 15:07:10 INFO] Saved tile OREGON_STATE_PRISM_011015_20240501_20240601_PPT.tif\n",
      "[2025-06-25 15:07:10 INFO] Saved tile OREGON_STATE_PRISM_012011_20240501_20240601_PPT.tif\n",
      "[2025-06-25 15:07:10 INFO] Saved tile OREGON_STATE_PRISM_012012_20240501_20240601_PPT.tif\n",
      "[2025-06-25 15:07:10 INFO] Saved tile OREGON_STATE_PRISM_012013_20240501_20240601_PPT.tif\n",
      "[2025-06-25 15:07:10 INFO] Saved tile OREGON_STATE_PRISM_012014_20240501_20240601_PPT.tif\n",
      "[2025-06-25 15:07:10 INFO] Saved tile OREGON_STATE_PRISM_012015_20240501_20240601_PPT.tif\n",
      "[2025-06-25 15:07:10 INFO] Processing PRISM_ppt_provisional_4kmM3_202412_bil.bil...\n",
      "[2025-06-25 15:07:10 INFO] Saved tile OREGON_STATE_PRISM_009011_20241201_20250101_PPT.tif\n",
      "[2025-06-25 15:07:10 INFO] Saved tile OREGON_STATE_PRISM_009012_20241201_20250101_PPT.tif\n",
      "[2025-06-25 15:07:10 INFO] Saved tile OREGON_STATE_PRISM_009013_20241201_20250101_PPT.tif\n",
      "[2025-06-25 15:07:10 INFO] Saved tile OREGON_STATE_PRISM_009014_20241201_20250101_PPT.tif\n",
      "[2025-06-25 15:07:10 INFO] Saved tile OREGON_STATE_PRISM_009015_20241201_20250101_PPT.tif\n",
      "[2025-06-25 15:07:10 INFO] Saved tile OREGON_STATE_PRISM_010011_20241201_20250101_PPT.tif\n",
      "[2025-06-25 15:07:10 INFO] Saved tile OREGON_STATE_PRISM_010012_20241201_20250101_PPT.tif\n",
      "[2025-06-25 15:07:10 INFO] Saved tile OREGON_STATE_PRISM_010013_20241201_20250101_PPT.tif\n",
      "[2025-06-25 15:07:10 INFO] Saved tile OREGON_STATE_PRISM_010014_20241201_20250101_PPT.tif\n",
      "[2025-06-25 15:07:10 INFO] Saved tile OREGON_STATE_PRISM_010015_20241201_20250101_PPT.tif\n",
      "[2025-06-25 15:07:10 INFO] Saved tile OREGON_STATE_PRISM_011011_20241201_20250101_PPT.tif\n",
      "[2025-06-25 15:07:10 INFO] Saved tile OREGON_STATE_PRISM_011012_20241201_20250101_PPT.tif\n",
      "[2025-06-25 15:07:10 INFO] Saved tile OREGON_STATE_PRISM_011013_20241201_20250101_PPT.tif\n",
      "[2025-06-25 15:07:10 INFO] Saved tile OREGON_STATE_PRISM_011014_20241201_20250101_PPT.tif\n",
      "[2025-06-25 15:07:10 INFO] Saved tile OREGON_STATE_PRISM_011015_20241201_20250101_PPT.tif\n",
      "[2025-06-25 15:07:10 INFO] Saved tile OREGON_STATE_PRISM_012011_20241201_20250101_PPT.tif\n",
      "[2025-06-25 15:07:10 INFO] Saved tile OREGON_STATE_PRISM_012012_20241201_20250101_PPT.tif\n",
      "[2025-06-25 15:07:10 INFO] Saved tile OREGON_STATE_PRISM_012013_20241201_20250101_PPT.tif\n",
      "[2025-06-25 15:07:10 INFO] Saved tile OREGON_STATE_PRISM_012014_20241201_20250101_PPT.tif\n",
      "[2025-06-25 15:07:10 INFO] Saved tile OREGON_STATE_PRISM_012015_20241201_20250101_PPT.tif\n",
      "[2025-06-25 15:07:10 INFO] Processing PRISM_ppt_stable_4kmM3_202404_bil.bil...\n",
      "[2025-06-25 15:07:10 INFO] Saved tile OREGON_STATE_PRISM_009011_20240401_20240501_PPT.tif\n",
      "[2025-06-25 15:07:10 INFO] Saved tile OREGON_STATE_PRISM_009012_20240401_20240501_PPT.tif\n",
      "[2025-06-25 15:07:10 INFO] Saved tile OREGON_STATE_PRISM_009013_20240401_20240501_PPT.tif\n",
      "[2025-06-25 15:07:10 INFO] Saved tile OREGON_STATE_PRISM_009014_20240401_20240501_PPT.tif\n",
      "[2025-06-25 15:07:10 INFO] Saved tile OREGON_STATE_PRISM_009015_20240401_20240501_PPT.tif\n",
      "[2025-06-25 15:07:10 INFO] Saved tile OREGON_STATE_PRISM_010011_20240401_20240501_PPT.tif\n",
      "[2025-06-25 15:07:10 INFO] Saved tile OREGON_STATE_PRISM_010012_20240401_20240501_PPT.tif\n",
      "[2025-06-25 15:07:10 INFO] Saved tile OREGON_STATE_PRISM_010013_20240401_20240501_PPT.tif\n",
      "[2025-06-25 15:07:10 INFO] Saved tile OREGON_STATE_PRISM_010014_20240401_20240501_PPT.tif\n",
      "[2025-06-25 15:07:10 INFO] Saved tile OREGON_STATE_PRISM_010015_20240401_20240501_PPT.tif\n",
      "[2025-06-25 15:07:10 INFO] Saved tile OREGON_STATE_PRISM_011011_20240401_20240501_PPT.tif\n",
      "[2025-06-25 15:07:10 INFO] Saved tile OREGON_STATE_PRISM_011012_20240401_20240501_PPT.tif\n",
      "[2025-06-25 15:07:10 INFO] Saved tile OREGON_STATE_PRISM_011013_20240401_20240501_PPT.tif\n",
      "[2025-06-25 15:07:10 INFO] Saved tile OREGON_STATE_PRISM_011014_20240401_20240501_PPT.tif\n",
      "[2025-06-25 15:07:10 INFO] Saved tile OREGON_STATE_PRISM_011015_20240401_20240501_PPT.tif\n",
      "[2025-06-25 15:07:10 INFO] Saved tile OREGON_STATE_PRISM_012011_20240401_20240501_PPT.tif\n",
      "[2025-06-25 15:07:10 INFO] Saved tile OREGON_STATE_PRISM_012012_20240401_20240501_PPT.tif\n",
      "[2025-06-25 15:07:10 INFO] Saved tile OREGON_STATE_PRISM_012013_20240401_20240501_PPT.tif\n",
      "[2025-06-25 15:07:10 INFO] Saved tile OREGON_STATE_PRISM_012014_20240401_20240501_PPT.tif\n",
      "[2025-06-25 15:07:10 INFO] Saved tile OREGON_STATE_PRISM_012015_20240401_20240501_PPT.tif\n",
      "[2025-06-25 15:07:10 INFO] Processing PRISM_ppt_stable_4kmM3_202408_bil.bil...\n",
      "[2025-06-25 15:07:10 INFO] Saved tile OREGON_STATE_PRISM_009011_20240801_20240901_PPT.tif\n",
      "[2025-06-25 15:07:10 INFO] Saved tile OREGON_STATE_PRISM_009012_20240801_20240901_PPT.tif\n",
      "[2025-06-25 15:07:10 INFO] Saved tile OREGON_STATE_PRISM_009013_20240801_20240901_PPT.tif\n",
      "[2025-06-25 15:07:10 INFO] Saved tile OREGON_STATE_PRISM_009014_20240801_20240901_PPT.tif\n",
      "[2025-06-25 15:07:10 INFO] Saved tile OREGON_STATE_PRISM_009015_20240801_20240901_PPT.tif\n",
      "[2025-06-25 15:07:10 INFO] Saved tile OREGON_STATE_PRISM_010011_20240801_20240901_PPT.tif\n",
      "[2025-06-25 15:07:10 INFO] Saved tile OREGON_STATE_PRISM_010012_20240801_20240901_PPT.tif\n",
      "[2025-06-25 15:07:10 INFO] Saved tile OREGON_STATE_PRISM_010013_20240801_20240901_PPT.tif\n",
      "[2025-06-25 15:07:10 INFO] Saved tile OREGON_STATE_PRISM_010014_20240801_20240901_PPT.tif\n",
      "[2025-06-25 15:07:10 INFO] Saved tile OREGON_STATE_PRISM_010015_20240801_20240901_PPT.tif\n",
      "[2025-06-25 15:07:10 INFO] Saved tile OREGON_STATE_PRISM_011011_20240801_20240901_PPT.tif\n",
      "[2025-06-25 15:07:10 INFO] Saved tile OREGON_STATE_PRISM_011012_20240801_20240901_PPT.tif\n",
      "[2025-06-25 15:07:10 INFO] Saved tile OREGON_STATE_PRISM_011013_20240801_20240901_PPT.tif\n",
      "[2025-06-25 15:07:10 INFO] Saved tile OREGON_STATE_PRISM_011014_20240801_20240901_PPT.tif\n",
      "[2025-06-25 15:07:10 INFO] Saved tile OREGON_STATE_PRISM_011015_20240801_20240901_PPT.tif\n",
      "[2025-06-25 15:07:10 INFO] Saved tile OREGON_STATE_PRISM_012011_20240801_20240901_PPT.tif\n",
      "[2025-06-25 15:07:10 INFO] Saved tile OREGON_STATE_PRISM_012012_20240801_20240901_PPT.tif\n",
      "[2025-06-25 15:07:10 INFO] Saved tile OREGON_STATE_PRISM_012013_20240801_20240901_PPT.tif\n",
      "[2025-06-25 15:07:10 INFO] Saved tile OREGON_STATE_PRISM_012014_20240801_20240901_PPT.tif\n",
      "[2025-06-25 15:07:10 INFO] Saved tile OREGON_STATE_PRISM_012015_20240801_20240901_PPT.tif\n",
      "[2025-06-25 15:07:10 INFO] Processing PRISM_ppt_stable_4kmM3_202401_bil.bil...\n",
      "[2025-06-25 15:07:10 INFO] Saved tile OREGON_STATE_PRISM_009011_20240101_20240201_PPT.tif\n",
      "[2025-06-25 15:07:10 INFO] Saved tile OREGON_STATE_PRISM_009012_20240101_20240201_PPT.tif\n",
      "[2025-06-25 15:07:10 INFO] Saved tile OREGON_STATE_PRISM_009013_20240101_20240201_PPT.tif\n",
      "[2025-06-25 15:07:10 INFO] Saved tile OREGON_STATE_PRISM_009014_20240101_20240201_PPT.tif\n",
      "[2025-06-25 15:07:10 INFO] Saved tile OREGON_STATE_PRISM_009015_20240101_20240201_PPT.tif\n",
      "[2025-06-25 15:07:10 INFO] Saved tile OREGON_STATE_PRISM_010011_20240101_20240201_PPT.tif\n",
      "[2025-06-25 15:07:10 INFO] Saved tile OREGON_STATE_PRISM_010012_20240101_20240201_PPT.tif\n",
      "[2025-06-25 15:07:10 INFO] Saved tile OREGON_STATE_PRISM_010013_20240101_20240201_PPT.tif\n",
      "[2025-06-25 15:07:10 INFO] Saved tile OREGON_STATE_PRISM_010014_20240101_20240201_PPT.tif\n",
      "[2025-06-25 15:07:10 INFO] Saved tile OREGON_STATE_PRISM_010015_20240101_20240201_PPT.tif\n",
      "[2025-06-25 15:07:10 INFO] Saved tile OREGON_STATE_PRISM_011011_20240101_20240201_PPT.tif\n",
      "[2025-06-25 15:07:10 INFO] Saved tile OREGON_STATE_PRISM_011012_20240101_20240201_PPT.tif\n",
      "[2025-06-25 15:07:10 INFO] Saved tile OREGON_STATE_PRISM_011013_20240101_20240201_PPT.tif\n",
      "[2025-06-25 15:07:10 INFO] Saved tile OREGON_STATE_PRISM_011014_20240101_20240201_PPT.tif\n",
      "[2025-06-25 15:07:10 INFO] Saved tile OREGON_STATE_PRISM_011015_20240101_20240201_PPT.tif\n",
      "[2025-06-25 15:07:10 INFO] Saved tile OREGON_STATE_PRISM_012011_20240101_20240201_PPT.tif\n",
      "[2025-06-25 15:07:10 INFO] Saved tile OREGON_STATE_PRISM_012012_20240101_20240201_PPT.tif\n",
      "[2025-06-25 15:07:10 INFO] Saved tile OREGON_STATE_PRISM_012013_20240101_20240201_PPT.tif\n",
      "[2025-06-25 15:07:10 INFO] Saved tile OREGON_STATE_PRISM_012014_20240101_20240201_PPT.tif\n",
      "[2025-06-25 15:07:10 INFO] Saved tile OREGON_STATE_PRISM_012015_20240101_20240201_PPT.tif\n",
      "[2025-06-25 15:07:10 INFO] Processing PRISM_ppt_stable_4kmM3_202411_bil.bil...\n",
      "[2025-06-25 15:07:10 INFO] Saved tile OREGON_STATE_PRISM_009011_20241101_20241201_PPT.tif\n",
      "[2025-06-25 15:07:10 INFO] Saved tile OREGON_STATE_PRISM_009012_20241101_20241201_PPT.tif\n",
      "[2025-06-25 15:07:10 INFO] Saved tile OREGON_STATE_PRISM_009013_20241101_20241201_PPT.tif\n",
      "[2025-06-25 15:07:10 INFO] Saved tile OREGON_STATE_PRISM_009014_20241101_20241201_PPT.tif\n",
      "[2025-06-25 15:07:10 INFO] Saved tile OREGON_STATE_PRISM_009015_20241101_20241201_PPT.tif\n",
      "[2025-06-25 15:07:10 INFO] Saved tile OREGON_STATE_PRISM_010011_20241101_20241201_PPT.tif\n",
      "[2025-06-25 15:07:10 INFO] Saved tile OREGON_STATE_PRISM_010012_20241101_20241201_PPT.tif\n",
      "[2025-06-25 15:07:10 INFO] Saved tile OREGON_STATE_PRISM_010013_20241101_20241201_PPT.tif\n",
      "[2025-06-25 15:07:10 INFO] Saved tile OREGON_STATE_PRISM_010014_20241101_20241201_PPT.tif\n",
      "[2025-06-25 15:07:10 INFO] Saved tile OREGON_STATE_PRISM_010015_20241101_20241201_PPT.tif\n",
      "[2025-06-25 15:07:10 INFO] Saved tile OREGON_STATE_PRISM_011011_20241101_20241201_PPT.tif\n",
      "[2025-06-25 15:07:10 INFO] Saved tile OREGON_STATE_PRISM_011012_20241101_20241201_PPT.tif\n",
      "[2025-06-25 15:07:10 INFO] Saved tile OREGON_STATE_PRISM_011013_20241101_20241201_PPT.tif\n",
      "[2025-06-25 15:07:10 INFO] Saved tile OREGON_STATE_PRISM_011014_20241101_20241201_PPT.tif\n",
      "[2025-06-25 15:07:10 INFO] Saved tile OREGON_STATE_PRISM_011015_20241101_20241201_PPT.tif\n",
      "[2025-06-25 15:07:10 INFO] Saved tile OREGON_STATE_PRISM_012011_20241101_20241201_PPT.tif\n",
      "[2025-06-25 15:07:10 INFO] Saved tile OREGON_STATE_PRISM_012012_20241101_20241201_PPT.tif\n",
      "[2025-06-25 15:07:10 INFO] Saved tile OREGON_STATE_PRISM_012013_20241101_20241201_PPT.tif\n",
      "[2025-06-25 15:07:10 INFO] Saved tile OREGON_STATE_PRISM_012014_20241101_20241201_PPT.tif\n",
      "[2025-06-25 15:07:10 INFO] Saved tile OREGON_STATE_PRISM_012015_20241101_20241201_PPT.tif\n",
      "[2025-06-25 15:07:10 INFO] Processing PRISM_ppt_stable_4kmM3_202410_bil.bil...\n",
      "[2025-06-25 15:07:10 INFO] Saved tile OREGON_STATE_PRISM_009011_20241001_20241101_PPT.tif\n",
      "[2025-06-25 15:07:10 INFO] Saved tile OREGON_STATE_PRISM_009012_20241001_20241101_PPT.tif\n",
      "[2025-06-25 15:07:10 INFO] Saved tile OREGON_STATE_PRISM_009013_20241001_20241101_PPT.tif\n",
      "[2025-06-25 15:07:10 INFO] Saved tile OREGON_STATE_PRISM_009014_20241001_20241101_PPT.tif\n",
      "[2025-06-25 15:07:10 INFO] Saved tile OREGON_STATE_PRISM_009015_20241001_20241101_PPT.tif\n",
      "[2025-06-25 15:07:10 INFO] Saved tile OREGON_STATE_PRISM_010011_20241001_20241101_PPT.tif\n",
      "[2025-06-25 15:07:10 INFO] Saved tile OREGON_STATE_PRISM_010012_20241001_20241101_PPT.tif\n",
      "[2025-06-25 15:07:10 INFO] Saved tile OREGON_STATE_PRISM_010013_20241001_20241101_PPT.tif\n",
      "[2025-06-25 15:07:10 INFO] Saved tile OREGON_STATE_PRISM_010014_20241001_20241101_PPT.tif\n",
      "[2025-06-25 15:07:10 INFO] Saved tile OREGON_STATE_PRISM_010015_20241001_20241101_PPT.tif\n",
      "[2025-06-25 15:07:10 INFO] Saved tile OREGON_STATE_PRISM_011011_20241001_20241101_PPT.tif\n",
      "[2025-06-25 15:07:10 INFO] Saved tile OREGON_STATE_PRISM_011012_20241001_20241101_PPT.tif\n",
      "[2025-06-25 15:07:10 INFO] Saved tile OREGON_STATE_PRISM_011013_20241001_20241101_PPT.tif\n",
      "[2025-06-25 15:07:10 INFO] Saved tile OREGON_STATE_PRISM_011014_20241001_20241101_PPT.tif\n",
      "[2025-06-25 15:07:10 INFO] Saved tile OREGON_STATE_PRISM_011015_20241001_20241101_PPT.tif\n",
      "[2025-06-25 15:07:10 INFO] Saved tile OREGON_STATE_PRISM_012011_20241001_20241101_PPT.tif\n",
      "[2025-06-25 15:07:10 INFO] Saved tile OREGON_STATE_PRISM_012012_20241001_20241101_PPT.tif\n",
      "[2025-06-25 15:07:10 INFO] Saved tile OREGON_STATE_PRISM_012013_20241001_20241101_PPT.tif\n",
      "[2025-06-25 15:07:10 INFO] Saved tile OREGON_STATE_PRISM_012014_20241001_20241101_PPT.tif\n",
      "[2025-06-25 15:07:10 INFO] Saved tile OREGON_STATE_PRISM_012015_20241001_20241101_PPT.tif\n",
      "[2025-06-25 15:07:10 INFO] Processing PRISM_ppt_stable_4kmM3_202409_bil.bil...\n",
      "[2025-06-25 15:07:10 INFO] Saved tile OREGON_STATE_PRISM_009011_20240901_20241001_PPT.tif\n",
      "[2025-06-25 15:07:10 INFO] Saved tile OREGON_STATE_PRISM_009012_20240901_20241001_PPT.tif\n",
      "[2025-06-25 15:07:10 INFO] Saved tile OREGON_STATE_PRISM_009013_20240901_20241001_PPT.tif\n",
      "[2025-06-25 15:07:10 INFO] Saved tile OREGON_STATE_PRISM_009014_20240901_20241001_PPT.tif\n",
      "[2025-06-25 15:07:10 INFO] Saved tile OREGON_STATE_PRISM_009015_20240901_20241001_PPT.tif\n",
      "[2025-06-25 15:07:10 INFO] Saved tile OREGON_STATE_PRISM_010011_20240901_20241001_PPT.tif\n",
      "[2025-06-25 15:07:10 INFO] Saved tile OREGON_STATE_PRISM_010012_20240901_20241001_PPT.tif\n",
      "[2025-06-25 15:07:10 INFO] Saved tile OREGON_STATE_PRISM_010013_20240901_20241001_PPT.tif\n",
      "[2025-06-25 15:07:10 INFO] Saved tile OREGON_STATE_PRISM_010014_20240901_20241001_PPT.tif\n",
      "[2025-06-25 15:07:10 INFO] Saved tile OREGON_STATE_PRISM_010015_20240901_20241001_PPT.tif\n",
      "[2025-06-25 15:07:10 INFO] Saved tile OREGON_STATE_PRISM_011011_20240901_20241001_PPT.tif\n",
      "[2025-06-25 15:07:10 INFO] Saved tile OREGON_STATE_PRISM_011012_20240901_20241001_PPT.tif\n",
      "[2025-06-25 15:07:10 INFO] Saved tile OREGON_STATE_PRISM_011013_20240901_20241001_PPT.tif\n",
      "[2025-06-25 15:07:10 INFO] Saved tile OREGON_STATE_PRISM_011014_20240901_20241001_PPT.tif\n",
      "[2025-06-25 15:07:10 INFO] Saved tile OREGON_STATE_PRISM_011015_20240901_20241001_PPT.tif\n",
      "[2025-06-25 15:07:10 INFO] Saved tile OREGON_STATE_PRISM_012011_20240901_20241001_PPT.tif\n",
      "[2025-06-25 15:07:10 INFO] Saved tile OREGON_STATE_PRISM_012012_20240901_20241001_PPT.tif\n",
      "[2025-06-25 15:07:10 INFO] Saved tile OREGON_STATE_PRISM_012013_20240901_20241001_PPT.tif\n",
      "[2025-06-25 15:07:10 INFO] Saved tile OREGON_STATE_PRISM_012014_20240901_20241001_PPT.tif\n",
      "[2025-06-25 15:07:10 INFO] Saved tile OREGON_STATE_PRISM_012015_20240901_20241001_PPT.tif\n",
      "[2025-06-25 15:07:10 INFO] Processing PRISM_ppt_stable_4kmM3_202402_bil.bil...\n",
      "[2025-06-25 15:07:10 INFO] Saved tile OREGON_STATE_PRISM_009011_20240201_20240301_PPT.tif\n",
      "[2025-06-25 15:07:10 INFO] Saved tile OREGON_STATE_PRISM_009012_20240201_20240301_PPT.tif\n",
      "[2025-06-25 15:07:10 INFO] Saved tile OREGON_STATE_PRISM_009013_20240201_20240301_PPT.tif\n",
      "[2025-06-25 15:07:10 INFO] Saved tile OREGON_STATE_PRISM_009014_20240201_20240301_PPT.tif\n",
      "[2025-06-25 15:07:10 INFO] Saved tile OREGON_STATE_PRISM_009015_20240201_20240301_PPT.tif\n",
      "[2025-06-25 15:07:10 INFO] Saved tile OREGON_STATE_PRISM_010011_20240201_20240301_PPT.tif\n",
      "[2025-06-25 15:07:10 INFO] Saved tile OREGON_STATE_PRISM_010012_20240201_20240301_PPT.tif\n",
      "[2025-06-25 15:07:10 INFO] Saved tile OREGON_STATE_PRISM_010013_20240201_20240301_PPT.tif\n",
      "[2025-06-25 15:07:10 INFO] Saved tile OREGON_STATE_PRISM_010014_20240201_20240301_PPT.tif\n",
      "[2025-06-25 15:07:10 INFO] Saved tile OREGON_STATE_PRISM_010015_20240201_20240301_PPT.tif\n",
      "[2025-06-25 15:07:10 INFO] Saved tile OREGON_STATE_PRISM_011011_20240201_20240301_PPT.tif\n",
      "[2025-06-25 15:07:10 INFO] Saved tile OREGON_STATE_PRISM_011012_20240201_20240301_PPT.tif\n",
      "[2025-06-25 15:07:10 INFO] Saved tile OREGON_STATE_PRISM_011013_20240201_20240301_PPT.tif\n",
      "[2025-06-25 15:07:10 INFO] Saved tile OREGON_STATE_PRISM_011014_20240201_20240301_PPT.tif\n",
      "[2025-06-25 15:07:10 INFO] Saved tile OREGON_STATE_PRISM_011015_20240201_20240301_PPT.tif\n",
      "[2025-06-25 15:07:10 INFO] Saved tile OREGON_STATE_PRISM_012011_20240201_20240301_PPT.tif\n",
      "[2025-06-25 15:07:10 INFO] Saved tile OREGON_STATE_PRISM_012012_20240201_20240301_PPT.tif\n",
      "[2025-06-25 15:07:10 INFO] Saved tile OREGON_STATE_PRISM_012013_20240201_20240301_PPT.tif\n",
      "[2025-06-25 15:07:10 INFO] Saved tile OREGON_STATE_PRISM_012014_20240201_20240301_PPT.tif\n",
      "[2025-06-25 15:07:10 INFO] Saved tile OREGON_STATE_PRISM_012015_20240201_20240301_PPT.tif\n",
      "[2025-06-25 15:07:10 INFO] Processing PRISM_ppt_stable_4kmM3_202403_bil.bil...\n",
      "[2025-06-25 15:07:10 INFO] Saved tile OREGON_STATE_PRISM_009011_20240301_20240401_PPT.tif\n",
      "[2025-06-25 15:07:10 INFO] Saved tile OREGON_STATE_PRISM_009012_20240301_20240401_PPT.tif\n",
      "[2025-06-25 15:07:10 INFO] Saved tile OREGON_STATE_PRISM_009013_20240301_20240401_PPT.tif\n",
      "[2025-06-25 15:07:10 INFO] Saved tile OREGON_STATE_PRISM_009014_20240301_20240401_PPT.tif\n",
      "[2025-06-25 15:07:10 INFO] Saved tile OREGON_STATE_PRISM_009015_20240301_20240401_PPT.tif\n",
      "[2025-06-25 15:07:10 INFO] Saved tile OREGON_STATE_PRISM_010011_20240301_20240401_PPT.tif\n",
      "[2025-06-25 15:07:10 INFO] Saved tile OREGON_STATE_PRISM_010012_20240301_20240401_PPT.tif\n",
      "[2025-06-25 15:07:10 INFO] Saved tile OREGON_STATE_PRISM_010013_20240301_20240401_PPT.tif\n",
      "[2025-06-25 15:07:10 INFO] Saved tile OREGON_STATE_PRISM_010014_20240301_20240401_PPT.tif\n",
      "[2025-06-25 15:07:10 INFO] Saved tile OREGON_STATE_PRISM_010015_20240301_20240401_PPT.tif\n",
      "[2025-06-25 15:07:10 INFO] Saved tile OREGON_STATE_PRISM_011011_20240301_20240401_PPT.tif\n",
      "[2025-06-25 15:07:10 INFO] Saved tile OREGON_STATE_PRISM_011012_20240301_20240401_PPT.tif\n",
      "[2025-06-25 15:07:10 INFO] Saved tile OREGON_STATE_PRISM_011013_20240301_20240401_PPT.tif\n",
      "[2025-06-25 15:07:10 INFO] Saved tile OREGON_STATE_PRISM_011014_20240301_20240401_PPT.tif\n",
      "[2025-06-25 15:07:10 INFO] Saved tile OREGON_STATE_PRISM_011015_20240301_20240401_PPT.tif\n",
      "[2025-06-25 15:07:10 INFO] Saved tile OREGON_STATE_PRISM_012011_20240301_20240401_PPT.tif\n",
      "[2025-06-25 15:07:10 INFO] Saved tile OREGON_STATE_PRISM_012012_20240301_20240401_PPT.tif\n",
      "[2025-06-25 15:07:10 INFO] Saved tile OREGON_STATE_PRISM_012013_20240301_20240401_PPT.tif\n",
      "[2025-06-25 15:07:10 INFO] Saved tile OREGON_STATE_PRISM_012014_20240301_20240401_PPT.tif\n",
      "[2025-06-25 15:07:10 INFO] Saved tile OREGON_STATE_PRISM_012015_20240301_20240401_PPT.tif\n"
     ]
    }
   ],
   "source": [
    "prism_pipeline.process_year(2024, upload=False)"
   ]
  },
  {
   "cell_type": "code",
   "execution_count": 19,
   "metadata": {},
   "outputs": [
    {
     "data": {
      "text/html": [
       "\n",
       "            <style>\n",
       "                .geemap-dark {\n",
       "                    --jp-widgets-color: white;\n",
       "                    --jp-widgets-label-color: white;\n",
       "                    --jp-ui-font-color1: white;\n",
       "                    --jp-layout-color2: #454545;\n",
       "                    background-color: #383838;\n",
       "                }\n",
       "\n",
       "                .geemap-dark .jupyter-button {\n",
       "                    --jp-layout-color3: #383838;\n",
       "                }\n",
       "\n",
       "                .geemap-colab {\n",
       "                    background-color: var(--colab-primary-surface-color, white);\n",
       "                }\n",
       "\n",
       "                .geemap-colab .jupyter-button {\n",
       "                    --jp-layout-color3: var(--colab-primary-surface-color, white);\n",
       "                }\n",
       "            </style>\n",
       "            "
      ],
      "text/plain": [
       "<IPython.core.display.HTML object>"
      ]
     },
     "metadata": {},
     "output_type": "display_data"
    },
    {
     "name": "stderr",
     "output_type": "stream",
     "text": [
      "Uploading files to aws bucket ose-dev-inputs:   0%|          | 0/240 [00:00<?, ?it/s]"
     ]
    },
    {
     "name": "stdout",
     "output_type": "stream",
     "text": [
      "[2025-06-25 15:10:13 INFO] Uploaded file OREGON_STATE_PRISM_012012_20240501_20240601_PPT.tif to aws bucket ose-dev-inputs\n"
     ]
    },
    {
     "name": "stderr",
     "output_type": "stream",
     "text": [
      "Uploading file: OREGON_STATE_PRISM_012012_20240501_20240601_PPT.tif:   0%|          | 1/240 [00:00<01:02,  3.85it/s]"
     ]
    },
    {
     "name": "stdout",
     "output_type": "stream",
     "text": [
      "[2025-06-25 15:10:13 INFO] Uploaded file OREGON_STATE_PRISM_011011_20241001_20241101_PPT.tif to aws bucket ose-dev-inputs\n"
     ]
    },
    {
     "name": "stderr",
     "output_type": "stream",
     "text": [
      "Uploading file: OREGON_STATE_PRISM_011011_20241001_20241101_PPT.tif:   1%|          | 2/240 [00:00<00:45,  5.18it/s]"
     ]
    },
    {
     "name": "stdout",
     "output_type": "stream",
     "text": [
      "[2025-06-25 15:10:13 INFO] Uploaded file OREGON_STATE_PRISM_009012_20240101_20240201_PPT.tif to aws bucket ose-dev-inputs\n"
     ]
    },
    {
     "name": "stderr",
     "output_type": "stream",
     "text": [
      "Uploading file: OREGON_STATE_PRISM_009012_20240101_20240201_PPT.tif:   1%|▏         | 3/240 [00:00<00:40,  5.90it/s]"
     ]
    },
    {
     "name": "stdout",
     "output_type": "stream",
     "text": [
      "[2025-06-25 15:10:14 INFO] Uploaded file OREGON_STATE_PRISM_009013_20240301_20240401_PPT.tif to aws bucket ose-dev-inputs\n"
     ]
    },
    {
     "name": "stderr",
     "output_type": "stream",
     "text": [
      "Uploading file: OREGON_STATE_PRISM_009013_20240301_20240401_PPT.tif:   2%|▏         | 4/240 [00:00<00:38,  6.07it/s]"
     ]
    },
    {
     "name": "stdout",
     "output_type": "stream",
     "text": [
      "[2025-06-25 15:10:14 INFO] Uploaded file OREGON_STATE_PRISM_012013_20240301_20240401_PPT.tif to aws bucket ose-dev-inputs\n"
     ]
    },
    {
     "name": "stderr",
     "output_type": "stream",
     "text": [
      "Uploading file: OREGON_STATE_PRISM_012013_20240301_20240401_PPT.tif:   2%|▏         | 5/240 [00:00<00:37,  6.33it/s]"
     ]
    },
    {
     "name": "stdout",
     "output_type": "stream",
     "text": [
      "[2025-06-25 15:10:14 INFO] Uploaded file OREGON_STATE_PRISM_012012_20240101_20240201_PPT.tif to aws bucket ose-dev-inputs\n"
     ]
    },
    {
     "name": "stderr",
     "output_type": "stream",
     "text": [
      "Uploading file: OREGON_STATE_PRISM_012012_20240101_20240201_PPT.tif:   2%|▎         | 6/240 [00:00<00:35,  6.57it/s]"
     ]
    },
    {
     "name": "stdout",
     "output_type": "stream",
     "text": [
      "[2025-06-25 15:10:14 INFO] Uploaded file OREGON_STATE_PRISM_010011_20240901_20241001_PPT.tif to aws bucket ose-dev-inputs\n"
     ]
    },
    {
     "name": "stderr",
     "output_type": "stream",
     "text": [
      "Uploading file: OREGON_STATE_PRISM_010011_20240901_20241001_PPT.tif:   3%|▎         | 7/240 [00:01<00:34,  6.71it/s]"
     ]
    },
    {
     "name": "stdout",
     "output_type": "stream",
     "text": [
      "[2025-06-25 15:10:14 INFO] Uploaded file OREGON_STATE_PRISM_010013_20240401_20240501_PPT.tif to aws bucket ose-dev-inputs\n"
     ]
    },
    {
     "name": "stderr",
     "output_type": "stream",
     "text": [
      "Uploading file: OREGON_STATE_PRISM_010013_20240401_20240501_PPT.tif:   3%|▎         | 8/240 [00:01<00:34,  6.80it/s]"
     ]
    },
    {
     "name": "stdout",
     "output_type": "stream",
     "text": [
      "[2025-06-25 15:10:14 INFO] Uploaded file OREGON_STATE_PRISM_009012_20240501_20240601_PPT.tif to aws bucket ose-dev-inputs\n"
     ]
    },
    {
     "name": "stderr",
     "output_type": "stream",
     "text": [
      "Uploading file: OREGON_STATE_PRISM_009012_20240501_20240601_PPT.tif:   4%|▍         | 9/240 [00:01<00:33,  6.86it/s]"
     ]
    },
    {
     "name": "stdout",
     "output_type": "stream",
     "text": [
      "[2025-06-25 15:10:15 INFO] Uploaded file OREGON_STATE_PRISM_011015_20240701_20240801_PPT.tif to aws bucket ose-dev-inputs\n"
     ]
    },
    {
     "name": "stderr",
     "output_type": "stream",
     "text": [
      "Uploading file: OREGON_STATE_PRISM_011015_20240701_20240801_PPT.tif:   4%|▍         | 10/240 [00:01<00:33,  6.90it/s]"
     ]
    },
    {
     "name": "stdout",
     "output_type": "stream",
     "text": [
      "[2025-06-25 15:10:15 INFO] Uploaded file OREGON_STATE_PRISM_011015_20240501_20240601_PPT.tif to aws bucket ose-dev-inputs\n"
     ]
    },
    {
     "name": "stderr",
     "output_type": "stream",
     "text": [
      "Uploading file: OREGON_STATE_PRISM_011015_20240501_20240601_PPT.tif:   5%|▍         | 11/240 [00:01<00:33,  6.85it/s]"
     ]
    },
    {
     "name": "stdout",
     "output_type": "stream",
     "text": [
      "[2025-06-25 15:10:15 INFO] Uploaded file OREGON_STATE_PRISM_009012_20240701_20240801_PPT.tif to aws bucket ose-dev-inputs\n"
     ]
    },
    {
     "name": "stderr",
     "output_type": "stream",
     "text": [
      "Uploading file: OREGON_STATE_PRISM_009012_20240701_20240801_PPT.tif:   5%|▌         | 12/240 [00:01<00:32,  6.94it/s]"
     ]
    },
    {
     "name": "stdout",
     "output_type": "stream",
     "text": [
      "[2025-06-25 15:10:15 INFO] Uploaded file OREGON_STATE_PRISM_011015_20240101_20240201_PPT.tif to aws bucket ose-dev-inputs\n"
     ]
    },
    {
     "name": "stderr",
     "output_type": "stream",
     "text": [
      "Uploading file: OREGON_STATE_PRISM_011015_20240101_20240201_PPT.tif:   5%|▌         | 13/240 [00:01<00:32,  7.02it/s]"
     ]
    },
    {
     "name": "stdout",
     "output_type": "stream",
     "text": [
      "[2025-06-25 15:10:15 INFO] Uploaded file OREGON_STATE_PRISM_011014_20240301_20240401_PPT.tif to aws bucket ose-dev-inputs\n"
     ]
    },
    {
     "name": "stderr",
     "output_type": "stream",
     "text": [
      "Uploading file: OREGON_STATE_PRISM_011014_20240301_20240401_PPT.tif:   6%|▌         | 14/240 [00:02<00:32,  7.01it/s]"
     ]
    },
    {
     "name": "stdout",
     "output_type": "stream",
     "text": [
      "[2025-06-25 15:10:15 INFO] Uploaded file OREGON_STATE_PRISM_012012_20240701_20240801_PPT.tif to aws bucket ose-dev-inputs\n"
     ]
    },
    {
     "name": "stderr",
     "output_type": "stream",
     "text": [
      "Uploading file: OREGON_STATE_PRISM_012012_20240701_20240801_PPT.tif:   6%|▋         | 15/240 [00:02<00:31,  7.12it/s]"
     ]
    },
    {
     "name": "stdout",
     "output_type": "stream",
     "text": [
      "[2025-06-25 15:10:15 INFO] Uploaded file OREGON_STATE_PRISM_012011_20241101_20241201_PPT.tif to aws bucket ose-dev-inputs\n"
     ]
    },
    {
     "name": "stderr",
     "output_type": "stream",
     "text": [
      "Uploading file: OREGON_STATE_PRISM_012011_20241101_20241201_PPT.tif:   7%|▋         | 16/240 [00:02<00:31,  7.04it/s]"
     ]
    },
    {
     "name": "stdout",
     "output_type": "stream",
     "text": [
      "[2025-06-25 15:10:16 INFO] Uploaded file OREGON_STATE_PRISM_011012_20240401_20240501_PPT.tif to aws bucket ose-dev-inputs\n"
     ]
    },
    {
     "name": "stderr",
     "output_type": "stream",
     "text": [
      "Uploading file: OREGON_STATE_PRISM_011012_20240401_20240501_PPT.tif:   7%|▋         | 17/240 [00:02<00:32,  6.88it/s]"
     ]
    },
    {
     "name": "stdout",
     "output_type": "stream",
     "text": [
      "[2025-06-25 15:10:16 INFO] Uploaded file OREGON_STATE_PRISM_010014_20240701_20240801_PPT.tif to aws bucket ose-dev-inputs\n"
     ]
    },
    {
     "name": "stderr",
     "output_type": "stream",
     "text": [
      "Uploading file: OREGON_STATE_PRISM_010014_20240701_20240801_PPT.tif:   8%|▊         | 18/240 [00:02<00:32,  6.88it/s]"
     ]
    },
    {
     "name": "stdout",
     "output_type": "stream",
     "text": [
      "[2025-06-25 15:10:16 INFO] Uploaded file OREGON_STATE_PRISM_011011_20240801_20240901_PPT.tif to aws bucket ose-dev-inputs\n"
     ]
    },
    {
     "name": "stderr",
     "output_type": "stream",
     "text": [
      "Uploading file: OREGON_STATE_PRISM_011011_20240801_20240901_PPT.tif:   8%|▊         | 19/240 [00:02<00:31,  6.91it/s]"
     ]
    },
    {
     "name": "stdout",
     "output_type": "stream",
     "text": [
      "[2025-06-25 15:10:16 INFO] Uploaded file OREGON_STATE_PRISM_009011_20241101_20241201_PPT.tif to aws bucket ose-dev-inputs\n"
     ]
    },
    {
     "name": "stderr",
     "output_type": "stream",
     "text": [
      "Uploading file: OREGON_STATE_PRISM_009011_20241101_20241201_PPT.tif:   8%|▊         | 20/240 [00:02<00:31,  6.97it/s]"
     ]
    },
    {
     "name": "stdout",
     "output_type": "stream",
     "text": [
      "[2025-06-25 15:10:16 INFO] Uploaded file OREGON_STATE_PRISM_010014_20240101_20240201_PPT.tif to aws bucket ose-dev-inputs\n"
     ]
    },
    {
     "name": "stderr",
     "output_type": "stream",
     "text": [
      "Uploading file: OREGON_STATE_PRISM_010014_20240101_20240201_PPT.tif:   9%|▉         | 21/240 [00:03<00:32,  6.79it/s]"
     ]
    },
    {
     "name": "stdout",
     "output_type": "stream",
     "text": [
      "[2025-06-25 15:10:16 INFO] Uploaded file OREGON_STATE_PRISM_010015_20240301_20240401_PPT.tif to aws bucket ose-dev-inputs\n"
     ]
    },
    {
     "name": "stderr",
     "output_type": "stream",
     "text": [
      "Uploading file: OREGON_STATE_PRISM_010015_20240301_20240401_PPT.tif:   9%|▉         | 22/240 [00:03<00:31,  6.83it/s]"
     ]
    },
    {
     "name": "stdout",
     "output_type": "stream",
     "text": [
      "[2025-06-25 15:10:16 INFO] Uploaded file OREGON_STATE_PRISM_012015_20240401_20240501_PPT.tif to aws bucket ose-dev-inputs\n"
     ]
    },
    {
     "name": "stderr",
     "output_type": "stream",
     "text": [
      "Uploading file: OREGON_STATE_PRISM_012015_20240401_20240501_PPT.tif:  10%|▉         | 23/240 [00:03<00:31,  6.90it/s]"
     ]
    },
    {
     "name": "stdout",
     "output_type": "stream",
     "text": [
      "[2025-06-25 15:10:17 INFO] Uploaded file OREGON_STATE_PRISM_010011_20240201_20240301_PPT.tif to aws bucket ose-dev-inputs\n"
     ]
    },
    {
     "name": "stderr",
     "output_type": "stream",
     "text": [
      "Uploading file: OREGON_STATE_PRISM_010011_20240201_20240301_PPT.tif:  10%|█         | 24/240 [00:03<00:31,  6.89it/s]"
     ]
    },
    {
     "name": "stdout",
     "output_type": "stream",
     "text": [
      "[2025-06-25 15:10:17 INFO] Uploaded file OREGON_STATE_PRISM_009015_20240401_20240501_PPT.tif to aws bucket ose-dev-inputs\n"
     ]
    },
    {
     "name": "stderr",
     "output_type": "stream",
     "text": [
      "Uploading file: OREGON_STATE_PRISM_009015_20240401_20240501_PPT.tif:  10%|█         | 25/240 [00:03<00:31,  6.89it/s]"
     ]
    },
    {
     "name": "stdout",
     "output_type": "stream",
     "text": [
      "[2025-06-25 15:10:17 INFO] Uploaded file OREGON_STATE_PRISM_010014_20240501_20240601_PPT.tif to aws bucket ose-dev-inputs\n"
     ]
    },
    {
     "name": "stderr",
     "output_type": "stream",
     "text": [
      "Uploading file: OREGON_STATE_PRISM_010014_20240501_20240601_PPT.tif:  11%|█         | 26/240 [00:03<00:30,  6.99it/s]"
     ]
    },
    {
     "name": "stdout",
     "output_type": "stream",
     "text": [
      "[2025-06-25 15:10:17 INFO] Uploaded file OREGON_STATE_PRISM_010011_20240601_20240701_PPT.tif to aws bucket ose-dev-inputs\n"
     ]
    },
    {
     "name": "stderr",
     "output_type": "stream",
     "text": [
      "Uploading file: OREGON_STATE_PRISM_010011_20240601_20240701_PPT.tif:  11%|█▏        | 27/240 [00:04<00:30,  6.96it/s]"
     ]
    },
    {
     "name": "stdout",
     "output_type": "stream",
     "text": [
      "[2025-06-25 15:10:17 INFO] Uploaded file OREGON_STATE_PRISM_012011_20240801_20240901_PPT.tif to aws bucket ose-dev-inputs\n"
     ]
    },
    {
     "name": "stderr",
     "output_type": "stream",
     "text": [
      "Uploading file: OREGON_STATE_PRISM_012011_20240801_20240901_PPT.tif:  12%|█▏        | 28/240 [00:04<00:30,  7.00it/s]"
     ]
    },
    {
     "name": "stdout",
     "output_type": "stream",
     "text": [
      "[2025-06-25 15:10:17 INFO] Uploaded file OREGON_STATE_PRISM_010013_20240501_20240601_PPT.tif to aws bucket ose-dev-inputs\n"
     ]
    },
    {
     "name": "stderr",
     "output_type": "stream",
     "text": [
      "Uploading file: OREGON_STATE_PRISM_010013_20240501_20240601_PPT.tif:  12%|█▏        | 29/240 [00:04<00:30,  7.02it/s]"
     ]
    },
    {
     "name": "stdout",
     "output_type": "stream",
     "text": [
      "[2025-06-25 15:10:17 INFO] Uploaded file OREGON_STATE_PRISM_009012_20240401_20240501_PPT.tif to aws bucket ose-dev-inputs\n"
     ]
    },
    {
     "name": "stderr",
     "output_type": "stream",
     "text": [
      "Uploading file: OREGON_STATE_PRISM_009012_20240401_20240501_PPT.tif:  12%|█▎        | 30/240 [00:04<00:31,  6.66it/s]"
     ]
    },
    {
     "name": "stdout",
     "output_type": "stream",
     "text": [
      "[2025-06-25 15:10:18 INFO] Uploaded file OREGON_STATE_PRISM_010011_20241201_20250101_PPT.tif to aws bucket ose-dev-inputs\n"
     ]
    },
    {
     "name": "stderr",
     "output_type": "stream",
     "text": [
      "Uploading file: OREGON_STATE_PRISM_010011_20241201_20250101_PPT.tif:  13%|█▎        | 31/240 [00:04<00:31,  6.69it/s]"
     ]
    },
    {
     "name": "stdout",
     "output_type": "stream",
     "text": [
      "[2025-06-25 15:10:18 INFO] Uploaded file OREGON_STATE_PRISM_012012_20240401_20240501_PPT.tif to aws bucket ose-dev-inputs\n"
     ]
    },
    {
     "name": "stderr",
     "output_type": "stream",
     "text": [
      "Uploading file: OREGON_STATE_PRISM_012012_20240401_20240501_PPT.tif:  13%|█▎        | 32/240 [00:04<00:30,  6.79it/s]"
     ]
    },
    {
     "name": "stdout",
     "output_type": "stream",
     "text": [
      "[2025-06-25 15:10:18 INFO] Uploaded file OREGON_STATE_PRISM_010012_20240301_20240401_PPT.tif to aws bucket ose-dev-inputs\n"
     ]
    },
    {
     "name": "stderr",
     "output_type": "stream",
     "text": [
      "Uploading file: OREGON_STATE_PRISM_010012_20240301_20240401_PPT.tif:  14%|█▍        | 33/240 [00:04<00:30,  6.84it/s]"
     ]
    },
    {
     "name": "stdout",
     "output_type": "stream",
     "text": [
      "[2025-06-25 15:10:18 INFO] Uploaded file OREGON_STATE_PRISM_011011_20241101_20241201_PPT.tif to aws bucket ose-dev-inputs\n"
     ]
    },
    {
     "name": "stderr",
     "output_type": "stream",
     "text": [
      "Uploading file: OREGON_STATE_PRISM_011011_20241101_20241201_PPT.tif:  14%|█▍        | 34/240 [00:05<00:29,  6.87it/s]"
     ]
    },
    {
     "name": "stdout",
     "output_type": "stream",
     "text": [
      "[2025-06-25 15:10:18 INFO] Uploaded file OREGON_STATE_PRISM_009011_20240801_20240901_PPT.tif to aws bucket ose-dev-inputs\n"
     ]
    },
    {
     "name": "stderr",
     "output_type": "stream",
     "text": [
      "Uploading file: OREGON_STATE_PRISM_009011_20240801_20240901_PPT.tif:  15%|█▍        | 35/240 [00:05<00:29,  6.85it/s]"
     ]
    },
    {
     "name": "stdout",
     "output_type": "stream",
     "text": [
      "[2025-06-25 15:10:18 INFO] Uploaded file OREGON_STATE_PRISM_010013_20240101_20240201_PPT.tif to aws bucket ose-dev-inputs\n"
     ]
    },
    {
     "name": "stderr",
     "output_type": "stream",
     "text": [
      "Uploading file: OREGON_STATE_PRISM_010013_20240101_20240201_PPT.tif:  15%|█▌        | 36/240 [00:05<00:30,  6.68it/s]"
     ]
    },
    {
     "name": "stdout",
     "output_type": "stream",
     "text": [
      "[2025-06-25 15:10:18 INFO] Uploaded file OREGON_STATE_PRISM_011015_20240401_20240501_PPT.tif to aws bucket ose-dev-inputs\n"
     ]
    },
    {
     "name": "stderr",
     "output_type": "stream",
     "text": [
      "Uploading file: OREGON_STATE_PRISM_011015_20240401_20240501_PPT.tif:  15%|█▌        | 37/240 [00:05<00:31,  6.54it/s]"
     ]
    },
    {
     "name": "stdout",
     "output_type": "stream",
     "text": [
      "[2025-06-25 15:10:19 INFO] Uploaded file OREGON_STATE_PRISM_010013_20240701_20240801_PPT.tif to aws bucket ose-dev-inputs\n"
     ]
    },
    {
     "name": "stderr",
     "output_type": "stream",
     "text": [
      "Uploading file: OREGON_STATE_PRISM_010013_20240701_20240801_PPT.tif:  16%|█▌        | 38/240 [00:05<00:31,  6.35it/s]"
     ]
    },
    {
     "name": "stdout",
     "output_type": "stream",
     "text": [
      "[2025-06-25 15:10:19 INFO] Uploaded file OREGON_STATE_PRISM_012015_20240701_20240801_PPT.tif to aws bucket ose-dev-inputs\n"
     ]
    },
    {
     "name": "stderr",
     "output_type": "stream",
     "text": [
      "Uploading file: OREGON_STATE_PRISM_012015_20240701_20240801_PPT.tif:  16%|█▋        | 39/240 [00:05<00:31,  6.40it/s]"
     ]
    },
    {
     "name": "stdout",
     "output_type": "stream",
     "text": [
      "[2025-06-25 15:10:19 INFO] Uploaded file OREGON_STATE_PRISM_011013_20240301_20240401_PPT.tif to aws bucket ose-dev-inputs\n"
     ]
    },
    {
     "name": "stderr",
     "output_type": "stream",
     "text": [
      "Uploading file: OREGON_STATE_PRISM_011013_20240301_20240401_PPT.tif:  17%|█▋        | 40/240 [00:06<00:46,  4.34it/s]"
     ]
    },
    {
     "name": "stdout",
     "output_type": "stream",
     "text": [
      "[2025-06-25 15:10:20 INFO] Uploaded file OREGON_STATE_PRISM_011012_20240101_20240201_PPT.tif to aws bucket ose-dev-inputs\n"
     ]
    },
    {
     "name": "stderr",
     "output_type": "stream",
     "text": [
      "Uploading file: OREGON_STATE_PRISM_011012_20240101_20240201_PPT.tif:  17%|█▋        | 41/240 [00:06<01:00,  3.30it/s]"
     ]
    },
    {
     "name": "stdout",
     "output_type": "stream",
     "text": [
      "[2025-06-25 15:10:20 INFO] Uploaded file OREGON_STATE_PRISM_009011_20241001_20241101_PPT.tif to aws bucket ose-dev-inputs\n"
     ]
    },
    {
     "name": "stderr",
     "output_type": "stream",
     "text": [
      "Uploading file: OREGON_STATE_PRISM_009011_20241001_20241101_PPT.tif:  18%|█▊        | 42/240 [00:07<01:09,  2.86it/s]"
     ]
    },
    {
     "name": "stdout",
     "output_type": "stream",
     "text": [
      "[2025-06-25 15:10:21 INFO] Uploaded file OREGON_STATE_PRISM_012011_20241001_20241101_PPT.tif to aws bucket ose-dev-inputs\n"
     ]
    },
    {
     "name": "stderr",
     "output_type": "stream",
     "text": [
      "Uploading file: OREGON_STATE_PRISM_012011_20241001_20241101_PPT.tif:  18%|█▊        | 43/240 [00:07<01:18,  2.53it/s]"
     ]
    },
    {
     "name": "stdout",
     "output_type": "stream",
     "text": [
      "[2025-06-25 15:10:21 INFO] Uploaded file OREGON_STATE_PRISM_011012_20240501_20240601_PPT.tif to aws bucket ose-dev-inputs\n"
     ]
    },
    {
     "name": "stderr",
     "output_type": "stream",
     "text": [
      "Uploading file: OREGON_STATE_PRISM_011012_20240501_20240601_PPT.tif:  18%|█▊        | 44/240 [00:08<01:25,  2.30it/s]"
     ]
    },
    {
     "name": "stdout",
     "output_type": "stream",
     "text": [
      "[2025-06-25 15:10:22 INFO] Uploaded file OREGON_STATE_PRISM_009015_20240701_20240801_PPT.tif to aws bucket ose-dev-inputs\n"
     ]
    },
    {
     "name": "stderr",
     "output_type": "stream",
     "text": [
      "Uploading file: OREGON_STATE_PRISM_009015_20240701_20240801_PPT.tif:  19%|█▉        | 45/240 [00:08<01:25,  2.29it/s]"
     ]
    },
    {
     "name": "stdout",
     "output_type": "stream",
     "text": [
      "[2025-06-25 15:10:22 INFO] Uploaded file OREGON_STATE_PRISM_009015_20240501_20240601_PPT.tif to aws bucket ose-dev-inputs\n"
     ]
    },
    {
     "name": "stderr",
     "output_type": "stream",
     "text": [
      "Uploading file: OREGON_STATE_PRISM_009015_20240501_20240601_PPT.tif:  19%|█▉        | 46/240 [00:09<01:27,  2.21it/s]"
     ]
    },
    {
     "name": "stdout",
     "output_type": "stream",
     "text": [
      "[2025-06-25 15:10:22 INFO] Uploaded file OREGON_STATE_PRISM_010014_20240401_20240501_PPT.tif to aws bucket ose-dev-inputs\n"
     ]
    },
    {
     "name": "stderr",
     "output_type": "stream",
     "text": [
      "Uploading file: OREGON_STATE_PRISM_010014_20240401_20240501_PPT.tif:  20%|█▉        | 47/240 [00:09<01:22,  2.34it/s]"
     ]
    },
    {
     "name": "stdout",
     "output_type": "stream",
     "text": [
      "[2025-06-25 15:10:23 INFO] Uploaded file OREGON_STATE_PRISM_011012_20240701_20240801_PPT.tif to aws bucket ose-dev-inputs\n"
     ]
    },
    {
     "name": "stderr",
     "output_type": "stream",
     "text": [
      "Uploading file: OREGON_STATE_PRISM_011012_20240701_20240801_PPT.tif:  20%|██        | 48/240 [00:09<01:16,  2.52it/s]"
     ]
    },
    {
     "name": "stdout",
     "output_type": "stream",
     "text": [
      "[2025-06-25 15:10:23 INFO] Uploaded file OREGON_STATE_PRISM_012015_20240101_20240201_PPT.tif to aws bucket ose-dev-inputs\n"
     ]
    },
    {
     "name": "stderr",
     "output_type": "stream",
     "text": [
      "Uploading file: OREGON_STATE_PRISM_012015_20240101_20240201_PPT.tif:  20%|██        | 49/240 [00:09<01:01,  3.13it/s]"
     ]
    },
    {
     "name": "stdout",
     "output_type": "stream",
     "text": [
      "[2025-06-25 15:10:23 INFO] Uploaded file OREGON_STATE_PRISM_012014_20240301_20240401_PPT.tif to aws bucket ose-dev-inputs\n"
     ]
    },
    {
     "name": "stderr",
     "output_type": "stream",
     "text": [
      "Uploading file: OREGON_STATE_PRISM_012014_20240301_20240401_PPT.tif:  21%|██        | 50/240 [00:10<00:50,  3.76it/s]"
     ]
    },
    {
     "name": "stdout",
     "output_type": "stream",
     "text": [
      "[2025-06-25 15:10:23 INFO] Uploaded file OREGON_STATE_PRISM_009014_20240301_20240401_PPT.tif to aws bucket ose-dev-inputs\n"
     ]
    },
    {
     "name": "stderr",
     "output_type": "stream",
     "text": [
      "Uploading file: OREGON_STATE_PRISM_009014_20240301_20240401_PPT.tif:  21%|██▏       | 51/240 [00:10<00:49,  3.84it/s]"
     ]
    },
    {
     "name": "stdout",
     "output_type": "stream",
     "text": [
      "[2025-06-25 15:10:23 INFO] Uploaded file OREGON_STATE_PRISM_009015_20240101_20240201_PPT.tif to aws bucket ose-dev-inputs\n"
     ]
    },
    {
     "name": "stderr",
     "output_type": "stream",
     "text": [
      "Uploading file: OREGON_STATE_PRISM_009015_20240101_20240201_PPT.tif:  22%|██▏       | 52/240 [00:10<00:41,  4.52it/s]"
     ]
    },
    {
     "name": "stdout",
     "output_type": "stream",
     "text": [
      "[2025-06-25 15:10:24 INFO] Uploaded file OREGON_STATE_PRISM_012015_20240501_20240601_PPT.tif to aws bucket ose-dev-inputs\n"
     ]
    },
    {
     "name": "stderr",
     "output_type": "stream",
     "text": [
      "Uploading file: OREGON_STATE_PRISM_012015_20240501_20240601_PPT.tif:  22%|██▏       | 53/240 [00:10<00:37,  5.01it/s]"
     ]
    },
    {
     "name": "stdout",
     "output_type": "stream",
     "text": [
      "[2025-06-25 15:10:24 INFO] Uploaded file OREGON_STATE_PRISM_012015_20240601_20240701_PPT.tif to aws bucket ose-dev-inputs\n"
     ]
    },
    {
     "name": "stderr",
     "output_type": "stream",
     "text": [
      "Uploading file: OREGON_STATE_PRISM_012015_20240601_20240701_PPT.tif:  22%|██▎       | 54/240 [00:10<00:33,  5.47it/s]"
     ]
    },
    {
     "name": "stdout",
     "output_type": "stream",
     "text": [
      "[2025-06-25 15:10:24 INFO] Uploaded file OREGON_STATE_PRISM_009011_20240301_20240401_PPT.tif to aws bucket ose-dev-inputs\n"
     ]
    },
    {
     "name": "stderr",
     "output_type": "stream",
     "text": [
      "Uploading file: OREGON_STATE_PRISM_009011_20240301_20240401_PPT.tif:  23%|██▎       | 55/240 [00:10<00:31,  5.94it/s]"
     ]
    },
    {
     "name": "stdout",
     "output_type": "stream",
     "text": [
      "[2025-06-25 15:10:24 INFO] Uploaded file OREGON_STATE_PRISM_010012_20240801_20240901_PPT.tif to aws bucket ose-dev-inputs\n"
     ]
    },
    {
     "name": "stderr",
     "output_type": "stream",
     "text": [
      "Uploading file: OREGON_STATE_PRISM_010012_20240801_20240901_PPT.tif:  23%|██▎       | 56/240 [00:11<00:28,  6.43it/s]"
     ]
    },
    {
     "name": "stdout",
     "output_type": "stream",
     "text": [
      "[2025-06-25 15:10:24 INFO] Uploaded file OREGON_STATE_PRISM_011013_20241001_20241101_PPT.tif to aws bucket ose-dev-inputs\n"
     ]
    },
    {
     "name": "stderr",
     "output_type": "stream",
     "text": [
      "Uploading file: OREGON_STATE_PRISM_011013_20241001_20241101_PPT.tif:  24%|██▍       | 57/240 [00:11<00:26,  6.84it/s]"
     ]
    },
    {
     "name": "stdout",
     "output_type": "stream",
     "text": [
      "[2025-06-25 15:10:24 INFO] Uploaded file OREGON_STATE_PRISM_012012_20241201_20250101_PPT.tif to aws bucket ose-dev-inputs\n"
     ]
    },
    {
     "name": "stderr",
     "output_type": "stream",
     "text": [
      "Uploading file: OREGON_STATE_PRISM_012012_20241201_20250101_PPT.tif:  24%|██▍       | 58/240 [00:11<00:25,  7.08it/s]"
     ]
    },
    {
     "name": "stdout",
     "output_type": "stream",
     "text": [
      "[2025-06-25 15:10:24 INFO] Uploaded file OREGON_STATE_PRISM_009015_20240201_20240301_PPT.tif to aws bucket ose-dev-inputs\n"
     ]
    },
    {
     "name": "stderr",
     "output_type": "stream",
     "text": [
      "Uploading file: OREGON_STATE_PRISM_009015_20240201_20240301_PPT.tif:  25%|██▍       | 59/240 [00:11<00:24,  7.26it/s]"
     ]
    },
    {
     "name": "stdout",
     "output_type": "stream",
     "text": [
      "[2025-06-25 15:10:24 INFO] Uploaded file OREGON_STATE_PRISM_010011_20240401_20240501_PPT.tif to aws bucket ose-dev-inputs\n"
     ]
    },
    {
     "name": "stderr",
     "output_type": "stream",
     "text": [
      "Uploading file: OREGON_STATE_PRISM_010011_20240401_20240501_PPT.tif:  25%|██▌       | 60/240 [00:11<00:24,  7.31it/s]"
     ]
    },
    {
     "name": "stdout",
     "output_type": "stream",
     "text": [
      "[2025-06-25 15:10:25 INFO] Uploaded file OREGON_STATE_PRISM_009012_20241201_20250101_PPT.tif to aws bucket ose-dev-inputs\n"
     ]
    },
    {
     "name": "stderr",
     "output_type": "stream",
     "text": [
      "Uploading file: OREGON_STATE_PRISM_009012_20241201_20250101_PPT.tif:  25%|██▌       | 61/240 [00:11<00:25,  6.98it/s]"
     ]
    },
    {
     "name": "stdout",
     "output_type": "stream",
     "text": [
      "[2025-06-25 15:10:25 INFO] Uploaded file OREGON_STATE_PRISM_012015_20240201_20240301_PPT.tif to aws bucket ose-dev-inputs\n"
     ]
    },
    {
     "name": "stderr",
     "output_type": "stream",
     "text": [
      "Uploading file: OREGON_STATE_PRISM_012015_20240201_20240301_PPT.tif:  26%|██▌       | 62/240 [00:11<00:24,  7.14it/s]"
     ]
    },
    {
     "name": "stdout",
     "output_type": "stream",
     "text": [
      "[2025-06-25 15:10:25 INFO] Uploaded file OREGON_STATE_PRISM_009015_20240601_20240701_PPT.tif to aws bucket ose-dev-inputs\n"
     ]
    },
    {
     "name": "stderr",
     "output_type": "stream",
     "text": [
      "Uploading file: OREGON_STATE_PRISM_009015_20240601_20240701_PPT.tif:  26%|██▋       | 63/240 [00:11<00:24,  7.26it/s]"
     ]
    },
    {
     "name": "stdout",
     "output_type": "stream",
     "text": [
      "[2025-06-25 15:10:25 INFO] Uploaded file OREGON_STATE_PRISM_010013_20240901_20241001_PPT.tif to aws bucket ose-dev-inputs\n"
     ]
    },
    {
     "name": "stderr",
     "output_type": "stream",
     "text": [
      "Uploading file: OREGON_STATE_PRISM_010013_20240901_20241001_PPT.tif:  27%|██▋       | 64/240 [00:12<00:23,  7.37it/s]"
     ]
    },
    {
     "name": "stdout",
     "output_type": "stream",
     "text": [
      "[2025-06-25 15:10:25 INFO] Uploaded file OREGON_STATE_PRISM_012011_20240301_20240401_PPT.tif to aws bucket ose-dev-inputs\n"
     ]
    },
    {
     "name": "stderr",
     "output_type": "stream",
     "text": [
      "Uploading file: OREGON_STATE_PRISM_012011_20240301_20240401_PPT.tif:  27%|██▋       | 65/240 [00:12<00:24,  7.01it/s]"
     ]
    },
    {
     "name": "stdout",
     "output_type": "stream",
     "text": [
      "[2025-06-25 15:10:25 INFO] Uploaded file OREGON_STATE_PRISM_011012_20240601_20240701_PPT.tif to aws bucket ose-dev-inputs\n"
     ]
    },
    {
     "name": "stderr",
     "output_type": "stream",
     "text": [
      "Uploading file: OREGON_STATE_PRISM_011012_20240601_20240701_PPT.tif:  28%|██▊       | 66/240 [00:12<00:24,  7.21it/s]"
     ]
    },
    {
     "name": "stdout",
     "output_type": "stream",
     "text": [
      "[2025-06-25 15:10:25 INFO] Uploaded file OREGON_STATE_PRISM_012014_20241001_20241101_PPT.tif to aws bucket ose-dev-inputs\n"
     ]
    },
    {
     "name": "stderr",
     "output_type": "stream",
     "text": [
      "Uploading file: OREGON_STATE_PRISM_012014_20241001_20241101_PPT.tif:  28%|██▊       | 67/240 [00:12<00:24,  7.15it/s]"
     ]
    },
    {
     "name": "stdout",
     "output_type": "stream",
     "text": [
      "[2025-06-25 15:10:26 INFO] Uploaded file OREGON_STATE_PRISM_011015_20241201_20250101_PPT.tif to aws bucket ose-dev-inputs\n"
     ]
    },
    {
     "name": "stderr",
     "output_type": "stream",
     "text": [
      "Uploading file: OREGON_STATE_PRISM_011015_20241201_20250101_PPT.tif:  28%|██▊       | 68/240 [00:12<00:23,  7.29it/s]"
     ]
    },
    {
     "name": "stdout",
     "output_type": "stream",
     "text": [
      "[2025-06-25 15:10:26 INFO] Uploaded file OREGON_STATE_PRISM_011012_20240201_20240301_PPT.tif to aws bucket ose-dev-inputs\n"
     ]
    },
    {
     "name": "stderr",
     "output_type": "stream",
     "text": [
      "Uploading file: OREGON_STATE_PRISM_011012_20240201_20240301_PPT.tif:  29%|██▉       | 69/240 [00:12<00:23,  7.38it/s]"
     ]
    },
    {
     "name": "stdout",
     "output_type": "stream",
     "text": [
      "[2025-06-25 15:10:26 INFO] Uploaded file OREGON_STATE_PRISM_010015_20241101_20241201_PPT.tif to aws bucket ose-dev-inputs\n"
     ]
    },
    {
     "name": "stderr",
     "output_type": "stream",
     "text": [
      "Uploading file: OREGON_STATE_PRISM_010015_20241101_20241201_PPT.tif:  29%|██▉       | 70/240 [00:12<00:24,  6.96it/s]"
     ]
    },
    {
     "name": "stdout",
     "output_type": "stream",
     "text": [
      "[2025-06-25 15:10:26 INFO] Uploaded file OREGON_STATE_PRISM_009014_20241001_20241101_PPT.tif to aws bucket ose-dev-inputs\n"
     ]
    },
    {
     "name": "stderr",
     "output_type": "stream",
     "text": [
      "Uploading file: OREGON_STATE_PRISM_009014_20241001_20241101_PPT.tif:  30%|██▉       | 71/240 [00:13<00:23,  7.09it/s]"
     ]
    },
    {
     "name": "stdout",
     "output_type": "stream",
     "text": [
      "[2025-06-25 15:10:26 INFO] Uploaded file OREGON_STATE_PRISM_011012_20240901_20241001_PPT.tif to aws bucket ose-dev-inputs\n"
     ]
    },
    {
     "name": "stderr",
     "output_type": "stream",
     "text": [
      "Uploading file: OREGON_STATE_PRISM_011012_20240901_20241001_PPT.tif:  30%|███       | 72/240 [00:13<00:23,  7.23it/s]"
     ]
    },
    {
     "name": "stdout",
     "output_type": "stream",
     "text": [
      "[2025-06-25 15:10:26 INFO] Uploaded file OREGON_STATE_PRISM_012013_20241101_20241201_PPT.tif to aws bucket ose-dev-inputs\n"
     ]
    },
    {
     "name": "stderr",
     "output_type": "stream",
     "text": [
      "Uploading file: OREGON_STATE_PRISM_012013_20241101_20241201_PPT.tif:  30%|███       | 73/240 [00:13<00:23,  7.25it/s]"
     ]
    },
    {
     "name": "stdout",
     "output_type": "stream",
     "text": [
      "[2025-06-25 15:10:26 INFO] Uploaded file OREGON_STATE_PRISM_009013_20241101_20241201_PPT.tif to aws bucket ose-dev-inputs\n"
     ]
    },
    {
     "name": "stderr",
     "output_type": "stream",
     "text": [
      "Uploading file: OREGON_STATE_PRISM_009013_20241101_20241201_PPT.tif:  31%|███       | 74/240 [00:13<00:22,  7.35it/s]"
     ]
    },
    {
     "name": "stdout",
     "output_type": "stream",
     "text": [
      "[2025-06-25 15:10:27 INFO] Uploaded file OREGON_STATE_PRISM_011013_20240801_20240901_PPT.tif to aws bucket ose-dev-inputs\n"
     ]
    },
    {
     "name": "stderr",
     "output_type": "stream",
     "text": [
      "Uploading file: OREGON_STATE_PRISM_011013_20240801_20240901_PPT.tif:  31%|███▏      | 75/240 [00:13<00:22,  7.40it/s]"
     ]
    },
    {
     "name": "stdout",
     "output_type": "stream",
     "text": [
      "[2025-06-25 15:10:27 INFO] Uploaded file OREGON_STATE_PRISM_010012_20241001_20241101_PPT.tif to aws bucket ose-dev-inputs\n"
     ]
    },
    {
     "name": "stderr",
     "output_type": "stream",
     "text": [
      "Uploading file: OREGON_STATE_PRISM_010012_20241001_20241101_PPT.tif:  32%|███▏      | 76/240 [00:13<00:21,  7.47it/s]"
     ]
    },
    {
     "name": "stdout",
     "output_type": "stream",
     "text": [
      "[2025-06-25 15:10:27 INFO] Uploaded file OREGON_STATE_PRISM_010013_20240201_20240301_PPT.tif to aws bucket ose-dev-inputs\n"
     ]
    },
    {
     "name": "stderr",
     "output_type": "stream",
     "text": [
      "Uploading file: OREGON_STATE_PRISM_010013_20240201_20240301_PPT.tif:  32%|███▏      | 77/240 [00:13<00:22,  7.38it/s]"
     ]
    },
    {
     "name": "stdout",
     "output_type": "stream",
     "text": [
      "[2025-06-25 15:10:27 INFO] Uploaded file OREGON_STATE_PRISM_012015_20240901_20241001_PPT.tif to aws bucket ose-dev-inputs\n"
     ]
    },
    {
     "name": "stderr",
     "output_type": "stream",
     "text": [
      "Uploading file: OREGON_STATE_PRISM_012015_20240901_20241001_PPT.tif:  32%|███▎      | 78/240 [00:14<00:21,  7.39it/s]"
     ]
    },
    {
     "name": "stdout",
     "output_type": "stream",
     "text": [
      "[2025-06-25 15:10:27 INFO] Uploaded file OREGON_STATE_PRISM_011014_20241101_20241201_PPT.tif to aws bucket ose-dev-inputs\n"
     ]
    },
    {
     "name": "stderr",
     "output_type": "stream",
     "text": [
      "Uploading file: OREGON_STATE_PRISM_011014_20241101_20241201_PPT.tif:  33%|███▎      | 79/240 [00:14<00:22,  7.29it/s]"
     ]
    },
    {
     "name": "stdout",
     "output_type": "stream",
     "text": [
      "[2025-06-25 15:10:27 INFO] Uploaded file OREGON_STATE_PRISM_009014_20240801_20240901_PPT.tif to aws bucket ose-dev-inputs\n"
     ]
    },
    {
     "name": "stderr",
     "output_type": "stream",
     "text": [
      "Uploading file: OREGON_STATE_PRISM_009014_20240801_20240901_PPT.tif:  33%|███▎      | 80/240 [00:14<00:22,  7.18it/s]"
     ]
    },
    {
     "name": "stdout",
     "output_type": "stream",
     "text": [
      "[2025-06-25 15:10:27 INFO] Uploaded file OREGON_STATE_PRISM_010013_20240601_20240701_PPT.tif to aws bucket ose-dev-inputs\n"
     ]
    },
    {
     "name": "stderr",
     "output_type": "stream",
     "text": [
      "Uploading file: OREGON_STATE_PRISM_010013_20240601_20240701_PPT.tif:  34%|███▍      | 81/240 [00:14<00:21,  7.33it/s]"
     ]
    },
    {
     "name": "stdout",
     "output_type": "stream",
     "text": [
      "[2025-06-25 15:10:28 INFO] Uploaded file OREGON_STATE_PRISM_012014_20240801_20240901_PPT.tif to aws bucket ose-dev-inputs\n"
     ]
    },
    {
     "name": "stderr",
     "output_type": "stream",
     "text": [
      "Uploading file: OREGON_STATE_PRISM_012014_20240801_20240901_PPT.tif:  34%|███▍      | 82/240 [00:14<00:21,  7.35it/s]"
     ]
    },
    {
     "name": "stdout",
     "output_type": "stream",
     "text": [
      "[2025-06-25 15:10:28 INFO] Uploaded file OREGON_STATE_PRISM_009015_20240901_20241001_PPT.tif to aws bucket ose-dev-inputs\n"
     ]
    },
    {
     "name": "stderr",
     "output_type": "stream",
     "text": [
      "Uploading file: OREGON_STATE_PRISM_009015_20240901_20241001_PPT.tif:  35%|███▍      | 83/240 [00:14<00:21,  7.38it/s]"
     ]
    },
    {
     "name": "stdout",
     "output_type": "stream",
     "text": [
      "[2025-06-25 15:10:28 INFO] Uploaded file OREGON_STATE_PRISM_010014_20241201_20250101_PPT.tif to aws bucket ose-dev-inputs\n"
     ]
    },
    {
     "name": "stderr",
     "output_type": "stream",
     "text": [
      "Uploading file: OREGON_STATE_PRISM_010014_20241201_20250101_PPT.tif:  35%|███▌      | 84/240 [00:14<00:20,  7.50it/s]"
     ]
    },
    {
     "name": "stdout",
     "output_type": "stream",
     "text": [
      "[2025-06-25 15:10:28 INFO] Uploaded file OREGON_STATE_PRISM_010013_20241201_20250101_PPT.tif to aws bucket ose-dev-inputs\n"
     ]
    },
    {
     "name": "stderr",
     "output_type": "stream",
     "text": [
      "Uploading file: OREGON_STATE_PRISM_010013_20241201_20250101_PPT.tif:  35%|███▌      | 85/240 [00:14<00:20,  7.59it/s]"
     ]
    },
    {
     "name": "stdout",
     "output_type": "stream",
     "text": [
      "[2025-06-25 15:10:28 INFO] Uploaded file OREGON_STATE_PRISM_010011_20240501_20240601_PPT.tif to aws bucket ose-dev-inputs\n"
     ]
    },
    {
     "name": "stderr",
     "output_type": "stream",
     "text": [
      "Uploading file: OREGON_STATE_PRISM_010011_20240501_20240601_PPT.tif:  36%|███▌      | 86/240 [00:15<00:20,  7.61it/s]"
     ]
    },
    {
     "name": "stdout",
     "output_type": "stream",
     "text": [
      "[2025-06-25 15:10:28 INFO] Uploaded file OREGON_STATE_PRISM_010014_20240601_20240701_PPT.tif to aws bucket ose-dev-inputs\n"
     ]
    },
    {
     "name": "stderr",
     "output_type": "stream",
     "text": [
      "Uploading file: OREGON_STATE_PRISM_010014_20240601_20240701_PPT.tif:  36%|███▋      | 87/240 [00:15<00:21,  7.13it/s]"
     ]
    },
    {
     "name": "stdout",
     "output_type": "stream",
     "text": [
      "[2025-06-25 15:10:28 INFO] Uploaded file OREGON_STATE_PRISM_009012_20240901_20241001_PPT.tif to aws bucket ose-dev-inputs\n"
     ]
    },
    {
     "name": "stderr",
     "output_type": "stream",
     "text": [
      "Uploading file: OREGON_STATE_PRISM_009012_20240901_20241001_PPT.tif:  37%|███▋      | 88/240 [00:15<00:20,  7.36it/s]"
     ]
    },
    {
     "name": "stdout",
     "output_type": "stream",
     "text": [
      "[2025-06-25 15:10:28 INFO] Uploaded file OREGON_STATE_PRISM_012013_20240801_20240901_PPT.tif to aws bucket ose-dev-inputs\n"
     ]
    },
    {
     "name": "stderr",
     "output_type": "stream",
     "text": [
      "Uploading file: OREGON_STATE_PRISM_012013_20240801_20240901_PPT.tif:  37%|███▋      | 89/240 [00:15<00:20,  7.52it/s]"
     ]
    },
    {
     "name": "stdout",
     "output_type": "stream",
     "text": [
      "[2025-06-25 15:10:29 INFO] Uploaded file OREGON_STATE_PRISM_009013_20240801_20240901_PPT.tif to aws bucket ose-dev-inputs\n"
     ]
    },
    {
     "name": "stderr",
     "output_type": "stream",
     "text": [
      "Uploading file: OREGON_STATE_PRISM_009013_20240801_20240901_PPT.tif:  38%|███▊      | 90/240 [00:15<00:19,  7.63it/s]"
     ]
    },
    {
     "name": "stdout",
     "output_type": "stream",
     "text": [
      "[2025-06-25 15:10:29 INFO] Uploaded file OREGON_STATE_PRISM_010011_20240101_20240201_PPT.tif to aws bucket ose-dev-inputs\n"
     ]
    },
    {
     "name": "stderr",
     "output_type": "stream",
     "text": [
      "Uploading file: OREGON_STATE_PRISM_010011_20240101_20240201_PPT.tif:  38%|███▊      | 91/240 [00:15<00:19,  7.67it/s]"
     ]
    },
    {
     "name": "stdout",
     "output_type": "stream",
     "text": [
      "[2025-06-25 15:10:29 INFO] Uploaded file OREGON_STATE_PRISM_011013_20241101_20241201_PPT.tif to aws bucket ose-dev-inputs\n"
     ]
    },
    {
     "name": "stderr",
     "output_type": "stream",
     "text": [
      "Uploading file: OREGON_STATE_PRISM_011013_20241101_20241201_PPT.tif:  38%|███▊      | 92/240 [00:15<00:19,  7.71it/s]"
     ]
    },
    {
     "name": "stdout",
     "output_type": "stream",
     "text": [
      "[2025-06-25 15:10:29 INFO] Uploaded file OREGON_STATE_PRISM_012012_20240901_20241001_PPT.tif to aws bucket ose-dev-inputs\n"
     ]
    },
    {
     "name": "stderr",
     "output_type": "stream",
     "text": [
      "Uploading file: OREGON_STATE_PRISM_012012_20240901_20241001_PPT.tif:  39%|███▉      | 93/240 [00:16<00:19,  7.66it/s]"
     ]
    },
    {
     "name": "stdout",
     "output_type": "stream",
     "text": [
      "[2025-06-25 15:10:29 INFO] Uploaded file OREGON_STATE_PRISM_010014_20240201_20240301_PPT.tif to aws bucket ose-dev-inputs\n"
     ]
    },
    {
     "name": "stderr",
     "output_type": "stream",
     "text": [
      "Uploading file: OREGON_STATE_PRISM_010014_20240201_20240301_PPT.tif:  39%|███▉      | 94/240 [00:16<00:20,  7.24it/s]"
     ]
    },
    {
     "name": "stdout",
     "output_type": "stream",
     "text": [
      "[2025-06-25 15:10:29 INFO] Uploaded file OREGON_STATE_PRISM_010015_20241001_20241101_PPT.tif to aws bucket ose-dev-inputs\n"
     ]
    },
    {
     "name": "stderr",
     "output_type": "stream",
     "text": [
      "Uploading file: OREGON_STATE_PRISM_010015_20241001_20241101_PPT.tif:  40%|███▉      | 95/240 [00:16<00:19,  7.39it/s]"
     ]
    },
    {
     "name": "stdout",
     "output_type": "stream",
     "text": [
      "[2025-06-25 15:10:29 INFO] Uploaded file OREGON_STATE_PRISM_011014_20240801_20240901_PPT.tif to aws bucket ose-dev-inputs\n"
     ]
    },
    {
     "name": "stderr",
     "output_type": "stream",
     "text": [
      "Uploading file: OREGON_STATE_PRISM_011014_20240801_20240901_PPT.tif:  40%|████      | 96/240 [00:16<00:19,  7.40it/s]"
     ]
    },
    {
     "name": "stdout",
     "output_type": "stream",
     "text": [
      "[2025-06-25 15:10:30 INFO] Uploaded file OREGON_STATE_PRISM_009014_20241101_20241201_PPT.tif to aws bucket ose-dev-inputs\n"
     ]
    },
    {
     "name": "stderr",
     "output_type": "stream",
     "text": [
      "Uploading file: OREGON_STATE_PRISM_009014_20241101_20241201_PPT.tif:  40%|████      | 97/240 [00:16<00:19,  7.50it/s]"
     ]
    },
    {
     "name": "stdout",
     "output_type": "stream",
     "text": [
      "[2025-06-25 15:10:30 INFO] Uploaded file OREGON_STATE_PRISM_012014_20241101_20241201_PPT.tif to aws bucket ose-dev-inputs\n"
     ]
    },
    {
     "name": "stderr",
     "output_type": "stream",
     "text": [
      "Uploading file: OREGON_STATE_PRISM_012014_20241101_20241201_PPT.tif:  41%|████      | 98/240 [00:16<00:18,  7.49it/s]"
     ]
    },
    {
     "name": "stdout",
     "output_type": "stream",
     "text": [
      "[2025-06-25 15:10:30 INFO] Uploaded file OREGON_STATE_PRISM_011015_20240901_20241001_PPT.tif to aws bucket ose-dev-inputs\n"
     ]
    },
    {
     "name": "stderr",
     "output_type": "stream",
     "text": [
      "Uploading file: OREGON_STATE_PRISM_011015_20240901_20241001_PPT.tif:  41%|████▏     | 99/240 [00:16<00:18,  7.48it/s]"
     ]
    },
    {
     "name": "stdout",
     "output_type": "stream",
     "text": [
      "[2025-06-25 15:10:30 INFO] Uploaded file OREGON_STATE_PRISM_010011_20240701_20240801_PPT.tif to aws bucket ose-dev-inputs\n"
     ]
    },
    {
     "name": "stderr",
     "output_type": "stream",
     "text": [
      "Uploading file: OREGON_STATE_PRISM_010011_20240701_20240801_PPT.tif:  42%|████▏     | 100/240 [00:16<00:18,  7.50it/s]"
     ]
    },
    {
     "name": "stdout",
     "output_type": "stream",
     "text": [
      "[2025-06-25 15:10:30 INFO] Uploaded file OREGON_STATE_PRISM_009013_20241001_20241101_PPT.tif to aws bucket ose-dev-inputs\n"
     ]
    },
    {
     "name": "stderr",
     "output_type": "stream",
     "text": [
      "Uploading file: OREGON_STATE_PRISM_009013_20241001_20241101_PPT.tif:  42%|████▏     | 101/240 [00:17<00:24,  5.74it/s]"
     ]
    },
    {
     "name": "stdout",
     "output_type": "stream",
     "text": [
      "[2025-06-25 15:10:30 INFO] Uploaded file OREGON_STATE_PRISM_011011_20240301_20240401_PPT.tif to aws bucket ose-dev-inputs\n"
     ]
    },
    {
     "name": "stderr",
     "output_type": "stream",
     "text": [
      "Uploading file: OREGON_STATE_PRISM_011011_20240301_20240401_PPT.tif:  42%|████▎     | 102/240 [00:17<00:22,  6.04it/s]"
     ]
    },
    {
     "name": "stdout",
     "output_type": "stream",
     "text": [
      "[2025-06-25 15:10:30 INFO] Uploaded file OREGON_STATE_PRISM_010012_20241101_20241201_PPT.tif to aws bucket ose-dev-inputs\n"
     ]
    },
    {
     "name": "stderr",
     "output_type": "stream",
     "text": [
      "Uploading file: OREGON_STATE_PRISM_010012_20241101_20241201_PPT.tif:  43%|████▎     | 103/240 [00:17<00:21,  6.30it/s]"
     ]
    },
    {
     "name": "stdout",
     "output_type": "stream",
     "text": [
      "[2025-06-25 15:10:31 INFO] Uploaded file OREGON_STATE_PRISM_011015_20240201_20240301_PPT.tif to aws bucket ose-dev-inputs\n"
     ]
    },
    {
     "name": "stderr",
     "output_type": "stream",
     "text": [
      "Uploading file: OREGON_STATE_PRISM_011015_20240201_20240301_PPT.tif:  43%|████▎     | 104/240 [00:17<00:21,  6.45it/s]"
     ]
    },
    {
     "name": "stdout",
     "output_type": "stream",
     "text": [
      "[2025-06-25 15:10:31 INFO] Uploaded file OREGON_STATE_PRISM_011012_20241201_20250101_PPT.tif to aws bucket ose-dev-inputs\n"
     ]
    },
    {
     "name": "stderr",
     "output_type": "stream",
     "text": [
      "Uploading file: OREGON_STATE_PRISM_011012_20241201_20250101_PPT.tif:  44%|████▍     | 105/240 [00:17<00:20,  6.61it/s]"
     ]
    },
    {
     "name": "stdout",
     "output_type": "stream",
     "text": [
      "[2025-06-25 15:10:31 INFO] Uploaded file OREGON_STATE_PRISM_011015_20240601_20240701_PPT.tif to aws bucket ose-dev-inputs\n"
     ]
    },
    {
     "name": "stderr",
     "output_type": "stream",
     "text": [
      "Uploading file: OREGON_STATE_PRISM_011015_20240601_20240701_PPT.tif:  44%|████▍     | 106/240 [00:17<00:19,  6.73it/s]"
     ]
    },
    {
     "name": "stdout",
     "output_type": "stream",
     "text": [
      "[2025-06-25 15:10:31 INFO] Uploaded file OREGON_STATE_PRISM_012013_20241001_20241101_PPT.tif to aws bucket ose-dev-inputs\n"
     ]
    },
    {
     "name": "stderr",
     "output_type": "stream",
     "text": [
      "Uploading file: OREGON_STATE_PRISM_012013_20241001_20241101_PPT.tif:  45%|████▍     | 107/240 [00:18<00:19,  6.81it/s]"
     ]
    },
    {
     "name": "stdout",
     "output_type": "stream",
     "text": [
      "[2025-06-25 15:10:31 INFO] Uploaded file OREGON_STATE_PRISM_009012_20240601_20240701_PPT.tif to aws bucket ose-dev-inputs\n"
     ]
    },
    {
     "name": "stderr",
     "output_type": "stream",
     "text": [
      "Uploading file: OREGON_STATE_PRISM_009012_20240601_20240701_PPT.tif:  45%|████▌     | 108/240 [00:18<00:19,  6.83it/s]"
     ]
    },
    {
     "name": "stdout",
     "output_type": "stream",
     "text": [
      "[2025-06-25 15:10:31 INFO] Uploaded file OREGON_STATE_PRISM_010014_20240901_20241001_PPT.tif to aws bucket ose-dev-inputs\n"
     ]
    },
    {
     "name": "stderr",
     "output_type": "stream",
     "text": [
      "Uploading file: OREGON_STATE_PRISM_010014_20240901_20241001_PPT.tif:  45%|████▌     | 109/240 [00:18<00:19,  6.85it/s]"
     ]
    },
    {
     "name": "stdout",
     "output_type": "stream",
     "text": [
      "[2025-06-25 15:10:31 INFO] Uploaded file OREGON_STATE_PRISM_009015_20241201_20250101_PPT.tif to aws bucket ose-dev-inputs\n"
     ]
    },
    {
     "name": "stderr",
     "output_type": "stream",
     "text": [
      "Uploading file: OREGON_STATE_PRISM_009015_20241201_20250101_PPT.tif:  46%|████▌     | 110/240 [00:18<00:18,  6.99it/s]"
     ]
    },
    {
     "name": "stdout",
     "output_type": "stream",
     "text": [
      "[2025-06-25 15:10:32 INFO] Uploaded file OREGON_STATE_PRISM_012012_20240201_20240301_PPT.tif to aws bucket ose-dev-inputs\n"
     ]
    },
    {
     "name": "stderr",
     "output_type": "stream",
     "text": [
      "Uploading file: OREGON_STATE_PRISM_012012_20240201_20240301_PPT.tif:  46%|████▋     | 111/240 [00:18<00:19,  6.64it/s]"
     ]
    },
    {
     "name": "stdout",
     "output_type": "stream",
     "text": [
      "[2025-06-25 15:10:32 INFO] Uploaded file OREGON_STATE_PRISM_012015_20241201_20250101_PPT.tif to aws bucket ose-dev-inputs\n"
     ]
    },
    {
     "name": "stderr",
     "output_type": "stream",
     "text": [
      "Uploading file: OREGON_STATE_PRISM_012015_20241201_20250101_PPT.tif:  47%|████▋     | 112/240 [00:18<00:19,  6.73it/s]"
     ]
    },
    {
     "name": "stdout",
     "output_type": "stream",
     "text": [
      "[2025-06-25 15:10:32 INFO] Uploaded file OREGON_STATE_PRISM_009012_20240201_20240301_PPT.tif to aws bucket ose-dev-inputs\n"
     ]
    },
    {
     "name": "stderr",
     "output_type": "stream",
     "text": [
      "Uploading file: OREGON_STATE_PRISM_009012_20240201_20240301_PPT.tif:  47%|████▋     | 113/240 [00:19<00:19,  6.47it/s]"
     ]
    },
    {
     "name": "stdout",
     "output_type": "stream",
     "text": [
      "[2025-06-25 15:10:32 INFO] Uploaded file OREGON_STATE_PRISM_012012_20240601_20240701_PPT.tif to aws bucket ose-dev-inputs\n"
     ]
    },
    {
     "name": "stderr",
     "output_type": "stream",
     "text": [
      "Uploading file: OREGON_STATE_PRISM_012012_20240601_20240701_PPT.tif:  48%|████▊     | 114/240 [00:19<00:19,  6.58it/s]"
     ]
    },
    {
     "name": "stdout",
     "output_type": "stream",
     "text": [
      "[2025-06-25 15:10:32 INFO] Uploaded file OREGON_STATE_PRISM_011014_20241001_20241101_PPT.tif to aws bucket ose-dev-inputs\n"
     ]
    },
    {
     "name": "stderr",
     "output_type": "stream",
     "text": [
      "Uploading file: OREGON_STATE_PRISM_011014_20241001_20241101_PPT.tif:  48%|████▊     | 115/240 [00:19<00:18,  6.66it/s]"
     ]
    },
    {
     "name": "stdout",
     "output_type": "stream",
     "text": [
      "[2025-06-25 15:10:32 INFO] Uploaded file OREGON_STATE_PRISM_010015_20240801_20240901_PPT.tif to aws bucket ose-dev-inputs\n"
     ]
    },
    {
     "name": "stderr",
     "output_type": "stream",
     "text": [
      "Uploading file: OREGON_STATE_PRISM_010015_20240801_20240901_PPT.tif:  48%|████▊     | 116/240 [00:19<00:18,  6.76it/s]"
     ]
    },
    {
     "name": "stdout",
     "output_type": "stream",
     "text": [
      "[2025-06-25 15:10:33 INFO] Uploaded file OREGON_STATE_PRISM_010015_20240901_20241001_PPT.tif to aws bucket ose-dev-inputs\n"
     ]
    },
    {
     "name": "stderr",
     "output_type": "stream",
     "text": [
      "Uploading file: OREGON_STATE_PRISM_010015_20240901_20241001_PPT.tif:  49%|████▉     | 117/240 [00:19<00:17,  6.90it/s]"
     ]
    },
    {
     "name": "stdout",
     "output_type": "stream",
     "text": [
      "[2025-06-25 15:10:33 INFO] Uploaded file OREGON_STATE_PRISM_009013_20240601_20240701_PPT.tif to aws bucket ose-dev-inputs\n"
     ]
    },
    {
     "name": "stderr",
     "output_type": "stream",
     "text": [
      "Uploading file: OREGON_STATE_PRISM_009013_20240601_20240701_PPT.tif:  49%|████▉     | 118/240 [00:19<00:17,  6.94it/s]"
     ]
    },
    {
     "name": "stdout",
     "output_type": "stream",
     "text": [
      "[2025-06-25 15:10:33 INFO] Uploaded file OREGON_STATE_PRISM_012013_20240201_20240301_PPT.tif to aws bucket ose-dev-inputs\n"
     ]
    },
    {
     "name": "stderr",
     "output_type": "stream",
     "text": [
      "Uploading file: OREGON_STATE_PRISM_012013_20240201_20240301_PPT.tif:  50%|████▉     | 119/240 [00:19<00:17,  6.94it/s]"
     ]
    },
    {
     "name": "stdout",
     "output_type": "stream",
     "text": [
      "[2025-06-25 15:10:33 INFO] Uploaded file OREGON_STATE_PRISM_011011_20240701_20240801_PPT.tif to aws bucket ose-dev-inputs\n"
     ]
    },
    {
     "name": "stderr",
     "output_type": "stream",
     "text": [
      "Uploading file: OREGON_STATE_PRISM_011011_20240701_20240801_PPT.tif:  50%|█████     | 120/240 [00:20<00:17,  6.99it/s]"
     ]
    },
    {
     "name": "stdout",
     "output_type": "stream",
     "text": [
      "[2025-06-25 15:10:33 INFO] Uploaded file OREGON_STATE_PRISM_009014_20241201_20250101_PPT.tif to aws bucket ose-dev-inputs\n"
     ]
    },
    {
     "name": "stderr",
     "output_type": "stream",
     "text": [
      "Uploading file: OREGON_STATE_PRISM_009014_20241201_20250101_PPT.tif:  50%|█████     | 121/240 [00:20<00:16,  7.02it/s]"
     ]
    },
    {
     "name": "stdout",
     "output_type": "stream",
     "text": [
      "[2025-06-25 15:10:33 INFO] Uploaded file OREGON_STATE_PRISM_009013_20240201_20240301_PPT.tif to aws bucket ose-dev-inputs\n"
     ]
    },
    {
     "name": "stderr",
     "output_type": "stream",
     "text": [
      "Uploading file: OREGON_STATE_PRISM_009013_20240201_20240301_PPT.tif:  51%|█████     | 122/240 [00:20<00:17,  6.86it/s]"
     ]
    },
    {
     "name": "stdout",
     "output_type": "stream",
     "text": [
      "[2025-06-25 15:10:33 INFO] Uploaded file OREGON_STATE_PRISM_012014_20241201_20250101_PPT.tif to aws bucket ose-dev-inputs\n"
     ]
    },
    {
     "name": "stderr",
     "output_type": "stream",
     "text": [
      "Uploading file: OREGON_STATE_PRISM_012014_20241201_20250101_PPT.tif:  51%|█████▏    | 123/240 [00:20<00:18,  6.48it/s]"
     ]
    },
    {
     "name": "stdout",
     "output_type": "stream",
     "text": [
      "[2025-06-25 15:10:34 INFO] Uploaded file OREGON_STATE_PRISM_011015_20241001_20241101_PPT.tif to aws bucket ose-dev-inputs\n"
     ]
    },
    {
     "name": "stderr",
     "output_type": "stream",
     "text": [
      "Uploading file: OREGON_STATE_PRISM_011015_20241001_20241101_PPT.tif:  52%|█████▏    | 124/240 [00:20<00:17,  6.45it/s]"
     ]
    },
    {
     "name": "stdout",
     "output_type": "stream",
     "text": [
      "[2025-06-25 15:10:34 INFO] Uploaded file OREGON_STATE_PRISM_010014_20240801_20240901_PPT.tif to aws bucket ose-dev-inputs\n"
     ]
    },
    {
     "name": "stderr",
     "output_type": "stream",
     "text": [
      "Uploading file: OREGON_STATE_PRISM_010014_20240801_20240901_PPT.tif:  52%|█████▏    | 125/240 [00:20<00:18,  6.15it/s]"
     ]
    },
    {
     "name": "stdout",
     "output_type": "stream",
     "text": [
      "[2025-06-25 15:10:34 INFO] Uploaded file OREGON_STATE_PRISM_012013_20240601_20240701_PPT.tif to aws bucket ose-dev-inputs\n"
     ]
    },
    {
     "name": "stderr",
     "output_type": "stream",
     "text": [
      "Uploading file: OREGON_STATE_PRISM_012013_20240601_20240701_PPT.tif:  52%|█████▎    | 126/240 [00:20<00:18,  6.20it/s]"
     ]
    },
    {
     "name": "stdout",
     "output_type": "stream",
     "text": [
      "[2025-06-25 15:10:34 INFO] Uploaded file OREGON_STATE_PRISM_009012_20241001_20241101_PPT.tif to aws bucket ose-dev-inputs\n"
     ]
    },
    {
     "name": "stderr",
     "output_type": "stream",
     "text": [
      "Uploading file: OREGON_STATE_PRISM_009012_20241001_20241101_PPT.tif:  53%|█████▎    | 127/240 [00:21<00:17,  6.38it/s]"
     ]
    },
    {
     "name": "stdout",
     "output_type": "stream",
     "text": [
      "[2025-06-25 15:10:34 INFO] Uploaded file OREGON_STATE_PRISM_011011_20240101_20240201_PPT.tif to aws bucket ose-dev-inputs\n"
     ]
    },
    {
     "name": "stderr",
     "output_type": "stream",
     "text": [
      "Uploading file: OREGON_STATE_PRISM_011011_20240101_20240201_PPT.tif:  53%|█████▎    | 128/240 [00:21<00:21,  5.27it/s]"
     ]
    },
    {
     "name": "stdout",
     "output_type": "stream",
     "text": [
      "[2025-06-25 15:10:35 INFO] Uploaded file OREGON_STATE_PRISM_010013_20241101_20241201_PPT.tif to aws bucket ose-dev-inputs\n"
     ]
    },
    {
     "name": "stderr",
     "output_type": "stream",
     "text": [
      "Uploading file: OREGON_STATE_PRISM_010013_20241101_20241201_PPT.tif:  54%|█████▍    | 129/240 [00:21<00:31,  3.55it/s]"
     ]
    },
    {
     "name": "stdout",
     "output_type": "stream",
     "text": [
      "[2025-06-25 15:10:35 INFO] Uploaded file OREGON_STATE_PRISM_011014_20240201_20240301_PPT.tif to aws bucket ose-dev-inputs\n"
     ]
    },
    {
     "name": "stderr",
     "output_type": "stream",
     "text": [
      "Uploading file: OREGON_STATE_PRISM_011014_20240201_20240301_PPT.tif:  54%|█████▍    | 130/240 [00:22<00:36,  3.02it/s]"
     ]
    },
    {
     "name": "stdout",
     "output_type": "stream",
     "text": [
      "[2025-06-25 15:10:36 INFO] Uploaded file OREGON_STATE_PRISM_011013_20241201_20250101_PPT.tif to aws bucket ose-dev-inputs\n"
     ]
    },
    {
     "name": "stderr",
     "output_type": "stream",
     "text": [
      "Uploading file: OREGON_STATE_PRISM_011013_20241201_20250101_PPT.tif:  55%|█████▍    | 131/240 [00:22<00:41,  2.61it/s]"
     ]
    },
    {
     "name": "stdout",
     "output_type": "stream",
     "text": [
      "[2025-06-25 15:10:36 INFO] Uploaded file OREGON_STATE_PRISM_011011_20240501_20240601_PPT.tif to aws bucket ose-dev-inputs\n"
     ]
    },
    {
     "name": "stderr",
     "output_type": "stream",
     "text": [
      "Uploading file: OREGON_STATE_PRISM_011011_20240501_20240601_PPT.tif:  55%|█████▌    | 132/240 [00:23<00:46,  2.34it/s]"
     ]
    },
    {
     "name": "stdout",
     "output_type": "stream",
     "text": [
      "[2025-06-25 15:10:37 INFO] Uploaded file OREGON_STATE_PRISM_012012_20241001_20241101_PPT.tif to aws bucket ose-dev-inputs\n"
     ]
    },
    {
     "name": "stderr",
     "output_type": "stream",
     "text": [
      "Uploading file: OREGON_STATE_PRISM_012012_20241001_20241101_PPT.tif:  55%|█████▌    | 133/240 [00:23<00:51,  2.06it/s]"
     ]
    },
    {
     "name": "stdout",
     "output_type": "stream",
     "text": [
      "[2025-06-25 15:10:37 INFO] Uploaded file OREGON_STATE_PRISM_011014_20240601_20240701_PPT.tif to aws bucket ose-dev-inputs\n"
     ]
    },
    {
     "name": "stderr",
     "output_type": "stream",
     "text": [
      "Uploading file: OREGON_STATE_PRISM_011014_20240601_20240701_PPT.tif:  56%|█████▌    | 134/240 [00:24<00:51,  2.05it/s]"
     ]
    },
    {
     "name": "stdout",
     "output_type": "stream",
     "text": [
      "[2025-06-25 15:10:38 INFO] Uploaded file OREGON_STATE_PRISM_010014_20241001_20241101_PPT.tif to aws bucket ose-dev-inputs\n"
     ]
    },
    {
     "name": "stderr",
     "output_type": "stream",
     "text": [
      "Uploading file: OREGON_STATE_PRISM_010014_20241001_20241101_PPT.tif:  56%|█████▋    | 135/240 [00:24<00:47,  2.21it/s]"
     ]
    },
    {
     "name": "stdout",
     "output_type": "stream",
     "text": [
      "[2025-06-25 15:10:38 INFO] Uploaded file OREGON_STATE_PRISM_011015_20240801_20240901_PPT.tif to aws bucket ose-dev-inputs\n"
     ]
    },
    {
     "name": "stderr",
     "output_type": "stream",
     "text": [
      "Uploading file: OREGON_STATE_PRISM_011015_20240801_20240901_PPT.tif:  57%|█████▋    | 136/240 [00:25<00:42,  2.42it/s]"
     ]
    },
    {
     "name": "stdout",
     "output_type": "stream",
     "text": [
      "[2025-06-25 15:10:38 INFO] Uploaded file OREGON_STATE_PRISM_009015_20241101_20241201_PPT.tif to aws bucket ose-dev-inputs\n"
     ]
    },
    {
     "name": "stderr",
     "output_type": "stream",
     "text": [
      "Uploading file: OREGON_STATE_PRISM_009015_20241101_20241201_PPT.tif:  57%|█████▋    | 137/240 [00:25<00:34,  3.00it/s]"
     ]
    },
    {
     "name": "stdout",
     "output_type": "stream",
     "text": [
      "[2025-06-25 15:10:38 INFO] Uploaded file OREGON_STATE_PRISM_011014_20240901_20241001_PPT.tif to aws bucket ose-dev-inputs\n"
     ]
    },
    {
     "name": "stderr",
     "output_type": "stream",
     "text": [
      "Uploading file: OREGON_STATE_PRISM_011014_20240901_20241001_PPT.tif:  57%|█████▊    | 138/240 [00:25<00:28,  3.62it/s]"
     ]
    },
    {
     "name": "stdout",
     "output_type": "stream",
     "text": [
      "[2025-06-25 15:10:39 INFO] Uploaded file OREGON_STATE_PRISM_012015_20241101_20241201_PPT.tif to aws bucket ose-dev-inputs\n"
     ]
    },
    {
     "name": "stderr",
     "output_type": "stream",
     "text": [
      "Uploading file: OREGON_STATE_PRISM_012015_20241101_20241201_PPT.tif:  58%|█████▊    | 139/240 [00:25<00:23,  4.25it/s]"
     ]
    },
    {
     "name": "stdout",
     "output_type": "stream",
     "text": [
      "[2025-06-25 15:10:39 INFO] Uploaded file OREGON_STATE_PRISM_009011_20240401_20240501_PPT.tif to aws bucket ose-dev-inputs\n"
     ]
    },
    {
     "name": "stderr",
     "output_type": "stream",
     "text": [
      "Uploading file: OREGON_STATE_PRISM_009011_20240401_20240501_PPT.tif:  58%|█████▊    | 140/240 [00:25<00:20,  4.85it/s]"
     ]
    },
    {
     "name": "stdout",
     "output_type": "stream",
     "text": [
      "[2025-06-25 15:10:39 INFO] Uploaded file OREGON_STATE_PRISM_010012_20241201_20250101_PPT.tif to aws bucket ose-dev-inputs\n"
     ]
    },
    {
     "name": "stderr",
     "output_type": "stream",
     "text": [
      "Uploading file: OREGON_STATE_PRISM_010012_20241201_20250101_PPT.tif:  59%|█████▉    | 141/240 [00:25<00:18,  5.36it/s]"
     ]
    },
    {
     "name": "stdout",
     "output_type": "stream",
     "text": [
      "[2025-06-25 15:10:39 INFO] Uploaded file OREGON_STATE_PRISM_012012_20240801_20240901_PPT.tif to aws bucket ose-dev-inputs\n"
     ]
    },
    {
     "name": "stderr",
     "output_type": "stream",
     "text": [
      "Uploading file: OREGON_STATE_PRISM_012012_20240801_20240901_PPT.tif:  59%|█████▉    | 142/240 [00:26<00:16,  5.81it/s]"
     ]
    },
    {
     "name": "stdout",
     "output_type": "stream",
     "text": [
      "[2025-06-25 15:10:39 INFO] Uploaded file OREGON_STATE_PRISM_009013_20240901_20241001_PPT.tif to aws bucket ose-dev-inputs\n"
     ]
    },
    {
     "name": "stderr",
     "output_type": "stream",
     "text": [
      "Uploading file: OREGON_STATE_PRISM_009013_20240901_20241001_PPT.tif:  60%|█████▉    | 143/240 [00:26<00:15,  6.07it/s]"
     ]
    },
    {
     "name": "stdout",
     "output_type": "stream",
     "text": [
      "[2025-06-25 15:10:39 INFO] Uploaded file OREGON_STATE_PRISM_010015_20240601_20240701_PPT.tif to aws bucket ose-dev-inputs\n"
     ]
    },
    {
     "name": "stderr",
     "output_type": "stream",
     "text": [
      "Uploading file: OREGON_STATE_PRISM_010015_20240601_20240701_PPT.tif:  60%|██████    | 144/240 [00:26<00:15,  6.35it/s]"
     ]
    },
    {
     "name": "stdout",
     "output_type": "stream",
     "text": [
      "[2025-06-25 15:10:39 INFO] Uploaded file OREGON_STATE_PRISM_012013_20240901_20241001_PPT.tif to aws bucket ose-dev-inputs\n"
     ]
    },
    {
     "name": "stderr",
     "output_type": "stream",
     "text": [
      "Uploading file: OREGON_STATE_PRISM_012013_20240901_20241001_PPT.tif:  60%|██████    | 145/240 [00:26<00:14,  6.53it/s]"
     ]
    },
    {
     "name": "stdout",
     "output_type": "stream",
     "text": [
      "[2025-06-25 15:10:40 INFO] Uploaded file OREGON_STATE_PRISM_009012_20240801_20240901_PPT.tif to aws bucket ose-dev-inputs\n"
     ]
    },
    {
     "name": "stderr",
     "output_type": "stream",
     "text": [
      "Uploading file: OREGON_STATE_PRISM_009012_20240801_20240901_PPT.tif:  61%|██████    | 146/240 [00:26<00:14,  6.41it/s]"
     ]
    },
    {
     "name": "stdout",
     "output_type": "stream",
     "text": [
      "[2025-06-25 15:10:40 INFO] Uploaded file OREGON_STATE_PRISM_011012_20241101_20241201_PPT.tif to aws bucket ose-dev-inputs\n"
     ]
    },
    {
     "name": "stderr",
     "output_type": "stream",
     "text": [
      "Uploading file: OREGON_STATE_PRISM_011012_20241101_20241201_PPT.tif:  61%|██████▏   | 147/240 [00:26<00:14,  6.64it/s]"
     ]
    },
    {
     "name": "stdout",
     "output_type": "stream",
     "text": [
      "[2025-06-25 15:10:40 INFO] Uploaded file OREGON_STATE_PRISM_010011_20240301_20240401_PPT.tif to aws bucket ose-dev-inputs\n"
     ]
    },
    {
     "name": "stderr",
     "output_type": "stream",
     "text": [
      "Uploading file: OREGON_STATE_PRISM_010011_20240301_20240401_PPT.tif:  62%|██████▏   | 148/240 [00:26<00:13,  6.73it/s]"
     ]
    },
    {
     "name": "stdout",
     "output_type": "stream",
     "text": [
      "[2025-06-25 15:10:40 INFO] Uploaded file OREGON_STATE_PRISM_010015_20240201_20240301_PPT.tif to aws bucket ose-dev-inputs\n"
     ]
    },
    {
     "name": "stderr",
     "output_type": "stream",
     "text": [
      "Uploading file: OREGON_STATE_PRISM_010015_20240201_20240301_PPT.tif:  62%|██████▏   | 149/240 [00:27<00:13,  6.87it/s]"
     ]
    },
    {
     "name": "stdout",
     "output_type": "stream",
     "text": [
      "[2025-06-25 15:10:40 INFO] Uploaded file OREGON_STATE_PRISM_012011_20240401_20240501_PPT.tif to aws bucket ose-dev-inputs\n"
     ]
    },
    {
     "name": "stderr",
     "output_type": "stream",
     "text": [
      "Uploading file: OREGON_STATE_PRISM_012011_20240401_20240501_PPT.tif:  62%|██████▎   | 150/240 [00:27<00:13,  6.86it/s]"
     ]
    },
    {
     "name": "stdout",
     "output_type": "stream",
     "text": [
      "[2025-06-25 15:10:40 INFO] Uploaded file OREGON_STATE_PRISM_010012_20240201_20240301_PPT.tif to aws bucket ose-dev-inputs\n"
     ]
    },
    {
     "name": "stderr",
     "output_type": "stream",
     "text": [
      "Uploading file: OREGON_STATE_PRISM_010012_20240201_20240301_PPT.tif:  63%|██████▎   | 151/240 [00:27<00:15,  5.71it/s]"
     ]
    },
    {
     "name": "stdout",
     "output_type": "stream",
     "text": [
      "[2025-06-25 15:10:41 INFO] Uploaded file OREGON_STATE_PRISM_011015_20241101_20241201_PPT.tif to aws bucket ose-dev-inputs\n"
     ]
    },
    {
     "name": "stderr",
     "output_type": "stream",
     "text": [
      "Uploading file: OREGON_STATE_PRISM_011015_20241101_20241201_PPT.tif:  63%|██████▎   | 152/240 [00:27<00:14,  6.10it/s]"
     ]
    },
    {
     "name": "stdout",
     "output_type": "stream",
     "text": [
      "[2025-06-25 15:10:41 INFO] Uploaded file OREGON_STATE_PRISM_009015_20240801_20240901_PPT.tif to aws bucket ose-dev-inputs\n"
     ]
    },
    {
     "name": "stderr",
     "output_type": "stream",
     "text": [
      "Uploading file: OREGON_STATE_PRISM_009015_20240801_20240901_PPT.tif:  64%|██████▍   | 153/240 [00:27<00:13,  6.37it/s]"
     ]
    },
    {
     "name": "stdout",
     "output_type": "stream",
     "text": [
      "[2025-06-25 15:10:41 INFO] Uploaded file OREGON_STATE_PRISM_012014_20240901_20241001_PPT.tif to aws bucket ose-dev-inputs\n"
     ]
    },
    {
     "name": "stderr",
     "output_type": "stream",
     "text": [
      "Uploading file: OREGON_STATE_PRISM_012014_20240901_20241001_PPT.tif:  64%|██████▍   | 154/240 [00:27<00:13,  6.58it/s]"
     ]
    },
    {
     "name": "stdout",
     "output_type": "stream",
     "text": [
      "[2025-06-25 15:10:41 INFO] Uploaded file OREGON_STATE_PRISM_009014_20240901_20241001_PPT.tif to aws bucket ose-dev-inputs\n"
     ]
    },
    {
     "name": "stderr",
     "output_type": "stream",
     "text": [
      "Uploading file: OREGON_STATE_PRISM_009014_20240901_20241001_PPT.tif:  65%|██████▍   | 155/240 [00:28<00:13,  6.31it/s]"
     ]
    },
    {
     "name": "stdout",
     "output_type": "stream",
     "text": [
      "[2025-06-25 15:10:41 INFO] Uploaded file OREGON_STATE_PRISM_012015_20240801_20240901_PPT.tif to aws bucket ose-dev-inputs\n"
     ]
    },
    {
     "name": "stderr",
     "output_type": "stream",
     "text": [
      "Uploading file: OREGON_STATE_PRISM_012015_20240801_20240901_PPT.tif:  65%|██████▌   | 156/240 [00:28<00:12,  6.58it/s]"
     ]
    },
    {
     "name": "stdout",
     "output_type": "stream",
     "text": [
      "[2025-06-25 15:10:41 INFO] Uploaded file OREGON_STATE_PRISM_010012_20240601_20240701_PPT.tif to aws bucket ose-dev-inputs\n"
     ]
    },
    {
     "name": "stderr",
     "output_type": "stream",
     "text": [
      "Uploading file: OREGON_STATE_PRISM_010012_20240601_20240701_PPT.tif:  65%|██████▌   | 157/240 [00:28<00:12,  6.67it/s]"
     ]
    },
    {
     "name": "stdout",
     "output_type": "stream",
     "text": [
      "[2025-06-25 15:10:41 INFO] Uploaded file OREGON_STATE_PRISM_010015_20241201_20250101_PPT.tif to aws bucket ose-dev-inputs\n"
     ]
    },
    {
     "name": "stderr",
     "output_type": "stream",
     "text": [
      "Uploading file: OREGON_STATE_PRISM_010015_20241201_20250101_PPT.tif:  66%|██████▌   | 158/240 [00:28<00:11,  6.84it/s]"
     ]
    },
    {
     "name": "stdout",
     "output_type": "stream",
     "text": [
      "[2025-06-25 15:10:42 INFO] Uploaded file OREGON_STATE_PRISM_011011_20240401_20240501_PPT.tif to aws bucket ose-dev-inputs\n"
     ]
    },
    {
     "name": "stderr",
     "output_type": "stream",
     "text": [
      "Uploading file: OREGON_STATE_PRISM_011011_20240401_20240501_PPT.tif:  66%|██████▋   | 159/240 [00:28<00:11,  6.95it/s]"
     ]
    },
    {
     "name": "stdout",
     "output_type": "stream",
     "text": [
      "[2025-06-25 15:10:42 INFO] Uploaded file OREGON_STATE_PRISM_012012_20241101_20241201_PPT.tif to aws bucket ose-dev-inputs\n"
     ]
    },
    {
     "name": "stderr",
     "output_type": "stream",
     "text": [
      "Uploading file: OREGON_STATE_PRISM_012012_20241101_20241201_PPT.tif:  67%|██████▋   | 160/240 [00:28<00:11,  6.99it/s]"
     ]
    },
    {
     "name": "stdout",
     "output_type": "stream",
     "text": [
      "[2025-06-25 15:10:42 INFO] Uploaded file OREGON_STATE_PRISM_011013_20240901_20241001_PPT.tif to aws bucket ose-dev-inputs\n"
     ]
    },
    {
     "name": "stderr",
     "output_type": "stream",
     "text": [
      "Uploading file: OREGON_STATE_PRISM_011013_20240901_20241001_PPT.tif:  67%|██████▋   | 161/240 [00:28<00:11,  6.95it/s]"
     ]
    },
    {
     "name": "stdout",
     "output_type": "stream",
     "text": [
      "[2025-06-25 15:10:42 INFO] Uploaded file OREGON_STATE_PRISM_009012_20241101_20241201_PPT.tif to aws bucket ose-dev-inputs\n"
     ]
    },
    {
     "name": "stderr",
     "output_type": "stream",
     "text": [
      "Uploading file: OREGON_STATE_PRISM_009012_20241101_20241201_PPT.tif:  68%|██████▊   | 162/240 [00:29<00:11,  7.02it/s]"
     ]
    },
    {
     "name": "stdout",
     "output_type": "stream",
     "text": [
      "[2025-06-25 15:10:42 INFO] Uploaded file OREGON_STATE_PRISM_011012_20240801_20240901_PPT.tif to aws bucket ose-dev-inputs\n"
     ]
    },
    {
     "name": "stderr",
     "output_type": "stream",
     "text": [
      "Uploading file: OREGON_STATE_PRISM_011012_20240801_20240901_PPT.tif:  68%|██████▊   | 163/240 [00:29<00:11,  6.98it/s]"
     ]
    },
    {
     "name": "stdout",
     "output_type": "stream",
     "text": [
      "[2025-06-25 15:10:42 INFO] Uploaded file OREGON_STATE_PRISM_010013_20241001_20241101_PPT.tif to aws bucket ose-dev-inputs\n"
     ]
    },
    {
     "name": "stderr",
     "output_type": "stream",
     "text": [
      "Uploading file: OREGON_STATE_PRISM_010013_20241001_20241101_PPT.tif:  68%|██████▊   | 164/240 [00:29<00:11,  6.62it/s]"
     ]
    },
    {
     "name": "stdout",
     "output_type": "stream",
     "text": [
      "[2025-06-25 15:10:42 INFO] Uploaded file OREGON_STATE_PRISM_012015_20241001_20241101_PPT.tif to aws bucket ose-dev-inputs\n"
     ]
    },
    {
     "name": "stderr",
     "output_type": "stream",
     "text": [
      "Uploading file: OREGON_STATE_PRISM_012015_20241001_20241101_PPT.tif:  69%|██████▉   | 165/240 [00:29<00:10,  6.83it/s]"
     ]
    },
    {
     "name": "stdout",
     "output_type": "stream",
     "text": [
      "[2025-06-25 15:10:43 INFO] Uploaded file OREGON_STATE_PRISM_011013_20240601_20240701_PPT.tif to aws bucket ose-dev-inputs\n"
     ]
    },
    {
     "name": "stderr",
     "output_type": "stream",
     "text": [
      "Uploading file: OREGON_STATE_PRISM_011013_20240601_20240701_PPT.tif:  69%|██████▉   | 166/240 [00:29<00:10,  6.93it/s]"
     ]
    },
    {
     "name": "stdout",
     "output_type": "stream",
     "text": [
      "[2025-06-25 15:10:43 INFO] Uploaded file OREGON_STATE_PRISM_009011_20240701_20240801_PPT.tif to aws bucket ose-dev-inputs\n"
     ]
    },
    {
     "name": "stderr",
     "output_type": "stream",
     "text": [
      "Uploading file: OREGON_STATE_PRISM_009011_20240701_20240801_PPT.tif:  70%|██████▉   | 167/240 [00:29<00:10,  6.96it/s]"
     ]
    },
    {
     "name": "stdout",
     "output_type": "stream",
     "text": [
      "[2025-06-25 15:10:43 INFO] Uploaded file OREGON_STATE_PRISM_011014_20241201_20250101_PPT.tif to aws bucket ose-dev-inputs\n"
     ]
    },
    {
     "name": "stderr",
     "output_type": "stream",
     "text": [
      "Uploading file: OREGON_STATE_PRISM_011014_20241201_20250101_PPT.tif:  70%|███████   | 168/240 [00:29<00:10,  7.09it/s]"
     ]
    },
    {
     "name": "stdout",
     "output_type": "stream",
     "text": [
      "[2025-06-25 15:10:43 INFO] Uploaded file OREGON_STATE_PRISM_011013_20240201_20240301_PPT.tif to aws bucket ose-dev-inputs\n"
     ]
    },
    {
     "name": "stderr",
     "output_type": "stream",
     "text": [
      "Uploading file: OREGON_STATE_PRISM_011013_20240201_20240301_PPT.tif:  70%|███████   | 169/240 [00:30<00:09,  7.17it/s]"
     ]
    },
    {
     "name": "stdout",
     "output_type": "stream",
     "text": [
      "[2025-06-25 15:10:43 INFO] Uploaded file OREGON_STATE_PRISM_012011_20240701_20240801_PPT.tif to aws bucket ose-dev-inputs\n"
     ]
    },
    {
     "name": "stderr",
     "output_type": "stream",
     "text": [
      "Uploading file: OREGON_STATE_PRISM_012011_20240701_20240801_PPT.tif:  71%|███████   | 170/240 [00:30<00:09,  7.24it/s]"
     ]
    },
    {
     "name": "stdout",
     "output_type": "stream",
     "text": [
      "[2025-06-25 15:10:43 INFO] Uploaded file OREGON_STATE_PRISM_010014_20241101_20241201_PPT.tif to aws bucket ose-dev-inputs\n"
     ]
    },
    {
     "name": "stderr",
     "output_type": "stream",
     "text": [
      "Uploading file: OREGON_STATE_PRISM_010014_20241101_20241201_PPT.tif:  71%|███████▏  | 171/240 [00:30<00:09,  7.22it/s]"
     ]
    },
    {
     "name": "stdout",
     "output_type": "stream",
     "text": [
      "[2025-06-25 15:10:43 INFO] Uploaded file OREGON_STATE_PRISM_009015_20241001_20241101_PPT.tif to aws bucket ose-dev-inputs\n"
     ]
    },
    {
     "name": "stderr",
     "output_type": "stream",
     "text": [
      "Uploading file: OREGON_STATE_PRISM_009015_20241001_20241101_PPT.tif:  72%|███████▏  | 172/240 [00:30<00:09,  7.10it/s]"
     ]
    },
    {
     "name": "stdout",
     "output_type": "stream",
     "text": [
      "[2025-06-25 15:10:44 INFO] Uploaded file OREGON_STATE_PRISM_010013_20240801_20240901_PPT.tif to aws bucket ose-dev-inputs\n"
     ]
    },
    {
     "name": "stderr",
     "output_type": "stream",
     "text": [
      "Uploading file: OREGON_STATE_PRISM_010013_20240801_20240901_PPT.tif:  72%|███████▏  | 173/240 [00:30<00:09,  7.20it/s]"
     ]
    },
    {
     "name": "stdout",
     "output_type": "stream",
     "text": [
      "[2025-06-25 15:10:44 INFO] Uploaded file OREGON_STATE_PRISM_009011_20240101_20240201_PPT.tif to aws bucket ose-dev-inputs\n"
     ]
    },
    {
     "name": "stderr",
     "output_type": "stream",
     "text": [
      "Uploading file: OREGON_STATE_PRISM_009011_20240101_20240201_PPT.tif:  72%|███████▎  | 174/240 [00:30<00:09,  7.12it/s]"
     ]
    },
    {
     "name": "stdout",
     "output_type": "stream",
     "text": [
      "[2025-06-25 15:10:44 INFO] Uploaded file OREGON_STATE_PRISM_011012_20241001_20241101_PPT.tif to aws bucket ose-dev-inputs\n"
     ]
    },
    {
     "name": "stderr",
     "output_type": "stream",
     "text": [
      "Uploading file: OREGON_STATE_PRISM_011012_20241001_20241101_PPT.tif:  73%|███████▎  | 175/240 [00:30<00:09,  7.13it/s]"
     ]
    },
    {
     "name": "stdout",
     "output_type": "stream",
     "text": [
      "[2025-06-25 15:10:44 INFO] Uploaded file OREGON_STATE_PRISM_012014_20240601_20240701_PPT.tif to aws bucket ose-dev-inputs\n"
     ]
    },
    {
     "name": "stderr",
     "output_type": "stream",
     "text": [
      "Uploading file: OREGON_STATE_PRISM_012014_20240601_20240701_PPT.tif:  73%|███████▎  | 176/240 [00:30<00:08,  7.18it/s]"
     ]
    },
    {
     "name": "stdout",
     "output_type": "stream",
     "text": [
      "[2025-06-25 15:10:44 INFO] Uploaded file OREGON_STATE_PRISM_009014_20240201_20240301_PPT.tif to aws bucket ose-dev-inputs\n"
     ]
    },
    {
     "name": "stderr",
     "output_type": "stream",
     "text": [
      "Uploading file: OREGON_STATE_PRISM_009014_20240201_20240301_PPT.tif:  74%|███████▍  | 177/240 [00:31<00:08,  7.16it/s]"
     ]
    },
    {
     "name": "stdout",
     "output_type": "stream",
     "text": [
      "[2025-06-25 15:10:44 INFO] Uploaded file OREGON_STATE_PRISM_012013_20241201_20250101_PPT.tif to aws bucket ose-dev-inputs\n"
     ]
    },
    {
     "name": "stderr",
     "output_type": "stream",
     "text": [
      "Uploading file: OREGON_STATE_PRISM_012013_20241201_20250101_PPT.tif:  74%|███████▍  | 178/240 [00:31<00:08,  7.19it/s]"
     ]
    },
    {
     "name": "stdout",
     "output_type": "stream",
     "text": [
      "[2025-06-25 15:10:44 INFO] Uploaded file OREGON_STATE_PRISM_012011_20240501_20240601_PPT.tif to aws bucket ose-dev-inputs\n"
     ]
    },
    {
     "name": "stderr",
     "output_type": "stream",
     "text": [
      "Uploading file: OREGON_STATE_PRISM_012011_20240501_20240601_PPT.tif:  75%|███████▍  | 179/240 [00:31<00:08,  7.15it/s]"
     ]
    },
    {
     "name": "stdout",
     "output_type": "stream",
     "text": [
      "[2025-06-25 15:10:44 INFO] Uploaded file OREGON_STATE_PRISM_012014_20240201_20240301_PPT.tif to aws bucket ose-dev-inputs\n"
     ]
    },
    {
     "name": "stderr",
     "output_type": "stream",
     "text": [
      "Uploading file: OREGON_STATE_PRISM_012014_20240201_20240301_PPT.tif:  75%|███████▌  | 180/240 [00:31<00:08,  6.98it/s]"
     ]
    },
    {
     "name": "stdout",
     "output_type": "stream",
     "text": [
      "[2025-06-25 15:10:45 INFO] Uploaded file OREGON_STATE_PRISM_009011_20240501_20240601_PPT.tif to aws bucket ose-dev-inputs\n"
     ]
    },
    {
     "name": "stderr",
     "output_type": "stream",
     "text": [
      "Uploading file: OREGON_STATE_PRISM_009011_20240501_20240601_PPT.tif:  75%|███████▌  | 181/240 [00:31<00:08,  6.84it/s]"
     ]
    },
    {
     "name": "stdout",
     "output_type": "stream",
     "text": [
      "[2025-06-25 15:10:45 INFO] Uploaded file OREGON_STATE_PRISM_009013_20241201_20250101_PPT.tif to aws bucket ose-dev-inputs\n"
     ]
    },
    {
     "name": "stderr",
     "output_type": "stream",
     "text": [
      "Uploading file: OREGON_STATE_PRISM_009013_20241201_20250101_PPT.tif:  76%|███████▌  | 182/240 [00:31<00:08,  6.95it/s]"
     ]
    },
    {
     "name": "stdout",
     "output_type": "stream",
     "text": [
      "[2025-06-25 15:10:45 INFO] Uploaded file OREGON_STATE_PRISM_012011_20240101_20240201_PPT.tif to aws bucket ose-dev-inputs\n"
     ]
    },
    {
     "name": "stderr",
     "output_type": "stream",
     "text": [
      "Uploading file: OREGON_STATE_PRISM_012011_20240101_20240201_PPT.tif:  76%|███████▋  | 183/240 [00:31<00:08,  7.00it/s]"
     ]
    },
    {
     "name": "stdout",
     "output_type": "stream",
     "text": [
      "[2025-06-25 15:10:45 INFO] Uploaded file OREGON_STATE_PRISM_010012_20240901_20241001_PPT.tif to aws bucket ose-dev-inputs\n"
     ]
    },
    {
     "name": "stderr",
     "output_type": "stream",
     "text": [
      "Uploading file: OREGON_STATE_PRISM_010012_20240901_20241001_PPT.tif:  77%|███████▋  | 184/240 [00:32<00:07,  7.08it/s]"
     ]
    },
    {
     "name": "stdout",
     "output_type": "stream",
     "text": [
      "[2025-06-25 15:10:45 INFO] Uploaded file OREGON_STATE_PRISM_009014_20240601_20240701_PPT.tif to aws bucket ose-dev-inputs\n"
     ]
    },
    {
     "name": "stderr",
     "output_type": "stream",
     "text": [
      "Uploading file: OREGON_STATE_PRISM_009014_20240601_20240701_PPT.tif:  77%|███████▋  | 185/240 [00:32<00:07,  7.08it/s]"
     ]
    },
    {
     "name": "stdout",
     "output_type": "stream",
     "text": [
      "[2025-06-25 15:10:45 INFO] Uploaded file OREGON_STATE_PRISM_011013_20240701_20240801_PPT.tif to aws bucket ose-dev-inputs\n"
     ]
    },
    {
     "name": "stderr",
     "output_type": "stream",
     "text": [
      "Uploading file: OREGON_STATE_PRISM_011013_20240701_20240801_PPT.tif:  78%|███████▊  | 186/240 [00:32<00:07,  7.08it/s]"
     ]
    },
    {
     "name": "stdout",
     "output_type": "stream",
     "text": [
      "[2025-06-25 15:10:45 INFO] Uploaded file OREGON_STATE_PRISM_012011_20240201_20240301_PPT.tif to aws bucket ose-dev-inputs\n"
     ]
    },
    {
     "name": "stderr",
     "output_type": "stream",
     "text": [
      "Uploading file: OREGON_STATE_PRISM_012011_20240201_20240301_PPT.tif:  78%|███████▊  | 187/240 [00:32<00:07,  7.20it/s]"
     ]
    },
    {
     "name": "stdout",
     "output_type": "stream",
     "text": [
      "[2025-06-25 15:10:46 INFO] Uploaded file OREGON_STATE_PRISM_009014_20240501_20240601_PPT.tif to aws bucket ose-dev-inputs\n"
     ]
    },
    {
     "name": "stderr",
     "output_type": "stream",
     "text": [
      "Uploading file: OREGON_STATE_PRISM_009014_20240501_20240601_PPT.tif:  78%|███████▊  | 188/240 [00:32<00:07,  7.04it/s]"
     ]
    },
    {
     "name": "stdout",
     "output_type": "stream",
     "text": [
      "[2025-06-25 15:10:46 INFO] Uploaded file OREGON_STATE_PRISM_010015_20240401_20240501_PPT.tif to aws bucket ose-dev-inputs\n"
     ]
    },
    {
     "name": "stderr",
     "output_type": "stream",
     "text": [
      "Uploading file: OREGON_STATE_PRISM_010015_20240401_20240501_PPT.tif:  79%|███████▉  | 189/240 [00:32<00:07,  7.11it/s]"
     ]
    },
    {
     "name": "stdout",
     "output_type": "stream",
     "text": [
      "[2025-06-25 15:10:46 INFO] Uploaded file OREGON_STATE_PRISM_012014_20240101_20240201_PPT.tif to aws bucket ose-dev-inputs\n"
     ]
    },
    {
     "name": "stderr",
     "output_type": "stream",
     "text": [
      "Uploading file: OREGON_STATE_PRISM_012014_20240101_20240201_PPT.tif:  79%|███████▉  | 190/240 [00:32<00:06,  7.22it/s]"
     ]
    },
    {
     "name": "stdout",
     "output_type": "stream",
     "text": [
      "[2025-06-25 15:10:46 INFO] Uploaded file OREGON_STATE_PRISM_012015_20240301_20240401_PPT.tif to aws bucket ose-dev-inputs\n"
     ]
    },
    {
     "name": "stderr",
     "output_type": "stream",
     "text": [
      "Uploading file: OREGON_STATE_PRISM_012015_20240301_20240401_PPT.tif:  80%|███████▉  | 191/240 [00:33<00:06,  7.34it/s]"
     ]
    },
    {
     "name": "stdout",
     "output_type": "stream",
     "text": [
      "[2025-06-25 15:10:46 INFO] Uploaded file OREGON_STATE_PRISM_009011_20240601_20240701_PPT.tif to aws bucket ose-dev-inputs\n"
     ]
    },
    {
     "name": "stderr",
     "output_type": "stream",
     "text": [
      "Uploading file: OREGON_STATE_PRISM_009011_20240601_20240701_PPT.tif:  80%|████████  | 192/240 [00:33<00:06,  7.36it/s]"
     ]
    },
    {
     "name": "stdout",
     "output_type": "stream",
     "text": [
      "[2025-06-25 15:10:46 INFO] Uploaded file OREGON_STATE_PRISM_009015_20240301_20240401_PPT.tif to aws bucket ose-dev-inputs\n"
     ]
    },
    {
     "name": "stderr",
     "output_type": "stream",
     "text": [
      "Uploading file: OREGON_STATE_PRISM_009015_20240301_20240401_PPT.tif:  80%|████████  | 193/240 [00:33<00:06,  7.39it/s]"
     ]
    },
    {
     "name": "stdout",
     "output_type": "stream",
     "text": [
      "[2025-06-25 15:10:46 INFO] Uploaded file OREGON_STATE_PRISM_009014_20240101_20240201_PPT.tif to aws bucket ose-dev-inputs\n"
     ]
    },
    {
     "name": "stderr",
     "output_type": "stream",
     "text": [
      "Uploading file: OREGON_STATE_PRISM_009014_20240101_20240201_PPT.tif:  81%|████████  | 194/240 [00:33<00:06,  7.24it/s]"
     ]
    },
    {
     "name": "stdout",
     "output_type": "stream",
     "text": [
      "[2025-06-25 15:10:47 INFO] Uploaded file OREGON_STATE_PRISM_012011_20240601_20240701_PPT.tif to aws bucket ose-dev-inputs\n"
     ]
    },
    {
     "name": "stderr",
     "output_type": "stream",
     "text": [
      "Uploading file: OREGON_STATE_PRISM_012011_20240601_20240701_PPT.tif:  81%|████████▏ | 195/240 [00:33<00:06,  7.07it/s]"
     ]
    },
    {
     "name": "stdout",
     "output_type": "stream",
     "text": [
      "[2025-06-25 15:10:47 INFO] Uploaded file OREGON_STATE_PRISM_009011_20240201_20240301_PPT.tif to aws bucket ose-dev-inputs\n"
     ]
    },
    {
     "name": "stderr",
     "output_type": "stream",
     "text": [
      "Uploading file: OREGON_STATE_PRISM_009011_20240201_20240301_PPT.tif:  82%|████████▏ | 196/240 [00:33<00:06,  7.06it/s]"
     ]
    },
    {
     "name": "stdout",
     "output_type": "stream",
     "text": [
      "[2025-06-25 15:10:47 INFO] Uploaded file OREGON_STATE_PRISM_012014_20240501_20240601_PPT.tif to aws bucket ose-dev-inputs\n"
     ]
    },
    {
     "name": "stderr",
     "output_type": "stream",
     "text": [
      "Uploading file: OREGON_STATE_PRISM_012014_20240501_20240601_PPT.tif:  82%|████████▏ | 197/240 [00:33<00:06,  7.16it/s]"
     ]
    },
    {
     "name": "stdout",
     "output_type": "stream",
     "text": [
      "[2025-06-25 15:10:47 INFO] Uploaded file OREGON_STATE_PRISM_012014_20240701_20240801_PPT.tif to aws bucket ose-dev-inputs\n"
     ]
    },
    {
     "name": "stderr",
     "output_type": "stream",
     "text": [
      "Uploading file: OREGON_STATE_PRISM_012014_20240701_20240801_PPT.tif:  82%|████████▎ | 198/240 [00:34<00:05,  7.25it/s]"
     ]
    },
    {
     "name": "stdout",
     "output_type": "stream",
     "text": [
      "[2025-06-25 15:10:47 INFO] Uploaded file OREGON_STATE_PRISM_010011_20241101_20241201_PPT.tif to aws bucket ose-dev-inputs\n"
     ]
    },
    {
     "name": "stderr",
     "output_type": "stream",
     "text": [
      "Uploading file: OREGON_STATE_PRISM_010011_20241101_20241201_PPT.tif:  83%|████████▎ | 199/240 [00:34<00:05,  7.28it/s]"
     ]
    },
    {
     "name": "stdout",
     "output_type": "stream",
     "text": [
      "[2025-06-25 15:10:47 INFO] Uploaded file OREGON_STATE_PRISM_011012_20240301_20240401_PPT.tif to aws bucket ose-dev-inputs\n"
     ]
    },
    {
     "name": "stderr",
     "output_type": "stream",
     "text": [
      "Uploading file: OREGON_STATE_PRISM_011012_20240301_20240401_PPT.tif:  83%|████████▎ | 200/240 [00:34<00:05,  7.26it/s]"
     ]
    },
    {
     "name": "stdout",
     "output_type": "stream",
     "text": [
      "[2025-06-25 15:10:48 INFO] Uploaded file OREGON_STATE_PRISM_011013_20240101_20240201_PPT.tif to aws bucket ose-dev-inputs\n"
     ]
    },
    {
     "name": "stderr",
     "output_type": "stream",
     "text": [
      "Uploading file: OREGON_STATE_PRISM_011013_20240101_20240201_PPT.tif:  84%|████████▍ | 201/240 [00:34<00:06,  5.78it/s]"
     ]
    },
    {
     "name": "stdout",
     "output_type": "stream",
     "text": [
      "[2025-06-25 15:10:48 INFO] Uploaded file OREGON_STATE_PRISM_009014_20240701_20240801_PPT.tif to aws bucket ose-dev-inputs\n"
     ]
    },
    {
     "name": "stderr",
     "output_type": "stream",
     "text": [
      "Uploading file: OREGON_STATE_PRISM_009014_20240701_20240801_PPT.tif:  84%|████████▍ | 202/240 [00:34<00:06,  6.07it/s]"
     ]
    },
    {
     "name": "stdout",
     "output_type": "stream",
     "text": [
      "[2025-06-25 15:10:48 INFO] Uploaded file OREGON_STATE_PRISM_011013_20240501_20240601_PPT.tif to aws bucket ose-dev-inputs\n"
     ]
    },
    {
     "name": "stderr",
     "output_type": "stream",
     "text": [
      "Uploading file: OREGON_STATE_PRISM_011013_20240501_20240601_PPT.tif:  85%|████████▍ | 203/240 [00:34<00:05,  6.22it/s]"
     ]
    },
    {
     "name": "stdout",
     "output_type": "stream",
     "text": [
      "[2025-06-25 15:10:48 INFO] Uploaded file OREGON_STATE_PRISM_011011_20241201_20250101_PPT.tif to aws bucket ose-dev-inputs\n"
     ]
    },
    {
     "name": "stderr",
     "output_type": "stream",
     "text": [
      "Uploading file: OREGON_STATE_PRISM_011011_20241201_20250101_PPT.tif:  85%|████████▌ | 204/240 [00:35<00:05,  6.51it/s]"
     ]
    },
    {
     "name": "stdout",
     "output_type": "stream",
     "text": [
      "[2025-06-25 15:10:48 INFO] Uploaded file OREGON_STATE_PRISM_010012_20240701_20240801_PPT.tif to aws bucket ose-dev-inputs\n"
     ]
    },
    {
     "name": "stderr",
     "output_type": "stream",
     "text": [
      "Uploading file: OREGON_STATE_PRISM_010012_20240701_20240801_PPT.tif:  85%|████████▌ | 205/240 [00:35<00:05,  6.82it/s]"
     ]
    },
    {
     "name": "stdout",
     "output_type": "stream",
     "text": [
      "[2025-06-25 15:10:48 INFO] Uploaded file OREGON_STATE_PRISM_011014_20240401_20240501_PPT.tif to aws bucket ose-dev-inputs\n"
     ]
    },
    {
     "name": "stderr",
     "output_type": "stream",
     "text": [
      "Uploading file: OREGON_STATE_PRISM_011014_20240401_20240501_PPT.tif:  86%|████████▌ | 206/240 [00:35<00:04,  6.93it/s]"
     ]
    },
    {
     "name": "stdout",
     "output_type": "stream",
     "text": [
      "[2025-06-25 15:10:48 INFO] Uploaded file OREGON_STATE_PRISM_009011_20240901_20241001_PPT.tif to aws bucket ose-dev-inputs\n"
     ]
    },
    {
     "name": "stderr",
     "output_type": "stream",
     "text": [
      "Uploading file: OREGON_STATE_PRISM_009011_20240901_20241001_PPT.tif:  86%|████████▋ | 207/240 [00:35<00:04,  7.02it/s]"
     ]
    },
    {
     "name": "stdout",
     "output_type": "stream",
     "text": [
      "[2025-06-25 15:10:49 INFO] Uploaded file OREGON_STATE_PRISM_010012_20240501_20240601_PPT.tif to aws bucket ose-dev-inputs\n"
     ]
    },
    {
     "name": "stderr",
     "output_type": "stream",
     "text": [
      "Uploading file: OREGON_STATE_PRISM_010012_20240501_20240601_PPT.tif:  87%|████████▋ | 208/240 [00:35<00:04,  7.09it/s]"
     ]
    },
    {
     "name": "stdout",
     "output_type": "stream",
     "text": [
      "[2025-06-25 15:10:49 INFO] Uploaded file OREGON_STATE_PRISM_009013_20240401_20240501_PPT.tif to aws bucket ose-dev-inputs\n"
     ]
    },
    {
     "name": "stderr",
     "output_type": "stream",
     "text": [
      "Uploading file: OREGON_STATE_PRISM_009013_20240401_20240501_PPT.tif:  87%|████████▋ | 209/240 [00:35<00:04,  7.14it/s]"
     ]
    },
    {
     "name": "stdout",
     "output_type": "stream",
     "text": [
      "[2025-06-25 15:10:49 INFO] Uploaded file OREGON_STATE_PRISM_012013_20240401_20240501_PPT.tif to aws bucket ose-dev-inputs\n"
     ]
    },
    {
     "name": "stderr",
     "output_type": "stream",
     "text": [
      "Uploading file: OREGON_STATE_PRISM_012013_20240401_20240501_PPT.tif:  88%|████████▊ | 210/240 [00:35<00:04,  6.98it/s]"
     ]
    },
    {
     "name": "stdout",
     "output_type": "stream",
     "text": [
      "[2025-06-25 15:10:49 INFO] Uploaded file OREGON_STATE_PRISM_010013_20240301_20240401_PPT.tif to aws bucket ose-dev-inputs\n"
     ]
    },
    {
     "name": "stderr",
     "output_type": "stream",
     "text": [
      "Uploading file: OREGON_STATE_PRISM_010013_20240301_20240401_PPT.tif:  88%|████████▊ | 211/240 [00:36<00:04,  6.72it/s]"
     ]
    },
    {
     "name": "stdout",
     "output_type": "stream",
     "text": [
      "[2025-06-25 15:10:49 INFO] Uploaded file OREGON_STATE_PRISM_010012_20240101_20240201_PPT.tif to aws bucket ose-dev-inputs\n"
     ]
    },
    {
     "name": "stderr",
     "output_type": "stream",
     "text": [
      "Uploading file: OREGON_STATE_PRISM_010012_20240101_20240201_PPT.tif:  88%|████████▊ | 212/240 [00:36<00:04,  6.47it/s]"
     ]
    },
    {
     "name": "stdout",
     "output_type": "stream",
     "text": [
      "[2025-06-25 15:10:49 INFO] Uploaded file OREGON_STATE_PRISM_012011_20240901_20241001_PPT.tif to aws bucket ose-dev-inputs\n"
     ]
    },
    {
     "name": "stderr",
     "output_type": "stream",
     "text": [
      "Uploading file: OREGON_STATE_PRISM_012011_20240901_20241001_PPT.tif:  89%|████████▉ | 213/240 [00:36<00:04,  6.57it/s]"
     ]
    },
    {
     "name": "stdout",
     "output_type": "stream",
     "text": [
      "[2025-06-25 15:10:49 INFO] Uploaded file OREGON_STATE_PRISM_010015_20240101_20240201_PPT.tif to aws bucket ose-dev-inputs\n"
     ]
    },
    {
     "name": "stderr",
     "output_type": "stream",
     "text": [
      "Uploading file: OREGON_STATE_PRISM_010015_20240101_20240201_PPT.tif:  89%|████████▉ | 214/240 [00:36<00:03,  6.63it/s]"
     ]
    },
    {
     "name": "stdout",
     "output_type": "stream",
     "text": [
      "[2025-06-25 15:10:50 INFO] Uploaded file OREGON_STATE_PRISM_010014_20240301_20240401_PPT.tif to aws bucket ose-dev-inputs\n"
     ]
    },
    {
     "name": "stderr",
     "output_type": "stream",
     "text": [
      "Uploading file: OREGON_STATE_PRISM_010014_20240301_20240401_PPT.tif:  90%|████████▉ | 215/240 [00:36<00:05,  4.73it/s]"
     ]
    },
    {
     "name": "stdout",
     "output_type": "stream",
     "text": [
      "[2025-06-25 15:10:50 INFO] Uploaded file OREGON_STATE_PRISM_012014_20240401_20240501_PPT.tif to aws bucket ose-dev-inputs\n"
     ]
    },
    {
     "name": "stderr",
     "output_type": "stream",
     "text": [
      "Uploading file: OREGON_STATE_PRISM_012014_20240401_20240501_PPT.tif:  90%|█████████ | 216/240 [00:37<00:07,  3.41it/s]"
     ]
    },
    {
     "name": "stdout",
     "output_type": "stream",
     "text": [
      "[2025-06-25 15:10:51 INFO] Uploaded file OREGON_STATE_PRISM_009014_20240401_20240501_PPT.tif to aws bucket ose-dev-inputs\n"
     ]
    },
    {
     "name": "stderr",
     "output_type": "stream",
     "text": [
      "Uploading file: OREGON_STATE_PRISM_009014_20240401_20240501_PPT.tif:  90%|█████████ | 217/240 [00:37<00:07,  2.94it/s]"
     ]
    },
    {
     "name": "stdout",
     "output_type": "stream",
     "text": [
      "[2025-06-25 15:10:51 INFO] Uploaded file OREGON_STATE_PRISM_010015_20240501_20240601_PPT.tif to aws bucket ose-dev-inputs\n"
     ]
    },
    {
     "name": "stderr",
     "output_type": "stream",
     "text": [
      "Uploading file: OREGON_STATE_PRISM_010015_20240501_20240601_PPT.tif:  91%|█████████ | 218/240 [00:38<00:08,  2.57it/s]"
     ]
    },
    {
     "name": "stdout",
     "output_type": "stream",
     "text": [
      "[2025-06-25 15:10:52 INFO] Uploaded file OREGON_STATE_PRISM_011011_20240901_20241001_PPT.tif to aws bucket ose-dev-inputs\n"
     ]
    },
    {
     "name": "stderr",
     "output_type": "stream",
     "text": [
      "Uploading file: OREGON_STATE_PRISM_011011_20240901_20241001_PPT.tif:  91%|█████████▏| 219/240 [00:38<00:09,  2.32it/s]"
     ]
    },
    {
     "name": "stdout",
     "output_type": "stream",
     "text": [
      "[2025-06-25 15:10:52 INFO] Uploaded file OREGON_STATE_PRISM_010015_20240701_20240801_PPT.tif to aws bucket ose-dev-inputs\n"
     ]
    },
    {
     "name": "stderr",
     "output_type": "stream",
     "text": [
      "Uploading file: OREGON_STATE_PRISM_010015_20240701_20240801_PPT.tif:  92%|█████████▏| 220/240 [00:39<00:08,  2.30it/s]"
     ]
    },
    {
     "name": "stdout",
     "output_type": "stream",
     "text": [
      "[2025-06-25 15:10:53 INFO] Uploaded file OREGON_STATE_PRISM_011013_20240401_20240501_PPT.tif to aws bucket ose-dev-inputs\n"
     ]
    },
    {
     "name": "stderr",
     "output_type": "stream",
     "text": [
      "Uploading file: OREGON_STATE_PRISM_011013_20240401_20240501_PPT.tif:  92%|█████████▏| 221/240 [00:39<00:08,  2.20it/s]"
     ]
    },
    {
     "name": "stdout",
     "output_type": "stream",
     "text": [
      "[2025-06-25 15:10:53 INFO] Uploaded file OREGON_STATE_PRISM_010011_20241001_20241101_PPT.tif to aws bucket ose-dev-inputs\n"
     ]
    },
    {
     "name": "stderr",
     "output_type": "stream",
     "text": [
      "Uploading file: OREGON_STATE_PRISM_010011_20241001_20241101_PPT.tif:  92%|█████████▎| 222/240 [00:40<00:07,  2.31it/s]"
     ]
    },
    {
     "name": "stdout",
     "output_type": "stream",
     "text": [
      "[2025-06-25 15:10:53 INFO] Uploaded file OREGON_STATE_PRISM_009013_20240701_20240801_PPT.tif to aws bucket ose-dev-inputs\n"
     ]
    },
    {
     "name": "stderr",
     "output_type": "stream",
     "text": [
      "Uploading file: OREGON_STATE_PRISM_009013_20240701_20240801_PPT.tif:  93%|█████████▎| 223/240 [00:40<00:06,  2.51it/s]"
     ]
    },
    {
     "name": "stdout",
     "output_type": "stream",
     "text": [
      "[2025-06-25 15:10:54 INFO] Uploaded file OREGON_STATE_PRISM_011014_20240501_20240601_PPT.tif to aws bucket ose-dev-inputs\n"
     ]
    },
    {
     "name": "stderr",
     "output_type": "stream",
     "text": [
      "Uploading file: OREGON_STATE_PRISM_011014_20240501_20240601_PPT.tif:  93%|█████████▎| 224/240 [00:40<00:05,  3.14it/s]"
     ]
    },
    {
     "name": "stdout",
     "output_type": "stream",
     "text": [
      "[2025-06-25 15:10:54 INFO] Uploaded file OREGON_STATE_PRISM_011011_20240601_20240701_PPT.tif to aws bucket ose-dev-inputs\n"
     ]
    },
    {
     "name": "stderr",
     "output_type": "stream",
     "text": [
      "Uploading file: OREGON_STATE_PRISM_011011_20240601_20240701_PPT.tif:  94%|█████████▍| 225/240 [00:40<00:03,  3.77it/s]"
     ]
    },
    {
     "name": "stdout",
     "output_type": "stream",
     "text": [
      "[2025-06-25 15:10:54 INFO] Uploaded file OREGON_STATE_PRISM_011014_20240101_20240201_PPT.tif to aws bucket ose-dev-inputs\n"
     ]
    },
    {
     "name": "stderr",
     "output_type": "stream",
     "text": [
      "Uploading file: OREGON_STATE_PRISM_011014_20240101_20240201_PPT.tif:  94%|█████████▍| 226/240 [00:40<00:03,  4.40it/s]"
     ]
    },
    {
     "name": "stdout",
     "output_type": "stream",
     "text": [
      "[2025-06-25 15:10:54 INFO] Uploaded file OREGON_STATE_PRISM_011015_20240301_20240401_PPT.tif to aws bucket ose-dev-inputs\n"
     ]
    },
    {
     "name": "stderr",
     "output_type": "stream",
     "text": [
      "Uploading file: OREGON_STATE_PRISM_011015_20240301_20240401_PPT.tif:  95%|█████████▍| 227/240 [00:40<00:02,  4.98it/s]"
     ]
    },
    {
     "name": "stdout",
     "output_type": "stream",
     "text": [
      "[2025-06-25 15:10:54 INFO] Uploaded file OREGON_STATE_PRISM_012013_20240701_20240801_PPT.tif to aws bucket ose-dev-inputs\n"
     ]
    },
    {
     "name": "stderr",
     "output_type": "stream",
     "text": [
      "Uploading file: OREGON_STATE_PRISM_012013_20240701_20240801_PPT.tif:  95%|█████████▌| 228/240 [00:41<00:02,  5.53it/s]"
     ]
    },
    {
     "name": "stdout",
     "output_type": "stream",
     "text": [
      "[2025-06-25 15:10:54 INFO] Uploaded file OREGON_STATE_PRISM_011011_20240201_20240301_PPT.tif to aws bucket ose-dev-inputs\n"
     ]
    },
    {
     "name": "stderr",
     "output_type": "stream",
     "text": [
      "Uploading file: OREGON_STATE_PRISM_011011_20240201_20240301_PPT.tif:  95%|█████████▌| 229/240 [00:41<00:01,  5.79it/s]"
     ]
    },
    {
     "name": "stdout",
     "output_type": "stream",
     "text": [
      "[2025-06-25 15:10:54 INFO] Uploaded file OREGON_STATE_PRISM_012013_20240501_20240601_PPT.tif to aws bucket ose-dev-inputs\n"
     ]
    },
    {
     "name": "stderr",
     "output_type": "stream",
     "text": [
      "Uploading file: OREGON_STATE_PRISM_012013_20240501_20240601_PPT.tif:  96%|█████████▌| 230/240 [00:41<00:01,  6.21it/s]"
     ]
    },
    {
     "name": "stdout",
     "output_type": "stream",
     "text": [
      "[2025-06-25 15:10:54 INFO] Uploaded file OREGON_STATE_PRISM_012011_20241201_20250101_PPT.tif to aws bucket ose-dev-inputs\n"
     ]
    },
    {
     "name": "stderr",
     "output_type": "stream",
     "text": [
      "Uploading file: OREGON_STATE_PRISM_012011_20241201_20250101_PPT.tif:  96%|█████████▋| 231/240 [00:41<00:01,  6.51it/s]"
     ]
    },
    {
     "name": "stdout",
     "output_type": "stream",
     "text": [
      "[2025-06-25 15:10:55 INFO] Uploaded file OREGON_STATE_PRISM_010011_20240801_20240901_PPT.tif to aws bucket ose-dev-inputs\n"
     ]
    },
    {
     "name": "stderr",
     "output_type": "stream",
     "text": [
      "Uploading file: OREGON_STATE_PRISM_010011_20240801_20240901_PPT.tif:  97%|█████████▋| 232/240 [00:41<00:01,  6.70it/s]"
     ]
    },
    {
     "name": "stdout",
     "output_type": "stream",
     "text": [
      "[2025-06-25 15:10:55 INFO] Uploaded file OREGON_STATE_PRISM_009013_20240101_20240201_PPT.tif to aws bucket ose-dev-inputs\n"
     ]
    },
    {
     "name": "stderr",
     "output_type": "stream",
     "text": [
      "Uploading file: OREGON_STATE_PRISM_009013_20240101_20240201_PPT.tif:  97%|█████████▋| 233/240 [00:41<00:01,  6.82it/s]"
     ]
    },
    {
     "name": "stdout",
     "output_type": "stream",
     "text": [
      "[2025-06-25 15:10:55 INFO] Uploaded file OREGON_STATE_PRISM_009012_20240301_20240401_PPT.tif to aws bucket ose-dev-inputs\n"
     ]
    },
    {
     "name": "stderr",
     "output_type": "stream",
     "text": [
      "Uploading file: OREGON_STATE_PRISM_009012_20240301_20240401_PPT.tif:  98%|█████████▊| 234/240 [00:41<00:00,  7.01it/s]"
     ]
    },
    {
     "name": "stdout",
     "output_type": "stream",
     "text": [
      "[2025-06-25 15:10:55 INFO] Uploaded file OREGON_STATE_PRISM_012012_20240301_20240401_PPT.tif to aws bucket ose-dev-inputs\n"
     ]
    },
    {
     "name": "stderr",
     "output_type": "stream",
     "text": [
      "Uploading file: OREGON_STATE_PRISM_012012_20240301_20240401_PPT.tif:  98%|█████████▊| 235/240 [00:42<00:00,  7.12it/s]"
     ]
    },
    {
     "name": "stdout",
     "output_type": "stream",
     "text": [
      "[2025-06-25 15:10:55 INFO] Uploaded file OREGON_STATE_PRISM_012013_20240101_20240201_PPT.tif to aws bucket ose-dev-inputs\n"
     ]
    },
    {
     "name": "stderr",
     "output_type": "stream",
     "text": [
      "Uploading file: OREGON_STATE_PRISM_012013_20240101_20240201_PPT.tif:  98%|█████████▊| 236/240 [00:42<00:00,  7.17it/s]"
     ]
    },
    {
     "name": "stdout",
     "output_type": "stream",
     "text": [
      "[2025-06-25 15:10:55 INFO] Uploaded file OREGON_STATE_PRISM_011014_20240701_20240801_PPT.tif to aws bucket ose-dev-inputs\n"
     ]
    },
    {
     "name": "stderr",
     "output_type": "stream",
     "text": [
      "Uploading file: OREGON_STATE_PRISM_011014_20240701_20240801_PPT.tif:  99%|█████████▉| 237/240 [00:42<00:00,  6.86it/s]"
     ]
    },
    {
     "name": "stdout",
     "output_type": "stream",
     "text": [
      "[2025-06-25 15:10:55 INFO] Uploaded file OREGON_STATE_PRISM_010012_20240401_20240501_PPT.tif to aws bucket ose-dev-inputs\n"
     ]
    },
    {
     "name": "stderr",
     "output_type": "stream",
     "text": [
      "Uploading file: OREGON_STATE_PRISM_010012_20240401_20240501_PPT.tif:  99%|█████████▉| 238/240 [00:42<00:00,  6.78it/s]"
     ]
    },
    {
     "name": "stdout",
     "output_type": "stream",
     "text": [
      "[2025-06-25 15:10:56 INFO] Uploaded file OREGON_STATE_PRISM_009011_20241201_20250101_PPT.tif to aws bucket ose-dev-inputs\n"
     ]
    },
    {
     "name": "stderr",
     "output_type": "stream",
     "text": [
      "Uploading file: OREGON_STATE_PRISM_009011_20241201_20250101_PPT.tif: 100%|█████████▉| 239/240 [00:42<00:00,  6.97it/s]"
     ]
    },
    {
     "name": "stdout",
     "output_type": "stream",
     "text": [
      "[2025-06-25 15:10:56 INFO] Uploaded file OREGON_STATE_PRISM_009013_20240501_20240601_PPT.tif to aws bucket ose-dev-inputs\n"
     ]
    },
    {
     "name": "stderr",
     "output_type": "stream",
     "text": [
      "                                                                                                                      \r"
     ]
    },
    {
     "data": {
      "text/plain": [
       "['OREGON_STATE_PRISM_012012_20240501_20240601_PPT.tif',\n",
       " 'OREGON_STATE_PRISM_011011_20241001_20241101_PPT.tif',\n",
       " 'OREGON_STATE_PRISM_009012_20240101_20240201_PPT.tif',\n",
       " 'OREGON_STATE_PRISM_009013_20240301_20240401_PPT.tif',\n",
       " 'OREGON_STATE_PRISM_012013_20240301_20240401_PPT.tif',\n",
       " 'OREGON_STATE_PRISM_012012_20240101_20240201_PPT.tif',\n",
       " 'OREGON_STATE_PRISM_010011_20240901_20241001_PPT.tif',\n",
       " 'OREGON_STATE_PRISM_010013_20240401_20240501_PPT.tif',\n",
       " 'OREGON_STATE_PRISM_009012_20240501_20240601_PPT.tif',\n",
       " 'OREGON_STATE_PRISM_011015_20240701_20240801_PPT.tif',\n",
       " 'OREGON_STATE_PRISM_011015_20240501_20240601_PPT.tif',\n",
       " 'OREGON_STATE_PRISM_009012_20240701_20240801_PPT.tif',\n",
       " 'OREGON_STATE_PRISM_011015_20240101_20240201_PPT.tif',\n",
       " 'OREGON_STATE_PRISM_011014_20240301_20240401_PPT.tif',\n",
       " 'OREGON_STATE_PRISM_012012_20240701_20240801_PPT.tif',\n",
       " 'OREGON_STATE_PRISM_012011_20241101_20241201_PPT.tif',\n",
       " 'OREGON_STATE_PRISM_011012_20240401_20240501_PPT.tif',\n",
       " 'OREGON_STATE_PRISM_010014_20240701_20240801_PPT.tif',\n",
       " 'OREGON_STATE_PRISM_011011_20240801_20240901_PPT.tif',\n",
       " 'OREGON_STATE_PRISM_009011_20241101_20241201_PPT.tif',\n",
       " 'OREGON_STATE_PRISM_010014_20240101_20240201_PPT.tif',\n",
       " 'OREGON_STATE_PRISM_010015_20240301_20240401_PPT.tif',\n",
       " 'OREGON_STATE_PRISM_012015_20240401_20240501_PPT.tif',\n",
       " 'OREGON_STATE_PRISM_010011_20240201_20240301_PPT.tif',\n",
       " 'OREGON_STATE_PRISM_009015_20240401_20240501_PPT.tif',\n",
       " 'OREGON_STATE_PRISM_010014_20240501_20240601_PPT.tif',\n",
       " 'OREGON_STATE_PRISM_010011_20240601_20240701_PPT.tif',\n",
       " 'OREGON_STATE_PRISM_012011_20240801_20240901_PPT.tif',\n",
       " 'OREGON_STATE_PRISM_010013_20240501_20240601_PPT.tif',\n",
       " 'OREGON_STATE_PRISM_009012_20240401_20240501_PPT.tif',\n",
       " 'OREGON_STATE_PRISM_010011_20241201_20250101_PPT.tif',\n",
       " 'OREGON_STATE_PRISM_012012_20240401_20240501_PPT.tif',\n",
       " 'OREGON_STATE_PRISM_010012_20240301_20240401_PPT.tif',\n",
       " 'OREGON_STATE_PRISM_011011_20241101_20241201_PPT.tif',\n",
       " 'OREGON_STATE_PRISM_009011_20240801_20240901_PPT.tif',\n",
       " 'OREGON_STATE_PRISM_010013_20240101_20240201_PPT.tif',\n",
       " 'OREGON_STATE_PRISM_011015_20240401_20240501_PPT.tif',\n",
       " 'OREGON_STATE_PRISM_010013_20240701_20240801_PPT.tif',\n",
       " 'OREGON_STATE_PRISM_012015_20240701_20240801_PPT.tif',\n",
       " 'OREGON_STATE_PRISM_011013_20240301_20240401_PPT.tif',\n",
       " 'OREGON_STATE_PRISM_011012_20240101_20240201_PPT.tif',\n",
       " 'OREGON_STATE_PRISM_009011_20241001_20241101_PPT.tif',\n",
       " 'OREGON_STATE_PRISM_012011_20241001_20241101_PPT.tif',\n",
       " 'OREGON_STATE_PRISM_011012_20240501_20240601_PPT.tif',\n",
       " 'OREGON_STATE_PRISM_009015_20240701_20240801_PPT.tif',\n",
       " 'OREGON_STATE_PRISM_009015_20240501_20240601_PPT.tif',\n",
       " 'OREGON_STATE_PRISM_010014_20240401_20240501_PPT.tif',\n",
       " 'OREGON_STATE_PRISM_011012_20240701_20240801_PPT.tif',\n",
       " 'OREGON_STATE_PRISM_012015_20240101_20240201_PPT.tif',\n",
       " 'OREGON_STATE_PRISM_012014_20240301_20240401_PPT.tif',\n",
       " 'OREGON_STATE_PRISM_009014_20240301_20240401_PPT.tif',\n",
       " 'OREGON_STATE_PRISM_009015_20240101_20240201_PPT.tif',\n",
       " 'OREGON_STATE_PRISM_012015_20240501_20240601_PPT.tif',\n",
       " 'OREGON_STATE_PRISM_012015_20240601_20240701_PPT.tif',\n",
       " 'OREGON_STATE_PRISM_009011_20240301_20240401_PPT.tif',\n",
       " 'OREGON_STATE_PRISM_010012_20240801_20240901_PPT.tif',\n",
       " 'OREGON_STATE_PRISM_011013_20241001_20241101_PPT.tif',\n",
       " 'OREGON_STATE_PRISM_012012_20241201_20250101_PPT.tif',\n",
       " 'OREGON_STATE_PRISM_009015_20240201_20240301_PPT.tif',\n",
       " 'OREGON_STATE_PRISM_010011_20240401_20240501_PPT.tif',\n",
       " 'OREGON_STATE_PRISM_009012_20241201_20250101_PPT.tif',\n",
       " 'OREGON_STATE_PRISM_012015_20240201_20240301_PPT.tif',\n",
       " 'OREGON_STATE_PRISM_009015_20240601_20240701_PPT.tif',\n",
       " 'OREGON_STATE_PRISM_010013_20240901_20241001_PPT.tif',\n",
       " 'OREGON_STATE_PRISM_012011_20240301_20240401_PPT.tif',\n",
       " 'OREGON_STATE_PRISM_011012_20240601_20240701_PPT.tif',\n",
       " 'OREGON_STATE_PRISM_012014_20241001_20241101_PPT.tif',\n",
       " 'OREGON_STATE_PRISM_011015_20241201_20250101_PPT.tif',\n",
       " 'OREGON_STATE_PRISM_011012_20240201_20240301_PPT.tif',\n",
       " 'OREGON_STATE_PRISM_010015_20241101_20241201_PPT.tif',\n",
       " 'OREGON_STATE_PRISM_009014_20241001_20241101_PPT.tif',\n",
       " 'OREGON_STATE_PRISM_011012_20240901_20241001_PPT.tif',\n",
       " 'OREGON_STATE_PRISM_012013_20241101_20241201_PPT.tif',\n",
       " 'OREGON_STATE_PRISM_009013_20241101_20241201_PPT.tif',\n",
       " 'OREGON_STATE_PRISM_011013_20240801_20240901_PPT.tif',\n",
       " 'OREGON_STATE_PRISM_010012_20241001_20241101_PPT.tif',\n",
       " 'OREGON_STATE_PRISM_010013_20240201_20240301_PPT.tif',\n",
       " 'OREGON_STATE_PRISM_012015_20240901_20241001_PPT.tif',\n",
       " 'OREGON_STATE_PRISM_011014_20241101_20241201_PPT.tif',\n",
       " 'OREGON_STATE_PRISM_009014_20240801_20240901_PPT.tif',\n",
       " 'OREGON_STATE_PRISM_010013_20240601_20240701_PPT.tif',\n",
       " 'OREGON_STATE_PRISM_012014_20240801_20240901_PPT.tif',\n",
       " 'OREGON_STATE_PRISM_009015_20240901_20241001_PPT.tif',\n",
       " 'OREGON_STATE_PRISM_010014_20241201_20250101_PPT.tif',\n",
       " 'OREGON_STATE_PRISM_010013_20241201_20250101_PPT.tif',\n",
       " 'OREGON_STATE_PRISM_010011_20240501_20240601_PPT.tif',\n",
       " 'OREGON_STATE_PRISM_010014_20240601_20240701_PPT.tif',\n",
       " 'OREGON_STATE_PRISM_009012_20240901_20241001_PPT.tif',\n",
       " 'OREGON_STATE_PRISM_012013_20240801_20240901_PPT.tif',\n",
       " 'OREGON_STATE_PRISM_009013_20240801_20240901_PPT.tif',\n",
       " 'OREGON_STATE_PRISM_010011_20240101_20240201_PPT.tif',\n",
       " 'OREGON_STATE_PRISM_011013_20241101_20241201_PPT.tif',\n",
       " 'OREGON_STATE_PRISM_012012_20240901_20241001_PPT.tif',\n",
       " 'OREGON_STATE_PRISM_010014_20240201_20240301_PPT.tif',\n",
       " 'OREGON_STATE_PRISM_010015_20241001_20241101_PPT.tif',\n",
       " 'OREGON_STATE_PRISM_011014_20240801_20240901_PPT.tif',\n",
       " 'OREGON_STATE_PRISM_009014_20241101_20241201_PPT.tif',\n",
       " 'OREGON_STATE_PRISM_012014_20241101_20241201_PPT.tif',\n",
       " 'OREGON_STATE_PRISM_011015_20240901_20241001_PPT.tif',\n",
       " 'OREGON_STATE_PRISM_010011_20240701_20240801_PPT.tif',\n",
       " 'OREGON_STATE_PRISM_009013_20241001_20241101_PPT.tif',\n",
       " 'OREGON_STATE_PRISM_011011_20240301_20240401_PPT.tif',\n",
       " 'OREGON_STATE_PRISM_010012_20241101_20241201_PPT.tif',\n",
       " 'OREGON_STATE_PRISM_011015_20240201_20240301_PPT.tif',\n",
       " 'OREGON_STATE_PRISM_011012_20241201_20250101_PPT.tif',\n",
       " 'OREGON_STATE_PRISM_011015_20240601_20240701_PPT.tif',\n",
       " 'OREGON_STATE_PRISM_012013_20241001_20241101_PPT.tif',\n",
       " 'OREGON_STATE_PRISM_009012_20240601_20240701_PPT.tif',\n",
       " 'OREGON_STATE_PRISM_010014_20240901_20241001_PPT.tif',\n",
       " 'OREGON_STATE_PRISM_009015_20241201_20250101_PPT.tif',\n",
       " 'OREGON_STATE_PRISM_012012_20240201_20240301_PPT.tif',\n",
       " 'OREGON_STATE_PRISM_012015_20241201_20250101_PPT.tif',\n",
       " 'OREGON_STATE_PRISM_009012_20240201_20240301_PPT.tif',\n",
       " 'OREGON_STATE_PRISM_012012_20240601_20240701_PPT.tif',\n",
       " 'OREGON_STATE_PRISM_011014_20241001_20241101_PPT.tif',\n",
       " 'OREGON_STATE_PRISM_010015_20240801_20240901_PPT.tif',\n",
       " 'OREGON_STATE_PRISM_010015_20240901_20241001_PPT.tif',\n",
       " 'OREGON_STATE_PRISM_009013_20240601_20240701_PPT.tif',\n",
       " 'OREGON_STATE_PRISM_012013_20240201_20240301_PPT.tif',\n",
       " 'OREGON_STATE_PRISM_011011_20240701_20240801_PPT.tif',\n",
       " 'OREGON_STATE_PRISM_009014_20241201_20250101_PPT.tif',\n",
       " 'OREGON_STATE_PRISM_009013_20240201_20240301_PPT.tif',\n",
       " 'OREGON_STATE_PRISM_012014_20241201_20250101_PPT.tif',\n",
       " 'OREGON_STATE_PRISM_011015_20241001_20241101_PPT.tif',\n",
       " 'OREGON_STATE_PRISM_010014_20240801_20240901_PPT.tif',\n",
       " 'OREGON_STATE_PRISM_012013_20240601_20240701_PPT.tif',\n",
       " 'OREGON_STATE_PRISM_009012_20241001_20241101_PPT.tif',\n",
       " 'OREGON_STATE_PRISM_011011_20240101_20240201_PPT.tif',\n",
       " 'OREGON_STATE_PRISM_010013_20241101_20241201_PPT.tif',\n",
       " 'OREGON_STATE_PRISM_011014_20240201_20240301_PPT.tif',\n",
       " 'OREGON_STATE_PRISM_011013_20241201_20250101_PPT.tif',\n",
       " 'OREGON_STATE_PRISM_011011_20240501_20240601_PPT.tif',\n",
       " 'OREGON_STATE_PRISM_012012_20241001_20241101_PPT.tif',\n",
       " 'OREGON_STATE_PRISM_011014_20240601_20240701_PPT.tif',\n",
       " 'OREGON_STATE_PRISM_010014_20241001_20241101_PPT.tif',\n",
       " 'OREGON_STATE_PRISM_011015_20240801_20240901_PPT.tif',\n",
       " 'OREGON_STATE_PRISM_009015_20241101_20241201_PPT.tif',\n",
       " 'OREGON_STATE_PRISM_011014_20240901_20241001_PPT.tif',\n",
       " 'OREGON_STATE_PRISM_012015_20241101_20241201_PPT.tif',\n",
       " 'OREGON_STATE_PRISM_009011_20240401_20240501_PPT.tif',\n",
       " 'OREGON_STATE_PRISM_010012_20241201_20250101_PPT.tif',\n",
       " 'OREGON_STATE_PRISM_012012_20240801_20240901_PPT.tif',\n",
       " 'OREGON_STATE_PRISM_009013_20240901_20241001_PPT.tif',\n",
       " 'OREGON_STATE_PRISM_010015_20240601_20240701_PPT.tif',\n",
       " 'OREGON_STATE_PRISM_012013_20240901_20241001_PPT.tif',\n",
       " 'OREGON_STATE_PRISM_009012_20240801_20240901_PPT.tif',\n",
       " 'OREGON_STATE_PRISM_011012_20241101_20241201_PPT.tif',\n",
       " 'OREGON_STATE_PRISM_010011_20240301_20240401_PPT.tif',\n",
       " 'OREGON_STATE_PRISM_010015_20240201_20240301_PPT.tif',\n",
       " 'OREGON_STATE_PRISM_012011_20240401_20240501_PPT.tif',\n",
       " 'OREGON_STATE_PRISM_010012_20240201_20240301_PPT.tif',\n",
       " 'OREGON_STATE_PRISM_011015_20241101_20241201_PPT.tif',\n",
       " 'OREGON_STATE_PRISM_009015_20240801_20240901_PPT.tif',\n",
       " 'OREGON_STATE_PRISM_012014_20240901_20241001_PPT.tif',\n",
       " 'OREGON_STATE_PRISM_009014_20240901_20241001_PPT.tif',\n",
       " 'OREGON_STATE_PRISM_012015_20240801_20240901_PPT.tif',\n",
       " 'OREGON_STATE_PRISM_010012_20240601_20240701_PPT.tif',\n",
       " 'OREGON_STATE_PRISM_010015_20241201_20250101_PPT.tif',\n",
       " 'OREGON_STATE_PRISM_011011_20240401_20240501_PPT.tif',\n",
       " 'OREGON_STATE_PRISM_012012_20241101_20241201_PPT.tif',\n",
       " 'OREGON_STATE_PRISM_011013_20240901_20241001_PPT.tif',\n",
       " 'OREGON_STATE_PRISM_009012_20241101_20241201_PPT.tif',\n",
       " 'OREGON_STATE_PRISM_011012_20240801_20240901_PPT.tif',\n",
       " 'OREGON_STATE_PRISM_010013_20241001_20241101_PPT.tif',\n",
       " 'OREGON_STATE_PRISM_012015_20241001_20241101_PPT.tif',\n",
       " 'OREGON_STATE_PRISM_011013_20240601_20240701_PPT.tif',\n",
       " 'OREGON_STATE_PRISM_009011_20240701_20240801_PPT.tif',\n",
       " 'OREGON_STATE_PRISM_011014_20241201_20250101_PPT.tif',\n",
       " 'OREGON_STATE_PRISM_011013_20240201_20240301_PPT.tif',\n",
       " 'OREGON_STATE_PRISM_012011_20240701_20240801_PPT.tif',\n",
       " 'OREGON_STATE_PRISM_010014_20241101_20241201_PPT.tif',\n",
       " 'OREGON_STATE_PRISM_009015_20241001_20241101_PPT.tif',\n",
       " 'OREGON_STATE_PRISM_010013_20240801_20240901_PPT.tif',\n",
       " 'OREGON_STATE_PRISM_009011_20240101_20240201_PPT.tif',\n",
       " 'OREGON_STATE_PRISM_011012_20241001_20241101_PPT.tif',\n",
       " 'OREGON_STATE_PRISM_012014_20240601_20240701_PPT.tif',\n",
       " 'OREGON_STATE_PRISM_009014_20240201_20240301_PPT.tif',\n",
       " 'OREGON_STATE_PRISM_012013_20241201_20250101_PPT.tif',\n",
       " 'OREGON_STATE_PRISM_012011_20240501_20240601_PPT.tif',\n",
       " 'OREGON_STATE_PRISM_012014_20240201_20240301_PPT.tif',\n",
       " 'OREGON_STATE_PRISM_009011_20240501_20240601_PPT.tif',\n",
       " 'OREGON_STATE_PRISM_009013_20241201_20250101_PPT.tif',\n",
       " 'OREGON_STATE_PRISM_012011_20240101_20240201_PPT.tif',\n",
       " 'OREGON_STATE_PRISM_010012_20240901_20241001_PPT.tif',\n",
       " 'OREGON_STATE_PRISM_009014_20240601_20240701_PPT.tif',\n",
       " 'OREGON_STATE_PRISM_011013_20240701_20240801_PPT.tif',\n",
       " 'OREGON_STATE_PRISM_012011_20240201_20240301_PPT.tif',\n",
       " 'OREGON_STATE_PRISM_009014_20240501_20240601_PPT.tif',\n",
       " 'OREGON_STATE_PRISM_010015_20240401_20240501_PPT.tif',\n",
       " 'OREGON_STATE_PRISM_012014_20240101_20240201_PPT.tif',\n",
       " 'OREGON_STATE_PRISM_012015_20240301_20240401_PPT.tif',\n",
       " 'OREGON_STATE_PRISM_009011_20240601_20240701_PPT.tif',\n",
       " 'OREGON_STATE_PRISM_009015_20240301_20240401_PPT.tif',\n",
       " 'OREGON_STATE_PRISM_009014_20240101_20240201_PPT.tif',\n",
       " 'OREGON_STATE_PRISM_012011_20240601_20240701_PPT.tif',\n",
       " 'OREGON_STATE_PRISM_009011_20240201_20240301_PPT.tif',\n",
       " 'OREGON_STATE_PRISM_012014_20240501_20240601_PPT.tif',\n",
       " 'OREGON_STATE_PRISM_012014_20240701_20240801_PPT.tif',\n",
       " 'OREGON_STATE_PRISM_010011_20241101_20241201_PPT.tif',\n",
       " 'OREGON_STATE_PRISM_011012_20240301_20240401_PPT.tif',\n",
       " 'OREGON_STATE_PRISM_011013_20240101_20240201_PPT.tif',\n",
       " 'OREGON_STATE_PRISM_009014_20240701_20240801_PPT.tif',\n",
       " 'OREGON_STATE_PRISM_011013_20240501_20240601_PPT.tif',\n",
       " 'OREGON_STATE_PRISM_011011_20241201_20250101_PPT.tif',\n",
       " 'OREGON_STATE_PRISM_010012_20240701_20240801_PPT.tif',\n",
       " 'OREGON_STATE_PRISM_011014_20240401_20240501_PPT.tif',\n",
       " 'OREGON_STATE_PRISM_009011_20240901_20241001_PPT.tif',\n",
       " 'OREGON_STATE_PRISM_010012_20240501_20240601_PPT.tif',\n",
       " 'OREGON_STATE_PRISM_009013_20240401_20240501_PPT.tif',\n",
       " 'OREGON_STATE_PRISM_012013_20240401_20240501_PPT.tif',\n",
       " 'OREGON_STATE_PRISM_010013_20240301_20240401_PPT.tif',\n",
       " 'OREGON_STATE_PRISM_010012_20240101_20240201_PPT.tif',\n",
       " 'OREGON_STATE_PRISM_012011_20240901_20241001_PPT.tif',\n",
       " 'OREGON_STATE_PRISM_010015_20240101_20240201_PPT.tif',\n",
       " 'OREGON_STATE_PRISM_010014_20240301_20240401_PPT.tif',\n",
       " 'OREGON_STATE_PRISM_012014_20240401_20240501_PPT.tif',\n",
       " 'OREGON_STATE_PRISM_009014_20240401_20240501_PPT.tif',\n",
       " 'OREGON_STATE_PRISM_010015_20240501_20240601_PPT.tif',\n",
       " 'OREGON_STATE_PRISM_011011_20240901_20241001_PPT.tif',\n",
       " 'OREGON_STATE_PRISM_010015_20240701_20240801_PPT.tif',\n",
       " 'OREGON_STATE_PRISM_011013_20240401_20240501_PPT.tif',\n",
       " 'OREGON_STATE_PRISM_010011_20241001_20241101_PPT.tif',\n",
       " 'OREGON_STATE_PRISM_009013_20240701_20240801_PPT.tif',\n",
       " 'OREGON_STATE_PRISM_011014_20240501_20240601_PPT.tif',\n",
       " 'OREGON_STATE_PRISM_011011_20240601_20240701_PPT.tif',\n",
       " 'OREGON_STATE_PRISM_011014_20240101_20240201_PPT.tif',\n",
       " 'OREGON_STATE_PRISM_011015_20240301_20240401_PPT.tif',\n",
       " 'OREGON_STATE_PRISM_012013_20240701_20240801_PPT.tif',\n",
       " 'OREGON_STATE_PRISM_011011_20240201_20240301_PPT.tif',\n",
       " 'OREGON_STATE_PRISM_012013_20240501_20240601_PPT.tif',\n",
       " 'OREGON_STATE_PRISM_012011_20241201_20250101_PPT.tif',\n",
       " 'OREGON_STATE_PRISM_010011_20240801_20240901_PPT.tif',\n",
       " 'OREGON_STATE_PRISM_009013_20240101_20240201_PPT.tif',\n",
       " 'OREGON_STATE_PRISM_009012_20240301_20240401_PPT.tif',\n",
       " 'OREGON_STATE_PRISM_012012_20240301_20240401_PPT.tif',\n",
       " 'OREGON_STATE_PRISM_012013_20240101_20240201_PPT.tif',\n",
       " 'OREGON_STATE_PRISM_011014_20240701_20240801_PPT.tif',\n",
       " 'OREGON_STATE_PRISM_010012_20240401_20240501_PPT.tif',\n",
       " 'OREGON_STATE_PRISM_009011_20241201_20250101_PPT.tif',\n",
       " 'OREGON_STATE_PRISM_009013_20240501_20240601_PPT.tif']"
      ]
     },
     "execution_count": 19,
     "metadata": {},
     "output_type": "execute_result"
    }
   ],
   "source": [
    "prism_pipeline.upload_local_folder_to_aws()"
   ]
  }
 ],
 "metadata": {
  "kernelspec": {
   "display_name": "nmw-pipelines",
   "language": "python",
   "name": "python3"
  },
  "language_info": {
   "codemirror_mode": {
    "name": "ipython",
    "version": 3
   },
   "file_extension": ".py",
   "mimetype": "text/x-python",
   "name": "python",
   "nbconvert_exporter": "python",
   "pygments_lexer": "ipython3",
   "version": "3.10.13"
  }
 },
 "nbformat": 4,
 "nbformat_minor": 2
}
