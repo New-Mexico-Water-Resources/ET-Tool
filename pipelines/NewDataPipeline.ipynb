{
 "cells": [
  {
   "cell_type": "code",
   "execution_count": 149,
   "metadata": {},
   "outputs": [
    {
     "data": {
      "text/html": [
       "\n",
       "            <style>\n",
       "                .geemap-dark {\n",
       "                    --jp-widgets-color: white;\n",
       "                    --jp-widgets-label-color: white;\n",
       "                    --jp-ui-font-color1: white;\n",
       "                    --jp-layout-color2: #454545;\n",
       "                    background-color: #383838;\n",
       "                }\n",
       "\n",
       "                .geemap-dark .jupyter-button {\n",
       "                    --jp-layout-color3: #383838;\n",
       "                }\n",
       "\n",
       "                .geemap-colab {\n",
       "                    background-color: var(--colab-primary-surface-color, white);\n",
       "                }\n",
       "\n",
       "                .geemap-colab .jupyter-button {\n",
       "                    --jp-layout-color3: var(--colab-primary-surface-color, white);\n",
       "                }\n",
       "            </style>\n",
       "            "
      ],
      "text/plain": [
       "<IPython.core.display.HTML object>"
      ]
     },
     "metadata": {},
     "output_type": "display_data"
    },
    {
     "name": "stdout",
     "output_type": "stream",
     "text": [
      "[2025-06-25 12:26:00 INFO] loading credentials: /Users/rstonebr/Documents/Programming/Water-Rights-Visualizer/water_rights_visualizer/google_drive_personal_key.txt\n",
      "[2025-06-25 12:26:00 INFO] access_token is expired. Now: 2025-06-25 19:26:00.743807, token_expiry: 2025-06-25 16:15:19\n",
      "[2025-06-25 12:26:00 INFO] Refreshing access_token\n",
      "[2025-06-25 12:26:00 INFO] saving credentials: /Users/rstonebr/Documents/Programming/Water-Rights-Visualizer/water_rights_visualizer/google_drive_personal_key.txt\n",
      "[2025-06-25 12:26:00 INFO] Found credentials in shared credentials file: ~/.aws/credentials\n"
     ]
    }
   ],
   "source": [
    "%reload_ext autoreload\n",
    "%autoreload 2\n",
    "\n",
    "import sys\n",
    "import os\n",
    "from os.path import join\n",
    "sys.path.append(\"../\")\n",
    "\n",
    "from pipelines.gee.gee_aws_pipeline import GEEAWSDataPipeline\n",
    "\n",
    "# Specify the path to the Google Drive client secret and key files\n",
    "# To generate, follow these instructions: https://docs.iterative.ai/PyDrive2/quickstart/\n",
    "current_dir = os.path.dirname(os.getcwd())\n",
    "secret_path = join(current_dir, \"water_rights_visualizer/client_secret_personal.json\")\n",
    "key_path = join(current_dir, \"water_rights_visualizer/google_drive_personal_key.txt\")\n",
    "\n",
    "# Initialize the pipeline, configured for the OpenET ensemble product\n",
    "pipeline = GEEAWSDataPipeline(\n",
    "    bands=[\"et_ensemble_mad\", \"et_ensemble_mad_min\", \"et_ensemble_mad_max\"],\n",
    "    product=\"OpenET/ENSEMBLE/CONUS/GRIDMET/MONTHLY/v2_0\",\n",
    "    product_prefix=\"OPENET_ENSEMBLE\",\n",
    "    aws_bucket=\"ose-dev-inputs\",\n",
    "    aws_region=\"us-west-2\",\n",
    "    aws_profile=\"ose-nmw\",\n",
    "    gdrive_folder=\"OPENET_EXPORTS\",\n",
    "    temp_local_folder=\"temp_data\",\n",
    "    project=\"et-exploration\",\n",
    "    gdrive_client_secrets_filename=secret_path,\n",
    "    gdrive_key_filename=key_path,\n",
    ")"
   ]
  },
  {
   "cell_type": "code",
   "execution_count": 150,
   "metadata": {},
   "outputs": [
    {
     "data": {
      "text/html": [
       "\n",
       "            <style>\n",
       "                .geemap-dark {\n",
       "                    --jp-widgets-color: white;\n",
       "                    --jp-widgets-label-color: white;\n",
       "                    --jp-ui-font-color1: white;\n",
       "                    --jp-layout-color2: #454545;\n",
       "                    background-color: #383838;\n",
       "                }\n",
       "\n",
       "                .geemap-dark .jupyter-button {\n",
       "                    --jp-layout-color3: #383838;\n",
       "                }\n",
       "\n",
       "                .geemap-colab {\n",
       "                    background-color: var(--colab-primary-surface-color, white);\n",
       "                }\n",
       "\n",
       "                .geemap-colab .jupyter-button {\n",
       "                    --jp-layout-color3: var(--colab-primary-surface-color, white);\n",
       "                }\n",
       "            </style>\n",
       "            "
      ],
      "text/plain": [
       "<IPython.core.display.HTML object>"
      ]
     },
     "metadata": {},
     "output_type": "display_data"
    },
    {
     "name": "stderr",
     "output_type": "stream",
     "text": [
      "Processing band: et_ensemble_mad:   0%|          | 0/3 [00:00<?, ?it/s]"
     ]
    },
    {
     "name": "stdout",
     "output_type": "stream",
     "text": [
      "[2025-06-25 12:26:04 INFO] Added OPENET_ENSEMBLE_009011_20000101_20000102_ET to map\n"
     ]
    },
    {
     "name": "stderr",
     "output_type": "stream",
     "text": [
      "Processing band: et_ensemble_mad_min:  33%|███▎      | 1/3 [00:00<00:01,  1.28it/s]"
     ]
    },
    {
     "name": "stdout",
     "output_type": "stream",
     "text": [
      "[2025-06-25 12:26:05 INFO] Added OPENET_ENSEMBLE_009011_20000101_20000102_ET_MIN to map\n"
     ]
    },
    {
     "name": "stderr",
     "output_type": "stream",
     "text": [
      "Processing band: et_ensemble_mad_max:  67%|██████▋   | 2/3 [00:01<00:00,  1.31it/s]"
     ]
    },
    {
     "name": "stdout",
     "output_type": "stream",
     "text": [
      "[2025-06-25 12:26:06 INFO] Added OPENET_ENSEMBLE_009011_20000101_20000102_ET_MAX to map\n"
     ]
    },
    {
     "name": "stderr",
     "output_type": "stream",
     "text": [
      "                                                                                   \r"
     ]
    },
    {
     "data": {
      "application/vnd.jupyter.widget-view+json": {
       "model_id": "009ce7d921d6422aa0378806540ad943",
       "version_major": 2,
       "version_minor": 0
      },
      "text/plain": [
       "Map(center=[0, 0], controls=(WidgetControl(options=['position', 'transparent_bg'], widget=SearchDataGUI(childr…"
      ]
     },
     "execution_count": 150,
     "metadata": {},
     "output_type": "execute_result"
    }
   ],
   "source": [
    "# Generate tiles for a single month (limit to 1 tile for testing)\n",
    "pipeline.generate_tiles_for_month(\"2000-01-01\", export=False, visualize=True, limit=1)"
   ]
  },
  {
   "cell_type": "markdown",
   "metadata": {},
   "source": [
    "## Generate tiles for a date range\n",
    "```python\n",
    "pipeline.generate_tiles_for_date_range(\"2000-01-01\", \"2001-01-01\", export=False, visualize=True)\n",
    "```\n",
    "\n",
    "## Generate tiles for a list of dates\n",
    "```python\n",
    "pre_2008_dates = pipeline.generate_date_list(\"1985-01-01\", \"2008-01-01\")\n",
    "post_2024_dates = pipeline.generate_date_list(\"2024-01-01\", \"2025-01-01\")\n",
    "\n",
    "all_dates = pre_2008_dates + post_2024_dates\n",
    "pipeline.generate_tiles_for_date_list(all_dates, export=True)\n",
    "```\n",
    "---"
   ]
  },
  {
   "cell_type": "markdown",
   "metadata": {},
   "source": [
    "# Downloading data\n",
    "\n",
    "## Option 1: Manually download from Google Drive to local folder, then transfer to AWS\n",
    "---\n",
    "```python\n",
    "# Download all files from the configured Google Drive folder to local folder\n",
    "pipeline.download_all_from_gdrive()\n",
    "\n",
    "# List all files in the Google Drive folder\n",
    "pipeline.list_gdrive_files()\n",
    "\n",
    "# Download a single file from the configured Google Drive folder to local folder\n",
    "files = pipeline.list_gdrive_files()\n",
    "file = files[0]\n",
    "pipeline.download_from_gdrive(file_id=file[\"id\"], file_name=file[\"name\"])\n",
    "\n",
    "# Transfer all files from the local folder to the configured AWS bucket\n",
    "pipeline.upload_local_folder_to_aws()\n",
    "\n",
    "# Transfer a single file from the local folder to the configured AWS bucket\n",
    "pipeline.upload_to_aws(path=\"path/to/local/file.tif\")\n",
    "```\n",
    "\n",
    "## Option 2: Download from Google Drive and immediately transfer to AWS\n",
    "---\n",
    "```python\n",
    "# Download all files from the configured Google Drive folder to local folder. Optionally delete from Google Drive and local folder while processing.\n",
    "pipeline.transfer_gdrive_to_aws(delete_from_gdrive=False, delete_from_local=True)\n",
    "\n",
    "# Download a single file from the configured Google Drive folder to local folder. Optionally delete from Google Drive and local folder while processing.\n",
    "pipeline.transfer_gdrive_file_to_aws(file_id=\"1234567890\", file_name=\"example.tif\", delete_from_local=True)\n",
    "```"
   ]
  },
  {
   "cell_type": "code",
   "execution_count": null,
   "metadata": {},
   "outputs": [
    {
     "data": {
      "text/html": [
       "\n",
       "            <style>\n",
       "                .geemap-dark {\n",
       "                    --jp-widgets-color: white;\n",
       "                    --jp-widgets-label-color: white;\n",
       "                    --jp-ui-font-color1: white;\n",
       "                    --jp-layout-color2: #454545;\n",
       "                    background-color: #383838;\n",
       "                }\n",
       "\n",
       "                .geemap-dark .jupyter-button {\n",
       "                    --jp-layout-color3: #383838;\n",
       "                }\n",
       "\n",
       "                .geemap-colab {\n",
       "                    background-color: var(--colab-primary-surface-color, white);\n",
       "                }\n",
       "\n",
       "                .geemap-colab .jupyter-button {\n",
       "                    --jp-layout-color3: var(--colab-primary-surface-color, white);\n",
       "                }\n",
       "            </style>\n",
       "            "
      ],
      "text/plain": [
       "<IPython.core.display.HTML object>"
      ]
     },
     "metadata": {},
     "output_type": "display_data"
    },
    {
     "name": "stderr",
     "output_type": "stream",
     "text": [
      "Processing date: 2024-01-01:   0%|          | 0/1 [00:00<?, ?it/s]\n",
      "\u001b[A\n",
      "\u001b[A\n",
      "\u001b[A"
     ]
    },
    {
     "name": "stdout",
     "output_type": "stream",
     "text": [
      "[2025-06-24 14:06:17 INFO] Started export for OPENET_ENSEMBLE_009011_20240101_20240102_ET\n"
     ]
    },
    {
     "name": "stderr",
     "output_type": "stream",
     "text": [
      "\n",
      "\u001b[A\n",
      "\u001b[A\n",
      "\u001b[A"
     ]
    },
    {
     "name": "stdout",
     "output_type": "stream",
     "text": [
      "[2025-06-24 14:06:18 INFO] Started export for OPENET_ENSEMBLE_009012_20240101_20240102_ET\n"
     ]
    },
    {
     "name": "stderr",
     "output_type": "stream",
     "text": [
      "\n",
      "\u001b[A\n",
      "\u001b[A\n",
      "\u001b[A"
     ]
    },
    {
     "name": "stdout",
     "output_type": "stream",
     "text": [
      "[2025-06-24 14:06:18 INFO] Started export for OPENET_ENSEMBLE_009013_20240101_20240102_ET\n"
     ]
    },
    {
     "name": "stderr",
     "output_type": "stream",
     "text": [
      "\n",
      "\u001b[A\n",
      "\u001b[A\n",
      "\u001b[A"
     ]
    },
    {
     "name": "stdout",
     "output_type": "stream",
     "text": [
      "[2025-06-24 14:06:19 INFO] Started export for OPENET_ENSEMBLE_009014_20240101_20240102_ET\n"
     ]
    },
    {
     "name": "stderr",
     "output_type": "stream",
     "text": [
      "\n",
      "\u001b[A\n",
      "\u001b[A\n",
      "\u001b[A"
     ]
    },
    {
     "name": "stdout",
     "output_type": "stream",
     "text": [
      "[2025-06-24 14:06:19 INFO] Started export for OPENET_ENSEMBLE_009015_20240101_20240102_ET\n"
     ]
    },
    {
     "name": "stderr",
     "output_type": "stream",
     "text": [
      "\n",
      "\u001b[A\n",
      "\u001b[A\n",
      "\u001b[A"
     ]
    },
    {
     "name": "stdout",
     "output_type": "stream",
     "text": [
      "[2025-06-24 14:06:20 INFO] Started export for OPENET_ENSEMBLE_010011_20240101_20240102_ET\n"
     ]
    },
    {
     "name": "stderr",
     "output_type": "stream",
     "text": [
      "\n",
      "\u001b[A\n",
      "\u001b[A\n",
      "\u001b[A"
     ]
    },
    {
     "name": "stdout",
     "output_type": "stream",
     "text": [
      "[2025-06-24 14:06:21 INFO] Started export for OPENET_ENSEMBLE_010012_20240101_20240102_ET\n"
     ]
    },
    {
     "name": "stderr",
     "output_type": "stream",
     "text": [
      "\n",
      "\u001b[A\n",
      "\u001b[A\n",
      "\u001b[A"
     ]
    },
    {
     "name": "stdout",
     "output_type": "stream",
     "text": [
      "[2025-06-24 14:06:22 INFO] Started export for OPENET_ENSEMBLE_010013_20240101_20240102_ET\n"
     ]
    },
    {
     "name": "stderr",
     "output_type": "stream",
     "text": [
      "\n",
      "\u001b[A\n",
      "\u001b[A\n",
      "\u001b[A"
     ]
    },
    {
     "name": "stdout",
     "output_type": "stream",
     "text": [
      "[2025-06-24 14:06:22 INFO] Started export for OPENET_ENSEMBLE_010014_20240101_20240102_ET\n"
     ]
    },
    {
     "name": "stderr",
     "output_type": "stream",
     "text": [
      "\n",
      "\u001b[A\n",
      "\u001b[A\n",
      "\u001b[A"
     ]
    },
    {
     "name": "stdout",
     "output_type": "stream",
     "text": [
      "[2025-06-24 14:06:23 INFO] Started export for OPENET_ENSEMBLE_010015_20240101_20240102_ET\n"
     ]
    },
    {
     "name": "stderr",
     "output_type": "stream",
     "text": [
      "\n",
      "\u001b[A\n",
      "\u001b[A\n",
      "\u001b[A"
     ]
    },
    {
     "name": "stdout",
     "output_type": "stream",
     "text": [
      "[2025-06-24 14:06:24 INFO] Started export for OPENET_ENSEMBLE_011011_20240101_20240102_ET\n"
     ]
    },
    {
     "name": "stderr",
     "output_type": "stream",
     "text": [
      "\n",
      "\u001b[A\n",
      "\u001b[A\n",
      "\u001b[A"
     ]
    },
    {
     "name": "stdout",
     "output_type": "stream",
     "text": [
      "[2025-06-24 14:06:24 INFO] Started export for OPENET_ENSEMBLE_011012_20240101_20240102_ET\n"
     ]
    },
    {
     "name": "stderr",
     "output_type": "stream",
     "text": [
      "\n",
      "\u001b[A\n",
      "\u001b[A\n",
      "\u001b[A"
     ]
    },
    {
     "name": "stdout",
     "output_type": "stream",
     "text": [
      "[2025-06-24 14:06:25 INFO] Started export for OPENET_ENSEMBLE_011013_20240101_20240102_ET\n"
     ]
    },
    {
     "name": "stderr",
     "output_type": "stream",
     "text": [
      "\n",
      "\u001b[A\n",
      "\u001b[A\n",
      "\u001b[A"
     ]
    },
    {
     "name": "stdout",
     "output_type": "stream",
     "text": [
      "[2025-06-24 14:06:26 INFO] Started export for OPENET_ENSEMBLE_011014_20240101_20240102_ET\n"
     ]
    },
    {
     "name": "stderr",
     "output_type": "stream",
     "text": [
      "\n",
      "\u001b[A\n",
      "\u001b[A\n",
      "\u001b[A"
     ]
    },
    {
     "name": "stdout",
     "output_type": "stream",
     "text": [
      "[2025-06-24 14:06:26 INFO] Started export for OPENET_ENSEMBLE_011015_20240101_20240102_ET\n"
     ]
    },
    {
     "name": "stderr",
     "output_type": "stream",
     "text": [
      "\n",
      "\u001b[A\n",
      "\u001b[A\n",
      "\u001b[A"
     ]
    },
    {
     "name": "stdout",
     "output_type": "stream",
     "text": [
      "[2025-06-24 14:06:27 INFO] Started export for OPENET_ENSEMBLE_012011_20240101_20240102_ET\n"
     ]
    },
    {
     "name": "stderr",
     "output_type": "stream",
     "text": [
      "\n",
      "\u001b[A\n",
      "\u001b[A\n",
      "\u001b[A"
     ]
    },
    {
     "name": "stdout",
     "output_type": "stream",
     "text": [
      "[2025-06-24 14:06:28 INFO] Started export for OPENET_ENSEMBLE_012012_20240101_20240102_ET\n"
     ]
    },
    {
     "name": "stderr",
     "output_type": "stream",
     "text": [
      "\n",
      "\u001b[A\n",
      "\u001b[A\n",
      "\u001b[A"
     ]
    },
    {
     "name": "stdout",
     "output_type": "stream",
     "text": [
      "[2025-06-24 14:06:28 INFO] Started export for OPENET_ENSEMBLE_012013_20240101_20240102_ET\n"
     ]
    },
    {
     "name": "stderr",
     "output_type": "stream",
     "text": [
      "\n",
      "\u001b[A\n",
      "\u001b[A\n",
      "\u001b[A"
     ]
    },
    {
     "name": "stdout",
     "output_type": "stream",
     "text": [
      "[2025-06-24 14:06:29 INFO] Started export for OPENET_ENSEMBLE_012014_20240101_20240102_ET\n"
     ]
    },
    {
     "name": "stderr",
     "output_type": "stream",
     "text": [
      "\n",
      "\u001b[A\n",
      "\u001b[A\n",
      "\u001b[A"
     ]
    },
    {
     "name": "stdout",
     "output_type": "stream",
     "text": [
      "[2025-06-24 14:06:29 INFO] Started export for OPENET_ENSEMBLE_012015_20240101_20240102_ET\n"
     ]
    },
    {
     "name": "stderr",
     "output_type": "stream",
     "text": [
      "\n",
      "\u001b[A\n",
      "\u001b[A\n",
      "\u001b[A\n",
      "\u001b[A\n",
      "\u001b[A"
     ]
    },
    {
     "name": "stdout",
     "output_type": "stream",
     "text": [
      "[2025-06-24 14:06:30 INFO] Started export for OPENET_ENSEMBLE_009011_20240101_20240102_ET_MIN\n"
     ]
    },
    {
     "name": "stderr",
     "output_type": "stream",
     "text": [
      "\n",
      "\u001b[A\n",
      "\u001b[A\n",
      "\u001b[A"
     ]
    },
    {
     "name": "stdout",
     "output_type": "stream",
     "text": [
      "[2025-06-24 14:06:31 INFO] Started export for OPENET_ENSEMBLE_009012_20240101_20240102_ET_MIN\n"
     ]
    },
    {
     "name": "stderr",
     "output_type": "stream",
     "text": [
      "\n",
      "\u001b[A\n",
      "\u001b[A\n",
      "\u001b[A"
     ]
    },
    {
     "name": "stdout",
     "output_type": "stream",
     "text": [
      "[2025-06-24 14:06:31 INFO] Started export for OPENET_ENSEMBLE_009013_20240101_20240102_ET_MIN\n"
     ]
    },
    {
     "name": "stderr",
     "output_type": "stream",
     "text": [
      "\n",
      "\u001b[A\n",
      "\u001b[A\n",
      "\u001b[A"
     ]
    },
    {
     "name": "stdout",
     "output_type": "stream",
     "text": [
      "[2025-06-24 14:06:32 INFO] Started export for OPENET_ENSEMBLE_009014_20240101_20240102_ET_MIN\n"
     ]
    },
    {
     "name": "stderr",
     "output_type": "stream",
     "text": [
      "\n",
      "\u001b[A\n",
      "\u001b[A\n",
      "\u001b[A"
     ]
    },
    {
     "name": "stdout",
     "output_type": "stream",
     "text": [
      "[2025-06-24 14:06:32 INFO] Started export for OPENET_ENSEMBLE_009015_20240101_20240102_ET_MIN\n"
     ]
    },
    {
     "name": "stderr",
     "output_type": "stream",
     "text": [
      "\n",
      "\u001b[A\n",
      "\u001b[A\n",
      "\u001b[A"
     ]
    },
    {
     "name": "stdout",
     "output_type": "stream",
     "text": [
      "[2025-06-24 14:06:33 INFO] Started export for OPENET_ENSEMBLE_010011_20240101_20240102_ET_MIN\n"
     ]
    },
    {
     "name": "stderr",
     "output_type": "stream",
     "text": [
      "\n",
      "\u001b[A\n",
      "\u001b[A\n",
      "\u001b[A"
     ]
    },
    {
     "name": "stdout",
     "output_type": "stream",
     "text": [
      "[2025-06-24 14:06:34 INFO] Started export for OPENET_ENSEMBLE_010012_20240101_20240102_ET_MIN\n"
     ]
    },
    {
     "name": "stderr",
     "output_type": "stream",
     "text": [
      "\n",
      "\u001b[A\n",
      "\u001b[A\n",
      "\u001b[A"
     ]
    },
    {
     "name": "stdout",
     "output_type": "stream",
     "text": [
      "[2025-06-24 14:06:34 INFO] Started export for OPENET_ENSEMBLE_010013_20240101_20240102_ET_MIN\n"
     ]
    },
    {
     "name": "stderr",
     "output_type": "stream",
     "text": [
      "\n",
      "\u001b[A\n",
      "\u001b[A\n",
      "\u001b[A"
     ]
    },
    {
     "name": "stdout",
     "output_type": "stream",
     "text": [
      "[2025-06-24 14:06:35 INFO] Started export for OPENET_ENSEMBLE_010014_20240101_20240102_ET_MIN\n"
     ]
    },
    {
     "name": "stderr",
     "output_type": "stream",
     "text": [
      "\n",
      "\u001b[A\n",
      "\u001b[A\n",
      "\u001b[A"
     ]
    },
    {
     "name": "stdout",
     "output_type": "stream",
     "text": [
      "[2025-06-24 14:06:35 INFO] Started export for OPENET_ENSEMBLE_010015_20240101_20240102_ET_MIN\n"
     ]
    },
    {
     "name": "stderr",
     "output_type": "stream",
     "text": [
      "\n",
      "\u001b[A\n",
      "\u001b[A\n",
      "\u001b[A"
     ]
    },
    {
     "name": "stdout",
     "output_type": "stream",
     "text": [
      "[2025-06-24 14:06:36 INFO] Started export for OPENET_ENSEMBLE_011011_20240101_20240102_ET_MIN\n"
     ]
    },
    {
     "name": "stderr",
     "output_type": "stream",
     "text": [
      "\n",
      "\u001b[A\n",
      "\u001b[A\n",
      "\u001b[A"
     ]
    },
    {
     "name": "stdout",
     "output_type": "stream",
     "text": [
      "[2025-06-24 14:06:36 INFO] Started export for OPENET_ENSEMBLE_011012_20240101_20240102_ET_MIN\n"
     ]
    },
    {
     "name": "stderr",
     "output_type": "stream",
     "text": [
      "\n",
      "\u001b[A\n",
      "\u001b[A\n",
      "\u001b[A"
     ]
    },
    {
     "name": "stdout",
     "output_type": "stream",
     "text": [
      "[2025-06-24 14:06:37 INFO] Started export for OPENET_ENSEMBLE_011013_20240101_20240102_ET_MIN\n"
     ]
    },
    {
     "name": "stderr",
     "output_type": "stream",
     "text": [
      "\n",
      "\u001b[A\n",
      "\u001b[A\n",
      "\u001b[A"
     ]
    },
    {
     "name": "stdout",
     "output_type": "stream",
     "text": [
      "[2025-06-24 14:06:37 INFO] Started export for OPENET_ENSEMBLE_011014_20240101_20240102_ET_MIN\n"
     ]
    },
    {
     "name": "stderr",
     "output_type": "stream",
     "text": [
      "\n",
      "\u001b[A\n",
      "\u001b[A\n",
      "\u001b[A"
     ]
    },
    {
     "name": "stdout",
     "output_type": "stream",
     "text": [
      "[2025-06-24 14:06:38 INFO] Started export for OPENET_ENSEMBLE_011015_20240101_20240102_ET_MIN\n"
     ]
    },
    {
     "name": "stderr",
     "output_type": "stream",
     "text": [
      "\n",
      "\u001b[A\n",
      "\u001b[A\n",
      "\u001b[A"
     ]
    },
    {
     "name": "stdout",
     "output_type": "stream",
     "text": [
      "[2025-06-24 14:06:38 INFO] Started export for OPENET_ENSEMBLE_012011_20240101_20240102_ET_MIN\n"
     ]
    },
    {
     "name": "stderr",
     "output_type": "stream",
     "text": [
      "\n",
      "\u001b[A\n",
      "\u001b[A\n",
      "\u001b[A"
     ]
    },
    {
     "name": "stdout",
     "output_type": "stream",
     "text": [
      "[2025-06-24 14:06:39 INFO] Started export for OPENET_ENSEMBLE_012012_20240101_20240102_ET_MIN\n"
     ]
    },
    {
     "name": "stderr",
     "output_type": "stream",
     "text": [
      "\n",
      "\u001b[A\n",
      "\u001b[A\n",
      "\u001b[A"
     ]
    },
    {
     "name": "stdout",
     "output_type": "stream",
     "text": [
      "[2025-06-24 14:06:39 INFO] Started export for OPENET_ENSEMBLE_012013_20240101_20240102_ET_MIN\n"
     ]
    },
    {
     "name": "stderr",
     "output_type": "stream",
     "text": [
      "\n",
      "\u001b[A\n",
      "\u001b[A\n",
      "\u001b[A"
     ]
    },
    {
     "name": "stdout",
     "output_type": "stream",
     "text": [
      "[2025-06-24 14:06:40 INFO] Started export for OPENET_ENSEMBLE_012014_20240101_20240102_ET_MIN\n"
     ]
    },
    {
     "name": "stderr",
     "output_type": "stream",
     "text": [
      "\n",
      "\u001b[A\n",
      "\u001b[A\n",
      "\u001b[A"
     ]
    },
    {
     "name": "stdout",
     "output_type": "stream",
     "text": [
      "[2025-06-24 14:06:40 INFO] Started export for OPENET_ENSEMBLE_012015_20240101_20240102_ET_MIN\n"
     ]
    },
    {
     "name": "stderr",
     "output_type": "stream",
     "text": [
      "\n",
      "\u001b[A\n",
      "\u001b[A\n",
      "\u001b[A\n",
      "\u001b[A\n",
      "\u001b[A"
     ]
    },
    {
     "name": "stdout",
     "output_type": "stream",
     "text": [
      "[2025-06-24 14:06:41 INFO] Started export for OPENET_ENSEMBLE_009011_20240101_20240102_ET_MAX\n"
     ]
    },
    {
     "name": "stderr",
     "output_type": "stream",
     "text": [
      "\n",
      "\u001b[A\n",
      "\u001b[A\n",
      "\u001b[A"
     ]
    },
    {
     "name": "stdout",
     "output_type": "stream",
     "text": [
      "[2025-06-24 14:06:42 INFO] Started export for OPENET_ENSEMBLE_009012_20240101_20240102_ET_MAX\n"
     ]
    },
    {
     "name": "stderr",
     "output_type": "stream",
     "text": [
      "\n",
      "\u001b[A\n",
      "\u001b[A\n",
      "\u001b[A"
     ]
    },
    {
     "name": "stdout",
     "output_type": "stream",
     "text": [
      "[2025-06-24 14:06:43 INFO] Started export for OPENET_ENSEMBLE_009013_20240101_20240102_ET_MAX\n"
     ]
    },
    {
     "name": "stderr",
     "output_type": "stream",
     "text": [
      "\n",
      "\u001b[A\n",
      "\u001b[A\n",
      "\u001b[A"
     ]
    },
    {
     "name": "stdout",
     "output_type": "stream",
     "text": [
      "[2025-06-24 14:06:43 INFO] Started export for OPENET_ENSEMBLE_009014_20240101_20240102_ET_MAX\n"
     ]
    },
    {
     "name": "stderr",
     "output_type": "stream",
     "text": [
      "\n",
      "\u001b[A\n",
      "\u001b[A\n",
      "\u001b[A"
     ]
    },
    {
     "name": "stdout",
     "output_type": "stream",
     "text": [
      "[2025-06-24 14:06:44 INFO] Started export for OPENET_ENSEMBLE_009015_20240101_20240102_ET_MAX\n"
     ]
    },
    {
     "name": "stderr",
     "output_type": "stream",
     "text": [
      "\n",
      "\u001b[A\n",
      "\u001b[A\n",
      "\u001b[A"
     ]
    },
    {
     "name": "stdout",
     "output_type": "stream",
     "text": [
      "[2025-06-24 14:06:44 INFO] Started export for OPENET_ENSEMBLE_010011_20240101_20240102_ET_MAX\n"
     ]
    },
    {
     "name": "stderr",
     "output_type": "stream",
     "text": [
      "\n",
      "\u001b[A\n",
      "\u001b[A\n",
      "\u001b[A"
     ]
    },
    {
     "name": "stdout",
     "output_type": "stream",
     "text": [
      "[2025-06-24 14:06:45 INFO] Started export for OPENET_ENSEMBLE_010012_20240101_20240102_ET_MAX\n"
     ]
    },
    {
     "name": "stderr",
     "output_type": "stream",
     "text": [
      "\n",
      "\u001b[A\n",
      "\u001b[A\n",
      "\u001b[A"
     ]
    },
    {
     "name": "stdout",
     "output_type": "stream",
     "text": [
      "[2025-06-24 14:06:45 INFO] Started export for OPENET_ENSEMBLE_010013_20240101_20240102_ET_MAX\n"
     ]
    },
    {
     "name": "stderr",
     "output_type": "stream",
     "text": [
      "\n",
      "\u001b[A\n",
      "\u001b[A\n",
      "\u001b[A"
     ]
    },
    {
     "name": "stdout",
     "output_type": "stream",
     "text": [
      "[2025-06-24 14:06:45 INFO] Started export for OPENET_ENSEMBLE_010014_20240101_20240102_ET_MAX\n"
     ]
    },
    {
     "name": "stderr",
     "output_type": "stream",
     "text": [
      "\n",
      "\u001b[A\n",
      "\u001b[A\n",
      "\u001b[A"
     ]
    },
    {
     "name": "stdout",
     "output_type": "stream",
     "text": [
      "[2025-06-24 14:06:46 INFO] Started export for OPENET_ENSEMBLE_010015_20240101_20240102_ET_MAX\n"
     ]
    },
    {
     "name": "stderr",
     "output_type": "stream",
     "text": [
      "\n",
      "\u001b[A\n",
      "\u001b[A\n",
      "\u001b[A"
     ]
    },
    {
     "name": "stdout",
     "output_type": "stream",
     "text": [
      "[2025-06-24 14:06:46 INFO] Started export for OPENET_ENSEMBLE_011011_20240101_20240102_ET_MAX\n"
     ]
    },
    {
     "name": "stderr",
     "output_type": "stream",
     "text": [
      "\n",
      "\u001b[A\n",
      "\u001b[A\n",
      "\u001b[A"
     ]
    },
    {
     "name": "stdout",
     "output_type": "stream",
     "text": [
      "[2025-06-24 14:06:47 INFO] Started export for OPENET_ENSEMBLE_011012_20240101_20240102_ET_MAX\n"
     ]
    },
    {
     "name": "stderr",
     "output_type": "stream",
     "text": [
      "\n",
      "\u001b[A\n",
      "\u001b[A\n",
      "\u001b[A"
     ]
    },
    {
     "name": "stdout",
     "output_type": "stream",
     "text": [
      "[2025-06-24 14:06:47 INFO] Started export for OPENET_ENSEMBLE_011013_20240101_20240102_ET_MAX\n"
     ]
    },
    {
     "name": "stderr",
     "output_type": "stream",
     "text": [
      "\n",
      "\u001b[A\n",
      "\u001b[A\n",
      "\u001b[A"
     ]
    },
    {
     "name": "stdout",
     "output_type": "stream",
     "text": [
      "[2025-06-24 14:06:48 INFO] Started export for OPENET_ENSEMBLE_011014_20240101_20240102_ET_MAX\n"
     ]
    },
    {
     "name": "stderr",
     "output_type": "stream",
     "text": [
      "\n",
      "\u001b[A\n",
      "\u001b[A\n",
      "\u001b[A"
     ]
    },
    {
     "name": "stdout",
     "output_type": "stream",
     "text": [
      "[2025-06-24 14:06:48 INFO] Started export for OPENET_ENSEMBLE_011015_20240101_20240102_ET_MAX\n"
     ]
    },
    {
     "name": "stderr",
     "output_type": "stream",
     "text": [
      "\n",
      "\u001b[A\n",
      "\u001b[A\n",
      "\u001b[A"
     ]
    },
    {
     "name": "stdout",
     "output_type": "stream",
     "text": [
      "[2025-06-24 14:06:49 INFO] Started export for OPENET_ENSEMBLE_012011_20240101_20240102_ET_MAX\n"
     ]
    },
    {
     "name": "stderr",
     "output_type": "stream",
     "text": [
      "\n",
      "\u001b[A\n",
      "\u001b[A\n",
      "\u001b[A"
     ]
    },
    {
     "name": "stdout",
     "output_type": "stream",
     "text": [
      "[2025-06-24 14:06:49 INFO] Started export for OPENET_ENSEMBLE_012012_20240101_20240102_ET_MAX\n"
     ]
    },
    {
     "name": "stderr",
     "output_type": "stream",
     "text": [
      "\n",
      "\u001b[A\n",
      "\u001b[A\n",
      "\u001b[A"
     ]
    },
    {
     "name": "stdout",
     "output_type": "stream",
     "text": [
      "[2025-06-24 14:06:50 INFO] Started export for OPENET_ENSEMBLE_012013_20240101_20240102_ET_MAX\n"
     ]
    },
    {
     "name": "stderr",
     "output_type": "stream",
     "text": [
      "\n",
      "\u001b[A\n",
      "\u001b[A\n",
      "\u001b[A"
     ]
    },
    {
     "name": "stdout",
     "output_type": "stream",
     "text": [
      "[2025-06-24 14:06:50 INFO] Started export for OPENET_ENSEMBLE_012014_20240101_20240102_ET_MAX\n"
     ]
    },
    {
     "name": "stderr",
     "output_type": "stream",
     "text": [
      "\n",
      "\u001b[A\n",
      "\u001b[A\n",
      "\u001b[A"
     ]
    },
    {
     "name": "stdout",
     "output_type": "stream",
     "text": [
      "[2025-06-24 14:06:51 INFO] Started export for OPENET_ENSEMBLE_012015_20240101_20240102_ET_MAX\n"
     ]
    },
    {
     "name": "stderr",
     "output_type": "stream",
     "text": [
      "\n",
      "\u001b[A\n",
      "                                                                          \r"
     ]
    }
   ],
   "source": [
    "pipeline.generate_tiles_for_date_range(\"2024-01-01\", \"2024-02-01\")"
   ]
  },
  {
   "cell_type": "code",
   "execution_count": null,
   "metadata": {},
   "outputs": [],
   "source": [
    "pipeline.transfer_gdrive_to_aws(delete_from_local=True)"
   ]
  },
  {
   "cell_type": "code",
   "execution_count": 141,
   "metadata": {},
   "outputs": [
    {
     "data": {
      "text/html": [
       "\n",
       "            <style>\n",
       "                .geemap-dark {\n",
       "                    --jp-widgets-color: white;\n",
       "                    --jp-widgets-label-color: white;\n",
       "                    --jp-ui-font-color1: white;\n",
       "                    --jp-layout-color2: #454545;\n",
       "                    background-color: #383838;\n",
       "                }\n",
       "\n",
       "                .geemap-dark .jupyter-button {\n",
       "                    --jp-layout-color3: #383838;\n",
       "                }\n",
       "\n",
       "                .geemap-colab {\n",
       "                    background-color: var(--colab-primary-surface-color, white);\n",
       "                }\n",
       "\n",
       "                .geemap-colab .jupyter-button {\n",
       "                    --jp-layout-color3: var(--colab-primary-surface-color, white);\n",
       "                }\n",
       "            </style>\n",
       "            "
      ],
      "text/plain": [
       "<IPython.core.display.HTML object>"
      ]
     },
     "metadata": {},
     "output_type": "display_data"
    },
    {
     "name": "stdout",
     "output_type": "stream",
     "text": [
      "[2025-06-25 08:51:22 INFO] loading credentials: /Users/rstonebr/Documents/Programming/Water-Rights-Visualizer/water_rights_visualizer/google_drive_personal_key.txt\n",
      "[2025-06-25 08:51:22 INFO] saving credentials: /Users/rstonebr/Documents/Programming/Water-Rights-Visualizer/water_rights_visualizer/google_drive_personal_key.txt\n",
      "[2025-06-25 08:51:22 INFO] Found credentials in shared credentials file: ~/.aws/credentials\n"
     ]
    }
   ],
   "source": [
    "# GRIDMET Data Pipeline\n",
    "gridmet_pipeline = GEEAWSDataPipeline(\n",
    "    bands=[\"eto\"],\n",
    "    product=\"IDAHO_EPSCOR/GRIDMET\",\n",
    "    product_prefix=\"IDAHO_EPSCOR_GRIDMET\",\n",
    "    tile_ids=[],\n",
    "    aws_bucket=\"ose-dev-inputs\",\n",
    "    aws_region=\"us-west-2\",\n",
    "    aws_profile=\"ose-nmw\",\n",
    "    gdrive_folder=\"OPENET_EXPORTS\",\n",
    "    temp_local_folder=\"temp_data\",\n",
    "    project=\"et-exploration\",\n",
    "    gdrive_client_secrets_filename=secret_path,\n",
    "    gdrive_key_filename=key_path,\n",
    "    monthly_sum=True,\n",
    ")"
   ]
  },
  {
   "cell_type": "code",
   "execution_count": 148,
   "metadata": {},
   "outputs": [
    {
     "data": {
      "text/html": [
       "\n",
       "            <style>\n",
       "                .geemap-dark {\n",
       "                    --jp-widgets-color: white;\n",
       "                    --jp-widgets-label-color: white;\n",
       "                    --jp-ui-font-color1: white;\n",
       "                    --jp-layout-color2: #454545;\n",
       "                    background-color: #383838;\n",
       "                }\n",
       "\n",
       "                .geemap-dark .jupyter-button {\n",
       "                    --jp-layout-color3: #383838;\n",
       "                }\n",
       "\n",
       "                .geemap-colab {\n",
       "                    background-color: var(--colab-primary-surface-color, white);\n",
       "                }\n",
       "\n",
       "                .geemap-colab .jupyter-button {\n",
       "                    --jp-layout-color3: var(--colab-primary-surface-color, white);\n",
       "                }\n",
       "            </style>\n",
       "            "
      ],
      "text/plain": [
       "<IPython.core.display.HTML object>"
      ]
     },
     "metadata": {},
     "output_type": "display_data"
    },
    {
     "name": "stderr",
     "output_type": "stream",
     "text": [
      "Processing band: eto:   0%|          | 0/1 [00:00<?, ?it/s]"
     ]
    },
    {
     "name": "stdout",
     "output_type": "stream",
     "text": [
      "[2025-06-25 12:24:56 INFO] Summing up 31 images in the collection for the month: 2001-03-01\n"
     ]
    },
    {
     "name": "stderr",
     "output_type": "stream",
     "text": []
    },
    {
     "name": "stdout",
     "output_type": "stream",
     "text": [
      "[2025-06-25 12:24:57 INFO] Added IDAHO_EPSCOR_GRIDMET_009011_20010301_20010302_eto to map\n"
     ]
    },
    {
     "name": "stderr",
     "output_type": "stream",
     "text": []
    },
    {
     "name": "stdout",
     "output_type": "stream",
     "text": [
      "[2025-06-25 12:24:58 INFO] Added IDAHO_EPSCOR_GRIDMET_009012_20010301_20010302_eto to map\n"
     ]
    },
    {
     "name": "stderr",
     "output_type": "stream",
     "text": [
      "                                                                   \r"
     ]
    },
    {
     "data": {
      "application/vnd.jupyter.widget-view+json": {
       "model_id": "1129a19be6f547009f3d19eb94f9346b",
       "version_major": 2,
       "version_minor": 0
      },
      "text/plain": [
       "Map(center=[0, 0], controls=(WidgetControl(options=['position', 'transparent_bg'], widget=SearchDataGUI(childr…"
      ]
     },
     "execution_count": 148,
     "metadata": {},
     "output_type": "execute_result"
    }
   ],
   "source": [
    "gridmet_pipeline.generate_tiles_for_month(\"2001-03-01\", export=False, visualize=True,limit=2)"
   ]
  },
  {
   "cell_type": "code",
   "execution_count": null,
   "metadata": {},
   "outputs": [],
   "source": []
  }
 ],
 "metadata": {
  "kernelspec": {
   "display_name": "nmw-test",
   "language": "python",
   "name": "python3"
  },
  "language_info": {
   "codemirror_mode": {
    "name": "ipython",
    "version": 3
   },
   "file_extension": ".py",
   "mimetype": "text/x-python",
   "name": "python",
   "nbconvert_exporter": "python",
   "pygments_lexer": "ipython3",
   "version": "3.10.14"
  }
 },
 "nbformat": 4,
 "nbformat_minor": 2
}
