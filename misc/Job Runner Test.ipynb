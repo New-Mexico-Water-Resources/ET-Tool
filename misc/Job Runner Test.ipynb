{
 "cells": [
  {
   "cell_type": "code",
   "execution_count": 2,
   "id": "6bd2a378",
   "metadata": {},
   "outputs": [],
   "source": [
    "import sys\n",
    "import os\n",
    "\n",
    "# Get the current working directory (which is the directory where the notebook is running)\n",
    "current_dir = os.getcwd()\n",
    "\n",
    "# Get the parent directory\n",
    "parent_dir = os.path.abspath(os.path.join(current_dir, \"..\"))\n",
    "\n",
    "# Set pwd one directory back\n",
    "os.chdir(parent_dir)"
   ]
  },
  {
   "cell_type": "code",
   "execution_count": null,
   "id": "1f12eff5",
   "metadata": {},
   "outputs": [
    {
     "name": "stdout",
     "output_type": "stream",
     "text": [
      "[2025-08-13 14:24:37 INFO] NumExpr defaulting to 12 threads.\n"
     ]
    }
   ],
   "source": [
    "%load_ext autoreload\n",
    "%autoreload 2\n",
    "\n",
    "import os\n",
    "from os.path import join\n",
    "import logging\n",
    "import json\n",
    "\n",
    "from water_rights_visualizer import water_rights_visualizer\n",
    "from water_rights_visualizer.S3_source import S3Source"
   ]
  },
  {
   "cell_type": "code",
   "execution_count": 4,
   "id": "5b4760fd",
   "metadata": {},
   "outputs": [],
   "source": [
    "logger = logging.getLogger(__name__)"
   ]
  },
  {
   "cell_type": "code",
   "execution_count": 5,
   "id": "67c71f1c",
   "metadata": {},
   "outputs": [],
   "source": [
    "import pymongo\n",
    "\n",
    "\n",
    "def build_mongo_client_and_collection():\n",
    "    # todo: read from ENV vars and then use defaults if not available\n",
    "    user = os.environ.get(\"MONGO_INITDB_ROOT_USERNAME\", \"\")\n",
    "    cred = os.environ.get(\"MONGO_INITDB_ROOT_PASSWORD\", \"\")\n",
    "    # host = os.environ.get(\"MONGO_HOST\", \"water-rights-visualizer-mongo\")\n",
    "    host = os.environ.get(\"MONGO_HOST\", \"localhost\")\n",
    "    port = os.environ.get(\"MONGO_PORT\", 27017)\n",
    "    if isinstance(port, str) and port.isdigit():\n",
    "        port = int(port)\n",
    "\n",
    "    database = os.environ.get(\"MONGO_DATABASE\", \"water\")\n",
    "    collection = os.environ.get(\"MONGO_COLLECTION\", \"report_queue\")\n",
    "\n",
    "    mongo_str = \"mongodb://{}:{}@{}:{}\".format(user, cred, host, port)\n",
    "\n",
    "    client = pymongo.MongoClient(host=host, username=user, password=cred, port=port, directConnection=True)\n",
    "\n",
    "    db = client[database]\n",
    "    collect = db[collection]\n",
    "\n",
    "    return collect\n",
    "\n",
    "\n",
    "report_queue = build_mongo_client_and_collection()"
   ]
  },
  {
   "cell_type": "code",
   "execution_count": 19,
   "id": "4eb5c5bb",
   "metadata": {},
   "outputs": [
    {
     "name": "stdout",
     "output_type": "stream",
     "text": [
      "The autoreload extension is already loaded. To reload it, use:\n",
      "  %reload_ext autoreload\n",
      "[2025-08-13 15:21:50 INFO] name: 03479\n",
      "[2025-08-13 15:21:50 INFO] start year: 2023\n",
      "[2025-08-13 15:21:50 INFO] end year: 2023\n",
      "[2025-08-13 15:21:50 INFO] working directory: /Users/rstonebr/data/water_rights_runs/03479_2023_2023_1755108445534\n",
      "[2025-08-13 15:21:50 INFO] GeoJSON file: /Users/rstonebr/data/water_rights_runs/03479_2023_2023_1755108445534/03479.geojson\n",
      "[2025-08-13 15:21:50 INFO] status file: /Users/rstonebr/data/water_rights_runs/03479_2023_2023_1755108445534/status.txt\n",
      "[2025-08-13 15:21:50 INFO] S3 temporary directory: /Users/rstonebr/data/water_rights_runs/03479_2023_2023_1755108445534/temp\n",
      "[2025-08-13 15:21:50 INFO] Found credentials in shared credentials file: ~/.aws/credentials\n",
      "[2025-08-13 15:21:50 INFO] boundary file: \u001b[34m/Users/rstonebr/data/water_rights_runs/03479_2023_2023_1755108445534/03479.geojson\u001b[0m\n",
      "[2025-08-13 15:21:50 INFO] output directory: \u001b[34m/Users/rstonebr/data/water_rights_runs/03479_2023_2023_1755108445534/output\u001b[0m\n",
      "[2025-08-13 15:21:50 INFO] working directory: \u001b[34m/Users/rstonebr/data/water_rights_runs/03479_2023_2023_1755108445534/output\u001b[0m\n",
      "[2025-08-13 15:21:50 INFO] target: \u001b[33m/Users/rstonebr/data/water_rights_runs/03479_2023_2023_1755108445534/03479.geojson\u001b[0m\n",
      "[2025-08-13 15:21:50 INFO] Start Time:1521\n",
      "\n",
      "[2025-08-13 15:21:50 INFO] Generating ET for 03479:\n",
      "2023\n",
      "\n",
      "[2025-08-13 15:21:50 INFO] ROI name: 03479\n",
      "[2025-08-13 15:21:50 INFO] loading ROI: /Users/rstonebr/data/water_rights_runs/03479_2023_2023_1755108445534/03479.geojson\n",
      "[2025-08-13 15:21:50 INFO] Created 1 records\n",
      "[2025-08-13 15:21:52 INFO] processing year \u001b[32m2023\u001b[0m at ROI \u001b[33m03479\u001b[0m\n",
      "[2025-08-13 15:21:52 INFO] figure already exists: \u001b[34m/Users/rstonebr/data/water_rights_runs/03479_2023_2023_1755108445534/output/figures/03479/2023_03479.png\u001b[0m, skipping...\n",
      "[2025-08-13 15:21:52 INFO] figure exists in working directory\n",
      "\n",
      "[2025-08-13 15:21:52 INFO] Process Year Run Time: 4.211266835530599e-05 minutes\n",
      "\n",
      "\n"
     ]
    },
    {
     "name": "stderr",
     "output_type": "stream",
     "text": [
      "/Users/rstonebr/Documents/Programming/Water-Rights-Visualizer/water_rights_visualizer/pdf_report_generator.py:69: UserWarning: This figure includes Axes that are not compatible with tight_layout, so results might be incorrect.\n",
      "  pdf.savefig(fig, bbox_inches=\"tight\", pad_inches=0)\n"
     ]
    },
    {
     "name": "stdout",
     "output_type": "stream",
     "text": [
      "[2025-08-13 15:21:52 INFO] metric report saved to /Users/rstonebr/data/water_rights_runs/03479_2023_2023_1755108445534/output/figures/03479/03479_Report.pdf\n",
      "\n",
      "[2025-08-13 15:21:53 INFO] imperial report saved to /Users/rstonebr/data/water_rights_runs/03479_2023_2023_1755108445534/output/figures/03479/03479_Imperial_Report.pdf\n",
      "\n",
      "[2025-08-13 15:21:53 INFO] End Time:1521\n",
      "\n",
      "[2025-08-13 15:21:53 INFO] Created 1 records\n",
      "\u001b[33m[2025-08-13 15:21:53 WARNING] 'ET' not in column names for /Users/rstonebr/data/water_rights_runs/03479_2023_2023_1755108445534/output/monthly_means/03479/03479_combined.csv. Excluding from min/max calculation.\u001b[0m\n",
      "\u001b[33m[2025-08-13 15:21:53 WARNING] 'PET' not in column names for /Users/rstonebr/data/water_rights_runs/03479_2023_2023_1755108445534/output/monthly_means/03479/03479_combined.csv. Excluding from min/max calculation.\u001b[0m\n",
      "\u001b[33m[2025-08-13 15:21:53 WARNING] 'ET' not in column names for /Users/rstonebr/data/water_rights_runs/03479_2023_2023_1755108445534/output/monthly_means/03479/03479_combined.csv. Excluding from min/max calculation.\u001b[0m\n",
      "\u001b[33m[2025-08-13 15:21:53 WARNING] 'ET' not in column names for /Users/rstonebr/data/water_rights_runs/03479_2023_2023_1755108445534/output/monthly_means/03479/2023_monthly_means_temp_mm.csv. Excluding from min/max calculation.\u001b[0m\n",
      "\u001b[33m[2025-08-13 15:21:53 WARNING] 'PET' not in column names for /Users/rstonebr/data/water_rights_runs/03479_2023_2023_1755108445534/output/monthly_means/03479/2023_monthly_means_temp_mm.csv. Excluding from min/max calculation.\u001b[0m\n",
      "\u001b[33m[2025-08-13 15:21:53 WARNING] 'ET' not in column names for /Users/rstonebr/data/water_rights_runs/03479_2023_2023_1755108445534/output/monthly_means/03479/2023_monthly_means_temp_mm.csv. Excluding from min/max calculation.\u001b[0m\n",
      "START YEAR 2023 END YEAR 2023\n",
      "****** GEN YEAR ***** 2023\n",
      "\u001b[33m[2025-08-13 15:21:53 WARNING] CPLE_AppDefined in PROJ: internal_proj_create_from_database: /opt/homebrew/anaconda3/envs/nmw-test/share/proj/proj.db contains DATABASE.LAYOUT.VERSION.MINOR = 2 whereas a number >= 3 is expected. It comes from another PROJ installation.\u001b[0m\n",
      "[2025-08-13 15:21:53 INFO] generating figure for year 2023 ROI 03479 units: <water_rights_visualizer.plotting_helpers.MetricETUnit object at 0x34147ada0>\n",
      "****** GEN MONTH ***** 1 2023\n",
      "[2025-08-13 15:21:53 INFO] rendering month: 1 sub-figure: 0\n",
      "[2025-08-13 15:21:53 INFO] sub-figure title: January\n",
      "\u001b[33m[2025-08-13 15:21:53 WARNING] CPLE_AppDefined in PROJ: internal_proj_create_from_database: /opt/homebrew/anaconda3/envs/nmw-test/share/proj/proj.db contains DATABASE.LAYOUT.VERSION.MINOR = 2 whereas a number >= 3 is expected. It comes from another PROJ installation.\u001b[0m\n",
      "****** GEN MONTH ***** 2 2023\n",
      "[2025-08-13 15:21:53 INFO] rendering month: 2 sub-figure: 1\n",
      "[2025-08-13 15:21:53 INFO] sub-figure title: February\n",
      "\u001b[33m[2025-08-13 15:21:53 WARNING] CPLE_AppDefined in PROJ: internal_proj_create_from_database: /opt/homebrew/anaconda3/envs/nmw-test/share/proj/proj.db contains DATABASE.LAYOUT.VERSION.MINOR = 2 whereas a number >= 3 is expected. It comes from another PROJ installation.\u001b[0m\n",
      "****** GEN MONTH ***** 3 2023\n",
      "[2025-08-13 15:21:53 INFO] rendering month: 3 sub-figure: 2\n",
      "[2025-08-13 15:21:53 INFO] sub-figure title: March\n",
      "\u001b[33m[2025-08-13 15:21:53 WARNING] CPLE_AppDefined in PROJ: internal_proj_create_from_database: /opt/homebrew/anaconda3/envs/nmw-test/share/proj/proj.db contains DATABASE.LAYOUT.VERSION.MINOR = 2 whereas a number >= 3 is expected. It comes from another PROJ installation.\u001b[0m\n",
      "****** GEN MONTH ***** 4 2023\n",
      "[2025-08-13 15:21:53 INFO] rendering month: 4 sub-figure: 3\n",
      "[2025-08-13 15:21:53 INFO] sub-figure title: April\n",
      "\u001b[33m[2025-08-13 15:21:53 WARNING] CPLE_AppDefined in PROJ: internal_proj_create_from_database: /opt/homebrew/anaconda3/envs/nmw-test/share/proj/proj.db contains DATABASE.LAYOUT.VERSION.MINOR = 2 whereas a number >= 3 is expected. It comes from another PROJ installation.\u001b[0m\n",
      "****** GEN MONTH ***** 5 2023\n",
      "[2025-08-13 15:21:53 INFO] rendering month: 5 sub-figure: 4\n",
      "[2025-08-13 15:21:53 INFO] sub-figure title: May\n",
      "\u001b[33m[2025-08-13 15:21:53 WARNING] CPLE_AppDefined in PROJ: internal_proj_create_from_database: /opt/homebrew/anaconda3/envs/nmw-test/share/proj/proj.db contains DATABASE.LAYOUT.VERSION.MINOR = 2 whereas a number >= 3 is expected. It comes from another PROJ installation.\u001b[0m\n",
      "****** GEN MONTH ***** 6 2023\n",
      "[2025-08-13 15:21:53 INFO] rendering month: 6 sub-figure: 5\n",
      "[2025-08-13 15:21:53 INFO] sub-figure title: June\n",
      "\u001b[33m[2025-08-13 15:21:53 WARNING] CPLE_AppDefined in PROJ: internal_proj_create_from_database: /opt/homebrew/anaconda3/envs/nmw-test/share/proj/proj.db contains DATABASE.LAYOUT.VERSION.MINOR = 2 whereas a number >= 3 is expected. It comes from another PROJ installation.\u001b[0m\n",
      "****** GEN MONTH ***** 7 2023\n",
      "[2025-08-13 15:21:53 INFO] rendering month: 7 sub-figure: 6\n",
      "[2025-08-13 15:21:53 INFO] sub-figure title: July\n",
      "\u001b[33m[2025-08-13 15:21:53 WARNING] CPLE_AppDefined in PROJ: internal_proj_create_from_database: /opt/homebrew/anaconda3/envs/nmw-test/share/proj/proj.db contains DATABASE.LAYOUT.VERSION.MINOR = 2 whereas a number >= 3 is expected. It comes from another PROJ installation.\u001b[0m\n",
      "****** GEN MONTH ***** 8 2023\n",
      "[2025-08-13 15:21:53 INFO] rendering month: 8 sub-figure: 7\n",
      "[2025-08-13 15:21:53 INFO] sub-figure title: August\n",
      "\u001b[33m[2025-08-13 15:21:53 WARNING] CPLE_AppDefined in PROJ: internal_proj_create_from_database: /opt/homebrew/anaconda3/envs/nmw-test/share/proj/proj.db contains DATABASE.LAYOUT.VERSION.MINOR = 2 whereas a number >= 3 is expected. It comes from another PROJ installation.\u001b[0m\n",
      "****** GEN MONTH ***** 9 2023\n",
      "[2025-08-13 15:21:53 INFO] rendering month: 9 sub-figure: 8\n",
      "[2025-08-13 15:21:53 INFO] sub-figure title: September\n",
      "\u001b[33m[2025-08-13 15:21:53 WARNING] CPLE_AppDefined in PROJ: internal_proj_create_from_database: /opt/homebrew/anaconda3/envs/nmw-test/share/proj/proj.db contains DATABASE.LAYOUT.VERSION.MINOR = 2 whereas a number >= 3 is expected. It comes from another PROJ installation.\u001b[0m\n",
      "****** GEN MONTH ***** 10 2023\n",
      "[2025-08-13 15:21:53 INFO] rendering month: 10 sub-figure: 9\n",
      "[2025-08-13 15:21:53 INFO] sub-figure title: October\n",
      "\u001b[33m[2025-08-13 15:21:53 WARNING] CPLE_AppDefined in PROJ: internal_proj_create_from_database: /opt/homebrew/anaconda3/envs/nmw-test/share/proj/proj.db contains DATABASE.LAYOUT.VERSION.MINOR = 2 whereas a number >= 3 is expected. It comes from another PROJ installation.\u001b[0m\n",
      "****** GEN MONTH ***** 11 2023\n",
      "[2025-08-13 15:21:53 INFO] rendering month: 11 sub-figure: 10\n",
      "[2025-08-13 15:21:53 INFO] sub-figure title: November\n",
      "\u001b[33m[2025-08-13 15:21:53 WARNING] CPLE_AppDefined in PROJ: internal_proj_create_from_database: /opt/homebrew/anaconda3/envs/nmw-test/share/proj/proj.db contains DATABASE.LAYOUT.VERSION.MINOR = 2 whereas a number >= 3 is expected. It comes from another PROJ installation.\u001b[0m\n",
      "****** GEN MONTH ***** 12 2023\n",
      "[2025-08-13 15:21:53 INFO] rendering month: 12 sub-figure: 11\n",
      "[2025-08-13 15:21:53 INFO] sub-figure title: December\n",
      "\u001b[33m[2025-08-13 15:21:53 WARNING] CPLE_AppDefined in PROJ: internal_proj_create_from_database: /opt/homebrew/anaconda3/envs/nmw-test/share/proj/proj.db contains DATABASE.LAYOUT.VERSION.MINOR = 2 whereas a number >= 3 is expected. It comes from another PROJ installation.\u001b[0m\n",
      "[2025-08-13 15:21:53 INFO] Correcting ETo based on ET for year 2023 (ET < ETo)\n",
      "[2025-08-13 15:21:53 INFO] generate_figure end time:1521\n",
      "\n",
      "[2025-08-13 15:21:53 INFO] Saving figure to /Users/rstonebr/data/water_rights_runs/03479_2023_2023_1755108445534/output/figures/03479/2023_03479.png\n",
      "\n"
     ]
    },
    {
     "name": "stderr",
     "output_type": "stream",
     "text": [
      "/Users/rstonebr/Documents/Programming/Water-Rights-Visualizer/water_rights_visualizer/generate_figure.py:504: UserWarning: This figure includes Axes that are not compatible with tight_layout, so results might be incorrect.\n",
      "  plt.tight_layout()\n"
     ]
    },
    {
     "name": "stdout",
     "output_type": "stream",
     "text": [
      "[2025-08-13 15:21:54 INFO] finished display_image_tk\n",
      "[2025-08-13 15:21:54 INFO] finished generating figure\n",
      "[2025-08-13 15:21:54 INFO] generating figure for year 2023 ROI 03479 units: <water_rights_visualizer.plotting_helpers.ImperialETUnit object at 0x34147b280>\n",
      "****** GEN MONTH ***** 1 2023\n",
      "[2025-08-13 15:21:54 INFO] rendering month: 1 sub-figure: 0\n",
      "[2025-08-13 15:21:54 INFO] sub-figure title: January\n",
      "\u001b[33m[2025-08-13 15:21:54 WARNING] CPLE_AppDefined in PROJ: internal_proj_create_from_database: /opt/homebrew/anaconda3/envs/nmw-test/share/proj/proj.db contains DATABASE.LAYOUT.VERSION.MINOR = 2 whereas a number >= 3 is expected. It comes from another PROJ installation.\u001b[0m\n",
      "****** GEN MONTH ***** 2 2023\n",
      "[2025-08-13 15:21:54 INFO] rendering month: 2 sub-figure: 1\n",
      "[2025-08-13 15:21:54 INFO] sub-figure title: February\n",
      "\u001b[33m[2025-08-13 15:21:54 WARNING] CPLE_AppDefined in PROJ: internal_proj_create_from_database: /opt/homebrew/anaconda3/envs/nmw-test/share/proj/proj.db contains DATABASE.LAYOUT.VERSION.MINOR = 2 whereas a number >= 3 is expected. It comes from another PROJ installation.\u001b[0m\n",
      "****** GEN MONTH ***** 3 2023\n",
      "[2025-08-13 15:21:54 INFO] rendering month: 3 sub-figure: 2\n",
      "[2025-08-13 15:21:54 INFO] sub-figure title: March\n",
      "\u001b[33m[2025-08-13 15:21:54 WARNING] CPLE_AppDefined in PROJ: internal_proj_create_from_database: /opt/homebrew/anaconda3/envs/nmw-test/share/proj/proj.db contains DATABASE.LAYOUT.VERSION.MINOR = 2 whereas a number >= 3 is expected. It comes from another PROJ installation.\u001b[0m\n",
      "****** GEN MONTH ***** 4 2023\n",
      "[2025-08-13 15:21:54 INFO] rendering month: 4 sub-figure: 3\n",
      "[2025-08-13 15:21:54 INFO] sub-figure title: April\n",
      "\u001b[33m[2025-08-13 15:21:54 WARNING] CPLE_AppDefined in PROJ: internal_proj_create_from_database: /opt/homebrew/anaconda3/envs/nmw-test/share/proj/proj.db contains DATABASE.LAYOUT.VERSION.MINOR = 2 whereas a number >= 3 is expected. It comes from another PROJ installation.\u001b[0m\n",
      "****** GEN MONTH ***** 5 2023\n",
      "[2025-08-13 15:21:54 INFO] rendering month: 5 sub-figure: 4\n",
      "[2025-08-13 15:21:54 INFO] sub-figure title: May\n",
      "\u001b[33m[2025-08-13 15:21:54 WARNING] CPLE_AppDefined in PROJ: internal_proj_create_from_database: /opt/homebrew/anaconda3/envs/nmw-test/share/proj/proj.db contains DATABASE.LAYOUT.VERSION.MINOR = 2 whereas a number >= 3 is expected. It comes from another PROJ installation.\u001b[0m\n",
      "****** GEN MONTH ***** 6 2023\n",
      "[2025-08-13 15:21:54 INFO] rendering month: 6 sub-figure: 5\n",
      "[2025-08-13 15:21:54 INFO] sub-figure title: June\n",
      "\u001b[33m[2025-08-13 15:21:54 WARNING] CPLE_AppDefined in PROJ: internal_proj_create_from_database: /opt/homebrew/anaconda3/envs/nmw-test/share/proj/proj.db contains DATABASE.LAYOUT.VERSION.MINOR = 2 whereas a number >= 3 is expected. It comes from another PROJ installation.\u001b[0m\n",
      "****** GEN MONTH ***** 7 2023\n",
      "[2025-08-13 15:21:54 INFO] rendering month: 7 sub-figure: 6\n",
      "[2025-08-13 15:21:54 INFO] sub-figure title: July\n",
      "\u001b[33m[2025-08-13 15:21:54 WARNING] CPLE_AppDefined in PROJ: internal_proj_create_from_database: /opt/homebrew/anaconda3/envs/nmw-test/share/proj/proj.db contains DATABASE.LAYOUT.VERSION.MINOR = 2 whereas a number >= 3 is expected. It comes from another PROJ installation.\u001b[0m\n",
      "****** GEN MONTH ***** 8 2023\n",
      "[2025-08-13 15:21:54 INFO] rendering month: 8 sub-figure: 7\n",
      "[2025-08-13 15:21:54 INFO] sub-figure title: August\n",
      "\u001b[33m[2025-08-13 15:21:54 WARNING] CPLE_AppDefined in PROJ: internal_proj_create_from_database: /opt/homebrew/anaconda3/envs/nmw-test/share/proj/proj.db contains DATABASE.LAYOUT.VERSION.MINOR = 2 whereas a number >= 3 is expected. It comes from another PROJ installation.\u001b[0m\n",
      "****** GEN MONTH ***** 9 2023\n",
      "[2025-08-13 15:21:54 INFO] rendering month: 9 sub-figure: 8\n",
      "[2025-08-13 15:21:54 INFO] sub-figure title: September\n",
      "\u001b[33m[2025-08-13 15:21:54 WARNING] CPLE_AppDefined in PROJ: internal_proj_create_from_database: /opt/homebrew/anaconda3/envs/nmw-test/share/proj/proj.db contains DATABASE.LAYOUT.VERSION.MINOR = 2 whereas a number >= 3 is expected. It comes from another PROJ installation.\u001b[0m\n",
      "****** GEN MONTH ***** 10 2023\n",
      "[2025-08-13 15:21:54 INFO] rendering month: 10 sub-figure: 9\n",
      "[2025-08-13 15:21:54 INFO] sub-figure title: October\n",
      "\u001b[33m[2025-08-13 15:21:54 WARNING] CPLE_AppDefined in PROJ: internal_proj_create_from_database: /opt/homebrew/anaconda3/envs/nmw-test/share/proj/proj.db contains DATABASE.LAYOUT.VERSION.MINOR = 2 whereas a number >= 3 is expected. It comes from another PROJ installation.\u001b[0m\n",
      "****** GEN MONTH ***** 11 2023\n",
      "[2025-08-13 15:21:54 INFO] rendering month: 11 sub-figure: 10\n",
      "[2025-08-13 15:21:54 INFO] sub-figure title: November\n",
      "\u001b[33m[2025-08-13 15:21:54 WARNING] CPLE_AppDefined in PROJ: internal_proj_create_from_database: /opt/homebrew/anaconda3/envs/nmw-test/share/proj/proj.db contains DATABASE.LAYOUT.VERSION.MINOR = 2 whereas a number >= 3 is expected. It comes from another PROJ installation.\u001b[0m\n",
      "****** GEN MONTH ***** 12 2023\n",
      "[2025-08-13 15:21:54 INFO] rendering month: 12 sub-figure: 11\n",
      "[2025-08-13 15:21:54 INFO] sub-figure title: December\n",
      "\u001b[33m[2025-08-13 15:21:54 WARNING] CPLE_AppDefined in PROJ: internal_proj_create_from_database: /opt/homebrew/anaconda3/envs/nmw-test/share/proj/proj.db contains DATABASE.LAYOUT.VERSION.MINOR = 2 whereas a number >= 3 is expected. It comes from another PROJ installation.\u001b[0m\n",
      "[2025-08-13 15:21:54 INFO] Correcting ETo based on ET for year 2023 (ET < ETo)\n",
      "[2025-08-13 15:21:54 INFO] generate_figure end time:1521\n",
      "\n",
      "[2025-08-13 15:21:54 INFO] Saving figure to /Users/rstonebr/data/water_rights_runs/03479_2023_2023_1755108445534/output/figures/03479/2023_03479_in.png\n",
      "\n"
     ]
    },
    {
     "name": "stderr",
     "output_type": "stream",
     "text": [
      "/Users/rstonebr/Documents/Programming/Water-Rights-Visualizer/water_rights_visualizer/generate_figure.py:504: UserWarning: This figure includes Axes that are not compatible with tight_layout, so results might be incorrect.\n",
      "  plt.tight_layout()\n"
     ]
    },
    {
     "name": "stdout",
     "output_type": "stream",
     "text": [
      "[2025-08-13 15:21:55 INFO] finished display_image_tk\n",
      "[2025-08-13 15:21:55 INFO] finished generating figure\n",
      "[2025-08-13 15:21:55 INFO] generating figure for year 2023 ROI 03479 units: <water_rights_visualizer.plotting_helpers.AcreFeetETUnit object at 0x34147a2f0>\n",
      "****** GEN MONTH ***** 1 2023\n",
      "[2025-08-13 15:21:55 INFO] rendering month: 1 sub-figure: 0\n",
      "[2025-08-13 15:21:55 INFO] sub-figure title: January\n",
      "\u001b[33m[2025-08-13 15:21:55 WARNING] CPLE_AppDefined in PROJ: internal_proj_create_from_database: /opt/homebrew/anaconda3/envs/nmw-test/share/proj/proj.db contains DATABASE.LAYOUT.VERSION.MINOR = 2 whereas a number >= 3 is expected. It comes from another PROJ installation.\u001b[0m\n",
      "****** GEN MONTH ***** 2 2023\n",
      "[2025-08-13 15:21:55 INFO] rendering month: 2 sub-figure: 1\n",
      "[2025-08-13 15:21:55 INFO] sub-figure title: February\n",
      "\u001b[33m[2025-08-13 15:21:55 WARNING] CPLE_AppDefined in PROJ: internal_proj_create_from_database: /opt/homebrew/anaconda3/envs/nmw-test/share/proj/proj.db contains DATABASE.LAYOUT.VERSION.MINOR = 2 whereas a number >= 3 is expected. It comes from another PROJ installation.\u001b[0m\n",
      "****** GEN MONTH ***** 3 2023\n",
      "[2025-08-13 15:21:55 INFO] rendering month: 3 sub-figure: 2\n",
      "[2025-08-13 15:21:55 INFO] sub-figure title: March\n",
      "\u001b[33m[2025-08-13 15:21:55 WARNING] CPLE_AppDefined in PROJ: internal_proj_create_from_database: /opt/homebrew/anaconda3/envs/nmw-test/share/proj/proj.db contains DATABASE.LAYOUT.VERSION.MINOR = 2 whereas a number >= 3 is expected. It comes from another PROJ installation.\u001b[0m\n",
      "****** GEN MONTH ***** 4 2023\n",
      "[2025-08-13 15:21:55 INFO] rendering month: 4 sub-figure: 3\n",
      "[2025-08-13 15:21:55 INFO] sub-figure title: April\n",
      "\u001b[33m[2025-08-13 15:21:55 WARNING] CPLE_AppDefined in PROJ: internal_proj_create_from_database: /opt/homebrew/anaconda3/envs/nmw-test/share/proj/proj.db contains DATABASE.LAYOUT.VERSION.MINOR = 2 whereas a number >= 3 is expected. It comes from another PROJ installation.\u001b[0m\n",
      "****** GEN MONTH ***** 5 2023\n",
      "[2025-08-13 15:21:55 INFO] rendering month: 5 sub-figure: 4\n",
      "[2025-08-13 15:21:55 INFO] sub-figure title: May\n",
      "\u001b[33m[2025-08-13 15:21:55 WARNING] CPLE_AppDefined in PROJ: internal_proj_create_from_database: /opt/homebrew/anaconda3/envs/nmw-test/share/proj/proj.db contains DATABASE.LAYOUT.VERSION.MINOR = 2 whereas a number >= 3 is expected. It comes from another PROJ installation.\u001b[0m\n",
      "****** GEN MONTH ***** 6 2023\n",
      "[2025-08-13 15:21:55 INFO] rendering month: 6 sub-figure: 5\n",
      "[2025-08-13 15:21:55 INFO] sub-figure title: June\n",
      "\u001b[33m[2025-08-13 15:21:55 WARNING] CPLE_AppDefined in PROJ: internal_proj_create_from_database: /opt/homebrew/anaconda3/envs/nmw-test/share/proj/proj.db contains DATABASE.LAYOUT.VERSION.MINOR = 2 whereas a number >= 3 is expected. It comes from another PROJ installation.\u001b[0m\n",
      "****** GEN MONTH ***** 7 2023\n",
      "[2025-08-13 15:21:55 INFO] rendering month: 7 sub-figure: 6\n",
      "[2025-08-13 15:21:55 INFO] sub-figure title: July\n",
      "\u001b[33m[2025-08-13 15:21:55 WARNING] CPLE_AppDefined in PROJ: internal_proj_create_from_database: /opt/homebrew/anaconda3/envs/nmw-test/share/proj/proj.db contains DATABASE.LAYOUT.VERSION.MINOR = 2 whereas a number >= 3 is expected. It comes from another PROJ installation.\u001b[0m\n",
      "****** GEN MONTH ***** 8 2023\n",
      "[2025-08-13 15:21:55 INFO] rendering month: 8 sub-figure: 7\n",
      "[2025-08-13 15:21:55 INFO] sub-figure title: August\n",
      "\u001b[33m[2025-08-13 15:21:55 WARNING] CPLE_AppDefined in PROJ: internal_proj_create_from_database: /opt/homebrew/anaconda3/envs/nmw-test/share/proj/proj.db contains DATABASE.LAYOUT.VERSION.MINOR = 2 whereas a number >= 3 is expected. It comes from another PROJ installation.\u001b[0m\n",
      "****** GEN MONTH ***** 9 2023\n",
      "[2025-08-13 15:21:56 INFO] rendering month: 9 sub-figure: 8\n",
      "[2025-08-13 15:21:56 INFO] sub-figure title: September\n",
      "\u001b[33m[2025-08-13 15:21:56 WARNING] CPLE_AppDefined in PROJ: internal_proj_create_from_database: /opt/homebrew/anaconda3/envs/nmw-test/share/proj/proj.db contains DATABASE.LAYOUT.VERSION.MINOR = 2 whereas a number >= 3 is expected. It comes from another PROJ installation.\u001b[0m\n",
      "****** GEN MONTH ***** 10 2023\n",
      "[2025-08-13 15:21:56 INFO] rendering month: 10 sub-figure: 9\n",
      "[2025-08-13 15:21:56 INFO] sub-figure title: October\n",
      "\u001b[33m[2025-08-13 15:21:56 WARNING] CPLE_AppDefined in PROJ: internal_proj_create_from_database: /opt/homebrew/anaconda3/envs/nmw-test/share/proj/proj.db contains DATABASE.LAYOUT.VERSION.MINOR = 2 whereas a number >= 3 is expected. It comes from another PROJ installation.\u001b[0m\n",
      "****** GEN MONTH ***** 11 2023\n",
      "[2025-08-13 15:21:56 INFO] rendering month: 11 sub-figure: 10\n",
      "[2025-08-13 15:21:56 INFO] sub-figure title: November\n",
      "\u001b[33m[2025-08-13 15:21:56 WARNING] CPLE_AppDefined in PROJ: internal_proj_create_from_database: /opt/homebrew/anaconda3/envs/nmw-test/share/proj/proj.db contains DATABASE.LAYOUT.VERSION.MINOR = 2 whereas a number >= 3 is expected. It comes from another PROJ installation.\u001b[0m\n",
      "****** GEN MONTH ***** 12 2023\n",
      "[2025-08-13 15:21:56 INFO] rendering month: 12 sub-figure: 11\n",
      "[2025-08-13 15:21:56 INFO] sub-figure title: December\n",
      "\u001b[33m[2025-08-13 15:21:56 WARNING] CPLE_AppDefined in PROJ: internal_proj_create_from_database: /opt/homebrew/anaconda3/envs/nmw-test/share/proj/proj.db contains DATABASE.LAYOUT.VERSION.MINOR = 2 whereas a number >= 3 is expected. It comes from another PROJ installation.\u001b[0m\n",
      "[2025-08-13 15:21:56 INFO] Correcting ETo based on ET for year 2023 (ET < ETo)\n",
      "[2025-08-13 15:21:56 INFO] generate_figure end time:1521\n",
      "\n",
      "[2025-08-13 15:21:56 INFO] Saving figure to /Users/rstonebr/data/water_rights_runs/03479_2023_2023_1755108445534/output/figures/03479/2023_03479_AF.png\n",
      "\n"
     ]
    },
    {
     "name": "stderr",
     "output_type": "stream",
     "text": [
      "/Users/rstonebr/Documents/Programming/Water-Rights-Visualizer/water_rights_visualizer/generate_figure.py:504: UserWarning: This figure includes Axes that are not compatible with tight_layout, so results might be incorrect.\n",
      "  plt.tight_layout()\n"
     ]
    },
    {
     "name": "stdout",
     "output_type": "stream",
     "text": [
      "[2025-08-13 15:21:56 INFO] finished display_image_tk\n",
      "[2025-08-13 15:21:56 INFO] finished generating figure\n",
      "[2025-08-13 15:21:56 INFO] generating summary figure for ROI 03479 units: <water_rights_visualizer.plotting_helpers.MetricETUnit object at 0x33c5f7b80>\n",
      "[2025-08-13 15:21:56 INFO] Correcting ETo based on ET for years after 2008\n",
      "[2025-08-13 15:21:56 INFO] Saving summary figure to /Users/rstonebr/data/water_rights_runs/03479_2023_2023_1755108445534/output/figures/03479/summary_03479.png\n",
      "\n"
     ]
    },
    {
     "name": "stderr",
     "output_type": "stream",
     "text": [
      "/Users/rstonebr/Documents/Programming/Water-Rights-Visualizer/water_rights_visualizer/summary_figure_generator.py:421: UserWarning: This figure includes Axes that are not compatible with tight_layout, so results might be incorrect.\n",
      "  plt.tight_layout()\n"
     ]
    },
    {
     "name": "stdout",
     "output_type": "stream",
     "text": [
      "[2025-08-13 15:21:57 INFO] finished generating summary figure\n",
      "[2025-08-13 15:21:57 INFO] generating summary figure for ROI 03479 units: <water_rights_visualizer.plotting_helpers.ImperialETUnit object at 0x343589270>\n",
      "[2025-08-13 15:21:57 INFO] Correcting ETo based on ET for years after 2008\n",
      "[2025-08-13 15:21:57 INFO] Saving summary figure to /Users/rstonebr/data/water_rights_runs/03479_2023_2023_1755108445534/output/figures/03479/summary_03479_in.png\n",
      "\n"
     ]
    },
    {
     "name": "stderr",
     "output_type": "stream",
     "text": [
      "/Users/rstonebr/Documents/Programming/Water-Rights-Visualizer/water_rights_visualizer/summary_figure_generator.py:421: UserWarning: This figure includes Axes that are not compatible with tight_layout, so results might be incorrect.\n",
      "  plt.tight_layout()\n"
     ]
    },
    {
     "name": "stdout",
     "output_type": "stream",
     "text": [
      "[2025-08-13 15:21:58 INFO] finished generating summary figure\n",
      "[2025-08-13 15:21:58 INFO] generating summary figure for ROI 03479 units: <water_rights_visualizer.plotting_helpers.AcreFeetETUnit object at 0x3436c7550>\n",
      "[2025-08-13 15:21:58 INFO] Correcting ETo based on ET for years after 2008\n",
      "[2025-08-13 15:21:58 INFO] Saving summary figure to /Users/rstonebr/data/water_rights_runs/03479_2023_2023_1755108445534/output/figures/03479/summary_03479_AF.png\n",
      "\n"
     ]
    },
    {
     "name": "stderr",
     "output_type": "stream",
     "text": [
      "/Users/rstonebr/Documents/Programming/Water-Rights-Visualizer/water_rights_visualizer/summary_figure_generator.py:421: UserWarning: This figure includes Axes that are not compatible with tight_layout, so results might be incorrect.\n",
      "  plt.tight_layout()\n"
     ]
    },
    {
     "name": "stdout",
     "output_type": "stream",
     "text": [
      "[2025-08-13 15:21:59 INFO] finished generating summary figure\n"
     ]
    },
    {
     "name": "stderr",
     "output_type": "stream",
     "text": [
      "/Users/rstonebr/Documents/Programming/Water-Rights-Visualizer/water_rights_visualizer/pdf_report_generator.py:69: UserWarning: This figure includes Axes that are not compatible with tight_layout, so results might be incorrect.\n",
      "  pdf.savefig(fig, bbox_inches=\"tight\", pad_inches=0)\n",
      "/Users/rstonebr/Documents/Programming/Water-Rights-Visualizer/water_rights_visualizer/pdf_report_generator.py:84: UserWarning: This figure includes Axes that are not compatible with tight_layout, so results might be incorrect.\n",
      "  pdf.savefig(fig, bbox_inches=\"tight\", pad_inches=0)\n"
     ]
    },
    {
     "name": "stdout",
     "output_type": "stream",
     "text": [
      "[2025-08-13 15:21:59 INFO] metric report saved to /Users/rstonebr/data/water_rights_runs/03479_2023_2023_1755108445534/output/figures/03479/03479_Report.pdf\n",
      "\n",
      "[2025-08-13 15:22:00 INFO] imperial report saved to /Users/rstonebr/data/water_rights_runs/03479_2023_2023_1755108445534/output/figures/03479/03479_Imperial_Report.pdf\n",
      "\n",
      "[2025-08-13 15:22:01 INFO] acre-feet report saved to /Users/rstonebr/data/water_rights_runs/03479_2023_2023_1755108445534/output/figures/03479/03479_AF_Report.pdf\n",
      "\n"
     ]
    }
   ],
   "source": [
    "%load_ext autoreload\n",
    "%autoreload 2\n",
    "\n",
    "config_filepath = os.path.expanduser(\"~/data/water_rights_runs/03479_2023_2023_1755108445534/config.json\")\n",
    "config = json.load(open(config_filepath, \"r\"))\n",
    "\n",
    "temporary_directory = os.path.expanduser(\"~/data/temp\")\n",
    "\n",
    "name = config[\"name\"]\n",
    "logger.info(f\"name: {name}\")\n",
    "start_year = int(config[\"start_year\"])\n",
    "logger.info(f\"start year: {start_year}\")\n",
    "end_year = int(config[\"end_year\"])\n",
    "logger.info(f\"end year: {end_year}\")\n",
    "working_directory = config[\"working_directory\"]\n",
    "logger.info(f\"working directory: {working_directory}\")\n",
    "geojson_filename = config[\"geojson_filename\"]\n",
    "logger.info(f\"GeoJSON file: {geojson_filename}\")\n",
    "status_filename = config[\"status_filename\"]\n",
    "logger.info(f\"status file: {status_filename}\")\n",
    "\n",
    "start_year = 2023\n",
    "end_year = 2023\n",
    "\n",
    "temporary_directory = join(working_directory, \"temp\")\n",
    "output_directory = join(working_directory, \"output\")\n",
    "\n",
    "input_datastore = S3Source(\n",
    "    bucket_name=\"ose-dev-inputs\",\n",
    "    region_name=\"us-west-2\",\n",
    "    temporary_directory=temporary_directory,\n",
    "    remove_temporary_files=False,\n",
    "    aws_profile=\"ose-nmw\",\n",
    ")\n",
    "\n",
    "# Uncomment to remove the output on each run\n",
    "# if exists(output_directory):\n",
    "#     shutil.rmtree(output_directory)\n",
    "\n",
    "record = report_queue.find_one({\"key\": config[\"key\"]}) or {}\n",
    "water_rights_visualizer(\n",
    "    boundary_filename=geojson_filename,\n",
    "    input_datastore=input_datastore,\n",
    "    output_directory=output_directory,\n",
    "    start_year=start_year,\n",
    "    end_year=end_year,\n",
    "    requestor=record.get(\"user\", {\"sub\": \"\", \"name\": \"\", \"email\": \"\"}),\n",
    "    use_stack=True,\n",
    ")"
   ]
  }
 ],
 "metadata": {
  "kernelspec": {
   "display_name": "nmw-test",
   "language": "python",
   "name": "python3"
  },
  "language_info": {
   "codemirror_mode": {
    "name": "ipython",
    "version": 3
   },
   "file_extension": ".py",
   "mimetype": "text/x-python",
   "name": "python",
   "nbconvert_exporter": "python",
   "pygments_lexer": "ipython3",
   "version": "3.10.14"
  }
 },
 "nbformat": 4,
 "nbformat_minor": 5
}
